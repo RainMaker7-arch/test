{
  "nbformat": 4,
  "nbformat_minor": 0,
  "metadata": {
    "colab": {
      "provenance": [],
      "toc_visible": true,
      "collapsed_sections": [
        "dBXeAkW0kEXQ",
        "ER1dy1ZDhvNb",
        "Vc9Rgk_zib78",
        "GqaqYyEQ5HEn",
        "1KFgeQeZ6X7S",
        "WZPBZ21W66DF",
        "qK1BU6nO7w5Z",
        "gnS4FpHe8Hf4",
        "_yswMAIn9RUt",
        "bSeIDnIZ-ExQ",
        "R6UQdWrq-jjB",
        "snd0pB2A_0cR",
        "bG0RbWWZArjt",
        "cpNRlrRwfwkr",
        "4-5RXz-ld1KV",
        "sT82US5mgrE7",
        "fPwZ8cE2h-gr",
        "D-W_6HEAkiyr",
        "veEPTwsfp9Ep",
        "aR0TXIXmtcdj",
        "eZceyNx8u6ay",
        "Q70qXXZjw5M6",
        "ITiXuxysxVWp",
        "Hz7KQdZBzBdr",
        "b3SlASG33BBR",
        "EyNBuhU6e_ES",
        "YmRfzOBPiX2_",
        "e2Fj6YDrjozZ",
        "-v-YTzkqkoBR",
        "f-w6EIzBmcTy",
        "CiBPN7vQr48w",
        "MR1YxurXshZn",
        "Txf2vMU2uq9-",
        "0u6m0JGmwTZ_",
        "UH4aD-n2zIG9",
        "d1ruRmcc5eWW",
        "kKBKn7V95h6R",
        "SyRStvBu7LUc",
        "FR4NmkUW9h2h",
        "H-w1fYstnpj9",
        "TxadrEXgnwgv",
        "Gk5vLtx5_lFE",
        "3gU7SCg5Bmhl",
        "VXD86rdYCVpQ",
        "bkxrBtr6pqBT",
        "atU1PY5mqwnf",
        "ANhiEyNxvKLI",
        "BeVBhugvvp4Q",
        "upL694jMwv4R",
        "KEMcFVqnyNlB",
        "1B3Afy7R2gyL"
      ]
    },
    "kernelspec": {
      "name": "python3",
      "display_name": "Python 3"
    },
    "language_info": {
      "name": "python"
    }
  },
  "cells": [
    {
      "cell_type": "markdown",
      "source": [
        "# **2-1**"
      ],
      "metadata": {
        "id": "oVUgCHUzf4Q0"
      }
    },
    {
      "cell_type": "code",
      "source": [
        "if 4 in [1,2,3,4] : print(\"4가 있습니다\")"
      ],
      "metadata": {
        "id": "eAR72J-UT8P_",
        "colab": {
          "base_uri": "https://localhost:8080/"
        },
        "outputId": "9ddc2b0d-3e47-42b0-df3a-5674b4a399ed"
      },
      "execution_count": null,
      "outputs": [
        {
          "output_type": "stream",
          "name": "stdout",
          "text": [
            "4가 있습니다\n"
          ]
        }
      ]
    },
    {
      "cell_type": "code",
      "source": [
        "3/2.4"
      ],
      "metadata": {
        "colab": {
          "base_uri": "https://localhost:8080/"
        },
        "id": "IEWP-V8IXI5I",
        "outputId": "6ca7142c-100c-4c19-f02a-233dbf83450d"
      },
      "execution_count": null,
      "outputs": [
        {
          "output_type": "execute_result",
          "data": {
            "text/plain": [
              "1.25"
            ]
          },
          "metadata": {},
          "execution_count": 17
        }
      ]
    },
    {
      "cell_type": "code",
      "source": [
        "3 * 9"
      ],
      "metadata": {
        "colab": {
          "base_uri": "https://localhost:8080/"
        },
        "id": "LWc8VG7cXSRV",
        "outputId": "7b1acc18-859a-46d0-8bc7-80786ff0deb1"
      },
      "execution_count": null,
      "outputs": [
        {
          "output_type": "execute_result",
          "data": {
            "text/plain": [
              "27"
            ]
          },
          "metadata": {},
          "execution_count": 18
        }
      ]
    },
    {
      "cell_type": "markdown",
      "source": [
        "### **제목**\n",
        "\n",
        "1.   프로그래밍 언어에서 = 기호는 수학에서의 = 기호 다르다.\n",
        "2.   프로그래밍 언어에서 = 기호는 대입의 의미이다.\n",
        "\n"
      ],
      "metadata": {
        "id": "rl5Gk0kaYiqW"
      }
    },
    {
      "cell_type": "code",
      "source": [
        "a = 3\n",
        "b = 5\n",
        "c = a+b\n",
        "print(c)"
      ],
      "metadata": {
        "colab": {
          "base_uri": "https://localhost:8080/"
        },
        "id": "9JpJ6nplXWE9",
        "outputId": "1c68e55a-e950-4d1e-f1e7-53e0ab1df889"
      },
      "execution_count": null,
      "outputs": [
        {
          "output_type": "stream",
          "name": "stdout",
          "text": [
            "8\n"
          ]
        }
      ]
    },
    {
      "cell_type": "code",
      "source": [
        "a = \"python\"\n",
        "print(a)"
      ],
      "metadata": {
        "colab": {
          "base_uri": "https://localhost:8080/"
        },
        "id": "Q9jdN4Zcae0F",
        "outputId": "f0479896-5c57-4806-c7e2-e6637b1323b0"
      },
      "execution_count": null,
      "outputs": [
        {
          "output_type": "stream",
          "name": "stdout",
          "text": [
            "python\n"
          ]
        }
      ]
    },
    {
      "cell_type": "markdown",
      "source": [
        "### **조건문 if**"
      ],
      "metadata": {
        "id": "3vA7vgyDbRbJ"
      }
    },
    {
      "cell_type": "markdown",
      "source": [
        "**파이썬 에서는 프로그래밍 끝나지 않을때 마지막에  : 을 반드시 붙인다.**"
      ],
      "metadata": {
        "id": "vVJCB8bwbZ9F"
      }
    },
    {
      "cell_type": "code",
      "source": [
        "a = 3\n",
        "if a > 1 :\n",
        "  print(\"a is greater than 1\")"
      ],
      "metadata": {
        "colab": {
          "base_uri": "https://localhost:8080/"
        },
        "id": "ACGyIm7Ha3eb",
        "outputId": "77783864-f786-4989-d569-0e3ccfff3442"
      },
      "execution_count": null,
      "outputs": [
        {
          "output_type": "stream",
          "name": "stdout",
          "text": [
            "a is greater than 1\n"
          ]
        }
      ]
    },
    {
      "cell_type": "code",
      "source": [
        "# print 문은 내용을 화면에 출력하고자 할경우\n",
        "\n",
        "print (\"hello\")"
      ],
      "metadata": {
        "colab": {
          "base_uri": "https://localhost:8080/"
        },
        "id": "T0-hzGF-dWtA",
        "outputId": "a33dde6b-c55e-4965-802e-f058ae065f26"
      },
      "execution_count": null,
      "outputs": [
        {
          "output_type": "stream",
          "name": "stdout",
          "text": [
            "hello\n"
          ]
        }
      ]
    },
    {
      "cell_type": "code",
      "source": [
        "a = 5\n",
        "if a == 5 :\n",
        "  print(\" good\")"
      ],
      "metadata": {
        "colab": {
          "base_uri": "https://localhost:8080/"
        },
        "id": "RaB5URWueC0x",
        "outputId": "15774f66-ef98-47ab-b228-390499532f8b"
      },
      "execution_count": null,
      "outputs": [
        {
          "output_type": "stream",
          "name": "stdout",
          "text": [
            " good\n"
          ]
        }
      ]
    },
    {
      "cell_type": "markdown",
      "source": [
        "### **+ - * //**"
      ],
      "metadata": {
        "id": "YRRIJUCdgIsK"
      }
    },
    {
      "cell_type": "code",
      "source": [
        "# // 연산자는 나눗셈에서 몫을 계산해줌 \n",
        "5//2"
      ],
      "metadata": {
        "colab": {
          "base_uri": "https://localhost:8080/"
        },
        "id": "T5oyJEQLeoIj",
        "outputId": "4b3079d3-1336-40e8-e1e7-102606653c68"
      },
      "execution_count": null,
      "outputs": [
        {
          "output_type": "execute_result",
          "data": {
            "text/plain": [
              "2"
            ]
          },
          "metadata": {},
          "execution_count": 31
        }
      ]
    },
    {
      "cell_type": "code",
      "source": [
        "5 % 2"
      ],
      "metadata": {
        "colab": {
          "base_uri": "https://localhost:8080/"
        },
        "id": "WvwkDxA1ey2E",
        "outputId": "dff09738-f9fa-44fb-dd49-b9e31a82495b"
      },
      "execution_count": null,
      "outputs": [
        {
          "output_type": "execute_result",
          "data": {
            "text/plain": [
              "1"
            ]
          },
          "metadata": {},
          "execution_count": 32
        }
      ]
    },
    {
      "cell_type": "code",
      "source": [
        "2 ** 3 # 2 * 2 * 2"
      ],
      "metadata": {
        "colab": {
          "base_uri": "https://localhost:8080/"
        },
        "id": "6qgdEJqee2ez",
        "outputId": "bd38cc93-58f3-4499-cb76-131314314c0a"
      },
      "execution_count": null,
      "outputs": [
        {
          "output_type": "execute_result",
          "data": {
            "text/plain": [
              "8"
            ]
          },
          "metadata": {},
          "execution_count": 34
        }
      ]
    },
    {
      "cell_type": "code",
      "source": [
        "4.2 + 5"
      ],
      "metadata": {
        "colab": {
          "base_uri": "https://localhost:8080/"
        },
        "id": "Pb05-a6UfEUF",
        "outputId": "71f52707-4321-496b-b044-e1c02bc1257e"
      },
      "execution_count": null,
      "outputs": [
        {
          "output_type": "execute_result",
          "data": {
            "text/plain": [
              "9.2"
            ]
          },
          "metadata": {},
          "execution_count": 35
        }
      ]
    },
    {
      "cell_type": "code",
      "source": [
        "# float 는 실수 로 나타넴\n",
        "float(1+ 2)"
      ],
      "metadata": {
        "colab": {
          "base_uri": "https://localhost:8080/"
        },
        "id": "FIsO2kebfH6J",
        "outputId": "f08c57af-4a2f-407c-e800-bbf9247537bb"
      },
      "execution_count": null,
      "outputs": [
        {
          "output_type": "execute_result",
          "data": {
            "text/plain": [
              "3.0"
            ]
          },
          "metadata": {},
          "execution_count": 37
        }
      ]
    },
    {
      "cell_type": "code",
      "source": [
        "int(5.0)"
      ],
      "metadata": {
        "colab": {
          "base_uri": "https://localhost:8080/"
        },
        "id": "gJSd7JFifrsd",
        "outputId": "1191901c-e67d-48d7-dfc6-b38b075ec70f"
      },
      "execution_count": null,
      "outputs": [
        {
          "output_type": "execute_result",
          "data": {
            "text/plain": [
              "5"
            ]
          },
          "metadata": {},
          "execution_count": 38
        }
      ]
    },
    {
      "cell_type": "code",
      "source": [
        "a = 5.0\n",
        "type(a)"
      ],
      "metadata": {
        "colab": {
          "base_uri": "https://localhost:8080/"
        },
        "id": "rTZB44wegOa9",
        "outputId": "2f4ab73a-6b75-49a9-859a-b61fc89ed969"
      },
      "execution_count": null,
      "outputs": [
        {
          "output_type": "execute_result",
          "data": {
            "text/plain": [
              "float"
            ]
          },
          "metadata": {},
          "execution_count": 39
        }
      ]
    },
    {
      "cell_type": "code",
      "source": [
        "a = 5\n",
        "type(a)"
      ],
      "metadata": {
        "colab": {
          "base_uri": "https://localhost:8080/"
        },
        "id": "aEU7YeprgVLU",
        "outputId": "bd0a09a4-f9f1-4c3c-e681-b57fa8109383"
      },
      "execution_count": null,
      "outputs": [
        {
          "output_type": "execute_result",
          "data": {
            "text/plain": [
              "int"
            ]
          },
          "metadata": {},
          "execution_count": 40
        }
      ]
    },
    {
      "cell_type": "code",
      "source": [
        "35 + (2 * 1)"
      ],
      "metadata": {
        "colab": {
          "base_uri": "https://localhost:8080/"
        },
        "id": "b80k5vTqgiQK",
        "outputId": "c4155d8a-17d3-4494-fe95-8a13d84c6ed7"
      },
      "execution_count": null,
      "outputs": [
        {
          "output_type": "execute_result",
          "data": {
            "text/plain": [
              "37"
            ]
          },
          "metadata": {},
          "execution_count": 42
        }
      ]
    },
    {
      "cell_type": "markdown",
      "source": [
        "변수 : 변하는 수\n",
        "\n",
        "\n",
        "*   영문자, 숫자\n",
        "*   대문자, 소문자 구분\n",
        "*   문자부터 시작해야한다 ,숫자로 시작하면 오류가 발생한다.\n",
        "*   _로 시작하는 것은 가능하다.\n",
        "     (_를 제외하곤 사용 불가능)+ - * / $@#\n",
        "\n",
        "\n",
        "\n",
        "\n",
        "\n",
        "\n"
      ],
      "metadata": {
        "id": "7ol_VSQmg2zQ"
      }
    },
    {
      "cell_type": "code",
      "source": [
        "_A = 10\n",
        "a = -5\n",
        "\n",
        "print(_A)\n",
        "print(a)"
      ],
      "metadata": {
        "colab": {
          "base_uri": "https://localhost:8080/"
        },
        "id": "GQwtiZzKg2ai",
        "outputId": "69171787-81fa-474e-daee-d438178a540f"
      },
      "execution_count": null,
      "outputs": [
        {
          "output_type": "stream",
          "name": "stdout",
          "text": [
            "10\n",
            "-5\n"
          ]
        }
      ]
    },
    {
      "cell_type": "code",
      "source": [
        "x = 1\n",
        "y = 2 \n",
        "z = 3\n",
        "\n",
        "a,b,c = 4,5,6\n",
        "k = l = m = 7\n",
        "print (a,b,c)\n",
        "print (k,l,m)"
      ],
      "metadata": {
        "colab": {
          "base_uri": "https://localhost:8080/"
        },
        "id": "84L2SHFsiI_r",
        "outputId": "6fdcfb50-4c9c-4f96-f9af-c94ec16c437e"
      },
      "execution_count": null,
      "outputs": [
        {
          "output_type": "stream",
          "name": "stdout",
          "text": [
            "4 5 6\n",
            "7 7 7\n"
          ]
        }
      ]
    },
    {
      "cell_type": "code",
      "source": [
        "del y\n",
        "print(y)"
      ],
      "metadata": {
        "colab": {
          "base_uri": "https://localhost:8080/",
          "height": 190
        },
        "id": "wU32EZIGid6k",
        "outputId": "48bbb809-17c8-443e-cf26-6170644a28ef"
      },
      "execution_count": null,
      "outputs": [
        {
          "output_type": "error",
          "ename": "NameError",
          "evalue": "ignored",
          "traceback": [
            "\u001b[0;31m---------------------------------------------------------------------------\u001b[0m",
            "\u001b[0;31mNameError\u001b[0m                                 Traceback (most recent call last)",
            "\u001b[0;32m<ipython-input-54-175577d196dc>\u001b[0m in \u001b[0;36m<module>\u001b[0;34m()\u001b[0m\n\u001b[1;32m      1\u001b[0m \u001b[0;32mdel\u001b[0m \u001b[0my\u001b[0m\u001b[0;34m\u001b[0m\u001b[0;34m\u001b[0m\u001b[0m\n\u001b[0;32m----> 2\u001b[0;31m \u001b[0mprint\u001b[0m\u001b[0;34m(\u001b[0m\u001b[0my\u001b[0m\u001b[0;34m)\u001b[0m\u001b[0;34m\u001b[0m\u001b[0;34m\u001b[0m\u001b[0m\n\u001b[0m",
            "\u001b[0;31mNameError\u001b[0m: name 'y' is not defined"
          ]
        }
      ]
    },
    {
      "cell_type": "code",
      "source": [
        "a = 10\n",
        "#a = a + 20\n",
        "\n",
        "a +=20\n",
        "a"
      ],
      "metadata": {
        "colab": {
          "base_uri": "https://localhost:8080/"
        },
        "id": "pj6i-zBri0Tq",
        "outputId": "110ee756-d665-4258-d30e-ed17988ccf24"
      },
      "execution_count": null,
      "outputs": [
        {
          "output_type": "execute_result",
          "data": {
            "text/plain": [
              "30"
            ]
          },
          "metadata": {},
          "execution_count": 55
        }
      ]
    },
    {
      "cell_type": "code",
      "source": [
        "x = 2\n",
        "x *=3\n",
        "x"
      ],
      "metadata": {
        "colab": {
          "base_uri": "https://localhost:8080/"
        },
        "id": "3yrq9cZdjnP9",
        "outputId": "ff572887-f625-472f-ac17-0d280677b024"
      },
      "execution_count": null,
      "outputs": [
        {
          "output_type": "execute_result",
          "data": {
            "text/plain": [
              "6"
            ]
          },
          "metadata": {},
          "execution_count": 56
        }
      ]
    },
    {
      "cell_type": "code",
      "source": [
        "x = 20\n",
        "\n",
        "x/=3 # x = x /3\n",
        "x"
      ],
      "metadata": {
        "colab": {
          "base_uri": "https://localhost:8080/"
        },
        "id": "RxYvjoyvjrVO",
        "outputId": "7a59fcf8-3fe3-4cc7-de88-ac1c4406e72c"
      },
      "execution_count": null,
      "outputs": [
        {
          "output_type": "execute_result",
          "data": {
            "text/plain": [
              "6.666666666666667"
            ]
          },
          "metadata": {},
          "execution_count": 60
        }
      ]
    },
    {
      "cell_type": "markdown",
      "source": [
        "### 출력 입력 input(입력 안내문)"
      ],
      "metadata": {
        "id": "dBXeAkW0kEXQ"
      }
    },
    {
      "cell_type": "code",
      "source": [
        "aa = int(input())"
      ],
      "metadata": {
        "colab": {
          "base_uri": "https://localhost:8080/"
        },
        "id": "2oTV9QJ9kDGl",
        "outputId": "fb0aa14b-7f54-4608-f930-215e9e36736d"
      },
      "execution_count": null,
      "outputs": [
        {
          "name": "stdout",
          "output_type": "stream",
          "text": [
            "33\n"
          ]
        }
      ]
    },
    {
      "cell_type": "code",
      "source": [
        "aa + 1"
      ],
      "metadata": {
        "colab": {
          "base_uri": "https://localhost:8080/"
        },
        "id": "geFYf4XUkzgx",
        "outputId": "24711172-89d7-4106-b9da-3037364adcb5"
      },
      "execution_count": null,
      "outputs": [
        {
          "output_type": "execute_result",
          "data": {
            "text/plain": [
              "34"
            ]
          },
          "metadata": {},
          "execution_count": 68
        }
      ]
    },
    {
      "cell_type": "code",
      "source": [
        "a = int( input(\"첫번째 숫자를 넣으세요\"))\n",
        "b = int( input(\"두번째 숫자를 넣으세요\"))\n",
        "\n",
        "c = a + b\n",
        "print(c)"
      ],
      "metadata": {
        "colab": {
          "base_uri": "https://localhost:8080/"
        },
        "id": "JErmkxPtlCPj",
        "outputId": "9cfda634-9602-4b1d-d370-38e616f5bd46"
      },
      "execution_count": null,
      "outputs": [
        {
          "output_type": "stream",
          "name": "stdout",
          "text": [
            "첫번째 숫자를 넣으세요1\n",
            "두번째 숫자를 넣으세요2\n",
            "3\n"
          ]
        }
      ]
    },
    {
      "cell_type": "code",
      "source": [
        "a = input(\"첫번째 숫자를 넣으세요\")\n",
        "b = input(\"두번째 숫자를 넣으세요\")\n",
        "\n",
        "c = a + b\n",
        "print(c)"
      ],
      "metadata": {
        "colab": {
          "base_uri": "https://localhost:8080/"
        },
        "id": "g6aOn0qOlziY",
        "outputId": "1a1744f7-b190-4f76-e850-f3cc489dd6e5"
      },
      "execution_count": null,
      "outputs": [
        {
          "output_type": "stream",
          "name": "stdout",
          "text": [
            "첫번째 숫자를 넣으세요2\n",
            "두번째 숫자를 넣으세요3\n",
            "23\n"
          ]
        }
      ]
    },
    {
      "cell_type": "code",
      "source": [
        "aa = int(input(\"값을 입력 하세요\"))\n",
        "aa + 5"
      ],
      "metadata": {
        "colab": {
          "base_uri": "https://localhost:8080/"
        },
        "id": "cMJbhN0smFB4",
        "outputId": "19734fc9-e281-4552-b54b-48feb9e48c79"
      },
      "execution_count": null,
      "outputs": [
        {
          "name": "stdout",
          "output_type": "stream",
          "text": [
            "값을 입력 하세요3\n"
          ]
        },
        {
          "output_type": "execute_result",
          "data": {
            "text/plain": [
              "8"
            ]
          },
          "metadata": {},
          "execution_count": 76
        }
      ]
    },
    {
      "cell_type": "code",
      "source": [
        "# map 함수\n",
        "\n",
        "a,b = map ( int , input('숫자 2개를 입력 하세요').split(','))\n",
        "\n",
        "c = a + b\n",
        "\n",
        "print(c)"
      ],
      "metadata": {
        "colab": {
          "base_uri": "https://localhost:8080/"
        },
        "id": "DGOlvsQtoVMF",
        "outputId": "60828dd6-1b86-47a2-b95c-6a11c39f2bfd"
      },
      "execution_count": null,
      "outputs": [
        {
          "output_type": "stream",
          "name": "stdout",
          "text": [
            "숫자 2개를 입력 하세요1,2\n",
            "3\n"
          ]
        }
      ]
    },
    {
      "cell_type": "code",
      "source": [
        "print(1,2,3 , sep='\\n')"
      ],
      "metadata": {
        "colab": {
          "base_uri": "https://localhost:8080/"
        },
        "id": "2ovPiKGSquXr",
        "outputId": "f89c0da6-e528-4566-f8e7-b6beff9fca24"
      },
      "execution_count": null,
      "outputs": [
        {
          "output_type": "stream",
          "name": "stdout",
          "text": [
            "1\n",
            "2\n",
            "3\n"
          ]
        }
      ]
    },
    {
      "cell_type": "code",
      "source": [
        "print(1,2,3, sep='\\t')"
      ],
      "metadata": {
        "colab": {
          "base_uri": "https://localhost:8080/"
        },
        "id": "iHNY8AmBquE6",
        "outputId": "24436cd6-e539-4b5e-e6af-f2f0907b24c9"
      },
      "execution_count": null,
      "outputs": [
        {
          "output_type": "stream",
          "name": "stdout",
          "text": [
            "1\t2\t3\n"
          ]
        }
      ]
    },
    {
      "cell_type": "code",
      "source": [
        "print(1)\n",
        "print(2)\n",
        "print(3)\n"
      ],
      "metadata": {
        "colab": {
          "base_uri": "https://localhost:8080/"
        },
        "id": "rKGNemcyq-Sk",
        "outputId": "d462698c-09c0-4194-e0e0-905d57829782"
      },
      "execution_count": null,
      "outputs": [
        {
          "output_type": "stream",
          "name": "stdout",
          "text": [
            "1\n",
            "2\n",
            "3\n"
          ]
        }
      ]
    },
    {
      "cell_type": "code",
      "source": [
        "print(1, end= ' ')\n",
        "print(2, end= ' ')\n",
        "print(3, sep='\\t')\n",
        "print(4)\n"
      ],
      "metadata": {
        "colab": {
          "base_uri": "https://localhost:8080/"
        },
        "id": "MxXYc1zTrCMU",
        "outputId": "15ce15dc-e71e-40f9-a671-28052dc16a82"
      },
      "execution_count": null,
      "outputs": [
        {
          "output_type": "stream",
          "name": "stdout",
          "text": [
            "1 2 3\n",
            "4\n"
          ]
        }
      ]
    },
    {
      "cell_type": "code",
      "source": [
        "a = [1,2,3,4,5] #list, element 요소\n",
        "b = ['it','is','spring']\n",
        "c = [1,'spring',True]\n",
        "print(c)"
      ],
      "metadata": {
        "colab": {
          "base_uri": "https://localhost:8080/"
        },
        "id": "lIXLfrcWrCb1",
        "outputId": "50f3cecc-5847-4900-99e8-d45810285653"
      },
      "execution_count": null,
      "outputs": [
        {
          "output_type": "stream",
          "name": "stdout",
          "text": [
            "[1, 'spring', True]\n"
          ]
        }
      ]
    },
    {
      "cell_type": "code",
      "source": [
        "x = []\n",
        "y = list()\n",
        "y"
      ],
      "metadata": {
        "colab": {
          "base_uri": "https://localhost:8080/"
        },
        "id": "WQXRmSB1tHRz",
        "outputId": "fd77a9ab-44f0-48f1-d266-1fc48b7b96e2"
      },
      "execution_count": null,
      "outputs": [
        {
          "output_type": "execute_result",
          "data": {
            "text/plain": [
              "[]"
            ]
          },
          "metadata": {},
          "execution_count": 2
        }
      ]
    },
    {
      "cell_type": "code",
      "source": [
        "range(5)"
      ],
      "metadata": {
        "colab": {
          "base_uri": "https://localhost:8080/"
        },
        "id": "SP09Eh1GtW7o",
        "outputId": "f9c8eaed-53f6-4b45-efcd-0e2bbf49889d"
      },
      "execution_count": null,
      "outputs": [
        {
          "output_type": "execute_result",
          "data": {
            "text/plain": [
              "range(0, 5)"
            ]
          },
          "metadata": {},
          "execution_count": 3
        }
      ]
    },
    {
      "cell_type": "code",
      "source": [
        "a = list(range(5))\n",
        "a = [0,1,2,3,4]\n",
        "b = list(range(5,12,2))\n",
        "b"
      ],
      "metadata": {
        "colab": {
          "base_uri": "https://localhost:8080/"
        },
        "id": "cBNsQtrLtZld",
        "outputId": "e7e45960-5d82-46fb-da37-26c44a78a958"
      },
      "execution_count": null,
      "outputs": [
        {
          "output_type": "execute_result",
          "data": {
            "text/plain": [
              "[5, 7, 9, 11]"
            ]
          },
          "metadata": {},
          "execution_count": 8
        }
      ]
    },
    {
      "cell_type": "code",
      "source": [
        "a = (1,2,3,4,5)\n",
        "a"
      ],
      "metadata": {
        "colab": {
          "base_uri": "https://localhost:8080/"
        },
        "id": "Vtb7j1RruryD",
        "outputId": "a32d6389-699e-434d-92c5-a35d30782681"
      },
      "execution_count": null,
      "outputs": [
        {
          "output_type": "execute_result",
          "data": {
            "text/plain": [
              "(1, 2, 3, 4, 5)"
            ]
          },
          "metadata": {},
          "execution_count": 9
        }
      ]
    },
    {
      "cell_type": "code",
      "source": [
        "b = ('it','spring')\n",
        "b"
      ],
      "metadata": {
        "colab": {
          "base_uri": "https://localhost:8080/"
        },
        "id": "1zms4zssuyZ5",
        "outputId": "cf279014-f4b3-4432-b744-657eab9a3a21"
      },
      "execution_count": null,
      "outputs": [
        {
          "output_type": "execute_result",
          "data": {
            "text/plain": [
              "('it', 'spring')"
            ]
          },
          "metadata": {},
          "execution_count": 10
        }
      ]
    },
    {
      "cell_type": "code",
      "source": [
        "a = [1,2,3]\n",
        "tuple(a)"
      ],
      "metadata": {
        "colab": {
          "base_uri": "https://localhost:8080/"
        },
        "id": "BKdQ6MuBu337",
        "outputId": "5b5a99a4-d479-41df-ff0f-66ff97f859fc"
      },
      "execution_count": null,
      "outputs": [
        {
          "output_type": "execute_result",
          "data": {
            "text/plain": [
              "(1, 2, 3)"
            ]
          },
          "metadata": {},
          "execution_count": 11
        }
      ]
    },
    {
      "cell_type": "code",
      "source": [
        "b = (4,5,6)\n",
        "list(b)"
      ],
      "metadata": {
        "colab": {
          "base_uri": "https://localhost:8080/"
        },
        "id": "zHnxNePxvEv_",
        "outputId": "1ca33f2f-3b36-434d-a709-d9c89913f6a8"
      },
      "execution_count": null,
      "outputs": [
        {
          "output_type": "execute_result",
          "data": {
            "text/plain": [
              "[4, 5, 6]"
            ]
          },
          "metadata": {},
          "execution_count": 12
        }
      ]
    },
    {
      "cell_type": "code",
      "source": [
        "a = [1,2,3,4,5,6,7,8,9]\n",
        "\n",
        "100 in a"
      ],
      "metadata": {
        "colab": {
          "base_uri": "https://localhost:8080/"
        },
        "id": "UOpk_ARjvWMd",
        "outputId": "9e7c5da3-4836-462c-9c0a-516125bf75a2"
      },
      "execution_count": null,
      "outputs": [
        {
          "output_type": "execute_result",
          "data": {
            "text/plain": [
              "False"
            ]
          },
          "metadata": {},
          "execution_count": 15
        }
      ]
    },
    {
      "cell_type": "code",
      "source": [
        "a = [1,2,3]\n",
        "b = [4,5,6]\n",
        "\n",
        "a + b # 연결이 됨"
      ],
      "metadata": {
        "colab": {
          "base_uri": "https://localhost:8080/"
        },
        "id": "a2hNq-V2wcnY",
        "outputId": "7310b602-b602-4a41-92de-a657bdaae78f"
      },
      "execution_count": null,
      "outputs": [
        {
          "output_type": "execute_result",
          "data": {
            "text/plain": [
              "[1, 2, 3, 4, 5, 6]"
            ]
          },
          "metadata": {},
          "execution_count": 16
        }
      ]
    },
    {
      "cell_type": "code",
      "source": [
        " a = [1,2,3] * 3\n",
        " a"
      ],
      "metadata": {
        "colab": {
          "base_uri": "https://localhost:8080/"
        },
        "id": "uoSweJSgw6jo",
        "outputId": "0750c44f-bbd1-4e1a-e304-df32d5540116"
      },
      "execution_count": null,
      "outputs": [
        {
          "output_type": "execute_result",
          "data": {
            "text/plain": [
              "[1, 2, 3, 1, 2, 3, 1, 2, 3]"
            ]
          },
          "metadata": {},
          "execution_count": 18
        }
      ]
    },
    {
      "cell_type": "code",
      "source": [
        "'hello' * 5"
      ],
      "metadata": {
        "colab": {
          "base_uri": "https://localhost:8080/",
          "height": 35
        },
        "id": "1dn6hZeLxKTN",
        "outputId": "0daa63e5-1bf7-4095-dbe3-e2d5b2a0f0bb"
      },
      "execution_count": null,
      "outputs": [
        {
          "output_type": "execute_result",
          "data": {
            "text/plain": [
              "'hellohellohellohellohello'"
            ],
            "application/vnd.google.colaboratory.intrinsic+json": {
              "type": "string"
            }
          },
          "metadata": {},
          "execution_count": 19
        }
      ]
    },
    {
      "cell_type": "code",
      "source": [
        "a = [1,2,3,4,5]\n",
        "len(a) #length"
      ],
      "metadata": {
        "colab": {
          "base_uri": "https://localhost:8080/"
        },
        "id": "ZOTO5iO8xWTE",
        "outputId": "f1b40556-40cb-4db7-9a63-e4f8504ff640"
      },
      "execution_count": null,
      "outputs": [
        {
          "output_type": "execute_result",
          "data": {
            "text/plain": [
              "5"
            ]
          },
          "metadata": {},
          "execution_count": 20
        }
      ]
    },
    {
      "cell_type": "code",
      "source": [
        "a = (1,2,3,4,5)\n",
        "len(a)"
      ],
      "metadata": {
        "colab": {
          "base_uri": "https://localhost:8080/"
        },
        "id": "bGpehJOoxfoT",
        "outputId": "ef541e7f-55d2-4ea6-fe6c-b48db5bf2075"
      },
      "execution_count": null,
      "outputs": [
        {
          "output_type": "execute_result",
          "data": {
            "text/plain": [
              "5"
            ]
          },
          "metadata": {},
          "execution_count": 21
        }
      ]
    },
    {
      "cell_type": "code",
      "source": [
        "a = \"korea is great\"\n",
        "len(a)"
      ],
      "metadata": {
        "colab": {
          "base_uri": "https://localhost:8080/"
        },
        "id": "J-XgKuUJxsSi",
        "outputId": "315ef52e-36bf-4813-ea76-e1189d218c8c"
      },
      "execution_count": null,
      "outputs": [
        {
          "output_type": "execute_result",
          "data": {
            "text/plain": [
              "14"
            ]
          },
          "metadata": {},
          "execution_count": 22
        }
      ]
    },
    {
      "cell_type": "code",
      "source": [
        "a = 'hello world'\n",
        "\n",
        "a[6]"
      ],
      "metadata": {
        "colab": {
          "base_uri": "https://localhost:8080/",
          "height": 35
        },
        "id": "2y32R8aRx8zV",
        "outputId": "3ef5dba3-e505-4bbd-a216-eba2b774e773"
      },
      "execution_count": null,
      "outputs": [
        {
          "output_type": "execute_result",
          "data": {
            "text/plain": [
              "'w'"
            ],
            "application/vnd.google.colaboratory.intrinsic+json": {
              "type": "string"
            }
          },
          "metadata": {},
          "execution_count": 26
        }
      ]
    },
    {
      "cell_type": "code",
      "source": [
        "a = [1,2,3,4,5,6,7,8,9]\n",
        "a[-2]"
      ],
      "metadata": {
        "colab": {
          "base_uri": "https://localhost:8080/"
        },
        "id": "B-Bor7CtzO3Y",
        "outputId": "064fafcc-a5cd-4985-eea6-cb1aa4f09bb4"
      },
      "execution_count": null,
      "outputs": [
        {
          "output_type": "execute_result",
          "data": {
            "text/plain": [
              "8"
            ]
          },
          "metadata": {},
          "execution_count": 28
        }
      ]
    },
    {
      "cell_type": "code",
      "source": [
        "a = [1,2,3,4,5]\n",
        "a[0] = 99\n",
        "a[-1] = -1000\n",
        "a"
      ],
      "metadata": {
        "colab": {
          "base_uri": "https://localhost:8080/"
        },
        "id": "VC00zkfy0G1N",
        "outputId": "952239e9-f49f-4ad5-b3a2-dd4123099f81"
      },
      "execution_count": null,
      "outputs": [
        {
          "output_type": "execute_result",
          "data": {
            "text/plain": [
              "[99, 2, 3, 4, -1000]"
            ]
          },
          "metadata": {},
          "execution_count": 38
        }
      ]
    },
    {
      "cell_type": "code",
      "source": [
        "a"
      ],
      "metadata": {
        "colab": {
          "base_uri": "https://localhost:8080/"
        },
        "id": "iFXT3bBk0SUn",
        "outputId": "7b0b3105-1367-4618-ef10-8d0f9e8a1f93"
      },
      "execution_count": null,
      "outputs": [
        {
          "output_type": "execute_result",
          "data": {
            "text/plain": [
              "[2, 3, 4, -1000]"
            ]
          },
          "metadata": {},
          "execution_count": 42
        }
      ]
    },
    {
      "cell_type": "code",
      "source": [
        "del a[0]\n",
        "a"
      ],
      "metadata": {
        "colab": {
          "base_uri": "https://localhost:8080/"
        },
        "id": "Waf4mmHj0vfI",
        "outputId": "1c95fde8-9fea-4017-c235-8acb78b6a063"
      },
      "execution_count": null,
      "outputs": [
        {
          "output_type": "execute_result",
          "data": {
            "text/plain": [
              "[3, 4, -1000]"
            ]
          },
          "metadata": {},
          "execution_count": 43
        }
      ]
    },
    {
      "cell_type": "code",
      "source": [
        "a = [1,2,3,4,5]\n",
        "a"
      ],
      "metadata": {
        "colab": {
          "base_uri": "https://localhost:8080/"
        },
        "id": "l_WdJD4_1dJy",
        "outputId": "600bbe5e-1e05-49ce-fbf7-30d6e440e307"
      },
      "execution_count": null,
      "outputs": [
        {
          "output_type": "execute_result",
          "data": {
            "text/plain": [
              "[1, 2, 3, 4, 5]"
            ]
          },
          "metadata": {},
          "execution_count": 44
        }
      ]
    },
    {
      "cell_type": "code",
      "source": [
        "a[1::2]"
      ],
      "metadata": {
        "colab": {
          "base_uri": "https://localhost:8080/"
        },
        "id": "k-e9gExK1hIa",
        "outputId": "3938c65c-1466-4392-f6b7-82d69f7d6b06"
      },
      "execution_count": null,
      "outputs": [
        {
          "output_type": "execute_result",
          "data": {
            "text/plain": [
              "[2, 4]"
            ]
          },
          "metadata": {},
          "execution_count": 50
        }
      ]
    },
    {
      "cell_type": "code",
      "source": [
        "a = [1,2,3,4,5,6,7,8,9]\n",
        "a[:len(a)]"
      ],
      "metadata": {
        "colab": {
          "base_uri": "https://localhost:8080/"
        },
        "id": "d8SRKiAu19e0",
        "outputId": "d628ceef-c82e-440a-9efb-e6f5e77ecd24"
      },
      "execution_count": null,
      "outputs": [
        {
          "output_type": "execute_result",
          "data": {
            "text/plain": [
              "[1, 2, 3, 4, 5, 6, 7, 8, 9]"
            ]
          },
          "metadata": {},
          "execution_count": 54
        }
      ]
    },
    {
      "cell_type": "code",
      "source": [
        "3>1"
      ],
      "metadata": {
        "colab": {
          "base_uri": "https://localhost:8080/"
        },
        "id": "yrWvTBw4pPUc",
        "outputId": "3c3dd69e-7539-4fe5-bae4-0d9fa78aa34a"
      },
      "execution_count": null,
      "outputs": [
        {
          "output_type": "execute_result",
          "data": {
            "text/plain": [
              "True"
            ]
          },
          "metadata": {},
          "execution_count": 3
        }
      ]
    },
    {
      "cell_type": "code",
      "source": [
        "5 == 5"
      ],
      "metadata": {
        "colab": {
          "base_uri": "https://localhost:8080/"
        },
        "id": "u_yVYDsQpady",
        "outputId": "02a8a178-89da-4c47-b6ac-6c93dc6b3d0f"
      },
      "execution_count": null,
      "outputs": [
        {
          "output_type": "execute_result",
          "data": {
            "text/plain": [
              "True"
            ]
          },
          "metadata": {},
          "execution_count": 4
        }
      ]
    },
    {
      "cell_type": "code",
      "source": [
        "10 >= 10"
      ],
      "metadata": {
        "colab": {
          "base_uri": "https://localhost:8080/"
        },
        "id": "iACZXfPspkc1",
        "outputId": "c2267fe3-22b6-4d67-a39b-9c61aaf14e27"
      },
      "execution_count": null,
      "outputs": [
        {
          "output_type": "execute_result",
          "data": {
            "text/plain": [
              "True"
            ]
          },
          "metadata": {},
          "execution_count": 5
        }
      ]
    },
    {
      "cell_type": "code",
      "source": [
        "5 == 5 and 7 != 4"
      ],
      "metadata": {
        "colab": {
          "base_uri": "https://localhost:8080/"
        },
        "id": "dRBTgtwPqqHy",
        "outputId": "17eb6b54-6247-4eb6-8564-a11fdc2f6d31"
      },
      "execution_count": null,
      "outputs": [
        {
          "output_type": "execute_result",
          "data": {
            "text/plain": [
              "True"
            ]
          },
          "metadata": {},
          "execution_count": 6
        }
      ]
    },
    {
      "cell_type": "code",
      "source": [
        "10 >5 and 10 <3"
      ],
      "metadata": {
        "colab": {
          "base_uri": "https://localhost:8080/"
        },
        "id": "41ci3Mcoq58s",
        "outputId": "508ac7b3-f77f-4fa7-c3e0-32c60cd5ec82"
      },
      "execution_count": null,
      "outputs": [
        {
          "output_type": "execute_result",
          "data": {
            "text/plain": [
              "False"
            ]
          },
          "metadata": {},
          "execution_count": 7
        }
      ]
    },
    {
      "cell_type": "code",
      "source": [
        "10>5 or 10<3"
      ],
      "metadata": {
        "colab": {
          "base_uri": "https://localhost:8080/"
        },
        "id": "HqLAftQYrGoN",
        "outputId": "cc85f972-53c7-4341-d0f7-c856408779c5"
      },
      "execution_count": null,
      "outputs": [
        {
          "output_type": "execute_result",
          "data": {
            "text/plain": [
              "True"
            ]
          },
          "metadata": {},
          "execution_count": 8
        }
      ]
    },
    {
      "cell_type": "code",
      "source": [
        "not 7>5"
      ],
      "metadata": {
        "colab": {
          "base_uri": "https://localhost:8080/"
        },
        "id": "8xyOZKFqrP1M",
        "outputId": "7c9a22ec-36e4-49a0-92db-e06c19f42c47"
      },
      "execution_count": null,
      "outputs": [
        {
          "output_type": "execute_result",
          "data": {
            "text/plain": [
              "False"
            ]
          },
          "metadata": {},
          "execution_count": 9
        }
      ]
    },
    {
      "cell_type": "markdown",
      "source": [
        "### **IF문**"
      ],
      "metadata": {
        "id": "ER1dy1ZDhvNb"
      }
    },
    {
      "cell_type": "code",
      "source": [
        "x = 10\n",
        "if x == 10 :\n",
        "  print(\"10입니다\")\n",
        "  print(\"if 문 종료입니다\")"
      ],
      "metadata": {
        "colab": {
          "base_uri": "https://localhost:8080/"
        },
        "id": "bsfWcdTEvj9y",
        "outputId": "925e9bb7-6f93-4520-b744-63c3438585e1"
      },
      "execution_count": null,
      "outputs": [
        {
          "output_type": "stream",
          "name": "stdout",
          "text": [
            "10입니다\n",
            "if 문 종료입니다\n"
          ]
        }
      ]
    },
    {
      "cell_type": "code",
      "source": [
        "# 사용자가 입력한 값에 if 조건문 사용하기\n",
        "x = int(input()) #input()함수로 받은 값은 모두 문자열\n",
        "\n",
        "if x == 3 :\n",
        "  print(\"3입니다\")\n",
        "if x == 5 :\n",
        "  print(\"5입니다\")"
      ],
      "metadata": {
        "colab": {
          "base_uri": "https://localhost:8080/"
        },
        "id": "Jf7D7ta2watw",
        "outputId": "6ce63e77-95bd-402d-f83c-06ac196ec04a"
      },
      "execution_count": null,
      "outputs": [
        {
          "output_type": "stream",
          "name": "stdout",
          "text": [
            "5\n",
            "5입니다\n"
          ]
        }
      ]
    },
    {
      "cell_type": "code",
      "source": [
        "# if 참인경우는 check 가되고 그결과에 따라서 실행\n",
        "# 거짓인 경우에 대해서는 실행방법을 하지 않음\n",
        "\n",
        "# else\n",
        "x = int(input())\n",
        "if x == 5 :\n",
        "  print(\"5\")\n",
        "else :\n",
        "  print(\"not 5\")"
      ],
      "metadata": {
        "colab": {
          "base_uri": "https://localhost:8080/"
        },
        "id": "PZHg8JLowiJe",
        "outputId": "6ba6af14-cb0e-4c9c-f35c-7f2c2ff31988"
      },
      "execution_count": null,
      "outputs": [
        {
          "output_type": "stream",
          "name": "stdout",
          "text": [
            "6\n",
            "not 5\n"
          ]
        }
      ]
    },
    {
      "cell_type": "code",
      "source": [
        "x = 6\n",
        "y = 20\n",
        "\n",
        "if x == 10 and y == 20 :\n",
        "  print(\"true\")\n",
        "else :\n",
        "  print(\"False\")"
      ],
      "metadata": {
        "colab": {
          "base_uri": "https://localhost:8080/"
        },
        "id": "vNPh0oxRyeHQ",
        "outputId": "0b22a049-3e9b-425a-fcdb-ea03dd4425df"
      },
      "execution_count": null,
      "outputs": [
        {
          "output_type": "stream",
          "name": "stdout",
          "text": [
            "False\n"
          ]
        }
      ]
    },
    {
      "cell_type": "code",
      "source": [
        "x = 20\n",
        "\n",
        "if x == 10 :\n",
        "  print(\"10\")\n",
        "elif x == 20 :\n",
        "  print(\"20\")\n",
        "  "
      ],
      "metadata": {
        "colab": {
          "base_uri": "https://localhost:8080/"
        },
        "id": "GA_ywButzEk1",
        "outputId": "996ae739-f120-449c-e2e4-63233bb3df23"
      },
      "execution_count": null,
      "outputs": [
        {
          "output_type": "stream",
          "name": "stdout",
          "text": [
            "20\n"
          ]
        }
      ]
    },
    {
      "cell_type": "code",
      "source": [
        "x = 30\n",
        "\n",
        "if x == 10 :\n",
        "  print(\"10\")\n",
        "elif x == 20 :\n",
        "  print(\"20\")\n",
        "else :\n",
        "  print(\" not 10 and not 20\")"
      ],
      "metadata": {
        "colab": {
          "base_uri": "https://localhost:8080/"
        },
        "id": "O6rlROX0zdhd",
        "outputId": "286d5017-db86-479c-ad7c-5ebc58b0cbe3"
      },
      "execution_count": null,
      "outputs": [
        {
          "output_type": "stream",
          "name": "stdout",
          "text": [
            " not 10 and not 20\n"
          ]
        }
      ]
    },
    {
      "cell_type": "code",
      "source": [
        "# 음료수 자판기\n",
        "# 1\" 콜라 \",2 :사이다, 3 : 오렌지\n",
        "\n",
        "button = int(input())\n",
        "\n",
        "if button == 1 :\n",
        "  print(\"cola\")\n",
        "elif button == 2 :\n",
        "  print(\"soda\")\n",
        "elif button == 3 :\n",
        "  print(\"orange\")\n",
        "else :\n",
        "  print(\" not available\")"
      ],
      "metadata": {
        "colab": {
          "base_uri": "https://localhost:8080/"
        },
        "id": "ICj9H8F9zuJj",
        "outputId": "bb76f930-96f8-4614-969f-addb29a4052e"
      },
      "execution_count": null,
      "outputs": [
        {
          "output_type": "stream",
          "name": "stdout",
          "text": [
            "9\n",
            " not available\n"
          ]
        }
      ]
    },
    {
      "cell_type": "code",
      "source": [
        "#for range\n",
        "\n",
        "for i in range(9,0,-1) :\n",
        "  print(i,\"hello world\")"
      ],
      "metadata": {
        "colab": {
          "base_uri": "https://localhost:8080/"
        },
        "id": "6XvVjnGt4WYe",
        "outputId": "bb84b773-452a-4652-b91b-e672bd9992c0"
      },
      "execution_count": null,
      "outputs": [
        {
          "output_type": "stream",
          "name": "stdout",
          "text": [
            "9 hello world\n",
            "8 hello world\n",
            "7 hello world\n",
            "6 hello world\n",
            "5 hello world\n",
            "4 hello world\n",
            "3 hello world\n",
            "2 hello world\n",
            "1 hello world\n"
          ]
        }
      ]
    },
    {
      "cell_type": "code",
      "source": [
        "count = int(input())\n",
        "\n",
        "for i in range(count) :\n",
        "  print(\"hellow world\", i)"
      ],
      "metadata": {
        "colab": {
          "base_uri": "https://localhost:8080/"
        },
        "id": "ZR8Ci7qV7ntJ",
        "outputId": "dbc42550-c45c-43f4-fea6-a46cc0acc05a"
      },
      "execution_count": null,
      "outputs": [
        {
          "output_type": "stream",
          "name": "stdout",
          "text": [
            "6\n",
            "hellow world 0\n",
            "hellow world 1\n",
            "hellow world 2\n",
            "hellow world 3\n",
            "hellow world 4\n",
            "hellow world 5\n"
          ]
        }
      ]
    },
    {
      "cell_type": "code",
      "source": [
        "#sequence :list ,tuple\n",
        "\n",
        "a = [1,2,3,4,5,5,6,7,8,9]\n",
        "\n",
        "for i in a :\n",
        "  print(i)"
      ],
      "metadata": {
        "colab": {
          "base_uri": "https://localhost:8080/"
        },
        "id": "sTGkdpJ-8Xt1",
        "outputId": "97186a69-6bb5-41f5-f423-ae6fde602d7e"
      },
      "execution_count": null,
      "outputs": [
        {
          "output_type": "stream",
          "name": "stdout",
          "text": [
            "1\n",
            "2\n",
            "3\n",
            "4\n",
            "5\n",
            "5\n",
            "6\n",
            "7\n",
            "8\n",
            "9\n"
          ]
        }
      ]
    },
    {
      "cell_type": "code",
      "source": [
        "fruits = ('apple', 'orange', 'grape')\n",
        "\n",
        "for j in fruits :\n",
        "  print(j)"
      ],
      "metadata": {
        "colab": {
          "base_uri": "https://localhost:8080/"
        },
        "id": "0kVmCJUO80-D",
        "outputId": "9b6ccca3-7d87-46d0-ba07-e1f556baeab5"
      },
      "execution_count": null,
      "outputs": [
        {
          "output_type": "stream",
          "name": "stdout",
          "text": [
            "apple\n",
            "orange\n",
            "grape\n"
          ]
        }
      ]
    },
    {
      "cell_type": "code",
      "source": [
        "i = 0\n",
        "while i < 10 :\n",
        "  print(i,\"hello world\")\n",
        "  i = i + 1\n"
      ],
      "metadata": {
        "colab": {
          "base_uri": "https://localhost:8080/"
        },
        "id": "LBAuaia89OH9",
        "outputId": "a4decf52-202a-4b18-b992-cfde60d836c6"
      },
      "execution_count": null,
      "outputs": [
        {
          "output_type": "stream",
          "name": "stdout",
          "text": [
            "0 hello world\n",
            "1 hello world\n",
            "2 hello world\n",
            "3 hello world\n",
            "4 hello world\n",
            "5 hello world\n",
            "6 hello world\n",
            "7 hello world\n",
            "8 hello world\n",
            "9 hello world\n"
          ]
        }
      ]
    },
    {
      "cell_type": "code",
      "source": [
        "count = int(input())\n",
        "\n",
        "i = 0\n",
        "\n",
        "while i < count :\n",
        "  print(i , \"hello world\")\n",
        "  i = i + 1\n"
      ],
      "metadata": {
        "colab": {
          "base_uri": "https://localhost:8080/"
        },
        "id": "X6j3KMgR-PjJ",
        "outputId": "2c7f1712-e551-40f2-b66e-46b43fd09e6a"
      },
      "execution_count": null,
      "outputs": [
        {
          "output_type": "stream",
          "name": "stdout",
          "text": [
            "5\n",
            "0 hello world\n",
            "1 hello world\n",
            "2 hello world\n",
            "3 hello world\n",
            "4 hello world\n"
          ]
        }
      ]
    },
    {
      "cell_type": "code",
      "source": [
        "# 1 ~ 6 값 random \n",
        "\n",
        "import random\n",
        "\n",
        "i = 0\n",
        "while i < 10 :\n",
        "  k = random.randint(1,6)\n",
        "  print(k)\n",
        "  i = i +1"
      ],
      "metadata": {
        "colab": {
          "base_uri": "https://localhost:8080/"
        },
        "id": "BrOIrlZZ-qzV",
        "outputId": "4594ad77-86ad-4b75-ce30-2c95386d72b7"
      },
      "execution_count": null,
      "outputs": [
        {
          "output_type": "stream",
          "name": "stdout",
          "text": [
            "5\n",
            "1\n",
            "4\n",
            "1\n",
            "6\n",
            "5\n",
            "4\n",
            "4\n",
            "2\n",
            "3\n"
          ]
        }
      ]
    },
    {
      "cell_type": "code",
      "source": [
        "i = 0\n",
        "\n",
        "while True :\n",
        "  print(i)\n",
        "  i = i + 1\n",
        "  if i == 100 :\n",
        "    break\n",
        "print(\"break\")"
      ],
      "metadata": {
        "colab": {
          "base_uri": "https://localhost:8080/"
        },
        "id": "eiYaUF8-_xMg",
        "outputId": "a60a2771-6c04-4d21-96f0-5dcdf7ec8d7a"
      },
      "execution_count": null,
      "outputs": [
        {
          "output_type": "stream",
          "name": "stdout",
          "text": [
            "0\n",
            "1\n",
            "2\n",
            "3\n",
            "4\n",
            "5\n",
            "6\n",
            "7\n",
            "8\n",
            "9\n",
            "10\n",
            "11\n",
            "12\n",
            "13\n",
            "14\n",
            "15\n",
            "16\n",
            "17\n",
            "18\n",
            "19\n",
            "20\n",
            "21\n",
            "22\n",
            "23\n",
            "24\n",
            "25\n",
            "26\n",
            "27\n",
            "28\n",
            "29\n",
            "30\n",
            "31\n",
            "32\n",
            "33\n",
            "34\n",
            "35\n",
            "36\n",
            "37\n",
            "38\n",
            "39\n",
            "40\n",
            "41\n",
            "42\n",
            "43\n",
            "44\n",
            "45\n",
            "46\n",
            "47\n",
            "48\n",
            "49\n",
            "50\n",
            "51\n",
            "52\n",
            "53\n",
            "54\n",
            "55\n",
            "56\n",
            "57\n",
            "58\n",
            "59\n",
            "60\n",
            "61\n",
            "62\n",
            "63\n",
            "64\n",
            "65\n",
            "66\n",
            "67\n",
            "68\n",
            "69\n",
            "70\n",
            "71\n",
            "72\n",
            "73\n",
            "74\n",
            "75\n",
            "76\n",
            "77\n",
            "78\n",
            "79\n",
            "80\n",
            "81\n",
            "82\n",
            "83\n",
            "84\n",
            "85\n",
            "86\n",
            "87\n",
            "88\n",
            "89\n",
            "90\n",
            "91\n",
            "92\n",
            "93\n",
            "94\n",
            "95\n",
            "96\n",
            "97\n",
            "98\n",
            "99\n",
            "break\n"
          ]
        }
      ]
    },
    {
      "cell_type": "code",
      "source": [
        "for i in range(1000) :\n",
        "  print(i)\n",
        "  if i == 100 :\n",
        "    break"
      ],
      "metadata": {
        "colab": {
          "base_uri": "https://localhost:8080/"
        },
        "id": "mL821n6EBWmy",
        "outputId": "ba4eb568-6010-43ea-ebcb-51f2b3017203"
      },
      "execution_count": null,
      "outputs": [
        {
          "output_type": "stream",
          "name": "stdout",
          "text": [
            "0\n",
            "1\n",
            "2\n",
            "3\n",
            "4\n",
            "5\n",
            "6\n",
            "7\n",
            "8\n",
            "9\n",
            "10\n",
            "11\n",
            "12\n",
            "13\n",
            "14\n",
            "15\n",
            "16\n",
            "17\n",
            "18\n",
            "19\n",
            "20\n",
            "21\n",
            "22\n",
            "23\n",
            "24\n",
            "25\n",
            "26\n",
            "27\n",
            "28\n",
            "29\n",
            "30\n",
            "31\n",
            "32\n",
            "33\n",
            "34\n",
            "35\n",
            "36\n",
            "37\n",
            "38\n",
            "39\n",
            "40\n",
            "41\n",
            "42\n",
            "43\n",
            "44\n",
            "45\n",
            "46\n",
            "47\n",
            "48\n",
            "49\n",
            "50\n",
            "51\n",
            "52\n",
            "53\n",
            "54\n",
            "55\n",
            "56\n",
            "57\n",
            "58\n",
            "59\n",
            "60\n",
            "61\n",
            "62\n",
            "63\n",
            "64\n",
            "65\n",
            "66\n",
            "67\n",
            "68\n",
            "69\n",
            "70\n",
            "71\n",
            "72\n",
            "73\n",
            "74\n",
            "75\n",
            "76\n",
            "77\n",
            "78\n",
            "79\n",
            "80\n",
            "81\n",
            "82\n",
            "83\n",
            "84\n",
            "85\n",
            "86\n",
            "87\n",
            "88\n",
            "89\n",
            "90\n",
            "91\n",
            "92\n",
            "93\n",
            "94\n",
            "95\n",
            "96\n",
            "97\n",
            "98\n",
            "99\n",
            "100\n"
          ]
        }
      ]
    },
    {
      "cell_type": "code",
      "source": [
        "from types import coroutine\n",
        "for i in range(10) :\n",
        "  if i % 2 == 0 :\n",
        "    continue\n",
        "  print(i)"
      ],
      "metadata": {
        "colab": {
          "base_uri": "https://localhost:8080/"
        },
        "id": "kxdk3hnaBpFQ",
        "outputId": "220eff0c-4225-4f8f-85fb-6e6fa5d88943"
      },
      "execution_count": null,
      "outputs": [
        {
          "output_type": "stream",
          "name": "stdout",
          "text": [
            "1\n",
            "3\n",
            "5\n",
            "7\n",
            "9\n"
          ]
        }
      ]
    },
    {
      "cell_type": "markdown",
      "source": [
        "### **변수**\n",
        "\n",
        "1.   **숫자or 문자 선택 표시 및 제거**\n",
        "\n",
        "\n"
      ],
      "metadata": {
        "id": "Vc9Rgk_zib78"
      }
    },
    {
      "cell_type": "code",
      "source": [
        "a = [10,20,30]"
      ],
      "metadata": {
        "id": "J5zcGaOTocPl"
      },
      "execution_count": null,
      "outputs": []
    },
    {
      "cell_type": "code",
      "source": [
        "a.append(500)"
      ],
      "metadata": {
        "id": "yjsbJRFYrjdB"
      },
      "execution_count": null,
      "outputs": []
    },
    {
      "cell_type": "code",
      "source": [
        "a"
      ],
      "metadata": {
        "colab": {
          "base_uri": "https://localhost:8080/"
        },
        "id": "4SoP3H6MryP2",
        "outputId": "0cf91484-75de-4f6f-a7d4-d899b9d9a829"
      },
      "execution_count": null,
      "outputs": [
        {
          "output_type": "execute_result",
          "data": {
            "text/plain": [
              "[10, 20, 30, 500]"
            ]
          },
          "metadata": {},
          "execution_count": 4
        }
      ]
    },
    {
      "cell_type": "code",
      "source": [
        "a = []\n",
        "a.append(1)\n",
        "a"
      ],
      "metadata": {
        "colab": {
          "base_uri": "https://localhost:8080/"
        },
        "id": "p_NaERCIr9je",
        "outputId": "8fc350bd-dd31-4075-b7e6-34e911301898"
      },
      "execution_count": null,
      "outputs": [
        {
          "output_type": "execute_result",
          "data": {
            "text/plain": [
              "[1]"
            ]
          },
          "metadata": {},
          "execution_count": 5
        }
      ]
    },
    {
      "cell_type": "code",
      "source": [
        "a = [10,20,30]\n",
        "a.append([40,50])\n",
        "a"
      ],
      "metadata": {
        "colab": {
          "base_uri": "https://localhost:8080/"
        },
        "id": "0CfsiCw1sENQ",
        "outputId": "304c22ea-a7b5-4767-99a4-89c8fd131eba"
      },
      "execution_count": null,
      "outputs": [
        {
          "output_type": "execute_result",
          "data": {
            "text/plain": [
              "[10, 20, 30, [40, 50]]"
            ]
          },
          "metadata": {},
          "execution_count": 6
        }
      ]
    },
    {
      "cell_type": "code",
      "source": [
        "a.append(\"python\")\n",
        "a"
      ],
      "metadata": {
        "colab": {
          "base_uri": "https://localhost:8080/"
        },
        "id": "IjeGgliTsEFD",
        "outputId": "cede9de4-bbc8-438b-ee31-78bf249722b4"
      },
      "execution_count": null,
      "outputs": [
        {
          "output_type": "execute_result",
          "data": {
            "text/plain": [
              "[10, 20, 30, [40, 50], 'python']"
            ]
          },
          "metadata": {},
          "execution_count": 7
        }
      ]
    },
    {
      "cell_type": "code",
      "source": [
        "a = [10,20,30]\n",
        "a.extend([40,50])\n",
        "a"
      ],
      "metadata": {
        "colab": {
          "base_uri": "https://localhost:8080/"
        },
        "id": "wcPRoK20sSt8",
        "outputId": "7160c0f9-4f0e-4cf8-bd06-6ee8615bb420"
      },
      "execution_count": null,
      "outputs": [
        {
          "output_type": "execute_result",
          "data": {
            "text/plain": [
              "[10, 20, 30, 40, 50]"
            ]
          },
          "metadata": {},
          "execution_count": 8
        }
      ]
    },
    {
      "cell_type": "code",
      "source": [
        "a = [10,20,30]"
      ],
      "metadata": {
        "id": "U-t6VS8AvGgY"
      },
      "execution_count": null,
      "outputs": []
    },
    {
      "cell_type": "code",
      "source": [
        "a.insert(1,900)\n",
        "a"
      ],
      "metadata": {
        "colab": {
          "base_uri": "https://localhost:8080/"
        },
        "id": "LjB3-3x5vQY6",
        "outputId": "d2fdd9a9-0308-4fdb-ecb6-f1c8032edb64"
      },
      "execution_count": null,
      "outputs": [
        {
          "output_type": "execute_result",
          "data": {
            "text/plain": [
              "[10, 900, 20, 30]"
            ]
          },
          "metadata": {},
          "execution_count": 14
        }
      ]
    },
    {
      "cell_type": "code",
      "source": [
        "a.insert(len(a),1000)\n",
        "a"
      ],
      "metadata": {
        "colab": {
          "base_uri": "https://localhost:8080/"
        },
        "id": "BPfYQWpCwaHr",
        "outputId": "e7ef97b4-703f-43c2-c32c-7c6f6ff3d884"
      },
      "execution_count": null,
      "outputs": [
        {
          "output_type": "execute_result",
          "data": {
            "text/plain": [
              "[10, 20, 30, 1000]"
            ]
          },
          "metadata": {},
          "execution_count": 17
        }
      ]
    },
    {
      "cell_type": "code",
      "source": [
        "a = [10,20,30]"
      ],
      "metadata": {
        "id": "JjM_BWm3xCxr"
      },
      "execution_count": null,
      "outputs": []
    },
    {
      "cell_type": "code",
      "source": [
        "a.pop()     #가장 최근에 들어온 값을 들어내는 명령어 pop"
      ],
      "metadata": {
        "colab": {
          "base_uri": "https://localhost:8080/"
        },
        "id": "0A1GIvk4xG_q",
        "outputId": "a6802943-57ad-4dfa-d627-ac07dbbaf155"
      },
      "execution_count": null,
      "outputs": [
        {
          "output_type": "execute_result",
          "data": {
            "text/plain": [
              "30"
            ]
          },
          "metadata": {},
          "execution_count": 21
        }
      ]
    },
    {
      "cell_type": "code",
      "source": [
        "a"
      ],
      "metadata": {
        "colab": {
          "base_uri": "https://localhost:8080/"
        },
        "id": "2AIrJ7mOxKHq",
        "outputId": "e715bf32-bf15-4fb1-fbe2-95aa9dc41985"
      },
      "execution_count": null,
      "outputs": [
        {
          "output_type": "execute_result",
          "data": {
            "text/plain": [
              "[10, 20]"
            ]
          },
          "metadata": {},
          "execution_count": 22
        }
      ]
    },
    {
      "cell_type": "code",
      "source": [
        "a = [10,20,30]"
      ],
      "metadata": {
        "id": "eb-gMflxyOBA"
      },
      "execution_count": null,
      "outputs": []
    },
    {
      "cell_type": "code",
      "source": [
        "a.remove(20)\n",
        "a"
      ],
      "metadata": {
        "colab": {
          "base_uri": "https://localhost:8080/"
        },
        "id": "dYdkAiK8zD46",
        "outputId": "e6dc6209-e43d-486e-9f89-ef94dd6d5c34"
      },
      "execution_count": null,
      "outputs": [
        {
          "output_type": "execute_result",
          "data": {
            "text/plain": [
              "[10, 30]"
            ]
          },
          "metadata": {},
          "execution_count": 24
        }
      ]
    },
    {
      "cell_type": "code",
      "source": [
        "a = [10,20,30,40,50]"
      ],
      "metadata": {
        "id": "SbxUB2MPzPjr"
      },
      "execution_count": null,
      "outputs": []
    },
    {
      "cell_type": "code",
      "source": [
        "a.reverse()\n",
        "a"
      ],
      "metadata": {
        "colab": {
          "base_uri": "https://localhost:8080/"
        },
        "id": "3ToIiP1QzUSd",
        "outputId": "4542752b-f9b8-4c24-b47d-169a023875cb"
      },
      "execution_count": null,
      "outputs": [
        {
          "output_type": "execute_result",
          "data": {
            "text/plain": [
              "[50, 40, 30, 20, 10]"
            ]
          },
          "metadata": {},
          "execution_count": 29
        }
      ]
    },
    {
      "cell_type": "code",
      "source": [
        "a = [10,20,30,15,20,40]"
      ],
      "metadata": {
        "id": "XkK7kb76zibJ"
      },
      "execution_count": null,
      "outputs": []
    },
    {
      "cell_type": "code",
      "source": [
        "a.sort(reverse = False)\n",
        "a"
      ],
      "metadata": {
        "colab": {
          "base_uri": "https://localhost:8080/"
        },
        "id": "gQYQNHX1zmso",
        "outputId": "382c9aef-693b-412f-82f9-a93a0a018d8a"
      },
      "execution_count": null,
      "outputs": [
        {
          "output_type": "execute_result",
          "data": {
            "text/plain": [
              "[10, 15, 20, 20, 30, 40]"
            ]
          },
          "metadata": {},
          "execution_count": 36
        }
      ]
    },
    {
      "cell_type": "code",
      "source": [
        "a = [1,2,3,4,5]"
      ],
      "metadata": {
        "id": "LDQQjhh80Uxj"
      },
      "execution_count": null,
      "outputs": []
    },
    {
      "cell_type": "code",
      "source": [
        "b = a"
      ],
      "metadata": {
        "id": "A4Un1OvP0XCL"
      },
      "execution_count": null,
      "outputs": []
    },
    {
      "cell_type": "code",
      "source": [
        "b[2] = 99\n",
        "a"
      ],
      "metadata": {
        "colab": {
          "base_uri": "https://localhost:8080/"
        },
        "id": "aRJGH9Jp05aw",
        "outputId": "08f338eb-a036-4f1d-85e2-50d2009e1298"
      },
      "execution_count": null,
      "outputs": [
        {
          "output_type": "execute_result",
          "data": {
            "text/plain": [
              "[1, 2, 99, 4, 5]"
            ]
          },
          "metadata": {},
          "execution_count": 40
        }
      ]
    },
    {
      "cell_type": "code",
      "source": [
        "b"
      ],
      "metadata": {
        "colab": {
          "base_uri": "https://localhost:8080/"
        },
        "id": "x8NA59YJ09eD",
        "outputId": "2657f909-c9c0-4a2e-af5e-def26d7f04e7"
      },
      "execution_count": null,
      "outputs": [
        {
          "output_type": "execute_result",
          "data": {
            "text/plain": [
              "[1, 2, 99, 4, 5]"
            ]
          },
          "metadata": {},
          "execution_count": 41
        }
      ]
    },
    {
      "cell_type": "code",
      "source": [
        "a[0] = 2222"
      ],
      "metadata": {
        "id": "2jXBdgZu1Zkl"
      },
      "execution_count": null,
      "outputs": []
    },
    {
      "cell_type": "code",
      "source": [
        "b"
      ],
      "metadata": {
        "colab": {
          "base_uri": "https://localhost:8080/"
        },
        "id": "-tVQotaq1cfs",
        "outputId": "c6f276f5-37e9-49c8-f59e-afbac3c8e586"
      },
      "execution_count": null,
      "outputs": [
        {
          "output_type": "execute_result",
          "data": {
            "text/plain": [
              "[2222, 2, 99, 4, 5]"
            ]
          },
          "metadata": {},
          "execution_count": 43
        }
      ]
    },
    {
      "cell_type": "code",
      "source": [
        "a = [1,2,3,4,5]"
      ],
      "metadata": {
        "id": "UW7ezhwL1k-7"
      },
      "execution_count": null,
      "outputs": []
    },
    {
      "cell_type": "code",
      "source": [
        "b = a.copy()"
      ],
      "metadata": {
        "id": "WBRASPN61nHk"
      },
      "execution_count": null,
      "outputs": []
    },
    {
      "cell_type": "code",
      "source": [
        "b[2] = 99"
      ],
      "metadata": {
        "id": "vwN9EDSS1v-C"
      },
      "execution_count": null,
      "outputs": []
    },
    {
      "cell_type": "code",
      "source": [
        "a"
      ],
      "metadata": {
        "colab": {
          "base_uri": "https://localhost:8080/"
        },
        "id": "xcMYHSj912iB",
        "outputId": "68fea5a2-4cb9-49f1-bd9c-9a47623e582b"
      },
      "execution_count": null,
      "outputs": [
        {
          "output_type": "execute_result",
          "data": {
            "text/plain": [
              "[1, 2, 3, 4, 5]"
            ]
          },
          "metadata": {},
          "execution_count": 47
        }
      ]
    },
    {
      "cell_type": "code",
      "source": [
        "b"
      ],
      "metadata": {
        "colab": {
          "base_uri": "https://localhost:8080/"
        },
        "id": "t3Vot39K13bI",
        "outputId": "8cf2a357-267e-4a90-fc59-6f2e00ef84c5"
      },
      "execution_count": null,
      "outputs": [
        {
          "output_type": "execute_result",
          "data": {
            "text/plain": [
              "[1, 2, 99, 4, 5]"
            ]
          },
          "metadata": {},
          "execution_count": 48
        }
      ]
    },
    {
      "cell_type": "code",
      "source": [
        "a = [10,20,30,40,50]"
      ],
      "metadata": {
        "id": "ol6n0WaP2K1_"
      },
      "execution_count": null,
      "outputs": []
    },
    {
      "cell_type": "code",
      "source": [
        "for index,value in enumerate(a) :\n",
        "  print(index,value)"
      ],
      "metadata": {
        "colab": {
          "base_uri": "https://localhost:8080/"
        },
        "id": "ej8ctm-s2lqb",
        "outputId": "74608ab3-4659-484f-fe9c-b2194de4d7c3"
      },
      "execution_count": null,
      "outputs": [
        {
          "output_type": "stream",
          "name": "stdout",
          "text": [
            "0 10\n",
            "1 20\n",
            "2 30\n",
            "3 40\n",
            "4 50\n"
          ]
        }
      ]
    },
    {
      "cell_type": "code",
      "source": [
        "a = [1,2,3,4,5]"
      ],
      "metadata": {
        "id": "QeLAwkqs3Kay"
      },
      "execution_count": null,
      "outputs": []
    },
    {
      "cell_type": "code",
      "source": [
        "i = 0\n",
        "while i < len(a) :\n",
        "  print(a[i])\n",
        "  i = i + 1"
      ],
      "metadata": {
        "colab": {
          "base_uri": "https://localhost:8080/"
        },
        "id": "__2R4KcC3NAw",
        "outputId": "3a57bdf6-6163-4f11-ed35-fd213e34a7c4"
      },
      "execution_count": null,
      "outputs": [
        {
          "output_type": "stream",
          "name": "stdout",
          "text": [
            "1\n",
            "2\n",
            "3\n",
            "4\n",
            "5\n"
          ]
        }
      ]
    },
    {
      "cell_type": "code",
      "source": [
        "a = [1,3,2,5,7,6,4,1]"
      ],
      "metadata": {
        "id": "K2eh6Kyb3nOk"
      },
      "execution_count": null,
      "outputs": []
    },
    {
      "cell_type": "code",
      "source": [
        "smallest = a[0]\n",
        "for i in a :\n",
        "  if i < smallest :\n",
        "    smallest = i\n",
        "smallest"
      ],
      "metadata": {
        "colab": {
          "base_uri": "https://localhost:8080/"
        },
        "id": "Jhn0nRjn3t68",
        "outputId": "60973073-65aa-4fdd-ace5-c939e4d849a3"
      },
      "execution_count": null,
      "outputs": [
        {
          "output_type": "execute_result",
          "data": {
            "text/plain": [
              "1"
            ]
          },
          "metadata": {},
          "execution_count": 62
        }
      ]
    },
    {
      "cell_type": "code",
      "source": [],
      "metadata": {
        "id": "KtzVS0fD5Fai"
      },
      "execution_count": null,
      "outputs": []
    },
    {
      "cell_type": "markdown",
      "source": [
        "### **문자열 바꾸기**\n",
        "* repalce"
      ],
      "metadata": {
        "id": "GqaqYyEQ5HEn"
      }
    },
    {
      "cell_type": "code",
      "source": [
        "'hello,world is world'.replace('world','python')"
      ],
      "metadata": {
        "colab": {
          "base_uri": "https://localhost:8080/",
          "height": 35
        },
        "id": "Chzj4fcM5Pk-",
        "outputId": "f45effc8-6ba1-4253-f80c-3116d38bd46d"
      },
      "execution_count": null,
      "outputs": [
        {
          "output_type": "execute_result",
          "data": {
            "text/plain": [
              "'hello,python is python'"
            ],
            "application/vnd.google.colaboratory.intrinsic+json": {
              "type": "string"
            }
          },
          "metadata": {},
          "execution_count": 64
        }
      ]
    },
    {
      "cell_type": "markdown",
      "source": [
        "### **문자열 분리하기**\n",
        "* split : 각 단어가 , 로 분리 된다 "
      ],
      "metadata": {
        "id": "1KFgeQeZ6X7S"
      }
    },
    {
      "cell_type": "code",
      "source": [
        "'apple pear grape pineapple orange'.split()"
      ],
      "metadata": {
        "colab": {
          "base_uri": "https://localhost:8080/"
        },
        "id": "ryCjAt6N6dlB",
        "outputId": "d10d6d36-5df4-4896-9347-9f136268f4e3"
      },
      "execution_count": null,
      "outputs": [
        {
          "output_type": "execute_result",
          "data": {
            "text/plain": [
              "['apple', 'pear', 'grape', 'pineapple', 'orange']"
            ]
          },
          "metadata": {},
          "execution_count": 65
        }
      ]
    },
    {
      "cell_type": "markdown",
      "source": [
        "### **문자열 리스트 연결하기**\n",
        "* join()"
      ],
      "metadata": {
        "id": "WZPBZ21W66DF"
      }
    },
    {
      "cell_type": "code",
      "source": [
        "'#'.join(['apple', 'pear', 'grape', 'pineapple', 'orange'])"
      ],
      "metadata": {
        "colab": {
          "base_uri": "https://localhost:8080/",
          "height": 35
        },
        "id": "2Q5jjo_660zQ",
        "outputId": "90acb300-7696-46ed-849a-08e1e8f3e25c"
      },
      "execution_count": null,
      "outputs": [
        {
          "output_type": "execute_result",
          "data": {
            "text/plain": [
              "'apple#pear#grape#pineapple#orange'"
            ],
            "application/vnd.google.colaboratory.intrinsic+json": {
              "type": "string"
            }
          },
          "metadata": {},
          "execution_count": 71
        }
      ]
    },
    {
      "cell_type": "code",
      "source": [
        "'     '.join(['apple', 'pear', 'grape', 'pineapple', 'orange'])"
      ],
      "metadata": {
        "colab": {
          "base_uri": "https://localhost:8080/",
          "height": 35
        },
        "id": "m8BXAJm57gIT",
        "outputId": "a866b029-05ba-4d28-f3b1-b75a1015685e"
      },
      "execution_count": null,
      "outputs": [
        {
          "output_type": "execute_result",
          "data": {
            "text/plain": [
              "'apple     pear     grape     pineapple     orange'"
            ],
            "application/vnd.google.colaboratory.intrinsic+json": {
              "type": "string"
            }
          },
          "metadata": {},
          "execution_count": 72
        }
      ]
    },
    {
      "cell_type": "markdown",
      "source": [
        "### **문자열을 대문자/소문자로 변환**\n",
        " * upper()\n",
        " * lower ()\n"
      ],
      "metadata": {
        "id": "qK1BU6nO7w5Z"
      }
    },
    {
      "cell_type": "code",
      "source": [
        "'python'.upper()"
      ],
      "metadata": {
        "colab": {
          "base_uri": "https://localhost:8080/",
          "height": 35
        },
        "id": "HNDtI6to76dN",
        "outputId": "33223048-f03b-4a11-f52b-b7357b8f99d5"
      },
      "execution_count": null,
      "outputs": [
        {
          "output_type": "execute_result",
          "data": {
            "text/plain": [
              "'PYTHON'"
            ],
            "application/vnd.google.colaboratory.intrinsic+json": {
              "type": "string"
            }
          },
          "metadata": {},
          "execution_count": 73
        }
      ]
    },
    {
      "cell_type": "code",
      "source": [
        "'PYTHON'.lower()"
      ],
      "metadata": {
        "colab": {
          "base_uri": "https://localhost:8080/",
          "height": 35
        },
        "id": "M-ft7W2A79wE",
        "outputId": "fd49a1fe-0469-4647-903f-81f4161a2326"
      },
      "execution_count": null,
      "outputs": [
        {
          "output_type": "execute_result",
          "data": {
            "text/plain": [
              "'python'"
            ],
            "application/vnd.google.colaboratory.intrinsic+json": {
              "type": "string"
            }
          },
          "metadata": {},
          "execution_count": 74
        }
      ]
    },
    {
      "cell_type": "markdown",
      "source": [
        "### **공백 삭제하기**\n",
        "* strip()\n",
        "* lstrip() : 왼쪽에있는 공백 삭제하기\n",
        "* rstrip() : 오른쪽에있는 공백 삭제하기"
      ],
      "metadata": {
        "id": "gnS4FpHe8Hf4"
      }
    },
    {
      "cell_type": "code",
      "source": [
        "'         python'.lstrip()"
      ],
      "metadata": {
        "colab": {
          "base_uri": "https://localhost:8080/",
          "height": 35
        },
        "id": "ibppk4048TKU",
        "outputId": "b4adcaf6-42a4-4734-cc5f-f4e8db125de0"
      },
      "execution_count": null,
      "outputs": [
        {
          "output_type": "execute_result",
          "data": {
            "text/plain": [
              "'python'"
            ],
            "application/vnd.google.colaboratory.intrinsic+json": {
              "type": "string"
            }
          },
          "metadata": {},
          "execution_count": 75
        }
      ]
    },
    {
      "cell_type": "code",
      "source": [
        "'python           '.rstrip()"
      ],
      "metadata": {
        "colab": {
          "base_uri": "https://localhost:8080/",
          "height": 35
        },
        "id": "iH6A7Ssa8kyG",
        "outputId": "6262c5e1-246e-4c37-d821-078864714bd1"
      },
      "execution_count": null,
      "outputs": [
        {
          "output_type": "execute_result",
          "data": {
            "text/plain": [
              "'python'"
            ],
            "application/vnd.google.colaboratory.intrinsic+json": {
              "type": "string"
            }
          },
          "metadata": {},
          "execution_count": 76
        }
      ]
    },
    {
      "cell_type": "code",
      "source": [
        "'              python           '.strip()"
      ],
      "metadata": {
        "colab": {
          "base_uri": "https://localhost:8080/",
          "height": 35
        },
        "id": "WVmqQgxE8sbB",
        "outputId": "9c36a686-6324-4f7f-ee8b-17e793816e86"
      },
      "execution_count": null,
      "outputs": [
        {
          "output_type": "execute_result",
          "data": {
            "text/plain": [
              "'python'"
            ],
            "application/vnd.google.colaboratory.intrinsic+json": {
              "type": "string"
            }
          },
          "metadata": {},
          "execution_count": 77
        }
      ]
    },
    {
      "cell_type": "markdown",
      "source": [
        "### **문자열 정렬**\n",
        "* 왼쪽 정렬 : ljust()\n",
        "* 오른쪽 정렬 : rjust()\n",
        "* 중앙 정렬 : center()"
      ],
      "metadata": {
        "id": "_yswMAIn9RUt"
      }
    },
    {
      "cell_type": "code",
      "source": [
        "'python'"
      ],
      "metadata": {
        "colab": {
          "base_uri": "https://localhost:8080/",
          "height": 35
        },
        "id": "FaO54q2d9cdJ",
        "outputId": "c771ae4a-b136-42c1-b2c9-4d102000f8d3"
      },
      "execution_count": null,
      "outputs": [
        {
          "output_type": "execute_result",
          "data": {
            "text/plain": [
              "'python'"
            ],
            "application/vnd.google.colaboratory.intrinsic+json": {
              "type": "string"
            }
          },
          "metadata": {},
          "execution_count": 79
        }
      ]
    },
    {
      "cell_type": "code",
      "source": [
        "'python'.ljust(20)"
      ],
      "metadata": {
        "colab": {
          "base_uri": "https://localhost:8080/",
          "height": 35
        },
        "id": "Izly-6zm824k",
        "outputId": "8d72027e-e817-4c50-e57c-b7e122e53841"
      },
      "execution_count": null,
      "outputs": [
        {
          "output_type": "execute_result",
          "data": {
            "text/plain": [
              "'python              '"
            ],
            "application/vnd.google.colaboratory.intrinsic+json": {
              "type": "string"
            }
          },
          "metadata": {},
          "execution_count": 78
        }
      ]
    },
    {
      "cell_type": "code",
      "source": [
        "'python'.rjust(20)"
      ],
      "metadata": {
        "colab": {
          "base_uri": "https://localhost:8080/",
          "height": 35
        },
        "id": "A9oExXcp9nte",
        "outputId": "a386c20b-ca21-450a-8d5e-dc45fb97fecf"
      },
      "execution_count": null,
      "outputs": [
        {
          "output_type": "execute_result",
          "data": {
            "text/plain": [
              "'              python'"
            ],
            "application/vnd.google.colaboratory.intrinsic+json": {
              "type": "string"
            }
          },
          "metadata": {},
          "execution_count": 80
        }
      ]
    },
    {
      "cell_type": "code",
      "source": [
        "'python'.center(20)"
      ],
      "metadata": {
        "colab": {
          "base_uri": "https://localhost:8080/",
          "height": 35
        },
        "id": "nR5zzGyJ9qZI",
        "outputId": "04077703-e57f-4eda-95c7-c072ce3253e9"
      },
      "execution_count": null,
      "outputs": [
        {
          "output_type": "execute_result",
          "data": {
            "text/plain": [
              "'       python       '"
            ],
            "application/vnd.google.colaboratory.intrinsic+json": {
              "type": "string"
            }
          },
          "metadata": {},
          "execution_count": 81
        }
      ]
    },
    {
      "cell_type": "markdown",
      "source": [
        "### **method chaining**"
      ],
      "metadata": {
        "id": "bSeIDnIZ-ExQ"
      }
    },
    {
      "cell_type": "code",
      "source": [
        "'python'.rjust(20).upper()"
      ],
      "metadata": {
        "colab": {
          "base_uri": "https://localhost:8080/",
          "height": 35
        },
        "id": "0osLbyaX-JdR",
        "outputId": "f327c643-4bc3-43f5-f7df-e3ae0c51b06f"
      },
      "execution_count": null,
      "outputs": [
        {
          "output_type": "execute_result",
          "data": {
            "text/plain": [
              "'              PYTHON'"
            ],
            "application/vnd.google.colaboratory.intrinsic+json": {
              "type": "string"
            }
          },
          "metadata": {},
          "execution_count": 1
        }
      ]
    },
    {
      "cell_type": "markdown",
      "source": [
        "### **문자열 위치 찾기**\n",
        "* find : 앞에서부터 찾아준다\n",
        "* rfind: 오른쪽에서부터 찾아주나 index 값은 앞에서부터시작한다\n",
        "* index : 앞에서부터 찾아준다"
      ],
      "metadata": {
        "id": "R6UQdWrq-jjB"
      }
    },
    {
      "cell_type": "code",
      "source": [
        "'apple pineapple'.find('pl') # 맨앞에서부터 찾기시작해서 하나의 값만 찾아줌\n",
        "                             # apple 에서 pl 은 앞에서부터 2번째 이기때문에 2가나옴"
      ],
      "metadata": {
        "colab": {
          "base_uri": "https://localhost:8080/"
        },
        "id": "VgyciNGb-i88",
        "outputId": "43463e5c-7122-4823-b188-5f788411e6a6"
      },
      "execution_count": null,
      "outputs": [
        {
          "output_type": "execute_result",
          "data": {
            "text/plain": [
              "2"
            ]
          },
          "metadata": {},
          "execution_count": 83
        }
      ]
    },
    {
      "cell_type": "code",
      "source": [
        "'apple pineapple'.find('xy') # -1 이 나오는경우는 찾을수가없다 "
      ],
      "metadata": {
        "colab": {
          "base_uri": "https://localhost:8080/"
        },
        "id": "73rvtwd5-4M_",
        "outputId": "b26b512c-54da-49d0-b0b2-9253fa282ae9"
      },
      "execution_count": null,
      "outputs": [
        {
          "output_type": "execute_result",
          "data": {
            "text/plain": [
              "-1"
            ]
          },
          "metadata": {},
          "execution_count": 84
        }
      ]
    },
    {
      "cell_type": "code",
      "source": [
        "'apple pineapple'.rfind('pl') #오른쪽에서부터 찾기때문에 앞에서부터시작한 index 값이 12번째인\n",
        "                              #pl 을 찾아준다 "
      ],
      "metadata": {
        "colab": {
          "base_uri": "https://localhost:8080/"
        },
        "id": "X1UXqw38_L0m",
        "outputId": "eb1e511e-15ba-4e83-f646-fed2540170a2"
      },
      "execution_count": null,
      "outputs": [
        {
          "output_type": "execute_result",
          "data": {
            "text/plain": [
              "12"
            ]
          },
          "metadata": {},
          "execution_count": 85
        }
      ]
    },
    {
      "cell_type": "code",
      "source": [
        "'apple pineapple'.index('pl')"
      ],
      "metadata": {
        "colab": {
          "base_uri": "https://localhost:8080/"
        },
        "id": "4iTl5s_6_jd5",
        "outputId": "896ee1ed-c96f-4ba2-bf2a-045526baed20"
      },
      "execution_count": null,
      "outputs": [
        {
          "output_type": "execute_result",
          "data": {
            "text/plain": [
              "2"
            ]
          },
          "metadata": {},
          "execution_count": 86
        }
      ]
    },
    {
      "cell_type": "markdown",
      "source": [
        "### **문자열 개수 세기**\n",
        "* count : 내가 찾고자하는 문자의 갯수를 카운트 해준다"
      ],
      "metadata": {
        "id": "snd0pB2A_0cR"
      }
    },
    {
      "cell_type": "code",
      "source": [
        "'apple pineapple'.count('pl')"
      ],
      "metadata": {
        "colab": {
          "base_uri": "https://localhost:8080/"
        },
        "id": "fN-B-bka_23u",
        "outputId": "b543954c-37ad-4e9c-d530-ef6bce058004"
      },
      "execution_count": null,
      "outputs": [
        {
          "output_type": "execute_result",
          "data": {
            "text/plain": [
              "2"
            ]
          },
          "metadata": {},
          "execution_count": 87
        }
      ]
    },
    {
      "cell_type": "code",
      "source": [
        "'apple pineapple'.count('p')"
      ],
      "metadata": {
        "colab": {
          "base_uri": "https://localhost:8080/"
        },
        "id": "o6XLHPXYAAji",
        "outputId": "b715c597-9001-4fd1-f606-17d249077e85"
      },
      "execution_count": null,
      "outputs": [
        {
          "output_type": "execute_result",
          "data": {
            "text/plain": [
              "5"
            ]
          },
          "metadata": {},
          "execution_count": 88
        }
      ]
    },
    {
      "cell_type": "markdown",
      "source": [
        "### **서식 지정자**\n",
        "* %s : 문자열\n",
        "* %d : 정수\n",
        "* %f : 실수 \n",
        "* format : { } 안에 (  ) 값을 대체해서 넣는다"
      ],
      "metadata": {
        "id": "bG0RbWWZArjt"
      }
    },
    {
      "cell_type": "code",
      "source": [
        "'I am %s'% 'Kim' # %s 에 들거갈 값이 ' kim ' 이란소리다 \n",
        "                 #대체하고자 하는값을 지정할때 %s 를 사용한다"
      ],
      "metadata": {
        "colab": {
          "base_uri": "https://localhost:8080/",
          "height": 35
        },
        "id": "AZntQht8AsrF",
        "outputId": "a3218076-e455-49aa-a471-5d3b80924891"
      },
      "execution_count": null,
      "outputs": [
        {
          "output_type": "execute_result",
          "data": {
            "text/plain": [
              "'I am Kim'"
            ],
            "application/vnd.google.colaboratory.intrinsic+json": {
              "type": "string"
            }
          },
          "metadata": {},
          "execution_count": 89
        }
      ]
    },
    {
      "cell_type": "code",
      "source": [
        "name = 'park'  # 문자열은 %s\n",
        "'I am %s' % name"
      ],
      "metadata": {
        "colab": {
          "base_uri": "https://localhost:8080/",
          "height": 35
        },
        "id": "BAZe1F9_BGtN",
        "outputId": "a34d2611-9df6-46d5-95fa-6094b804f685"
      },
      "execution_count": null,
      "outputs": [
        {
          "output_type": "execute_result",
          "data": {
            "text/plain": [
              "'I am park'"
            ],
            "application/vnd.google.colaboratory.intrinsic+json": {
              "type": "string"
            }
          },
          "metadata": {},
          "execution_count": 91
        }
      ]
    },
    {
      "cell_type": "code",
      "source": [
        "'I am %d years' %20  #정수는 % d"
      ],
      "metadata": {
        "colab": {
          "base_uri": "https://localhost:8080/",
          "height": 35
        },
        "id": "L4RRTsHvBRmE",
        "outputId": "130bfbac-0892-4180-eab2-e9e29decaf65"
      },
      "execution_count": null,
      "outputs": [
        {
          "output_type": "execute_result",
          "data": {
            "text/plain": [
              "'I am 20 years'"
            ],
            "application/vnd.google.colaboratory.intrinsic+json": {
              "type": "string"
            }
          },
          "metadata": {},
          "execution_count": 92
        }
      ]
    },
    {
      "cell_type": "code",
      "source": [
        "'I am %.2f tall' % 151.1  #실수는 %f  소수점 몇자리 까지 해달라고할때는\n",
        "                         #   . 숫자 로 % 와 f 사이에 입력한다"
      ],
      "metadata": {
        "colab": {
          "base_uri": "https://localhost:8080/",
          "height": 35
        },
        "id": "0TT0J0GBBVzD",
        "outputId": "2e7321a3-79a1-43fd-85b5-3d781906ebc1"
      },
      "execution_count": null,
      "outputs": [
        {
          "output_type": "execute_result",
          "data": {
            "text/plain": [
              "'I am 151.10 tall'"
            ],
            "application/vnd.google.colaboratory.intrinsic+json": {
              "type": "string"
            }
          },
          "metadata": {},
          "execution_count": 94
        }
      ]
    },
    {
      "cell_type": "code",
      "source": [
        "'Today is %d %s' %(19, \"4월\")"
      ],
      "metadata": {
        "colab": {
          "base_uri": "https://localhost:8080/",
          "height": 35
        },
        "id": "Vd5AIliYBnyS",
        "outputId": "a7a131ae-041b-4dea-eced-86749cd130da"
      },
      "execution_count": null,
      "outputs": [
        {
          "output_type": "execute_result",
          "data": {
            "text/plain": [
              "'Today is 19 4월'"
            ],
            "application/vnd.google.colaboratory.intrinsic+json": {
              "type": "string"
            }
          },
          "metadata": {},
          "execution_count": 95
        }
      ]
    },
    {
      "cell_type": "code",
      "source": [
        "'hello {0}'.format('Everybody') #format 을사용하면 { }를 사용할때 앞에서부터 넣기시작한다."
      ],
      "metadata": {
        "colab": {
          "base_uri": "https://localhost:8080/",
          "height": 35
        },
        "id": "txVzN5kHCMbD",
        "outputId": "85c95061-b0a3-47b2-a399-470b9abcba65"
      },
      "execution_count": null,
      "outputs": [
        {
          "output_type": "execute_result",
          "data": {
            "text/plain": [
              "'hello Everybody'"
            ],
            "application/vnd.google.colaboratory.intrinsic+json": {
              "type": "string"
            }
          },
          "metadata": {},
          "execution_count": 96
        }
      ]
    },
    {
      "cell_type": "code",
      "source": [
        "'hello {0}'.format(100)"
      ],
      "metadata": {
        "colab": {
          "base_uri": "https://localhost:8080/",
          "height": 35
        },
        "id": "r-4Z6x0cCdTa",
        "outputId": "223be6e7-91ba-4c72-fd33-0fd23663b61b"
      },
      "execution_count": null,
      "outputs": [
        {
          "output_type": "execute_result",
          "data": {
            "text/plain": [
              "'hello 100'"
            ],
            "application/vnd.google.colaboratory.intrinsic+json": {
              "type": "string"
            }
          },
          "metadata": {},
          "execution_count": 97
        }
      ]
    },
    {
      "cell_type": "code",
      "source": [
        "'hello {0} {2} {1}'.format('AAA','BBB','CCC')"
      ],
      "metadata": {
        "colab": {
          "base_uri": "https://localhost:8080/",
          "height": 35
        },
        "id": "QonEcghHCi1S",
        "outputId": "ca893973-122c-4807-ead9-539f9a4163f8"
      },
      "execution_count": null,
      "outputs": [
        {
          "output_type": "execute_result",
          "data": {
            "text/plain": [
              "'hello AAA CCC BBB'"
            ],
            "application/vnd.google.colaboratory.intrinsic+json": {
              "type": "string"
            }
          },
          "metadata": {},
          "execution_count": 98
        }
      ]
    },
    {
      "cell_type": "code",
      "source": [
        "'{0} {0} {1} {1}'.format('AAA','BBB')"
      ],
      "metadata": {
        "colab": {
          "base_uri": "https://localhost:8080/",
          "height": 35
        },
        "id": "NiyJjvyZCxpl",
        "outputId": "a2553289-3155-495b-a8e3-8ce020139e58"
      },
      "execution_count": null,
      "outputs": [
        {
          "output_type": "execute_result",
          "data": {
            "text/plain": [
              "'AAA AAA BBB BBB'"
            ],
            "application/vnd.google.colaboratory.intrinsic+json": {
              "type": "string"
            }
          },
          "metadata": {},
          "execution_count": 101
        }
      ]
    },
    {
      "cell_type": "code",
      "source": [
        "'hello {} {} {}'.format('AAA','BBB','CCC')"
      ],
      "metadata": {
        "colab": {
          "base_uri": "https://localhost:8080/",
          "height": 35
        },
        "id": "7pdvIv87C-iq",
        "outputId": "10fbbf14-46a7-4cd1-a85d-37781f5b0b05"
      },
      "execution_count": null,
      "outputs": [
        {
          "output_type": "execute_result",
          "data": {
            "text/plain": [
              "'hello AAA BBB CCC'"
            ],
            "application/vnd.google.colaboratory.intrinsic+json": {
              "type": "string"
            }
          },
          "metadata": {},
          "execution_count": 102
        }
      ]
    },
    {
      "cell_type": "markdown",
      "source": [
        "# **2- 2**"
      ],
      "metadata": {
        "id": "cpNRlrRwfwkr"
      }
    },
    {
      "cell_type": "markdown",
      "source": [
        "### **숫자 및 문자 출력**\n",
        "\n",
        "**문자 표기방법**\n",
        "**\" 최대 3개까지 사용가능**\n"
      ],
      "metadata": {
        "id": "4-5RXz-ld1KV"
      }
    },
    {
      "cell_type": "code",
      "source": [
        "#문자 출력 10 월 30일\\\n",
        "#문자 출력시 \" \" or ' ' 두개중 아무거나 써도상관없다 ps.'' 3개까지 써도된다\n",
        "print('10월 30일')\n",
        "print(\"10월 30일\")\n",
        "print('''10월 30일''')\n",
        "print(1030)"
      ],
      "metadata": {
        "colab": {
          "base_uri": "https://localhost:8080/"
        },
        "id": "zj6Bw2mTd9V1",
        "outputId": "92f20bce-0856-4374-eb08-f5ad338fcc67"
      },
      "execution_count": null,
      "outputs": [
        {
          "output_type": "stream",
          "name": "stdout",
          "text": [
            "10월 30일\n",
            "10월 30일\n",
            "10월 30일\n",
            "1030\n"
          ]
        }
      ]
    },
    {
      "cell_type": "code",
      "source": [
        "print(\"렛츠 기릿 파이썬 \")"
      ],
      "metadata": {
        "colab": {
          "base_uri": "https://localhost:8080/"
        },
        "id": "T0KXEwIDfjw7",
        "outputId": "d963f49b-658c-47f7-a8f6-8ab9197662a3"
      },
      "execution_count": null,
      "outputs": [
        {
          "output_type": "stream",
          "name": "stdout",
          "text": [
            "렛츠 기릿 파이썬 \n"
          ]
        }
      ]
    },
    {
      "cell_type": "markdown",
      "source": [
        "### **연산**\n"
      ],
      "metadata": {
        "id": "sT82US5mgrE7"
      }
    },
    {
      "cell_type": "code",
      "source": [
        "# ** 제곱 (제곱할 값 ** 얼마나 제곱할건지)\n",
        "print(5**3)\n",
        "\n",
        "# 몫 (나머지는 나오지않음)\n",
        "print(5//2)\n",
        "\n",
        "#나머지 몫을 계산후 나머지 가 나옴\n",
        "print(5%2)\n"
      ],
      "metadata": {
        "colab": {
          "base_uri": "https://localhost:8080/"
        },
        "id": "RcUCudNOfqRs",
        "outputId": "c0f075d7-7939-4b19-ddda-f57bb6cf4dad"
      },
      "execution_count": null,
      "outputs": [
        {
          "output_type": "stream",
          "name": "stdout",
          "text": [
            "125\n",
            "2\n",
            "1\n"
          ]
        }
      ]
    },
    {
      "cell_type": "markdown",
      "source": [
        "### **텍스트 연결 출력**\n",
        "\n",
        "1.   **, 사용시 단어간의 공백이 생김**\n",
        "2.   **+ 사용시 단어가 붙어서 생김**\n",
        "\n"
      ],
      "metadata": {
        "id": "fPwZ8cE2h-gr"
      }
    },
    {
      "cell_type": "code",
      "source": [
        "#, 로 연결하여 출력하기\n",
        "print('파이썬','안녕!')\n",
        "print('파이썬'+'안녕!')"
      ],
      "metadata": {
        "colab": {
          "base_uri": "https://localhost:8080/"
        },
        "id": "ngoAaa2IhyfE",
        "outputId": "2ce85f54-7394-49a6-c787-23e16ca4ab27"
      },
      "execution_count": null,
      "outputs": [
        {
          "output_type": "stream",
          "name": "stdout",
          "text": [
            "파이썬 안녕!\n",
            "파이썬안녕!\n"
          ]
        }
      ]
    },
    {
      "cell_type": "markdown",
      "source": [
        "1.   **str = srting 문자열**\n",
        "2.   **int = integer 정수**\n",
        "\n",
        "\n"
      ],
      "metadata": {
        "id": "p0e5x0jRi5eA"
      }
    },
    {
      "cell_type": "code",
      "source": [
        "#int 가 아니라 str 이와야함\n",
        "print('python'+12*34)\n"
      ],
      "metadata": {
        "colab": {
          "base_uri": "https://localhost:8080/",
          "height": 194
        },
        "id": "nf1phMY_im8I",
        "outputId": "aa319655-c014-49ac-9f81-87beae0cb606"
      },
      "execution_count": null,
      "outputs": [
        {
          "output_type": "error",
          "ename": "TypeError",
          "evalue": "ignored",
          "traceback": [
            "\u001b[0;31m---------------------------------------------------------------------------\u001b[0m",
            "\u001b[0;31mTypeError\u001b[0m                                 Traceback (most recent call last)",
            "\u001b[0;32m<ipython-input-17-f68364e9aa4e>\u001b[0m in \u001b[0;36m<module>\u001b[0;34m\u001b[0m\n\u001b[1;32m      1\u001b[0m \u001b[0;31m#int 가 아니라 str 이와야함\u001b[0m\u001b[0;34m\u001b[0m\u001b[0;34m\u001b[0m\u001b[0;34m\u001b[0m\u001b[0m\n\u001b[0;32m----> 2\u001b[0;31m \u001b[0mprint\u001b[0m\u001b[0;34m(\u001b[0m\u001b[0;34m'python'\u001b[0m\u001b[0;34m+\u001b[0m\u001b[0;36m12\u001b[0m\u001b[0;34m*\u001b[0m\u001b[0;36m34\u001b[0m\u001b[0;34m)\u001b[0m\u001b[0;34m\u001b[0m\u001b[0;34m\u001b[0m\u001b[0m\n\u001b[0m",
            "\u001b[0;31mTypeError\u001b[0m: can only concatenate str (not \"int\") to str"
          ]
        }
      ]
    },
    {
      "cell_type": "code",
      "source": [
        "print('python'+'12*34')"
      ],
      "metadata": {
        "colab": {
          "base_uri": "https://localhost:8080/"
        },
        "id": "xv7e00I5jZCj",
        "outputId": "1f601cf5-143b-4fe1-8a2b-06436664c962"
      },
      "execution_count": null,
      "outputs": [
        {
          "output_type": "stream",
          "name": "stdout",
          "text": [
            "python12*34\n"
          ]
        }
      ]
    },
    {
      "cell_type": "markdown",
      "source": [
        "**1.실습.본인 이름, 관심분야를 한줄로 출력해보기**\n",
        "\n",
        "\n",
        "\n",
        "\n"
      ],
      "metadata": {
        "id": "2zAJgdTFjiit"
      }
    },
    {
      "cell_type": "code",
      "source": [
        "print('이승한','자동차')"
      ],
      "metadata": {
        "colab": {
          "base_uri": "https://localhost:8080/"
        },
        "id": "DG0pjsTbjhfG",
        "outputId": "8e57e535-4292-43c4-a808-823ba12dcb60"
      },
      "execution_count": null,
      "outputs": [
        {
          "output_type": "stream",
          "name": "stdout",
          "text": [
            "이승한 자동차\n"
          ]
        }
      ]
    },
    {
      "cell_type": "markdown",
      "source": [
        "### **2-2 input class**\n"
      ],
      "metadata": {
        "id": "D-W_6HEAkiyr"
      }
    },
    {
      "cell_type": "code",
      "source": [
        "input()"
      ],
      "metadata": {
        "colab": {
          "base_uri": "https://localhost:8080/",
          "height": 54
        },
        "id": "wVbKqiHAkm2q",
        "outputId": "c826ffd7-1194-4b09-c05f-c24241d1bdb6"
      },
      "execution_count": null,
      "outputs": [
        {
          "name": "stdout",
          "output_type": "stream",
          "text": [
            "123\n"
          ]
        },
        {
          "output_type": "execute_result",
          "data": {
            "text/plain": [
              "'123'"
            ],
            "application/vnd.google.colaboratory.intrinsic+json": {
              "type": "string"
            }
          },
          "metadata": {},
          "execution_count": 21
        }
      ]
    },
    {
      "cell_type": "code",
      "source": [
        "input('생일: ')"
      ],
      "metadata": {
        "colab": {
          "base_uri": "https://localhost:8080/",
          "height": 54
        },
        "id": "0_wGqAuclC77",
        "outputId": "e16ae718-7cba-4bf5-8f7c-28546ef89746"
      },
      "execution_count": null,
      "outputs": [
        {
          "name": "stdout",
          "output_type": "stream",
          "text": [
            "생일: '1월 1일'\n"
          ]
        },
        {
          "output_type": "execute_result",
          "data": {
            "text/plain": [
              "\"'1월 1일'\""
            ],
            "application/vnd.google.colaboratory.intrinsic+json": {
              "type": "string"
            }
          },
          "metadata": {},
          "execution_count": 26
        }
      ]
    },
    {
      "cell_type": "code",
      "source": [
        "input('아이디 : ')\n",
        "input('비밀번호 : ')"
      ],
      "metadata": {
        "colab": {
          "base_uri": "https://localhost:8080/",
          "height": 73
        },
        "id": "NF_KPMfToYHy",
        "outputId": "1f9204a0-dd52-4c84-858b-886ed339231b"
      },
      "execution_count": null,
      "outputs": [
        {
          "name": "stdout",
          "output_type": "stream",
          "text": [
            "아이디 : get out\n",
            "비밀번호 : Us\n"
          ]
        },
        {
          "output_type": "execute_result",
          "data": {
            "text/plain": [
              "'Us'"
            ],
            "application/vnd.google.colaboratory.intrinsic+json": {
              "type": "string"
            }
          },
          "metadata": {},
          "execution_count": 29
        }
      ]
    },
    {
      "cell_type": "markdown",
      "source": [
        "**ID input print text**"
      ],
      "metadata": {
        "id": "1L9w2a3KpvR6"
      }
    },
    {
      "cell_type": "code",
      "source": [
        "print('---000웹사이트 회원가입---')\n",
        "input('아이디 : ')\n",
        "print(\"000 웹사이트 가입을 환영합니다!\")"
      ],
      "metadata": {
        "colab": {
          "base_uri": "https://localhost:8080/"
        },
        "id": "2USAwKR8ox36",
        "outputId": "9e9735ff-080d-4195-e00a-b31547355016"
      },
      "execution_count": null,
      "outputs": [
        {
          "output_type": "stream",
          "name": "stdout",
          "text": [
            "---000웹사이트 회원가입---\n",
            "아이디 : jiejie\n",
            "000 웹사이트 가입을 환영합니다!\n"
          ]
        }
      ]
    },
    {
      "cell_type": "markdown",
      "source": [
        "# **2-2 3 장 변수** "
      ],
      "metadata": {
        "id": "veEPTwsfp9Ep"
      }
    },
    {
      "cell_type": "markdown",
      "source": [
        "**변수 이름 = 저장할 데이터**\n",
        "\n",
        "1.   수학에서 = 은 파이썬에선 ==\n",
        "\n",
        "\n"
      ],
      "metadata": {
        "id": "LlnBzBTJqD0T"
      }
    },
    {
      "cell_type": "code",
      "source": [
        "b = '학생'\n",
        "c = '고등'\n",
        "d = '대'\n",
        "print(c+b)\n",
        "print(d+b)"
      ],
      "metadata": {
        "colab": {
          "base_uri": "https://localhost:8080/"
        },
        "id": "2G9r1sqSqAAD",
        "outputId": "1305f67e-8a22-4def-eb75-b03d64592785"
      },
      "execution_count": null,
      "outputs": [
        {
          "output_type": "stream",
          "name": "stdout",
          "text": [
            "고등학생\n",
            "대학생\n"
          ]
        }
      ]
    },
    {
      "cell_type": "code",
      "source": [
        "apple = 1200\n",
        "banana = 800\n",
        "kiwi = 1700"
      ],
      "metadata": {
        "id": "uH4ju3AVrRTk"
      },
      "execution_count": null,
      "outputs": []
    },
    {
      "cell_type": "code",
      "source": [
        "#사과 3개 바나나 1개 키위 2개를 구매하였을때 가격은?\n",
        "apple*3+banana*1+kiwi*2"
      ],
      "metadata": {
        "colab": {
          "base_uri": "https://localhost:8080/"
        },
        "id": "PMWWTqFQr5hC",
        "outputId": "0e9ce51c-61e3-4493-e66f-7600a0a2e572"
      },
      "execution_count": null,
      "outputs": [
        {
          "output_type": "execute_result",
          "data": {
            "text/plain": [
              "7800"
            ]
          },
          "metadata": {},
          "execution_count": 38
        }
      ]
    },
    {
      "cell_type": "code",
      "source": [
        "#일반적인 프로그래밍 방식\n",
        "price = apple*3+banana*1+kiwi*2\n",
        "print(price)"
      ],
      "metadata": {
        "colab": {
          "base_uri": "https://localhost:8080/"
        },
        "id": "vPFRK3UHsX51",
        "outputId": "ccae071f-3dce-494b-a898-9931a4b15f3f"
      },
      "execution_count": null,
      "outputs": [
        {
          "output_type": "stream",
          "name": "stdout",
          "text": [
            "7800\n"
          ]
        }
      ]
    },
    {
      "cell_type": "code",
      "source": [
        "#vip 는 20% 할인된다 동일한 물건을 구매하였을때 vip 가 지불해야하는 금액은?\n",
        "vip_price = price * 0.8\n",
        "print(vip_price)"
      ],
      "metadata": {
        "colab": {
          "base_uri": "https://localhost:8080/"
        },
        "id": "-mKfgJ1cstth",
        "outputId": "5c1e926e-922a-4daf-a24c-f02842ef4028"
      },
      "execution_count": null,
      "outputs": [
        {
          "output_type": "stream",
          "name": "stdout",
          "text": [
            "6240.0\n"
          ]
        }
      ]
    },
    {
      "cell_type": "code",
      "source": [
        "print('vip 가 되시면',price,'원을',vip_price,'원에 구매 가능합니다!')"
      ],
      "metadata": {
        "colab": {
          "base_uri": "https://localhost:8080/"
        },
        "id": "zquBNyWAs8ml",
        "outputId": "fe1543d0-570e-43ac-904c-206fa93ff245"
      },
      "execution_count": null,
      "outputs": [
        {
          "output_type": "stream",
          "name": "stdout",
          "text": [
            "vip 가 되시면 7800 원을 6240.0 원에 구매 가능합니다!\n"
          ]
        }
      ]
    },
    {
      "cell_type": "markdown",
      "source": [],
      "metadata": {
        "id": "Ppmm8pJouzDK"
      }
    },
    {
      "cell_type": "markdown",
      "source": [
        "### 변수를 이용한 값 구하기\n",
        "**2)1년마다 키가 10cm 씩 자라는 농구선수가 있다**\n"
      ],
      "metadata": {
        "id": "aR0TXIXmtcdj"
      }
    },
    {
      "cell_type": "code",
      "source": [
        "year = 2017\n",
        "height =175.5\n",
        "print(year,'년-',height,'cm')\n",
        "\n",
        "year = year + 1\n",
        "height = height + 10\n",
        "print(year,'년-',height,'cm')\n",
        "\n",
        "year = year + 1\n",
        "height = height + 10\n",
        "print(year,'년-',height,'cm')\n",
        "\n",
        "year = year + 1\n",
        "height = height + 10\n",
        "print(year,'년-',height,'cm')\n"
      ],
      "metadata": {
        "colab": {
          "base_uri": "https://localhost:8080/"
        },
        "id": "xIRtc5Y5tbCS",
        "outputId": "93a242c3-c20f-4b48-ca50-b4bc3c20c355"
      },
      "execution_count": null,
      "outputs": [
        {
          "output_type": "stream",
          "name": "stdout",
          "text": [
            "2017 년- 175.5 cm\n",
            "2018 년- 185.5 cm\n",
            "2019 년- 195.5 cm\n",
            "2020 년- 205.5 cm\n"
          ]
        }
      ]
    },
    {
      "cell_type": "markdown",
      "source": [
        "### 동일한변수를 증가 감소 시킬떄\n",
        "\n",
        "1.   a에 3을 더하시오\n",
        "a = a+3\n",
        "2.   간략하게 표현\n",
        "a += 3\n"
      ],
      "metadata": {
        "id": "eZceyNx8u6ay"
      }
    },
    {
      "cell_type": "code",
      "source": [
        "1.year /= 1\n",
        "year = year/1"
      ],
      "metadata": {
        "id": "ceDI6Hylv95p"
      },
      "execution_count": null,
      "outputs": []
    },
    {
      "cell_type": "markdown",
      "source": [
        "### 입력받아 저장하기\n"
      ],
      "metadata": {
        "id": "Q70qXXZjw5M6"
      }
    },
    {
      "cell_type": "code",
      "source": [
        "id = input('아이디 :')\n",
        "print('입력하신 아이디는',id)"
      ],
      "metadata": {
        "colab": {
          "base_uri": "https://localhost:8080/"
        },
        "id": "j6_ASeATw8VK",
        "outputId": "2e4073d4-c4e0-4e0b-a004-d505ff9b0fda"
      },
      "execution_count": null,
      "outputs": [
        {
          "output_type": "stream",
          "name": "stdout",
          "text": [
            "아이디 :us\n",
            "입력하신 아이디는 us\n"
          ]
        }
      ]
    },
    {
      "cell_type": "markdown",
      "source": [
        "### 데이터 타입\n",
        "\n",
        "1.   정수 int\n",
        "2.   실수 float\n",
        "3.   문자 str"
      ],
      "metadata": {
        "id": "ITiXuxysxVWp"
      }
    },
    {
      "cell_type": "code",
      "source": [
        "type(apple)\n",
        "type(banana)\n",
        "type(kiwi)"
      ],
      "metadata": {
        "colab": {
          "base_uri": "https://localhost:8080/"
        },
        "id": "FQUKQS9Rx3cU",
        "outputId": "674fe2ec-53d5-4a39-9cc6-1cce257eac43"
      },
      "execution_count": null,
      "outputs": [
        {
          "output_type": "execute_result",
          "data": {
            "text/plain": [
              "int"
            ]
          },
          "metadata": {},
          "execution_count": 52
        }
      ]
    },
    {
      "cell_type": "code",
      "source": [
        "type(vip_price)"
      ],
      "metadata": {
        "colab": {
          "base_uri": "https://localhost:8080/"
        },
        "id": "dADcYpT9ylAR",
        "outputId": "9e2a8d68-aa0c-4c14-85d0-311ce5990655"
      },
      "execution_count": null,
      "outputs": [
        {
          "output_type": "execute_result",
          "data": {
            "text/plain": [
              "float"
            ]
          },
          "metadata": {},
          "execution_count": 53
        }
      ]
    },
    {
      "cell_type": "code",
      "source": [
        "type(b)"
      ],
      "metadata": {
        "colab": {
          "base_uri": "https://localhost:8080/"
        },
        "id": "YeJmhKl3yoIc",
        "outputId": "8a701254-0e9d-422f-c499-616e9a831f2b"
      },
      "execution_count": null,
      "outputs": [
        {
          "output_type": "execute_result",
          "data": {
            "text/plain": [
              "str"
            ]
          },
          "metadata": {},
          "execution_count": 54
        }
      ]
    },
    {
      "cell_type": "markdown",
      "source": [
        "# 3.데이터타입 변경하기\n",
        "*변경하려는 데이터 타입으로 감싸주기\n",
        "\n",
        "*   정수로 변경하기\n",
        "*   int(변수)\n"
      ],
      "metadata": {
        "id": "Hz7KQdZBzBdr"
      }
    },
    {
      "cell_type": "code",
      "source": [
        "#정수를 실수로\n",
        "print(apple)\n",
        "apple = float(apple)\n",
        "print(apple)"
      ],
      "metadata": {
        "colab": {
          "base_uri": "https://localhost:8080/"
        },
        "id": "HL8d_6XDzK6B",
        "outputId": "0facc889-c336-4907-f54e-84454e3d8ffa"
      },
      "execution_count": null,
      "outputs": [
        {
          "output_type": "stream",
          "name": "stdout",
          "text": [
            "1200\n",
            "1200.0\n"
          ]
        }
      ]
    },
    {
      "cell_type": "code",
      "source": [
        "#실수를 정수로\n",
        "print(vip_price)\n",
        "vip_price = int(vip_price)\n",
        "print(vip_price)"
      ],
      "metadata": {
        "colab": {
          "base_uri": "https://localhost:8080/"
        },
        "id": "w_QrSTn02u1B",
        "outputId": "559fafdc-e0b9-4de1-df02-a89ebaf18329"
      },
      "execution_count": null,
      "outputs": [
        {
          "output_type": "stream",
          "name": "stdout",
          "text": [
            "6240.0\n",
            "6240\n"
          ]
        }
      ]
    },
    {
      "cell_type": "markdown",
      "source": [
        "### 원의 둘레,넓이,높이,구의 겉넓이,부피 구하기\n",
        "\n",
        "\n",
        "*   **원의 넓이 =  πr²**\n",
        "*   **원의 둘레 =  2  πr** \n",
        "*   **구의 겉넓이 = 4 πr²**\n",
        "*   **구의 부피 = 4/3 πr³**\n",
        "\n"
      ],
      "metadata": {
        "id": "b3SlASG33BBR"
      }
    },
    {
      "cell_type": "code",
      "source": [
        "r = 5\n",
        "p = 3.141592\n",
        "\n",
        "#원의 둘레\n",
        "c_len = 2*p*r\n",
        "\n",
        "#원의 넓이\n",
        "c_area = p*r**2\n",
        "\n",
        "#구의 겉넓이\n",
        "s_area = 4*p*r**2\n",
        "\n",
        "#구의 부피\n",
        "s_volume = 4/3*p*r**3\n",
        "\n",
        "print('원의 둘레는',c_len)\n",
        "print('원의 넓이는',c_area)\n",
        "print('구의 겉넓이는',s_area)\n",
        "print('구의 부피는',s_volume)"
      ],
      "metadata": {
        "colab": {
          "base_uri": "https://localhost:8080/"
        },
        "id": "5KOnVk-X2_zB",
        "outputId": "60b193f7-bb0b-46fa-db49-b63ba03c1a7c"
      },
      "execution_count": null,
      "outputs": [
        {
          "output_type": "stream",
          "name": "stdout",
          "text": [
            "원의 둘레는 31.41592\n",
            "원의 넓이는 78.5398\n",
            "구의 겉넓이는 314.1592\n",
            "구의 부피는 523.5986666666666\n"
          ]
        }
      ]
    },
    {
      "cell_type": "code",
      "source": [
        "r = int(input('반지름은? :'))\n",
        "\n",
        "p = 3.141592\n",
        "\n",
        "#원의 둘레\n",
        "c_len = 2*p*r\n",
        "\n",
        "#원의 넓이\n",
        "c_area = p*r**2\n",
        "\n",
        "#구의 겉넓이\n",
        "s_area = 4*p*r**2\n",
        "\n",
        "#구의 부피\n",
        "s_volume = 4/3*p*r**3\n",
        "\n",
        "print('원의 둘레는',c_len)\n",
        "print('원의 넓이는',c_area)\n",
        "print('구의 겉넓이는',s_area)\n",
        "print('구의 부피는',s_volume)"
      ],
      "metadata": {
        "colab": {
          "base_uri": "https://localhost:8080/"
        },
        "id": "mGb-wA7j5XxV",
        "outputId": "065cbfc5-6aa1-43b2-8f46-cee0826eb3c4"
      },
      "execution_count": null,
      "outputs": [
        {
          "output_type": "stream",
          "name": "stdout",
          "text": [
            "반지름은? :2\n",
            "원의 둘레는 12.566368\n",
            "원의 넓이는 12.566368\n",
            "구의 겉넓이는 50.265472\n",
            "구의 부피는 33.510314666666666\n"
          ]
        }
      ]
    },
    {
      "cell_type": "code",
      "source": [
        "r = int(input('반지름은? '))\n",
        "type(r)"
      ],
      "metadata": {
        "colab": {
          "base_uri": "https://localhost:8080/"
        },
        "id": "ZKgDEVe65zqp",
        "outputId": "730e5d14-0fc5-47e2-c4f3-79901195fa5c"
      },
      "execution_count": null,
      "outputs": [
        {
          "name": "stdout",
          "output_type": "stream",
          "text": [
            "반지름은? 9\n"
          ]
        },
        {
          "output_type": "execute_result",
          "data": {
            "text/plain": [
              "int"
            ]
          },
          "metadata": {},
          "execution_count": 64
        }
      ]
    },
    {
      "cell_type": "code",
      "source": [],
      "metadata": {
        "id": "Ojfk7Sl1fsub"
      },
      "execution_count": null,
      "outputs": []
    },
    {
      "cell_type": "markdown",
      "source": [
        "# **4.조건문 if**"
      ],
      "metadata": {
        "id": "EyNBuhU6e_ES"
      }
    },
    {
      "cell_type": "code",
      "source": [
        "#만약 미성년자라면 술을 구매할 수 없다고 출력\n",
        "age = 19\n",
        "\n",
        "if age<20 :\n",
        "  #조건을 충족할떄만 실행\n",
        "  print('술을 구매할수없습니다')"
      ],
      "metadata": {
        "colab": {
          "base_uri": "https://localhost:8080/"
        },
        "id": "57wRq3OAfCTS",
        "outputId": "6ea40e54-51b2-4c79-9171-974d370eb933"
      },
      "execution_count": null,
      "outputs": [
        {
          "output_type": "stream",
          "name": "stdout",
          "text": [
            "술을 구매할수없습니다\n"
          ]
        }
      ]
    },
    {
      "cell_type": "code",
      "source": [
        "#물건금액을 입력 받고 물건이 오만원 미만일 경우 배송빅 2500원을 더해서 결제하시오\n",
        "price = int(input('금액 :'))\n",
        "\n",
        "if price < 50000 :\n",
        "  price +=2500\n",
        "\n",
        "  print('총 결제금액은.',price)\n"
      ],
      "metadata": {
        "colab": {
          "base_uri": "https://localhost:8080/"
        },
        "id": "NlOJWWk9f-26",
        "outputId": "87da5840-5e0b-43ec-ea52-bc138d13b46e"
      },
      "execution_count": null,
      "outputs": [
        {
          "output_type": "stream",
          "name": "stdout",
          "text": [
            "금액 :45\n",
            "총 결제금액은. 2545\n"
          ]
        }
      ]
    },
    {
      "cell_type": "markdown",
      "source": [
        "**2.조건을 만드는 비교 연산자**\n",
        "\n",
        "*   a와 b 가 같다면 ==\n",
        "*   작다면 !=\n",
        "*   크다면>\n",
        "*    작다 <\n",
        "*   크거나 같다면 >=\n",
        "*   작더나 같다면 <=\n"
      ],
      "metadata": {
        "id": "HPuSg-Z6hiBb"
      }
    },
    {
      "cell_type": "code",
      "source": [
        "check = input('출석 혹은 결석을 입력하세요')\n",
        "if check == '출석' :\n",
        "  print('0')"
      ],
      "metadata": {
        "colab": {
          "base_uri": "https://localhost:8080/"
        },
        "id": "dCyBhxQmhgqv",
        "outputId": "bdb3d2ac-fe12-470c-c9aa-09f337a24538"
      },
      "execution_count": null,
      "outputs": [
        {
          "output_type": "stream",
          "name": "stdout",
          "text": [
            "출석 혹은 결석을 입력하세요출석\n",
            "0\n"
          ]
        }
      ]
    },
    {
      "cell_type": "markdown",
      "source": [
        "### **if -else 조건문**\n",
        "*   \n",
        "조건을 충족하지않았을때 실행하는 명령어"
      ],
      "metadata": {
        "id": "YmRfzOBPiX2_"
      }
    },
    {
      "cell_type": "code",
      "source": [
        "age = int(input('나이 :'))\n",
        "\n",
        "if age < 20 :\n",
        "  print('술을 구매할수 없습니다')\n",
        "else :\n",
        "  print('감사합니다 .안녕히 가세요')"
      ],
      "metadata": {
        "colab": {
          "base_uri": "https://localhost:8080/"
        },
        "id": "rS4Iet-hiV_Q",
        "outputId": "4da6e278-3c36-4184-b232-24ef466c747d"
      },
      "execution_count": null,
      "outputs": [
        {
          "output_type": "stream",
          "name": "stdout",
          "text": [
            "나이 :25\n",
            "감사합니다 .안녕히 가세요\n"
          ]
        }
      ]
    },
    {
      "cell_type": "markdown",
      "source": [
        "###**자동 출석 시스템**\n",
        "\n"
      ],
      "metadata": {
        "id": "e2Fj6YDrjozZ"
      }
    },
    {
      "cell_type": "code",
      "source": [
        "check = input('출석 혹은 결석을 입력하세요 :' )\n",
        "if check == '출석' :\n",
        "  print('0')\n",
        "else :\n",
        "  print('X')"
      ],
      "metadata": {
        "colab": {
          "base_uri": "https://localhost:8080/"
        },
        "id": "Hp3-tUJGj0p1",
        "outputId": "7e2e864a-a54c-46be-95a8-f39247bf5b84"
      },
      "execution_count": null,
      "outputs": [
        {
          "output_type": "stream",
          "name": "stdout",
          "text": [
            "출석 혹은 결석을 입력하세요 :결석\n",
            "X\n"
          ]
        }
      ]
    },
    {
      "cell_type": "markdown",
      "source": [
        "### **무인계산기**"
      ],
      "metadata": {
        "id": "-v-YTzkqkoBR"
      }
    },
    {
      "cell_type": "code",
      "source": [
        "#목욕탕에 무인계산기를 설치\n",
        "#성인요금은 15000 미자는 6000\n",
        "age = int(input('나이가 어떻게 되세요? :'))\n",
        "\n",
        "if age >= 20 :\n",
        "  price = 15000\n",
        "  print('성인은',price,'원 입니다')\n",
        "else :\n",
        "  price = 6000\n",
        "  print('미성년자는',price, '원 입니다')"
      ],
      "metadata": {
        "colab": {
          "base_uri": "https://localhost:8080/"
        },
        "id": "9EX60_Q4k08X",
        "outputId": "cc2541e4-5f59-462f-f8d6-b01d400d6686"
      },
      "execution_count": null,
      "outputs": [
        {
          "output_type": "stream",
          "name": "stdout",
          "text": [
            "나이가 어떻게 되세요? :20\n",
            "성인은 15000 원 입니다\n"
          ]
        }
      ]
    },
    {
      "cell_type": "markdown",
      "source": [
        "## #**elif 조건문**"
      ],
      "metadata": {
        "id": "f-w6EIzBmcTy"
      }
    },
    {
      "cell_type": "code",
      "source": [
        "#최저가 구매금액 2만원\n",
        "#5만원 미만은 배송비 2500원을5만원 이상은 무료배송\n",
        "#구매금액별로 1.새벽배송 불가 2.배송비 2500원추가 \n",
        "price = int(input('구매금액은? :'))\n",
        "\n",
        "if price < 20000 :\n",
        "  print('새벽 배송이 불가능합니다.')\n",
        "elif price < 50000 :\n",
        "  print('배송비가 2500원 추가됩니다')\n",
        "else :\n",
        "  print('무료배송 됩니다')\n",
        "   "
      ],
      "metadata": {
        "colab": {
          "base_uri": "https://localhost:8080/"
        },
        "id": "9_SNXi7ImhOb",
        "outputId": "8fa5ea5b-2fa2-4d90-83fe-b432e4e3fac0"
      },
      "execution_count": null,
      "outputs": [
        {
          "output_type": "stream",
          "name": "stdout",
          "text": [
            "구매금액은? :15000\n",
            "새벽 배송이 불가능합니다.\n"
          ]
        }
      ]
    },
    {
      "cell_type": "markdown",
      "source": [
        "#**5.반복문**\n"
      ],
      "metadata": {
        "id": "CiBPN7vQr48w"
      }
    },
    {
      "cell_type": "code",
      "source": [
        "for a in [1,2,3,4,5] :\n",
        "  print(a)"
      ],
      "metadata": {
        "colab": {
          "base_uri": "https://localhost:8080/"
        },
        "id": "bZU-9QG-r9y8",
        "outputId": "4fc9e4af-f07a-4fff-a9b9-0e9a27b433ee"
      },
      "execution_count": null,
      "outputs": [
        {
          "output_type": "stream",
          "name": "stdout",
          "text": [
            "1\n",
            "2\n",
            "3\n",
            "4\n",
            "5\n"
          ]
        }
      ]
    },
    {
      "cell_type": "code",
      "source": [
        "for a in [1,2,3,4,5] :\n",
        "  print('안녕하세요')"
      ],
      "metadata": {
        "colab": {
          "base_uri": "https://localhost:8080/"
        },
        "id": "KokTP84fsYIi",
        "outputId": "916bdd09-d1d7-4c38-94e8-236db2ba7c12"
      },
      "execution_count": null,
      "outputs": [
        {
          "output_type": "stream",
          "name": "stdout",
          "text": [
            "안녕하세요\n",
            "안녕하세요\n",
            "안녕하세요\n",
            "안녕하세요\n",
            "안녕하세요\n"
          ]
        }
      ]
    },
    {
      "cell_type": "markdown",
      "source": [
        "### **range(시작숫자,종료숫자)**\n",
        "*   종료숫자 -1로 표기됨"
      ],
      "metadata": {
        "id": "MR1YxurXshZn"
      }
    },
    {
      "cell_type": "code",
      "source": [
        "for a in range(1,10) :\n",
        "  print(a)"
      ],
      "metadata": {
        "colab": {
          "base_uri": "https://localhost:8080/"
        },
        "id": "OU-JNwB0smrT",
        "outputId": "50e0ea32-7be2-4a58-85a4-737d702bf0cc"
      },
      "execution_count": null,
      "outputs": [
        {
          "output_type": "stream",
          "name": "stdout",
          "text": [
            "1\n",
            "2\n",
            "3\n",
            "4\n",
            "5\n",
            "6\n",
            "7\n",
            "8\n",
            "9\n"
          ]
        }
      ]
    },
    {
      "cell_type": "markdown",
      "source": [
        "**range()는 종료숫자-1 까지 포함한다**"
      ],
      "metadata": {
        "id": "D8A4jMt_s_fA"
      }
    },
    {
      "cell_type": "code",
      "source": [
        "for a in range(1,11) :\n",
        "  print(a)"
      ],
      "metadata": {
        "colab": {
          "base_uri": "https://localhost:8080/"
        },
        "id": "rg4_Qi7MtB1D",
        "outputId": "277a5fdd-d54e-41cb-8424-70a6d426c914"
      },
      "execution_count": null,
      "outputs": [
        {
          "output_type": "stream",
          "name": "stdout",
          "text": [
            "1\n",
            "2\n",
            "3\n",
            "4\n",
            "5\n",
            "6\n",
            "7\n",
            "8\n",
            "9\n",
            "10\n"
          ]
        }
      ]
    },
    {
      "cell_type": "markdown",
      "source": [
        "**range()에서 시작숫자가 0일 때에는 생략 가능**"
      ],
      "metadata": {
        "id": "P_29AVLOtHb4"
      }
    },
    {
      "cell_type": "code",
      "source": [
        "for a in range(10) :   #range(숫자)만큼 실행하지만 0부터 시작함 총계수는 (숫자)\n",
        "  print(a,'선생님 다시는 청소를 뺴먹지 않겠습니다')"
      ],
      "metadata": {
        "colab": {
          "base_uri": "https://localhost:8080/"
        },
        "id": "YDA6DVustIVH",
        "outputId": "b9daadc4-f169-4cee-d150-5f080f30ba5b"
      },
      "execution_count": null,
      "outputs": [
        {
          "output_type": "stream",
          "name": "stdout",
          "text": [
            "0 선생님 다시는 청소를 뺴먹지 않겠습니다\n",
            "1 선생님 다시는 청소를 뺴먹지 않겠습니다\n",
            "2 선생님 다시는 청소를 뺴먹지 않겠습니다\n",
            "3 선생님 다시는 청소를 뺴먹지 않겠습니다\n",
            "4 선생님 다시는 청소를 뺴먹지 않겠습니다\n",
            "5 선생님 다시는 청소를 뺴먹지 않겠습니다\n",
            "6 선생님 다시는 청소를 뺴먹지 않겠습니다\n",
            "7 선생님 다시는 청소를 뺴먹지 않겠습니다\n",
            "8 선생님 다시는 청소를 뺴먹지 않겠습니다\n",
            "9 선생님 다시는 청소를 뺴먹지 않겠습니다\n"
          ]
        }
      ]
    },
    {
      "cell_type": "markdown",
      "source": [
        "### **for i in data :**\n",
        "일반적으로 반복문에서는 i라는 변수를 사용합니다"
      ],
      "metadata": {
        "id": "Txf2vMU2uq9-"
      }
    },
    {
      "cell_type": "markdown",
      "source": [
        "1부터 50까지의 숫자의 합을 구해보자. ex) 1+2+3+...49+50"
      ],
      "metadata": {
        "id": "7t5dV_v3t3ga"
      }
    },
    {
      "cell_type": "code",
      "source": [
        "result = 0\n",
        "\n",
        "for i in range(1,101) :\n",
        "  result += i\n",
        "\n",
        "print(result)"
      ],
      "metadata": {
        "colab": {
          "base_uri": "https://localhost:8080/"
        },
        "id": "MiOBPMPAt5ud",
        "outputId": "e4854750-5529-47f4-ba1e-51b24cba3bbe"
      },
      "execution_count": null,
      "outputs": [
        {
          "output_type": "stream",
          "name": "stdout",
          "text": [
            "5050\n"
          ]
        }
      ]
    },
    {
      "cell_type": "markdown",
      "source": [
        "숫자 하나를 입력받고, 1부터 입력받은 숫자까지의 곱을 구해보세요.\n",
        "ex) 5를 입력받은 경우, 1x2x3x4x5 결과 출력하기"
      ],
      "metadata": {
        "id": "YIdLxgxLuzbf"
      }
    },
    {
      "cell_type": "code",
      "source": [
        "num = int(input('숫자 입력 -> '))\n",
        "result = 1\n",
        "\n",
        "for i in range(1, num+1) : \n",
        "    result *= i\n",
        "\n",
        "print(result)"
      ],
      "metadata": {
        "id": "XtW1oAoJv_G3"
      },
      "execution_count": null,
      "outputs": []
    },
    {
      "cell_type": "markdown",
      "source": [
        "### **구구단 출력프로그램**\n",
        "4단 출력하기 <br/>\n",
        "\n",
        "```\n",
        "4 x 1 = 4\n",
        "4 x 2 = 8\n",
        "...\n",
        "4 x 8 = 32\n",
        "4 x 9 = 36\n",
        "```"
      ],
      "metadata": {
        "id": "0u6m0JGmwTZ_"
      }
    },
    {
      "cell_type": "code",
      "source": [
        "num = int(input('몇단을 왜울까요?'))\n",
        "for i in range(1,10) :\n",
        "   print(num,\"x\",i,\"=\",num*i)"
      ],
      "metadata": {
        "id": "Fx0ZZQuJwTBP"
      },
      "execution_count": null,
      "outputs": []
    },
    {
      "cell_type": "markdown",
      "source": [
        "### **랜덤 구구단 게임 작성하기**\n",
        "*   랜덤으로 곱셈 문제를 내고 답을 맞추는 게임\n",
        "### **import**\n"
      ],
      "metadata": {
        "id": "UH4aD-n2zIG9"
      }
    },
    {
      "cell_type": "code",
      "source": [
        "import random\n",
        "random.random()\n",
        "#import random()"
      ],
      "metadata": {
        "id": "_GXdjIPDzRB7"
      },
      "execution_count": null,
      "outputs": []
    },
    {
      "cell_type": "code",
      "source": [
        "help(random.random)"
      ],
      "metadata": {
        "id": "SCBsvyWY0TVw"
      },
      "execution_count": null,
      "outputs": []
    },
    {
      "cell_type": "code",
      "source": [
        "#randint 정수값을 만들어줌\n",
        "random.randint(1,10)"
      ],
      "metadata": {
        "id": "ohtQObAZ0aOD"
      },
      "execution_count": null,
      "outputs": []
    },
    {
      "cell_type": "code",
      "source": [
        "for i in range(10) :\n",
        "  print(random.randint(1,10))"
      ],
      "metadata": {
        "id": "DEbX5l4Z0jRC"
      },
      "execution_count": null,
      "outputs": []
    },
    {
      "cell_type": "markdown",
      "source": [
        "### **랜덤한 숫자를 생성후 값 출력**"
      ],
      "metadata": {
        "id": "d1ruRmcc5eWW"
      }
    },
    {
      "cell_type": "code",
      "source": [
        "a = random.randint(1,10)"
      ],
      "metadata": {
        "id": "xSkEQ3mE5TnQ"
      },
      "execution_count": null,
      "outputs": []
    },
    {
      "cell_type": "code",
      "source": [
        "print(a)"
      ],
      "metadata": {
        "id": "ob9_yQO65YzM"
      },
      "execution_count": null,
      "outputs": []
    },
    {
      "cell_type": "code",
      "source": [
        "if a >= 5 :\n",
        "  print('5이상')\n",
        "else :\n",
        "  print('5미만')"
      ],
      "metadata": {
        "id": "mmBz9up001d0"
      },
      "execution_count": null,
      "outputs": []
    },
    {
      "cell_type": "markdown",
      "source": [
        "### **임의로 생성되는 구구단**"
      ],
      "metadata": {
        "id": "kKBKn7V95h6R"
      }
    },
    {
      "cell_type": "code",
      "source": [
        "import random\n",
        "\n",
        "for i in range(5) :\n",
        "  num1 =random.randint(2,9)\n",
        "  num2 =random.randint(1,9)\n",
        "  print(num1,\"x\",num2,'=','?')"
      ],
      "metadata": {
        "id": "bOFRrUE45qv9"
      },
      "execution_count": null,
      "outputs": []
    },
    {
      "cell_type": "code",
      "source": [
        "import random\n",
        "\n",
        "for i in range(5) :\n",
        "  num1 =random.randint(2,9)\n",
        "  num2 =random.randint(1,9)\n",
        "  question = str(num1)+' x '+str(num2)+' ? '\n",
        "  input(question)"
      ],
      "metadata": {
        "id": "z6FWHLru6OCk"
      },
      "execution_count": null,
      "outputs": []
    },
    {
      "cell_type": "markdown",
      "source": [
        "### **반복문안의 조건문**\n"
      ],
      "metadata": {
        "id": "SyRStvBu7LUc"
      }
    },
    {
      "cell_type": "code",
      "source": [
        "import random\n",
        "\n",
        "for i in range(5) :\n",
        "  num1 =random.randint(2,9)\n",
        "  num2 =random.randint(1,9)\n",
        "  question = str(num1)+' x '+str(num2)+' ? '\n",
        "  #입력된 답을 변수에 저장하기\n",
        "  answer = int(input(question))\n",
        " #   != 같지않다\n",
        "  if answer != num1*num2 :\n",
        "    print('땡! 정답은',num1*num2)"
      ],
      "metadata": {
        "id": "aoTOgtHu7OcZ"
      },
      "execution_count": null,
      "outputs": []
    },
    {
      "cell_type": "markdown",
      "source": [
        "### **1부터 30까지 숫자의 홀수 짝수 판별하기**"
      ],
      "metadata": {
        "id": "FR4NmkUW9h2h"
      }
    },
    {
      "cell_type": "code",
      "source": [
        "for i in range(1, 31) : \n",
        "    if i%2 == 1 : \n",
        "        print(i, '홀수')\n",
        "    else : \n",
        "        print(i, '짝수')"
      ],
      "metadata": {
        "id": "_ZGXx5_B9Et6"
      },
      "execution_count": null,
      "outputs": []
    },
    {
      "cell_type": "markdown",
      "source": [
        "# **리스트**"
      ],
      "metadata": {
        "id": "H-w1fYstnpj9"
      }
    },
    {
      "cell_type": "markdown",
      "source": [
        "### **올림픽**"
      ],
      "metadata": {
        "id": "TxadrEXgnwgv"
      }
    },
    {
      "cell_type": "code",
      "source": [
        "#금,은,동,합계\n",
        "data =[\n",
        "       [1,'미국',46,37,38,121],\n",
        "       [2,'영국',27,23,17,67],\n",
        "       [3,'중국',26,18,26,70],\n",
        "       [4,'러시아',19,18,19,56],\n",
        "       [5,'독일',17,10,15,42],\n",
        "       [6,'일본',12,8,21,41],\n",
        "       [7,'프랑스',10,18,14,42],\n",
        "       [8,'대한민국',9,3,9,21] \n",
        "       ]"
      ],
      "metadata": {
        "id": "T2VArrd0n0uH"
      },
      "execution_count": null,
      "outputs": []
    },
    {
      "cell_type": "code",
      "source": [
        "for i in data :\n",
        "  print(i)"
      ],
      "metadata": {
        "colab": {
          "base_uri": "https://localhost:8080/"
        },
        "id": "DCJ_PfkzqbOj",
        "outputId": "73121006-d244-4366-c231-fee61aeb0645"
      },
      "execution_count": null,
      "outputs": [
        {
          "output_type": "stream",
          "name": "stdout",
          "text": [
            "[1, '미국', 46, 37, 38, 121]\n",
            "[2, '영국', 27, 23, 17, 67]\n",
            "[3, '중국', 26, 18, 26, 70]\n",
            "[4, '러시아', 19, 18, 19, 56]\n",
            "[5, '독일', 17, 10, 15, 42]\n",
            "[6, '일본', 12, 8, 21, 41]\n",
            "[7, '프랑스', 10, 18, 14, 42]\n",
            "[8, '대한민국', 9, 3, 9, 21]\n"
          ]
        }
      ]
    },
    {
      "cell_type": "code",
      "source": [
        "for row in data :\n",
        "  print(row[1],'금메달 개수는' ,row[2],'개')"
      ],
      "metadata": {
        "colab": {
          "base_uri": "https://localhost:8080/"
        },
        "id": "rf923LDlrLg-",
        "outputId": "733e3e91-c9e0-4ca4-d3c3-c17f1b71d294"
      },
      "execution_count": null,
      "outputs": [
        {
          "output_type": "stream",
          "name": "stdout",
          "text": [
            "미국 금메달 개수는 46 개\n",
            "영국 금메달 개수는 27 개\n",
            "중국 금메달 개수는 26 개\n",
            "러시아 금메달 개수는 19 개\n",
            "독일 금메달 개수는 17 개\n",
            "일본 금메달 개수는 12 개\n",
            "프랑스 금메달 개수는 10 개\n",
            "대한민국 금메달 개수는 9 개\n"
          ]
        }
      ]
    },
    {
      "cell_type": "code",
      "source": [
        "for row in data :\n",
        "  print(row[1],'총 메달 개수는 ' ,row[5],'개')"
      ],
      "metadata": {
        "id": "YRfIgpZWxRoN",
        "outputId": "7e48631f-c5fb-4350-89a2-6cc6277a4196",
        "colab": {
          "base_uri": "https://localhost:8080/"
        }
      },
      "execution_count": null,
      "outputs": [
        {
          "output_type": "stream",
          "name": "stdout",
          "text": [
            "미국 총 메달 개수는  121 개\n",
            "영국 총 메달 개수는  67 개\n",
            "중국 총 메달 개수는  70 개\n",
            "러시아 총 메달 개수는  56 개\n",
            "독일 총 메달 개수는  42 개\n",
            "일본 총 메달 개수는  41 개\n",
            "프랑스 총 메달 개수는  42 개\n",
            "대한민국 총 메달 개수는  21 개\n"
          ]
        }
      ]
    },
    {
      "cell_type": "code",
      "source": [
        "result = 0\n",
        "for i in data :\n",
        "  result = i[2]+i[3]+i[4]\n",
        "  print(result,i[5])"
      ],
      "metadata": {
        "colab": {
          "base_uri": "https://localhost:8080/"
        },
        "id": "NxRfD6Yst4_c",
        "outputId": "3acb6b05-0f38-4b56-e502-bbc14861e1c4"
      },
      "execution_count": null,
      "outputs": [
        {
          "output_type": "stream",
          "name": "stdout",
          "text": [
            "121 121\n",
            "67 67\n",
            "70 70\n",
            "56 56\n",
            "42 42\n",
            "41 41\n",
            "42 42\n",
            "21 21\n"
          ]
        }
      ]
    },
    {
      "cell_type": "code",
      "source": [
        "#금메달 보다 은메달 개수가 많은 나라를 출력하시오\n",
        "for row in data:\n",
        "  if row[2] < row[3]:\n",
        "    print(row[1],'금메달 -',row[2],'은메달 -',row[3])"
      ],
      "metadata": {
        "colab": {
          "base_uri": "https://localhost:8080/"
        },
        "id": "eo2moYrjyDt6",
        "outputId": "a87d5262-8902-4c08-a58b-d6c1201eba90"
      },
      "execution_count": null,
      "outputs": [
        {
          "output_type": "stream",
          "name": "stdout",
          "text": [
            "프랑스 금메달 - 10 은메달 - 18\n"
          ]
        }
      ]
    },
    {
      "cell_type": "code",
      "source": [
        "all = 0\n",
        "\n",
        "for row in data:\n",
        "  all += row[-1]\n",
        "print('총 메달의 개수는 ',all,'개입니다.')"
      ],
      "metadata": {
        "colab": {
          "base_uri": "https://localhost:8080/"
        },
        "id": "4HgXsf0YviEN",
        "outputId": "3e6b4c20-09c4-4edd-d65c-a075a03fc807"
      },
      "execution_count": null,
      "outputs": [
        {
          "output_type": "stream",
          "name": "stdout",
          "text": [
            "총 메달의 개수는  460 개입니다.\n"
          ]
        }
      ]
    },
    {
      "cell_type": "code",
      "source": [
        "#금메달 보다 동메달 개수가 많은 나라를 출력하시오\n",
        "for row in data :\n",
        "  if row[2] < row[4]:\n",
        "    print(row[1],'금메달-',row[2],'동메달-',row[4])"
      ],
      "metadata": {
        "colab": {
          "base_uri": "https://localhost:8080/"
        },
        "id": "ny9OjkTxzMD9",
        "outputId": "30a5211f-5bee-4a86-f585-3cf5a9a5697e"
      },
      "execution_count": null,
      "outputs": [
        {
          "output_type": "stream",
          "name": "stdout",
          "text": [
            "일본 금메달- 12 동메달- 21\n",
            "프랑스 금메달- 10 동메달- 14\n"
          ]
        }
      ]
    },
    {
      "cell_type": "code",
      "source": [
        "# 모든 나라의 금메달 합을 구하시오\n",
        "copper = 0\n",
        "\n",
        "for row in data : \n",
        "    copper = row[2]\n",
        "    print(row, copper,'개 입니다.')"
      ],
      "metadata": {
        "colab": {
          "base_uri": "https://localhost:8080/"
        },
        "id": "RDw_WkNZwNau",
        "outputId": "8c4815be-cab5-4c30-b2a0-c4c9e048df31"
      },
      "execution_count": null,
      "outputs": [
        {
          "output_type": "stream",
          "name": "stdout",
          "text": [
            "[1, '미국', 46, 37, 38, 121] 46 개 입니다.\n",
            "[2, '영국', 27, 23, 17, 67] 27 개 입니다.\n",
            "[3, '중국', 26, 18, 26, 70] 26 개 입니다.\n",
            "[4, '러시아', 19, 18, 19, 56] 19 개 입니다.\n",
            "[5, '독일', 17, 10, 15, 42] 17 개 입니다.\n",
            "[6, '일본', 12, 8, 21, 41] 12 개 입니다.\n",
            "[7, '프랑스', 10, 18, 14, 42] 10 개 입니다.\n",
            "[8, '대한민국', 9, 3, 9, 21] 9 개 입니다.\n"
          ]
        }
      ]
    },
    {
      "cell_type": "code",
      "source": [
        "# 모든 나라의 금메달 합을 구하시오\n",
        "copper = 0\n",
        "\n",
        "for row in data : \n",
        "    copper += row[4]\n",
        "\n",
        "print('총 동메달 개수는', copper,'개 입니다.')"
      ],
      "metadata": {
        "colab": {
          "base_uri": "https://localhost:8080/"
        },
        "id": "BosTwwvOsEdE",
        "outputId": "46d26a3c-5e68-406e-f7e4-743515e20e70"
      },
      "execution_count": null,
      "outputs": [
        {
          "output_type": "stream",
          "name": "stdout",
          "text": [
            "총 동메달 개수는 159 개 입니다.\n"
          ]
        }
      ]
    },
    {
      "cell_type": "code",
      "source": [
        "soda =[\n",
        "       [1,'정글',20,24,123,23],\n",
        "       [2,'미드',123,23,13,12],\n",
        "       ]"
      ],
      "metadata": {
        "id": "u9mnfA1q2Tq-"
      },
      "execution_count": null,
      "outputs": []
    },
    {
      "cell_type": "markdown",
      "source": [
        "# **딕셔너리**"
      ],
      "metadata": {
        "id": "Gk5vLtx5_lFE"
      }
    },
    {
      "cell_type": "code",
      "source": [
        "menu = {'김밥':2500, '참치김밥': 3500, '라면':3000, '치즈라면': 4000}\n",
        "menu"
      ],
      "metadata": {
        "colab": {
          "base_uri": "https://localhost:8080/"
        },
        "id": "ab_XSyV7_qPs",
        "outputId": "9a81ab9e-8135-4c20-edda-50a7436bcec6"
      },
      "execution_count": null,
      "outputs": [
        {
          "output_type": "execute_result",
          "data": {
            "text/plain": [
              "{'김밥': 2500, '참치김밥': 3500, '라면': 3000, '치즈라면': 4000}"
            ]
          },
          "metadata": {},
          "execution_count": 27
        }
      ]
    },
    {
      "cell_type": "code",
      "source": [
        "menu['참치김밥']"
      ],
      "metadata": {
        "colab": {
          "base_uri": "https://localhost:8080/"
        },
        "id": "hxZQ5xCeA1hM",
        "outputId": "d3f6225e-fca7-4037-dbe9-39067d177414"
      },
      "execution_count": null,
      "outputs": [
        {
          "output_type": "execute_result",
          "data": {
            "text/plain": [
              "3500"
            ]
          },
          "metadata": {},
          "execution_count": 28
        }
      ]
    },
    {
      "cell_type": "code",
      "source": [
        "menu['치즈라면']"
      ],
      "metadata": {
        "colab": {
          "base_uri": "https://localhost:8080/"
        },
        "id": "dOJlV6SFA3Ek",
        "outputId": "841db252-454d-45cb-a9f1-3abdb3d03abf"
      },
      "execution_count": null,
      "outputs": [
        {
          "output_type": "execute_result",
          "data": {
            "text/plain": [
              "4000"
            ]
          },
          "metadata": {},
          "execution_count": 29
        }
      ]
    },
    {
      "cell_type": "code",
      "source": [
        "print(menu)\n",
        "\n",
        "# 참치김밥 인하 3000원\n",
        "menu['참치김밥'] = 3000\n",
        "\n",
        "print(menu)"
      ],
      "metadata": {
        "colab": {
          "base_uri": "https://localhost:8080/"
        },
        "id": "ogHCMCFOA4UU",
        "outputId": "ec88e70b-be2f-4933-da8e-8e8c5f90fbb9"
      },
      "execution_count": null,
      "outputs": [
        {
          "output_type": "stream",
          "name": "stdout",
          "text": [
            "{'김밥': 2500, '참치김밥': 3500, '라면': 3000, '치즈라면': 4000}\n",
            "{'김밥': 2500, '참치김밥': 3000, '라면': 3000, '치즈라면': 4000}\n"
          ]
        }
      ]
    },
    {
      "cell_type": "code",
      "source": [
        "print(menu)\n",
        "\n",
        "# 라면가격 인상 3500\n",
        "menu['라면'] = 3500\n",
        "\n",
        "print(menu)"
      ],
      "metadata": {
        "colab": {
          "base_uri": "https://localhost:8080/"
        },
        "id": "TeWrSzIcBFZ9",
        "outputId": "4c5e10b2-4087-4893-def4-04528c98de15"
      },
      "execution_count": null,
      "outputs": [
        {
          "output_type": "stream",
          "name": "stdout",
          "text": [
            "{'김밥': 2500, '참치김밥': 3000, '라면': 3000, '치즈라면': 4000}\n",
            "{'김밥': 2500, '참치김밥': 3000, '라면': 3500, '치즈라면': 4000}\n"
          ]
        }
      ]
    },
    {
      "cell_type": "code",
      "source": [
        "# 돈가스 추가\n",
        "menu['돈가스']=6000\n",
        "print(menu)"
      ],
      "metadata": {
        "colab": {
          "base_uri": "https://localhost:8080/"
        },
        "id": "OeGzN70vBPrU",
        "outputId": "20a27dd5-43c1-45f9-a8fb-2bf4bd196bb5"
      },
      "execution_count": null,
      "outputs": [
        {
          "output_type": "stream",
          "name": "stdout",
          "text": [
            "{'김밥': 2500, '참치김밥': 3000, '라면': 3500, '치즈라면': 4000, '돈가스': 6000}\n"
          ]
        }
      ]
    },
    {
      "cell_type": "markdown",
      "source": [
        "### 2. 딕셔너리의 키와 값\n",
        "\n",
        "딕셔너리의 키만 꺼내기 \n",
        "> 딕셔너리이름.keys()\n",
        "\n",
        "<br/>\n",
        "\n",
        "딕셔너리의 값(value)만 꺼내기 \n",
        "> 딕셔너리이름.values()\n",
        "\n",
        "<br/>\n",
        "\n",
        "딕셔너리의 키-값 모두 꺼내기 \n",
        ">딕셔너리이름.items()\n",
        "\n",
        "\n",
        "\n"
      ],
      "metadata": {
        "id": "3gU7SCg5Bmhl"
      }
    },
    {
      "cell_type": "code",
      "source": [
        "menu.keys()"
      ],
      "metadata": {
        "colab": {
          "base_uri": "https://localhost:8080/"
        },
        "id": "_-I_6LptBnPk",
        "outputId": "f5c445aa-6090-40a4-f4fb-72cc54772ddd"
      },
      "execution_count": null,
      "outputs": [
        {
          "output_type": "execute_result",
          "data": {
            "text/plain": [
              "dict_keys(['김밥', '참치김밥', '라면', '치즈라면', '돈가스'])"
            ]
          },
          "metadata": {},
          "execution_count": 33
        }
      ]
    },
    {
      "cell_type": "code",
      "source": [
        "menu.values()"
      ],
      "metadata": {
        "colab": {
          "base_uri": "https://localhost:8080/"
        },
        "id": "oRKguOPjCIAc",
        "outputId": "fdab5dd1-1202-44e4-b334-a82dd2c4f523"
      },
      "execution_count": null,
      "outputs": [
        {
          "output_type": "execute_result",
          "data": {
            "text/plain": [
              "dict_values([2500, 3000, 3500, 4000, 6000])"
            ]
          },
          "metadata": {},
          "execution_count": 34
        }
      ]
    },
    {
      "cell_type": "code",
      "source": [
        "menu.items()"
      ],
      "metadata": {
        "colab": {
          "base_uri": "https://localhost:8080/"
        },
        "id": "vu_MDhNUCI19",
        "outputId": "3d0d3212-8012-49b9-9d04-123588ed0c32"
      },
      "execution_count": null,
      "outputs": [
        {
          "output_type": "execute_result",
          "data": {
            "text/plain": [
              "dict_items([('김밥', 2500), ('참치김밥', 3000), ('라면', 3500), ('치즈라면', 4000), ('돈가스', 6000)])"
            ]
          },
          "metadata": {},
          "execution_count": 35
        }
      ]
    },
    {
      "cell_type": "code",
      "source": [
        "# 딕셔너리의 키를 리스트로 변환하기\n",
        "list(menu.keys())"
      ],
      "metadata": {
        "colab": {
          "base_uri": "https://localhost:8080/"
        },
        "id": "eMtrq5hECMkE",
        "outputId": "6ed8f7ab-8b5c-4ba6-e876-0b806008fa3b"
      },
      "execution_count": null,
      "outputs": [
        {
          "output_type": "execute_result",
          "data": {
            "text/plain": [
              "['김밥', '참치김밥', '라면', '치즈라면', '돈가스']"
            ]
          },
          "metadata": {},
          "execution_count": 36
        }
      ]
    },
    {
      "cell_type": "code",
      "source": [
        "# 딕셔너리의 값을 리스트로 변환하기\n",
        "list(menu.values())"
      ],
      "metadata": {
        "colab": {
          "base_uri": "https://localhost:8080/"
        },
        "id": "WOY6DGtwCOI7",
        "outputId": "a16e5338-3386-4f04-e0aa-03458739ca14"
      },
      "execution_count": null,
      "outputs": [
        {
          "output_type": "execute_result",
          "data": {
            "text/plain": [
              "[2500, 3000, 3500, 4000, 6000]"
            ]
          },
          "metadata": {},
          "execution_count": 38
        }
      ]
    },
    {
      "cell_type": "markdown",
      "source": [
        "### 3. 딕셔너리 정렬하기 \n",
        "\n",
        "> sorted( )\n",
        "\n",
        "```\n",
        "# 딕셔너리 키를 정렬\n",
        "sorted(딕셔너리.keys())\n",
        "\n",
        "# 딕셔너리 값을 정렬\n",
        "sorted(딕셔너리.values())\n",
        "\n",
        "# 딕셔너리 키-값을 정렬\n",
        "sorted(딕셔너리.items())\n",
        "```\n",
        "\n",
        "```\n",
        "mart = {'과자':1500, '아이스크림':1700, '휴지':4800, '고기':10500, '우유':2600}\n",
        "```\n",
        "\n",
        "\n"
      ],
      "metadata": {
        "id": "VXD86rdYCVpQ"
      }
    },
    {
      "cell_type": "code",
      "source": [
        "mart = {'과자':1500, '아이스크림':1700, '휴지':4800, '고기':10500, '우유':2600}"
      ],
      "metadata": {
        "id": "YIl76GrjCWD5"
      },
      "execution_count": null,
      "outputs": []
    },
    {
      "cell_type": "markdown",
      "source": [
        "오름차순, 내림차순 옵션 reverse\n",
        "\n",
        "sorted(정렬할 대상, reverse = True/False)\n",
        "*   오름차순 ex) [1,2,5,3] ->[1,2,3,5]\n",
        "*   내림차순 ex) [1,4,5,2] ->[5,4,2,1]"
      ],
      "metadata": {
        "id": "omOiUto-CsVN"
      }
    },
    {
      "cell_type": "code",
      "source": [
        "sorted(mart.keys())"
      ],
      "metadata": {
        "colab": {
          "base_uri": "https://localhost:8080/"
        },
        "id": "ha136zOtCgXj",
        "outputId": "52a0713e-932c-428a-f856-2e157898635d"
      },
      "execution_count": null,
      "outputs": [
        {
          "output_type": "execute_result",
          "data": {
            "text/plain": [
              "['고기', '과자', '아이스크림', '우유', '휴지']"
            ]
          },
          "metadata": {},
          "execution_count": 40
        }
      ]
    },
    {
      "cell_type": "code",
      "source": [
        "sorted(mart.values())"
      ],
      "metadata": {
        "colab": {
          "base_uri": "https://localhost:8080/"
        },
        "id": "7stg77yHCjWT",
        "outputId": "93865e8f-4e49-4e49-e91c-4d2c836a84da"
      },
      "execution_count": null,
      "outputs": [
        {
          "output_type": "execute_result",
          "data": {
            "text/plain": [
              "[1500, 1700, 2600, 4800, 10500]"
            ]
          },
          "metadata": {},
          "execution_count": 41
        }
      ]
    },
    {
      "cell_type": "code",
      "source": [
        "sorted(mart.keys(),reverse=True)"
      ],
      "metadata": {
        "colab": {
          "base_uri": "https://localhost:8080/"
        },
        "id": "HCzWAGy5Cxm3",
        "outputId": "d4dadace-e6b3-4616-ef46-1d530a5b306e"
      },
      "execution_count": null,
      "outputs": [
        {
          "output_type": "execute_result",
          "data": {
            "text/plain": [
              "['휴지', '우유', '아이스크림', '과자', '고기']"
            ]
          },
          "metadata": {},
          "execution_count": 45
        }
      ]
    },
    {
      "cell_type": "code",
      "source": [
        "sorted(mart.values(),reverse=True)"
      ],
      "metadata": {
        "colab": {
          "base_uri": "https://localhost:8080/"
        },
        "id": "NZSsQUxPC4uP",
        "outputId": "38dd2a5a-be1a-4735-a37a-70c719558648"
      },
      "execution_count": null,
      "outputs": [
        {
          "output_type": "execute_result",
          "data": {
            "text/plain": [
              "[10500, 4800, 2600, 1700, 1500]"
            ]
          },
          "metadata": {},
          "execution_count": 47
        }
      ]
    },
    {
      "cell_type": "code",
      "source": [
        "sorted(mart.items())"
      ],
      "metadata": {
        "colab": {
          "base_uri": "https://localhost:8080/"
        },
        "id": "wXl9D3hACmVv",
        "outputId": "faff563c-6cd7-468e-e184-ee031187f005"
      },
      "execution_count": null,
      "outputs": [
        {
          "output_type": "execute_result",
          "data": {
            "text/plain": [
              "[('고기', 10500), ('과자', 1500), ('아이스크림', 1700), ('우유', 2600), ('휴지', 4800)]"
            ]
          },
          "metadata": {},
          "execution_count": 42
        }
      ]
    },
    {
      "cell_type": "markdown",
      "source": [
        "딕셔너리 정렬 결과는 리스트이다!"
      ],
      "metadata": {
        "id": "TPBiRNRkEPy8"
      }
    },
    {
      "cell_type": "code",
      "source": [
        "mart = {'과자':1500, '아이스크림':1700, '휴지':4800, '고기':10500, '우유':2600}"
      ],
      "metadata": {
        "id": "ECQiGmtIESSX"
      },
      "execution_count": null,
      "outputs": []
    },
    {
      "cell_type": "code",
      "source": [
        "sorted(mart.keys())"
      ],
      "metadata": {
        "colab": {
          "base_uri": "https://localhost:8080/"
        },
        "id": "UJVi5pX-ohV1",
        "outputId": "a8167416-63f4-4175-e4c8-821e68f4b6a9"
      },
      "execution_count": null,
      "outputs": [
        {
          "output_type": "execute_result",
          "data": {
            "text/plain": [
              "['고기', '과자', '아이스크림', '우유', '휴지']"
            ]
          },
          "metadata": {},
          "execution_count": 2
        }
      ]
    },
    {
      "cell_type": "markdown",
      "source": [
        "오름차순, 내림차순 옵션 reverse\n",
        "딕셔너리의 정렬 결과는 리스트로 나타내어진다"
      ],
      "metadata": {
        "id": "JIuL3we4okCJ"
      }
    },
    {
      "cell_type": "code",
      "source": [
        "sorted(mart.keys(), reverse=True)"
      ],
      "metadata": {
        "colab": {
          "base_uri": "https://localhost:8080/"
        },
        "id": "-X_XDI8yolDI",
        "outputId": "ead85070-8979-4f61-9b23-88eaa5790417"
      },
      "execution_count": null,
      "outputs": [
        {
          "output_type": "execute_result",
          "data": {
            "text/plain": [
              "['휴지', '우유', '아이스크림', '과자', '고기']"
            ]
          },
          "metadata": {},
          "execution_count": 3
        }
      ]
    },
    {
      "cell_type": "code",
      "source": [
        "# 가장 싼 상품의 가격은?\n",
        "sorted(mart.values())[0]"
      ],
      "metadata": {
        "colab": {
          "base_uri": "https://localhost:8080/"
        },
        "id": "OlE7E5Gcovij",
        "outputId": "0febc57b-1a3f-492f-9d0f-dcc9e9061885"
      },
      "execution_count": null,
      "outputs": [
        {
          "output_type": "execute_result",
          "data": {
            "text/plain": [
              "1500"
            ]
          },
          "metadata": {},
          "execution_count": 4
        }
      ]
    },
    {
      "cell_type": "code",
      "source": [
        "# 가장 싼 상품 두 개의 가격은?\n",
        "sorted(mart.values())[:2]"
      ],
      "metadata": {
        "colab": {
          "base_uri": "https://localhost:8080/"
        },
        "id": "JrIBUT0EpbuV",
        "outputId": "6a1baabe-d553-4cb1-cc43-636b14ca6a00"
      },
      "execution_count": null,
      "outputs": [
        {
          "output_type": "execute_result",
          "data": {
            "text/plain": [
              "[1500, 1700]"
            ]
          },
          "metadata": {},
          "execution_count": 5
        }
      ]
    },
    {
      "cell_type": "code",
      "source": [
        "# 가장 비싼 상품의 두 개의 가격은?\n",
        "#리버스 를 써서 높은 순부터 결과값을 나타냄\n",
        "sorted(mart.values(), reverse = True)[:2]"
      ],
      "metadata": {
        "colab": {
          "base_uri": "https://localhost:8080/"
        },
        "id": "NKm53d5tpdV0",
        "outputId": "57fd9ec3-420e-4bca-99d2-d5a829bb5e2c"
      },
      "execution_count": null,
      "outputs": [
        {
          "output_type": "execute_result",
          "data": {
            "text/plain": [
              "[10500, 4800]"
            ]
          },
          "metadata": {},
          "execution_count": 7
        }
      ]
    },
    {
      "cell_type": "markdown",
      "source": [
        "### 딕셔너리의 키-값 쌍을 정렬하기"
      ],
      "metadata": {
        "id": "bkxrBtr6pqBT"
      }
    },
    {
      "cell_type": "code",
      "source": [
        "# 딕셔너리의 (키-값) 쌍을 정렬하기\n",
        "sorted(mart.items())"
      ],
      "metadata": {
        "colab": {
          "base_uri": "https://localhost:8080/"
        },
        "id": "9tHI_ovcpu9R",
        "outputId": "f55bd1a6-a544-4635-b698-219e471e1d7d"
      },
      "execution_count": null,
      "outputs": [
        {
          "output_type": "execute_result",
          "data": {
            "text/plain": [
              "[('고기', 10500), ('과자', 1500), ('아이스크림', 1700), ('우유', 2600), ('휴지', 4800)]"
            ]
          },
          "metadata": {},
          "execution_count": 8
        }
      ]
    },
    {
      "cell_type": "code",
      "source": [
        "sorted(mart.items(), reverse = True)"
      ],
      "metadata": {
        "colab": {
          "base_uri": "https://localhost:8080/"
        },
        "id": "1UxlkO7Sp1oM",
        "outputId": "616a6b06-879a-43c7-fb3d-dcbbcc197471"
      },
      "execution_count": null,
      "outputs": [
        {
          "output_type": "execute_result",
          "data": {
            "text/plain": [
              "[('휴지', 4800), ('우유', 2600), ('아이스크림', 1700), ('과자', 1500), ('고기', 10500)]"
            ]
          },
          "metadata": {},
          "execution_count": 9
        }
      ]
    },
    {
      "cell_type": "markdown",
      "source": [
        "딕셔너리 (키-값) 쌍은 자동으로 키를 기준으로 정렬됨\n",
        "\n",
        "> 값을 기준으로 (키-값) 쌍 정렬하기 \n",
        "\n",
        "```\n",
        "import operator\n",
        "\n",
        "sorted(딕셔너리.items(), key = operator.itemgetter(1))\n",
        "```"
      ],
      "metadata": {
        "id": "pbEeM1fJqAza"
      }
    },
    {
      "cell_type": "code",
      "source": [
        "# 딕셔너리 키-값 정렬시 값을 기준으로 정렬하기\n",
        "import operator\n",
        " \n",
        "sorted(mart.items(), key = operator.itemgetter(1))"
      ],
      "metadata": {
        "colab": {
          "base_uri": "https://localhost:8080/"
        },
        "id": "kAMapvTiqC14",
        "outputId": "f7adb21e-4633-401f-9707-a8c3799bee13"
      },
      "execution_count": null,
      "outputs": [
        {
          "output_type": "execute_result",
          "data": {
            "text/plain": [
              "[('과자', 1500), ('아이스크림', 1700), ('우유', 2600), ('휴지', 4800), ('고기', 10500)]"
            ]
          },
          "metadata": {},
          "execution_count": 10
        }
      ]
    },
    {
      "cell_type": "code",
      "source": [
        "sorted(mart.items(), key = operator.itemgetter(1), reverse = True)"
      ],
      "metadata": {
        "colab": {
          "base_uri": "https://localhost:8080/"
        },
        "id": "AJwYvGqNqpEQ",
        "outputId": "ca317d68-8dea-48d7-b5ab-54b109a9b77d"
      },
      "execution_count": null,
      "outputs": [
        {
          "output_type": "execute_result",
          "data": {
            "text/plain": [
              "[('고기', 10500), ('휴지', 4800), ('우유', 2600), ('아이스크림', 1700), ('과자', 1500)]"
            ]
          },
          "metadata": {},
          "execution_count": 11
        }
      ]
    },
    {
      "cell_type": "code",
      "source": [
        "# 가장 비싼 상품과 가격을 출력하시오 \n",
        "sorted(mart.items(), key = operator.itemgetter(1), reverse = True)[0]"
      ],
      "metadata": {
        "colab": {
          "base_uri": "https://localhost:8080/"
        },
        "id": "DLEjEhrbqqrA",
        "outputId": "4fe61bd0-ce0b-4cba-a368-32a02c49c32e"
      },
      "execution_count": null,
      "outputs": [
        {
          "output_type": "execute_result",
          "data": {
            "text/plain": [
              "('고기', 10500)"
            ]
          },
          "metadata": {},
          "execution_count": 12
        }
      ]
    },
    {
      "cell_type": "code",
      "source": [
        "# 가장 비싼 상품 두개의 이름과 가격을 출력하기? \n",
        "sorted(mart.items(), key = operator.itemgetter(1), reverse = True)[:2]"
      ],
      "metadata": {
        "colab": {
          "base_uri": "https://localhost:8080/"
        },
        "id": "-M0-yYI9qtDw",
        "outputId": "3453675c-79a8-4a38-96d3-b938a9418b21"
      },
      "execution_count": null,
      "outputs": [
        {
          "output_type": "execute_result",
          "data": {
            "text/plain": [
              "[('고기', 10500), ('휴지', 4800)]"
            ]
          },
          "metadata": {},
          "execution_count": 13
        }
      ]
    },
    {
      "cell_type": "markdown",
      "source": [
        "### 4. 딕셔너리와 제어구조\n",
        "\n",
        "\n",
        "\n",
        "```\n",
        "# 다섯 명의 중간고사 점수를 저장한 딕셔너리\n",
        "midterm = {'도윤': 43, '하윤': 82, '시우': 76, '지유': 61, '주원': 94}\n",
        "```\n"
      ],
      "metadata": {
        "id": "atU1PY5mqwnf"
      }
    },
    {
      "cell_type": "code",
      "source": [
        "# 학생 이름을 입력받나, 딕셔너리에 학생 이름이 있으면 점수를 출력\n",
        "# 없다면 '해당 학생이 없습니다.' 출력하기 \n",
        "midterm = {'도윤': 43, '하윤': 82, '시우': 76, '지유': 61, '주원': 94}\n",
        "\n",
        "student = input('어떤 학생의 점수가 궁금한가요? ')\n",
        "\n",
        "if student in midterm.keys() : \n",
        "    print(midterm[student],'점 입니다.')\n",
        "else : \n",
        "    print('해당 학생이 없습니다.')"
      ],
      "metadata": {
        "colab": {
          "base_uri": "https://localhost:8080/"
        },
        "id": "JLVLpZTDqxHI",
        "outputId": "345f1509-1c33-40f8-91b7-19e7cedd12b1"
      },
      "execution_count": null,
      "outputs": [
        {
          "output_type": "stream",
          "name": "stdout",
          "text": [
            "어떤 학생의 점수가 궁금한가요? 주원\n",
            "94 점 입니다.\n"
          ]
        }
      ]
    },
    {
      "cell_type": "code",
      "source": [
        "# 딕셔너리에 저장된 모든 학생의 이름 출력하기\n",
        "for k in midterm.keys() : \n",
        "    print(k)"
      ],
      "metadata": {
        "colab": {
          "base_uri": "https://localhost:8080/"
        },
        "id": "zb1_4wlcrdPJ",
        "outputId": "458f7fa6-c815-4c85-e106-84329a66e54a"
      },
      "execution_count": null,
      "outputs": [
        {
          "output_type": "stream",
          "name": "stdout",
          "text": [
            "도윤\n",
            "하윤\n",
            "시우\n",
            "지유\n",
            "주원\n"
          ]
        }
      ]
    },
    {
      "cell_type": "markdown",
      "source": [
        "<img src='https://github.com/teacher-jiejie/allinone_AI/blob/images/76_%EB%94%95%EC%85%94%EB%84%88%EB%A6%AC_%ED%82%A4%EB%B0%98%EB%B3%B5.png?raw=true' width=600>"
      ],
      "metadata": {
        "id": "kOwJ2lgdsARQ"
      }
    },
    {
      "cell_type": "code",
      "source": [
        "# 딕셔너리에 저장된 모든 점수 출력하기\n",
        "for v in midterm.values() : \n",
        "    print(v)"
      ],
      "metadata": {
        "id": "NtlBCPZzsAtw"
      },
      "execution_count": null,
      "outputs": []
    },
    {
      "cell_type": "markdown",
      "source": [
        "<img src='https://github.com/teacher-jiejie/allinone_AI/blob/images/77_%EB%94%95%EC%85%94%EB%84%88%EB%A6%AC_%EA%B0%92%EB%B0%98%EB%B3%B5.png?raw=true' width=600>"
      ],
      "metadata": {
        "id": "YX1iCgfAsGuo"
      }
    },
    {
      "cell_type": "code",
      "source": [
        "# 딕셔너리에 저장된 모든 학생과 점수를 같이 출력하기\n",
        "for i in midterm.items() : \n",
        "    print(i)"
      ],
      "metadata": {
        "colab": {
          "base_uri": "https://localhost:8080/"
        },
        "id": "SnCtwmF6sGTh",
        "outputId": "8a0c23a8-71a9-43b8-8cf4-8644cbe35ee5"
      },
      "execution_count": null,
      "outputs": [
        {
          "output_type": "stream",
          "name": "stdout",
          "text": [
            "('도윤', 43)\n",
            "('하윤', 82)\n",
            "('시우', 76)\n",
            "('지유', 61)\n",
            "('주원', 94)\n"
          ]
        }
      ]
    },
    {
      "cell_type": "code",
      "source": [
        "for k, v in midterm.items() :\n",
        "    print(k,'의 점수는', v)"
      ],
      "metadata": {
        "colab": {
          "base_uri": "https://localhost:8080/"
        },
        "id": "SRessKWDsGP4",
        "outputId": "1c189306-3b16-44eb-f0cf-123d71aaed11"
      },
      "execution_count": null,
      "outputs": [
        {
          "output_type": "stream",
          "name": "stdout",
          "text": [
            "도윤 의 점수는 43\n",
            "하윤 의 점수는 82\n",
            "시우 의 점수는 76\n",
            "지유 의 점수는 61\n",
            "주원 의 점수는 94\n"
          ]
        }
      ]
    },
    {
      "cell_type": "markdown",
      "source": [
        "<img src='https://github.com/teacher-jiejie/allinone_AI/blob/images/78_%EB%94%95%EC%85%94%EB%84%88%EB%A6%AC_%EC%95%84%EC%9D%B4%ED%85%9C%EB%B0%98%EB%B3%B5.png?raw=true' width=400>"
      ],
      "metadata": {
        "id": "mcrrp1piu-KB"
      }
    },
    {
      "cell_type": "code",
      "source": [],
      "metadata": {
        "id": "bND966X6vAXY"
      },
      "execution_count": null,
      "outputs": []
    },
    {
      "cell_type": "markdown",
      "source": [
        "# 1. matplotlib 라이브러리\n",
        "\n",
        "\n",
        "> 라이브러리는 다양한 명령어를 포함하고 있다. </br>\n",
        "\n",
        "ex. operator 라이브러리 : 각종 연산자 명령어들 집합</br>\n",
        "ex. random 라이브러리 : 임의의 수를 뽑는 명령어들 집합</br>\n",
        "\n",
        "</br>\n",
        "</br>\n",
        "\n",
        "\n",
        "<img src='https://github.com/teacher-jiejie/allinone_AI/blob/images/80_%E1%84%85%E1%85%A1%E1%84%8B%E1%85%B5%E1%84%87%E1%85%B3%E1%84%85%E1%85%A5%E1%84%85%E1%85%B5.png?raw=true' width = 500>\n",
        "\n",
        "</br>\n",
        "</br>\n",
        "</br>\n",
        "\n",
        "> import 라이브러리명 as 닉네임</br>\n",
        "\n",
        "닉네임.명령어A()</br>\n",
        "닉네임.명령어B()</br>"
      ],
      "metadata": {
        "id": "ANhiEyNxvKLI"
      }
    },
    {
      "cell_type": "markdown",
      "source": [
        "### 선 그래프 그리기"
      ],
      "metadata": {
        "id": "BeVBhugvvp4Q"
      }
    },
    {
      "cell_type": "code",
      "source": [
        "import matplotlib.pyplot as plt\n",
        "\n",
        "plt.plot([1,5,7,3,7])"
      ],
      "metadata": {
        "colab": {
          "base_uri": "https://localhost:8080/",
          "height": 283
        },
        "id": "5sR8Fz6_vL-x",
        "outputId": "d6f987a5-72ef-49a9-88d6-b9c2897c13cf"
      },
      "execution_count": null,
      "outputs": [
        {
          "output_type": "execute_result",
          "data": {
            "text/plain": [
              "[<matplotlib.lines.Line2D at 0x7f3574b1c9d0>]"
            ]
          },
          "metadata": {},
          "execution_count": 31
        },
        {
          "output_type": "display_data",
          "data": {
            "text/plain": [
              "<Figure size 432x288 with 1 Axes>"
            ],
            "image/png": "[encoded data removed]"
          },
          "metadata": {
            "needs_background": "light"
          }
        }
      ]
    },
    {
      "cell_type": "code",
      "source": [
        "plt.plot([1,5,7,3,7])\n",
        "plt.show()"
      ],
      "metadata": {
        "colab": {
          "base_uri": "https://localhost:8080/",
          "height": 265
        },
        "id": "71Yf7XprwhL4",
        "outputId": "f0ab3c48-3364-428c-a7fa-a012819dcb2a"
      },
      "execution_count": null,
      "outputs": [
        {
          "output_type": "display_data",
          "data": {
            "text/plain": [
              "<Figure size 432x288 with 1 Axes>"
            ],
            "image/png": "[encoded data removed]"
          },
          "metadata": {
            "needs_background": "light"
          }
        }
      ]
    },
    {
      "cell_type": "code",
      "source": [
        "sales = [1,5,7,3,7]\n",
        "\n",
        "# 매출그래프\n",
        "plt.plot(sales)\n",
        "plt.show()"
      ],
      "metadata": {
        "colab": {
          "base_uri": "https://localhost:8080/",
          "height": 265
        },
        "id": "1Kw6clFFwoPA",
        "outputId": "8b5c8068-7b4f-4d33-e1fc-4693fe362140"
      },
      "execution_count": null,
      "outputs": [
        {
          "output_type": "display_data",
          "data": {
            "text/plain": [
              "<Figure size 432x288 with 1 Axes>"
            ],
            "image/png": "[encoded data removed]"
          },
          "metadata": {
            "needs_background": "light"
          }
        }
      ]
    },
    {
      "cell_type": "markdown",
      "source": [
        "### x축 추가하기\n",
        "\n",
        "\n",
        "```\n",
        "plt.plot(x축, y축)\n",
        "plt.show()\n",
        "```"
      ],
      "metadata": {
        "id": "upL694jMwv4R"
      }
    },
    {
      "cell_type": "code",
      "source": [
        "# x축 추가\n",
        "mon = ['mar','apr','may','jun','jul']\n",
        "sales = [1, 5, 7, 3, 7]\n",
        "\n",
        "# X축, y축\n",
        "plt.plot(mon, sales)\n",
        "plt.show()"
      ],
      "metadata": {
        "colab": {
          "base_uri": "https://localhost:8080/",
          "height": 265
        },
        "id": "EuePOJw9wwcR",
        "outputId": "0d9afc20-1edc-4297-f7a8-956dcc30e189"
      },
      "execution_count": null,
      "outputs": [
        {
          "output_type": "display_data",
          "data": {
            "text/plain": [
              "<Figure size 432x288 with 1 Axes>"
            ],
            "image/png": "[encoded data removed]"
          },
          "metadata": {
            "needs_background": "light"
          }
        }
      ]
    },
    {
      "cell_type": "markdown",
      "source": [
        "# **9장**"
      ],
      "metadata": {
        "id": "EDL4Fa3Ctnqm"
      }
    },
    {
      "cell_type": "code",
      "source": [
        "!sudo apt-get install -y fonts-nanum\n",
        "!sudo fc-cache -fv\n",
        "!rm ~/.cache/matplotlib -rf"
      ],
      "metadata": {
        "colab": {
          "base_uri": "https://localhost:8080/"
        },
        "id": "fv7_6cB9tw4Z",
        "outputId": "592e1dd8-0dc4-4b58-da07-44495df329cb"
      },
      "execution_count": null,
      "outputs": [
        {
          "output_type": "stream",
          "name": "stdout",
          "text": [
            "Reading package lists... Done\n",
            "Building dependency tree       \n",
            "Reading state information... Done\n",
            "fonts-nanum is already the newest version (20170925-1).\n",
            "The following package was automatically installed and is no longer required:\n",
            "  libnvidia-common-460\n",
            "Use 'sudo apt autoremove' to remove it.\n",
            "0 upgraded, 0 newly installed, 0 to remove and 5 not upgraded.\n",
            "/usr/share/fonts: caching, new cache contents: 0 fonts, 1 dirs\n",
            "/usr/share/fonts/truetype: caching, new cache contents: 0 fonts, 3 dirs\n",
            "/usr/share/fonts/truetype/humor-sans: caching, new cache contents: 1 fonts, 0 dirs\n",
            "/usr/share/fonts/truetype/liberation: caching, new cache contents: 16 fonts, 0 dirs\n",
            "/usr/share/fonts/truetype/nanum: caching, new cache contents: 10 fonts, 0 dirs\n",
            "/usr/local/share/fonts: caching, new cache contents: 0 fonts, 0 dirs\n",
            "/root/.local/share/fonts: skipping, no such directory\n",
            "/root/.fonts: skipping, no such directory\n",
            "/var/cache/fontconfig: cleaning cache directory\n",
            "/root/.cache/fontconfig: not cleaning non-existent cache directory\n",
            "/root/.fontconfig: not cleaning non-existent cache directory\n",
            "fc-cache: succeeded\n"
          ]
        }
      ]
    },
    {
      "cell_type": "code",
      "source": [
        "import matplotlib.pyplot as plt\n",
        "\n",
        "plt.rc('font', family='NanumBarunGothic')"
      ],
      "metadata": {
        "id": "wk8XZvOhJMi0"
      },
      "execution_count": null,
      "outputs": []
    },
    {
      "cell_type": "markdown",
      "source": [
        "### csv 파일을 파이썬으로 읽어오기 \n",
        "\n",
        "\n",
        "\n",
        "1.   파일 open\n",
        "2.   파일 읽기 reader\n",
        "3.   파일 헤더 건너뛰기\n",
        "4.   파일을 리스트로 바꾸기\n",
        "\n",
        "\n",
        "\n",
        "```\n",
        "# csv 라이브러리 임포트\n",
        "import csv \n",
        "\n",
        "f = open('파일명.csv')         # 파일 오픈\n",
        "data = csv.reader(f)         # 파일 읽기 reader\n",
        "next(data)                   # 파일 헤더 건너뛰기 \n",
        "data = list(data)            # 파일 리스트로 바꾸기\n",
        "```\n",
        "\n"
      ],
      "metadata": {
        "id": "gj3WdN9ixmJX"
      }
    },
    {
      "cell_type": "code",
      "source": [
        "# csv 라이브러리 임포트\n",
        "import csv \n",
        "\n",
        "f = open('card.csv')         # 파일 오픈\n",
        "data = csv.reader(f)         # 파일 읽기 reader\n",
        "next(data)                   # 파일 헤더 건너뛰기 \n",
        "data = list(data)            # 파일 리스트로 바꾸기"
      ],
      "metadata": {
        "id": "47axGB0dxd6e"
      },
      "execution_count": null,
      "outputs": []
    },
    {
      "cell_type": "code",
      "source": [
        "print(data[0])"
      ],
      "metadata": {
        "colab": {
          "base_uri": "https://localhost:8080/"
        },
        "id": "d5fuFbQkxm2X",
        "outputId": "1e0a7b54-fccd-4c76-e278-e330099e3a96"
      },
      "execution_count": null,
      "outputs": [
        {
          "output_type": "stream",
          "name": "stdout",
          "text": [
            "['2019-10-12 9:13', '1972753', '본', 'S&', '185', '네이버파이낸셜(주)', '546800', '일시불(A)', '부분취소']\n"
          ]
        }
      ]
    },
    {
      "cell_type": "code",
      "source": [
        "print(data)"
      ],
      "metadata": {
        "colab": {
          "base_uri": "https://localhost:8080/"
        },
        "id": "JoCgpJ1Z18Ep",
        "outputId": "c3766ac4-61d3-4599-c174-0cf4487a8e95"
      },
      "execution_count": null,
      "outputs": [
        {
          "output_type": "stream",
          "name": "stdout",
          "text": [
            "[['2019-10-12 9:13', '1972753', '본', 'S&', '185', '네이버파이낸셜(주)', '546800', '일시불(A)', '부분취소'], ['2019-10-12 11:56', '3399357', '본', 'S&', '185', 'GS  샵', '60440', '일시불(A)', '전표매입'], ['2019-10-13 9:16', '12621902', '본', 'S&', '185', 'G마켓', '91520', 'P(A)', '전표매입'], ['2019-10-14 1:32', '20726947', '본', 'S&', '185', '11번가', '89810', '일시불(A)', '전표매입'], ['2019-10-14 7:06', '21234320', '본', 'S&', '185', '네이버파이낸셜(주)', '33600', '일시불(A)', '전표매입'], ['2019-10-15 23:32', '42229559', '본', 'S&', '185', '네이버파이낸셜(주)', '309600', '일시불(A)', '부분취소'], ['2019-10-16 8:00', '43433092', '본', 'S&', '185', 'SSG.COM', '61983', '일시불(A)', '부분취소'], ['2019-10-16 16:04', '48341209', '본', 'S&', '185', '(주)에이랜드 타임스퀘어', '31600', '일시불', '전표매입'], ['2019-10-17 1:13', '3495922', '본', 'S&', '185', '(주)어패럴컴퍼니', '97000', '일시불(A)', '부분취소'], ['2019-10-17 20:19', '12252560', '본', 'S&', '185', '(주)곱', '96000', '일시불', '전표매입'], ['2019-10-17 20:28', '12336385', '본', 'S&', '185', '카카오택시(선승인)', '4200', '일시불', '승인취소'], ['2019-10-17 20:35', '12421511', '본', 'S&', '185', '카카오페이(택시)', '4200', '일시불', '전표매입'], ['2019-10-17 22:43', '13427539', '본', 'S&', '185', '포도당', '75000', '일시불', '전표매입'], ['2019-10-18 9:23', '15400489', '본', 'S&', '185', '에뛰드', '26410', '일시불(A)', '전표매입'], ['2019-10-18 13:07', '17868166', '본', 'S&', '185', '네이버파이낸셜(주)', '12500', '일시불(A)', '전표매입'], ['2019-10-18 15:48', '20127779', '본', 'S&', '185', '미니스톱신촌점', '1300', '일시불', '전표매입'], ['2019-10-19 20:51', '34777756', '본', 'S&', '185', '(주)우아한형제들', '19000', '일시불(A)', '전표매입'], ['2019-10-20 11:05', '38108397', '본', 'S&', '185', '프렌트립', '55995', '일시불(A)', '부분취소'], ['2019-10-20 19:41', '43820947', '본', 'S&', '185', '네이버파이낸셜(주)', '118000', '일시불(A)', '전표매입'], ['2019-10-20 20:41', '44407948', '본', 'S&', '185', '네이버파이낸셜(주)', '269000', '일시불(A)', '전표매입'], ['2019-10-21 8:02', '47020423', '본', 'S&', '185', 'ZARA', '251000', '02개월(A)', '부분취소'], ['2019-10-21 9:01', '47382647', '본', 'S&', '185', '네이버파이낸셜(주)', '75600', '일시불(A)', '부분취소'], ['2019-10-21 19:39', '6113616', '본', 'S&', '185', '스패뉴시청지점', '61800', '일시불', '전표매입'], ['2019-10-22 0:20', '8465960', '본', 'S&', '185', '네이버파이낸셜(주)', '40900', '일시불(A)', '전표매입'], ['2019-10-22 19:13', '17401676', '본', 'S&', '185', '티머니 개인택시', '4400', '일시불', '전표매입'], ['2019-10-23 14:33', '24535790', '본', 'S&', '185', '스타벅스코리아', '10000', '일시불(A)', '전표매입'], ['2019-10-23 17:11', '26286751', '본', 'S&', '185', '(주)우아한형제들', '21400', '일시불(A)', '전표매입'], ['2019-10-23 17:15', '26340503', '본', 'S&', '185', '(주)우아한형제들', '63000', '일시불(A)', '전표매입'], ['2019-10-24 8:14', '31186016', '본', 'S&', '185', '전화결제', '207000', '일시불', '전표매입'], ['2019-10-24 16:02', '35930752', '본', 'S&', '185', '케이데코(K Deco)', '48000', '일시불(A)', '전표매입'], ['2019-10-24 17:49', '37165070', '본', 'S&', '185', '씨제이올리브영(주)합정메세나폴', '23200', '일시불', '전표매입'], ['2019-10-24 20:10', '38877940', '본', 'S&', '185', '타르타르홍대점', '23100', '일시불', '전표매입'], ['2019-10-25 7:44', '41558471', '본', 'S&', '185', '스타벅스코리아', '10000', '일시불(A)', '전표매입'], ['2019-10-25 15:36', '46897293', '본', 'S&', '185', '연세내과의원', '50000', '일시불', '전표매입'], ['2019-10-25 16:51', '47825013', '본', 'S&', '185', '나폴레옹과자점', '5300', '일시불', '전표매입'], ['2019-10-25 16:58', '47913735', '본', 'S&', '185', '홈플러스익스프레스신촌점', '3990', '일시불', '전표매입'], ['2019-10-26 14:37', '8869313', '본', 'S&', '185', '(주)우아한형제들', '11900', '일시불(A)', '전표매입'], ['2019-10-27 1:29', '15016840', '본', 'S&', '185', '(주)신세계면세점 명동점', '112845', 'P(A)', '매출취소'], ['2019-10-27 1:35', '15039376', '본', 'S&', '185', '(주)신세계면세점 명동점', '161598', '일시불(A)', '매출취소'], ['2019-10-27 2:46', '15310062', '본', 'S&', '185', '롯데E커머스', '16241', '일시불(A)', '전표매입'], ['2019-10-27 21:07', '22934855', '본', 'S&', '185', '(주)우아한형제들', '19000', '일시불(A)', '전표매입'], ['2019-10-28 0:47', '24012675', '본', 'S&', '185', '(주)에스쁘아', '28500', '일시불(A)', '전표매입'], ['2019-10-28 17:40', '31379051', '본', 'S&', '185', '(주)현대백화점신촌점', '4000', '일시불', '전표매입'], ['2019-10-28 17:45', '31451703', '본', 'S&', '185', '(주)현대백화점신촌점', '7000', '일시불', '전표매입'], ['2019-10-28 23:42', '34716749', '본', 'S&', '185', 'SSG.COM', '66046', '일시불(A)', '전표매입'], ['2019-10-29 13:53', '39300046', '본', 'S&', '185', '네이버파이낸셜(주)', '139500', '일시불(A)', '매출취소'], ['2019-10-29 15:45', '40504804', '본', 'S&', '185', '네이버파이낸셜(주)', '86300', '일시불(A)', '전표매입'], ['2019-10-29 18:19', '42323215', '본', 'S&', '185', '네이버파이낸셜(주)', '64900', '일시불(A)', '전표매입'], ['2019-10-30 7:48', '46227975', '본', 'S&', '185', '스타벅스코리아', '30000', '일시불(A)', '전표매입'], ['2019-10-30 9:15', '46731698', '본', 'S&', '185', '(주)타임어택', '119600', '일시불(A)', '부분취소'], ['2019-10-30 16:48', '1931482', '본', 'S&', '185', 'GS25 문래미원점', '1500', '일시불', '전표매입'], ['2019-10-30 17:06', '2137599', '본', 'S&', '185', '(주)라크라센타본점', '18700', '일시불', '전표매입'], ['2019-10-31 8:34', '7267988', '본', 'S&', '185', 'G마켓', '110110', '일시불(A)', '전표매입'], ['2019-10-31 11:14', '8724650', '본', 'S&', '185', '네이버파이낸셜(주)', '116000', '일시불(A)', '부분취소'], ['2019-10-31 11:37', '8982088', '본', 'S&', '185', 'SSG.COM', '12648', '일시불(A)', '전표매입'], ['2019-10-31 14:54', '11643826', '본', 'S&', '185', '크로키닷컴', '115700', '일시불(A)', '전표매입'], ['2019-11-01 9:25', '19059907', '본', 'S&', '185', '네이버파이낸셜(주)', '87500', '일시불(A)', '전표매입'], ['2019-11-01 16:57', '24226595', '본', 'S&', '185', '(주)이랜드월드영등포타임스퀘어', '100', '일시불', '전표매입'], ['2019-11-01 17:25', '24582340', '본', 'S&', '185', '네이버파이낸셜(주)', '81540', '일시불(A)', '매출취소'], ['2019-11-01 19:40', '26341325', '본', 'S&', '185', '빠레뜨한남', '56500', '일시불', '전표매입'], ['2019-11-01 21:41', '27647884', '본', 'S&', '185', '네이버파이낸셜(주)', '118400', '일시불(A)', '매출취소'], ['2019-11-01 22:30', '28060829', '본', 'S&', '185', '티머니 개인택시', '4700', '일시불', '전표매입'], ['2019-11-02 12:14', '31922954', '본', 'S&', '185', '네이버파이낸셜(주)', '262600', '03개월(A)', '부분취소'], ['2019-11-02 15:53', '34775707', '본', 'S&', '185', '(주)신세계백화점강남점', '278600', '03개월', '전표매입'], ['2019-11-02 16:45', '35396845', '본', 'S&', '185', '(주)신세계백화점강남점', '55200', '일시불', '전표매입'], ['2019-11-02 17:18', '35812540', '본', 'S&', '185', '(주)엔터식스패션쇼핑몰 강남점', '26000', '일시불', '전표매입'], ['2019-11-02 17:41', '36090835', '본', 'S&', '185', '네이버파이낸셜(주)', '163080', '03개월(A)', '전표매입'], ['2019-11-03 9:00', '41065405', '본', 'S&', '185', '신라면세점', '339125', '03개월(A)', '매출취소'], ['2019-11-03 12:00', '42177027', '본', 'S&', '185', '어반플랜트', '5000', '일시불', '전표매입'], ['2019-11-03 12:08', '42264072', '본', 'S&', '185', '어반플랜트', '52000', '일시불', '전표매입'], ['2019-11-03 17:19', '45820584', '본', 'S&', '185', '곤트란쉐리에 합정점', '7830', '일시불', '전표매입'], ['2019-11-04 13:27', '3643842', '본', 'S&', '185', '(주)갈라인터내셔널', '68500', '일시불', '전표매입'], ['2019-11-04 13:43', '3832793', '본', 'S&', '185', '씨제이올리브영(주)신세계', '42020', '일시불', '전표매입'], ['2019-11-04 13:50', '3902895', '본', 'S&', '185', '카페마마스타임스퀘어점', '16800', '일시불', '전표매입'], ['2019-11-04 14:13', '4162899', '본', 'S&', '185', '티머니 개인택시', '8100', '일시불', '전표매입'], ['2019-11-04 14:21', '4250428', '본', 'S&', '185', '연세내과의원', '55200', '03개월', '전표매입'], ['2019-11-04 15:16', '4845475', '본', 'S&', '185', '조아약국', '2300', '일시불', '전표매입'], ['2019-11-04 20:29', '8533617', '본', 'S&', '185', '(주)우아한형제들', '36500', '일시불(A)', '승인취소'], ['2019-11-04 20:36', '8589176', '본', 'S&', '185', '(주)우아한형제들', '33000', '일시불(A)', '전표매입'], ['2019-11-04 22:17', '9402676', '본', 'S&', '185', '(주)우아한형제들', '15500', '일시불(A)', '전표매입'], ['2019-11-05 5:03', '10592176', '본', 'S&', '185', '네이버파이낸셜(주)', '131700', '03개월(A)', '전표매입'], ['2019-11-05 13:42', '14467864', '본', 'S&', '185', '스타벅스코리아', '30000', '일시불(A)', '전표매입'], ['2019-11-05 17:54', '17273726', '본', 'S&', '185', '(주)현대백화점신촌점', '56000', '03개월', '전표매입'], ['2019-11-05 18:01', '17344557', '본', 'S&', '185', '(주)현대백화점신촌점', '13200', '일시불', '전표매입'], ['2019-11-06 0:23', '20554050', '본', 'S&', '185', '씨유신촌제일점', '11500', '일시불', '전표매입'], ['2019-11-06 9:49', '22221853', '본', 'S&', '185', '롯데역사(주)', '50000', '03개월(A)', '매출취소'], ['2019-11-06 16:45', '26726698', '본', 'S&', '185', '(주)이마트  신촌점', '32700', '일시불', '전표매입'], ['2019-11-07 8:00', '31861478', '본', 'S&', '185', '스마일페이 (신라면세점)', '476736', '03개월', '전표매입'], ['2019-11-07 8:04', '31882369', '본', 'S&', '185', '스마일페이 (신라면세점)', '283053', '03개월', '전표매입'], ['2019-11-07 9:32', '32425138', '본', 'S&', '185', '(주)디지탈명성텍', '4075', '일시불(A)', '전표매입'], ['2019-11-07 10:47', '33046597', '본', 'S&', '185', '크로키닷컴', '31480', '일시불(A)', '전표매입'], ['2019-11-07 11:03', '33188403', '본', 'S&', '185', '네이버파이낸셜(주)', '67450', '03개월(A)', '전표매입'], ['2019-11-07 16:36', '37083525', '본', 'S&', '185', 'CU 오목교스퀘어점', '1600', '일시불', '전표매입'], ['2019-11-07 19:32', '39222989', '본', 'S&', '185', '써브웨이 오목교점', '5900', '일시불', '전표매입'], ['2019-11-08 9:32', '42926057', '본', 'S&', '185', '크로키닷컴', '152430', '03개월(A)', '전표매입'], ['2019-11-08 15:50', '47051194', '본', 'S&', '185', '갤러리아명품관식품', '4300', '일시불', '전표매입'], ['2019-11-08 16:10', '47284614', '본', 'S&', '185', '갤러리아명품관식품', '13900', '일시불', '전표매입'], ['2019-11-08 19:50', '345305', '본', 'S&', '185', '씨제이올리브영(주) 신촌역점', '29600', '일시불', '전표매입'], ['2019-11-08 20:11', '603408', '본', 'S&', '185', '씨유신촌제일점', '1500', '일시불', '전표매입'], ['2019-11-09 9:53', '4230990', '본', 'S&', '185', '네이버파이낸셜(주)', '19800', '일시불(A)', '전표매입'], ['2019-11-09 11:03', '4843716', '본', 'S&', '185', '연세내과의원', '54600', '03개월', '전표매입'], ['2019-11-09 12:58', '6216778', '본', 'S&', '185', '(주)이마트  신촌점', '49000', '일시불', '전표매입'], ['2019-11-09 22:02', '12680567', '본', 'S&', '185', '파리바게뜨 (신촌점)', '3000', '일시불', '전표매입'], ['2019-11-10 8:44', '14615532', '본', 'S&', '185', '(주)다른코스메틱스', '29000', '일시불(A)', '전표매입'], ['2019-11-10 13:42', '16844684', '본', 'S&', '185', '이유', '285000', '03개월', '전표매입'], ['2019-11-10 14:33', '17428682', '본', 'S&', '185', '11번가', '61200', '03개월(A)', '전표매입'], ['2019-11-10 14:40', '17513764', '본', 'S&', '185', '11번가', '100900', '03개월(A)', '승인취소'], ['2019-11-10 16:29', '18721146', '본', 'S&', '185', '(주)우아한형제들', '17000', '일시불(A)', '전표매입'], ['2019-11-11 16:50', '33368044', '본', 'S&', '185', '(주)현대백화점신촌점', '62600', '03개월', '전표매입'], ['2019-11-11 17:02', '33533216', '본', 'S&', '185', '(주)현대백화점신촌점', '16500', '일시불', '전표매입'], ['2019-11-11 17:12', '33669655', '본', 'S&', '185', '씨제이올리브영(주) 신촌', '9200', '일시불', '전표매입'], ['2019-11-12 16:30', '45050181', '본', 'S&', '185', '주식회사 아성다이소', '5000', '일시불', '전표매입'], ['2019-11-12 16:55', '45331823', '본', 'S&', '185', '(주)이마트  신촌점', '48880', '일시불', '전표매입'], ['2019-11-12 16:56', '45338648', '본', 'S&', '185', '마트온누리약국', '12000', '일시불', '전표매입'], ['2019-11-13 14:29', '4427817', '본', 'S&', '185', '카카오택시(선승인)', '7100', '일시불', '승인취소'], ['2019-11-13 14:49', '4644749', '본', 'S&', '185', '카카오페이(택시)', '6800', '일시불', '전표매입'], ['2019-11-13 19:14', '7557952', '본', 'S&', '185', 'SSG.COM', '30720', '일시불(A)', '전표매입'], ['2019-11-13 22:51', '9421227', '본', 'S&', '185', 'SSG.COM', '27710', '일시불(A)', '전표매입'], ['2019-11-14 6:29', '10536576', '본', 'S&', '185', '카카오택시(선승인)', '4900', '일시불', '승인취소'], ['2019-11-14 6:39', '10556159', '본', 'S&', '185', '카카오페이(택시)', '5000', '일시불', '전표매입'], ['2019-11-14 17:15', '16330331', '본', 'S&', '185', '카페마마스타임스퀘어점', '14000', '일시불', '전표매입'], ['2019-11-14 17:48', '16704040', '본', 'S&', '185', '티머니 개인택시', '10100', '일시불', '전표매입'], ['2019-11-15 9:07', '21453186', '본', 'S&', '185', '스마일페이 (신라면세점)', '218246', '03개월', '전표매입'], ['2019-11-15 15:01', '25849999', '본', 'S&', '185', '카카오택시(선승인)', '22400', '일시불', '승인취소'], ['2019-11-15 16:26', '26965842', '본', 'S&', '185', '카카오페이(택시)', '27900', '일시불', '전표매입'], ['2019-11-15 16:26', '26965954', '본', 'S&', '185', '카카오 T_카카오페이', '1000', '일시불', '전표매입'], ['2019-11-15 18:02', '28253818', '본', 'S&', '185', '주식회사 아성다이소', '6000', '일시불', '전표매입'], ['2019-11-15 18:24', '28558377', '본', 'S&', '185', '카카오택시(선승인)', '10400', '일시불', '승인취소'], ['2019-11-15 19:01', '29079760', '본', 'S&', '185', '카카오페이(택시)', '10400', '일시불', '전표매입'], ['2019-11-15 19:01', '29089732', '본', 'S&', '185', '카카오 T_카카오페이', '1000', '일시불', '전표매입'], ['2019-11-16 6:39', '32733158', '본', 'S&', '185', '카카오택시(선승인)', '5800', '일시불', '승인취소'], ['2019-11-16 6:47', '32751183', '본', 'S&', '185', '카카오페이(택시)', '5600', '일시불', '전표매입'], ['2019-11-16 19:56', '40629895', '본', 'S&', '185', '밸런스약국', '76000', '일시불', '전표매입'], ['2019-11-16 20:09', '40790103', '본', 'S&', '185', '씨제이올리브영(주)인천공항제2', '5000', '일시불', '전표매입'], ['2019-11-16 20:12', '40823919', '본', 'S&', '185', '씨제이올리브영(주)인천공항제2', '8000', '일시불', '전표매입'], ['2019-11-16 21:24', '41532414', '본', 'S&', '185', '잠바주스 인천공항T2-3호점', '14400', '일시불', '전표매입'], ['2019-11-22 6:50', '46894909', '본', 'S&', '185', '(주)아워홈푸디움인천공항제2터', '8000', '일시불', '전표매입'], ['2019-11-22 16:50', '3069484', '본', 'S&', '185', '(주)우아한형제들', '9400', '일시불(A)', '전표매입'], ['2019-11-22 23:45', '7360042', '본', 'S&', '185', '네이버파이낸셜(주)', '36900', '일시불(A)', '전표매입'], ['2019-11-23 18:02', '14934439', '본', 'S&', '185', '배스킨라빈스  분당파크타운', '22000', '일시불', '전표매입'], ['2019-11-24 12:51', '21084634', '본', 'S&', '185', '(주)우아한형제들', '19000', '일시불(A)', '전표매입'], ['2019-11-24 18:44', '24859012', '본', 'S&', '185', '(주)우아한형제들', '19000', '일시불(A)', '전표매입'], ['2019-11-25 10:18', '29237334', '본', 'S&', '185', '네이버파이낸셜(주)', '9000', '일시불(A)', '전표매입'], ['2019-11-25 10:35', '29411879', '본', 'S&', '185', '아모레퍼시픽', '40750', '일시불(A)', '전표매입'], ['2019-11-25 17:54', '35002218', '본', 'S&', '185', '한살림서울생활협동조합신촌매장', '6650', '일시불', '전표매입'], ['2019-11-26 16:47', '44911566', '본', 'S&', '185', '씨유신촌제일점', '1200', '일시불', '전표매입'], ['2019-11-27 10:21', '2509044', '본', 'S&', '185', 'SSG.COM', '61194', '일시불(A)', '전표매입'], ['2019-11-27 13:06', '4348940', '본', 'S&', '185', '네이버파이낸셜(주)', '27000', '일시불(A)', '전표매입'], ['2019-11-27 17:11', '7135730', '본', 'S&', '185', '파리크라상 연세세브란스점', '5400', '일시불', '전표매입'], ['2019-11-27 17:27', '7321690', '본', 'S&', '185', '(주)현대백화점신촌점', '24100', '일시불', '전표매입'], ['2019-11-28 7:51', '11898101', '본', 'S&', '185', '카카오택시(선승인)', '4900', '일시불', '승인취소'], ['2019-11-28 8:01', '11944480', '본', 'S&', '185', '카카오페이(택시)', '5300', '일시불', '전표매입'], ['2019-11-28 13:02', '14699707', '본', 'S&', '185', '한국철도공사 (직승인)', '82600', '일시불', '전표매입'], ['2019-11-28 13:19', '14931453', '본', 'S&', '185', '(주)인터파크', '160000', '일시불(A)', '전표매입'], ['2019-11-28 13:42', '15226777', '본', 'S&', '185', '우정사업본부(우체국)', '240', '일시불', '전표매입'], ['2019-11-28 16:37', '17165208', '본', 'S&', '185', '카페마마스타임스퀘어점', '16800', '일시불', '전표매입'], ['2019-11-30 9:55', '34353380', '본', 'S&', '185', '네이버파이낸셜(주)', '68500', '일시불(A)', '전표매입'], ['2019-11-30 17:08', '39409718', '본', 'S&', '185', '(주)우아한형제들', '15000', '일시불(A)', '전표매입'], ['2019-11-30 20:28', '41814628', '본', 'S&', '185', '네이버파이낸셜(주)', '24000', '일시불(A)', '전표매입'], ['2019-11-30 21:38', '42479025', '본', 'S&', '185', '네이버파이낸셜(주)', '71500', '02개월(A)', '매출취소'], ['2019-12-01 13:31', '46780225', '본', 'S&', '185', '(주)스타벅스커피코리아', '20000', '일시불', '전표매입'], ['2019-12-02 17:04', '9629854', '본', 'S&', '185', '파리바게뜨  양평비즈타워점', '1900', '일시불', '전표매입'], ['2019-12-02 17:35', '10017633', '본', 'S&', '185', '한살림서울생활협동조합신촌매장', '15450', '일시불', '전표매입'], ['2019-12-03 16:40', '19622146', '본', 'S&', '185', '(주)이마트  신촌점', '39200', '일시불', '전표매입'], ['2019-12-04 8:44', '24891378', '본', 'S&', '185', '에프알엘코리아(주)', '35700', '일시불(A)', '전표매입'], ['2019-12-04 17:03', '29962393', '본', 'S&', '185', '(주)현대백화점신촌점', '5000', '일시불', '전표매입'], ['2019-12-06 2:09', '44703449', '본', 'S&', '185', '쿠팡', '78200', '일시불', '전표매입'], ['2019-12-07 20:21', '14018882', '본', 'S&', '185', '(주)우아한형제들', '28500', '일시불(A)', '전표매입'], ['2019-12-08 14:26', '19438422', '본', 'S&', '185', 'SSG.COM', '47911', '일시불(A)', '부분취소'], ['2019-12-08 17:18', '21327681', '본', 'S&', '185', '(주)우아한형제들', '29000', '일시불(A)', '전표매입'], ['2019-12-09 7:31', '25429929', '본', 'S&', '185', 'SSG.COM', '7980', '일시불(A)', '전표매입'], ['2019-12-09 8:00', '25541112', '본', 'S&', '185', '스타벅스코리아', '10000', '일시불(A)', '전표매입'], ['2019-12-09 8:43', '25775268', '본', 'S&', '185', '쿠팡', '24840', '일시불', '전표매입'], ['2019-12-09 20:43', '35256839', '본', 'S&', '185', '네이버파이낸셜(주)', '23900', '일시불(A)', '전표매입'], ['2019-12-09 23:11', '36263709', '본', 'S&', '185', '㈜젠코스메티코스', '60800', '일시불(A)', '전표매입'], ['2019-12-10 8:10', '38134812', '본', 'S&', '185', '네이버파이낸셜(주)', '20110', '일시불(A)', '전표매입'], ['2019-12-11 11:18', '886626', '본', 'S&', '185', '쿠팡', '9300', '일시불', '전표매입'], ['2019-12-12 16:44', '16892196', '본', 'S&', '185', '(주)이마트  신촌점', '58610', '일시불', '전표매입'], ['2019-12-13 7:52', '21980740', '본', 'S&', '185', '카카오택시(선승인)', '7300', '일시불', '승인취소'], ['2019-12-13 8:08', '22053726', '본', 'S&', '185', '카카오 T_카카오페이', '1000', '일시불', '전표매입'], ['2019-12-13 8:08', '22044855', '본', 'S&', '185', '카카오페이(택시)', '5900', '일시불', '전표매입'], ['2019-12-13 16:31', '27340852', '본', 'S&', '185', '웃는하루치과', '23000', '일시불', '전표매입'], ['2019-12-13 16:35', '27387462', '본', 'S&', '185', '(주)파리크라상 쉐이크쉑 AK분당', '14800', '일시불', '전표매입'], ['2019-12-14 23:07', '42246236', '본', 'S&', '185', 'CU 대구중구문화점', '10700', '일시불', '전표매입'], ['2019-12-15 12:46', '45370304', '본', 'S&', '185', '(주)스타벅스커피코리아', '20000', '일시불', '전표매입'], ['2019-12-15 14:23', '46456419', '본', 'S&', '185', '낙영찜갈비', '60000', '일시불', '전표매입'], ['2019-12-15 14:25', '46492132', '본', 'S&', '185', '카카오페이(택시)7', '9100', '일시불', '승인취소'], ['2019-12-15 14:42', '46679772', '본', 'S&', '185', '카카오페이(택시)1', '7700', '일시불', '전표매입'], ['2019-12-15 14:42', '46682268', '본', 'S&', '185', '카카오페이(택시)', '1000', '일시불', '전표매입'], ['2019-12-15 15:06', '46948142', '본', 'S&', '185', '지에스 25 수성유원지점', '4200', '일시불', '전표매입'], ['2019-12-15 15:19', '47099080', '본', 'S&', '185', '우즈베이커리카페 수성호수점', '15300', '일시불', '전표매입'], ['2019-12-15 16:00', '47552954', '본', 'S&', '185', '카카오페이(택시)7', '8200', '일시불', '승인취소'], ['2019-12-15 16:19', '47771371', '본', 'S&', '185', '카카오페이(택시)1', '8700', '일시불', '전표매입'], ['2019-12-15 16:19', '47771418', '본', 'S&', '185', '카카오페이(택시)', '1000', '일시불', '전표매입'], ['2019-12-15 16:38', '47993295', '본', 'S&', '185', '디지비유페이택시개인1', '6300', '일시불', '전표매입'], ['2019-12-15 17:01', '48248774', '본', 'S&', '185', '코레일유통(주)대구지점', '5700', '일시불', '전표매입'], ['2019-12-15 17:03', '48276621', '본', 'S&', '185', '코레일유통(주)대구지점', '2800', '일시불', '전표매입'], ['2019-12-15 18:43', '49423183', '본', 'S&', '185', '네이버파이낸셜(주)', '35800', '일시불(A)', '전표매입'], ['2019-12-15 19:23', '49858621', '본', 'S&', '185', '티머니 법인택시', '13500', '일시불', '전표매입'], ['2019-12-16 14:00', '7072237', '본', 'S&', '185', '나폴레옹과자점', '9500', '일시불', '전표매입'], ['2019-12-16 23:02', '13217210', '본', 'S&', '185', '네이버파이낸셜(주)', '40420', '일시불(A)', '전표매입'], ['2019-12-17 15:41', '18936173', '본', 'S&', '185', '티머니 법인택시', '3800', '일시불', '전표매입'], ['2019-12-17 15:55', '19093276', '본', 'S&', '185', '투썸플레이스 교대역점', '5100', '일시불', '전표매입'], ['2019-12-17 18:08', '20596207', '본', 'S&', '185', '고스트요거트', '4900', '일시불', '전표매입'], ['2019-12-18 7:58', '24710519', '본', 'S&', '185', '네이버파이낸셜(주)', '15480', '일시불(A)', '전표매입'], ['2019-12-18 11:36', '26344738', '본', 'S&', '185', '(주)우아한형제들', '12000', '일시불(A)', '전표매입'], ['2019-12-19 1:58', '35153368', '본', 'S&', '185', '(주)교보문고', '14860', 'P(A)', '전표매입'], ['2019-12-19 9:49', '36456839', '본', 'S&', '185', '스타벅스코리아', '10000', '일시불(A)', '전표매입'], ['2019-12-20 11:58', '341738', '본', 'S&', '185', '쉐프조', '7600', '일시불', '전표매입'], ['2019-12-20 16:06', '3667901', '본', 'S&', '185', '쿠팡', '69490', '일시불', '전표매입'], ['2019-12-20 22:31', '7967131', '본', 'S&', '185', '(주)우아한형제들', '25200', '일시불(A)', '전표매입'], ['2019-12-22 16:41', '24582172', '본', 'S&', '185', '나폴레옹과자점', '29000', '일시불', '전표매입'], ['2019-12-23 17:23', '35860697', '본', 'S&', '185', '(주)이마트  신촌점', '33670', '일시불', '전표매입'], ['2019-12-23 18:41', '36838559', '본', 'S&', '185', '(주)우아한형제들', '4530', '일시불(A)', '전표매입'], ['2019-12-23 19:56', '37729305', '본', 'S&', '185', '쿠팡', '19110', '일시불', '전표매입'], ['2019-12-24 8:09', '40698085', '본', 'S&', '185', '이니시스-정기과금', '100000', '일시불', '전표매입'], ['2019-12-24 15:22', '45154675', '본', 'S&', '185', '(주)현대백화점신촌점', '15000', '일시불', '전표매입'], ['2019-12-24 15:50', '45489135', '본', 'S&', '185', '나폴레옹과자점', '8800', '일시불', '전표매입'], ['2019-12-25 18:27', '9420400', '본', 'S&', '185', '고봉민김밥', '7500', '일시불', '전표매입'], ['2019-12-25 21:04', '11116608', '본', 'S&', '185', '(주)이마트  신촌점', '43630', '일시불', '전표매입'], ['2019-12-26 16:09', '18905500', '본', 'S&', '185', '카카오택시(선승인)', '5500', '일시불', '승인취소'], ['2019-12-26 16:22', '19068903', '본', 'S&', '185', '카카오 T_카카오페이', '1000', '일시불', '전표매입'], ['2019-12-26 16:22', '19068981', '본', 'S&', '185', '카카오페이(택시)', '4900', '일시불', '전표매입'], ['2019-12-26 17:13', '19708525', '본', 'S&', '185', '카페마마스타임스퀘어점', '16800', '일시불', '전표매입'], ['2019-12-27 7:43', '24419930', '본', 'S&', '185', 'SSG.COM', '53961', 'P(A)', '전표매입'], ['2019-12-27 7:43', '24421361', '본', 'S&', '185', '쿠팡', '9290', '일시불', '전표매입'], ['2019-12-29 17:53', '955137', '본', 'S&', '185', 'KFC서울타임스퀘어', '14400', '일시불', '전표매입'], ['2019-12-29 18:20', '1245571', '본', 'S&', '185', '네이버페이', '350676', '03개월', '전표매입'], ['2019-12-29 18:58', '1654241', '본', 'S&', '185', '네이버페이', '24300', '일시불', '전표매입'], ['2019-12-29 19:36', '2025722', '본', 'S&', '185', '(주)현대백화점신촌점', '136400', '03개월', '전표매입'], ['2019-12-30 8:18', '4797509', '본', 'S&', '185', '쿠팡', '46920', '일시불', '전표매입'], ['2019-12-30 17:59', '11171348', '본', 'S&', '185', '카페마마스  강남역지점', '16800', '일시불', '전표매입'], ['2019-12-31 12:35', '18054067', '본', 'S&', '185', '(주)현대백화점신촌점', '51502', '일시불', '전표매입'], ['2019-12-31 12:43', '18170026', '본', 'S&', '185', '(주)현대백화점신촌점', '9200', '일시불', '전표매입'], ['2019-12-31 12:50', '18277034', '본', 'S&', '185', '(주)현대백화점신촌점', '15000', '일시불', '전표매입'], ['2019-12-31 14:12', '19443195', '본', 'S&', '185', '쿠팡', '16640', '일시불', '전표매입']]\n"
          ]
        }
      ]
    },
    {
      "cell_type": "code",
      "source": [
        "# 총 데이터의 개수는?\n",
        "len(data)"
      ],
      "metadata": {
        "colab": {
          "base_uri": "https://localhost:8080/"
        },
        "id": "uHrwKknEx2y3",
        "outputId": "8823b553-e134-456c-c40d-d3c0f784fb60"
      },
      "execution_count": null,
      "outputs": [
        {
          "output_type": "execute_result",
          "data": {
            "text/plain": [
              "236"
            ]
          },
          "metadata": {},
          "execution_count": 7
        }
      ]
    },
    {
      "cell_type": "markdown",
      "source": [
        "###2.데이터다뤄보기###\n",
        "\n",
        "<img src ='https://github.com/teacher-jiejie/allinone_AI/blob/images/19_%EB%8D%B0%EC%9D%B4%ED%84%B0%20%EA%B5%AC%EC%A1%B0.png?raw=true' width=600>"
      ],
      "metadata": {
        "id": "KEMcFVqnyNlB"
      }
    },
    {
      "cell_type": "code",
      "source": [
        "# 카드이용일자 모두 출력하기\n",
        "for row in data : \n",
        "    print(row[0])"
      ],
      "metadata": {
        "id": "9dk83iD4yRDR"
      },
      "execution_count": null,
      "outputs": []
    },
    {
      "cell_type": "code",
      "source": [
        "# 카드 사용금액 모두 출력하기\n",
        "for row in data : \n",
        "    print(row[-3])"
      ],
      "metadata": {
        "id": "3yVbpyMaymby"
      },
      "execution_count": null,
      "outputs": []
    },
    {
      "cell_type": "markdown",
      "source": [
        "<img src ='https://github.com/teacher-jiejie/allinone_AI/blob/images/20_%EB%8D%B0%EC%9D%B4%ED%84%B0%EB%B6%84%EC%84%9D%20%EB%B0%98%EB%B3%B5%EB%AC%B8.png?raw=true' width=800>"
      ],
      "metadata": {
        "id": "dVnCgcmUypvC"
      }
    },
    {
      "cell_type": "code",
      "source": [
        "# 카드 사용처와 금액 모두 출력하기\n",
        "for row in data : \n",
        "    print(row[5],'에서',row[6],'원 사용')"
      ],
      "metadata": {
        "id": "ztw3Hdzvyqrz"
      },
      "execution_count": null,
      "outputs": []
    },
    {
      "cell_type": "code",
      "source": [
        "# 카드 사용처와 금액 모두 출력하기\n",
        "for row in data : \n",
        "    store = row[5]\n",
        "    payment = row[6]\n",
        "    print(store,'에서',payment,'원 사용')"
      ],
      "metadata": {
        "id": "wot8rI0P2Nqr"
      },
      "execution_count": null,
      "outputs": []
    },
    {
      "cell_type": "markdown",
      "source": [
        "<img src = 'https://github.com/teacher-jiejie/allinone_AI/blob/images/21_%EB%8D%B0%EC%9D%B4%ED%84%B0%EB%B6%84%EC%84%9D_%EB%B0%98%EB%B3%B5%EB%AC%B82.png?raw=true' width=800>"
      ],
      "metadata": {
        "id": "aXwulNt62VuL"
      }
    },
    {
      "cell_type": "markdown",
      "source": [
        "### 3개월간 사용한 총 금액 구하기\n",
        "\n",
        "프로그램 흐름 생각해보기 \n",
        "\n",
        "\n",
        "```\n",
        "1. 총 지출액을 저장할 변수(spend)를 만들고 초깃값 0 저장하기\n",
        "2. 전체 이용내역(data)을 돌며 반복하기\n",
        "  2.1 이용금액(row[-3])만 골라 총 지출액(spend)에 더하기\n",
        "```\n",
        "\n"
      ],
      "metadata": {
        "id": "1B3Afy7R2gyL"
      }
    },
    {
      "cell_type": "markdown",
      "source": [
        "### 1) 10월, 11월, 12월 지출액을 막대그래프로 그리기\n",
        "\n",
        "<img src='https://github.com/teacher-jiejie/allinone_AI/blob/images/83_%ED%95%98%EC%9C%84%EB%AA%A9%ED%91%9C1.png?raw=true' width=300>\n",
        "\n",
        "Q. 그래프로 표현하려면 plt.bar()안에 뭐가 필요할까?\n",
        "\n"
      ],
      "metadata": {
        "id": "L1w2XQH6-KTu"
      }
    },
    {
      "cell_type": "markdown",
      "source": [
        "<img src = 'https://github.com/teacher-jiejie/allinone_AI/blob/images/24_%EC%B9%B4%EB%93%9C%20%EB%A6%AC%EC%8A%A4%ED%8A%B8.png?raw=true' width = 400>\n",
        "\n",
        "</br>\n",
        "</br>\n",
        "\n",
        "*   10월 -> [0]\n",
        "*   11월 -> [1]\n",
        "*   12월 -> [2]\n",
        "\n",
        "</br>\n",
        "\n",
        "\n"
      ],
      "metadata": {
        "id": "KN3gzJ_q-L4u"
      }
    },
    {
      "cell_type": "code",
      "source": [
        "data[0][0]"
      ],
      "metadata": {
        "id": "pxzthCC0-Nq1",
        "outputId": "a057fdb6-f276-49ba-db8c-c3d878e04de2",
        "colab": {
          "base_uri": "https://localhost:8080/",
          "height": 35
        }
      },
      "execution_count": null,
      "outputs": [
        {
          "output_type": "execute_result",
          "data": {
            "text/plain": [
              "'2019-10-12 9:13'"
            ],
            "application/vnd.google.colaboratory.intrinsic+json": {
              "type": "string"
            }
          },
          "metadata": {},
          "execution_count": 12
        }
      ]
    },
    {
      "cell_type": "code",
      "source": [
        "data[0][0].split('-')"
      ],
      "metadata": {
        "id": "tLmKYyKj-PR2",
        "outputId": "e073dcea-0cd7-4a84-f2cf-7eef9f998896",
        "colab": {
          "base_uri": "https://localhost:8080/"
        }
      },
      "execution_count": null,
      "outputs": [
        {
          "output_type": "execute_result",
          "data": {
            "text/plain": [
              "['2019', '10', '12 9:13']"
            ]
          },
          "metadata": {},
          "execution_count": 13
        }
      ]
    },
    {
      "cell_type": "markdown",
      "source": [
        "프로그램 흐름 생각해보기 \n",
        "\n",
        "\n",
        "```\n",
        "1. 10~12월의 월별 지출액을 저장할 리스트(s_mon)를 만들고 초깃값 0 저장하기\n",
        "2. 전체 이용내역(data)을 돌며 반복하기\n",
        "  2.1 각 이용내역에서 매입상태가 '전표매입'이라면\n",
        "    2.1.1 해당 건의 이용월과 이용금액 구하기 \n",
        "    2.1.2. 이용월에서 10을 빼 월별 지출액 리스트(s_mon)의 인덱스(idx) 구하기\n",
        "    2.1.3 과정 2.1.2에서 구한 인덱스의 값(s_mon[idx])에 과정 2.1.1에서 구한 이용금액 더하기\n",
        "3. 월별 지출액 리스트(s_mon)로 막대그래프 그리기\n",
        "```\n"
      ],
      "metadata": {
        "id": "BOzj4a0u-Seo"
      }
    },
    {
      "cell_type": "code",
      "source": [
        "spend = 0\n",
        "\n",
        "for row in data : \n",
        "    spend += row[-3]"
      ],
      "metadata": {
        "colab": {
          "base_uri": "https://localhost:8080/",
          "height": 209
        },
        "id": "T2gMxzeN2VXt",
        "outputId": "ab3cc952-bb5a-456a-f1fa-cbfb79169a8c"
      },
      "execution_count": null,
      "outputs": [
        {
          "output_type": "error",
          "ename": "TypeError",
          "evalue": "ignored",
          "traceback": [
            "\u001b[0;31m---------------------------------------------------------------------------\u001b[0m",
            "\u001b[0;31mTypeError\u001b[0m                                 Traceback (most recent call last)",
            "\u001b[0;32m<ipython-input-14-0b2090911b7c>\u001b[0m in \u001b[0;36m<module>\u001b[0;34m\u001b[0m\n\u001b[1;32m      2\u001b[0m \u001b[0;34m\u001b[0m\u001b[0m\n\u001b[1;32m      3\u001b[0m \u001b[0;32mfor\u001b[0m \u001b[0mrow\u001b[0m \u001b[0;32min\u001b[0m \u001b[0mdata\u001b[0m \u001b[0;34m:\u001b[0m\u001b[0;34m\u001b[0m\u001b[0;34m\u001b[0m\u001b[0m\n\u001b[0;32m----> 4\u001b[0;31m     \u001b[0mspend\u001b[0m \u001b[0;34m+=\u001b[0m \u001b[0mrow\u001b[0m\u001b[0;34m[\u001b[0m\u001b[0;34m-\u001b[0m\u001b[0;36m3\u001b[0m\u001b[0;34m]\u001b[0m\u001b[0;34m\u001b[0m\u001b[0;34m\u001b[0m\u001b[0m\n\u001b[0m",
            "\u001b[0;31mTypeError\u001b[0m: unsupported operand type(s) for +=: 'int' and 'str'"
          ]
        }
      ]
    },
    {
      "cell_type": "markdown",
      "source": [
        "수정된 프로그램 흐름\n",
        "\n",
        "```\n",
        "1. 총 지출액을 저장할 변수(spend)를 만들고 초깃값 0 저장하기\n",
        "2. 전체 이용내역(data)을 돌며 반복하기\n",
        "  2.1 이용금액(row[-3])만 골라 정수형으로 변환한 후 총 지출액(spend)에 더하기\n",
        "```"
      ],
      "metadata": {
        "id": "MZS1p_GL2rXG"
      }
    },
    {
      "cell_type": "code",
      "source": [
        "spend = 0\n",
        "\n",
        "for row in data : \n",
        "    spend += int(row[-3])\n",
        "\n",
        "print(spend)"
      ],
      "metadata": {
        "colab": {
          "base_uri": "https://localhost:8080/"
        },
        "id": "_l9_Y8KV2rzg",
        "outputId": "646f4de1-c34c-4273-c1b8-cb5f5b71009a"
      },
      "execution_count": null,
      "outputs": [
        {
          "output_type": "stream",
          "name": "stdout",
          "text": [
            "11419825\n"
          ]
        }
      ]
    },
    {
      "cell_type": "markdown",
      "source": [
        "매입상태를 잘 살펴보자 \n",
        "\n",
        "<img src='https://github.com/teacher-jiejie/allinone_AI/blob/images/64_%EC%B9%B4%EB%93%9C%EB%8D%B0%EC%9D%B4%ED%84%B0.png?raw=true' width=800>"
      ],
      "metadata": {
        "id": "mZgFtZDX242U"
      }
    },
    {
      "cell_type": "markdown",
      "source": [
        "수정된 프로그램 흐름\n",
        "\n",
        "```\n",
        "1. 총 지출액을 저장할 변수(spend)를 만들고 초깃값 0 저장하기\n",
        "2. 전체 이용내역(data)을 돌며 반복하기\n",
        "  2.1 매입상태(row[-1])가 '전표매입'이라면\n",
        "    2.1.1 이용금액(row[-3])만 골라 정수형으로 변환한 후 총 지출액(spend)에 더하기\n",
        "```"
      ],
      "metadata": {
        "id": "gamr1FPH26io"
      }
    },
    {
      "cell_type": "code",
      "source": [
        "spend = 0\n",
        "\n",
        "for row in data : \n",
        "    if row[-1] == '전표매입' : \n",
        "        spend += int(row[-3])\n",
        "\n",
        "print(spend)"
      ],
      "metadata": {
        "colab": {
          "base_uri": "https://localhost:8080/"
        },
        "id": "YXdrXCWq27C1",
        "outputId": "fcd17c72-d405-4444-fd0a-85cadb614c1d"
      },
      "execution_count": null,
      "outputs": [
        {
          "output_type": "stream",
          "name": "stdout",
          "text": [
            "8174028\n"
          ]
        }
      ]
    },
    {
      "cell_type": "code",
      "source": [
        "s_mon = [0, 0, 0]\n",
        "\n",
        "for row in data : \n",
        "    if row[-1] == '전표매입' : \n",
        "        mon = int(row[0].split('-')[1]) \n",
        "        idx = mon - 10                \n",
        "        payment = int(row[6])\n",
        "        s_mon[idx] += payment\n",
        "\n",
        "print(s_mon)"
      ],
      "metadata": {
        "colab": {
          "base_uri": "https://localhost:8080/"
        },
        "id": "CL_4LqPv8Ibx",
        "outputId": "58a42b35-8cdd-4494-88b5-bb48dce403e5"
      },
      "execution_count": null,
      "outputs": [
        {
          "output_type": "stream",
          "name": "stdout",
          "text": [
            "[2093015, 4127744, 1953269]\n"
          ]
        }
      ]
    },
    {
      "cell_type": "code",
      "source": [
        "s_mon = [0, 0, 0]\n",
        "\n",
        "for row in data : \n",
        "    if row[-1] == '전표매입' : \n",
        "        s_mon[int(row[0].split('-')[1]) - 10 ] += int(row[6])\n",
        "\n",
        "print(s_mon)"
      ],
      "metadata": {
        "colab": {
          "base_uri": "https://localhost:8080/"
        },
        "id": "vjdUUdck314_",
        "outputId": "9c35e85d-0e23-4888-848d-58d7abf4891a"
      },
      "execution_count": null,
      "outputs": [
        {
          "output_type": "stream",
          "name": "stdout",
          "text": [
            "[2093015, 4127744, 1953269]\n"
          ]
        }
      ]
    },
    {
      "cell_type": "code",
      "source": [
        "import matplotlib.pyplot as plt\n",
        "\n",
        "plt.figure(dpi=100)\n",
        "plt.rc('font',family ='NanumGothic')\n",
        "plt.title('10-12 지출')\n",
        "plt.bar(['10월','11월','12월'], s_mon, color = 'red')\n",
        "plt.show()"
      ],
      "metadata": {
        "colab": {
          "base_uri": "https://localhost:8080/",
          "height": 383
        },
        "id": "p8n9b4Ev34hu",
        "outputId": "5082724b-c3d5-4ae4-eed3-db4f76919676"
      },
      "execution_count": null,
      "outputs": [
        {
          "output_type": "display_data",
          "data": {
            "text/plain": [
              "<Figure size 600x400 with 1 Axes>"
            ],
            "image/png": "[encoded data removed]"
          },
          "metadata": {
            "needs_background": "light"
          }
        }
      ]
    },
    {
      "cell_type": "markdown",
      "source": [
        "# **9-2**"
      ],
      "metadata": {
        "id": "QSPB6aOHyt39"
      }
    },
    {
      "cell_type": "code",
      "source": [
        "import csv \n",
        "\n",
        "f = open('기상데이터.csv', encoding ='cp949')\n",
        "data = csv.reader(f)\n",
        "next(data)\n",
        "data = list(data)\n",
        " "
      ],
      "metadata": {
        "id": "MUzZOocp8sAs"
      },
      "execution_count": null,
      "outputs": []
    },
    {
      "cell_type": "code",
      "source": [
        "list(data)"
      ],
      "metadata": {
        "id": "wVIaQo_1Ce3C"
      },
      "execution_count": null,
      "outputs": []
    },
    {
      "cell_type": "code",
      "source": [
        "import csv\n",
        "f = open('기상데이터.csv', encoding ='cp949')\n",
        "data = csv.reader(f)\n",
        "header = next(data)\n",
        "for row in data :\n",
        "  row[-1] = float(row[-1])\n",
        "  print(row)\n",
        "close()"
      ],
      "metadata": {
        "id": "4zx286LPD-Hp",
        "colab": {
          "base_uri": "https://localhost:8080/",
          "height": 245
        },
        "outputId": "2e22d801-0a20-4c03-bfc2-fae628257de1"
      },
      "execution_count": null,
      "outputs": [
        {
          "output_type": "error",
          "ename": "ValueError",
          "evalue": "ignored",
          "traceback": [
            "\u001b[0;31m---------------------------------------------------------------------------\u001b[0m",
            "\u001b[0;31mValueError\u001b[0m                                Traceback (most recent call last)",
            "\u001b[0;32m<ipython-input-3-a5e4c4925b67>\u001b[0m in \u001b[0;36m<module>\u001b[0;34m\u001b[0m\n\u001b[1;32m      4\u001b[0m \u001b[0mheader\u001b[0m \u001b[0;34m=\u001b[0m \u001b[0mnext\u001b[0m\u001b[0;34m(\u001b[0m\u001b[0mdata\u001b[0m\u001b[0;34m)\u001b[0m\u001b[0;34m\u001b[0m\u001b[0;34m\u001b[0m\u001b[0m\n\u001b[1;32m      5\u001b[0m \u001b[0;32mfor\u001b[0m \u001b[0mrow\u001b[0m \u001b[0;32min\u001b[0m \u001b[0mdata\u001b[0m \u001b[0;34m:\u001b[0m\u001b[0;34m\u001b[0m\u001b[0;34m\u001b[0m\u001b[0m\n\u001b[0;32m----> 6\u001b[0;31m   \u001b[0mrow\u001b[0m\u001b[0;34m[\u001b[0m\u001b[0;34m-\u001b[0m\u001b[0;36m1\u001b[0m\u001b[0;34m]\u001b[0m \u001b[0;34m=\u001b[0m \u001b[0mfloat\u001b[0m\u001b[0;34m(\u001b[0m\u001b[0mrow\u001b[0m\u001b[0;34m[\u001b[0m\u001b[0;34m-\u001b[0m\u001b[0;36m1\u001b[0m\u001b[0;34m]\u001b[0m\u001b[0;34m)\u001b[0m\u001b[0;34m\u001b[0m\u001b[0;34m\u001b[0m\u001b[0m\n\u001b[0m\u001b[1;32m      7\u001b[0m   \u001b[0mprint\u001b[0m\u001b[0;34m(\u001b[0m\u001b[0mrow\u001b[0m\u001b[0;34m)\u001b[0m\u001b[0;34m\u001b[0m\u001b[0;34m\u001b[0m\u001b[0m\n\u001b[1;32m      8\u001b[0m \u001b[0mclose\u001b[0m\u001b[0;34m(\u001b[0m\u001b[0;34m)\u001b[0m\u001b[0;34m\u001b[0m\u001b[0;34m\u001b[0m\u001b[0m\n",
            "\u001b[0;31mValueError\u001b[0m: could not convert string to float: "
          ]
        }
      ]
    },
    {
      "cell_type": "code",
      "source": [
        "a = [5,4,3,2,1]"
      ],
      "metadata": {
        "id": "7zgcW-a3MMn5"
      },
      "execution_count": null,
      "outputs": []
    },
    {
      "cell_type": "code",
      "source": [
        "max_temp = -1000"
      ],
      "metadata": {
        "id": "gzCNvpfHH_te"
      },
      "execution_count": null,
      "outputs": []
    },
    {
      "cell_type": "code",
      "source": [
        "for i in a:\n",
        "  if i > max_temp:\n",
        "    max_temp = i\n",
        "    print(max_temp)"
      ],
      "metadata": {
        "colab": {
          "base_uri": "https://localhost:8080/"
        },
        "id": "uia9UiWnKaVU",
        "outputId": "b619be66-e153-443a-c1cb-02af38556bec"
      },
      "execution_count": null,
      "outputs": [
        {
          "output_type": "stream",
          "name": "stdout",
          "text": [
            "5\n"
          ]
        }
      ]
    },
    {
      "cell_type": "markdown",
      "source": [
        "****"
      ],
      "metadata": {
        "id": "lgx-56GX6rqI"
      }
    },
    {
      "cell_type": "code",
      "source": [
        "import csv\n",
        "f = open('기상데이터.csv', encoding ='cp949')\n",
        "data = csv.reader(f)\n",
        "header = next(data)\n",
        "max_temp = -999\n",
        "max_data = ''\n",
        "for row in data :\n",
        "  if row[-1] == '':\n",
        "    row[-1] = -999\n",
        "  row[-1] = float(row[-1])\n",
        "  if max_temp <row[-1]:\n",
        "    max_data = row[0]\n",
        "    max_temp = row[-1]\n",
        "f.close()\n",
        "print('기상 관측 이래 서울의 최고 기온이 가장 높았던 날은',max_data+'로',max_temp,'도였습니다.')"
      ],
      "metadata": {
        "colab": {
          "base_uri": "https://localhost:8080/"
        },
        "id": "vQoXbeBD8_1_",
        "outputId": "8e91e371-c5a5-407d-f2d1-5a1916c06e0e"
      },
      "execution_count": null,
      "outputs": [
        {
          "output_type": "stream",
          "name": "stdout",
          "text": [
            "기상 관측 이래 서울의 최고 기온이 가장 높았던 날은 \t2018-08-01로 39.6 도였습니다.\n"
          ]
        }
      ]
    },
    {
      "cell_type": "code",
      "source": [
        "import csv\n",
        "f = open('기상데이터.csv',encoding='cp949')\n",
        "data = csv.reader(f)\n",
        "for row in data :\n",
        "    print(row)"
      ],
      "metadata": {
        "id": "og1F_rtvN33q"
      },
      "execution_count": null,
      "outputs": []
    },
    {
      "cell_type": "code",
      "source": [
        "import csv\n",
        "f = open('기상데이터.csv',encoding='cp949')\n",
        "data = csv.reader(f)\n",
        "next(data)\n",
        "\n",
        "\n",
        "for row in data :\n",
        "    print(row[-1])"
      ],
      "metadata": {
        "id": "PRTY0cDKOI45"
      },
      "execution_count": null,
      "outputs": []
    },
    {
      "cell_type": "code",
      "source": [
        "import csv\n",
        "f = open('기상데이터.csv',encoding='cp949')\n",
        "data = csv.reader(f)\n",
        "next(data)\n",
        "result = []                           # 최고 기온 데이터를 저장할 리스트 생성\n",
        "\n",
        "\n",
        "for row in data :\n",
        "    if row[-1] != '' :                # 최고 기온 데이터 값이 존재한다면\n",
        "        result.append(float(row[-1])) # result 리스트에 최고 기온 값 추가\n",
        "print(result)"
      ],
      "metadata": {
        "colab": {
          "base_uri": "https://localhost:8080/"
        },
        "id": "uJkeIOgqOTC5",
        "outputId": "143df9d5-9174-4efc-b919-ac27ff7bb657"
      },
      "execution_count": null,
      "outputs": [
        {
          "output_type": "stream",
          "name": "stdout",
          "text": [
            "[20.7, 22.0, 21.3, 22.0, 25.4, 21.3, 16.1, 14.9, 21.1, 24.1, 20.4, 17.4, 21.3, 20.6, 20.9, 20.2, 21.6, 20.9, 21.3, 22.7, 19.9, 19.6, 16.3, 17.1, 18.7, 18.2, 20.7, 19.6, 20.0, 20.1, 20.3, 21.3, 21.1, 11.1, 13.6, 17.0, 18.1, 12.4, 9.4, 11.9, 13.2, 13.4, 14.9, 16.4, 15.2, 17.6, 12.6, 11.7, 6.7, 4.3, 7.1, 6.2, 11.2, 9.9, 5.9, -0.7, 1.5, 1.9, 2.0, 2.9, -2.4, 1.4, 3.4, 6.1, 1.3, 2.6, 5.8, 1.9, 6.6, 8.1, 4.3, 0.6, 3.8, 9.0, 6.4, -5.1, -2.4, -2.1, -0.4, -0.2, 1.9, -8.1, -10.2, -9.4, 0.9, 6.8, 6.4, -0.7, -1.9, -4.4, -6.1, -2.1, -1.3, -3.0, -2.9, -1.7, -0.1, 2.9, -1.2, -0.9, 2.0, 3.3, 4.8, 4.5, 4.7, 0.1, 0.9, -4.5, -3.6, 2.8, 2.8, 2.3, -6.1, -5.1, -2.7, 0.1, 0.3, -0.6, 0.0, -1.3, 0.8, 0.8, 6.2, 1.6, -0.2, -5.4, -4.1, -5.5, -5.7, -3.7, 1.3, -4.1, -2.5, -2.8, -1.2, 1.3, 2.3, 2.0, -1.4, -1.6, 0.3, 5.5, 7.3, 5.1, 5.4, 2.7, 1.7, 0.8, 4.1, 8.4, 6.3, 5.6, 4.0, 0.1, 4.9, 4.0, 7.9, 7.9, 2.2, 1.9, 1.5, 1.5, 1.8, 2.6, 3.8, 6.7, 11.8, 13.5, 15.7, 10.7, 7.9, 4.3, 6.0, 12.5, 17.0, 14.7, 11.4, 7.4, 8.0, 15.5, 18.2, 11.4, 13.2, 14.8, 14.9, 11.1, 15.0, 9.9, 10.6, 13.6, 17.2, 16.9, 17.1, 13.6, 9.4, 14.1, 14.8, 18.6, 14.4, 18.8, 20.4, 22.7, 22.9, 17.4, 21.1, 21.6, 20.9, 13.3, 16.4, 14.2, 17.1, 19.6, 22.2, 24.2, 16.1, 19.0, 20.1, 20.5, 22.9, 24.6, 24.3, 23.5, 24.9, 17.9, 14.3, 17.3, 20.1, 24.0, 18.5, 18.0, 23.2, 24.2, 21.0, 24.1, 18.0, 19.2, 19.5, 25.2, 22.1, 18.5, 20.8, 21.4, 24.5, 23.5, 26.2, 28.0, 28.3, 29.1, 24.9, 24.8, 24.8, 27.5, 28.9, 27.5, 28.9, 24.5, 26.1, 27.6, 29.5, 26.5, 27.0, 23.5, 21.2, 25.8, 28.0, 29.1, 32.4, 31.0, 22.1, 29.4, 29.6, 23.0, 26.4, 23.5, 23.7, 25.9, 28.5, 23.0, 26.5, 27.2, 30.3, 27.6, 23.2, 22.3, 29.2, 30.4, 29.6, 31.2, 26.5, 29.7, 30.3, 31.5, 29.4, 26.0, 22.2, 25.3, 28.3, 32.9, 27.8, 27.0, 27.5, 29.7, 29.8, 26.7, 27.8, 29.6, 30.7, 32.0, 31.5, 32.4, 33.6, 30.9, 29.5, 26.7, 26.8, 30.5, 30.5, 29.0, 28.9, 30.4, 31.7, 32.0, 33.3, 32.5, 33.5, 31.1, 26.7, 26.1, 27.5, 23.9, 21.3, 23.3, 26.0, 27.7, 27.9, 27.2, 27.1, 26.8, 26.8, 27.5, 28.7, 27.0, 28.0, 25.5, 26.7, 26.1, 23.4, 23.2, 23.7, 23.1, 24.4, 26.8, 25.6, 26.2, 22.2, 21.4, 24.2, 21.8, 20.5, 22.0, 25.0, 27.4, 27.4, 25.7, 23.8, 21.8, 19.0, 20.8, 22.0, 23.4, 23.0, 17.7, 21.4, 17.0, 19.9, 18.6, 19.2, 20.5, 22.5, 18.4, 23.2, 23.2, 20.7, 22.3, 23.2, 21.5, 24.4, 25.3, 22.3, 23.9, 17.2, 18.1, 17.3, 11.8, 12.9, 13.6, 13.7, 16.4, 17.3, 18.9, 18.6, 18.9, 13.8, 8.0, 6.0, 3.3, 6.6, 5.7, 3.3, 7.5, 3.4, 5.3, 6.8, 9.7, 11.2, 15.2, 15.1, 6.7, 5.1, 2.8, 7.8, 12.6, 6.7, -1.5, 4.8, 4.7, 4.9, 3.5, 9.3, 2.7, 7.8, 9.6, 6.8, 3.2, 3.6, 6.4, 6.5, 8.8, 8.4, 9.9, 11.7, 1.8, 5.4, 6.3, -3.1, 1.5, 0.4, 4.5, 2.1, -2.0, 1.4, 6.3, 7.9, 8.5, 4.5, 4.8, -1.0, -3.0, -3.5, 2.5, 5.0, 7.6, 4.7, 1.5, 1.4, -0.1, 0.3, 1.5, 3.3, 1.9, 0.2, 3.0, 2.1, 1.7, 5.5, 5.2, 2.8, 0.2, -2.2, -2.3, 0.7, 4.5, 2.9, 2.2, 0.0, 2.0, 1.5, 1.4, 4.7, 5.8, 6.2, 4.6, -1.3, 2.0, -4.7, -2.7, 2.2, 4.4, 5.2, 2.6, -1.6, 3.6, 8.8, 3.8, 1.0, 0.9, 8.2, 5.9, -4.9, -5.5, -3.3, -1.2, 3.6, 1.7, 0.7, 4.9, 7.3, 8.4, 4.4, 4.5, 8.0, 8.8, 3.4, 6.4, 8.8, 9.1, 13.9, 15.2, 7.6, 5.5, -0.2, 2.6, 4.0, 3.0, 4.1, 9.3, 11.3, 6.1, 12.1, 7.4, 3.0, 1.8, 3.0, 6.0, 8.5, 11.8, 13.5, 15.0, 12.5, 18.9, 19.8, 21.3, 20.4, 10.0, 9.3, 15.2, 17.8, 9.0, 9.3, 20.2, 22.5, 17.5, 11.8, 14.6, 20.5, 14.3, 12.3, 16.7, 17.2, 16.2, 19.1, 19.0, 23.3, 21.8, 17.8, 17.2, 15.2, 16.9, 19.3, 19.9, 15.4, 21.8, 21.6, 14.3, 17.9, 21.6, 25.7, 23.4, 14.5, 20.2, 21.2, 19.8, 21.1, 22.0, 23.4, 23.1, 21.5, 21.1, 23.4, 25.2, 24.3, 24.8, 21.4, 19.7, 18.7, 21.2, 29.4, 29.8, 29.6, 31.7, 31.4, 31.4, 20.0, 19.3, 24.0, 24.1, 23.8, 23.8, 26.0, 25.8, 25.6, 26.1, 26.0, 27.4, 24.9, 27.2, 28.0, 30.1, 27.0, 29.8, 29.1, 30.0, 26.6, 27.9, 28.0, 27.0, 25.9, 27.0, 25.5, 27.5, 26.5, 28.3, 29.1, 31.0, 20.8, 23.4, 28.2, 28.8, 28.4, 25.0, 23.5, 30.3, 29.8, 30.4, 30.1, 30.8, 25.8, 30.0, 28.9, 27.8, 29.9, 31.8, 30.0, 29.9, 30.4, 30.7, 30.9, 31.6, 31.2, 30.7, 32.3, 27.5, 31.7, 33.2, 34.5, 31.7, 30.2, 35.6, 34.8, 33.0, 30.8, 27.8, 24.8, 23.9, 23.8, 25.3, 27.3, 28.3, 30.3, 30.3, 30.0, 30.0, 27.7, 30.9, 25.3, 26.8, 29.1, 30.5, 30.6, 29.5, 26.5, 26.9, 24.5, 25.5, 26.5, 25.1, 29.0, 28.8, 25.0, 25.3, 25.6, 25.7, 26.7, 28.4, 27.9, 22.5, 22.4, 25.3, 24.7, 29.5, 27.8, 26.8, 26.8, 25.0, 23.9, 25.7, 22.8, 24.8, 26.2, 25.4, 23.5, 24.4, 24.8, 26.5, 21.0, 17.9, 18.2, 20.5, 22.4, 19.7, 21.5, 21.5, 22.4, 17.7, 16.1, 18.3, 23.2, 22.8, 21.3, 16.4, 16.0, 15.9, 15.2, 14.7, 17.7, 16.9, 13.0, 15.7, 12.0, 9.2, 14.3, 12.9, 15.4, 19.1, 20.3, 8.9, 6.6, 8.9, 8.6, 11.7, 12.0, 10.1, 8.3, 13.2, 15.3, 13.7, 14.3, 12.1, 14.8, 8.7, 10.5, 10.6, 13.4, 18.1, 18.5, 7.2, 0.8, 9.3, 11.0, 12.4, 12.2, -2.8, -0.3, -0.6, -1.0, 3.3, 6.2, 4.4, 6.2, 4.4, -0.3, -1.4, -4.0, -0.1, -2.8, -6.4, -3.3, -2.2, -0.8, 2.5, 4.5, 2.8, 2.7, 3.3, 2.7, -5.7, -6.0, -3.0, 0.5, 3.3, 5.7, 4.8, 11.0, 0.6, -4.3, 3.4, 8.0, 7.5, 7.7, 6.8, 5.7, 1.9, 4.5, 7.4, 5.4, 6.9, 6.6, -0.3, -5.2, -6.0, -3.0, -0.1, 4.6, 2.8, 1.3, 0.6, -1.2, -0.6, 2.8, 3.3, 3.2, 0.1, -1.6, -11.0, -11.5, -7.4, 0.6, -3.4, 1.2, 3.2, 5.0, 4.0, 1.3, -3.7, -2.0, 0.2, 0.9, 2.8, 6.0, 4.3, 5.4, 5.3, 2.6, -1.0, 1.5, 2.5, 4.4, 7.8, 8.3, 5.4, 4.3, 7.3, 7.1, 3.5, 2.7, 1.0, 0.9, 2.0, 5.4, 5.5, 6.1, 8.0, 3.8, 5.7, 7.8, 14.7, 10.6, 5.5, 8.6, 7.3, 11.6, 12.3, 11.0, 10.8, 8.4, 9.1, 15.0, 11.2, 13.0, 11.0, 11.4, 5.8, 7.0, 7.8, 10.4, 11.5, 11.0, 13.2, 16.9, 17.3, 16.5, 17.0, 14.2, 16.7, 16.0, 15.3, 7.3, 17.3, 23.0, 22.3, 17.9, 22.2, 22.1, 14.5, 19.8, 22.7, 14.1, 17.0, 17.7, 20.7, 18.7, 15.3, 19.1, 19.1, 19.9, 21.7, 16.3, 21.6, 25.4, 20.6, 22.0, 26.0, 27.4, 28.0, 24.1, 22.8, 21.2, 26.2, 21.0, 22.0, 22.0, 22.7, 24.3, 25.3, 26.7, 26.5, 20.2, 25.0, 27.5, 29.1, 31.0, 28.9, 27.2, 30.6, 23.5, 24.3, 20.5, 23.4, 20.2, 22.3, 23.1, 26.3, 27.6, 26.7, 31.2, 23.9, 24.2, 26.1, 26.5, 26.0, 26.5, 31.5, 22.8, 22.5, 24.5, 20.4, 27.2, 29.3, 28.3, 23.7, 24.8, 25.3, 25.1, 31.5, 28.8, 20.0, 25.9, 27.4, 27.5, 22.9, 26.3, 26.2, 24.8, 24.4, 27.0, 29.7, 28.3, 24.3, 27.8, 22.8, 24.3, 23.8, 30.6, 25.6, 28.0, 26.3, 28.9, 28.5, 30.3, 25.8, 28.0, 32.6, 32.4, 33.3, 32.1, 32.0, 31.6, 31.4, 31.2, 32.0, 29.9, 29.0, 30.3, 30.6, 30.6, 31.5, 31.0, 30.6, 29.5, 27.4, 28.1, 27.4, 28.4, 25.2, 29.5, 26.5, 29.0, 28.9, 29.0, 31.5, 31.2, 26.0, 23.9, 27.8, 29.0, 25.4, 24.8, 25.3, 24.7, 23.0, 24.0, 26.4, 25.6, 27.0, 26.3, 26.3, 25.0, 22.4, 23.9, 24.4, 25.5, 25.5, 26.8, 26.8, 24.6, 24.2, 24.4, 25.7, 25.6, 23.2, 17.4, 20.5, 24.0, 23.7, 23.5, 22.2, 22.9, 23.5, 24.1, 22.5, 23.2, 22.7, 22.4, 20.5, 13.4, 15.3, 19.1, 21.9, 20.3, 21.8, 23.8, 21.5, 24.0, 22.6, 20.4, 22.5, 22.0, 23.4, 23.5, 19.0, 20.0, 20.6, 20.8, 21.0, 20.1, 23.0, 19.6, 20.2, 18.4, 10.0, 12.0, 14.3, 15.9, 18.2, 17.7, 15.7, 10.5, 12.7, 13.0, 8.0, 11.0, 9.0, 6.7, 0.8, 1.3, 2.5, 6.9, 11.3, 12.0, 9.8, 11.0, 11.3, 11.1, 10.5, 7.6, 10.7, 8.2, 5.1, -3.8, -0.6, 1.7, 1.6, 3.6, 2.5, 0.2, -4.7, -8.2, -9.7, -5.7, -0.2, 1.3, 3.1, 0.6, 1.1, 2.2, 5.5, 1.5, -2.9, -0.2, 1.6, 3.6, 0.6, 0.8, 5.8, -1.2, 2.5, 1.5, -2.3, -6.5, -5.9, -1.4, 2.2, 1.7, -5.6, -3.8, 2.0, 0.7, 5.5, -1.2, -11.6, -9.2, -0.3, -1.3, 0.3, 0.0, 0.5, 1.7, 2.4, 1.1, -1.0, -6.9, -3.0, -1.6, 3.7, 4.7, 7.5, 8.8, 8.2, 7.1, 4.1, -0.1, -0.2, 1.8, 3.5, 1.2, 3.5, 3.8, 4.3, 5.2, 4.6, 5.4, 6.0, 3.5, 0.9, -2.2, -3.0, -0.2, 3.9, 4.1, 4.5, 5.9, 7.0, 8.2, 7.4, 7.0, 8.8, 12.5, 2.8, 1.1, 2.4, 6.9, 9.4, 7.4, 9.5, 8.9, 4.6, 2.5, 9.5, 10.3, 7.9, 9.4, 10.0, 9.3, 11.4, 7.7, 7.0, 5.2, 7.9, 13.0, 15.3, 7.8, 9.8, 9.5, 9.0, 11.5, 19.1, 8.6, 9.0, 9.9, 11.5, 11.8, 14.5, 17.7, 19.3, 16.3, 11.8, 10.1, 8.6, 14.2, 18.2, 24.1, 19.6, 11.5, 15.7, 11.7, 12.8, 16.8, 11.0, 15.0, 17.5, 21.7, 17.5, 23.0, 14.3, 14.1, 18.7, 18.0, 19.4, 22.8, 23.2, 14.6, 18.6, 15.3, 15.5, 18.0, 19.8, 23.9, 27.7, 24.0, 21.5, 21.0, 19.5, 21.0, 21.1, 22.7, 23.5, 23.8, 23.8, 24.0, 23.5, 24.0, 25.5, 26.8, 28.3, 18.8, 24.3, 25.5, 28.4, 30.0, 25.5, 28.0, 22.4, 19.5, 25.3, 24.4, 25.6, 26.2, 28.5, 27.8, 26.8, 25.8, 28.7, 29.3, 24.0, 25.6, 24.7, 18.6, 26.5, 27.5, 30.6, 30.4, 29.5, 28.8, 21.1, 25.1, 26.8, 25.3, 26.3, 29.0, 28.0, 29.4, 29.0, 29.3, 29.0, 24.6, 23.3, 24.1, 25.9, 26.8, 27.8, 25.7, 28.5, 28.4, 25.3, 26.8, 28.2, 31.0, 30.7, 27.0, 29.0, 29.4, 29.0, 27.3, 25.9, 28.5, 30.8, 30.0, 28.5, 29.9, 30.8, 31.0, 29.0, 30.5, 29.5, 28.8, 27.5, 31.4, 32.0, 33.0, 33.8, 32.9, 34.5, 33.8, 31.7, 32.5, 32.4, 33.5, 32.4, 28.0, 32.2, 30.1, 30.5, 30.1, 22.8, 24.0, 28.4, 28.5, 29.5, 31.1, 31.5, 31.0, 32.8, 32.0, 32.0, 30.8, 28.3, 27.7, 28.7, 27.2, 25.5, 26.4, 25.3, 22.7, 21.7, 24.3, 23.4, 22.3, 19.8, 25.6, 27.9, 26.5, 27.0, 26.0, 25.4, 26.7, 22.7, 20.1, 21.2, 24.7, 25.3, 23.9, 22.9, 19.3, 20.8, 22.6, 20.7, 20.4, 21.5, 20.3, 13.2, 14.6, 15.4, 14.5, 17.4, 14.3, 14.7, 15.5, 17.0, 19.2, 19.7, 20.3, 19.9, 19.0, 20.1, 19.0, 16.2, 18.8, 16.3, 15.9, 15.0, 16.8, 16.8, 9.6, 15.0, 13.1, 14.2, 10.2, 12.7, 12.4, 11.7, 14.4, 11.7, 15.3, 14.0, 10.5, 13.9, 11.1, 13.7, 10.5, 9.6, 11.2, 10.5, 13.5, 15.7, 14.7, 10.3, 8.4, 4.7, 3.5, 2.3, 2.0, 4.9, 6.0, 9.5, 6.1, 8.7, 7.5, -2.2, 5.0, 5.1, 1.2, 0.5, 0.9, -1.5, 0.0, -1.7, -0.6, -0.6, 2.8, 5.8, 5.8, -3.1, -6.5, -2.0, 1.0, 2.7, 0.7, 0.8, -5.1, -4.2, -2.6, -0.6, 3.9, 4.2, -5.4, -2.5, 0.3, 5.1, 4.7, 2.8, 2.5, 2.7, -0.4, -3.3, -3.2, -4.6, -2.2, -4.3, -4.3, -0.5, 1.3, -0.5, 1.2, 0.2, 0.1, 0.6, 3.5, 3.4, 5.4, 4.0, 1.8, -1.5, -0.2, 2.2, 4.0, 5.0, 4.5, 5.7, 5.7, -0.6, 6.6, 8.3, 7.8, 3.6, 5.6, 5.6, 7.2, 11.2, 8.2, 4.8, -4.1, -2.5, 2.3, 5.5, 3.1, 5.3, 6.0, 9.4, 12.8, 14.7, 14.0, 10.3, 4.7, 6.5, 9.8, 10.1, 12.3, 12.0, 10.0, 9.9, 7.3, 8.2, 10.9, 9.4, 0.7, 3.4, 4.3, 8.2, 7.8, 4.3, 6.6, 9.4, 15.6, 10.2, 7.3, 9.1, 12.8, 11.2, 16.3, 12.7, 15.7, 12.5, 10.6, 10.5, 14.3, 15.5, 11.0, 10.6, 13.6, 12.3, 18.0, 21.7, 13.4, 11.5, 10.7, 14.6, 17.2, 12.9, 13.9, 13.5, 17.2, 17.7, 16.6, 20.8, 17.3, 20.0, 23.1, 18.7, 17.5, 17.4, 16.0, 19.5, 18.2, 16.4, 20.3, 21.2, 23.0, 15.9, 18.5, 17.6, 21.1, 19.1, 19.3, 20.4, 14.8, 14.7, 17.7, 21.0, 25.5, 25.2, 29.7, 22.5, 18.2, 15.2, 16.5, 20.3, 23.3, 23.7, 23.8, 23.5, 20.6, 21.8, 23.8, 22.2, 20.5, 27.4, 21.5, 26.0, 27.8, 30.0, 28.8, 26.1, 23.7, 22.8, 23.3, 25.0, 26.5, 26.9, 29.0, 23.8, 22.7, 27.8, 29.8, 29.9, 24.0, 24.8, 26.6, 28.7, 25.3, 29.3, 29.5, 28.2, 28.8, 29.8, 29.2, 31.2, 29.3, 29.6, 28.5, 30.4, 31.4, 28.7, 30.0, 29.6, 27.5, 29.8, 26.8, 27.8, 24.7, 23.3, 25.9, 28.8, 26.0, 28.1, 29.9, 27.2, 28.0, 25.0, 26.4, 28.3, 27.9, 29.4, 29.5, 32.2, 29.0, 30.8, 31.5, 32.0, 32.2, 32.7, 34.0, 31.0, 30.9, 31.0, 32.2, 33.2, 33.0, 31.3, 30.6, 31.5, 30.3, 24.9, 24.9, 21.5, 20.3, 23.4, 27.2, 26.9, 29.0, 29.5, 28.5, 27.5, 28.5, 28.2, 29.2, 29.3, 29.4, 32.2, 32.1, 29.3, 26.4, 22.7, 23.5, 26.7, 25.9, 21.3, 22.4, 20.8, 23.3, 24.7, 25.5, 24.7, 27.0, 23.3, 24.6, 24.3, 23.5, 23.2, 23.6, 23.3, 21.7, 22.3, 23.0, 23.5, 23.5, 24.0, 24.6, 23.8, 24.5, 25.3, 25.7, 25.4, 20.2, 14.8, 15.3, 15.9, 11.2, 16.3, 17.1, 18.6, 15.6, 14.5, 13.4, 16.5, 17.9, 19.2, 18.7, 16.9, 8.6, 11.8, 17.8, 18.5, 17.1, 19.3, 18.2, 15.0, 16.3, 12.7, 11.7, 14.7, 15.5, 16.5, 13.5, 4.4, 2.0, -0.4, 0.6, 6.7, 10.9, 10.2, 11.8, 7.0, -1.7, 2.2, 11.0, 9.7, 2.8, -0.1, 3.5, 7.7, 8.8, 9.3, 4.6, 4.5, 6.2, 6.2, 2.5, 2.5, 4.8, 3.7, 5.4, 5.8, 8.8, 8.4, 6.7, -4.8, -1.6, -2.5, 2.8, 3.9, 3.8, 2.4, 4.0, 3.2, 4.6, 2.3, 2.3, 1.7, 0.8, -1.1, -9.3, -7.2, -2.1, -0.7, 1.0, 1.8, 3.3, 0.2, -4.4, -4.2, 1.0, 6.3, -1.3, -7.3, -4.6, -0.6, 3.1, 3.5, -1.3, -2.6, -6.3, -5.1, -4.2, 1.3, 5.1, 2.7, 0.8, -0.6, 3.6, 4.5, 4.6, -0.4, -3.5, -4.0, -2.3, -0.5, 2.4, -0.7, -3.5, 3.4, 3.0, 2.7, 4.4, 5.2, 4.1, 0.3, -4.9, -8.8, -12.1, -9.5, -1.6, 0.3, 4.6, 3.7, 4.4, 1.8, 3.0, 6.8, 4.6, 8.7, 11.5, 4.4, -1.4, 3.4, 3.2, -1.3, -0.7, 1.6, -0.6, 0.9, 4.3, 1.2, 6.8, 3.6, -2.1, 0.8, 3.3, 4.5, 5.3, 5.8, 6.1, 7.9, 11.8, 15.3, 18.4, 16.0, 15.7, 8.4, 9.7, 6.2, 7.6, 9.8, 4.9, 8.0, 10.9, 13.2, 14.2, 15.1, 16.8, 18.1, 23.0, 23.5, 22.8, 12.0, 14.5, 19.5, 14.3, 14.8, 16.0, 15.4, 14.2, 16.1, 18.4, 16.7, 15.5, 15.2, 16.6, 17.3, 19.0, 25.6, 18.2, 14.3, 15.3, 17.7, 16.8, 17.0, 15.7, 17.6, 20.6, 19.5, 15.3, 19.0, 21.5, 20.4, 20.8, 18.5, 19.5, 14.5, 19.4, 20.1, 17.2, 20.6, 19.5, 16.8, 17.5, 17.9, 14.7, 20.0, 16.9, 20.2, 21.6, 23.3, 30.0, 27.5, 21.9, 23.1, 25.1, 19.9, 27.1, 27.0, 27.4, 27.4, 24.2, 26.4, 27.7, 27.8, 25.0, 29.2, 23.8, 26.8, 27.1, 25.7, 28.0, 30.8, 23.7, 21.0, 22.8, 26.1, 23.0, 27.1, 23.5, 25.6, 26.9, 25.1, 23.6, 23.8, 20.8, 19.7, 23.6, 24.6, 27.1, 26.7, 21.8, 24.0, 25.1, 27.7, 24.5, 25.2, 26.1, 27.9, 29.5, 23.7, 22.2, 28.4, 29.1, 22.4, 22.3, 23.5, 22.8, 28.1, 27.0, 23.2, 25.3, 29.1, 30.3, 30.0, 30.3, 30.0, 26.0, 30.7, 29.0, 31.7, 31.5, 28.9, 29.3, 29.0, 29.8, 31.5, 31.7, 30.1, 28.9, 27.8, 25.7, 27.1, 29.2, 31.4, 29.5, 28.0, 29.9, 27.9, 26.1, 31.4, 30.0, 29.3, 29.2, 28.4, 28.5, 28.8, 28.1, 27.3, 24.9, 26.9, 26.5, 26.6, 26.8, 27.4, 25.1, 27.1, 28.3, 29.0, 28.9, 29.5, 30.0, 28.4, 25.3, 24.6, 26.2, 24.8, 26.5, 26.8, 21.5, 21.3, 24.6, 24.4, 23.6, 24.6, 24.8, 21.2, 23.5, 25.5, 25.1, 27.6, 27.0, 27.6, 30.1, 18.7, 22.9, 22.4, 25.9, 24.8, 21.9, 23.7, 23.3, 22.5, 20.5, 24.3, 25.3, 18.3, 16.0, 18.5, 18.9, 13.4, 12.4, 13.2, 12.6, 16.9, 16.1, 15.0, 13.4, 15.8, 16.3, 13.9, 13.9, 12.0, 12.0, 13.8, 15.5, 17.3, 15.9, 10.3, 10.0, 13.9, 9.1, 14.4, 17.6, 10.5, 3.2, 11.2, 13.6, 13.4, 14.0, 12.6, 11.4, 10.9, 11.7, 13.8, 9.9, 10.4, 5.8, 7.1, 0.4, 3.6, 11.5, 10.9, 5.5, -2.2, -0.6, 3.0, 6.4, 6.1, 6.6, 9.5, 5.9, 6.4, 9.9, 2.2, -3.1, 2.4, 0.4, -3.6, -6.9, -4.2, 1.4, 3.6, 0.1, -1.8, 1.4, 7.1, 6.3, 4.6, 1.6, 4.6, 0.0, -2.1, 7.0, 4.2, -4.4, 1.3, 6.8, 4.5, -1.3, -7.5, -0.8, 5.0, 1.9, 6.0, 9.2, 8.2, 3.3, -0.3, 2.0, 4.0, 3.2, 1.3, 2.5, 4.3, 3.2, 2.0, -2.6, -1.7, -2.6, 1.3, 2.9, 0.3, -0.3, -0.6, -1.0, 0.5, 4.2, 2.4, 0.6, 2.2, 4.9, 0.1, -1.0, 1.7, 2.9, 4.3, 6.5, 9.9, 12.3, 11.5, 7.3, 6.6, 8.9, 11.0, 7.0, 7.1, 5.6, 6.9, 5.3, 3.7, 8.0, 13.3, 14.7, 9.6, 12.8, 8.8, 14.1, 4.8, 1.4, 9.9, 11.1, 10.2, 13.9, 8.0, 4.4, 2.3, 5.6, 9.9, 10.4, 13.9, 12.6, 16.0, 16.4, 17.1, 15.8, 5.8, 4.1, 5.8, 9.8, 14.4, 9.9, 4.9, 11.7, 7.2, 8.4, 6.3, 10.1, 6.3, 10.3, 12.9, 14.5, 15.7, 21.3, 16.0, 10.2, 17.0, 11.6, 14.1, 16.0, 15.4, 19.5, 22.9, 20.9, 20.1, 21.4, 22.2, 21.0, 19.2, 24.8, 21.8, 20.7, 19.8, 17.5, 20.9, 21.3, 20.3, 19.5, 23.6, 21.7, 23.9, 24.1, 28.5, 29.1, 26.0, 17.6, 23.0, 24.2, 25.0, 27.1, 28.2, 22.0, 26.1, 24.9, 24.6, 22.1, 24.7, 26.9, 26.7, 21.3, 21.7, 25.5, 23.8, 25.1, 23.8, 24.8, 20.8, 25.6, 24.2, 26.6, 20.1, 21.1, 23.1, 26.0, 25.2, 28.1, 26.4, 27.8, 21.1, 28.8, 27.5, 27.0, 26.7, 32.7, 32.3, 32.8, 32.7, 35.0, 24.1, 26.8, 28.0, 30.1, 26.0, 26.0, 29.8, 26.7, 29.9, 24.7, 27.2, 28.1, 30.4, 30.6, 25.0, 28.6, 31.3, 29.5, 32.2, 32.4, 31.0, 32.6, 30.9, 30.6, 30.1, 33.5, 31.7, 30.1, 31.6, 33.9, 35.5, 35.6, 35.5, 29.0, 30.5, 27.4, 27.8, 26.3, 30.0, 25.1, 26.6, 25.9, 27.3, 26.5, 28.6, 29.4, 29.4, 32.5, 33.3, 31.1, 31.3, 31.5, 32.0, 33.2, 33.2, 32.9, 32.1, 34.4, 33.5, 32.7, 30.0, 26.9, 27.1, 23.4, 27.8, 30.9, 30.3, 31.8, 30.5, 32.4, 31.0, 31.7, 31.1, 31.8, 27.4, 28.5, 29.4, 27.5, 25.5, 24.5, 25.5, 26.4, 27.6, 25.9, 26.2, 27.6, 24.8, 18.5, 19.7, 21.8, 21.6, 23.6, 23.1, 22.6, 24.3, 22.1, 24.1, 24.5, 23.1, 24.0, 21.8, 20.3, 22.6, 24.1, 20.0, 20.3, 19.0, 20.1, 17.6, 20.5, 21.2, 22.6, 20.8, 22.8, 22.2, 22.4, 20.6, 15.2, 12.9, 14.7, 17.4, 12.5, 19.5, 18.6, 21.1, 17.6, 18.8, 18.5, 17.8, 19.5, 20.5, 21.1, 14.8, 10.2, 13.8, 5.2, 9.0, 12.8, 10.4, 15.8, 15.6, 20.3, 16.2, 11.2, 10.1, 11.3, 12.5, 13.5, 7.9, 1.3, 4.5, 8.2, 7.5, 13.3, 10.3, 0.4, 1.2, 7.3, 11.6, 14.1, 11.5, 3.9, 6.3, 7.0, 5.1, -1.9, 0.2, 2.5, 1.7, 1.5, -0.6, -1.4, 6.9, 6.1, 3.3, 8.4, -0.2, 3.1, 8.2, 7.2, 1.3, -3.4, -1.2, 1.4, -1.6, 0.2, -1.4, 2.2, 6.2, 0.2, -1.5, 2.1, 1.9, 0.3, 3.9, 1.8, 6.4, 0.6, 1.0, 3.3, 4.0, -0.7, -16.3, -13.8, -7.8, 1.2, -0.1, 3.5, 1.5, 2.7, 3.3, 0.6, -3.4, -1.8, 7.1, 11.3, 12.0, 1.0, -6.6, -2.8, 1.4, 4.0, 7.0, 3.8, 0.4, -9.3, -6.0, -6.3, -1.2, -1.4, 1.3, 1.5, 2.4, 4.3, -2.9, -0.3, -2.2, 2.7, 5.3, 6.5, 6.8, 4.7, 11.0, 9.5, 2.2, 5.9, 5.4, 2.5, -11.6, -1.9, 2.4, 11.3, 16.7, 5.3, 6.0, 6.5, 3.2, 2.4, 4.3, -0.3, 1.4, -2.0, -0.3, 3.0, 5.0, 4.3, 9.8, 6.4, 4.6, 11.5, 6.7, 6.4, 9.7, 4.0, 5.0, 5.0, 2.9, 5.1, 6.9, 9.6, 15.7, 13.4, 16.5, 10.0, 10.8, 8.9, 6.2, 13.9, 15.8, 22.3, 11.4, 10.6, 13.0, 13.6, 18.9, 18.9, 18.6, 16.2, 17.9, 19.2, 15.1, 10.2, 11.5, 14.1, 16.3, 19.2, 20.8, 15.8, 15.8, 17.3, 17.9, 17.9, 17.4, 18.5, 24.0, 25.8, 24.8, 23.4, 19.0, 17.5, 19.5, 14.0, 17.9, 20.4, 21.5, 16.9, 21.1, 18.7, 20.4, 23.6, 21.0, 20.5, 21.1, 23.0, 23.5, 24.2, 24.1, 22.8, 28.3, 24.8, 21.2, 22.2, 24.0, 26.3, 20.3, 22.8, 26.7, 25.6, 26.3, 22.5, 27.5, 26.3, 22.3, 25.8, 27.8, 30.5, 27.5, 24.2, 20.7, 24.5, 23.7, 27.8, 28.1, 27.2, 26.2, 26.4, 27.5, 29.0, 29.7, 27.6, 27.6, 31.4, 28.6, 26.4, 24.6, 26.2, 27.5, 28.2, 26.8, 29.6, 30.2, 27.0, 27.2, 28.6, 30.6, 28.3, 29.9, 28.6, 28.5, 30.6, 31.8, 31.3, 31.8, 32.3, 25.3, 28.1, 33.4, 33.9, 33.5, 33.8, 27.7, 31.6, 33.1, 34.1, 34.8, 34.3, 33.5, 30.0, 31.7, 33.2, 30.3, 28.9, 29.6, 22.4, 27.8, 30.3, 29.6, 27.8, 31.7, 31.0, 30.5, 31.8, 26.7, 22.1, 25.3, 25.1, 24.0, 28.9, 26.8, 28.6, 27.6, 23.5, 26.3, 27.1, 26.4, 27.2, 27.2, 26.6, 24.7, 25.3, 20.7, 19.7, 23.6, 21.7, 22.2, 22.1, 24.2, 23.5, 24.4, 25.5, 26.2, 27.9, 27.7, 27.4, 27.7, 26.4, 19.6, 19.4, 19.8, 22.7, 24.3, 25.4, 24.8, 26.8, 25.6, 26.5, 24.1, 24.3, 22.7, 23.1, 18.1, 24.3, 24.6, 21.8, 18.4, 18.8, 20.0, 22.7, 23.3, 24.9, 25.6, 20.3, 17.2, 15.7, 18.2, 19.1, 19.4, 18.0, 19.3, 13.0, 11.4, 16.6, 16.1, 12.2, 13.6, 17.8, 17.8, 14.5, 17.5, 16.3, 17.2, 16.6, 16.0, 16.3, 13.0, 8.3, 10.0, 14.8, 17.3, 12.2, 6.6, 5.1, 3.5, 5.4, 9.5, 10.1, 14.2, 11.8, 13.3, 13.3, 10.5, 2.9, 2.0, 4.3, 8.7, 7.9, 10.5, 4.0, 10.6, 13.5, 2.4, 3.2, 1.9, 2.7, 7.0, 7.2, 10.0, 0.5, 8.2, 6.8, -0.5, -6.0, -1.6, 0.3, 1.9, -0.9, 3.5, 7.5, 9.8, 6.0, 8.1, 8.8, 10.8, 11.8, 11.2, 7.1, 10.8, 9.0, 5.9, 5.0, 2.0, 5.5, 12.2, 9.8, -1.7, -1.0, 3.1, 3.5, 5.4, 3.9, 2.4, 2.9, 6.5, 4.9, 7.0, 7.3, 7.1, -5.8, -3.8, 5.2, 4.8, 3.5, 2.6, 2.8, 6.4, 6.8, 3.9, 5.0, 8.0, 10.4, 7.0, 9.5, 5.2, 1.8, -0.5, 0.7, 2.7, -0.3, -0.5, -1.3, 3.2, 1.0, 2.8, 4.2, 2.2, 6.8, 7.3, 8.2, 6.7, 12.0, 3.7, 3.0, 7.0, 4.8, 3.8, -0.3, -1.7, 4.8, 6.0, 4.5, 2.5, 2.6, 3.6, 0.8, 6.0, 7.4, 6.0, 4.3, 3.9, 2.6, 3.0, 2.9, 5.4, 8.7, 10.1, 12.5, 8.3, 5.9, 5.7, 6.0, 14.2, 9.0, 8.3, 13.8, 12.5, 12.7, 9.0, 11.9, 10.0, 8.8, 7.4, 13.0, 10.9, 12.6, 15.5, 10.2, 15.1, 16.2, 16.2, 18.5, 18.6, 17.6, 13.5, 18.5, 18.8, 21.3, 20.0, 22.2, 15.4, 16.3, 21.7, 21.9, 24.2, 22.7, 21.1, 23.0, 17.8, 19.7, 17.5, 22.1, 24.4, 18.3, 16.0, 18.3, 20.4, 20.9, 27.5, 26.6, 29.7, 19.9, 27.8, 21.2, 20.4, 13.5, 21.3, 17.5, 23.4, 21.6, 26.7, 20.8, 22.5, 26.9, 23.6, 23.9, 17.0, 22.8, 23.3, 27.7, 28.6, 27.1, 32.2, 27.7, 25.1, 25.3, 26.2, 22.5, 21.2, 25.8, 25.2, 27.2, 23.6, 23.3, 24.7, 28.5, 30.7, 31.7, 26.0, 29.9, 27.1, 28.5, 28.3, 27.7, 29.1, 23.7, 23.5, 28.2, 27.7, 24.1, 27.8, 28.0, 25.3, 26.1, 29.2, 30.3, 25.1, 28.0, 29.9, 30.3, 25.0, 28.2, 25.7, 25.3, 28.2, 28.6, 30.8, 26.2, 26.3, 27.3, 28.1, 26.9, 27.0, 31.7, 31.7, 32.6, 31.4, 32.8, 33.2, 30.3, 32.1, 31.7, 32.4, 30.7, 27.3, 31.5, 27.5, 29.3, 30.2, 28.4, 27.5, 30.7, 30.7, 28.5, 31.9, 31.8, 32.5, 32.8, 29.5, 29.3, 30.3, 32.3, 32.8, 30.8, 32.4, 32.1, 33.0, 31.8, 30.0, 24.7, 28.9, 27.7, 28.0, 25.4, 23.4, 25.8, 22.1, 24.3, 25.8, 22.4, 24.6, 21.5, 23.2, 25.7, 25.0, 26.9, 25.4, 25.4, 27.1, 27.8, 27.0, 28.2, 23.4, 19.7, 18.1, 20.9, 23.5, 21.0, 19.9, 22.4, 19.9, 21.8, 21.5, 18.9, 20.1, 21.6, 22.4, 20.9, 18.6, 21.8, 22.9, 22.9, 19.7, 22.6, 21.1, 14.4, 16.8, 18.7, 18.5, 18.9, 18.9, 21.0, 20.3, 20.0, 15.6, 13.3, 14.3, 12.0, 13.6, 18.0, 18.6, 17.2, 17.9, 17.6, 19.7, 19.4, 19.5, 23.3, 16.7, 15.8, 14.2, 9.4, 9.5, 11.5, 9.3, 7.7, 12.9, 11.5, 13.2, 11.4, 8.7, 11.4, 6.9, 12.1, 15.0, 16.5, 17.0, 12.3, 2.8, 0.6, 2.1, 3.9, 6.8, 8.0, 10.9, 11.6, 10.0, 10.9, 11.5, 4.0, 5.1, 7.4, 7.8, 8.0, 7.0, 4.0, 0.4, 3.1, 4.2, 1.4, 2.5, 3.7, 1.1, 1.3, 6.0, 5.4, 0.5, -12.5, -7.4, -2.1, -1.0, 1.2, -0.8, -1.9, -2.3, -9.2, -10.5, -5.7, -5.0, -7.0, -11.2, -5.6, -8.6, -5.3, -0.6, 2.9, 2.7, -2.2, 2.8, 1.3, 0.9, 0.1, 0.4, -10.8, -6.3, -7.4, -4.6, -0.5, 1.5, -4.2, -4.0, -1.6, -5.4, -6.9, -4.6, -4.1, -3.4, -2.2, -0.8, 1.0, -0.7, -1.5, -2.3, 0.5, 1.5, -0.7, -2.0, 1.2, 6.1, 7.0, 7.5, 0.2, -0.5, 0.1, 2.6, 5.3, 8.2, 9.7, 9.8, 10.8, 5.3, -0.1, 1.8, 5.4, 6.3, 4.7, 1.5, 3.3, 6.7, 10.8, 12.8, 5.8, 6.6, 15.3, 18.9, 10.0, 4.0, 6.3, 12.3, 7.5, 13.2, 12.4, 12.9, 11.5, 11.9, 7.9, 7.3, 5.5, 7.5, 8.3, 10.6, 10.6, 12.1, 15.7, 15.9, 17.4, 20.2, 21.4, 15.5, 12.9, 12.9, 10.8, 15.1, 16.5, 19.1, 19.8, 18.3, 19.5, 16.2, 17.4, 18.3, 16.0, 17.4, 19.7, 19.2, 17.8, 22.2, 21.7, 19.3, 15.1, 10.4, 12.3, 18.4, 17.5, 16.3, 18.5, 14.5, 9.9, 12.4, 17.8, 15.9, 15.4, 19.1, 19.3, 15.9, 18.8, 18.6, 20.2, 22.5, 24.9, 24.6, 26.5, 24.4, 21.3, 21.8, 22.4, 23.2, 23.1, 23.0, 23.3, 24.0, 26.4, 21.9, 24.2, 24.5, 21.4, 26.9, 24.5, 27.8, 28.3, 27.8, 28.5, 31.4, 27.3, 27.3, 21.7, 25.3, 28.8, 34.5, 36.7, 33.5, 28.2, 27.3, 28.1, 31.8, 33.5, 31.3, 31.0, 25.1, 25.8, 27.2, 26.9, 28.6, 31.1, 34.1, 28.4, 26.5, 25.4, 26.3, 27.1, 29.3, 29.6, 30.5, 26.8, 25.6, 29.7, 29.8, 28.3, 31.0, 33.5, 33.5, 32.3, 31.3, 31.9, 32.7, 32.3, 33.0, 33.3, 32.1, 33.3, 35.1, 34.2, 33.6, 34.1, 36.6, 35.7, 36.6, 35.3, 29.6, 29.7, 31.0, 32.2, 25.4, 30.7, 26.8, 31.6, 31.3, 29.5, 28.0, 28.8, 30.8, 31.3, 30.0, 30.4, 29.5, 23.9, 27.3, 29.7, 30.2, 28.2, 29.3, 30.7, 30.5, 30.1, 27.2, 30.0, 27.3, 27.6, 28.3, 26.0, 29.6, 27.6, 25.3, 26.2, 23.2, 20.8, 23.9, 22.8, 25.6, 25.0, 27.5, 26.0, 27.1, 23.6, 23.6, 26.0, 25.8, 26.2, 20.3, 24.7, 23.7, 23.7, 24.4, 22.7, 24.6, 23.3, 24.5, 21.6, 22.5, 21.3, 23.0, 22.3, 21.7, 20.6, 21.9, 22.1, 21.7, 20.6, 17.2, 19.5, 18.3, 23.3, 20.9, 21.3, 21.2, 19.9, 21.1, 20.5, 21.9, 22.8, 22.3, 21.1, 15.4, 16.7, 10.3, 11.9, 15.7, 11.9, 15.1, 18.1, 13.7, 3.0, 3.9, 4.3, 5.0, 6.7, 3.4, 3.1, 6.2, 9.8, 12.4, 9.8, 4.5, 3.7, 10.6, 12.0, 7.4, 10.0, 13.8, 12.3, 13.2, 12.4, 6.5, 4.7, 1.4, 6.7, 7.5, 10.1, 10.9, 3.9, -0.3, 1.5, 3.8, 2.5, 2.3, 8.2, 1.5, 0.7, 1.8, 4.0, 2.9, -5.9, -4.9, -3.4, -3.6, -2.6, -1.9, -5.1, -4.9, -3.8, -4.5, -8.0, -12.3, -8.7, -5.1, -6.8, -4.6, -6.4, -2.8, -7.2, -7.7, -5.7, -5.7, -4.3, -9.1, -7.1, -2.1, 0.0, 3.0, 2.4, 1.7, 1.7, 2.8, -4.5, -5.3, -3.1, -5.6, -3.1, 0.3, 2.4, -1.7, -4.3, -2.6, 2.5, 2.0, 1.0, 5.6, -0.8, 0.9, 8.0, 6.0, 6.0, 4.7, 5.3, 7.8, 6.4, 7.1, 3.4, -0.3, 1.1, 5.0, 4.4, 5.5, 4.6, 4.1, -0.6, -0.1, 6.9, 3.4, 5.7, 4.1, 7.5, 10.2, 14.4, 10.1, 2.6, 6.2, 3.2, 4.5, 8.0, 8.9, 5.0, 9.6, 12.2, 13.9, 10.4, 6.2, 5.9, 5.4, 8.5, 11.4, 12.7, 13.8, 14.9, 18.9, 13.2, 9.5, 11.9, 14.9, 18.8, 12.4, 7.5, 8.2, 10.6, 11.2, 10.3, 10.5, 8.1, 13.4, 11.0, 15.8, 16.3, 11.5, 15.8, 9.4, 16.8, 14.9, 10.3, 16.4, 14.4, 16.9, 14.6, 15.3, 18.2, 20.2, 22.3, 19.6, 21.6, 26.3, 18.8, 19.8, 19.2, 17.9, 17.8, 19.8, 21.5, 26.3, 19.5, 19.6, 19.4, 20.0, 18.9, 15.9, 15.1, 20.3, 22.6, 21.0, 17.7, 18.3, 14.8, 14.6, 18.4, 21.8, 21.2, 23.6, 25.4, 18.9, 18.4, 21.0, 23.3, 22.6, 26.8, 19.6, 20.8, 20.3, 25.1, 22.2, 23.2, 22.7, 19.1, 22.3, 21.0, 23.1, 22.3, 23.7, 27.2, 24.7, 25.7, 19.7, 24.3, 27.5, 27.8, 27.3, 26.8, 28.8, 26.4, 25.4, 30.0, 31.5, 30.1, 24.9, 21.3, 27.2, 26.9, 26.3, 29.0, 24.1, 27.0, 24.9, 21.9, 24.7, 25.7, 28.0, 26.8, 28.3, 31.0, 25.4, 22.4, 29.1, 27.3, 21.9, 25.9, 26.2, 23.9, 27.7, 27.5, 31.0, 25.3, 28.2, 27.3, 30.3, 31.6, 33.1, 36.1, 29.8, 28.8, 28.5, 29.4, 30.8, 31.4, 30.5, 31.1, 32.3, 33.3, 32.3, 34.2, 35.2, 31.5, 29.1, 26.3, 27.3, 31.5, 27.3, 28.6, 25.1, 27.1, 27.9, 27.1, 25.7, 28.4, 29.2, 29.6, 31.0, 31.7, 31.0, 32.0, 30.2, 29.3, 31.2, 29.8, 28.0, 29.9, 25.3, 29.1, 22.8, 29.2, 28.3, 29.2, 29.1, 27.5, 26.1, 26.5, 24.4, 26.4, 24.9, 23.7, 22.5, 25.8, 20.3, 21.2, 23.9, 26.0, 26.5, 26.5, 24.2, 24.4, 24.9, 23.2, 22.4, 20.3, 20.2, 18.9, 20.4, 21.4, 20.5, 24.6, 21.0, 23.0, 25.0, 24.2, 22.8, 18.4, 18.8, 20.9, 22.1, 23.4, 23.6, 24.6, 17.3, 16.5, 17.0, 22.8, 19.5, 15.3, 12.0, 13.5, 17.0, 18.9, 19.4, 17.4, 19.0, 20.6, 20.4, 18.0, 14.3, 15.8, 14.0, 13.3, 6.0, 7.2, 6.6, 2.0, 5.3, 9.4, 12.1, 9.4, 5.6, 9.1, 10.8, 8.5, 10.8, 12.3, 11.8, 12.4, 5.0, 1.0, 3.1, 12.6, 7.0, 5.4, 9.2, 10.2, 5.9, 3.4, 7.5, 7.2, 9.7, 9.7, 4.4, 0.4, -2.4, 2.5, 6.0, -2.0, 4.0, 1.7, 3.7, 5.0, 8.3, 7.0, 9.1, 7.6, 4.7, 2.8, -1.1, 1.4, 0.8, 1.5, -0.4, 1.1, -6.0, 1.2, 4.3, 5.4, -8.3, -7.6, -6.4, -8.0, -4.1, 3.8, 7.0, 7.2, 4.9, 5.5, 3.7, -6.5, -4.5, 0.8, -0.5, 3.9, 1.5, -3.1, -10.2, -7.5, -2.3, 0.4, 4.2, 3.1, -0.5, -1.0, -3.1, -0.9, 0.5, -1.3, 0.9, 1.6, -2.0, -7.4, -4.1, -2.0, 0.5, 2.6, 1.4, -0.6, 3.4, 0.0, 4.7, 6.4, 8.7, 11.7, 11.5, 5.6, 4.8, 5.5, 8.6, 9.5, 8.9, 6.1, 6.5, 8.0, 13.3, 11.0, 12.6, 12.6, 13.0, 14.9, 17.9, 10.0, 15.4, 11.5, 10.5, 5.3, 6.0, 6.2, 5.9, 7.3, 6.3, 8.7, 13.7, 16.6, 10.8, 11.9, 10.2, 19.1, 21.0, 15.3, 8.8, 6.5, 6.6, 7.9, 7.5, 6.7, 5.3, 11.9, 13.2, 17.8, 14.0, 17.8, 14.4, 11.1, 15.5, 21.5, 12.4, 15.2, 19.2, 20.9, 15.3, 18.4, 16.4, 17.5, 19.1, 18.2, 19.6, 12.9, 13.4, 15.3, 16.7, 19.7, 18.4, 19.2, 21.3, 22.5, 22.9, 24.2, 13.1, 14.0, 21.6, 24.3, 23.4, 23.9, 26.7, 28.3, 22.6, 19.5, 24.1, 21.7, 20.7, 20.4, 21.9, 23.3, 22.3, 24.9, 19.0, 16.0, 18.2, 21.7, 22.9, 22.6, 27.2, 26.3, 27.1, 26.2, 25.4, 23.6, 27.2, 21.6, 28.1, 25.3, 21.2, 21.7, 29.8, 30.0, 24.9, 25.0, 26.1, 20.6, 24.8, 24.9, 27.9, 22.7, 23.7, 28.0, 27.3, 28.2, 26.0, 25.1, 28.2, 28.5, 30.0, 26.2, 29.5, 29.5, 28.5, 28.6, 30.8, 29.8, 28.5, 28.8, 24.6, 23.3, 28.1, 27.4, 29.1, 29.8, 30.8, 28.1, 31.2, 32.0, 31.3, 32.3, 33.3, 35.3, 34.3, 30.3, 31.3, 32.1, 31.3, 32.0, 32.8, 34.2, 35.0, 33.3, 34.2, 34.6, 35.9, 37.5, 35.3, 32.5, 31.9, 34.6, 34.5, 35.5, 34.2, 33.2, 33.9, 35.3, 36.2, 37.3, 34.8, 30.8, 29.7, 31.3, 34.1, 34.6, 35.7, 33.8, 26.5, 30.0, 32.3, 31.6, 25.1, 24.6, 30.0, 26.8, 25.4, 28.3, 26.9, 28.8, 24.5, 26.7, 27.2, 27.0, 26.4, 24.6, 25.9, 27.8, 27.3, 26.6, 25.4, 23.7, 20.8, 22.0, 23.9, 26.0, 26.6, 23.6, 24.8, 24.9, 23.9, 24.9, 25.6, 24.9, 26.1, 24.2, 25.0, 24.4, 25.4, 26.3, 24.2, 23.1, 19.9, 17.6, 19.5, 22.1, 22.4, 23.4, 22.8, 17.3, 19.3, 15.3, 14.9, 17.3, 19.6, 20.9, 18.8, 13.5, 12.0, 14.1, 14.9, 17.6, 17.0, 20.4, 21.4, 17.4, 20.1, 17.8, 10.0, 14.6, 18.3, 18.3, 19.9, 14.1, 18.5, 18.9, 10.9, 12.7, 15.1, 15.5, 15.9, 16.6, 13.5, 15.7, 13.6, 17.1, 10.5, 0.9, 5.2, 6.5, 10.4, 12.2, 2.8, 4.1, 8.5, 6.0, 5.0, 5.8, 7.0, 7.2, 8.0, 8.5, 8.5, 8.0, 7.3, 6.8, 4.8, -0.3, 2.7, 4.8, 4.0, 4.8, 1.5, -1.0, -3.0, 0.3, -0.5, -3.1, -2.0, -1.3, -1.6, -0.4, 5.5, 4.3, 2.3, 4.2, 0.7, -3.0, -8.2, -2.7, -2.3, -4.2, -4.8, -8.5, -5.0, -3.3, 0.4, -4.6, -4.6, 2.4, 2.9, 5.1, -0.2, -11.1, -10.1, -8.7, -6.6, -2.3, 2.4, 1.0, -2.9, -8.0, -5.6, -2.3, -4.5, 0.0, 4.2, 5.8, 5.3, 4.5, 7.5, 8.5, 3.5, -4.5, 0.2, 3.1, -3.8, -1.6, -3.4, -4.3, -11.6, -5.4, -0.6, 3.0, 1.3, 4.5, 5.0, 1.5, 3.7, 2.7, -0.5, -0.4, 4.5, 2.1, -0.7, 2.0, 4.5, 2.7, 4.0, 7.6, 5.5, 4.5, 0.5, 3.7, 1.8, 4.0, 8.5, 12.0, 14.4, 11.5, 12.0, 7.2, 9.5, 11.2, 7.5, 12.8, 12.4, 15.4, 19.2, 12.4, 22.2, 16.5, 9.5, 7.1, 11.1, 12.1, 15.5, 12.0, 12.9, 11.3, 9.0, 9.0, 7.6, 8.1, 11.5, 12.9, 14.0, 15.9, 19.2, 20.7, 21.6, 20.9, 18.3, 16.5, 14.8, 14.4, 16.5, 17.1, 18.8, 19.0, 19.9, 17.2, 18.3, 17.9, 15.5, 20.6, 18.9, 20.9, 19.1, 22.3, 20.9, 25.2, 27.1, 25.9, 27.3, 27.1, 15.1, 17.4, 14.6, 22.3, 22.6, 23.2, 23.9, 25.4, 25.4, 26.1, 23.3, 23.9, 25.4, 24.2, 24.4, 28.8, 29.3, 26.9, 25.5, 24.9, 25.6, 24.9, 23.1, 25.3, 25.5, 26.4, 27.3, 27.8, 29.5, 26.4, 24.0, 27.3, 25.6, 30.7, 33.4, 32.0, 29.8, 23.6, 26.4, 24.0, 21.9, 26.4, 24.4, 23.6, 27.8, 26.1, 26.9, 26.6, 26.4, 27.4, 28.4, 30.3, 28.8, 31.2, 33.8, 35.6, 32.7, 30.4, 27.3, 30.0, 25.7, 27.8, 24.1, 24.6, 25.4, 25.3, 30.4, 28.8, 29.3, 32.8, 33.4, 34.3, 32.3, 32.0, 24.8, 22.9, 30.3, 33.2, 33.8, 32.9, 32.9, 31.3, 31.6, 30.3, 31.9, 33.5, 32.2, 26.4, 25.5, 31.4, 29.3, 29.8, 31.0, 30.7, 31.3, 33.3, 33.6, 30.4, 25.5, 28.8, 30.0, 32.0, 31.8, 32.5, 28.6, 32.2, 31.0, 33.3, 30.8, 29.9, 30.8, 31.0, 27.5, 28.3, 29.3, 28.9, 29.7, 26.5, 31.8, 31.7, 32.3, 32.7, 33.0, 31.6, 25.2, 29.3, 26.3, 26.2, 26.7, 25.9, 22.2, 23.4, 26.0, 24.9, 24.1, 23.4, 26.8, 23.1, 20.0, 26.4, 24.4, 25.7, 23.9, 24.1, 22.9, 24.7, 25.6, 26.5, 25.9, 25.8, 22.9, 21.9, 22.1, 20.4, 20.6, 20.2, 22.6, 23.8, 24.2, 21.8, 22.3, 22.4, 20.8, 20.6, 19.5, 19.6, 21.7, 22.4, 22.8, 20.1, 18.4, 19.6, 22.4, 22.1, 21.4, 22.1, 20.4, 19.8, 16.9, 21.4, 21.9, 21.2, 19.4, 7.9, 13.7, 18.9, 19.6, 20.2, 12.1, 11.5, 9.5, 9.1, 11.6, 13.3, 13.2, 10.0, 10.7, 12.9, 10.6, 5.7, 7.9, 12.9, 8.7, 13.4, 11.9, 9.7, 9.0, 10.0, 11.0, 12.9, 11.1, 9.0, 4.0, 4.4, 8.5, 5.8, -2.6, -1.9, -0.9, 6.4, 7.1, 1.3, 0.6, 7.5, 9.1, 5.9, 9.0, 6.0, 0.4, 2.7, -3.1, -1.8, -1.3, -2.7, 1.0, -3.4, -6.1, -1.4, 3.9, 7.0, 5.2, 1.5, -2.7, -3.4, -1.1, 0.7, 0.2, -3.0, -1.5, -2.4, -1.1, -4.1, -2.3, -1.5, 1.0, 4.7, 5.2, 6.6, 2.1, 6.0, 0.7, 2.4, 4.8, 8.5, 7.6, 4.5, 3.5, 1.2, 2.5, 2.2, 7.5, 5.3, -0.5, 2.0, 0.0, -0.8, 1.5, 3.7, 4.2, 6.4, 8.6, 7.6, 9.3, 3.3, 5.1, 6.3, 2.4, -1.8, -0.9, 3.3, 2.1, -0.5, 0.8, 6.3, 3.5, 7.0, 9.5, 8.6, 5.7, 9.2, 7.5, 3.9, 3.6, 7.5, 8.5, 7.3, 10.5, 12.7, 12.2, 12.5, 8.2, 2.4, -0.8, 3.5, 5.0, 9.1, 10.2, 11.9, 12.7, 7.1, 7.2, 9.0, 9.2, 10.0, 12.0, 9.6, 9.2, 9.2, 13.2, 17.0, 20.5, 13.4, 14.5, 11.9, 11.0, 11.9, 10.7, 10.3, 13.5, 15.0, 15.5, 19.7, 16.9, 12.0, 15.7, 15.5, 16.2, 20.1, 20.1, 17.7, 21.1, 20.5, 23.5, 21.2, 26.9, 28.3, 18.7, 19.5, 20.6, 23.8, 26.5, 22.7, 24.4, 24.3, 20.6, 23.8, 23.3, 19.2, 24.9, 25.9, 21.2, 20.4, 19.5, 22.3, 24.2, 24.2, 19.0, 19.1, 16.7, 20.8, 22.2, 19.1, 23.1, 24.3, 22.9, 21.1, 22.4, 26.7, 25.9, 26.5, 24.4, 19.7, 21.4, 24.0, 24.9, 26.7, 29.5, 29.9, 28.7, 23.0, 22.6, 23.1, 24.2, 27.1, 26.4, 27.6, 32.7, 24.3, 20.2, 25.5, 27.1, 30.0, 28.8, 26.8, 24.5, 28.0, 26.8, 26.2, 23.8, 26.4, 27.2, 27.2, 26.4, 27.3, 27.1, 24.9, 22.0, 27.1, 26.9, 25.5, 28.1, 29.2, 32.0, 32.1, 31.2, 31.3, 26.9, 30.0, 28.4, 28.6, 26.8, 24.3, 27.3, 31.6, 31.5, 31.7, 30.4, 32.3, 28.6, 27.5, 30.6, 31.1, 29.4, 30.0, 28.1, 26.0, 28.4, 29.3, 30.5, 33.4, 32.0, 32.2, 32.2, 33.0, 34.3, 35.9, 36.0, 35.2, 34.5, 33.1, 34.3, 34.9, 34.9, 34.2, 32.6, 30.2, 29.8, 25.8, 27.7, 24.0, 21.1, 23.5, 26.9, 28.8, 29.0, 29.6, 29.8, 29.5, 28.0, 30.1, 30.5, 30.6, 29.2, 30.6, 30.4, 26.5, 28.0, 30.0, 30.8, 30.5, 24.8, 21.3, 22.4, 22.0, 20.0, 22.4, 18.4, 20.1, 16.7, 14.3, 18.6, 20.1, 20.0, 21.0, 21.0, 22.6, 23.6, 23.4, 21.8, 24.0, 22.6, 22.4, 23.5, 16.2, 15.9, 20.2, 19.5, 20.6, 21.5, 18.7, 18.5, 19.8, 15.1, 16.4, 16.3, 18.6, 17.9, 19.4, 12.5, 14.7, 10.5, 11.2, 13.7, 14.0, 14.3, 11.2, 5.8, 8.1, 11.7, 14.7, 8.0, 3.7, 5.6, 10.5, 10.2, 12.6, 16.7, 17.2, 16.1, 16.4, 14.9, 10.0, 4.6, 4.5, 5.4, 2.6, 3.0, 3.7, 0.3, 3.2, 8.2, 7.2, 7.2, 5.7, 3.8, -2.9, 0.2, 5.7, 6.0, 8.4, 9.4, 10.6, 11.7, 6.0, 9.1, 5.9, 5.7, 7.5, 11.0, 9.3, 11.0, 1.3, 0.0, -0.1, 0.1, -5.0, -4.6, -4.0, -0.8, 2.4, 2.1, 7.2, 4.1, 5.4, 2.8, -0.1, -2.0, -3.8, -4.0, -0.6, -1.1, -1.7, 0.7, 2.3, -4.5, 0.2, 1.0, -1.0, 4.0, 2.2, -0.5, -5.5, -9.3, -10.0, -8.6, -6.1, -2.6, -5.4, -5.8, -5.8, -2.9, -4.9, -4.6, -6.3, -6.3, -4.0, -1.2, 5.1, 3.0, 2.4, 3.6, 5.6, 7.8, 7.9, 4.0, 10.2, 9.1, 3.2, 4.2, 7.0, 8.9, 8.1, 9.7, 10.6, 8.0, 12.4, 12.0, 8.0, 7.3, 6.0, 3.4, 1.0, -1.6, 3.2, 0.7, 5.7, 6.1, 10.6, 8.0, 8.3, 7.9, 8.7, 9.3, 10.1, 11.2, 13.6, 12.3, 14.4, 12.1, 12.7, 10.7, 9.0, 9.5, 7.2, 1.4, 5.2, 2.0, 1.2, 4.0, 7.8, 6.0, 9.9, 11.5, 14.5, 12.6, 13.0, 18.1, 20.2, 15.0, 16.0, 18.3, 9.9, 13.5, 14.8, 16.1, 17.4, 19.4, 21.6, 19.2, 19.8, 18.0, 16.9, 18.9, 22.2, 23.5, 26.6, 25.2, 21.5, 13.4, 19.0, 24.3, 24.4, 25.4, 28.4, 25.3, 24.1, 19.1, 22.4, 21.1, 25.5, 17.6, 21.5, 22.9, 17.7, 17.9, 23.4, 19.7, 16.0, 19.0, 15.0, 23.0, 26.3, 20.5, 19.6, 23.0, 20.3, 17.9, 24.4, 24.6, 28.0, 28.4, 28.0, 32.0, 29.4, 20.5, 22.1, 28.4, 26.8, 26.6, 26.3, 28.8, 25.8, 25.8, 23.3, 22.4, 22.3, 25.9, 31.0, 29.5, 32.6, 31.0, 24.3, 27.9, 29.4, 32.7, 34.5, 31.6, 32.0, 32.5, 30.6, 27.9, 28.3, 25.7, 26.4, 29.8, 31.4, 24.5, 25.2, 24.5, 26.6, 26.4, 22.0, 19.9, 26.1, 26.5, 27.3, 30.7, 29.9, 30.6, 27.7, 26.9, 24.9, 28.6, 30.5, 28.9, 32.5, 34.5, 33.2, 34.0, 33.9, 27.6, 24.9, 29.4, 26.0, 27.6, 28.6, 30.3, 26.4, 26.4, 29.0, 31.2, 31.6, 32.3, 30.7, 26.9, 30.2, 31.7, 32.1, 32.0, 27.0, 33.2, 34.1, 36.3, 34.0, 31.4, 31.0, 29.6, 29.9, 24.5, 26.4, 27.8, 27.5, 26.4, 28.3, 31.0, 32.0, 33.6, 34.5, 31.5, 32.0, 30.5, 27.3, 28.0, 29.2, 30.3, 30.5, 32.5, 31.2, 28.4, 23.4, 27.3, 28.0, 26.9, 27.0, 28.8, 23.6, 22.1, 22.8, 23.3, 22.4, 23.9, 20.2, 20.1, 24.7, 25.6, 24.9, 17.8, 19.0, 16.8, 20.6, 22.0, 22.6, 23.1, 24.4, 25.2, 21.5, 19.5, 12.5, 14.0, 20.5, 18.8, 22.8, 22.0, 23.4, 23.6, 19.5, 20.9, 19.9, 22.1, 23.0, 22.4, 16.0, 17.7, 17.0, 14.5, 14.9, 20.5, 21.5, 19.4, 10.5, 12.0, 17.0, 18.5, 19.1, 19.0, 18.4, 11.1, 3.0, 4.5, 10.6, 14.6, 14.1, 11.5, 11.5, 11.0, 9.5, 5.9, 2.5, -0.6, 7.5, 8.3, 5.0, 4.9, 1.1, -4.3, 2.4, 10.2, 5.9, 1.2, 1.1, 0.9, 2.4, 0.1, -2.2, -0.2, 4.1, 7.0, 8.5, 3.1, 0.6, -0.3, 0.0, -1.6, -3.8, -4.6, -1.4, -2.1, -4.3, -2.0, 0.4, 2.0, 0.5, -1.2, 0.7, 2.0, 1.9, 3.4, 1.9, 6.5, 0.5, -10.9, -12.0, -7.1, -3.0, 2.1, 2.3, -1.7, 1.4, -3.5, -7.3, -0.5, 1.2, -3.4, -2.6, -0.7, -8.1, -7.0, -1.2, -1.7, 4.3, 3.9, 2.6, 1.1, 4.0, 0.1, -1.3, 0.2, -2.4, -1.6, 0.0, 0.9, 1.4, 3.5, -0.2, -2.8, -4.1, -2.1, 0.3, 1.4, 3.0, 0.3, -0.7, 3.6, 7.1, 9.4, 5.7, 4.0, 6.7, 9.5, 6.8, 2.9, 1.4, -0.2, -0.3, -2.5, -6.0, -5.3, -5.4, -0.3, 3.9, 5.7, 1.0, 5.2, 7.2, 6.5, 5.8, 5.2, 4.4, 7.1, 9.7, 5.4, 1.3, 8.5, 14.0, 13.9, 12.8, 10.0, 10.0, 9.5, 9.9, 10.9, 15.7, 11.2, 19.5, 19.3, 16.6, 12.9, 14.5, 14.9, 15.7, 8.7, 13.2, 13.2, 10.5, 12.4, 12.3, 13.8, 13.1, 14.2, 17.6, 19.2, 12.9, 13.1, 14.2, 18.2, 17.6, 13.6, 12.0, 9.4, 13.1, 11.7, 17.5, 17.0, 16.9, 20.5, 21.8, 23.0, 16.7, 17.9, 19.0, 22.0, 21.2, 22.5, 23.0, 23.2, 21.6, 22.5, 20.8, 18.4, 16.6, 20.1, 24.1, 20.5, 22.9, 27.5, 25.5, 25.4, 23.0, 23.0, 19.8, 26.1, 22.7, 24.7, 27.7, 23.3, 23.0, 23.2, 22.0, 24.8, 22.9, 24.9, 24.3, 24.5, 24.0, 25.1, 28.0, 25.3, 26.3, 28.0, 28.5, 23.7, 27.5, 23.0, 27.8, 30.6, 28.2, 27.2, 30.1, 27.3, 29.2, 31.4, 25.5, 28.7, 26.6, 27.0, 31.8, 32.1, 33.0, 32.4, 22.5, 26.3, 27.7, 27.6, 31.9, 29.4, 30.5, 30.3, 28.4, 26.0, 27.4, 29.7, 28.5, 30.0, 30.8, 29.6, 31.4, 32.3, 31.0, 26.3, 23.3, 24.1, 27.9, 26.2, 29.5, 29.0, 26.0, 29.5, 30.7, 26.9, 26.4, 29.9, 27.7, 26.4, 28.5, 28.7, 29.5, 33.0, 35.9, 34.9, 33.5, 34.6, 32.9, 34.0, 32.4, 28.7, 27.2, 29.8, 31.2, 31.7, 30.6, 28.1, 32.5, 33.5, 34.6, 34.4, 28.9, 26.5, 30.4, 29.0, 30.9, 24.6, 30.5, 31.2, 30.4, 27.9, 29.4, 28.0, 27.9, 29.2, 25.4, 28.0, 24.6, 20.4, 20.9, 23.8, 28.4, 29.0, 25.0, 24.7, 27.5, 28.1, 21.5, 23.0, 22.7, 21.0, 21.1, 25.1, 24.8, 23.9, 21.3, 20.7, 22.6, 22.5, 20.5, 16.9, 18.6, 19.0, 16.3, 19.5, 21.9, 18.8, 20.0, 19.5, 18.4, 19.1, 18.1, 17.1, 16.3, 20.2, 20.6, 21.5, 22.1, 17.0, 16.9, 20.2, 17.5, 9.6, 13.1, 16.6, 19.8, 21.2, 17.5, 20.0, 19.2, 14.6, 13.9, 12.1, 15.6, 15.5, 16.7, 13.8, 8.2, 9.9, 11.1, 12.7, 9.4, 8.7, 8.2, 7.4, 4.5, 13.1, 11.7, 11.6, 6.5, 10.9, 13.7, 12.8, 14.1, -0.1, 6.6, 12.8, 10.9, -0.7, -3.9, -3.1, -0.6, -0.6, 4.3, 7.0, 8.9, 5.7, 8.0, 5.9, 6.9, 1.7, 7.5, 5.4, -1.9, -2.0, 0.9, 4.0, 5.7, 3.6, 3.0, 6.8, 1.3, -2.5, 0.0, 8.0, 2.7, 3.4, -1.6, -9.0, -5.0, -0.6, 5.5, 0.6, 6.0, 5.0, 3.8, 9.2, 4.9, -2.0, 1.3, 2.5, 7.6, 9.0, 7.9, 7.0, 7.0, 7.0, 4.1, 4.4, 1.5, 0.8, 0.2, -0.2, -3.4, 0.1, 2.0, -4.9, -6.9, -1.1, -0.3, 2.0, 5.5, 1.3, 0.6, 1.3, 6.1, 7.1, 9.4, 12.1, 6.6, 7.2, 5.4, 6.6, 0.4, -3.7, 3.5, -1.1, -2.1, 2.5, 6.9, 5.0, -0.4, 1.1, -1.5, -4.2, -2.5, -0.1, 5.5, 3.5, 1.0, 4.5, 1.3, 1.9, 5.1, 4.3, 1.1, 1.6, 2.9, 3.9, 7.2, 7.1, 6.2, 6.0, 2.3, 2.0, 5.5, 5.2, 6.9, 6.7, 7.0, 8.3, 11.6, 5.7, 7.7, 5.7, 5.9, 9.6, 7.5, 8.2, 11.4, 14.2, 20.2, 20.2, 15.6, 8.5, 5.4, 12.7, 16.5, 16.6, 16.5, 16.5, 18.4, 22.9, 22.6, 22.1, 17.6, 19.5, 18.5, 15.0, 16.8, 18.3, 14.6, 21.4, 24.5, 21.6, 19.6, 16.2, 13.6, 17.6, 21.0, 19.4, 23.9, 23.0, 19.2, 24.6, 25.5, 25.4, 26.5, 17.5, 21.0, 23.8, 20.7, 20.7, 24.1, 26.2, 18.3, 18.0, 22.3, 25.3, 23.4, 23.5, 25.0, 23.2, 25.9, 17.5, 17.5, 16.5, 22.2, 20.8, 21.2, 23.0, 25.7, 26.4, 29.2, 29.9, 26.6, 28.0, 28.5, 28.9, 27.1, 25.1, 20.0, 24.0, 23.0, 21.5, 24.6, 24.4, 24.2, 30.3, 22.6, 28.4, 29.5, 32.0, 33.3, 26.2, 29.4, 27.6, 32.4, 32.0, 33.4, 31.6, 31.4, 32.2, 28.1, 30.0, 25.9, 28.6, 25.0, 31.2, 31.0, 31.4, 29.3, 30.6, 34.6, 32.4, 29.2, 33.6, 34.8, 35.4, 33.4, 31.9, 27.4, 26.8, 25.5, 26.4, 25.6, 25.3, 27.4, 26.1, 28.5, 32.0, 32.6, 32.8, 32.7, 32.6, 33.6, 35.5, 33.7, 33.9, 34.0, 31.5, 35.9, 37.4, 37.0, 37.0, 35.2, 35.3, 35.6, 32.0, 31.9, 32.5, 34.8, 33.4, 33.8, 32.5, 30.6, 32.5, 34.9, 32.3, 32.1, 29.7, 29.4, 23.0, 26.6, 26.8, 26.8, 29.8, 32.4, 30.7, 29.4, 31.4, 27.4, 22.6, 28.0, 28.5, 28.1, 28.3, 29.2, 29.9, 26.6, 26.4, 26.3, 25.6, 24.6, 22.5, 24.0, 23.2, 25.0, 22.5, 22.5, 23.8, 24.3, 24.0, 24.0, 25.1, 26.2, 24.6, 22.2, 21.8, 23.7, 25.3, 24.5, 21.4, 18.6, 23.6, 22.0, 22.7, 23.4, 23.8, 18.8, 16.1, 17.5, 17.6, 19.5, 13.0, 17.6, 15.3, 12.1, 11.5, 12.9, 17.0, 19.3, 14.5, 12.6, 17.1, 19.7, 15.8, 14.5, 10.9, 10.5, 11.0, 15.5, 14.5, 4.2, -0.8, 6.9, 8.4, 8.0, 6.1, 6.4, 7.0, 8.9, 12.1, 16.1, 15.3, 11.4, 4.9, 0.1, 1.6, -1.1, 2.8, 3.1, 3.4, 6.9, 16.5, 14.9, 2.5, 6.7, 10.7, 6.7, 3.6, 2.3, 2.9, 4.1, 4.0, -3.4, -5.5, -3.3, -2.2, 0.1, -0.1, -0.2, 0.4, 6.9, 4.2, 1.1, 2.9, 3.1, 2.5, 3.2, 2.1, 6.0, 7.6, 3.2, 6.9, 5.0, -0.1, -1.4, -0.8, -1.1, -4.1, -1.7, -2.5, -2.5, -2.0, -0.3, 0.4, 0.6, -1.9, 2.3, 6.0, 4.0, 3.8, 4.0, 3.4, 2.8, 2.0, 2.0, 3.8, 2.9, 3.8, 3.6, -0.4, 3.0, -0.1, -3.5, -2.6, -3.0, -1.9, 1.7, 2.9, 4.7, 7.7, 6.1, 3.2, 6.5, 4.0, -2.6, 0.9, 3.0, 4.4, 6.0, 6.4, 6.4, 6.2, -0.5, -0.3, 1.4, -1.0, -1.1, -4.0, -5.0, -1.3, 1.3, -0.2, 0.3, 2.9, 0.9, 7.8, 7.0, 0.4, -1.6, -1.2, 3.6, 7.4, 8.5, 8.2, 5.1, 3.0, 6.0, 6.1, 6.4, 5.6, 7.9, 8.3, 10.0, 11.8, 9.2, 11.7, 7.0, 5.6, 5.8, 8.6, 12.1, 7.5, 9.1, 10.9, 19.3, 16.9, 9.0, 12.4, 10.0, 9.9, 7.9, 11.2, 11.7, 15.0, 15.1, 18.7, 14.1, 16.5, 18.1, 18.9, 20.9, 20.1, 21.6, 23.0, 15.7, 17.7, 19.9, 19.8, 17.4, 14.6, 19.1, 21.1, 22.2, 20.4, 21.9, 15.4, 24.8, 27.2, 29.6, 28.2, 20.6, 18.5, 18.2, 19.9, 17.2, 26.4, 27.4, 16.6, 21.0, 20.9, 21.1, 19.9, 19.7, 17.4, 19.1, 16.5, 25.0, 26.8, 25.4, 26.5, 19.2, 23.8, 19.2, 20.7, 24.3, 26.5, 25.0, 25.3, 23.7, 27.3, 26.1, 24.9, 26.3, 27.2, 25.6, 25.5, 26.7, 27.0, 21.7, 23.4, 25.0, 27.2, 22.9, 22.2, 26.4, 30.3, 29.5, 23.5, 25.4, 28.7, 29.3, 27.8, 28.4, 29.7, 29.9, 29.8, 25.2, 29.4, 26.0, 27.9, 26.1, 22.5, 28.5, 23.4, 19.6, 21.0, 25.7, 24.9, 25.8, 25.9, 27.4, 22.5, 26.4, 25.0, 29.8, 28.7, 31.6, 33.0, 31.5, 33.6, 32.7, 33.7, 32.3, 30.1, 29.6, 29.5, 30.2, 31.4, 30.4, 29.8, 28.3, 27.8, 26.5, 25.9, 29.8, 30.5, 30.1, 31.7, 29.2, 31.4, 30.4, 30.7, 32.2, 29.8, 25.6, 31.7, 32.6, 33.1, 32.8, 32.2, 32.7, 32.6, 33.6, 31.0, 26.0, 26.1, 26.5, 28.0, 30.0, 26.7, 28.5, 28.4, 26.5, 22.6, 26.4, 28.8, 27.9, 28.2, 23.2, 21.9, 22.4, 22.5, 25.4, 23.8, 24.7, 20.2, 21.6, 22.8, 20.8, 23.7, 24.7, 25.4, 24.1, 24.8, 26.7, 26.9, 26.7, 23.8, 19.9, 21.7, 18.2, 22.6, 22.6, 22.2, 21.6, 15.4, 16.2, 19.5, 22.1, 22.9, 22.9, 22.5, 22.5, 22.3, 21.3, 15.3, 17.8, 14.6, 13.3, 15.1, 17.5, 21.2, 20.5, 19.0, 18.9, 18.8, 19.5, 18.4, 18.6, 18.2, 16.8, 13.6, 13.4, 10.6, 12.8, 14.5, 14.9, 10.5, 15.4, 11.6, 11.9, 14.3, 13.0, 11.9, 11.4, 15.0, 14.4, 11.8, 14.5, 8.7, 10.7, 11.4, 13.4, 13.1, 11.5, 8.3, 2.1, 4.1, 5.2, 0.0, -0.9, 0.4, 0.6, 4.4, 5.8, 7.5, 14.1, 10.5, 5.5, 3.0, 9.0, 12.2, 10.5, 0.3, -4.7, -5.2, 3.0, 0.9, 0.2, -2.1, -2.7, -0.1, 2.1, 3.6, 5.6, 4.8, -8.3, -9.2, -4.1, 0.2, -1.4, -9.5, -2.8, -2.6, -2.8, -1.8, -0.1, -2.4, -1.1, 3.8, 0.8, 1.6, 1.1, -2.1, -0.4, 3.1, 6.2, 1.7, -5.4, -5.7, -4.9, -5.7, -5.2, -0.9, 4.1, 6.2, 0.6, 2.8, -0.2, -1.2, -1.0, 1.3, -0.2, 3.9, -0.4, 1.6, 2.5, 3.0, 7.1, 5.4, -3.8, -0.3, 2.5, 5.5, 1.6, -1.7, -0.8, 3.4, 1.1, 3.1, 7.7, 3.7, -2.7, -0.6, 2.0, 4.0, 7.0, 7.2, 11.5, 7.5, 8.3, 7.5, 11.2, 9.8, 9.5, 9.8, 7.9, 7.2, 7.0, 12.4, 6.4, 8.2, 4.4, 4.0, 8.0, 8.7, 8.7, 7.2, 4.3, 7.5, 8.8, 12.2, 3.3, 5.0, 7.4, 15.8, 14.6, 15.0, 19.4, 18.8, 11.7, 9.4, 11.6, 15.2, 13.7, 16.6, 19.9, 14.5, 12.2, 13.0, 13.7, 14.1, 16.6, 15.2, 19.2, 14.5, 14.8, 19.5, 13.4, 14.8, 18.0, 20.3, 15.5, 13.7, 15.2, 13.9, 16.4, 18.0, 19.3, 21.0, 23.7, 20.3, 23.6, 24.4, 22.0, 20.6, 23.2, 25.8, 19.2, 18.9, 20.4, 22.2, 21.7, 18.7, 18.1, 18.5, 24.0, 23.1, 19.5, 19.5, 25.2, 24.0, 22.8, 25.8, 23.6, 22.5, 21.9, 25.7, 22.7, 20.9, 23.7, 26.7, 26.7, 26.2, 28.7, 27.4, 26.2, 28.4, 28.4, 26.8, 28.0, 24.2, 24.4, 23.4, 21.0, 25.0, 27.0, 27.3, 30.0, 30.6, 31.6, 31.2, 30.7, 28.7, 28.9, 25.7, 27.7, 26.7, 27.1, 27.4, 28.2, 32.0, 24.1, 20.9, 25.2, 27.3, 32.2, 31.2, 31.3, 31.3, 32.2, 28.7, 29.0, 30.8, 33.0, 26.7, 25.4, 24.6, 28.4, 27.9, 24.9, 26.7, 29.7, 29.5, 31.7, 27.7, 27.5, 26.9, 27.5, 30.0, 27.1, 25.2, 29.3, 28.3, 26.3, 25.2, 28.6, 29.5, 29.2, 27.7, 31.1, 32.7, 30.4, 30.1, 31.0, 33.0, 28.6, 29.3, 29.6, 31.4, 32.0, 30.3, 25.9, 31.4, 25.8, 29.9, 31.6, 30.4, 29.0, 29.0, 29.6, 28.5, 28.3, 23.0, 26.2, 27.4, 28.7, 29.4, 30.0, 25.4, 27.2, 29.1, 21.4, 24.7, 27.0, 27.2, 27.4, 27.2, 26.1, 22.1, 23.4, 23.5, 22.1, 24.3, 26.5, 23.0, 23.8, 24.6, 23.5, 24.8, 23.5, 19.0, 19.7, 22.8, 23.6, 21.6, 17.5, 16.1, 17.5, 20.7, 19.5, 19.5, 20.6, 19.7, 21.0, 17.5, 15.6, 19.0, 12.9, 9.7, 11.8, 18.7, 19.8, 19.2, 14.8, 15.3, 19.0, 15.9, 17.1, 13.3, 9.0, 8.9, 12.3, 14.8, 14.0, 14.3, 15.8, 17.5, 17.5, 16.9, 16.7, 17.3, 17.5, 16.1, 16.6, 11.0, 7.2, 4.5, 8.5, 8.6, 8.3, 8.6, 9.8, 11.4, 11.6, 10.0, 9.8, 11.4, 5.5, 8.0, 7.5, 14.1, 9.4, 12.5, 6.4, -1.1, 0.8, 1.9, 5.7, 3.2, -9.0, -3.7, 0.2, -1.0, -0.6, 5.1, 4.0, 4.7, 2.1, 0.8, -5.4, -3.9, 4.0, 1.1, -6.1, -6.0, -7.0, -6.5, -3.0, 0.2, 1.4, 2.0, 3.4, 2.6, 1.6, 2.1, 5.4, 7.0, 7.4, 11.7, 7.3, 3.1, 0.6, 1.2, 2.2, 0.4, 3.0, 3.0, 3.5, 1.7, -0.5, -1.5, -7.7, -1.6, -10.4, -10.1, -6.4, -2.4, -4.9, -4.1, -3.7, -5.5, -4.7, 2.0, 2.8, 3.5, 1.2, 0.4, 1.9, 1.0, -2.1, -3.8, -6.0, -3.8, -3.6, -0.5, 2.4, 1.7, 2.6, 7.0, 3.9, 5.5, 6.7, 9.7, 6.2, 4.6, 1.4, 1.4, 1.3, 3.7, -0.2, -3.9, 1.4, 5.2, 7.6, 9.6, 9.8, 5.6, 7.7, 10.6, 8.5, 2.9, 3.1, 1.4, 5.5, 10.5, 4.9, 3.5, 5.1, 7.9, 10.8, 9.3, 10.0, 5.5, 9.4, 12.0, 14.2, 9.4, 13.8, 12.0, 13.4, 7.4, 10.6, 19.3, 21.0, 11.8, 14.1, 12.5, 12.5, 13.5, 16.8, 18.6, 16.8, 18.5, 19.6, 20.6, 17.8, 10.1, 16.7, 13.7, 19.6, 21.1, 21.8, 15.6, 13.0, 15.4, 18.8, 21.1, 19.9, 21.1, 24.8, 21.4, 24.5, 20.9, 16.0, 12.6, 14.5, 19.2, 14.9, 15.9, 15.9, 18.3, 17.9, 21.4, 20.9, 17.0, 16.7, 15.7, 19.6, 20.8, 18.6, 21.3, 17.4, 21.1, 18.4, 22.0, 20.1, 18.5, 22.5, 19.2, 26.3, 26.9, 26.2, 23.6, 19.3, 25.1, 26.1, 23.7, 27.9, 26.7, 24.0, 23.5, 23.0, 24.5, 28.2, 29.4, 28.4, 29.0, 31.2, 28.9, 25.2, 28.1, 25.7, 28.7, 29.6, 32.9, 33.5, 25.0, 27.8, 27.8, 27.4, 28.8, 30.6, 30.9, 30.1, 23.7, 29.4, 31.4, 31.8, 33.6, 34.9, 32.3, 26.3, 25.2, 29.8, 28.4, 25.5, 25.3, 24.8, 28.9, 31.3, 29.6, 30.1, 29.9, 29.8, 27.6, 29.2, 31.7, 32.7, 32.2, 32.4, 34.9, 35.0, 31.9, 29.4, 31.7, 28.3, 31.4, 32.5, 28.7, 32.7, 32.8, 33.3, 33.2, 27.8, 29.4, 30.9, 31.4, 31.6, 31.2, 32.3, 28.1, 28.0, 28.8, 30.0, 30.5, 26.5, 29.0, 25.9, 29.2, 29.8, 30.0, 29.0, 31.6, 26.6, 29.7, 25.6, 28.4, 27.0, 26.7, 27.2, 28.7, 28.4, 28.5, 26.9, 27.7, 27.9, 29.5, 22.7, 25.5, 25.4, 23.1, 23.1, 24.1, 22.6, 22.5, 24.8, 24.9, 24.3, 24.2, 25.1, 25.7, 25.8, 26.9, 25.9, 26.5, 27.0, 22.2, 17.7, 21.9, 20.5, 25.4, 26.4, 26.2, 26.6, 20.3, 16.4, 15.4, 12.5, 12.1, 12.9, 13.5, 16.0, 17.8, 18.9, 19.4, 20.2, 19.3, 18.2, 18.5, 17.3, 18.0, 19.5, 20.9, 22.5, 9.5, 16.7, 18.0, 15.6, 17.3, 19.9, 18.7, 18.0, 17.4, 16.6, 16.5, 15.6, 16.8, 12.4, 12.4, 16.9, 16.9, 15.5, 13.0, 5.0, 9.6, 13.7, 13.8, 9.8, 9.5, 10.0, 12.7, 13.6, 14.9, 13.0, 8.5, 9.6, 7.4, 7.4, 5.7, -1.6, 3.7, 5.2, 6.2, 6.8, 4.4, 6.2, 5.7, 9.8, 8.7, 10.2, 9.8, 7.0, 1.8, 0.0, -0.1, -6.1, 4.6, 2.5, 4.9, 4.2, -7.2, -1.3, -1.3, -4.0, -4.0, -9.4, -9.9, -6.4, -4.8, -5.4, -9.4, -10.1, -10.6, -9.3, -7.0, -0.4, 5.0, 3.0, 0.2, -9.4, -7.8, -2.4, 0.9, 2.0, 6.8, 3.6, 0.4, 0.5, 2.2, 7.9, 4.2, 6.9, 2.1, 7.1, 4.6, 1.3, -6.2, -3.5, -3.5, -3.8, -0.7, 3.0, 0.4, -1.0, 4.1, -2.6, -5.0, 0.1, 1.3, 5.4, 3.3, 3.2, 4.7, 2.7, -1.6, -2.6, -0.3, 0.8, 1.1, 3.5, 5.6, 3.2, 2.7, 2.1, 7.2, 5.1, 7.4, 9.3, 13.0, 9.6, 2.7, 3.4, 6.1, 6.6, 9.2, 8.3, 7.9, 5.3, 1.1, 2.3, 4.5, 6.5, 9.8, 9.6, 10.8, 12.7, 14.2, 14.1, 8.3, 7.4, 11.9, 8.6, 10.0, 8.7, 9.7, 12.9, 12.5, 17.9, 16.2, 18.4, 11.0, 16.4, 17.6, 18.2, 17.1, 15.7, 15.7, 17.1, 19.9, 17.8, 22.8, 21.9, 18.6, 24.3, 22.9, 21.7, 16.6, 13.8, 18.6, 19.5, 17.0, 16.7, 17.5, 20.5, 18.2, 22.4, 21.1, 22.0, 19.1, 24.4, 21.7, 22.9, 24.2, 24.9, 23.3, 24.8, 25.1, 22.6, 20.7, 21.1, 23.5, 21.8, 20.1, 21.3, 17.8, 20.0, 21.4, 22.6, 22.4, 19.8, 26.8, 19.2, 25.6, 18.9, 24.8, 27.0, 29.0, 26.0, 27.9, 28.2, 27.7, 20.2, 24.4, 27.0, 24.7, 27.4, 28.7, 28.4, 32.0, 31.8, 32.2, 24.5, 27.2, 28.9, 30.2, 28.0, 29.2, 22.0, 19.4, 27.9, 29.9, 25.7, 27.2, 31.0, 30.0, 31.7, 30.3, 29.2, 30.8, 26.0, 26.1, 30.8, 29.6, 31.6, 31.0, 29.5, 24.4, 25.2, 29.8, 30.3, 31.6, 29.7, 30.3, 30.5, 28.0, 25.6, 31.5, 33.7, 32.8, 30.7, 24.4, 28.7, 30.7, 33.7, 29.3, 26.4, 29.3, 29.7, 32.0, 32.7, 33.2, 31.9, 30.8, 31.7, 32.6, 29.8, 30.7, 33.2, 34.9, 33.6, 31.9, 32.0, 31.6, 34.0, 35.2, 33.5, 34.2, 30.5, 32.7, 33.4, 32.0, 31.8, 32.4, 32.2, 32.3, 33.4, 33.6, 30.7, 23.7, 22.1, 30.9, 29.0, 29.4, 31.7, 25.5, 22.4, 28.8, 30.0, 29.4, 27.0, 26.3, 27.0, 28.6, 29.0, 27.0, 29.7, 22.8, 24.4, 22.6, 23.9, 27.2, 29.2, 29.2, 22.7, 26.5, 24.4, 15.6, 21.2, 24.3, 17.0, 21.0, 20.9, 22.8, 21.5, 25.1, 25.5, 21.9, 21.3, 18.5, 14.7, 16.4, 17.8, 18.8, 19.4, 20.5, 20.1, 19.5, 18.0, 14.5, 16.7, 17.0, 17.5, 19.5, 20.6, 21.5, 22.4, 22.5, 25.7, 23.4, 21.3, 17.1, 10.5, 11.4, 15.0, 14.0, 10.6, 15.5, 17.8, 18.0, 15.1, 14.5, 8.3, 5.2, 8.7, 7.9, 7.8, 10.9, 10.9, 2.1, 4.4, 8.4, 7.3, 12.3, 8.3, 7.5, 12.2, 13.8, 13.5, 14.4, 6.0, 7.9, 11.4, 14.5, 13.3, 8.2, 6.1, -1.8, 2.1, 4.5, 6.5, 7.9, 5.2, 2.4, 1.7, 4.7, 4.1, 3.7, 3.0, -1.4, -0.4, -0.5, -6.8, -3.3, 0.1, 5.4, 3.6, 3.5, 1.3, 3.0, 0.0, 3.1, -0.1, 2.2, 0.3, -6.3, -6.5, -3.8, -0.8, 1.7, 1.2, -5.6, -1.0, 0.7, 1.6, 7.4, 6.8, 6.4, 5.4, -1.2, -4.1, 1.2, 2.9, 0.2, -2.4, -0.1, -2.9, -3.7, -4.9, -1.5, 2.1, 1.1, 0.2, -1.5, 0.5, 0.0, -7.6, -5.0, -0.2, 1.2, -1.0, 1.1, -0.4, -2.0, -5.0, -4.1, -2.5, -3.8, -4.3, -1.3, 4.7, 7.4, 8.4, 4.4, 5.0, 8.4, 11.7, 9.8, 6.0, 3.7, 5.0, 10.4, 11.9, 16.0, 7.6, 1.0, 1.7, 4.5, 7.6, 9.4, 8.1, 8.7, 10.5, 8.4, 2.8, 7.4, 5.0, 4.7, 10.4, 14.0, 14.6, 10.1, 7.4, 7.4, 10.4, 14.0, 20.6, 18.8, 16.6, 15.9, 14.0, 17.5, 14.7, 15.2, 15.0, 17.4, 14.0, 12.5, 16.0, 17.0, 16.4, 19.2, 10.5, 13.9, 14.5, 14.9, 18.0, 9.1, 11.6, 20.0, 21.0, 20.2, 22.3, 20.0, 15.5, 14.3, 16.3, 20.3, 17.7, 18.9, 13.2, 22.5, 19.9, 21.8, 20.5, 22.4, 22.3, 17.2, 17.8, 17.5, 19.5, 24.3, 23.0, 17.5, 19.8, 21.7, 22.1, 20.9, 20.2, 17.8, 23.4, 26.2, 29.1, 27.8, 26.9, 25.7, 27.7, 20.5, 26.5, 22.3, 26.8, 29.3, 29.0, 26.0, 28.8, 29.9, 30.0, 27.7, 28.7, 26.8, 27.5, 25.9, 29.1, 29.9, 33.3, 31.0, 23.9, 31.0, 31.7, 29.7, 28.0, 32.2, 28.4, 29.2, 31.7, 29.8, 31.0, 31.2, 33.7, 33.7, 35.5, 32.0, 27.6, 22.6, 28.4, 31.4, 24.6, 27.0, 29.9, 28.0, 29.9, 30.2, 28.5, 30.8, 32.0, 32.7, 27.2, 29.0, 27.5, 28.4, 27.6, 31.3, 31.8, 33.2, 33.5, 32.2, 33.3, 32.2, 32.8, 29.7, 32.3, 32.8, 31.8, 32.8, 33.6, 33.4, 34.2, 33.7, 36.0, 34.9, 35.4, 36.7, 36.5, 31.8, 31.0, 33.5, 35.1, 35.1, 36.7, 36.0, 35.9, 32.4, 26.7, 28.4, 31.5, 31.8, 30.7, 29.8, 30.7, 30.2, 26.7, 31.0, 25.6, 27.9, 29.5, 29.8, 25.1, 28.8, 28.5, 26.6, 27.5, 25.4, 26.5, 27.3, 28.5, 26.0, 27.5, 26.1, 24.4, 25.0, 25.6, 26.2, 23.5, 23.0, 25.5, 19.0, 24.0, 25.8, 28.4, 28.2, 28.0, 28.5, 23.0, 24.5, 26.5, 24.6, 26.0, 22.3, 21.9, 24.1, 26.5, 28.4, 26.2, 25.0, 19.9, 20.0, 22.0, 21.2, 21.2, 21.7, 22.7, 21.6, 17.9, 16.9, 16.6, 17.2, 18.2, 15.6, 15.6, 17.9, 19.5, 21.9, 21.9, 21.6, 17.5, 13.3, 18.7, 19.0, 14.8, 13.3, 13.1, 12.4, 15.6, 17.1, 15.8, 17.5, 12.7, 13.5, 11.2, 5.3, 11.2, 14.1, 14.5, 13.9, 11.1, 6.0, 6.7, 8.7, 14.3, 5.4, 0.9, 3.4, 4.4, 8.0, 11.4, 11.7, 13.3, 8.1, 13.5, 14.4, 8.9, 7.8, 2.1, 2.9, 5.5, 4.0, 4.0, 6.5, 12.1, 12.6, 10.4, 13.4, 11.0, 7.5, 8.3, 8.9, 1.6, 2.8, 4.1, 1.2, -4.5, -2.7, -2.9, -2.4, 1.6, 4.3, 4.9, 4.8, 6.1, 3.4, 2.9, 3.3, 1.6, -5.8, -6.9, -7.8, -5.3, -5.5, -5.2, 0.9, 0.7, -0.7, 0.2, 2.5, 1.4, 2.4, 1.6, 0.1, -1.9, 0.7, 3.1, 3.6, 1.4, 0.8, 2.1, 1.3, 8.6, 2.0, 5.1, 5.2, 4.4, 1.2, 1.4, 4.2, 8.4, 7.4, 3.7, 4.2, 8.1, 4.9, 2.6, -0.1, 2.9, 5.5, 7.7, 7.6, 3.3, 6.1, 9.5, 9.3, 11.2, 8.1, 15.8, 11.0, 9.3, 7.3, 4.9, 6.2, 9.9, 6.9, 6.1, 7.8, 11.1, 8.8, 8.5, 6.1, 8.5, 9.4, 12.4, 12.9, 8.6, 7.1, 12.7, 7.4, 14.5, 12.7, 9.3, 12.6, 14.1, 14.1, 14.0, 17.1, 16.6, 17.2, 21.1, 20.2, 14.0, 10.3, 10.2, 11.7, 10.3, 14.1, 15.3, 18.3, 21.0, 20.0, 19.9, 17.9, 23.4, 15.6, 14.2, 19.1, 18.3, 18.8, 21.2, 21.6, 19.5, 24.3, 23.4, 19.5, 19.3, 20.7, 18.4, 18.0, 20.9, 20.7, 23.9, 17.8, 16.3, 16.2, 21.0, 17.6, 21.3, 15.2, 13.5, 18.8, 21.3, 22.9, 25.2, 18.0, 21.5, 25.5, 27.1, 29.2, 29.5, 23.1, 27.3, 27.8, 19.0, 24.7, 24.0, 19.0, 23.6, 24.5, 25.4, 28.3, 26.3, 24.9, 26.6, 27.1, 26.8, 22.4, 26.2, 27.9, 27.6, 25.1, 22.2, 23.6, 25.3, 28.5, 30.2, 29.9, 32.4, 34.2, 26.5, 26.2, 28.4, 29.2, 26.7, 27.9, 27.2, 25.0, 28.0, 32.1, 30.0, 27.4, 31.1, 34.0, 30.3, 33.1, 23.5, 26.4, 31.0, 33.9, 26.1, 23.9, 31.9, 27.6, 22.1, 24.6, 24.5, 32.0, 25.2, 25.9, 25.6, 31.2, 28.6, 31.8, 29.1, 26.5, 32.6, 32.8, 31.8, 27.5, 27.9, 33.1, 35.2, 33.5, 32.7, 33.4, 33.2, 34.8, 36.1, 36.7, 35.2, 33.7, 33.5, 35.4, 36.0, 36.0, 36.5, 37.1, 37.4, 36.9, 36.5, 35.0, 27.4, 31.2, 32.0, 30.2, 30.5, 31.7, 26.0, 28.7, 30.7, 28.0, 31.1, 31.2, 28.5, 28.4, 24.2, 27.6, 27.4, 26.7, 27.6, 24.0, 22.6, 28.3, 28.7, 29.1, 28.8, 26.1, 27.6, 27.0, 25.6, 25.7, 26.9, 23.5, 26.7, 27.1, 25.4, 26.0, 27.1, 26.0, 23.3, 21.2, 23.8, 25.7, 26.5, 20.6, 23.7, 24.4, 25.1, 17.3, 16.8, 16.0, 19.5, 22.9, 25.0, 25.1, 25.3, 25.5, 24.0, 18.0, 20.6, 20.2, 22.5, 20.7, 22.5, 20.9, 23.6, 15.3, 18.1, 21.0, 21.4, 20.2, 22.1, 24.4, 23.0, 21.5, 17.1, 20.0, 20.5, 17.9, 14.4, 8.3, 4.9, 6.2, 11.1, 11.8, 16.8, 14.9, 16.8, 9.3, 4.5, 0.3, 4.4, 8.5, 4.4, 5.7, 2.6, 8.9, 14.9, 8.9, 7.8, 3.5, 2.9, 2.0, 5.1, 4.5, 6.5, 4.3, 6.3, 7.7, -2.0, 1.4, 0.6, 2.9, 7.5, 8.9, 8.4, 10.0, 9.5, 5.9, 6.5, 3.0, 0.9, 1.8, 2.5, 3.5, 2.7, 8.2, 11.0, 6.0, 1.3, -3.3, -2.4, -0.1, -0.1, 3.2, 10.5, 7.4, 1.4, -2.0, -0.5, 0.5, 1.7, 4.9, 5.4, 7.4, 3.8, 3.5, 2.8, -0.9, -13.0, -14.7, -6.8, -5.0, 1.2, -1.4, 2.3, -1.2, 3.7, 5.0, 0.1, -1.7, -1.4, 2.0, 1.6, 1.3, -0.2, -3.2, 0.9, 3.4, 1.6, 6.8, 8.3, 8.4, 10.7, 4.6, 3.0, 0.5, -9.4, -6.8, -3.8, -1.0, -1.8, 3.5, 4.5, 2.1, -0.2, 0.7, -1.2, 2.6, 2.5, 5.4, 5.5, 6.0, 3.5, -1.0, 4.3, 1.1, 3.2, 2.9, 1.6, 5.9, 5.4, 11.2, 11.9, 7.6, 6.1, 5.7, 8.5, 9.6, 9.3, 6.6, 14.3, 17.5, 19.4, 15.2, 11.2, 7.7, 13.6, 11.6, 15.5, 12.0, 9.6, 10.0, 14.7, 10.4, 10.3, 14.0, 14.0, 18.7, 11.6, 13.6, 16.4, 16.6, 16.9, 9.2, 3.7, 7.0, 11.9, 14.0, 13.2, 7.6, 12.2, 11.9, 16.5, 19.1, 12.8, 11.3, 14.5, 14.3, 20.1, 15.0, 18.2, 20.1, 16.1, 20.5, 19.6, 14.3, 21.2, 19.3, 20.3, 20.8, 23.8, 24.7, 27.4, 25.6, 20.0, 22.5, 24.0, 23.7, 21.3, 24.6, 25.0, 25.2, 24.7, 22.0, 17.0, 18.5, 20.9, 22.1, 24.5, 25.0, 25.0, 26.0, 28.6, 26.3, 23.0, 21.1, 21.7, 24.5, 27.5, 24.6, 25.2, 26.2, 25.3, 26.2, 23.2, 27.5, 29.1, 28.2, 26.1, 25.5, 23.5, 24.6, 26.7, 28.3, 26.0, 26.1, 24.1, 29.4, 30.5, 32.0, 30.5, 30.5, 31.0, 30.6, 30.4, 31.0, 28.4, 29.0, 29.7, 32.3, 25.5, 25.5, 26.9, 25.9, 29.0, 26.7, 24.5, 26.7, 28.1, 26.0, 26.8, 24.5, 25.8, 27.2, 28.5, 29.2, 29.5, 24.0, 26.5, 24.9, 28.5, 29.2, 27.5, 27.7, 29.0, 29.3, 29.0, 28.8, 31.0, 27.0, 29.4, 30.1, 26.0, 26.4, 24.2, 30.3, 27.5, 29.5, 34.3, 36.0, 30.9, 25.3, 30.4, 32.0, 32.9, 33.7, 35.0, 28.7, 28.5, 30.7, 25.4, 28.0, 31.1, 31.5, 24.8, 31.7, 31.7, 25.7, 29.0, 27.1, 28.6, 28.5, 27.8, 21.2, 24.2, 26.2, 26.2, 28.4, 27.7, 30.1, 29.0, 26.8, 23.5, 25.6, 26.4, 28.2, 23.3, 25.0, 29.5, 29.5, 25.0, 26.6, 28.7, 29.6, 31.4, 30.1, 27.2, 27.8, 27.1, 21.5, 16.5, 20.2, 22.1, 25.2, 24.2, 27.7, 24.6, 27.6, 26.5, 20.2, 17.2, 19.0, 19.6, 22.5, 23.2, 23.5, 23.9, 19.5, 15.2, 13.2, 18.2, 18.6, 20.9, 21.5, 21.0, 21.0, 15.5, 9.6, 9.4, 11.4, 14.4, 16.5, 18.2, 18.4, 19.5, 19.8, 19.7, 16.5, 11.4, 17.5, 19.2, 18.5, 16.0, 15.7, 18.5, 19.9, 20.2, 13.1, 14.5, 11.6, 4.8, 1.3, 8.2, 7.8, 13.5, 12.7, 13.7, 11.1, 9.2, 11.1, 9.7, 5.0, 10.0, 8.5, 5.9, 3.6, 7.8, 9.1, 7.6, 12.7, 8.3, 9.8, 6.1, 3.7, 1.9, -5.3, 0.8, 3.8, 0.6, -0.5, -1.7, -1.9, 0.6, 2.7, 4.0, 4.5, 0.0, 1.9, 0.7, 5.0, 3.9, 2.3, 2.6, 1.0, 1.8, 4.2, 7.5, 9.3, 12.4, 14.4, 4.5, -3.0, -0.3, 0.5, 3.3, 7.4, 1.1, 7.1, 3.0, 2.3, 0.7, -0.1, 2.6, 4.9, 3.6, 5.3, 6.1, 6.8, 8.2, 7.5, 6.6, 6.9, 6.4, 7.4, 8.7, 4.3, 4.5, 5.5, 3.9, 4.2, 3.4, 4.9, 9.3, 3.7, 4.3, 7.0, 6.0, 7.1, 7.2, 6.6, -1.4, -4.7, -2.6, 0.9, -1.6, 1.1, 4.6, 5.3, 3.7, -0.3, -1.5, -0.5, 0.9, 4.8, 9.7, 11.6, 11.4, 11.6, 15.1, 12.6, 9.3, 8.5, 10.2, 6.0, 8.7, 8.7, 4.0, 1.9, 1.9, 1.0, 4.6, 8.6, 5.5, 7.8, 9.2, 10.2, 11.4, 12.1, 11.5, 16.5, 11.2, 5.4, 6.7, 7.1, 8.9, 13.2, 17.1, 20.1, 17.0, 8.9, 12.8, 14.1, 13.3, 8.7, 15.0, 14.4, 16.3, 17.4, 15.6, 15.7, 17.0, 22.2, 13.3, 14.5, 16.7, 19.0, 14.2, 20.5, 16.6, 16.8, 17.3, 16.6, 21.0, 20.4, 18.2, 24.6, 30.2, 29.3, 23.4, 18.5, 18.5, 19.2, 16.8, 21.0, 22.6, 20.7, 22.6, 23.5, 27.9, 29.5, 32.0, 33.5, 23.0, 21.7, 23.2, 25.0, 21.7, 24.2, 30.0, 23.9, 19.7, 22.6, 24.7, 26.1, 27.3, 25.4, 26.7, 27.0, 29.8, 29.2, 25.6, 27.9, 26.0, 27.1, 24.9, 28.9, 31.1, 25.9, 21.7, 28.6, 22.7, 26.7, 30.4, 29.6, 28.1, 26.6, 24.0, 25.0, 26.2, 29.9, 29.0, 29.3, 31.0, 28.5, 29.7, 32.1, 32.1, 31.6, 30.5, 32.1, 26.5, 25.7, 30.6, 28.5, 30.5, 26.2, 26.7, 31.0, 31.6, 33.0, 33.8, 30.7, 29.3, 28.5, 30.2, 30.5, 33.4, 33.4, 32.1, 28.5, 33.2, 33.7, 34.1, 33.8, 35.4, 35.6, 36.3, 37.2, 37.2, 30.5, 28.7, 29.0, 30.0, 30.1, 31.2, 33.7, 36.0, 32.5, 34.2, 34.5, 31.0, 35.0, 32.1, 26.4, 30.3, 27.3, 30.2, 30.4, 26.7, 28.3, 26.7, 31.3, 26.0, 29.9, 32.5, 31.8, 25.3, 24.3, 25.5, 26.5, 26.3, 25.5, 26.6, 26.1, 27.9, 23.4, 28.1, 29.0, 29.5, 28.2, 29.0, 29.5, 27.9, 26.9, 27.1, 27.4, 27.4, 26.7, 25.0, 28.0, 25.4, 25.7, 26.8, 23.8, 22.7, 24.5, 24.5, 24.9, 26.5, 22.5, 21.1, 20.1, 19.6, 22.0, 23.5, 18.7, 19.0, 18.7, 19.0, 20.7, 21.7, 22.6, 22.7, 22.2, 15.5, 15.4, 18.1, 16.7, 15.1, 18.3, 16.7, 14.1, 16.3, 18.2, 19.7, 19.9, 20.1, 19.5, 18.3, 13.3, 18.0, 19.7, 19.7, 22.5, 17.2, 0.0, 12.5, 17.2, 14.5, 12.1, 12.0, 14.7, 14.8, 6.1, 7.8, 10.0, 12.0, 12.9, 13.4, 11.0, 14.3, 13.5, 11.3, 14.4, 7.5, 7.5, 3.2, 6.2, 9.4, 12.5, 10.0, 10.1, 8.8, 7.2, 3.6, 3.6, 1.8, 4.8, 5.1, 4.9, 3.1, -2.0, 1.0, 2.0, 4.6, 8.9, 7.8, 5.5, 5.5, -0.7, 0.2, 0.5, 3.6, 4.8, 8.5, 8.7, 5.8, 5.0, 7.2, 1.2, -1.5, 1.7, 0.2, -0.7, 1.6, 0.4, 3.4, 3.4, 3.1, 6.1, 3.7, -9.5, -10.7, -7.3, -4.5, -3.8, -0.8, -3.6, -4.0, -2.1, -2.8, -3.5, -3.0, -6.2, -7.8, -10.3, -7.7, -4.9, -3.0, -2.0, 0.2, -0.9, -1.4, -2.9, 0.2, 2.6, 6.6, 0.1, 2.5, 0.0, -0.4, 0.6, -2.7, 0.9, 0.7, 2.0, 4.0, 3.7, -1.7, -0.5, 3.6, 1.8, -2.7, 3.8, 2.0, -5.8, -4.3, 2.3, 4.5, 2.5, -0.1, 1.2, 1.9, -4.0, -4.0, -3.7, -1.1, 4.7, 1.6, 4.3, 1.9, 3.2, 3.7, 6.0, 4.4, 6.1, 9.3, 11.6, 12.5, 11.9, 6.2, 7.0, 12.5, 10.0, 6.5, 3.6, 6.9, 9.0, 10.7, 11.5, 15.0, 15.1, 14.8, 15.3, 18.1, 16.2, 13.2, 15.4, 15.2, 15.9, 14.0, 12.5, 13.3, 12.9, 13.7, 12.4, 14.6, 16.6, 21.5, 18.7, 14.4, 14.9, 17.3, 20.5, 21.4, 20.3, 16.8, 16.7, 22.6, 25.5, 28.5, 18.5, 14.7, 15.8, 16.7, 20.3, 20.5, 22.8, 20.6, 26.4, 21.2, 22.5, 24.5, 20.5, 22.6, 23.1, 25.5, 25.7, 18.4, 18.2, 17.5, 20.6, 21.8, 25.1, 29.0, 27.9, 28.3, 21.7, 24.1, 26.2, 22.4, 22.8, 28.0, 23.1, 30.7, 31.3, 24.8, 22.3, 24.3, 25.5, 28.4, 30.2, 27.5, 22.7, 23.0, 25.8, 25.0, 25.0, 24.3, 28.9, 30.4, 31.1, 31.3, 25.3, 26.7, 27.9, 24.8, 22.8, 24.1, 20.9, 26.3, 25.6, 21.4, 27.9, 27.5, 30.9, 31.6, 33.0, 32.7, 31.7, 32.2, 30.1, 29.2, 27.7, 29.5, 32.1, 32.4, 34.8, 32.2, 32.0, 34.6, 35.9, 31.8, 29.2, 31.4, 30.8, 32.6, 30.7, 27.3, 26.0, 24.4, 30.7, 30.8, 32.5, 26.9, 27.1, 26.2, 29.4, 30.7, 27.8, 30.6, 30.9, 25.9, 28.1, 29.0, 28.0, 29.3, 30.3, 27.0, 26.3, 26.2, 22.5, 26.3, 27.5, 28.3, 29.1, 28.7, 28.5, 27.7, 28.7, 30.7, 29.7, 27.2, 30.2, 28.4, 25.0, 26.0, 27.0, 27.7, 26.2, 26.2, 26.7, 27.6, 29.9, 23.8, 22.3, 25.2, 26.0, 29.1, 29.0, 27.1, 21.7, 27.4, 25.3, 24.4, 24.9, 25.2, 25.7, 24.7, 19.1, 19.4, 21.4, 23.1, 23.8, 22.7, 21.3, 25.8, 21.1, 22.8, 19.9, 19.7, 15.9, 18.6, 18.7, 20.8, 21.0, 21.1, 20.2, 20.8, 19.3, 15.8, 20.4, 20.7, 20.2, 15.0, 11.6, 12.8, 12.5, 15.7, 17.0, 16.1, 13.4, 13.6, 14.7, 9.8, 8.9, 8.3, 9.3, 16.1, 12.7, 8.4, 13.3, 13.2, 16.3, 10.5, 9.6, 10.7, 11.3, 9.0, 6.9, 6.3, 9.8, 11.8, 10.9, 11.5, 10.7, 14.3, 12.8, 15.8, 15.5, 9.1, 5.6, 5.6, 5.7, 9.5, 9.2, 6.7, 9.6, 7.3, 11.4, 12.7, 12.0, 8.7, 8.6, 4.7, 3.7, 4.2, 4.3, 3.0, 2.4, -0.5, 3.9, 0.0, -2.5, -3.1, -2.8, -2.7, -2.3, 4.2, 5.6, 6.1, 6.1, 3.9, 0.9, -4.5, -4.4, -2.8, -6.1, -4.9, -5.5, -2.8, -2.4, -3.6, -2.0, -1.3, -8.2, -6.6, -6.4, -5.0, -1.1, -2.5, -2.2, 0.2, 0.9, -4.2, -7.4, -6.6, -8.2, -10.4, -8.9, -6.5, -0.9, 2.4, 2.8, 2.3, 1.7, 4.6, 1.3, -0.6, -0.1, -2.5, 0.1, 2.6, -0.8, 2.5, 3.9, 4.3, 2.6, 1.6, -0.9, 0.0, 3.6, 5.7, 3.6, 0.4, 4.3, 3.9, 3.1, 0.6, 3.1, 2.7, 2.5, 4.2, 2.4, -0.1, 2.2, 1.5, -0.8, 0.8, 4.1, 8.6, 2.3, 3.4, 7.9, 7.1, 7.1, 3.3, -0.5, 1.2, 2.8, 10.7, 8.6, 13.0, 12.1, 5.5, 7.4, 14.8, 14.7, 16.3, 14.0, 12.1, 9.6, 6.4, 7.7, 11.4, 8.5, 12.4, 12.7, 13.9, 12.4, 13.2, 14.5, 21.2, 17.4, 8.8, 14.5, 8.8, 9.1, 11.1, 12.4, 14.7, 13.9, 16.6, 17.2, 18.0, 17.7, 19.6, 22.3, 13.9, 16.4, 21.8, 24.8, 22.3, 16.3, 13.4, 11.6, 18.2, 21.2, 23.8, 25.9, 25.2, 24.9, 20.5, 14.4, 23.0, 26.3, 24.0, 24.4, 24.4, 26.2, 28.6, 22.4, 24.9, 25.5, 20.6, 19.7, 21.1, 21.3, 23.8, 23.2, 25.3, 25.9, 27.3, 26.4, 25.9, 25.1, 25.3, 21.4, 18.7, 21.8, 22.2, 21.9, 22.5, 23.2, 29.3, 29.6, 25.9, 22.5, 22.6, 24.8, 26.0, 25.2, 27.0, 27.8, 27.8, 30.7, 29.4, 31.9, 26.6, 24.6, 22.2, 22.8, 27.5, 24.9, 26.0, 25.2, 25.3, 28.3, 26.0, 27.8, 27.0, 28.7, 31.7, 30.6, 25.9, 29.0, 25.9, 26.9, 30.2, 28.5, 24.6, 28.5, 28.9, 24.1, 27.2, 24.3, 27.3, 26.3, 26.9, 29.5, 25.9, 23.5, 27.1, 27.4, 29.3, 24.5, 26.3, 28.5, 29.3, 27.1, 25.9, 28.9, 31.6, 33.4, 32.8, 28.2, 28.5, 25.6, 27.8, 24.1, 21.1, 29.1, 30.7, 30.7, 28.3, 31.7, 28.7, 28.3, 29.5, 25.6, 29.4, 28.3, 28.7, 28.2, 21.6, 23.3, 25.5, 27.1, 29.0, 28.4, 28.8, 23.6, 23.9, 26.2, 26.9, 25.7, 24.5, 25.4, 26.1, 27.1, 19.7, 25.9, 25.7, 24.0, 26.1, 25.5, 21.9, 22.6, 22.3, 21.8, 20.4, 22.5, 24.8, 25.6, 26.0, 27.5, 21.4, 18.4, 17.0, 15.7, 18.2, 19.5, 19.5, 19.3, 21.1, 21.1, 18.3, 21.2, 21.9, 23.2, 23.3, 17.2, 16.1, 10.7, 13.0, 15.8, 17.6, 19.1, 19.7, 19.5, 21.7, 17.0, 8.8, 13.7, 17.4, 16.7, 15.8, 18.4, 19.1, 11.3, 10.6, 10.7, 14.5, 13.1, 14.0, 9.5, 5.1, 10.9, 13.2, 8.8, 8.6, 7.1, 10.4, 11.2, 12.7, 14.0, 10.9, 3.6, 6.1, 9.4, 7.6, 11.6, 13.7, 13.2, 13.5, 5.2, -2.5, -0.9, 0.7, -0.7, 2.7, 1.5, 1.5, 4.6, 6.3, 7.2, 8.0, 7.6, 9.5, 6.5, 5.8, 7.1, 8.3, 4.2, 5.0, 4.3, 3.5, 3.2, 4.8, 4.9, 5.6, 6.3, 3.3, 2.8, 2.5, 6.1, 5.1, 8.4, 8.5, 5.9, 4.9, 4.9, 2.0, 0.9, -1.1, -0.8, 1.6, 6.9, 7.2, 2.9, 8.2, 9.0, 6.9, 3.3, 1.2, -6.8, -6.0, -4.7, -2.3, -0.8, 0.7, -0.4, -2.9, -0.5, 0.6, -2.6, -2.0, 0.9, -0.5, -0.9, 0.5, 2.9, 6.5, 4.4, 4.5, -1.6, -6.2, -1.6, 5.0, 4.6, 4.1, -2.2, 1.6, 3.2, 5.4, 6.6, 4.3, 4.7, 4.4, 7.9, 6.8, 8.6, 8.3, 10.5, 10.7, 12.8, 16.0, 13.4, 8.1, 7.8, 7.9, 6.4, 4.3, 4.2, 8.4, 6.6, 8.4, 13.6, 10.0, 8.6, 7.6, 9.4, 10.4, 14.9, 11.4, 11.7, 19.1, 10.7, 8.4, 9.1, 9.1, 13.8, 14.3, 11.3, 12.8, 15.4, 12.3, 10.0, 11.4, 12.9, 12.4, 13.7, 15.6, 15.5, 15.3, 16.5, 20.1, 24.7, 15.0, 16.7, 12.9, 13.5, 18.6, 9.2, 10.7, 15.9, 16.1, 18.3, 17.3, 18.3, 17.7, 14.6, 22.0, 20.7, 24.0, 23.6, 16.5, 17.7, 20.2, 11.5, 14.9, 18.4, 18.6, 17.5, 18.7, 19.2, 22.3, 19.2, 24.6, 26.6, 24.7, 16.9, 21.2, 16.5, 19.5, 18.0, 18.4, 21.6, 24.5, 22.5, 23.1, 25.2, 27.5, 30.1, 29.5, 20.5, 23.2, 26.8, 24.4, 27.4, 26.8, 29.0, 29.8, 22.1, 16.2, 23.5, 23.1, 22.1, 27.4, 25.2, 24.0, 27.9, 29.5, 28.2, 29.0, 27.8, 21.8, 22.9, 26.6, 27.3, 26.0, 26.3, 25.0, 24.0, 28.3, 27.2, 28.4, 28.5, 25.6, 23.1, 25.4, 28.3, 29.5, 27.2, 27.5, 27.8, 29.8, 32.3, 31.8, 30.9, 26.6, 25.3, 25.5, 28.0, 27.8, 27.8, 28.7, 30.5, 28.6, 26.2, 26.8, 20.5, 25.9, 25.0, 31.7, 32.6, 29.3, 27.8, 30.0, 30.5, 31.3, 32.1, 30.1, 32.6, 33.5, 30.6, 26.2, 30.1, 29.8, 29.6, 31.0, 31.3, 31.7, 26.6, 28.3, 31.5, 32.5, 31.6, 33.1, 32.2, 28.9, 29.9, 30.8, 28.7, 25.2, 26.7, 31.2, 29.4, 28.5, 31.5, 30.5, 29.7, 29.1, 30.4, 31.0, 30.7, 31.7, 31.2, 25.5, 32.3, 33.0, 31.5, 28.5, 28.0, 25.7, 19.1, 22.3, 25.7, 24.8, 27.5, 27.4, 26.9, 26.9, 25.8, 28.6, 26.5, 27.0, 22.9, 21.4, 23.1, 24.9, 25.4, 25.2, 21.5, 16.9, 22.3, 19.9, 22.5, 18.8, 15.9, 20.1, 23.8, 25.4, 25.3, 22.6, 20.2, 22.6, 22.4, 22.6, 15.5, 17.6, 18.8, 20.1, 21.4, 20.5, 22.9, 24.1, 19.0, 18.0, 17.9, 20.6, 20.8, 18.3, 20.6, 20.2, 16.5, 14.5, 18.2, 11.6, 15.4, 13.5, 15.0, 15.7, 12.0, 6.4, 9.4, 13.0, 9.3, 9.7, 3.2, 4.6, 7.6, 11.1, 11.7, 13.4, 16.0, 15.0, 11.3, 8.7, 7.6, 8.0, 10.1, 10.9, 9.2, 9.3, 4.2, 3.0, 4.7, 8.6, 11.8, 12.5, 8.5, -4.3, -6.2, -8.2, -6.6, -5.3, -2.6, -4.2, -1.2, 2.2, -6.0, -1.1, 0.7, -3.0, -5.4, -3.0, 0.5, 1.0, 5.8, 7.4, 6.4, 2.7, -9.4, -1.7, -1.6, -0.9, -3.5, -2.0, -5.4, -3.9, -2.9, -1.0, -2.4, -1.1, 0.7, -0.1, -4.8, -3.0, -5.0, -10.3, -12.0, -7.5, -4.8, -4.4, -5.8, -5.9, -4.2, -0.9, -3.4, -6.4, -1.3, 3.1, -5.5, -10.3, -8.9, -5.9, -4.5, -0.9, -4.7, -0.5, 3.5, 2.4, 0.7, -0.6, -2.1, -2.4, 0.5, 4.4, 2.6, 4.7, 9.2, 3.7, -1.7, -2.9, -0.9, -1.1, 0.4, 4.9, 1.5, -0.1, 1.8, -2.3, -1.9, -3.5, -4.8, -3.4, -1.4, 0.4, 2.2, 2.0, 3.9, 0.4, 1.0, 3.6, 8.4, 6.2, 5.9, 4.1, 3.4, 9.4, 6.9, 3.3, 9.1, 4.5, 5.3, 5.0, 9.6, 4.0, 7.1, 8.8, 8.9, 10.5, 7.4, 10.6, 12.0, 15.7, 10.2, 4.5, 10.9, 15.8, 10.4, 19.4, 13.2, 9.0, 13.6, 15.3, 15.8, 13.2, 13.0, 14.9, 15.7, 22.5, 15.6, 14.3, 16.3, 18.2, 19.4, 20.8, 18.0, 15.2, 18.2, 15.7, 17.0, 16.6, 18.0, 19.6, 21.1, 24.2, 16.9, 24.4, 20.9, 20.7, 19.9, 17.0, 21.4, 24.7, 26.7, 27.3, 25.7, 25.0, 21.1, 24.1, 27.4, 19.6, 21.1, 18.9, 21.4, 22.2, 24.3, 16.8, 20.5, 22.9, 23.0, 26.5, 26.0, 26.1, 24.4, 23.7, 21.4, 22.9, 25.3, 28.1, 26.4, 21.3, 22.6, 25.0, 27.1, 30.5, 30.2, 26.9, 29.8, 32.1, 27.0, 28.6, 25.2, 22.4, 27.2, 28.5, 28.0, 29.1, 28.8, 29.2, 28.7, 21.4, 24.3, 28.1, 25.7, 22.0, 24.6, 28.1, 29.2, 26.2, 30.1, 30.6, 23.8, 29.9, 27.1, 31.9, 31.6, 29.0, 28.8, 29.2, 26.1, 29.2, 30.9, 30.4, 32.0, 32.9, 34.3, 27.2, 25.8, 27.4, 30.1, 26.4, 26.7, 28.1, 26.6, 27.8, 27.6, 27.6, 24.2, 27.8, 29.0, 29.1, 27.5, 29.8, 25.0, 24.5, 26.7, 29.8, 24.6, 26.9, 28.8, 30.7, 29.4, 28.1, 24.0, 28.8, 27.4, 25.4, 28.1, 24.2, 23.2, 22.2, 25.6, 26.5, 27.0, 27.9, 29.7, 22.3, 25.2, 27.8, 24.8, 27.6, 26.2, 29.3, 25.9, 24.7, 27.4, 28.1, 25.6, 29.3, 22.8, 23.1, 20.4, 24.0, 24.8, 24.3, 25.0, 25.9, 27.2, 26.0, 21.1, 23.4, 22.8, 25.2, 24.8, 24.4, 24.6, 23.9, 20.2, 21.7, 24.4, 18.8, 19.5, 23.4, 24.2, 24.7, 24.3, 22.4, 22.5, 20.9, 22.6, 23.7, 17.5, 19.4, 18.2, 21.0, 17.6, 14.3, 17.9, 20.0, 21.1, 17.1, 13.5, 17.4, 17.4, 15.9, 13.7, 12.6, 11.8, 17.4, 15.1, 15.4, 14.1, 11.4, 9.3, 15.6, 15.6, 11.2, 9.6, 9.4, 13.6, 9.5, 9.6, 13.6, 11.0, 8.9, 11.8, 13.3, 5.5, 4.8, 8.4, 11.5, 12.2, 12.0, 0.0, 5.3, 9.4, 10.4, 2.4, 0.3, 0.9, -3.2, -1.6, 0.0, 1.7, 1.6, 5.6, 5.3, 3.7, 1.1, 3.3, 6.9, 10.3, 14.6, 4.7, 5.1, 2.8, -0.6, -0.9, 1.1, 3.5, 6.3, 4.7, 2.3, 5.4, 5.6, 3.9, 5.7, 3.7, 3.0, 7.8, 9.8, 6.3, 2.4, -1.8, 0.3, -0.2, -5.9, -7.5, -5.1, -1.2, 1.7, -0.4, 1.1, 3.7, 4.3, 3.0, 1.5, 1.9, 3.1, 1.4, 1.5, -5.3, -3.7, -0.3, -1.3, -2.3, -0.9, 0.6, 0.9, -0.4, -0.7, 7.2, 10.0, 5.3, 4.7, 5.6, 7.8, 2.9, 6.5, 3.0, 1.1, -2.1, -2.1, 0.9, -0.2, 1.7, 3.4, 7.8, 9.8, 11.0, 7.6, 7.7, 7.0, 8.6, 3.3, 4.9, 10.1, 15.2, 11.2, 8.0, 7.1, 6.2, 6.8, 4.3, 9.4, 8.3, 5.3, 5.1, 8.3, 11.9, 11.9, 8.1, 2.3, 7.1, 8.2, 12.7, 14.4, 14.6, 18.8, 4.1, 2.1, 4.6, 9.2, 8.4, 6.0, 9.3, 12.0, 10.3, 11.8, 11.3, 8.4, 9.7, 15.4, 13.2, 16.5, 14.3, 18.7, 19.3, 14.8, 15.9, 16.1, 16.0, 13.9, 10.1, 15.1, 22.8, 26.4, 19.5, 17.9, 18.9, 18.4, 16.7, 17.7, 20.5, 19.9, 26.4, 22.0, 20.5, 20.3, 19.1, 20.7, 21.8, 20.7, 18.4, 18.2, 19.2, 24.6, 23.2, 25.2, 23.9, 24.6, 17.8, 21.0, 22.0, 24.1, 24.0, 23.4, 23.6, 22.0, 26.2, 25.1, 24.2, 23.3, 20.6, 20.3, 22.6, 24.2, 24.8, 22.6, 24.7, 28.9, 32.2, 25.2, 28.2, 26.4, 23.3, 25.4, 27.1, 28.9, 29.6, 30.2, 30.4, 26.4, 26.7, 28.4, 30.4, 30.3, 31.3, 32.2, 32.1, 32.1, 32.5, 32.0, 25.6, 24.5, 25.7, 22.6, 24.2, 26.3, 30.5, 32.5, 27.0, 28.3, 27.1, 24.1, 25.6, 27.9, 25.6, 28.2, 29.8, 31.5, 31.3, 32.0, 32.0, 29.5, 25.3, 26.6, 29.6, 29.5, 31.6, 32.3, 33.1, 34.4, 33.0, 27.7, 31.1, 34.1, 32.8, 33.6, 33.5, 34.6, 34.6, 34.0, 34.1, 32.7, 31.5, 29.7, 31.6, 29.5, 28.5, 31.2, 32.3, 34.2, 32.6, 33.4, 35.1, 33.2, 33.6, 33.1, 33.1, 34.3, 34.1, 30.6, 31.4, 30.0, 25.6, 29.6, 29.4, 30.6, 30.3, 29.8, 28.4, 27.8, 28.0, 23.9, 28.8, 22.2, 28.0, 27.9, 24.2, 25.8, 28.4, 28.7, 27.8, 29.4, 26.5, 27.0, 27.3, 22.8, 27.1, 27.2, 26.4, 28.0, 27.9, 28.4, 25.9, 20.9, 21.4, 24.6, 21.5, 26.3, 26.9, 24.5, 25.1, 23.3, 18.0, 17.6, 22.9, 23.8, 23.8, 25.8, 18.1, 17.0, 17.0, 13.5, 10.2, 9.7, 15.2, 21.1, 21.8, 22.3, 21.4, 21.6, 23.3, 23.4, 22.8, 20.8, 17.7, 16.3, 17.6, 15.1, 16.7, 18.6, 19.2, 18.2, 22.1, 17.8, 9.9, 13.0, 14.3, 15.2, 17.4, 15.0, 16.6, 16.7, 15.9, 16.9, 17.8, 13.0, 9.2, 12.2, 7.8, 1.3, 3.2, 1.3, 3.3, 4.3, 8.8, 7.8, 6.1, 7.6, 9.2, 3.5, -4.5, -3.5, -2.9, 0.6, 0.4, 2.6, 3.7, 7.4, 2.9, -1.7, -2.8, 4.9, 2.8, 4.2, 11.1, 6.9, -4.1, -4.9, -2.9, 4.1, 4.7, 4.6, -4.0, -7.3, -7.3, -4.4, -2.9, -1.9, 3.5, 1.6, -0.9, -8.7, -6.0, -4.2, -5.9, -9.8, -9.5, -4.7, 3.5, 4.6, -5.0, -3.4, 1.6, 0.6, 2.1, 6.3, 5.7, 1.9, 4.9, -0.2, -5.7, -4.3, -2.1, 1.8, -10.0, -5.1, -2.7, 2.6, 2.9, 1.5, -4.1, -5.1, -1.5, -0.2, 0.6, -2.7, -1.6, -4.0, -4.0, -2.0, 5.1, 4.3, 6.6, 4.9, 5.1, 4.5, -3.8, -2.4, -1.1, -0.7, 0.3, 1.5, 2.9, 4.3, 5.6, 6.5, 5.3, 14.7, 15.9, 10.4, 11.6, 13.2, 10.3, 10.0, 0.3, 3.4, 4.6, 1.1, 3.0, 4.6, 5.9, 6.1, 7.4, 7.7, 9.4, 10.2, 12.5, 19.0, 11.6, 8.2, 8.0, 6.5, 12.7, 12.1, 15.8, 14.2, 13.1, 9.4, 13.2, 16.8, 15.6, 14.9, 11.9, 17.8, 16.7, 10.9, 12.3, 15.5, 16.8, 13.9, 13.7, 15.5, 12.8, 13.6, 16.7, 18.7, 22.1, 23.4, 23.4, 27.3, 22.7, 19.4, 16.7, 18.2, 18.1, 17.5, 18.9, 23.2, 23.9, 18.2, 23.9, 19.5, 18.8, 22.0, 19.8, 23.4, 17.7, 16.3, 19.9, 19.4, 20.3, 27.2, 28.1, 21.0, 18.3, 20.2, 25.0, 18.8, 19.0, 20.3, 16.3, 21.1, 22.5, 25.6, 28.4, 30.4, 25.9, 22.9, 25.5, 24.4, 21.9, 25.6, 25.8, 23.4, 21.4, 20.5, 26.3, 26.3, 27.6, 26.9, 20.9, 20.5, 26.2, 25.6, 21.1, 26.2, 24.3, 21.1, 18.6, 25.7, 25.2, 26.6, 32.2, 26.3, 30.9, 29.1, 27.8, 26.5, 29.8, 30.8, 28.5, 28.2, 30.0, 31.0, 31.0, 25.8, 23.8, 25.1, 25.0, 28.0, 29.2, 24.2, 29.3, 28.2, 28.5, 29.6, 31.1, 30.6, 30.4, 32.7, 32.7, 34.2, 34.2, 33.8, 34.7, 34.7, 33.7, 32.4, 31.6, 33.7, 33.2, 34.2, 32.7, 30.8, 34.8, 34.0, 34.9, 35.6, 33.7, 33.7, 35.1, 34.0, 34.9, 33.2, 33.3, 33.2, 30.7, 26.0, 28.3, 28.8, 31.0, 31.0, 31.1, 32.6, 31.2, 31.1, 28.1, 31.8, 26.2, 30.2, 31.2, 31.5, 32.1, 30.6, 24.6, 27.0, 29.4, 29.0, 26.2, 28.1, 25.8, 24.1, 24.2, 26.3, 24.2, 25.1, 24.2, 26.9, 26.5, 21.3, 24.0, 24.0, 23.7, 24.6, 23.4, 21.9, 25.0, 24.6, 27.0, 24.9, 27.9, 28.6, 21.3, 21.0, 27.8, 27.1, 26.8, 24.3, 21.8, 23.0, 25.8, 22.5, 26.7, 26.2, 19.9, 21.8, 18.0, 18.5, 19.8, 18.7, 21.9, 21.4, 18.8, 17.9, 17.5, 15.5, 17.1, 17.9, 18.9, 21.3, 17.3, 18.2, 14.1, 16.7, 18.3, 18.9, 19.5, 19.2, 19.0, 15.4, 7.8, 9.8, 8.9, 3.5, 1.8, 5.5, 6.4, 10.3, 11.6, 10.8, 11.2, 11.7, 14.6, 9.2, 8.8, 9.4, 5.4, 2.7, 5.7, 6.0, 9.7, 8.6, 5.3, 7.6, 9.0, 11.8, 8.4, 5.9, 1.8, 0.3, 3.9, 1.3, 0.2, 4.4, 2.1, 1.8, 0.3, 3.2, 3.8, 6.7, -0.1, -3.0, 1.0, 3.1, 5.5, 1.4, -1.9, -2.7, -3.6, -6.5, -8.0, -4.6, -3.7, 4.0, 2.0, -2.9, -1.6, -0.9, -10.9, -7.7, -2.3, -7.8, -3.0, 0.2, -0.9, -3.2, 0.0, 2.0, 3.3, 3.2, 3.7, 2.5, -5.4, -4.1, -1.7, -1.4, -1.5, 0.9, 0.9, 0.8, -0.3, 1.0, 1.9, 5.4, 2.9, 2.2, -2.3, 0.1, 1.7, -4.1, -6.9, -7.2, -4.0, 2.7, 3.6, 3.2, 3.9, 4.9, 5.3, 3.3, 3.9, 2.6, 3.8, 5.1, 8.3, 6.3, 6.5, 8.2, 9.1, 8.0, 6.6, 10.1, 9.9, 10.4, 11.4, 9.4, 11.5, 8.2, 6.7, 8.6, 11.7, 17.9, 13.1, 10.2, 6.1, 3.4, 5.3, 6.1, 7.6, 2.9, 5.0, 4.3, 7.4, 10.6, 8.8, 9.5, 7.2, 7.6, 6.9, 12.8, 12.0, 11.8, 10.6, 17.0, 15.4, 12.3, 10.6, 7.9, 11.1, 12.5, 14.5, 14.2, 21.4, 24.1, 20.1, 14.8, 15.8, 24.9, 25.2, 24.3, 23.9, 24.6, 25.7, 22.6, 18.9, 14.7, 21.5, 17.0, 19.8, 18.7, 16.5, 19.9, 23.4, 23.0, 16.0, 17.3, 22.2, 24.8, 18.0, 15.5, 24.4, 19.2, 23.8, 20.2, 14.9, 21.4, 22.2, 13.8, 20.7, 20.0, 23.8, 22.9, 18.3, 24.8, 23.2, 24.1, 23.0, 20.4, 21.6, 26.5, 26.8, 29.6, 27.6, 26.7, 27.2, 25.6, 22.6, 22.8, 25.0, 26.7, 29.8, 21.8, 24.8, 28.6, 29.1, 25.0, 25.9, 29.2, 25.4, 29.1, 33.3, 32.6, 29.7, 31.2, 29.6, 25.2, 30.4, 31.9, 26.2, 22.4, 28.3, 25.8, 21.8, 27.2, 28.7, 29.8, 30.7, 33.5, 28.9, 29.0, 31.5, 33.5, 34.0, 36.8, 32.4, 26.1, 32.4, 33.9, 32.9, 33.6, 33.2, 34.5, 36.1, 36.7, 36.2, 37.7, 37.1, 32.4, 30.7, 29.8, 35.3, 37.3, 37.0, 37.6, 37.7, 36.7, 31.8, 33.3, 34.1, 30.7, 33.6, 35.1, 37.4, 36.2, 36.4, 38.2, 35.7, 35.9, 35.9, 32.5, 33.6, 33.7, 35.0, 35.5, 35.6, 36.2, 37.3, 37.7, 36.8, 34.8, 30.1, 35.3, 35.3, 32.6, 27.4, 29.4, 31.8, 34.0, 35.1, 33.1, 32.8, 34.0, 32.8, 32.9, 25.1, 28.6, 28.7, 28.8, 30.1, 31.7, 25.6, 20.3, 27.4, 28.9, 28.0, 29.1, 29.5, 25.3, 23.2, 23.6, 24.3, 24.2, 24.8, 27.1, 21.6, 25.5, 17.3, 23.1, 25.4, 28.2, 28.4, 20.6, 22.5, 23.9, 26.9, 27.1, 26.9, 28.3, 28.4, 28.8, 29.3, 23.9, 22.5, 18.4, 16.3, 14.9, 9.3, 11.6, 13.3, 16.8, 15.5, 19.7, 19.1, 21.4, 21.3, 18.9, 12.3, 13.3, 12.5, 16.7, 13.0, 16.2, 18.4, 20.2, 19.2, 13.1, 13.1, 8.1, 12.3, 8.9, 8.7, 6.5, 12.1, 12.4, 14.4, 17.2, 17.6, 16.5, 13.2, 9.4, 10.7, 11.7, 6.2, -3.3, 2.0, 5.4, 0.2, 1.3, 1.0, 1.2, 0.8, 6.6, 8.6, 5.2, 6.0, 7.1, 7.2, 2.1, -3.6, -0.8, 2.8, 0.6, -0.1, 2.8, 2.6, -1.2, -0.1, 5.7, 5.4, 4.7, 5.2, 5.0, 4.8, 6.7, 5.4, 5.6, 3.3, 7.9, 7.4, 2.9, 2.9, -1.6, 7.0, 4.3, 3.8, -2.2, -4.3, -10.5, -5.7, -1.0, 2.7, 6.4, -1.3, -3.0, -1.1, -4.5, -5.7, -8.5, -6.6, -3.3, -5.6, -9.2, -7.2, -7.2, -8.2, -7.1, -5.8, -5.7, -6.7, -7.3, -4.0, -5.5, -4.0, -3.4, -0.8, -1.8, -6.0, 0.3, 4.1, 7.0, 9.0, 9.1, 4.0, 2.2, 4.6, 5.9, 2.7, 4.3, 7.4, 1.1, 1.6, 0.3, 3.8, 9.2, 4.8, 3.3, 5.1, 0.0, 2.5, 5.7, 5.5, 7.3, 9.4, 7.3, 9.9, 15.2, 12.1, 10.5, 10.9, 6.9, 8.0, 5.1, -0.2, 0.0, 2.4, 5.8, 8.8, 9.7, 10.5, 5.0, 7.0, 12.9, 13.4, 12.8, 14.9, 16.2, 17.7, 15.1, 16.5, 18.2, 19.8, 13.7, 8.5, 10.7, 9.7, 9.8, 9.7, 10.9, 10.7, 15.6, 20.3, 19.9, 16.6, 9.2, 15.1, 14.2, 20.3, 21.6, 18.6, 14.9, 16.2, 21.0, 19.4, 17.6, 14.2, 18.2, 17.2, 16.3, 18.7, 24.1, 25.5, 17.8, 15.8, 16.2, 16.2, 23.6, 22.2, 23.8, 29.5, 30.0, 27.9, 20.9, 26.0, 25.5, 20.5, 18.3, 22.0, 20.6, 22.2, 25.0, 28.3, 27.6, 28.2, 25.8, 25.0, 25.3, 25.5, 26.4, 22.4, 19.1, 16.9, 24.6, 21.4, 18.0, 24.3, 22.8, 22.6, 24.4, 23.4, 25.5, 28.1, 27.4, 28.4, 27.3, 27.6, 30.2, 26.4, 25.8, 26.5, 27.7, 32.4, 32.5, 32.3, 28.5, 23.9, 21.5, 26.9, 26.0, 29.2, 30.5, 30.4, 26.1, 29.5, 25.6, 23.6, 24.6, 23.6, 26.2, 25.6, 31.6, 24.1, 24.2, 27.0, 33.3, 28.3, 29.9, 29.4, 26.5, 30.7, 23.6, 21.3, 21.9, 23.6, 23.3, 27.9, 26.4, 26.9, 24.3, 28.5, 32.0, 32.2, 33.9, 32.9, 32.7, 29.6, 30.4, 31.3, 27.5, 26.1, 23.5, 26.5, 23.9, 30.4, 31.9, 28.3, 29.7, 26.1, 32.4, 31.7, 31.6, 30.9, 31.4, 34.3, 33.8, 33.3, 26.8, 28.9, 26.7, 28.4, 26.7, 24.8, 22.8, 28.1, 25.7, 22.6, 19.2, 25.0, 25.9, 26.8, 28.0, 28.1, 28.8, 30.2, 26.9, 27.1, 27.9, 27.6, 28.4, 24.8, 18.7, 25.4, 27.6, 25.7, 26.4, 27.2, 27.6, 28.3, 28.0, 27.7, 28.3, 25.9, 19.6, 25.7, 27.8, 19.8, 28.0, 28.5, 26.3, 23.7, 21.7, 25.0, 23.3, 25.6, 24.2, 26.0, 22.8, 25.7, 19.6, 17.2, 21.1, 21.9, 24.7, 26.2, 22.6, 22.0, 21.5, 15.4, 10.0, 17.4, 20.6, 20.1, 16.3, 22.0, 20.2, 20.8, 23.6, 17.3, 25.2, 23.7, 20.1, 10.0, 4.0, 5.8, 14.6, 13.3, 11.8, 10.5, 8.5, 12.0, 12.8, 10.1, 11.4, 15.6, 17.6, 11.8, 7.0, 9.0, 9.4, 4.4, 3.9, 9.0, 10.8, 6.4, 1.7, 3.1, 3.1, 5.0, 10.0, 10.9, 11.8, 6.6, -1.4, 2.4, 4.2, 3.5, 1.7, 7.6, 8.1, 6.4, 3.5, -0.1, -1.4, 1.3, 4.0, 5.2, 6.8, 7.3, 0.3, -1.7, 1.3, 2.8, 0.3, 1.9, 7.9, 4.1, 4.6, 3.7, 6.6, 8.9, 2.5, 5.3, 12.3, 7.6, 4.9, 1.9, 2.2, -5.6, -6.8, -3.3, 3.1, -0.5, 4.8, 3.4, 1.0, -4.9, -0.9, 0.3, 1.6, -1.2, -7.7, 0.2, 5.5, 3.9, -0.2, -4.1, -12.4, -6.4, -2.5, 1.2, 2.3, 6.1, 0.4, -3.3, -1.9, -1.3, -1.0, 1.4, -0.1, -0.1, -0.1, 3.2, 5.4, 6.2, 6.3, 7.8, 10.9, 7.1, -1.2, 1.6, 8.3, 10.4, 10.7, 7.4, 2.8, 4.3, 9.4, -0.5, -3.8, 3.5, 2.5, 4.8, 8.6, 12.9, 16.3, 13.9, 5.2, 10.3, 11.8, 8.3, 10.6, 15.9, 15.6, 17.0, 19.3, 17.3, 10.6, 13.5, 7.3, 7.7, 10.4, 6.7, 8.1, 9.8, 8.1, 11.0, 12.5, 14.6, 15.2, 21.1, 12.0, 8.7, 10.0, 15.8, 10.3, 8.6, 15.8, 13.8, 11.4, 13.1, 20.0, 22.1, 22.4, 17.6, 20.1, 23.2, 17.0, 12.7, 14.3, 16.6, 18.0, 19.3, 22.2, 19.9, 19.0, 22.5, 25.7, 18.6, 21.8, 19.9, 17.5, 22.0, 25.3, 29.2, 21.8, 24.9, 23.1, 19.7, 20.9, 21.8, 24.8, 24.4, 25.9, 23.6, 26.4, 23.6, 25.4, 20.3, 22.9, 17.1, 21.6, 23.8, 22.9, 25.4, 21.4, 25.1, 26.7, 24.0, 25.0, 26.9, 27.4, 27.7, 26.7, 18.9, 26.1, 28.2, 23.9, 23.4, 23.4, 27.7, 29.3, 28.8, 28.1, 28.6, 21.7, 25.6, 24.6, 26.7, 27.0, 29.4, 30.5, 26.2, 31.4, 32.7, 32.6, 30.4, 23.5, 31.6, 25.3, 24.7, 28.1, 31.1, 29.9, 30.4, 31.3, 28.3, 29.8, 30.4, 26.7, 26.0, 27.3, 28.5, 29.4, 29.9, 31.3, 33.1, 34.3, 33.2, 31.3, 29.7, 28.5, 29.2, 31.7, 29.7, 27.1, 28.2, 26.2, 29.9, 30.8, 30.3, 32.0, 31.6, 26.3, 32.0, 33.6, 27.7, 30.0, 25.4, 22.7, 27.8, 29.5, 31.9, 32.4, 30.6, 30.0, 31.8, 28.9, 31.1, 25.9, 21.6, 27.4, 22.2, 25.3, 28.0, 30.2, 26.5, 29.9, 25.7, 29.8, 31.1, 31.1, 27.8, 29.8, 28.3, 27.4, 24.0, 27.8, 23.7, 22.6, 27.1, 26.5, 25.7, 26.8, 27.2, 26.4, 26.9, 27.2, 28.0, 26.9, 25.7, 27.1, 24.5, 19.3, 25.7, 28.7, 25.2, 20.5, 25.6, 27.4, 21.6, 26.6, 24.5, 25.6, 25.8, 26.9, 20.3, 19.5, 22.2, 20.8, 17.2, 19.3, 14.2, 12.5, 15.3, 19.5, 20.3, 15.0, 16.1, 20.5, 19.8, 21.4, 24.4, 26.8, 19.8, 7.8, 13.1, 17.0, 15.7, 17.0, 14.5, 18.3, 14.2, 10.5, 13.7, 16.4, 14.2, 15.8, 17.3, 19.0, 18.8, 18.1, 17.2, 15.6, 14.8, 17.2, 17.3, 19.6, 15.0, 14.4, 8.3, 7.7, 12.7, 10.5, 10.1, 8.0, 9.3, 8.6, -0.6, 2.2, 3.9, 8.5, 8.7, 7.8, 4.7, 4.7, 7.2, 5.3, 11.3, 7.2, 1.2, -2.2, -2.8, -2.8, -4.2, 1.8, 5.6, 3.8, 5.7, 10.0, 11.4, 7.4, 6.0, 5.2, 6.1, 8.7, 8.0, 2.5, 1.8, -0.4, -1.2, 3.2, -1.9, -5.7, -1.8, -2.6, -1.6, 1.7, 1.5, -4.0, -2.1, -6.1, -6.7, -4.5, -3.0, -7.2, -7.8, -8.7, -10.8, -7.5, -3.8, -1.1, 0.1, 0.6, 4.4, 3.1, 4.4, 3.0, 4.5, 3.2, 4.1, -0.8, 3.1, 8.5, 4.9, 1.7, -0.4, 1.2, 1.5, -1.4, -3.4, -4.0, -4.7, -6.9, -8.2, -5.9, -6.9, -0.7, 0.9, 5.1, 6.0, -0.9, -1.9, 4.3, 9.8, 11.3, 4.2, 6.1, 5.7, 1.8, 6.7, 10.7, 8.9, 7.8, 8.4, 11.7, 8.2, 5.1, 8.0, 5.2, 13.4, 16.3, 17.5, 13.8, 10.3, 9.5, 12.1, 11.0, 13.7, 13.4, 14.8, 18.7, 17.8, 14.5, 13.5, 13.3, 7.1, 9.0, 16.7, 11.0, 4.9, 9.0, 11.2, 13.6, 20.6, 18.3, 10.7, 10.2, 12.5, 18.2, 16.7, 15.4, 13.5, 12.2, 11.2, 15.1, 16.2, 12.6, 13.6, 15.2, 24.3, 12.5, 11.6, 13.5, 19.7, 13.7, 26.2, 25.5, 18.0, 18.4, 20.5, 19.6, 23.2, 20.4, 17.0, 12.5, 19.6, 20.2, 15.5, 20.6, 19.0, 22.0, 20.7, 18.4, 15.0, 18.6, 13.7, 17.2, 23.0, 18.0, 20.4, 20.3, 22.2, 24.0, 24.0, 26.2, 27.7, 27.0, 29.4, 30.5, 28.4, 28.3, 28.1, 26.5, 26.3, 26.3, 27.1, 30.5, 33.6, 27.8, 27.4, 26.9, 32.0, 32.2, 34.7, 27.2, 25.7, 25.7, 28.7, 32.7, 23.0, 32.6, 34.6, 32.4, 32.1, 32.2, 27.2, 28.4, 27.2, 23.1, 30.7, 31.5, 32.4, 32.3, 31.9, 29.6, 29.9, 27.7, 25.9, 32.2, 31.2, 32.7, 30.1, 33.4, 34.0, 34.0, 32.4, 33.3, 34.0, 33.0, 31.1, 27.5, 32.3, 31.0, 32.3, 34.5, 36.0, 35.7, 29.7, 31.4, 30.7, 28.5, 31.5, 31.6, 28.7, 31.4, 31.5, 29.7, 26.7, 32.7, 31.3, 29.2, 28.2, 31.7, 34.2, 33.7, 33.2, 33.5, 34.5, 28.7, 27.1, 31.7, 32.0, 31.0, 29.6, 31.7, 32.8, 31.0, 25.7, 23.6, 26.3, 28.2, 30.4, 31.0, 31.9, 32.6, 31.2, 32.7, 32.5, 32.0, 30.9, 27.5, 29.7, 31.0, 26.0, 23.8, 30.6, 22.7, 23.0, 27.8, 25.6, 22.5, 24.0, 26.9, 25.6, 21.5, 23.0, 23.2, 22.9, 22.7, 21.7, 22.8, 24.4, 15.2, 24.8, 27.0, 27.5, 27.5, 19.8, 25.0, 25.8, 22.1, 15.6, 19.5, 18.3, 17.5, 20.0, 21.8, 23.5, 24.1, 22.2, 17.0, 18.3, 16.2, 23.4, 18.7, 12.0, 4.5, 6.0, 12.5, 17.5, 17.7, 19.2, 15.5, 16.5, 17.2, 12.7, 15.0, 19.5, 21.3, 20.7, 19.0, 8.9, 4.2, 7.1, 12.0, 16.6, 19.8, 18.2, 14.2, 6.4, 8.0, 11.4, 5.3, 6.1, 8.0, 8.5, 12.7, 14.8, 10.1, 3.3, 2.7, -1.5, 1.6, 5.2, 8.5, 8.2, 6.0, 0.8, 1.8, -0.1, 2.4, 4.6, 0.4, 1.3, 7.1, 4.7, 3.9, 2.8, 5.5, 9.4, 9.8, 11.0, 3.4, 3.1, 4.4, 7.3, 6.4, 3.4, 3.7, 0.4, -5.2, -5.6, -4.6, 7.1, 3.1, -1.5, 0.0, -3.5, -3.8, -7.4, -4.1, -3.6, -4.5, -3.9, -0.7, 1.6, -7.8, -9.5, -5.0, 3.1, 1.8, 2.4, 0.1, 3.4, 6.9, 10.2, 11.5, 2.0, -3.2, -3.2, -1.4, -1.9, -2.0, -1.4, 0.0, -5.0, -3.5, 0.8, 3.0, 8.8, 2.9, 6.9, 0.8, -6.3, 1.8, -0.7, 1.0, 2.5, 1.0, 2.8, 5.3, 3.4, 5.6, 1.5, 1.5, 0.3, -0.7, 2.9, 4.6, 3.9, 1.5, 5.6, 8.5, 10.8, 9.6, 11.6, 10.3, 10.7, 11.1, 9.5, 9.6, 8.8, 5.9, 5.5, 8.3, 10.0, 10.6, 10.5, 9.6, 13.5, 11.7, 15.2, 12.8, 9.4, 9.5, 12.9, 11.4, 13.0, 13.4, 14.5, 17.5, 11.2, 13.9, 10.9, 14.0, 12.5, 12.7, 20.1, 14.0, 19.7, 19.7, 13.4, 9.3, 5.6, 11.7, 16.5, 13.6, 6.4, 9.2, 11.7, 12.3, 14.9, 17.8, 13.0, 16.3, 15.0, 20.0, 20.2, 22.0, 23.4, 24.7, 24.9, 28.0, 26.9, 26.5, 27.9, 23.7, 21.7, 18.2, 22.2, 21.1, 21.4, 25.8, 24.8, 25.4, 26.8, 24.8, 26.5, 17.4, 22.6, 24.0, 18.9, 21.7, 22.1, 23.6, 23.3, 23.3, 26.0, 24.5, 24.1, 23.2, 23.4, 25.1, 20.7, 25.0, 27.3, 26.7, 29.7, 27.0, 19.5, 21.8, 26.4, 25.7, 28.7, 31.0, 31.7, 33.0, 32.8, 34.2, 24.3, 28.2, 28.2, 29.9, 21.6, 27.4, 26.7, 27.8, 28.4, 29.2, 28.7, 29.6, 29.6, 30.7, 32.1, 31.4, 26.0, 31.4, 33.8, 31.7, 32.3, 33.4, 34.3, 34.0, 33.0, 31.7, 32.7, 34.9, 29.4, 28.2, 27.5, 29.6, 32.0, 28.2, 32.1, 33.4, 35.7, 35.0, 33.7, 32.7, 32.5, 30.5, 24.0, 31.8, 33.7, 34.0, 35.2, 35.8, 34.2, 31.2, 30.2, 31.8, 34.5, 33.9, 33.3, 34.5, 33.8, 34.2, 33.3, 35.9, 35.5, 34.7, 35.0, 35.6, 34.3, 34.7, 35.4, 35.7, 36.5, 36.7, 36.0, 37.0, 38.2, 37.2, 36.5, 35.2, 37.9, 32.0, 30.0, 31.3, 33.4, 28.0, 29.0, 30.0, 29.5, 30.7, 26.5, 26.0, 29.7, 30.9, 28.8, 31.7, 29.5, 31.2, 32.3, 30.4, 28.6, 23.3, 28.0, 25.2, 26.8, 26.0, 25.3, 24.8, 20.0, 20.2, 19.8, 21.1, 21.9, 22.8, 20.8, 22.1, 15.1, 23.8, 22.5, 25.3, 23.5, 22.5, 24.0, 22.7, 23.4, 22.7, 24.4, 24.8, 16.9, 18.3, 22.4, 21.3, 21.8, 19.8, 17.7, 15.9, 19.7, 22.0, 21.0, 14.2, 15.7, 15.7, 17.4, 17.3, 16.4, 19.1, 20.0, 22.7, 22.2, 19.3, 14.8, 16.2, 19.1, 13.0, 14.1, 9.3, 9.7, 14.8, 11.1, 14.0, 17.5, 10.8, -2.6, 3.7, 3.6, 4.5, 6.6, 11.3, 11.4, 10.7, 10.2, 4.6, 6.7, 5.9, 9.8, 14.2, 12.2, 5.6, -1.9, 9.0, 6.9, 6.4, -2.6, 0.0, -0.9, 5.6, 6.8, 8.6, 6.4, 6.3, 3.6, 8.6, 3.9, 6.5, 10.2, 7.4, 9.8, 8.6, 1.3, -1.2, 2.6, 1.8, -0.9, 0.1, 6.6, 0.1, -5.0, -4.0, 0.5, -1.4, -2.2, -4.6, -2.9, -1.2, 2.1, 0.2, -1.6, 3.9, 4.5, 3.2, -2.5, -2.7, -1.6, -1.9, -0.4, 0.7, 2.5, 4.5, 7.1, 8.0, 3.3, 1.3, 1.8, 3.6, 4.4, 6.0, -0.7, -0.2, 1.3, 6.6, 4.8, -0.9, 0.2, 2.9, -0.5, 5.1, 5.8, 5.8, 5.9, 2.6, -2.5, -3.6, -2.1, 0.2, 1.5, 1.3, -1.0, -0.6, 3.4, 7.9, 0.4, 3.1, 7.4, 7.2, 7.2, 9.7, 10.4, 13.4, 12.9, 16.0, 10.5, 1.8, 1.6, 3.8, 4.4, 3.5, 7.8, 7.6, 8.9, 11.1, 6.4, 9.8, 8.6, 14.0, 10.0, 5.4, 7.3, 8.0, 9.2, 8.7, 12.5, 16.3, 18.2, 7.7, 5.2, 11.0, 4.4, 9.2, 10.0, 8.9, 11.5, 18.6, 22.6, 14.2, 16.0, 17.9, 15.3, 10.4, 19.7, 15.3, 10.8, 13.4, 18.2, 20.7, 20.8, 17.7, 13.4, 16.4, 18.3, 21.7, 14.6, 19.0, 19.5, 12.8, 14.1, 18.8, 23.4, 27.2, 19.0, 19.2, 23.3, 11.9, 18.4, 18.9, 27.4, 22.4, 19.4, 21.7, 18.4, 28.2, 26.3, 25.6, 23.0, 14.4, 16.1, 20.6, 18.7, 21.0, 24.0, 27.9, 23.0, 21.5, 26.0, 24.3, 25.3, 29.3, 25.7, 25.7, 25.7, 27.5, 24.5, 23.7, 28.4, 28.6, 27.5, 27.4, 28.2, 25.7, 29.4, 21.7, 26.7, 24.4, 29.2, 31.0, 30.1, 30.7, 32.1, 34.3, 32.0, 32.4, 33.8, 26.3, 22.2, 24.0, 24.8, 29.9, 25.4, 25.0, 27.6, 28.7, 26.5, 22.4, 30.4, 32.6, 32.7, 31.9, 28.8, 26.9, 25.2, 30.6, 28.0, 29.8, 29.0, 31.7, 31.0, 28.2, 25.8, 26.6, 31.7, 32.4, 29.5, 31.8, 32.2, 28.8, 31.9, 33.8, 34.3, 34.7, 36.0, 35.8, 35.8, 30.4, 31.1, 34.4, 35.7, 35.5, 34.4, 33.5, 31.7, 27.3, 26.0, 33.3, 33.5, 33.7, 32.3, 31.5, 28.5, 29.3, 28.0, 28.8, 27.5, 26.3, 29.6, 31.3, 31.2, 30.7, 30.6, 32.0, 33.1, 28.3, 29.3, 25.7, 24.0, 27.7, 23.6, 27.9, 27.0, 28.0, 30.5, 29.5, 24.5, 29.1, 25.2, 25.8, 26.6, 25.4, 26.9, 26.5, 27.7, 28.9, 29.3, 30.1, 30.0, 25.7, 21.0, 26.4, 26.5, 26.9, 20.5, 19.0, 19.0, 22.4, 22.9, 23.4, 25.8, 24.7, 23.8, 21.7, 17.1, 19.7, 17.9, 15.6, 16.5, 19.5, 20.8, 22.0, 25.0, 24.4, 24.9, 20.7, 20.6, 18.9, 20.1, 20.4, 22.1, 19.8, 20.3, 15.5, 17.6, 19.4, 14.6, 23.4, 22.3, 20.3, 15.1, 13.1, 13.2, 16.9, 14.3, 9.2, 14.1, 9.0, 4.4, 9.0, 7.2, 8.3, 9.7, 11.7, 10.7, 11.9, 13.5, 7.6, 9.3, 17.7, 20.8, 20.0, 17.1, 11.5, 11.0, 9.4, 9.2, 7.2, -4.5, -2.3, 2.4, 2.4, 0.7, -5.0, -3.9, -6.1, 0.1, 5.3, 2.4, -2.4, -4.7, -5.5, -6.5, -5.2, -3.0, -2.5, -0.5, 3.0, 4.9, 7.1, 1.0, -1.7, -4.7, -3.0, -2.0, -1.0, 2.2, -1.5, -1.9, -2.8, 0.5, -0.2, -5.9, -7.6, -5.5, -7.5, -2.0, 0.0, -1.0, -1.2, -2.9, -2.5, -5.3, -6.6, -6.5, -6.7, -3.0, -2.8, 0.5, -1.0, -6.2, -5.1, -5.6, -5.5, -7.6, -3.7, 3.6, 5.7, 6.2, 0.3, -4.6, -6.8, -5.2, -2.4, -2.6, -2.3, -6.1, -2.5, -1.7, 0.4, 1.5, 3.9, 5.5, 4.5, 1.4, 2.9, 2.9, 0.2, 0.9, 1.1, 0.5, -2.3, -0.1, 3.1, 1.2, 8.5, 11.2, 5.7, 5.1, 11.7, 4.6, 1.2, -2.0, -1.0, 2.7, 1.3, 3.9, 4.6, 13.9, 5.8, 6.6, 2.9, 0.7, 3.2, 7.1, 4.1, 12.4, 6.9, 6.9, 5.6, 6.9, 8.1, 12.7, 13.4, 14.7, 10.3, 14.2, 9.8, 16.6, 18.3, 13.3, 10.8, 9.7, 10.9, 11.7, 13.2, 16.2, 11.2, 16.8, 17.7, 17.2, 16.8, 20.4, 20.7, 21.8, 15.6, 14.4, 15.2, 16.4, 21.5, 22.0, 26.0, 25.2, 22.8, 23.7, 22.5, 28.9, 17.6, 19.0, 17.7, 15.5, 14.6, 13.7, 16.3, 19.2, 18.3, 21.4, 15.0, 11.0, 14.7, 20.3, 22.8, 16.5, 14.5, 20.0, 21.7, 20.0, 20.7, 25.1, 18.9, 17.8, 22.7, 26.4, 23.2, 23.2, 24.4, 21.7, 24.5, 29.2, 21.9, 17.9, 22.2, 27.6, 23.7, 20.9, 23.5, 24.7, 25.6, 26.9, 19.0, 24.8, 27.7, 28.5, 26.1, 26.6, 27.5, 29.5, 31.3, 31.4, 30.2, 24.8, 26.0, 26.3, 28.0, 27.6, 28.8, 31.5, 24.9, 22.3, 27.8, 28.6, 29.3, 28.5, 29.4, 28.3, 29.8, 29.7, 31.4, 24.2, 26.6, 29.0, 29.5, 25.2, 27.7, 23.2, 29.2, 27.8, 22.3, 29.3, 26.4, 29.7, 30.8, 28.7, 27.9, 27.2, 32.3, 29.5, 27.2, 26.3, 30.2, 25.6, 22.3, 28.3, 29.5, 26.9, 28.8, 29.3, 27.1, 29.7, 26.4, 28.7, 30.7, 31.8, 32.2, 33.9, 32.0, 34.3, 32.5, 35.1, 35.0, 36.0, 35.5, 37.0, 36.7, 34.7, 33.2, 35.3, 33.0, 30.6, 23.9, 27.5, 27.0, 29.2, 29.6, 30.0, 22.9, 27.4, 27.0, 27.2, 28.2, 28.0, 29.4, 25.7, 20.0, 28.4, 28.8, 28.0, 25.4, 27.5, 24.1, 27.4, 27.3, 27.2, 26.7, 27.2, 27.3, 26.5, 26.2, 27.4, 29.0, 22.5, 17.7, 16.0, 18.5, 23.0, 24.5, 23.8, 25.3, 20.5, 21.2, 16.8, 16.1, 19.7, 21.3, 22.4, 23.0, 24.8, 21.7, 20.5, 21.8, 20.0, 22.6, 19.7, 20.5, 15.6, 18.1, 17.1, 21.3, 21.8, 20.9, 22.9, 19.0, 16.4, 13.4, 16.2, 20.0, 21.8, 14.7, 14.5, 15.5, 14.3, 16.0, 13.9, 16.0, 18.0, 13.8, 12.5, 13.2, 15.4, 15.0, 14.0, 16.6, 16.3, 11.5, 13.6, 13.4, 14.5, 16.6, 13.0, 11.6, 8.1, 2.8, 3.3, 4.2, 10.5, 2.6, 9.9, 12.7, 11.6, 3.4, 0.3, 4.3, 4.5, 4.4, 5.9, 4.9, 9.5, 4.8, 0.7, -5.3, 6.9, 3.9, 4.0, 3.0, -0.2, 1.7, 2.2, 7.8, 1.3, -6.3, -1.7, -5.2, -4.7, -1.9, -1.0, 1.4, -6.2, -6.7, -2.4, -0.9, 3.8, 7.7, -6.2, -1.4, -0.9, -0.7, 2.7, 1.5, -5.8, -7.5, -1.4, 8.4, 8.6, 2.4, 3.3, 10.5, 7.4, 5.3, 7.2, 5.8, 4.2, 8.4, 5.2, 6.1, 4.8, -3.8, -2.6, 0.3, 3.0, 4.7, 6.8, 0.1, -3.2, 1.3, 1.6, 4.3, 5.5, 4.4, 5.4, 0.4, 5.9, 5.9, 5.9, 7.3, 3.9, 4.5, 10.3, 5.2, 8.1, 6.9, 7.4, 10.5, 10.5, 10.5, 8.0, 3.2, 7.3, 3.4, -3.5, -0.2, 1.2, 2.6, 4.6, 10.7, 3.7, 5.0, 7.6, 9.4, 10.2, 6.1, 5.0, 4.6, 8.0, 9.4, 13.4, 7.7, 12.8, 18.6, 12.9, 10.3, 10.6, 9.8, 13.5, 18.6, 11.8, 15.8, 19.5, 15.0, 10.3, 13.4, 13.8, 9.5, 16.0, 12.4, 20.3, 14.1, 13.0, 15.3, 16.9, 16.9, 10.8, 13.6, 16.5, 20.4, 20.3, 27.3, 23.1, 20.0, 20.5, 21.5, 23.8, 25.4, 18.8, 16.0, 20.7, 25.0, 23.9, 22.1, 27.7, 17.6, 22.7, 25.0, 22.8, 22.2, 18.7, 17.5, 18.8, 18.1, 23.4, 22.0, 19.8, 21.4, 21.8, 22.7, 25.5, 28.1, 21.1, 24.7, 18.9, 21.4, 29.4, 28.1, 29.8, 28.0, 18.3, 25.0, 25.3, 21.4, 24.7, 28.9, 31.5, 24.3, 21.0, 25.5, 27.0, 26.1, 27.9, 30.5, 28.3, 22.2, 24.6, 29.2, 29.9, 23.0, 20.4, 27.5, 24.8, 24.6, 29.1, 23.2, 23.3, 26.1, 29.4, 32.4, 29.5, 23.8, 26.4, 28.2, 28.3, 28.5, 30.5, 31.6, 31.7, 25.5, 26.5, 29.2, 31.6, 27.4, 29.0, 31.2, 29.2, 34.5, 33.5, 29.9, 30.0, 30.8, 33.7, 36.4, 33.7, 33.0, 35.2, 36.7, 35.0, 33.2, 31.3, 33.2, 35.4, 31.8, 25.5, 32.3, 32.7, 26.8, 30.2, 33.2, 34.2, 34.0, 30.8, 32.6, 33.3, 33.6, 34.1, 34.1, 34.0, 35.5, 30.6, 27.7, 27.0, 31.6, 28.2, 30.5, 26.2, 28.7, 28.6, 28.2, 26.7, 30.4, 30.5, 26.4, 23.7, 30.0, 28.4, 29.3, 28.5, 30.7, 22.8, 28.0, 27.5, 19.8, 27.1, 29.9, 27.7, 30.4, 20.5, 20.0, 22.5, 23.7, 23.6, 27.2, 28.4, 28.3, 29.5, 21.6, 21.1, 26.5, 27.3, 30.2, 29.9, 25.4, 22.7, 17.9, 16.7, 21.2, 21.2, 19.0, 22.0, 24.9, 18.0, 22.3, 23.9, 17.7, 17.4, 18.6, 20.6, 22.6, 22.3, 22.5, 20.6, 23.2, 21.3, 22.1, 24.0, 21.0, 12.8, 13.7, 17.3, 18.6, 15.4, 15.2, 19.6, 20.1, 20.8, 22.1, 21.0, 17.0, 18.5, 20.6, 17.2, 17.3, 16.4, 9.0, 8.7, 13.2, 12.8, 13.7, 11.7, 15.8, 14.3, 19.5, 14.5, 12.1, 16.5, 18.3, 15.2, 15.0, 2.5, 1.3, 5.7, 5.5, 8.7, 5.5, 5.9, 2.1, 0.5, 3.5, 5.3, -9.3, -4.9, -4.9, -1.0, 5.0, -1.3, -2.0, -3.7, -2.9, -5.1, -4.7, -1.9, -1.2, -1.4, -3.5, -2.5, 3.6, 1.8, -2.5, -6.8, -3.9, 4.9, 5.9, 1.0, -4.3, -2.3, 0.9, 7.1, 2.1, -2.5, -4.9, -1.1, 0.9, 5.9, 5.1, 2.0, 1.5, 4.1, 3.9, 5.7, 5.9, 0.4, -3.7, -1.5, 3.3, 0.2, 0.7, -1.2, -8.1, -5.2, -6.7, 1.7, -0.6, -3.4, -4.9, -8.8, -9.1, -3.9, -1.1, -0.4, 1.4, 0.2, -0.9, -0.9, 1.4, 0.0, 4.2, -0.1, -6.4, -8.2, -6.6, -3.9, -3.2, -2.2, -1.2, 5.6, 7.3, 7.8, 8.4, 4.9, 1.5, 5.4, 11.3, 10.8, -3.6, 0.9, 6.0, 2.7, 3.1, 0.3, 0.3, 3.2, 8.1, 7.7, 7.2, 5.3, 4.5, 3.5, 6.2, 10.9, 16.0, 8.7, 0.5, 4.2, 8.4, 6.9, 6.1, 8.5, 10.1, 5.1, 8.5, 14.4, 9.7, 11.8, 6.2, 11.0, 8.6, 11.1, 17.2, 14.2, 11.5, 14.2, 12.8, 14.6, 16.3, 19.0, 22.6, 21.8, 21.8, 22.0, 19.9, 21.0, 16.3, 12.3, 14.8, 15.7, 18.2, 16.9, 21.3, 23.8, 24.2, 19.3, 18.5, 22.5, 18.0, 17.1, 16.5, 17.0, 22.5, 24.1, 21.2, 22.7, 24.8, 22.2, 20.6, 26.7, 25.5, 26.6, 25.3, 17.7, 18.0, 19.9, 25.8, 19.8, 24.5, 24.5, 25.7, 25.4, 25.2, 25.2, 28.2, 26.7, 23.0, 24.3, 25.3, 21.9, 23.5, 25.5, 20.4, 27.0, 24.5, 25.7, 27.4, 18.6, 16.4, 23.9, 25.8, 27.5, 24.7, 26.0, 25.2, 26.8, 25.5, 24.0, 26.6, 27.2, 21.9, 24.7, 22.9, 27.2, 23.2, 23.3, 24.0, 24.3, 25.9, 28.7, 28.0, 23.9, 28.5, 27.3, 25.6, 24.9, 21.6, 24.5, 27.2, 20.6, 27.2, 25.0, 29.4, 30.3, 24.4, 25.0, 30.3, 29.5, 26.6, 27.0, 24.5, 32.4, 26.0, 30.0, 26.5, 30.2, 23.7, 29.7, 33.1, 31.0, 33.5, 30.7, 26.8, 22.3, 23.7, 28.6, 27.5, 26.2, 28.8, 27.5, 30.7, 31.3, 31.7, 29.5, 30.8, 30.5, 31.5, 32.0, 31.0, 29.9, 32.2, 33.4, 30.5, 29.5, 30.8, 31.9, 32.2, 33.0, 32.1, 29.9, 22.5, 27.8, 26.5, 25.6, 29.9, 26.0, 22.7, 22.7, 25.7, 26.6, 23.7, 27.6, 27.7, 27.9, 28.5, 28.0, 27.9, 23.5, 25.3, 27.2, 25.8, 25.5, 25.1, 24.3, 23.9, 24.5, 25.0, 17.7, 20.3, 20.4, 20.0, 22.2, 24.7, 19.9, 21.4, 20.7, 21.8, 18.1, 19.7, 16.7, 13.3, 14.4, 16.5, 19.8, 19.3, 21.1, 21.1, 19.2, 20.4, 22.0, 20.1, 17.5, 12.3, 13.6, 18.8, 14.0, 14.6, 15.1, 13.0, 16.2, 18.5, 16.8, 15.6, 17.2, 17.7, 16.0, 17.8, 17.9, 17.8, 14.8, 12.1, 5.7, 9.6, 9.5, 1.8, 7.4, 8.2, 10.2, 2.3, 3.5, 3.5, 5.5, 4.1, 3.6, 7.3, 3.7, -2.0, -0.4, 5.0, 8.4, 1.8, 1.4, -0.1, -3.0, -5.2, 3.2, 3.2, 7.1, 6.9, 6.7, 1.0, -7.2, -6.5, -8.3, -4.0, -5.6, -6.9, -6.6, -11.0, -9.8, -7.2, -1.1, -1.2, -1.2, 5.0, 3.0, 4.1, 6.1, 0.8, -6.3, -4.7, -0.5, -6.1, -5.0, -2.2, 3.7, 4.8, -3.1, -3.7, -2.7, 6.7, 3.3, 1.5, 1.0, 1.8, 1.6, -6.2, -5.1, -2.2, 1.3, 5.2, 10.5, 9.7, 3.1, 2.6, 0.9, -3.8, -7.5, -3.5, -9.1, -2.0, 3.9, 4.3, 0.7, -3.4, -4.5, -3.0, -2.2, -3.9, -2.6, -2.2, -0.6, 0.6, 4.0, 6.6, 4.8, 8.5, 8.5, 5.3, 4.3, 8.0, 11.5, 11.5, 3.2, -1.0, -2.3, 3.1, 7.7, 8.2, 13.7, 12.0, 5.6, 5.7, 4.8, 5.4, 3.4, 0.8, 0.5, 3.2, 7.3, 14.5, 9.4, 10.7, 8.3, 13.5, 14.4, 12.1, 11.5, 16.0, 14.3, 9.2, 12.0, 16.1, 14.2, 11.9, 7.8, 6.1, 7.4, 6.5, 14.3, 14.6, 15.5, 16.8, 17.2, 14.4, 20.6, 21.8, 21.7, 21.4, 21.3, 23.5, 20.3, 16.0, 16.0, 17.2, 16.7, 21.8, 14.6, 22.6, 20.8, 18.1, 17.8, 17.8, 18.8, 16.7, 18.3, 20.3, 21.9, 17.1, 18.2, 19.3, 20.6, 25.0, 21.5, 19.8, 17.8, 19.2, 23.5, 23.6, 28.2, 18.3, 17.5, 21.2, 17.2, 19.2, 19.7, 23.4, 25.8, 27.8, 27.5, 22.0, 22.9, 23.0, 22.0, 22.2, 26.3, 20.9, 23.0, 21.2, 26.7, 22.0, 24.8, 28.0, 28.9, 20.5, 20.2, 20.9, 25.3, 27.1, 27.0, 31.1, 27.1, 22.6, 21.5, 23.4, 21.5, 23.1, 25.2, 29.5, 26.4, 25.2, 27.0, 29.3, 29.3, 29.6, 30.6, 30.3, 30.5, 29.8, 25.8, 28.2, 29.5, 30.3, 29.5, 27.8, 30.9, 28.0, 23.5, 27.1, 24.6, 25.0, 26.6, 27.2, 31.3, 32.9, 32.5, 29.5, 31.0, 31.0, 27.1, 30.9, 29.9, 31.6, 31.6, 31.4, 31.7, 30.0, 27.6, 28.8, 27.2, 24.3, 30.6, 25.1, 29.9, 30.5, 24.9, 26.7, 31.1, 28.1, 30.7, 31.9, 27.8, 29.7, 29.6, 32.6, 30.2, 28.1, 31.7, 31.0, 31.7, 32.7, 31.2, 33.0, 33.4, 33.6, 33.7, 31.4, 32.5, 33.1, 33.0, 32.1, 32.7, 33.1, 33.4, 33.3, 34.4, 33.6, 27.1, 28.9, 24.8, 28.3, 28.5, 22.4, 20.8, 28.2, 29.5, 30.3, 28.1, 27.0, 27.8, 28.0, 27.4, 28.3, 27.8, 19.5, 23.9, 27.8, 24.0, 24.4, 26.9, 25.1, 24.5, 25.7, 22.3, 25.2, 27.2, 26.5, 26.5, 20.5, 21.9, 21.0, 23.8, 22.5, 24.0, 25.5, 25.7, 25.8, 17.3, 18.8, 19.0, 21.2, 21.0, 16.2, 16.8, 14.7, 21.8, 24.7, 23.0, 23.5, 20.6, 19.8, 14.5, 12.2, 13.7, 13.7, 13.6, 16.1, 15.4, 15.2, 16.7, 18.0, 18.2, 14.7, 10.6, 9.5, 9.4, 5.0, 7.7, 11.4, 10.5, 11.7, 12.4, 11.3, 13.0, 17.7, 16.6, 14.7, 13.5, 15.5, 14.6, 12.1, 3.3, 2.4, 2.1, -1.3, 0.7, 9.2, 5.0, 10.2, 12.0, 9.5, 11.0, 11.6, 12.1, 12.2, 7.4, 5.4, 4.2, 5.1, 11.5, 6.2, 2.4, 5.1, 9.1, 12.9, 9.5, 10.5, 8.8, 9.3, 7.7, 8.5, 5.8, 5.2, 6.4, 2.0, 3.2, 4.8, 5.6, 5.1, 2.7, 1.9, -8.1, -8.8, -6.6, -5.1, -5.6, -0.6, 2.2, 2.9, 0.1, 3.9, 1.1, -5.6, -6.8, -0.8, -0.3, -1.5, 2.5, 0.7, 5.6, 6.4, 4.8, 3.8, 0.3, 6.2, 9.0, 3.3, 6.3, 9.4, 13.1, 10.2, 12.1, 4.5, -0.4, -0.2, 1.1, 5.7, 5.4, 7.7, 5.7, 2.5, 2.0, 0.4, -2.5, 2.8, 7.4, 4.7, 7.9, 6.4, 8.5, 15.5, 12.5, 10.6, 12.0, 10.2, 5.5, 3.1, 6.3, 4.8, 7.9, 10.2, 6.3, 8.2, 4.5, 6.2, 11.7, 8.3, 6.6, 11.5, 5.3, 11.4, 11.9, 11.1, 7.0, 4.4, 6.2, 6.1, 6.5, 7.9, 5.1, 8.8, 9.6, 12.2, 10.5, 12.8, 14.4, 13.7, 14.1, 17.2, 18.6, 9.5, 12.5, 7.5, 9.1, 11.1, 16.2, 11.1, 11.5, 15.4, 15.2, 9.5, 13.4, 16.9, 18.2, 17.0, 18.4, 18.4, 16.8, 14.2, 17.4, 21.1, 17.1, 23.2, 21.6, 21.9, 20.8, 23.8, 16.4, 13.8, 12.7, 17.4, 14.7, 14.0, 19.1, 16.3, 23.8, 25.0, 25.5, 30.6, 27.4, 12.3, 17.0, 20.6, 23.6, 14.9, 25.0, 23.4, 28.7, 27.1, 24.5, 27.4, 23.8, 24.0, 23.0, 26.9, 28.7, 27.4, 30.5, 28.6, 30.5, 29.4, 28.1, 25.7, 22.9, 21.2, 18.0, 20.3, 21.1, 21.4, 24.2, 26.4, 28.9, 29.4, 25.9, 25.3, 30.8, 33.4, 30.8, 36.0, 25.6, 26.3, 30.5, 26.8, 29.8, 26.7, 30.9, 30.4, 26.5, 20.2, 27.8, 32.0, 32.5, 33.4, 31.5, 32.0, 32.3, 33.4, 32.4, 20.6, 26.8, 29.5, 29.3, 24.2, 27.6, 30.5, 33.7, 34.0, 31.1, 32.5, 30.1, 29.1, 31.6, 34.1, 34.0, 31.6, 28.0, 25.5, 31.7, 32.2, 28.9, 28.0, 30.0, 30.3, 31.3, 32.6, 32.7, 34.4, 35.4, 36.2, 36.7, 34.5, 33.8, 35.0, 35.6, 37.7, 37.4, 35.8, 30.5, 35.2, 31.2, 29.9, 30.9, 32.3, 31.9, 31.9, 28.6, 29.6, 32.1, 24.5, 27.5, 27.9, 28.6, 28.5, 30.7, 30.5, 31.3, 30.3, 27.1, 27.6, 20.5, 26.5, 29.0, 26.9, 29.3, 31.2, 28.4, 25.1, 25.9, 20.4, 25.3, 25.9, 25.1, 24.8, 25.5, 26.3, 21.9, 20.4, 24.7, 25.5, 26.5, 25.5, 25.0, 25.1, 23.4, 24.9, 24.6, 24.1, 24.6, 20.9, 21.8, 21.6, 23.3, 18.3, 19.2, 21.5, 21.9, 22.4, 21.6, 16.7, 16.8, 19.3, 19.5, 21.9, 22.6, 18.8, 19.3, 19.5, 18.6, 18.1, 8.9, 7.9, 15.0, 18.7, 17.3, 12.3, 13.4, 15.1, 16.5, 13.8, 18.9, 15.9, 14.5, 15.9, 15.9, 12.7, 6.6, 11.1, 10.7, -0.9, 6.0, 8.7, 13.5, 15.6, 12.0, 13.0, 9.8, 11.8, 11.2, 11.0, 12.4, 12.2, 13.8, 16.4, 13.6, 14.5, 12.0, 2.3, -3.9, -1.9, -0.8, 1.4, 1.0, 5.4, 2.4, 3.6, 3.5, 7.2, 1.6, 6.0, 6.5, 3.7, 3.6, 3.9, 2.7, 5.3, -0.2, -1.5, 2.6, -0.2, -5.5, -5.9, 2.2, 4.3, 4.5, 2.4, -0.7, -4.2, -3.1, -10.8, -5.5, -1.4, -1.3, -3.9, -0.1, 6.4, 6.0, 7.6, 7.2, 7.3, 10.1, 7.7, 4.6, 4.4, 4.1, -0.1, -3.8, -0.5, 4.3, 7.2, 9.2, 6.7, 7.4, 4.0, 1.0, -2.0, 0.6, -2.4, -4.3, 0.7, 3.9, 8.0, 5.7, 6.3, 6.5, 3.6, 4.6, 4.9, 3.3, 5.1, 0.9, 0.3, 3.5, 2.9, 2.9, 5.7, 7.6, 7.8, 8.5, 9.3, 3.9, -1.0, 2.4, 9.0, 10.6, 9.3, 9.2, 16.5, 11.2, 6.4, 1.0, 6.4, 6.8, -5.2, 1.0, 3.7, 7.4, 8.3, 9.9, 11.4, 15.3, 7.4, 3.6, 6.6, 9.9, 16.3, 19.9, 15.3, 14.4, 17.6, 19.7, 19.7, 21.9, 20.0, 20.7, 19.2, 16.3, 21.6, 10.7, 9.8, 10.2, 11.8, 16.5, 16.9, 19.9, 23.8, 23.0, 23.9, 27.4, 24.7, 18.9, 18.9, 16.8, 14.5, 19.1, 23.4, 25.3, 23.1, 21.6, 23.4, 24.3, 26.1, 27.8, 26.6, 28.3, 21.4, 27.9, 17.1, 18.1, 17.4, 21.5, 24.7, 16.2, 21.5, 24.5, 26.9, 28.2, 28.8, 26.1, 27.3, 26.9, 19.3, 18.5, 11.3, 19.6, 23.0, 25.2, 25.9, 28.8, 29.4, 30.3, 30.5, 33.7, 34.4, 27.9, 27.5, 21.4, 23.2, 26.7, 28.4, 30.0, 28.5, 17.9, 25.5, 26.8, 27.1, 27.8, 30.7, 31.4, 32.5, 30.3, 24.7, 30.1, 30.6, 19.9, 27.2, 21.8, 23.9, 27.1, 26.2, 27.1, 23.3, 27.7, 28.9, 28.7, 23.2, 28.0, 29.5, 29.8, 22.9, 24.6, 28.9, 25.3, 29.5, 30.8, 32.4, 31.6, 30.2, 29.0, 29.3, 30.0, 31.3, 33.8, 34.3, 35.2, 31.1, 28.6, 28.6, 32.9, 34.7, 34.7, 36.1, 30.9, 33.4, 33.7, 30.9, 34.2, 33.9, 34.6, 33.0, 32.9, 32.6, 31.9, 31.4, 33.2, 35.1, 36.0, 35.2, 36.0, 32.5, 34.6, 33.1, 35.0, 35.2, 36.9, 35.2, 32.9, 32.5, 28.9, 29.6, 28.7, 28.6, 26.4, 28.4, 30.4, 32.6, 32.5, 16.2, 9.0, 4.6, -0.5, 1.0, 3.7, 6.8, 9.2, 6.5, 1.6, -1.9, -0.1, 8.2, 7.3, 4.5, 8.5, 6.8, 8.2, 5.8, 6.4, 2.7, 3.2, 1.8, 5.0, 4.2, 0.4, 0.1, 4.4, 5.4, -0.2, 2.3, 4.0, 2.0, 3.9, 6.6, 3.9, 1.3, 3.4, 2.9, 3.8, 1.4, -1.5, 4.8, 4.6, 2.2, 2.8, 2.4, 6.9, 4.8, 5.8, 10.7, 5.5, 1.6, -2.6, -3.4, -5.0, -0.3, 3.4, -2.1, -0.4, 3.6, -0.2, -0.6, -3.2, -1.5, 0.0, -0.2, -0.5, 3.0, 6.2, 8.1, 9.9, 8.6, 5.7, 6.3, 10.5, 6.1, 11.0, 6.6, -0.4, 3.8, 5.6, -0.4, 2.9, 7.0, 12.2, 10.8, 10.0, 7.8, 6.4, 7.2, 9.4, 4.0, 4.6, 4.4, 1.2, 1.9, 5.8, 6.8, 10.4, 11.5, 0.2, 2.0, 6.0, 5.8, 8.0, 11.3, 13.9, 8.8, 3.1, 6.7, 8.2, 10.9, 12.8, 17.0, 18.2, 13.2, 12.0, 11.3, 12.2, 16.3, 20.2, 19.5, 19.9, 22.3, 22.4, 21.6, 11.8, 15.7, 19.0, 20.2, 15.6, 13.6, 17.9, 20.2, 20.6, 26.8, 17.8, 15.4, 11.9, 13.3, 15.1, 17.0, 21.2, 19.4, 20.2, 17.8, 18.6, 18.0, 21.2, 18.0, 14.2, 14.0, 17.6, 19.4, 20.8, 25.3, 26.1, 27.9, 19.6, 20.1, 21.4, 25.5, 24.0, 19.9, 20.7, 22.4, 22.2, 23.2, 26.6, 28.6, 26.7, 25.6, 22.5, 22.0, 24.1, 26.4, 24.8, 25.4, 25.8, 26.8, 25.0, 19.5, 17.3, 20.4, 24.7, 22.4, 20.5, 24.3, 21.0, 22.4, 20.0, 19.0, 26.7, 25.3, 26.5, 26.6, 27.6, 29.9, 28.4, 26.6, 26.7, 27.2, 29.2, 29.7, 28.3, 27.6, 23.6, 30.4, 23.2, 20.1, 23.8, 25.4, 23.0, 28.7, 25.8, 21.0, 25.9, 20.7, 20.8, 25.1, 29.1, 26.5, 26.9, 27.6, 30.3, 28.1, 31.9, 22.8, 24.2, 24.5, 31.4, 24.2, 23.6, 23.9, 26.9, 27.5, 27.1, 29.5, 28.3, 27.5, 27.4, 27.5, 26.8, 21.2, 25.2, 28.1, 32.5, 31.7, 32.8, 31.0, 32.2, 34.3, 29.0, 32.0, 33.0, 32.9, 31.4, 33.6, 33.8, 31.8, 30.7, 27.3, 30.1, 32.4, 29.7, 33.2, 31.1, 29.1, 26.0, 29.4, 27.9, 28.8, 29.7, 27.9, 28.4, 29.3, 30.0, 24.0, 26.0, 29.1, 27.0, 25.9, 29.2, 28.1, 28.1, 22.4, 20.3, 20.5, 27.7, 26.4, 26.4, 26.6, 24.3, 25.3, 27.3, 24.9, 22.8, 17.5, 21.0, 20.7, 23.1, 23.6, 24.0, 25.0, 20.5, 16.5, 19.5, 17.0, 15.2, 19.8, 17.7, 16.0, 16.3, 13.4, 13.7, 16.7, 19.4, 19.7, 20.3, 17.8, 20.6, 22.0, 20.6, 19.6, 15.4, 17.6, 22.5, 23.7, 22.4, 22.0, 14.5, 17.2, 11.2, 16.4, 14.1, 12.2, 17.2, 17.9, 16.8, 17.8, 13.8, 17.8, 18.9, 18.6, 12.4, 14.9, 17.4, 15.2, 11.6, 9.2, 8.7, 9.2, 11.3, 14.3, 15.8, 18.0, 19.1, 17.0, 10.4, 16.9, 15.2, 18.1, 13.2, 11.1, 10.4, -1.1, 0.7, 2.9, 4.7, 9.3, 10.9, 8.7, 2.1, -0.5, 0.0, 0.0, -0.2, -2.6, -0.7, 3.2, 2.8, 2.6, 5.6, 3.9, 6.3, 0.8, -0.9, -2.0, -4.4, -4.4, -2.9, 0.3, -3.2, -4.9, -2.3, -5.6, -6.3, -4.3, -2.9, -4.4, -6.3, -3.3, 0.0, -2.9, -9.1, -4.6, 4.0, 2.4, 3.4, -1.6, -7.4, -5.1, -1.7, 2.6, -3.7, 1.2, 3.0, 5.4, 5.3, 3.8, -0.8, 2.1, 3.9, 2.5, 2.0, -2.0, 4.1, 7.0, 3.0, 5.0, 1.6, 4.0, 4.8, 8.7, 6.2, 1.5, -6.6, -2.0, 3.7, 6.4, 6.5, 9.7, 11.1, 11.3, 5.8, -5.0, -4.5, 5.6, 7.6, 7.2, 10.6, 15.1, 12.8, 4.0, 8.2, 5.5, 7.6, 7.7, 8.6, 3.1, 5.4, 6.6, 5.9, 8.2, 13.7, 10.8, 0.3, 3.9, 8.6, 13.8, 14.6, 3.8, 8.5, 13.9, 12.2, 16.2, 10.8, 11.5, 8.1, 11.9, 13.3, 14.4, 12.7, 10.9, 14.3, 14.7, 13.9, 11.1, 9.0, 14.8, 17.9, 21.2, 22.2, 14.4, 13.2, 22.0, 25.0, 18.9, 16.4, 11.6, 12.1, 11.1, 10.7, 8.9, 13.5, 15.5, 19.8, 15.0, 13.8, 15.4, 19.0, 19.4, 20.4, 23.8, 23.8, 24.3, 26.0, 18.0, 18.2, 19.8, 22.7, 25.1, 25.2, 24.1, 29.0, 15.3, 18.1, 21.6, 24.5, 26.5, 19.3, 20.6, 19.9, 20.6, 21.1, 24.0, 22.5, 26.6, 24.7, 24.8, 26.3, 22.9, 16.1, 20.3, 23.0, 24.5, 22.4, 24.4, 23.9, 25.7, 28.3, 28.4, 28.1, 27.2, 29.9, 29.2, 29.7, 32.8, 33.7, 30.9, 30.9, 33.2, 22.8, 24.3, 26.3, 26.1, 27.7, 33.8, 31.9, 23.2, 22.0, 21.3, 20.5, 26.8, 26.7, 25.6, 29.9, 25.5, 23.8, 21.9, 21.2, 25.5, 28.6, 30.6, 31.0, 27.6, 26.0, 25.3, 23.5, 25.9, 32.4, 31.7, 31.5, 28.9, 27.1, 30.3, 28.5, 29.0, 31.5, 29.8, 29.5, 32.8, 32.3, 31.5, 29.3, 30.2, 28.8, 27.2, 29.4, 31.1, 30.7, 30.6, 30.9, 32.3, 32.1, 32.0, 33.3, 33.3, 32.6, 32.3, 31.8, 32.8, 33.9, 33.3, 33.8, 32.3, 31.8, 32.8, 33.0, 33.1, 33.5, 34.2, 34.0, 35.0, 29.8, 27.9, 30.6, 28.5, 27.1, 27.8, 28.1, 25.3, 29.4, 32.3, 31.3, 23.8, 28.2, 27.3, 22.8, 22.9, 25.1, 26.2, 26.5, 27.4, 24.0, 24.9, 25.9, 26.5, 27.4, 20.1, 23.4, 25.3, 26.0, 24.2, 26.9, 26.2, 27.2, 27.6, 27.3, 27.2, 23.9, 25.2, 24.2, 16.1, 13.6, 15.2, 18.9, 19.4, 20.2, 21.3, 14.3, 15.9, 17.9, 19.4, 17.2, 16.1, 17.8, 15.1, 13.8, 15.2, 16.7, 19.7, 19.2, 21.0, 19.9, 16.1, 17.7, 10.3, 14.7, 17.3, 11.9, 12.2, 12.7, 10.1, 5.1, 5.8, 6.6, 4.9, 8.9, 11.9, 14.1, 16.8, 18.3, 13.6, 3.7, 8.9, 10.9, 10.7, 10.9, 8.5, 9.5, 8.3, 11.4, 14.0, 12.6, 13.5, 9.2, 9.4, 9.0, 7.8, 6.9, 9.8, 10.6, 12.9, 2.7, 1.3, 2.8, 4.9, 5.4, 12.6, 10.7, 10.1, 8.7, 8.6, 0.3, -3.1, 2.1, 8.0, 2.6, 0.6, -1.3, 5.4, 1.4, 7.6, 7.8, 9.1, 2.9, -2.2, -3.5, -2.9, -0.8, 1.0, 5.7, 8.7, 1.8, -2.8, -8.3, -7.5, -6.9, -0.5, -1.8, 3.5, 2.9, 0.3, 0.9, 1.3, 6.4, 4.6, 0.7, 1.2, -0.1, -0.9, -4.9, -3.2, -4.3, -1.1, 3.9, 1.4, 3.5, 6.7, 1.9, -1.3, 2.1, 4.3, 5.1, 1.3, 6.0, 3.9, 0.3, -3.9, -2.9, -2.3, 1.3, 4.0, 5.3, 3.4, -5.3, -5.9, -2.2, -0.4, 0.0, -2.0, 0.7, 4.1, 2.9, 6.5, 7.2, 6.0, 1.1, 0.1, 1.5, 2.8, 1.1, 4.8, 8.4, 4.1, 0.9, 0.3, 2.1, 2.7, -0.3, -0.3, 8.8, 11.2, 14.9, 14.5, 8.5, 8.1, 9.8, 10.5, 9.7, 15.6, 12.1, 11.9, 7.5, 7.1, 12.7, 12.5, 15.7, 11.7, 15.8, 8.9, 5.5, 8.8, 11.3, 13.3, 10.4, 9.5, 11.1, 14.1, 12.9, 14.0, 13.9, 19.4, 18.2, 21.4, 15.3, 14.3, 13.5, 13.4, 16.3, 21.4, 21.4, 17.7, 16.7, 17.6, 14.1, 14.0, 14.5, 16.1, 18.4, 20.7, 15.3, 21.5, 26.7, 22.5, 17.8, 17.0, 22.5, 22.1, 14.6, 16.5, 18.7, 20.1, 21.7, 22.3, 22.9, 20.1, 25.0, 20.0, 26.2, 24.4, 25.6, 22.3, 24.8, 16.4, 19.5, 22.7, 26.4, 24.1, 21.5, 24.6, 27.8, 31.3, 30.6, 25.5, 24.4, 25.1, 25.7, 22.3, 28.8, 28.3, 20.9, 23.4, 21.5, 24.9, 29.4, 27.9, 17.9, 23.7, 24.7, 21.8, 25.3, 20.7, 21.0, 24.9, 21.3, 17.4, 19.5, 26.5, 28.3, 27.9, 29.7, 26.5, 27.9, 24.1, 22.4, 28.1, 27.4, 28.1, 26.1, 28.2, 29.7, 31.0, 25.3, 23.8, 24.5, 23.7, 30.0, 23.3, 26.7, 30.3, 30.7, 29.3, 26.7, 27.7, 30.8, 26.7, 31.7, 28.0, 33.0, 33.9, 34.7, 34.9, 35.0, 34.4, 32.7, 31.2, 28.9, 28.4, 30.6, 32.2, 33.7, 32.7, 32.6, 30.3, 32.1, 30.5, 29.5, 27.3, 27.6, 29.6, 28.7, 29.1, 29.2, 22.7, 25.5, 27.3, 27.9, 26.8, 26.8, 29.3, 30.3, 25.3, 24.2, 30.2, 30.3, 27.5, 29.5, 26.1, 27.3, 28.6, 18.7, 24.9, 24.6, 26.5, 26.6, 28.6, 22.8, 27.0, 27.7, 27.7, 20.7, 26.9, 20.7, 28.6, 29.6, 26.1, 20.9, 19.5, 20.3, 23.4, 24.5, 24.5, 24.9, 22.8, 18.8, 19.5, 22.8, 22.1, 23.9, 17.3, 22.7, 19.2, 12.2, 18.6, 20.2, 20.4, 20.7, 21.1, 20.4, 21.7, 14.9, 13.4, 16.3, 20.4, 18.1, 15.7, 15.2, 16.7, 21.2, 22.8, 21.9, 16.7, 14.1, 17.7, 20.6, 19.5, 12.4, 13.8, 8.9, 9.9, 17.2, 19.1, 14.3, 10.5, 5.3, 12.0, 10.5, 1.9, -0.2, 3.5, 10.7, 9.2, 6.8, 5.1, 3.4, 2.0, 1.5, 4.8, 8.9, 0.5, 3.3, 0.3, -0.8, -0.7, 7.5, 8.9, 7.4, -3.7, -1.3, 1.3, -4.8, -8.0, -8.3, -4.1, -1.3, -2.7, -6.9, -6.2, -0.9, -2.8, -2.1, -2.9, -0.5, -4.2, -8.3, -6.6, -5.5, -3.9, 1.0, 1.0, 4.0, 7.8, 6.3, 6.2, 6.6, 6.3, 5.1, 3.2, 1.4, -3.3, -2.3, 0.5, 1.2, 1.6, 0.7, -6.9, -0.7, 1.5, -0.1, -0.7, -0.7, -1.3, -1.8, -3.1, -4.7, -0.5, 0.5, 4.6, 5.8, 2.8, 0.7, 3.3, 3.4, -1.5, -6.4, -4.5, 1.6, 5.4, 5.5, 6.2, 2.9, 3.4, 4.1, -3.6, -10.3, -7.2, -4.4, -2.5, 0.9, -0.1, -4.2, -2.8, -2.3, -3.8, 0.0, 1.4, 3.7, 0.0, 0.1, 1.2, 1.7, 0.8, 2.3, 4.9, 10.6, 5.1, 1.8, 0.8, 1.4, 4.5, 2.9, -1.8, -1.1, 1.0, -1.2, -0.6, 0.6, 4.4, 4.9, 6.5, 7.9, 9.8, 9.0, 7.5, 5.7, 5.8, 4.2, 3.5, 3.5, 6.4, 7.9, 13.8, 9.5, 6.4, 6.9, 8.6, 10.6, 13.0, 15.0, 17.7, 20.5, 22.2, 19.8, 6.5, 5.8, 10.9, 14.9, 10.9, 13.1, 15.5, 19.5, 20.4, 15.1, 17.8, 23.3, 21.2, 19.2, 23.9, 17.6, 18.0, 21.7, 22.7, 26.3, 18.7, 22.1, 23.3, 20.3, 20.9, 20.5, 19.6, 22.6, 21.5, 24.1, 26.8, 23.0, 18.2, 16.6, 24.3, 27.6, 27.6, 23.9, 22.5, 25.5, 20.4, 26.1, 29.2, 29.8, 20.1, 25.2, 26.7, 26.9, 24.2, 24.7, 26.8, 21.8, 26.1, 22.9, 25.3, 25.9, 20.3, 18.8, 25.8, 25.5, 27.7, 26.6, 25.7, 26.0, 26.4, 27.8, 28.3, 26.1, 28.5, 26.5, 20.4, 22.8, 24.3, 24.6, 25.2, 27.5, 27.5, 23.1, 29.8, 31.4, 29.5, 32.5, 30.7, 26.3, 22.4, 25.6, 25.9, 30.7, 22.3, 23.1, 21.6, 25.4, 25.7, 23.9, 24.5, 26.4, 24.7, 25.2, 25.9, 28.7, 23.0, 22.6, 25.7, 28.6, 28.1, 31.0, 28.0, 29.7, 25.9, 29.2, 28.7, 28.8, 26.0, 29.1, 24.5, 24.9, 25.5, 28.1, 29.7, 30.1, 29.3, 30.9, 33.5, 33.5, 25.7, 30.3, 31.7, 30.2, 31.8, 30.7, 32.1, 31.3, 25.4, 28.9, 28.5, 28.3, 30.0, 32.1, 30.1, 26.2, 25.9, 29.3, 22.9, 25.3, 26.1, 27.8, 29.0, 28.5, 28.8, 28.6, 28.4, 26.1, 25.3, 27.3, 27.1, 21.1, 26.5, 27.7, 27.7, 28.8, 25.3, 25.6, 24.2, 24.6, 25.1, 28.5, 27.5, 22.5, 22.8, 20.3, 23.3, 27.0, 23.0, 17.8, 17.8, 22.2, 23.4, 26.4, 27.2, 17.5, 21.5, 23.0, 17.2, 17.9, 21.6, 22.1, 22.1, 21.6, 22.8, 23.3, 11.4, 11.8, 12.4, 17.1, 17.3, 17.5, 15.2, 15.2, 21.1, 20.4, 20.8, 13.7, 12.2, 11.4, 12.6, 16.1, 16.7, 16.6, 15.3, 15.6, 16.7, 12.0, 15.3, 17.5, 14.2, 14.9, 12.8, 15.6, 15.7, 13.3, 15.6, 16.5, 15.5, 13.8, 13.9, 13.0, 13.8, 17.4, 16.1, 13.7, 16.3, 8.7, 0.7, 1.9, 4.4, 4.3, 3.5, 4.7, 9.2, 5.4, 4.6, 5.1, 4.7, 1.4, 2.8, 9.6, 7.4, 7.0, 1.2, 4.1, 6.4, 8.9, -3.7, -3.1, -1.3, 0.3, 3.5, 2.7, 2.1, 3.4, 6.9, 6.1, 5.2, -1.9, -3.7, -2.5, -0.4, -1.8, -8.8, -4.2, -1.3, 3.4, 5.8, 8.6, 7.2, 1.5, 4.0, 4.8, 3.8, 2.5, -4.6, -12.6, -10.4, -8.1, -4.2, -2.5, 0.1, -8.6, -11.7, -5.8, -1.5, 0.4, -3.7, -1.4, -3.1, -4.4, -2.5, -0.3, 4.2, 2.7, 0.6, 4.3, 3.1, 4.6, 4.2, 5.1, 5.1, 0.9, -0.2, -1.9, 2.0, 5.2, 4.8, 2.0, 4.3, 1.7, 3.5, 6.6, 14.1, 4.5, 7.1, 11.4, 4.1, -1.4, -0.6, 3.9, -4.1, -1.7, 7.6, 9.3, 7.7, 2.4, 7.9, 11.3, 14.4, 15.1, 16.7, 14.5, 6.4, 14.2, 15.0, 8.3, 4.1, 9.9, 11.3, 15.2, 18.7, 15.3, 21.5, 14.0, 7.7, 1.7, 0.2, 2.2, 3.7, 6.5, 14.1, 15.3, 21.0, 20.2, 22.3, 19.1, 14.1, 9.9, 11.6, 13.2, 15.7, 13.7, 11.6, 12.5, 16.6, 9.7, 11.2, 16.3, 19.1, 14.2, 14.1, 23.4, 27.3, 26.3, 12.7, 12.9, 16.1, 16.7, 18.5, 16.0, 17.4, 18.4, 21.5, 19.6, 21.5, 25.5, 24.4, 28.2, 27.2, 27.2, 16.5, 19.5, 19.5, 16.2, 17.3, 18.4, 21.5, 25.9, 28.6, 27.3, 27.3, 22.7, 14.6, 15.1, 21.7, 27.5, 26.3, 27.8, 29.9, 27.8, 27.0, 32.1, 31.6, 25.3, 28.2, 27.6, 24.1, 21.1, 31.0, 29.2, 27.3, 24.4, 25.1, 28.6, 26.6, 26.1, 25.7, 25.2, 29.2, 33.0, 29.2, 31.6, 35.2, 34.4, 37.2, 35.6, 33.2, 23.4, 26.2, 29.6, 32.9, 24.6, 29.0, 23.7, 31.3, 23.5, 29.7, 32.0, 29.4, 31.5, 33.8, 32.8, 33.3, 33.9, 34.1, 33.1, 32.9, 32.2, 32.1, 30.9, 31.0, 33.5, 34.4, 31.4, 30.5, 27.0, 27.5, 28.4, 29.0, 30.3, 28.5, 30.1, 28.7, 31.1, 31.0, 31.2, 32.8, 32.6, 33.1, 33.2, 31.7, 32.2, 26.6, 28.7, 27.6, 26.1, 27.7, 29.3, 26.3, 26.7, 27.7, 27.6, 26.3, 29.3, 29.8, 29.6, 23.8, 21.3, 26.7, 25.3, 25.1, 27.8, 24.1, 28.8, 26.6, 25.2, 25.4, 20.3, 25.5, 27.4, 25.2, 20.4, 23.2, 26.2, 27.9, 27.9, 27.9, 26.2, 25.2, 26.4, 24.2, 24.7, 20.6, 23.3, 26.8, 27.4, 27.5, 26.3, 25.7, 24.0, 21.4, 18.6, 22.7, 17.5, 15.9, 19.2, 21.5, 22.7, 23.8, 22.3, 23.1, 23.8, 22.6, 18.7, 25.0, 22.8, 20.0, 17.4, 17.8, 15.4, 19.1, 20.6, 18.7, 18.3, 12.0, 15.9, 16.6, 17.9, 7.8, 10.6, 16.8, 18.0, 12.3, 16.7, 17.5, 18.9, 18.1, 15.1, 15.4, 13.7, 11.2, 14.0, 15.0, 14.2, 11.4, 13.0, 9.1, 9.0, 7.8, 9.7, 8.6, 7.7, 4.6, 7.9, 7.0, 10.4, 10.2, 9.7, 11.3, 11.4, 10.6, 9.7, 7.1, 9.4, 10.7, 9.1, 11.6, 7.9, 8.2, 8.1, 9.9, 9.9, 6.7, 5.7, 10.1, 9.5, 10.6, 10.1, 8.3, 8.9, 7.4, 11.6, 6.9, 4.3, 8.1, 10.4, 12.1, 12.0, 9.3, 7.2, 3.9, 4.0, 2.9, 5.2, 5.3, -0.1, -0.4, -0.8, -9.4, -13.1, -8.3, -3.8, -1.6, 1.0, -6.7, -3.1, 1.7, -2.0, -0.4, 2.8, -8.5, -11.7, -7.6, -3.7, 2.1, 5.1, 1.7, 6.9, 9.8, 5.2, 5.6, 6.8, 7.7, 5.0, -1.6, 0.9, 3.2, 6.6, 7.3, 12.2, 13.7, 13.4, 7.2, 3.4, 5.3, 0.1, 1.8, 7.8, 5.2, 3.8, 3.0, 5.1, 4.4, 8.4, 7.1, 4.6, 5.3, 5.4, 4.8, 6.5, 9.8, 11.3, 10.0, 10.4, 4.2, 5.1, 6.5, 9.4, 8.0, 9.0, 5.9, 11.5, 13.7, 8.6, 5.0, 2.7, 5.2, 10.2, 10.7, 11.6, 14.3, 15.2, 15.2, 17.5, 10.5, 10.0, 12.6, 14.0, 12.4, 17.2, 18.2, 12.2, 12.8, 12.6, 13.5, 15.8, 17.8, 15.1, 13.6, 11.3, 14.3, 14.8, 19.2, 10.0, 11.6, 16.1, 14.1, 13.2, 15.1, 13.3, 11.7, 8.4, 15.4, 21.3, 24.2, 22.9, 13.6, 13.5, 12.7, 20.7, 14.5, 17.1, 18.4, 21.0, 23.4, 18.6, 22.1, 24.2, 18.5, 22.5, 24.0, 26.3, 24.2, 27.1, 27.2, 19.5, 20.4, 21.3, 23.3, 22.6, 25.2, 24.6, 26.8, 26.0, 26.0, 18.5, 24.2, 27.0, 25.1, 25.1, 26.6, 27.6, 26.2, 23.6, 23.0, 24.0, 24.6, 24.6, 25.2, 24.6, 17.8, 18.8, 19.8, 23.5, 25.2, 22.4, 25.9, 24.2, 27.3, 22.8, 28.8, 28.3, 31.8, 27.8, 24.4, 25.4, 27.9, 25.3, 25.4, 26.8, 28.6, 29.2, 29.2, 25.6, 30.0, 27.7, 22.0, 23.5, 30.4, 26.2, 26.6, 25.8, 24.4, 28.0, 25.2, 26.9, 28.3, 28.9, 29.6, 30.1, 30.6, 27.2, 30.0, 27.4, 31.3, 29.8, 28.8, 29.8, 26.0, 30.5, 31.8, 29.4, 31.0, 33.6, 32.4, 32.4, 33.3, 33.2, 34.0, 36.2, 35.0, 35.5, 35.0, 34.1, 32.4, 32.0, 27.0, 27.8, 30.5, 30.0, 31.3, 30.2, 31.8, 32.7, 33.4, 33.1, 28.8, 25.9, 31.2, 28.2, 32.2, 30.6, 24.9, 27.8, 30.6, 32.2, 33.3, 23.6, 20.7, 29.8, 29.8, 28.7, 26.4, 23.8, 25.8, 26.3, 27.5, 27.9, 26.4, 26.0, 29.0, 30.2, 27.4, 25.0, 24.2, 26.7, 23.0, 25.0, 23.9, 21.6, 22.6, 20.2, 26.7, 24.5, 24.9, 24.3, 24.4, 24.8, 19.8, 24.8, 23.3, 23.2, 24.8, 27.3, 26.9, 26.6, 25.4, 25.0, 20.8, 15.8, 15.1, 16.9, 20.9, 21.4, 23.1, 23.0, 24.0, 22.5, 21.2, 24.7, 21.6, 16.3, 14.5, 15.0, 17.3, 20.4, 13.4, 14.1, 18.4, 16.9, 19.3, 16.6, 19.5, 18.4, 12.3, 15.3, 9.9, 6.0, 7.2, 11.6, 7.3, 4.5, 11.0, 14.0, 11.3, 11.8, 15.0, 11.4, 12.3, 5.8, 2.0, 6.3, 6.4, 1.9, 5.5, 7.1, 7.8, 11.3, 12.1, 12.7, 10.2, 10.6, 6.6, 1.9, 3.4, 7.4, 11.6, 13.5, 14.3, 13.3, 13.5, 11.4, 11.5, 5.6, -4.6, -5.8, -4.0, -0.1, 0.9, -2.2, -3.0, -0.9, -3.4, 1.0, 5.0, 6.4, 3.4, 3.2, 2.9, 1.6, 2.2, 1.2, 8.7, 10.8, 1.3, -1.2, 6.0, 3.6, 4.8, 4.2, 2.6, 1.2, 1.6, 2.4, -2.2, -1.2, -1.1, 0.5, 6.7, 1.7, -3.4, -4.9, -9.6, -8.0, -0.4, -3.8, -7.6, -7.0, -2.0, 5.2, 6.2, 6.2, 6.6, 5.8, 2.6, 6.5, 12.0, 13.1, 13.7, 6.9, 0.4, -0.5, 0.3, 4.7, 3.0, 5.0, 5.2, 7.0, 2.8, 8.5, 6.6, 4.5, 5.9, 8.4, 8.4, 6.7, 6.8, 7.1, 9.3, 10.8, 14.2, 11.7, 9.1, 9.8, 13.7, 11.1, 17.8, 16.0, 18.1, 16.8, 10.8, 7.8, 3.2, 6.0, 9.6, 13.4, 12.7, 16.7, 16.4, 11.2, 9.4, 11.7, 9.8, 13.9, 8.1, 8.4, 9.4, 16.3, 14.4, 14.5, 9.4, 7.7, 10.4, 12.9, 12.2, 10.6, 15.8, 10.8, 15.0, 20.4, 16.9, 17.1, 22.1, 12.2, 14.3, 14.6, 12.7, 13.4, 15.1, 15.7, 17.1, 15.8, 18.1, 25.3, 21.7, 22.8, 23.5, 20.0, 22.1, 21.0, 24.0, 19.6, 26.0, 24.9, 23.4, 20.6, 21.0, 21.0, 21.9, 16.2, 22.0, 22.3, 20.5, 16.8, 20.8, 16.4, 20.2, 19.7, 19.6, 22.4, 20.7, 21.4, 21.7, 24.6, 28.5, 30.2, 25.6, 22.2, 18.6, 23.4, 22.3, 24.3, 24.4, 23.3, 17.8, 22.4, 23.7, 26.8, 25.2, 29.9, 27.6, 24.8, 26.6, 19.5, 19.5, 27.8, 28.5, 27.0, 21.3, 22.6, 26.8, 26.4, 31.4, 26.2, 27.8, 31.7, 31.2, 25.2, 24.4, 24.0, 22.6, 26.2, 24.2, 29.8, 24.4, 26.4, 30.6, 30.4, 22.3, 22.3, 27.0, 30.2, 30.0, 29.1, 29.0, 24.4, 29.2, 31.9, 31.5, 31.4, 31.4, 31.2, 31.5, 32.4, 31.6, 28.0, 24.8, 27.0, 30.5, 28.6, 32.3, 30.6, 30.5, 29.8, 29.8, 34.3, 34.3, 34.4, 34.1, 33.6, 34.1, 33.7, 33.8, 32.9, 32.2, 30.6, 32.0, 30.6, 28.7, 33.9, 31.1, 33.3, 34.1, 33.5, 32.4, 27.1, 29.6, 29.2, 31.0, 30.4, 25.0, 21.7, 26.6, 29.4, 31.3, 31.1, 25.7, 23.6, 29.1, 25.1, 26.4, 24.3, 26.1, 28.6, 29.2, 30.2, 30.7, 21.5, 23.8, 25.7, 20.8, 20.8, 27.8, 27.9, 27.2, 25.3, 24.9, 25.1, 27.2, 20.7, 22.5, 23.5, 18.3, 18.6, 21.8, 21.1, 21.1, 23.8, 23.1, 21.4, 23.8, 22.2, 23.0, 22.8, 24.2, 25.7, 24.4, 25.2, 24.9, 17.8, 17.4, 20.3, 22.7, 23.1, 22.9, 22.4, 22.4, 21.2, 14.7, 12.0, 17.5, 17.2, 17.6, 17.6, 19.2, 17.1, 12.2, 13.3, 13.7, 14.4, 17.1, 17.0, 18.0, 14.8, 9.8, 11.6, 13.5, 11.8, 10.2, 14.1, 14.1, 14.9, 13.0, 14.5, 12.3, 14.9, 14.7, 11.3, 10.2, 8.8, 1.1, 0.1, 3.8, 2.2, 7.9, -0.8, 8.2, 9.9, 7.6, 4.0, -1.0, 1.8, 5.6, 8.0, 9.4, 11.6, 8.4, 3.6, 4.4, 2.9, 4.2, 0.6, -6.2, -1.8, 2.3, 1.9, 4.8, 4.7, 5.8, 2.0, -1.7, -0.7, -4.3, -7.9, -9.7, -7.2, -4.9, 0.2, 0.3, -4.7, -6.2, -5.7, -0.5, 2.3, 2.9, 1.8, -9.5, -5.2, 2.4, -2.0, -0.8, -4.7, -4.2, -6.4, -2.3, 1.5, 5.2, -1.0, 3.9, 1.1, 1.1, -0.6, 3.2, 2.5, 1.4, -2.2, -5.7, -3.8, -5.4, -0.5, 5.1, 4.7, 7.3, 3.4, 1.2, 2.4, -0.4, 2.1, 0.1, 4.6, -4.4, -1.2, 2.4, 2.5, 3.0, 9.5, 9.8, 6.8, 6.4, 7.4, 9.4, 6.6, 6.5, 8.4, 12.7, 11.9, 9.7, 9.6, 8.6, 7.9, 9.0, 3.5, 4.5, 4.6, 5.8, 8.2, 11.8, 14.8, 11.8, 11.5, 12.0, 14.9, 12.7, 12.9, 12.9, 13.5, 13.0, 12.7, 13.1, 17.0, 10.4, 8.9, 10.8, 12.7, 14.8, 14.3, 17.3, 15.8, 19.6, 17.8, 11.8, 9.6, 18.4, 12.8, 10.7, 14.3, 10.6, 19.4, 21.5, 18.3, 13.4, 12.8, 14.8, 18.7, 21.4, 25.0, 16.9, 22.3, 22.4, 20.2, 17.8, 18.2, 17.8, 24.3, 21.8, 14.9, 17.6, 21.2, 24.8, 17.3, 14.8, 21.2, 20.5, 22.8, 24.7, 23.7, 21.0, 20.5, 22.8, 26.3, 23.6, 24.6, 26.8, 21.8, 25.8, 21.8, 22.8, 24.6, 22.3, 22.3, 25.9, 30.1, 26.4, 20.8, 20.6, 27.1, 23.4, 26.2, 29.0, 29.0, 20.8, 25.4, 26.0, 29.9, 27.0, 24.0, 24.3, 23.8, 22.4, 23.2, 26.6, 26.7, 19.4, 26.8, 31.2, 23.6, 20.6, 29.9, 29.5, 26.2, 29.5, 30.4, 29.4, 30.6, 28.2, 29.8, 31.2, 32.3, 28.0, 26.6, 31.1, 31.5, 25.0, 24.6, 25.8, 27.5, 28.3, 29.0, 25.6, 27.4, 26.7, 29.8, 30.6, 31.8, 33.5, 33.4, 31.3, 29.7, 31.5, 32.7, 32.7, 33.0, 33.3, 30.5, 27.4, 33.5, 33.9, 34.4, 35.3, 34.2, 35.1, 30.0, 33.1, 32.8, 33.5, 30.3, 31.4, 30.3, 30.5, 28.0, 30.7, 32.0, 29.6, 26.1, 31.2, 33.4, 33.5, 30.3, 31.3, 31.3, 31.1, 30.0, 29.7, 32.2, 31.3, 31.4, 29.5, 24.9, 26.3, 22.8, 30.0, 28.9, 31.7, 25.6, 27.8, 30.0, 24.2, 28.0, 28.8, 27.9, 29.1, 22.3, 20.3, 27.5, 25.5, 22.3, 23.4, 24.2, 24.7, 27.2, 26.2, 25.1, 26.1, 19.4, 27.2, 27.9, 29.4, 26.0, 25.2, 23.9, 25.1, 25.8, 22.0, 20.7, 23.0, 21.9, 22.2, 25.2, 22.6, 21.1, 20.9, 18.4, 17.9, 22.7, 16.9, 23.7, 22.6, 19.5, 21.2, 21.6, 21.5, 16.0, 20.0, 20.4, 16.7, 21.4, 19.5, 17.2, 16.7, 17.3, 20.4, 16.8, 16.6, 13.8, 13.7, 16.4, 18.9, 15.3, 6.9, 14.6, 12.0, 12.3, 15.7, 15.1, 18.3, 16.6, 14.6, 16.9, 16.5, 14.4, 13.5, 8.3, 3.4, 6.4, 11.9, 13.8, 10.6, 12.1, 10.1, 11.0, 10.1, 10.6, 8.6, 11.0, 4.9, 1.6, 3.5, 2.6, 5.0, 7.6, 11.4, 13.0, 1.2, -5.1, -1.8, 1.7, 5.6, 7.0, 0.8, 2.5, -2.8, 0.4, 5.4, 4.2, -0.9, -0.1, -1.6, -3.2, 1.1, 2.0, 3.6, 0.4, -2.9, 2.6, 4.9, -3.2, -0.2, 3.6, 4.5, 7.9, 5.5, 3.5, 4.7, 4.0, 0.1, -0.8, -0.4, 2.2, 0.4, 0.6, 0.3, 0.6, -0.8, -2.4, -2.2, -0.4, -1.8, -3.0, 0.1, 1.1, 0.7, -0.8, 1.6, 3.6, 4.9, 6.0, 6.4, 5.5, 7.9, 4.5, 9.4, 12.5, 5.1, 1.6, -3.1, 0.5, -2.6, 2.3, 3.9, 2.1, 0.6, 6.3, 5.6, 10.6, 6.0, 6.9, 1.4, 0.0, 2.4, 5.0, 5.1, 3.3, 7.0, 8.4, 11.7, 6.2, 5.4, 7.6, 10.2, 5.7, 6.5, 14.2, 18.2, 18.2, 7.0, -0.8, 4.0, 6.8, 13.0, 9.2, 7.4, 8.1, 5.4, 7.0, 5.9, 2.2, 8.4, 6.2, 6.4, 8.9, 12.6, 17.8, 13.0, 1.5, 6.3, 13.8, 13.9, 15.3, 14.9, 14.7, 13.9, 12.9, 17.5, 13.1, 14.3, 16.7, 19.8, 11.2, 10.8, 17.3, 17.8, 19.2, 23.8, 21.1, 19.2, 12.3, 16.9, 10.1, 16.5, 17.5, 21.3, 21.9, 22.0, 19.6, 21.3, 20.9, 20.9, 24.7, 22.6, 19.8, 21.2, 22.4, 17.8, 20.5, 20.9, 25.5, 19.5, 19.2, 21.6, 22.0, 25.5, 24.6, 28.3, 30.2, 28.2, 26.5, 28.0, 29.4, 27.8, 28.2, 25.8, 30.7, 25.5, 18.3, 27.3, 24.4, 22.4, 25.8, 20.5, 23.6, 27.2, 21.1, 25.5, 27.4, 25.4, 24.2, 29.1, 30.5, 32.4, 30.8, 30.8, 25.7, 20.9, 26.8, 26.7, 27.6, 26.6, 24.3, 27.8, 30.6, 31.4, 30.7, 32.9, 35.0, 31.5, 30.6, 34.5, 34.1, 30.4, 32.3, 24.4, 30.6, 26.3, 29.8, 29.6, 33.2, 30.7, 34.0, 27.8, 29.3, 28.0, 24.3, 30.6, 26.8, 26.6, 34.2, 35.0, 34.7, 32.9, 27.2, 25.8, 30.4, 32.2, 30.4, 28.0, 28.0, 30.4, 28.4, 28.8, 31.1, 26.9, 28.7, 30.4, 32.5, 33.1, 32.4, 29.0, 27.4, 26.6, 27.5, 29.9, 30.0, 30.9, 32.1, 31.2, 30.8, 26.4, 28.3, 29.2, 22.8, 28.1, 29.0, 27.8, 27.8, 27.0, 22.7, 28.0, 27.9, 28.7, 22.0, 29.8, 26.3, 25.2, 27.1, 27.0, 23.0, 22.8, 27.5, 28.6, 23.2, 21.2, 25.1, 24.4, 26.5, 27.6, 26.0, 24.3, 21.1, 21.7, 22.7, 18.4, 20.9, 21.0, 21.8, 22.0, 22.0, 22.8, 20.8, 21.0, 22.1, 21.2, 22.9, 25.6, 20.4, 24.2, 22.4, 16.4, 9.4, 14.1, 18.6, 19.3, 19.6, 18.9, 17.4, 12.6, 17.2, 16.8, 16.9, 16.1, 16.7, 17.7, 18.1, 17.3, 17.2, 19.7, 20.8, 17.5, 16.4, 10.0, 7.7, 11.4, 12.9, 12.9, 11.6, 12.3, 16.9, 18.8, 18.9, 19.8, 20.6, 15.8, 12.0, 12.0, 9.6, 5.6, 5.6, 3.2, 0.5, 1.0, 1.2, 7.3, 7.0, 3.3, 0.5, 2.0, 2.7, 5.7, 5.0, 0.3, 0.6, 3.9, 4.9, 3.6, 9.9, 9.9, 4.6, 5.2, 8.4, 4.9, 3.6, 3.8, 4.3, 5.8, 6.3, 4.2, 2.0, 5.1, 8.6, 7.8, 10.3, 9.7, 12.5, 12.4, 10.6, -1.2, -5.5, 0.5, -0.9, 0.8, 0.8, -1.0, -7.1, -3.6, -2.8, -0.3, -3.3, -7.6, -8.8, -6.8, -1.9, -11.0, -8.1, 1.6, -3.4, -8.1, -8.9, -9.8, -6.7, -12.1, -10.6, -8.6, -5.3, -1.8, -2.0, -1.6, -4.8, -5.9, -4.2, -2.6, -3.8, -3.2, -0.4, 1.2, 2.5, 0.6, 1.3, 3.8, 4.7, 0.6, 2.0, 4.7, 3.9, 5.8, 4.7, 4.1, 3.3, 3.5, 4.9, 4.6, 8.2, 4.0, 6.3, 0.8, 2.2, 4.3, 10.6, 12.2, 9.2, 6.4, 7.0, 7.4, 8.2, 8.4, 4.4, 7.0, 10.4, 10.7, 13.1, 12.4, 12.5, 14.6, 13.4, 11.1, 13.7, 17.1, 15.0, 16.4, 7.0, 9.8, 13.2, 14.4, 16.1, 10.2, 9.2, 12.9, 19.2, 13.5, 14.8, 9.4, 19.5, 16.4, 9.9, 12.3, 5.9, 9.2, 13.3, 16.4, 16.3, 13.2, 17.6, 15.4, 18.4, 14.5, 15.5, 21.4, 22.8, 22.7, 17.3, 12.0, 16.6, 16.7, 19.5, 16.4, 15.6, 21.1, 18.4, 19.8, 20.2, 20.5, 12.9, 18.3, 20.9, 23.6, 25.9, 29.4, 26.9, 27.6, 25.5, 20.9, 15.6, 24.7, 22.5, 18.6, 26.3, 26.7, 20.8, 19.2, 23.0, 24.2, 18.2, 20.8, 16.8, 19.3, 22.9, 18.0, 19.7, 24.7, 28.7, 27.0, 24.3, 21.3, 27.0, 29.8, 27.3, 22.8, 20.0, 25.8, 26.8, 29.5, 30.1, 26.6, 26.4, 29.4, 23.6, 22.8, 24.9, 27.2, 28.8, 22.4, 26.7, 27.1, 25.5, 27.0, 29.7, 23.4, 23.3, 25.8, 28.2, 28.5, 29.4, 24.8, 29.4, 29.5, 23.0, 27.7, 26.9, 24.5, 29.7, 26.4, 26.2, 29.6, 28.3, 27.2, 25.0, 30.5, 33.1, 32.0, 27.0, 29.0, 26.2, 25.6, 25.6, 27.5, 28.2, 29.4, 27.2, 30.7, 30.8, 31.2, 32.0, 32.8, 31.8, 32.4, 32.9, 33.4, 33.2, 33.7, 31.5, 30.3, 31.5, 27.6, 29.8, 29.1, 26.8, 26.7, 28.8, 30.2, 26.2, 29.2, 24.3, 25.2, 29.6, 30.8, 33.2, 33.0, 28.2, 30.7, 24.7, 31.6, 25.8, 27.8, 27.5, 28.0, 29.4, 28.6, 25.1, 26.8, 29.6, 30.2, 30.1, 29.6, 30.0, 28.6, 24.1, 24.4, 25.6, 24.4, 25.8, 24.9, 23.3, 23.0, 25.5, 17.8, 21.4, 20.4, 21.8, 23.6, 22.2, 19.1, 22.2, 23.8, 24.4, 17.6, 19.8, 19.6, 18.1, 20.8, 21.5, 22.5, 23.1, 23.2, 15.5, 22.0, 22.8, 19.7, 13.0, 14.4, 17.0, 17.1, 14.8, 16.9, 18.4, 20.6, 19.6, 15.6, 20.4, 21.8, 20.2, 20.0, 18.8, 17.4, 17.3, 17.7, 17.6, 20.5, 12.1, 12.7, 9.0, 6.4, 6.2, 12.9, 14.7, 16.3, 16.5, 10.7, 12.7, 11.6, 14.9, 14.5, 13.3, 12.8, 10.8, 8.6, 9.8, 7.8, 2.0, 5.3, 1.7, 1.0, 3.8, 5.4, 7.5, 9.2, 8.0, 5.2, 6.8, 6.5, 2.4, 2.6, 3.2, 3.7, 7.8, 10.6, 9.9, 10.9, 8.3, 4.8, -0.6, 1.9, 6.3, 1.7, 9.6, 12.2, 9.1, -1.6, -6.2, -4.8, 2.3, 7.2, 1.9, 5.3, -1.2, 2.7, 1.0, 0.9, 2.8, 4.6, 2.4, 2.8, 6.8, 6.1, 7.2, 10.0, 5.1, 4.4, 8.0, 5.4, 4.3, -0.9, -1.9, 1.5, 1.8, 3.7, 5.3, 5.1, 5.4, 5.8, 7.6, 7.1, 4.1, 1.7, -2.8, -4.0, -2.5, -1.8, 0.6, 4.0, 1.4, 3.2, 1.4, 1.6, 1.2, -3.5, -9.2, -6.4, -2.6, -3.2, 0.0, -2.2, -0.7, 0.2, -0.7, -2.9, 0.6, 2.4, 5.3, 5.2, 5.8, 5.0, 5.7, 6.5, 7.7, 9.6, 10.2, 9.8, 10.0, 9.6, 9.4, 10.0, 9.8, 9.6, 9.4, 12.4, 7.3, 6.4, 0.0, 2.8, 5.4, 8.8, 5.2, 5.2, 6.2, 7.3, 8.4, 5.5, 6.4, 8.4, 6.8, 7.8, 13.8, 17.7, 17.0, 17.3, 19.3, 18.0, 22.7, 18.2, 12.4, 8.1, 9.8, 17.2, 16.8, 18.9, 20.5, 21.4, 19.6, 16.8, 15.7, 20.8, 17.1, 17.0, 22.7, 20.6, 18.6, 22.8, 25.4, 14.8, 16.7, 19.9, 23.8, 23.3, 23.0, 13.6, 12.9, 18.5, 21.9, 23.0, 25.0, 26.0, 27.8, 27.5, 21.0, 21.3, 22.8, 23.7, 25.9, 28.5, 29.2, 23.3, 23.3, 27.9, 28.1, 27.0, 21.4, 21.6, 25.0, 25.3, 27.4, 25.0, 24.9, 25.4, 26.6, 28.9, 24.8, 19.9, 17.8, 24.2, 24.4, 26.4, 26.2, 22.9, 27.7, 22.4, 27.2, 27.8, 26.3, 20.8, 22.6, 24.6, 28.8, 29.4, 24.2, 23.3, 26.2, 26.6, 29.1, 30.0, 29.5, 31.2, 32.4, 33.4, 32.8, 33.0, 24.4, 24.0, 25.6, 29.8, 26.2, 26.2, 26.1, 25.5, 24.6, 28.8, 30.1, 30.4, 27.3, 25.9, 29.0, 27.9, 24.2, 29.0, 28.6, 28.9, 28.7, 29.0, 25.0, 29.8, 32.1, 32.4, 33.2, 33.6, 30.8, 28.6, 30.8, 34.5, 34.4, 30.8, 31.8, 32.2, 29.5, 26.8, 27.6, 28.2, 29.6, 26.2, 31.0, 33.0, 31.2, 30.0, 27.4, 34.4, 33.7, 34.2, 30.9, 32.0, 32.9, 31.0, 24.4, 29.3, 29.8, 29.2, 29.3, 30.3, 30.5, 24.8, 24.8, 23.9, 26.8, 24.8, 29.3, 28.0, 30.0, 22.1, 26.6, 28.1, 28.8, 27.3, 26.2, 21.7, 22.0, 25.1, 24.4, 18.2, 22.4, 23.3, 24.0, 23.6, 25.0, 24.4, 24.7, 23.3, 18.6, 22.2, 23.0, 24.4, 25.9, 20.8, 22.2, 21.4, 20.6, 19.9, 20.4, 18.7, 17.9, 19.2, 22.0, 22.7, 19.9, 25.2, 25.1, 24.2, 20.1, 19.8, 17.5, 13.7, 16.9, 17.4, 13.2, 13.7, 14.0, 18.5, 19.7, 19.4, 17.1, 15.3, 14.2, 13.4, 13.6, 14.5, 14.4, 14.8, 12.2, 13.2, 14.8, 15.0, 15.6, 8.6, 6.6, 5.1, 6.3, 9.7, 10.8, 11.6, 11.3, 8.1, 13.3, 10.6, 8.6, 11.9, 6.9, 4.2, 11.8, 13.2, 15.4, 10.5, 5.3, -3.4, -0.5, 1.2, 4.2, 6.6, 6.1, 2.2, 8.2, 6.2, 2.2, -1.7, -2.6, 0.1, 4.8, 3.6, 7.3, 6.8, 2.4, 2.4, 8.5, 11.0, 12.2, 9.4, 6.4, 5.4, 5.3, 8.7, 8.7, 6.1, 5.3, 2.2, 0.7, -3.0, 0.9, -5.6, 0.8, 0.0, 3.8, 0.2, 0.2, 1.2, -9.2, -11.2, -6.8, -2.5, 0.4, -3.5, 0.2, 1.4, 2.9, 1.4, 0.6, 2.1, -1.4, -2.8, 0.8, 3.0, 2.3, 2.1, 4.8, 7.4, 3.9, -3.1, -5.2, -5.6, -1.7, -3.6, 1.6, 7.0, 6.6, 7.2, 5.3, 6.4, 7.0, 5.4, 0.8, 3.1, 6.4, 7.8, 9.7, 10.4, 7.5, 3.1, 3.8, 2.9, -1.5, -0.2, 1.0, 3.3, 4.2, 5.6, 7.3, 5.3, 1.6, 1.4, 0.2, 3.4, 8.6, 3.2, 3.8, 6.6, 7.0, 10.0, 14.5, 11.4, 3.4, 15.3, 11.6, 5.6, 8.1, 10.7, 11.8, 10.4, 14.8, 5.6, 5.9, 6.6, 6.6, 10.4, 13.2, 11.7, 9.2, 9.4, 11.8, 11.6, 11.2, 13.1, 15.6, 12.6, 10.8, 7.3, 11.5, 14.5, 18.0, 18.6, 18.8, 21.3, 23.8, 19.2, 10.0, 14.6, 17.4, 15.0, 20.0, 23.8, 27.0, 25.6, 20.2, 12.5, 12.8, 17.4, 17.6, 13.0, 17.2, 21.3, 16.8, 16.2, 21.8, 23.6, 22.3, 24.0, 24.8, 26.1, 24.6, 26.2, 24.8, 23.0, 22.2, 23.1, 28.3, 24.8, 21.6, 26.0, 26.2, 20.4, 25.0, 26.4, 21.8, 29.0, 31.0, 27.9, 27.2, 27.8, 26.6, 19.8, 23.0, 26.0, 27.4, 29.2, 27.8, 29.8, 28.2, 31.0, 28.4, 31.3, 30.4, 31.4, 21.6, 24.8, 26.0, 26.6, 30.9, 29.1, 29.9, 31.0, 33.4, 34.6, 31.3, 33.6, 29.3, 29.9, 30.0, 31.4, 35.2, 34.6, 24.1, 29.2, 29.2, 28.5, 28.9, 25.0, 24.2, 24.8, 28.4, 29.2, 25.2, 25.6, 25.0, 26.3, 31.4, 30.0, 24.8, 26.2, 26.0, 29.0, 28.2, 30.9, 29.3, 29.0, 31.1, 27.3, 29.4, 30.3, 31.0, 30.6, 25.4, 24.6, 29.6, 25.5, 24.7, 27.5, 29.8, 28.4, 24.4, 30.2, 30.4, 27.4, 30.5, 30.0, 28.8, 29.0, 29.4, 27.5, 27.8, 30.4, 28.5, 26.0, 30.5, 30.4, 30.6, 30.0, 28.1, 24.8, 28.0, 26.8, 27.6, 27.0, 26.8, 26.6, 23.4, 25.5, 26.6, 24.5, 25.6, 26.8, 27.8, 27.6, 27.0, 26.6, 26.7, 27.3, 26.8, 27.2, 28.2, 31.0, 28.8, 29.6, 30.2, 28.2, 26.4, 20.6, 21.2, 24.1, 27.1, 27.2, 29.2, 27.3, 26.7, 24.2, 22.5, 19.8, 19.3, 21.4, 21.4, 25.2, 23.4, 15.9, 14.8, 12.8, 14.7, 16.8, 17.8, 19.4, 21.3, 21.2, 19.8, 19.2, 18.8, 20.5, 22.5, 21.8, 19.8, 22.8, 20.0, 20.2, 17.3, 15.5, 16.6, 10.7, 17.3, 20.8, 15.5, 14.4, 11.4, 7.2, 9.3, 15.6, 14.8, 8.6, 7.4, 10.6, 9.6, 12.1, 12.0, 11.6, 6.6, 12.7, 15.0, 12.2, 7.4, 0.4, 4.6, 12.8, 9.6, 0.3, -0.1, 3.4, 9.6, 7.0, -2.8, -2.7, 5.4, 9.1, 8.6, 12.1, 12.6, 6.7, 3.2, 5.8, -2.2, -11.3, -8.6, -2.2, 4.0, 8.2, 9.2, 6.5, 4.0, -9.2, -4.8, 2.0, 3.0, 4.2, 2.6, -4.2, -4.2, -1.0, 2.0, 2.0, 2.1, 2.7, 3.9, 1.0, -2.2, 4.9, 5.6, 1.1, 4.7, 2.3, -0.2, 5.7, 8.8, -0.1, -6.6, -7.8, -8.6, -6.3, -3.2, -5.2, -6.2, 0.6, -1.6, -4.8, -0.9, 1.0, 0.8, 8.6, 7.8, 11.8, 5.6, -3.6, -2.4, -4.0, 0.6, 4.4, 10.6, 9.2, -1.4, -2.4, 4.7, 7.5, 7.5, 7.6, 6.7, 4.0, 7.6, 11.1, 10.2, 1.0, -5.6, 1.6, 4.2, 9.6, 10.5, 10.3, 10.1, 12.0, 13.6, 11.6, 10.0, 5.1, 3.1, 5.6, 5.8, 10.3, 11.7, 14.0, 11.8, 11.4, 10.3, 8.2, 12.4, 6.8, 3.0, 3.8, 11.4, 11.0, 6.7, 5.4, 6.4, 7.2, 11.4, 11.7, 11.1, 11.0, 10.0, 13.3, 14.8, 15.8, 12.8, 12.8, 15.8, 16.8, 14.8, 17.1, 16.4, 12.0, 16.2, 19.7, 24.6, 15.3, 7.8, 12.8, 15.1, 16.3, 19.0, 18.8, 26.4, 25.8, 26.4, 25.3, 18.9, 21.8, 16.6, 18.4, 19.6, 19.3, 11.8, 14.3, 21.4, 22.6, 25.2, 17.0, 19.5, 24.0, 20.2, 25.7, 26.7, 26.9, 21.0, 23.7, 26.5, 24.2, 26.7, 28.6, 24.4, 27.5, 27.0, 25.6, 29.3, 31.6, 30.4, 21.9, 22.2, 27.3, 27.6, 28.2, 28.8, 26.5, 23.4, 18.4, 17.4, 22.4, 24.1, 26.1, 25.6, 26.1, 24.0, 25.3, 25.3, 25.5, 27.0, 29.8, 29.6, 27.8, 20.9, 27.1, 29.4, 28.4, 27.6, 25.4, 23.4, 23.1, 23.3, 28.1, 28.6, 24.9, 20.5, 26.0, 27.5, 27.5, 30.6, 27.8, 22.5, 25.7, 27.7, 27.3, 26.6, 29.3, 30.5, 26.8, 23.8, 24.6, 24.4, 27.0, 24.7, 27.1, 25.2, 27.1, 24.4, 25.0, 25.8, 26.7, 31.4, 30.0, 31.3, 28.7, 29.4, 31.6, 27.9, 31.4, 32.8, 32.8, 33.8, 30.3, 34.7, 32.8, 32.9, 29.8, 32.0, 32.1, 32.2, 34.0, 33.7, 27.3, 29.2, 26.4, 21.3, 30.6, 31.8, 31.8, 30.7, 29.4, 31.2, 32.6, 31.8, 33.0, 33.3, 32.2, 28.4, 19.0, 24.2, 26.6, 19.8, 22.1, 23.7, 27.8, 28.2, 26.4, 23.6, 26.4, 24.6, 22.0, 22.7, 25.7, 27.2, 25.8, 25.4, 25.3, 25.8, 22.3, 25.6, 24.2, 22.2, 22.0, 24.8, 25.5, 25.9, 27.0, 24.2, 25.2, 24.6, 21.2, 21.1, 20.7, 22.4, 23.8, 20.1, 26.0, 22.8, 22.1, 22.8, 21.2, 17.9, 14.4, 16.0, 17.2, 18.2, 15.0, 16.3, 18.1, 20.0, 20.4, 14.3, 22.2, 18.4, 5.6, 14.3, 18.2, 18.8, 17.0, 15.4, 15.4, 17.1, 19.0, 14.0, 14.7, 16.6, 16.9, 15.2, 15.8, 20.6, 14.1, 7.3, 6.2, 6.0, 12.2, 11.6, 9.2, 2.2, -3.0, 1.6, 7.8, 12.2, 11.4, 2.8, 3.6, 7.4, 10.4, 1.3, -4.8, -1.0, 5.8, 10.6, 6.4, -0.5, 4.3, 6.9, -1.0, 4.0, 5.4, 3.0, -4.5, -0.9, 3.1, 5.2, 6.5, 9.4, 10.4, 3.6, 1.4, -0.7, 0.2, -2.4, -7.7, -8.8, -6.4, -5.1, -2.1, -1.6, 0.1, 1.5, -5.0, -6.1, -4.2, 0.8, 4.3, -0.4, -5.0, -3.8, -2.9, 0.6, 2.6, -0.1, -8.0, -11.8, -7.3, -4.0, 1.3, 6.2, 4.2, 6.9, 2.7, 3.5, 6.9, 7.0, 8.6, 10.1, 3.2, 2.6, -1.8, -2.9, -2.4, 0.1, -0.3, 4.8, 2.3, 1.0, 1.4, 3.4, 3.6, -3.5, -4.7, -5.4, -5.0, -2.7, -2.6, 4.1, -1.5, 0.7, 5.8, 6.8, 13.3, 2.8, 3.2, 4.2, 2.1, 2.7, 3.8, 8.2, 12.5, 10.4, 5.3, 1.1, 1.7, 1.2, 4.0, 7.4, 6.8, 9.6, 11.1, 12.1, 15.2, 13.6, 12.9, 10.6, 15.0, 13.1, 13.7, 10.8, 5.5, 4.2, 7.8, 12.6, 11.0, 11.4, 12.8, 15.9, 12.1, 10.6, 16.8, 21.2, 17.1, 8.4, 11.4, 13.0, 19.5, 11.8, 16.4, 14.8, 15.0, 16.4, 15.8, 21.2, 14.9, 15.5, 15.6, 18.1, 12.4, 10.8, 15.8, 22.1, 20.3, 21.9, 22.5, 24.0, 17.3, 22.5, 25.2, 21.4, 21.5, 24.5, 22.2, 21.8, 24.5, 26.0, 28.1, 22.6, 22.0, 21.6, 25.6, 28.5, 28.5, 27.3, 25.8, 24.6, 26.5, 26.5, 28.8, 29.1, 28.4, 27.6, 24.4, 28.4, 21.8, 24.4, 27.0, 26.8, 29.0, 26.2, 26.3, 23.6, 25.4, 22.2, 24.6, 28.0, 28.0, 28.6, 23.0, 18.0, 24.6, 24.2, 25.2, 26.3, 28.0, 29.7, 29.7, 24.7, 29.2, 26.7, 25.5, 27.4, 28.4, 27.4, 27.2, 28.4, 29.0, 23.6, 27.3, 27.6, 27.9, 22.1, 21.4, 24.1, 24.4, 27.6, 26.8, 27.2, 30.1, 31.6, 31.3, 28.2, 24.5, 28.2, 29.4, 29.0, 30.4, 32.4, 34.7, 30.5, 28.2, 32.8, 30.0, 27.0, 33.9, 35.0, 35.0, 32.6, 32.7, 32.2, 31.0, 32.8, 31.2, 31.6, 27.0, 32.2, 32.6, 31.1, 31.8, 32.8, 33.6, 31.2, 30.1, 29.2, 30.5, 32.5, 27.4, 26.0, 30.9, 29.4, 29.1, 31.4, 32.4, 32.4, 29.8, 31.6, 32.2, 29.4, 30.5, 27.5, 28.2, 28.7, 29.8, 31.4, 25.2, 25.4, 22.4, 26.6, 27.6, 30.3, 27.5, 29.1, 25.7, 24.0, 24.9, 25.7, 25.5, 26.2, 25.4, 26.0, 26.2, 25.7, 26.7, 26.4, 24.2, 21.0, 24.2, 25.4, 26.4, 27.9, 25.4, 26.8, 25.4, 18.2, 21.0, 22.6, 23.6, 22.7, 22.2, 22.9, 23.7, 23.2, 22.8, 22.3, 15.2, 21.6, 15.2, 17.1, 15.4, 18.4, 20.0, 22.6, 18.9, 19.7, 20.7, 22.2, 22.0, 21.8, 21.5, 22.0, 19.6, 18.0, 20.2, 14.9, 13.0, 16.4, 13.8, 16.7, 15.6, 17.4, 19.2, 18.7, 5.1, 10.4, 12.2, 6.2, 8.4, 8.5, 6.2, 9.2, 13.2, 15.2, 13.8, 11.9, 5.6, 7.2, 9.4, 11.0, 10.2, 14.4, 8.8, 9.6, 9.2, 5.0, 2.0, 4.9, 4.4, 4.3, 2.4, 0.0, -2.4, -6.6, -5.4, -4.8, -0.6, -1.2, 3.2, 2.5, -0.6, 4.2, 3.9, 6.4, 5.6, 2.3, -4.8, -4.8, -5.8, -3.4, -3.8, -2.4, -4.8, -9.0, -10.6, -7.0, -1.2, 0.5, 5.1, 0.8, 6.8, 8.0, 8.2, 1.2, -2.6, 1.1, 4.2, 3.0, 3.2, 1.6, -5.9, -9.0, 1.9, 4.1, -4.0, -5.0, -2.8, -1.8, -1.4, -1.4, -1.4, -1.8, -1.2, -1.4, 2.2, 1.0, -3.1, -6.2, -5.5, -3.6, -1.3, -3.8, -3.1, -2.4, -1.4, -2.2, -2.3, 0.4, -2.1, 0.9, 4.6, 4.0, 5.7, 5.6, 5.8, 5.0, -4.4, -5.2, -4.0, -1.8, 0.7, 0.7, 2.0, 4.6, 8.7, 12.0, 3.2, 0.8, 4.6, 5.6, 11.9, 9.2, 6.4, 3.2, 3.6, 4.1, 6.3, 7.7, 6.8, 8.2, 9.3, 7.0, 6.5, 7.4, 10.2, 14.3, 16.8, 14.9, 13.9, 13.4, 12.2, 11.4, 11.6, 12.0, 16.4, 15.7, 11.9, 14.9, 14.8, 17.2, 15.6, 20.2, 12.6, 19.6, 22.6, 13.4, 13.1, 15.7, 14.6, 14.4, 15.0, 17.2, 20.1, 20.3, 20.1, 21.5, 20.9, 21.7, 22.0, 21.3, 22.2, 23.9, 14.4, 20.4, 20.6, 21.9, 22.2, 23.9, 26.5, 19.3, 18.0, 23.0, 24.2, 22.5, 23.2, 24.8, 25.2, 24.2, 23.0, 17.0, 21.8, 26.4, 28.2, 28.0, 23.3, 17.7, 24.8, 26.5, 24.4, 24.2, 24.8, 26.2, 22.3, 17.5, 16.9, 20.6, 19.0, 16.9, 25.8, 23.2, 21.4, 24.9, 26.2, 28.0, 28.4, 27.0, 25.7, 21.1, 15.6, 23.4, 27.0, 28.6, 30.8, 25.9, 25.7, 25.2, 24.2, 25.2, 24.3, 28.2, 27.3, 28.0, 31.7, 31.9, 31.4, 30.0, 29.0, 31.0, 31.4, 31.3, 31.8, 24.6, 22.0, 23.6, 28.5, 24.8, 26.9, 28.8, 29.5, 29.6, 30.1, 31.8, 26.6, 26.6, 24.4, 26.4, 25.3, 25.1, 26.2, 29.8, 29.6, 30.4, 29.7, 31.2, 30.6, 34.2, 33.0, 32.4, 30.2, 29.8, 32.1, 33.7, 34.0, 33.6, 32.2, 29.1, 28.8, 29.3, 30.0, 30.9, 31.3, 30.0, 30.9, 31.2, 25.8, 27.4, 29.0, 30.4, 28.1, 25.9, 30.5, 24.6, 27.4, 29.2, 29.5, 29.7, 29.1, 32.2, 27.6, 25.8, 26.3, 27.9, 28.6, 28.8, 28.2, 20.0, 25.8, 27.8, 30.2, 29.3, 28.0, 29.0, 23.0, 28.4, 29.4, 29.6, 30.5, 30.8, 31.4, 26.2, 21.6, 22.6, 22.0, 23.0, 25.8, 25.9, 26.8, 26.6, 24.6, 19.1, 22.2, 23.1, 23.6, 19.7, 27.4, 26.0, 24.5, 16.6, 20.1, 16.7, 19.2, 19.2, 21.0, 18.8, 20.2, 17.9, 12.4, 12.4, 17.3, 16.2, 19.0, 21.0, 21.0, 21.6, 14.2, 12.4, 16.1, 15.1, 13.6, 15.6, 15.9, 16.3, 16.8, 19.6, 20.6, 18.2, 13.9, 17.2, 18.0, 17.3, 6.6, -0.1, 2.8, 8.2, 11.3, 8.0, 9.4, 9.8, 7.2, 12.3, 15.3, 13.2, 14.0, 15.6, 13.8, 18.1, 15.7, 17.2, 14.5, 4.2, 8.4, 13.4, 13.6, 12.0, 11.6, 13.4, 14.6, 15.8, 15.0, 16.6, 17.7, 12.0, 14.5, 11.4, 7.2, 6.8, -3.6, -1.9, 5.4, 6.2, 9.4, 7.0, 0.5, -4.4, 0.4, 4.3, 5.8, 5.3, 1.5, 4.0, 0.5, 2.0, -2.6, -6.8, -8.0, -5.2, -2.2, -2.0, -3.8, -4.6, -1.4, 0.9, 4.3, -0.8, -4.0, -1.2, -3.5, -3.4, 1.0, 1.6, 6.5, 10.7, 7.8, 5.6, 7.8, 4.9, 2.4, 3.2, 4.1, 0.6, 0.6, -1.2, -1.4, 1.1, -0.5, -5.0, -0.7, -3.0, -8.4, -3.4, -0.4, 4.2, 4.6, 8.4, 10.4, 10.7, 7.2, 4.6, 0.9, 2.6, 4.4, 2.8, 4.6, 0.7, -1.2, -3.0, -1.9, -5.1, -5.2, -0.8, 0.0, -2.5, 0.2, 2.7, 3.2, 1.6, 0.8, 5.0, 6.7, 6.6, 7.9, 5.6, 6.2, 2.0, 4.2, 6.0, 5.1, 4.5, 6.2, 5.6, 11.7, 8.0, 3.8, 6.5, 10.1, 14.7, 15.4, 16.1, 20.4, 15.2, 10.2, 11.6, 15.0, 12.7, 13.7, 18.0, 9.4, 9.2, 10.2, 14.2, 8.8, 11.2, 13.0, 19.4, 21.6, 19.7, 17.6, 16.0, 10.2, 13.2, 14.2, 21.2, 17.0, 17.0, 23.3, 22.2, 20.6, 13.4, 19.8, 20.0, 22.2, 16.8, 13.6, 21.6, 24.6, 26.0, 20.0, 17.6, 17.7, 19.4, 21.9, 26.0, 23.7, 22.8, 23.6, 25.3, 26.4, 21.2, 19.0, 22.0, 19.6, 18.3, 22.2, 22.0, 21.2, 24.6, 22.4, 22.0, 21.1, 17.8, 19.0, 17.2, 20.7, 24.8, 27.5, 22.0, 22.6, 25.1, 17.1, 21.2, 22.8, 25.1, 24.9, 24.3, 20.8, 22.7, 25.4, 27.7, 25.2, 25.1, 26.0, 24.5, 25.0, 27.5, 26.3, 23.4, 27.9, 27.9, 32.3, 26.0, 27.1, 27.9, 31.2, 31.4, 28.4, 29.2, 31.5, 32.3, 25.2, 31.4, 26.0, 19.1, 29.4, 25.6, 24.7, 27.0, 27.4, 28.0, 24.0, 23.4, 30.1, 25.9, 25.4, 27.8, 28.5, 28.0, 30.7, 29.3, 28.0, 27.5, 30.2, 29.0, 28.4, 27.7, 30.0, 26.1, 24.7, 24.8, 29.6, 30.2, 26.7, 29.2, 29.3, 30.7, 29.7, 30.7, 28.0, 27.4, 30.0, 30.5, 32.2, 32.9, 31.3, 27.8, 30.6, 31.6, 29.3, 28.2, 28.2, 28.0, 28.2, 27.4, 28.2, 30.6, 28.2, 25.9, 27.2, 30.0, 26.8, 26.1, 20.8, 23.6, 29.2, 25.6, 24.7, 27.5, 28.6, 28.2, 27.7, 26.7, 21.8, 26.2, 28.1, 27.5, 23.8, 26.9, 21.2, 24.6, 22.3, 24.5, 26.7, 26.6, 22.9, 23.4, 20.1, 15.4, 20.5, 17.5, 19.0, 19.2, 19.8, 19.5, 22.6, 19.2, 10.5, 14.2, 17.7, 19.5, 19.4, 20.4, 23.5, 21.1, 18.3, 20.8, 24.4, 23.6, 24.4, 23.8, 21.4, 19.0, 20.0, 16.4, 16.8, 17.9, 20.3, 19.7, 15.4, 12.4, 10.6, 8.2, 7.4, 8.2, 13.4, 15.2, 16.3, 16.9, 6.4, 12.8, 14.8, 17.8, 14.1, 14.1, 6.9, 2.2, 3.4, 8.4, 8.9, 6.1, 7.9, 6.2, 2.4, 3.0, 7.6, 10.8, 7.7, 4.4, 7.2, 7.0, 5.9, -2.8, 5.1, 7.4, 13.6, 8.3, -3.3, 0.4, 3.5, 6.8, 4.6, -5.4, -1.3, 0.1, -0.1, 0.5, -0.5, 1.5, 1.9, 7.6, 5.6, 0.9, 3.5, 3.0, 0.3, -6.0, 0.2, 1.4, -0.5, 0.5, 3.0, 2.6, 0.0, -9.4, -9.2, 2.2, 0.4, 0.6, -3.0, -2.0, 0.9, 5.2, -5.3, -6.1, -9.2, -7.0, -7.1, -3.3, -2.1, -0.3, 3.3, 5.4, -0.3, -0.5, 2.6, 4.9, 6.2, 8.9, 7.8, 6.5, 2.5, 3.7, 2.4, 3.3, -2.0, -0.1, 2.6, 4.8, 3.7, -5.5, -0.6, 6.8, 9.4, 7.6, 5.1, 4.8, 6.6, 10.0, 11.5, 12.0, 7.1, 1.8, 1.8, 8.0, 3.8, 7.8, 9.8, 4.2, 1.8, 0.8, 1.1, 4.8, 0.4, 2.0, 1.6, 2.8, 2.9, 2.2, 2.6, 1.3, 1.8, 2.2, 3.6, 5.8, 3.0, 2.0, 1.0, 0.8, 3.4, 4.4, 3.2, 2.4, 6.3, 6.8, 11.0, 12.0, 15.2, 16.0, 14.1, 11.4, 15.6, 16.4, 17.0, 15.2, 13.4, 14.6, 11.6, 15.2, 18.3, 19.2, 17.2, 12.4, 12.5, 14.8, 17.1, 20.0, 21.8, 17.0, 19.0, 16.7, 22.2, 21.6, 24.0, 16.8, 21.8, 22.0, 23.8, 23.0, 22.8, 26.0, 25.0, 18.6, 25.4, 27.2, 26.6, 27.0, 28.2, 25.2, 25.9, 20.5, 18.8, 21.7, 22.6, 26.5, 28.0, 27.3, 25.4, 25.7, 23.2, 20.8, 24.2, 25.3, 27.5, 29.8, 21.4, 16.8, 21.8, 25.7, 29.4, 29.4, 22.4, 25.5, 24.4, 26.2, 25.2, 25.6, 27.4, 30.0, 26.2, 22.2, 27.0, 29.0, 28.6, 29.6, 28.4, 27.0, 19.2, 23.0, 18.0, 19.2, 21.4, 21.7, 24.5, 25.8, 26.7, 20.6, 25.6, 27.6, 29.2, 25.4, 22.8, 25.0, 29.4, 26.0, 21.4, 22.4, 19.2, 27.4, 26.8, 20.2, 25.0, 27.9, 26.8, 29.0, 30.0, 29.2, 22.7, 23.7, 22.2, 28.0, 26.1, 32.2, 28.7, 31.8, 28.8, 28.2, 29.6, 29.3, 26.9, 25.3, 27.0, 25.8, 30.2, 29.0, 27.4, 30.5, 26.7, 23.4, 31.1, 32.4, 32.2, 33.0, 33.8, 35.0, 33.9, 33.4, 32.0, 31.0, 27.2, 28.8, 30.2, 32.0, 33.8, 31.8, 31.9, 27.4, 27.0, 28.3, 24.3, 25.5, 30.8, 27.4, 25.6, 28.3, 29.4, 29.0, 24.3, 30.4, 31.2, 31.2, 30.6, 25.6, 26.0, 25.0, 23.8, 25.8, 26.4, 26.0, 27.9, 22.1, 24.5, 27.2, 29.0, 27.4, 26.9, 26.0, 26.0, 23.4, 25.0, 25.2, 21.4, 16.2, 18.2, 22.6, 22.8, 23.3, 23.3, 24.9, 25.4, 25.6, 24.8, 21.7, 21.4, 21.0, 21.2, 23.7, 24.0, 24.0, 24.5, 23.8, 23.0, 22.1, 21.3, 22.0, 21.5, 20.4, 18.1, 19.5, 9.6, 10.5, 12.7, 9.6, 9.8, 15.7, 16.4, 17.4, 15.9, 15.0, 14.8, 12.8, 13.0, 15.2, 18.2, 13.6, 8.2, 12.8, 16.0, 7.2, 1.8, 8.6, 12.4, 9.7, 14.4, 15.2, 11.8, 4.9, 4.2, 6.7, 6.5, 11.9, 10.4, 2.4, -4.2, -1.9, 1.8, 3.6, 2.0, 2.8, 3.5, 6.8, 1.7, -1.2, 0.9, 5.3, 4.8, 7.2, 0.4, 0.7, 7.8, 10.2, 11.6, 3.0, 2.4, 3.2, 3.5, 5.6, 5.0, -1.3, -3.6, -4.4, -2.2, 0.6, 1.8, 3.1, 4.4, 3.2, 1.8, -0.6, -3.6, -9.2, -3.2, 0.8, 2.8, 3.0, 3.4, 3.2, 5.1, 2.2, 0.2, 5.8, 8.0, 8.4, 9.2, 7.8, 6.2, 6.3, 4.4, 3.4, 3.0, -0.6, -1.1, -4.4, -5.1, -4.1, -1.6, -3.4, -4.1, -1.4, -2.5, -2.9, 0.4, 1.3, -1.4, 0.1, -1.0, -1.6, 2.9, 5.0, 6.0, 5.2, 5.0, 11.6, 2.3, 1.4, 3.9, 8.3, 5.8, 13.2, 6.2, -0.2, 7.6, 12.2, 9.2, 6.5, 8.0, 5.2, 2.4, 3.2, 0.4, -4.0, -1.8, 0.7, 1.0, -0.6, 2.6, 1.6, 1.7, 4.0, 4.6, 6.2, 8.0, 6.2, 11.6, 14.2, 12.0, 9.2, 9.8, 3.2, 9.8, 8.6, 12.0, 20.2, 12.0, 15.0, 17.8, 9.6, 11.4, 10.5, 13.6, 11.0, 20.0, 21.6, 12.0, 11.6, 10.6, 17.2, 18.8, 13.2, 17.2, 19.2, 16.2, 17.4, 18.2, 16.5, 20.2, 21.2, 20.1, 22.3, 17.2, 21.8, 22.0, 24.1, 15.0, 19.0, 21.2, 20.6, 20.2, 14.6, 16.9, 17.7, 15.6, 19.2, 19.6, 21.2, 22.0, 24.2, 24.3, 23.7, 25.4, 23.2, 18.7, 22.7, 21.2, 24.7, 24.5, 24.6, 28.7, 31.2, 19.1, 23.4, 26.6, 20.2, 20.8, 19.0, 26.5, 25.6, 19.0, 26.0, 20.0, 22.0, 22.6, 25.2, 28.0, 30.4, 27.4, 23.4, 24.2, 24.6, 27.4, 25.6, 27.0, 27.0, 27.8, 29.5, 27.0, 28.3, 27.9, 26.5, 28.7, 28.6, 29.6, 24.8, 24.9, 26.8, 27.8, 22.8, 26.4, 25.3, 26.5, 28.8, 28.7, 29.2, 26.2, 25.0, 27.8, 24.6, 25.3, 27.3, 30.0, 27.2, 28.1, 28.0, 28.3, 28.8, 25.5, 25.5, 23.3, 29.4, 28.8, 28.9, 25.2, 26.0, 30.8, 28.0, 25.9, 26.9, 32.0, 31.2, 33.2, 33.2, 31.7, 26.1, 28.9, 30.2, 30.9, 32.2, 26.8, 27.3, 28.5, 30.0, 28.5, 27.7, 28.6, 27.2, 23.6, 20.3, 24.9, 27.8, 23.1, 27.2, 29.2, 26.8, 27.3, 28.2, 32.1, 32.4, 31.8, 28.4, 28.0, 28.1, 25.2, 24.0, 27.9, 29.6, 29.2, 27.9, 23.2, 24.9, 25.9, 26.0, 25.1, 26.7, 27.5, 28.8, 28.0, 27.0, 21.0, 24.3, 26.8, 28.0, 21.4, 22.4, 22.2, 22.2, 20.2, 20.8, 23.1, 21.2, 22.7, 19.6, 21.6, 21.9, 20.2, 19.5, 21.3, 22.6, 24.1, 22.8, 13.6, 13.8, 17.7, 20.0, 17.7, 20.6, 18.8, 20.9, 22.4, 22.7, 19.8, 15.6, 13.9, 12.4, 10.5, 13.1, 17.5, 16.6, 17.3, 18.2, 18.8, 18.4, 21.3, 20.6, 17.8, 16.2, 15.8, 13.0, 14.0, 11.2, 14.2, 15.3, 17.3, 15.4, 12.5, 13.8, 13.6, 13.1, 13.0, 15.3, 15.4, 12.6, 9.2, 10.0, 12.2, 13.8, 14.4, 12.7, 7.8, -1.0, 3.2, 8.9, 11.5, 6.4, 10.2, 8.7, -1.8, -0.8, -1.3, -0.2, 3.6, 4.0, -0.5, 1.7, 1.4, -2.4, 4.0, 10.4, 7.5, -3.6, -2.9, -3.2, -2.9, 0.1, 1.4, 2.6, 4.4, 1.2, 0.4, 3.7, 8.3, 5.6, 2.0, 0.4, 1.8, 2.7, 2.0, 7.3, 6.3, 6.9, 11.5, 9.6, 13.0, 7.2, 9.0, 6.4, 7.2, 3.8, 5.8, 7.6, 6.9, 5.0, 3.2, -0.9, 2.4, 5.1, 3.8, -2.0, -2.8, 0.1, -1.4, 3.9, 5.0, 3.2, 0.4, 1.3, 1.0, 2.9, 1.3, 5.2, 6.0, 7.6, 8.4, 6.9, 2.7, 1.0, 1.4, 3.5, 3.4, 7.1, 7.0, 1.2, -0.5, 1.4, 2.2, 1.6, 2.5, 5.0, 4.9, 1.0, -1.5, -2.0, -0.7, 3.4, 6.5, 6.5, 6.9, 8.5, 10.5, 8.6, 9.0, 10.0, 8.7, 8.4, 8.2, 9.1, 12.6, 7.5, 12.4, 15.2, 12.2, 14.2, 11.8, 13.6, 9.6, 14.0, 14.6, 16.2, 15.7, 18.0, 12.2, 11.4, 4.7, 5.5, 9.0, 10.8, 15.3, 18.0, 20.1, 13.7, 14.4, 13.1, 13.0, 12.0, 16.0, 18.7, 16.2, 10.8, 15.0, 16.6, 23.4, 19.5, 19.8, 20.4, 20.3, 19.6, 23.5, 15.0, 18.8, 15.8, 22.6, 23.4, 21.4, 17.6, 15.8, 22.5, 18.0, 23.2, 22.9, 23.8, 18.0, 25.6, 25.6, 23.6, 24.2, 24.6, 18.8, 19.3, 16.9, 19.6, 22.2, 16.2, 21.4, 23.4, 23.9, 26.2, 25.0, 21.0, 20.4, 18.0, 24.2, 15.4, 20.5, 21.7, 26.7, 27.4, 28.7, 28.4, 29.3, 30.7, 26.2, 28.2, 29.0, 29.1, 27.5, 23.9, 25.8, 28.8, 23.4, 27.0, 28.5, 29.0, 28.2, 21.4, 27.9, 28.3, 28.4, 28.6, 29.0, 23.6, 26.4, 23.0, 29.8, 30.2, 28.4, 32.8, 24.8, 22.8, 30.7, 31.6, 25.2, 24.6, 25.8, 24.8, 28.2, 30.6, 30.6, 31.2, 32.2, 23.4, 30.6, 33.3, 32.8, 35.6, 35.2, 34.6, 34.2, 30.0, 26.4, 30.2, 29.8, 33.8, 32.9, 32.4, 31.8, 29.9, 29.2, 27.1, 26.3, 29.0, 27.6, 26.3, 27.6, 23.6, 25.9, 28.4, 28.8, 28.2, 30.6, 30.3, 30.4, 32.1, 24.2, 20.0, 28.3, 29.1, 29.3, 29.3, 28.4, 22.9, 28.9, 24.0, 25.0, 22.6, 23.2, 23.0, 25.6, 21.9, 23.8, 23.4, 24.4, 24.9, 23.8, 27.0, 24.5, 26.4, 26.2, 27.2, 24.2, 24.3, 26.1, 26.5, 25.2, 24.8, 24.8, 24.6, 24.9, 23.2, 22.0, 21.6, 19.8, 22.8, 24.4, 20.9, 19.7, 22.4, 20.6, 22.2, 17.1, 17.7, 21.6, 23.4, 23.5, 24.8, 26.0, 19.2, 14.8, 18.2, 20.3, 21.3, 20.8, 18.2, 20.0, 22.9, 24.3, 25.7, 19.0, 12.0, 15.0, 17.3, 18.4, 20.3, 12.9, 17.0, 16.0, 13.8, 11.8, 14.3, 18.4, 17.5, 18.7, 13.7, 11.1, 11.6, 14.5, 14.0, 15.5, 16.4, 13.2, 17.6, 15.2, 14.7, 9.0, 8.5, 5.5, 10.4, 11.0, -1.6, 1.2, 0.6, 0.1, -0.2, 0.6, -2.6, -0.7, 5.4, 5.6, -1.4, 2.1, 4.3, 7.6, 12.0, 9.6, 4.7, 3.4, 4.1, 9.9, 8.3, 5.8, -4.1, 0.8, 5.2, 9.2, 2.6, -2.0, 1.1, 4.3, 5.2, 6.5, 8.5, 11.9, 8.9, 8.2, 5.0, 3.3, -2.8, -0.2, 4.4, 7.0, -1.1, -2.8, 3.0, 5.6, 4.5, 2.0, 4.4, 5.3, 0.8, 0.6, 3.9, 3.1, 4.4, 6.7, 8.2, 5.4, 6.9, 5.6, 6.2, 6.4, 11.3, 8.4, 5.0, 3.6, 1.4, 1.8, 2.1, 3.2, 2.4, 4.9, 6.4, 5.1, 4.8, 11.4, 7.2, 1.8, -2.8, -2.6, 0.8, 1.7, 3.8, 4.5, 4.8, 6.4, 9.3, 14.4, 11.0, 9.5, 11.2, 1.8, 6.9, 7.4, 1.8, -3.7, 1.0, 4.5, 7.6, 8.6, 3.2, 5.5, 8.8, 6.7, 4.4, 2.8, 5.8, 6.2, 6.9, 11.4, 13.2, 10.3, 10.4, 9.8, 9.2, 5.4, 8.9, 9.9, 11.7, 10.7, 11.6, 12.6, 11.2, 5.7, 6.2, 10.2, 14.6, 17.7, 19.4, 20.8, 18.3, 14.9, 13.4, 11.4, 11.9, 13.2, 18.5, 13.0, 16.6, 23.1, 20.0, 14.0, 16.3, 16.3, 18.8, 15.9, 11.8, 13.0, 16.7, 18.6, 19.6, 20.7, 22.4, 23.3, 16.2, 17.0, 19.7, 19.0, 21.5, 23.1, 27.7, 17.8, 22.6, 21.3, 23.6, 22.0, 24.7, 19.4, 23.2, 21.0, 20.5, 20.8, 22.6, 22.7, 27.8, 26.4, 21.8, 23.4, 18.1, 21.1, 22.8, 23.0, 21.8, 24.9, 25.2, 23.7, 25.2, 27.1, 23.6, 23.4, 23.2, 26.1, 25.6, 21.9, 24.4, 23.8, 26.2, 24.2, 26.8, 26.8, 28.2, 30.8, 30.3, 27.2, 28.6, 23.5, 25.2, 23.0, 27.2, 25.3, 25.8, 27.8, 26.3, 23.4, 28.7, 29.7, 29.8, 25.5, 21.6, 24.2, 26.8, 24.9, 28.0, 29.4, 31.8, 28.6, 32.1, 30.2, 30.6, 31.8, 32.2, 31.6, 31.1, 32.3, 29.2, 27.0, 31.2, 31.7, 34.4, 34.5, 29.4, 33.3, 29.8, 32.2, 33.4, 32.9, 32.9, 32.6, 30.3, 31.9, 30.4, 30.2, 31.3, 26.7, 26.2, 30.4, 26.1, 27.6, 30.8, 31.1, 31.8, 31.7, 31.8, 31.6, 31.9, 32.4, 34.3, 34.5, 35.2, 29.4, 29.7, 30.8, 28.0, 28.9, 26.8, 25.1, 28.7, 29.3, 30.4, 30.0, 27.8, 28.8, 30.1, 26.2, 24.3, 24.6, 27.2, 25.4, 28.4, 28.1, 28.6, 26.9, 22.6, 23.1, 25.3, 25.4, 26.4, 26.2, 27.4, 27.2, 28.1, 26.4, 24.7, 25.3, 26.2, 26.1, 26.4, 26.9, 23.6, 17.2, 20.6, 21.8, 17.7, 22.7, 23.9, 18.7, 23.5, 20.8, 16.9, 18.0, 18.8, 21.1, 21.3, 19.4, 24.9, 21.9, 16.8, 13.9, 18.0, 16.0, 17.0, 20.2, 16.6, 21.7, 14.8, 14.0, 11.8, 12.4, 12.2, 19.6, 18.0, 18.1, 19.4, 14.6, 16.9, 15.6, 15.0, 15.6, 11.9, 13.2, 16.0, 12.4, 14.8, 7.9, 6.7, 9.5, 13.8, 15.4, 13.4, 13.3, 3.6, 4.2, -0.6, 0.1, 2.3, 3.4, 10.2, 10.8, 3.5, 7.4, 8.7, 4.3, 4.5, 5.8, 6.6, 10.8, -0.8, -4.5, 3.2, -1.7, -2.9, 1.7, 3.4, 3.3, 4.0, 4.2, 4.9, 7.8, 7.5, 1.2, 1.7, 2.5, 3.2, 4.4, 5.0, -2.9, -3.6, -8.7, -4.7, 0.3, 2.6, 1.3, -0.9, 0.2, 2.2, 7.6, 9.3, 8.7, 5.6, 2.1, 4.4, 5.3, 6.2, 6.6, 6.4, 5.7, 4.3, 3.8, 6.9, 1.0, -1.2, 1.0, 1.3, 3.8, 3.2, 1.7, 3.7, -8.0, -5.7, -4.3, -1.8, -4.0, -3.9, 1.8, 2.9, 2.6, 0.7, 3.8, 6.2, 5.7, 5.3, 2.7, 0.1, -2.2, -3.8, -1.1, -4.8, -0.3, 4.3, 7.1, 3.3, 4.2, 9.7, 9.9, 7.0, 2.6, 6.3, 5.4, -2.6, -5.5, -8.1, -3.5, 0.2, 1.0, 5.4, 9.5, 8.4, 9.3, 13.7, 13.4, 10.6, 12.5, 7.2, 4.4, -2.6, -0.1, 3.1, 6.4, 6.2, 8.0, 9.6, 4.1, 7.7, 8.4, 6.5, 5.2, 6.9, 8.5, 13.8, 13.8, 13.0, 15.1, 16.0, 19.5, 12.7, 8.7, 10.2, 14.6, 13.3, 16.8, 23.1, 12.2, 17.5, 17.3, 16.4, 13.4, 22.2, 14.7, 17.8, 16.6, 13.5, 14.6, 17.4, 20.8, 18.3, 14.8, 10.6, 20.2, 17.7, 13.9, 10.3, 19.3, 15.0, 17.7, 15.2, 19.6, 21.1, 20.9, 18.1, 19.8, 23.2, 22.9, 14.4, 21.8, 20.4, 25.1, 27.0, 20.0, 17.0, 17.8, 24.5, 29.3, 22.3, 20.8, 17.4, 27.1, 22.0, 21.4, 23.7, 15.8, 23.8, 26.7, 24.3, 25.1, 29.0, 21.8, 20.1, 24.1, 20.3, 20.5, 21.7, 22.2, 23.4, 24.8, 29.2, 21.7, 24.9, 25.9, 26.3, 28.6, 27.5, 28.3, 28.0, 24.1, 25.7, 20.3, 22.7, 26.1, 24.2, 25.0, 28.0, 31.1, 26.7, 26.3, 27.9, 28.6, 30.3, 30.4, 26.8, 22.9, 25.8, 25.1, 28.6, 23.4, 23.2, 26.7, 28.0, 22.9, 25.2, 22.6, 25.1, 30.1, 27.8, 29.8, 27.8, 28.7, 29.2, 30.7, 30.0, 29.9, 28.3, 24.4, 28.5, 26.6, 25.5, 28.9, 29.1, 29.3, 29.8, 25.8, 30.1, 28.2, 24.9, 30.3, 30.5, 30.2, 31.4, 32.6, 32.2, 32.9, 29.4, 27.6, 31.5, 31.6, 30.7, 33.9, 33.7, 32.4, 30.8, 25.4, 24.6, 28.3, 29.9, 30.1, 27.0, 25.7, 25.7, 24.6, 29.9, 22.0, 26.7, 28.4, 27.9, 27.0, 26.5, 27.7, 27.2, 28.3, 27.8, 29.4, 28.0, 23.5, 24.2, 25.0, 25.8, 21.6, 22.5, 23.4, 25.1, 26.0, 26.7, 25.6, 26.1, 27.7, 27.4, 24.2, 22.5, 20.3, 18.8, 23.2, 21.6, 19.9, 21.9, 23.2, 16.9, 18.6, 16.6, 18.5, 19.7, 21.5, 22.2, 19.4, 19.1, 19.7, 20.7, 15.9, 18.7, 14.8, 17.9, 12.8, 13.0, 16.7, 16.0, 15.4, 17.7, 11.1, 14.7, 16.8, 12.7, 6.8, 11.6, 15.0, 16.2, 19.7, 20.3, 18.8, 15.8, 15.6, 11.7, 7.2, 2.8, 3.9, 6.2, 9.5, 9.8, 7.1, 6.3, 11.8, 14.9, 8.0, 6.0, 2.6, 8.0, 7.9, 11.5, 11.4, 10.5, 10.1, 9.0, 10.3, 9.0, 5.0, -4.0, -0.2, 1.1, 1.2, 3.7, 5.2, 3.1, 6.8, 7.7, 4.6, -1.5, 0.3, 3.1, 4.3, 1.8, -2.4, 2.0, 2.9, 3.6, 6.7, 3.1, 1.6, 6.6, 5.6, 7.3, 8.1, 6.0, 2.0, 6.0, 5.1, 3.5, 5.2, 4.3, 4.5, 7.0, 6.6, 0.3, -3.0, -3.9, 0.6, 1.4, 3.5, 3.2, -1.8, -3.6, -4.3, -2.0, 1.9, 1.3, 2.0, 5.7, 2.9, 3.3, 2.0, 3.4, -2.2, 0.0, -0.1, 2.2, 3.4, 9.8, 10.6, 7.2, 6.4, 8.5, 2.4, -1.2, 1.2, -0.6, 1.6, 3.8, 6.8, 7.9, 1.3, 3.0, 3.7, 3.4, 4.4, 0.1, -0.8, 0.3, 3.0, 7.8, 6.2, 5.4, 4.4, 2.0, 7.1, 5.3, 8.3, 12.6, 8.1, 5.8, 8.8, 9.8, 7.1, 8.4, 8.0, 9.0, 8.7, 11.5, 12.8, 6.6, 12.2, 15.8, 13.0, 8.8, 11.2, 13.5, 9.5, 7.4, 7.5, 10.4, 13.8, 13.4, 6.5, 11.9, 9.0, 9.0, 11.3, 13.7, 15.9, 9.5, 14.8, 15.2, 12.9, 16.6, 15.0, 18.0, 22.4, 21.6, 20.2, 25.8, 25.5, 25.8, 24.1, 25.3, 19.4, 18.8, 20.8, 18.9, 23.3, 25.3, 18.7, 21.8, 16.0, 25.4, 29.0, 27.7, 18.9, 14.4, 13.5, 14.3, 19.4, 19.6, 18.4, 26.3, 27.3, 26.5, 24.6, 15.9, 22.9, 21.0, 24.2, 25.5, 17.6, 18.9, 21.8, 23.3, 23.2, 23.8, 25.3, 25.1, 26.8, 26.6, 24.4, 26.2, 24.4, 20.3, 23.2, 23.5, 26.0, 21.9, 25.2, 26.3, 25.2, 20.7, 25.8, 26.2, 27.8, 28.3, 27.8, 29.0, 31.3, 31.4, 23.4, 25.4, 28.0, 32.4, 32.1, 31.2, 26.1, 22.2, 24.5, 25.6, 26.3, 27.8, 27.4, 29.2, 28.8, 31.0, 29.2, 30.0, 30.2, 24.2, 28.2, 28.0, 28.5, 24.4, 23.7, 28.7, 29.7, 29.0, 25.7, 28.0, 30.9, 30.4, 31.2, 31.5, 30.5, 31.8, 30.9, 29.4, 24.2, 30.0, 25.2, 23.6, 32.0, 33.4, 30.4, 29.4, 29.0, 33.0, 32.6, 30.4, 29.4, 31.6, 30.8, 30.1, 30.1, 31.0, 32.4, 32.2, 30.8, 31.2, 32.2, 33.9, 35.3, 34.1, 32.0, 34.4, 34.6, 32.2, 32.5, 32.8, 33.3, 32.1, 33.2, 28.6, 29.5, 32.8, 30.4, 29.2, 28.4, 27.8, 31.5, 31.0, 29.8, 30.3, 29.2, 29.6, 26.4, 29.2, 27.6, 22.5, 20.2, 23.6, 22.9, 28.0, 28.2, 24.2, 26.0, 28.1, 26.7, 28.0, 26.2, 25.8, 27.2, 22.0, 26.0, 25.5, 25.1, 21.2, 24.4, 20.6, 23.8, 25.6, 21.8, 21.4, 21.5, 17.4, 14.8, 21.4, 22.2, 20.1, 19.4, 20.6, 21.8, 22.6, 23.4, 23.1, 23.1, 19.8, 21.6, 18.1, 20.6, 17.8, 18.4, 18.8, 14.3, 15.4, 17.6, 17.7, 19.8, 20.2, 19.7, 20.7, 14.9, 17.7, 17.3, 17.2, 16.1, 16.9, 18.0, 15.2, 13.2, 15.0, 16.2, 17.7, 16.3, 12.6, 11.9, 9.8, 6.6, -0.1, 5.4, 12.3, 10.1, 10.0, 13.2, 7.8, 5.6, 9.6, 13.5, 14.4, 14.8, 10.7, 9.2, 1.2, 2.1, 4.0, 0.6, -2.1, -1.8, -1.8, -1.5, 2.0, -2.6, -0.3, 2.1, 0.0, 0.4, 1.6, -3.7, -3.9, 0.9, -0.1, -0.9, -1.2, 1.6, 2.9, 6.2, 7.6, 8.5, 7.2, 8.4, 7.8, 0.3, -0.8, 7.4, 3.4, -3.8, -4.8, -3.6, -0.2, 6.2, -2.8, 0.4, -0.8, 0.4, -2.2, -7.3, -8.3, -5.4, -7.4, -4.2, 1.7, 5.1, 0.4, 1.6, 3.2, 0.6, 1.8, 7.6, 7.9, 9.2, 9.0, 8.5, 4.4, 2.4, 1.2, 3.6, 6.2, 9.0, 8.2, 10.6, 6.8, 14.5, 10.1, 2.0, 8.6, 4.7, 5.0, 8.6, 7.9, 4.2, 4.9, 7.0, 8.4, 11.8, 10.7, 6.8, 4.9, 7.7, 4.7, 9.0, 9.1, 9.7, 10.2, 7.9, 11.4, 9.1, 13.6, 11.8, 7.8, 10.9, 14.5, 14.6, 15.0, 11.6, 8.0, 0.9, 3.7, 6.4, 7.4, 4.4, 9.0, 13.7, 12.8, 15.2, 14.2, 14.6, 12.1, 11.8, 10.6, 8.5, 11.8, 14.4, 14.8, 7.4, 14.2, 13.5, 18.0, 18.9, 19.1, 22.5, 15.6, 18.2, 19.5, 12.8, 16.7, 19.7, 18.0, 15.3, 25.0, 24.1, 15.5, 16.7, 18.2, 22.2, 20.8, 23.1, 21.2, 14.8, 18.0, 21.1, 19.2, 14.4, 13.6, 18.1, 21.4, 22.4, 25.4, 23.5, 17.1, 18.5, 19.8, 22.5, 21.3, 16.6, 23.8, 15.5, 28.4, 21.6, 23.0, 24.0, 25.7, 29.0, 26.8, 30.5, 32.2, 28.4, 25.6, 31.0, 24.2, 23.7, 25.8, 27.2, 28.8, 28.4, 27.8, 27.8, 22.3, 23.1, 23.0, 26.3, 23.3, 23.8, 24.7, 28.4, 27.9, 25.6, 26.2, 29.0, 27.4, 26.2, 29.0, 29.0, 28.9, 25.8, 28.8, 29.4, 34.8, 30.6, 22.6, 23.1, 19.0, 15.4, 23.4, 28.4, 28.3, 29.2, 29.7, 23.3, 27.2, 28.4, 28.1, 27.1, 28.5, 28.9, 23.8, 26.5, 30.1, 29.0, 32.3, 32.0, 27.1, 30.8, 31.2, 33.5, 29.7, 29.2, 25.0, 30.8, 30.3, 29.8, 30.6, 26.3, 30.3, 27.4, 29.8, 30.1, 31.8, 28.0, 27.9, 30.6, 29.8, 27.0, 25.5, 21.6, 25.4, 29.0, 31.3, 32.0, 29.2, 29.0, 31.2, 28.8, 27.2, 22.6, 22.8, 26.3, 22.1, 25.8, 21.0, 26.5, 28.3, 27.9, 28.2, 30.2, 29.8, 29.2, 26.3, 27.0, 23.3, 27.4, 26.8, 26.4, 23.0, 22.6, 23.5, 23.8, 25.0, 25.8, 24.6, 22.0, 25.0, 22.2, 23.2, 24.4, 25.0, 25.5, 25.2, 25.4, 24.1, 22.7, 22.1, 23.7, 25.0, 20.4, 20.2, 20.7, 21.8, 21.3, 22.8, 25.1, 22.7, 21.2, 15.8, 19.2, 20.9, 21.2, 21.8, 21.5, 22.2, 22.1, 21.9, 17.1, 23.4, 19.4, 16.8, 13.6, 16.2, 15.9, 13.8, 6.4, 5.6, 8.0, 13.9, 15.8, 16.5, 15.8, 8.0, 12.2, 15.5, 13.5, 19.4, 15.6, 9.5, 12.2, 8.8, 1.3, 2.4, 4.0, 3.2, 7.7, 6.6, 6.2, 4.4, 4.0, 1.8, 2.4, 5.4, 2.7, 1.0, 4.4, 0.4, 5.4, 7.6, 11.3, 12.2, 8.9, 9.6, 11.4, 7.6, 0.4, -2.7, 5.5, 8.5, 9.8, 5.2, 7.0, 10.0, 7.2, 4.1, 6.8, 6.0, 6.2, 7.6, 10.6, 9.4, 9.4, 4.7, -10.4, -9.6, -8.3, -4.5, -4.0, -5.9, -6.5, -8.2, -8.8, -5.7, -4.8, -0.5, 4.1, 1.1, -0.8, 0.5, 0.6, -2.6, -6.7, -5.5, -0.8, -1.0, -0.8, -1.7, 0.1, -0.4, -1.6, -1.4, 0.6, 1.7, 4.2, 2.1, -6.0, -7.0, -8.2, -7.8, -5.4, -2.0, -2.4, -3.1, -2.8, -2.0, -2.5, -0.7, 2.9, 2.9, 2.4, 2.1, 7.8, 5.1, -2.2, -8.5, -8.4, -3.9, 0.2, 3.8, 6.6, -1.0, 2.8, 8.6, 12.4, 15.0, 10.3, 14.0, 14.2, 13.4, 9.4, 0.8, -5.2, -3.5, 11.1, 16.2, 16.6, 5.8, 8.2, 10.1, 11.9, 12.6, 8.5, 13.4, 13.0, 22.0, 15.2, 14.3, 16.2, 16.2, 15.5, 11.5, 5.0, 6.0, 11.4, 11.2, 11.9, 13.2, 16.2, 14.8, 13.4, 12.2, 15.5, 20.2, 21.5, 12.6, 16.9, 13.8, 9.8, 16.2, 21.6, 22.4, 21.6, 24.3, 19.1, 19.0, 13.2, 9.2, 16.2, 21.4, 24.8, 21.4, 26.7, 17.8, 18.6, 19.8, 22.0, 14.4, 19.6, 22.2, 13.7, 11.6, 19.4, 22.4, 21.3, 14.4, 19.9, 25.9, 25.6, 25.6, 27.2, 26.5, 26.6, 18.2, 20.7, 21.4, 22.5, 24.7, 27.6, 29.3, 21.9, 25.3, 24.5, 19.7, 24.9, 25.4, 24.6, 25.4, 22.7, 27.5, 26.8, 20.4, 22.7, 21.4, 27.5, 25.3, 28.8, 27.6, 29.6, 30.3, 26.2, 25.3, 27.4, 26.3, 27.9, 28.2, 30.3, 28.9, 26.6, 27.7, 27.3, 27.9, 29.6, 28.8, 32.1, 30.4, 30.8, 34.6, 33.0, 27.6, 27.6, 25.8, 28.7, 30.0, 26.6, 31.1, 26.4, 26.6, 24.3, 24.4, 28.8, 28.9, 22.4, 27.2, 30.6, 31.2, 29.2, 30.5, 30.4, 32.5, 28.5, 32.6, 32.1, 33.2, 33.0, 30.5, 33.7, 34.1, 34.7, 35.0, 34.4, 34.3, 33.3, 29.5, 32.6, 27.3, 30.1, 23.7, 25.2, 31.6, 31.2, 30.4, 29.5, 28.8, 27.8, 29.9, 27.4, 22.8, 29.3, 29.2, 29.9, 31.6, 31.6, 30.7, 28.4, 27.4, 29.3, 30.3, 31.6, 32.1, 30.2, 30.9, 25.4, 26.9, 28.0, 29.8, 31.1, 29.0, 29.2, 29.9, 29.0, 27.2, 26.4, 28.0, 21.6, 27.1, 26.6, 28.2, 25.8, 25.2, 26.4, 26.8, 21.6, 20.3, 24.9, 25.2, 26.4, 27.3, 25.9, 26.4, 24.6, 27.4, 28.1, 28.6, 28.5, 28.0, 28.8, 26.8, 20.2, 17.8, 22.0, 23.0, 17.8, 20.0, 20.9, 23.1, 23.4, 21.9, 18.4, 21.4, 21.6, 24.6, 23.5, 23.2, 23.0, 22.4, 21.8, 23.0, 21.2, 22.0, 25.1, 23.9, 22.0, 15.3, 16.3, 16.4, 16.9, 20.2, 19.7, 14.3, 13.7, 11.4, 9.8, 7.8, 10.1, 14.8, 14.9, 14.1, 14.1, 12.6, 16.2, 12.2, 6.2, 11.3, 9.8, 4.2, 5.6, 11.2, 12.3, 16.8, 10.2, 4.0, 4.4, 3.9, 2.0, 1.6, 9.0, 12.4, 11.0, 9.8, 9.0, 7.8, 6.4, 9.0, 10.6, 10.5, 11.0, 11.7, 13.7, 10.4, 6.2, 6.2, 0.9, 1.6, 0.1, 1.4, 1.1, 7.2, -4.1, -0.6, 3.3, 8.2, 4.2, 6.8, 5.4, 2.6, 2.3, -1.4, -1.2, 2.3, 7.4, 4.9, 5.6, -0.4, -3.2, 4.2, 7.3, 4.4, 6.3, 4.2, -3.8, 0.2, 0.2, 0.3, 1.2, -3.8, 0.7, 6.4, 6.6, 5.4, 3.9, -0.8, 0.4, 0.0, -4.4, -4.8, -8.4, -3.7, -3.6, 2.7, 3.1, 5.8, 2.5, 3.5, 3.6, 2.3, 0.7, 0.8, 0.7, -4.1, -5.5, -2.5, -2.8, -0.8, 0.4, 4.4, 5.8, 4.1, 8.0, 8.5, 7.0, 7.0, 11.0, 6.8, 3.3, 5.6, 4.2, 6.6, 8.3, 13.6, 17.4, 17.3, 7.3, 2.1, 1.0, -0.4, 3.3, 5.6, 5.9, 8.1, 8.5, 9.7, 10.7, 12.3, 12.3, 6.4, 10.1, 11.8, 10.9, 15.8, 17.3, 13.9, 11.4, 12.2, 12.8, 14.8, 10.8, 11.9, 14.3, 15.2, 11.5, 14.6, 17.4, 18.8, 24.0, 14.7, 12.4, 16.8, 25.0, 19.4, 12.0, 16.0, 18.2, 12.3, 14.7, 17.7, 20.1, 20.2, 17.7, 22.4, 19.6, 20.4, 20.0, 23.8, 18.2, 19.6, 20.4, 20.6, 23.6, 24.7, 25.9, 25.5, 24.7, 21.6, 19.1, 22.1, 27.6, 28.0, 28.9, 29.2, 29.7, 29.7, 20.7, 20.6, 17.6, 25.7, 29.1, 28.2, 27.6, 27.8, 28.4, 28.0, 29.8, 26.8, 23.1, 24.8, 26.0, 25.6, 24.8, 25.8, 21.9, 25.3, 28.6, 28.9, 29.6, 28.8, 26.4, 28.2, 29.4, 22.8, 26.3, 30.2, 30.1, 25.2, 29.6, 28.6, 25.6, 29.4, 30.6, 30.7, 23.5, 24.4, 24.8, 26.6, 24.5, 24.9, 29.4, 26.3, 28.4, 30.4, 28.6, 26.8, 28.6, 29.6, 26.3, 27.6, 25.0, 27.2, 28.6, 28.6, 27.3, 27.6, 27.6, 29.2, 27.8, 30.6, 31.5, 33.8, 32.8, 33.4, 34.8, 35.0, 34.8, 36.1, 36.0, 29.4, 34.8, 34.4, 32.6, 31.8, 32.4, 34.2, 33.9, 33.3, 30.1, 31.1, 29.9, 30.1, 32.4, 25.8, 27.1, 28.1, 26.8, 29.6, 25.8, 23.3, 21.8, 29.0, 31.6, 31.7, 32.1, 30.1, 30.7, 33.2, 31.6, 28.4, 22.8, 28.4, 26.5, 23.7, 24.8, 26.0, 29.2, 30.6, 23.8, 23.9, 23.6, 22.4, 26.6, 26.6, 24.8, 25.2, 29.7, 28.1, 26.7, 22.3, 22.5, 25.8, 24.6, 24.8, 26.4, 27.3, 26.7, 27.8, 27.8, 22.4, 26.6, 28.0, 29.2, 27.2, 24.2, 26.6, 25.0, 23.0, 21.9, 21.3, 21.0, 17.4, 18.0, 17.1, 21.0, 19.6, 19.4, 21.7, 20.5, 19.7, 21.8, 16.6, 18.1, 14.8, 20.0, 21.5, 21.8, 22.2, 16.3, 9.2, 12.6, 16.4, 17.1, 14.6, 14.4, 16.3, 16.8, 16.2, 15.6, 18.2, 17.2, 18.0, 16.0, 13.6, 14.4, 15.1, 15.2, 12.2, 12.3, 14.6, 11.8, 8.6, 6.4, 8.6, 10.8, 11.6, 14.6, 14.2, 11.7, 6.6, 0.0, 5.5, 10.0, 9.6, 3.9, 7.4, 8.4, 3.2, 6.8, 12.8, 14.6, 13.6, 9.1, 6.2, 8.8, 11.8, 7.5, 7.5, 6.6, 6.8, 0.1, -2.0, 2.4, 0.9, 2.8, 3.2, 5.0, 3.6, 9.0, 4.6, 4.8, -1.1, -2.9, -0.5, 1.4, 1.4, 2.0, 6.2, 7.0, 6.5, 7.0, 12.1, 13.4, 10.4, 6.6, 4.8, -3.1, -4.3, -2.2, 2.0, 5.5, 2.2, -1.5, 4.6, -0.3, 3.8, 8.5, 9.3, 7.8, 10.9, 10.8, 7.6, 5.4, 8.5, 4.2, -7.6, -5.0, -1.0, -2.2, 1.3, 0.8, 1.0, 6.8, 7.5, 6.7, 3.4, 8.6, 13.6, 1.4, 1.4, 4.4, 6.5, 5.0, 11.7, 12.2, 17.4, 11.4, 6.0, 6.8, 6.1, 8.6, 3.6, 2.2, 3.6, 6.1, 7.3, 9.1, 7.8, 7.5, 10.0, 12.8, 11.4, 13.2, 11.9, 8.4, 10.9, 10.8, 12.7, 13.3, 6.2, 9.7, 12.5, 15.5, 15.7, 13.0, 12.6, 6.0, 11.2, 13.4, 17.2, 18.4, 15.2, 12.1, 14.1, 13.6, 8.6, 8.3, 12.2, 16.4, 19.8, 14.2, 12.9, 11.3, 16.3, 17.4, 23.8, 15.8, 11.6, 15.0, 11.8, 13.6, 16.4, 19.7, 20.4, 20.2, 20.4, 20.4, 21.1, 22.8, 17.2, 17.6, 14.2, 18.2, 15.9, 17.8, 18.6, 22.2, 25.3, 26.0, 19.5, 17.3, 23.1, 20.0, 21.4, 20.7, 22.0, 17.1, 23.7, 18.6, 18.3, 18.0, 19.2, 23.3, 24.3, 27.0, 25.8, 25.2, 21.1, 14.2, 21.8, 25.4, 27.8, 28.3, 29.1, 26.0, 28.0, 25.5, 23.4, 26.7, 23.6, 20.2, 22.4, 24.2, 24.2, 20.0, 23.4, 25.5, 27.2, 27.6, 28.2, 28.3, 27.0, 26.2, 27.8, 20.1, 23.7, 23.6, 28.2, 24.9, 27.1, 27.3, 24.9, 27.1, 27.9, 28.9, 28.8, 27.7, 28.2, 29.2, 29.9, 29.1, 29.0, 30.8, 31.9, 25.2, 25.6, 29.1, 24.6, 24.6, 29.2, 28.7, 27.1, 28.7, 29.6, 28.6, 30.0, 25.3, 24.6, 30.2, 31.0, 32.1, 32.2, 27.2, 28.4, 28.5, 29.8, 28.5, 25.7, 28.2, 25.7, 29.7, 27.0, 30.4, 31.6, 30.7, 31.8, 31.7, 31.9, 32.6, 31.8, 32.3, 27.2, 26.5, 26.1, 28.8, 29.3, 30.7, 32.2, 30.0, 30.6, 32.3, 31.6, 26.7, 27.6, 27.1, 29.2, 29.5, 22.4, 24.8, 24.5, 27.5, 29.7, 25.9, 26.5, 26.3, 25.8, 27.1, 27.2, 26.3, 24.4, 28.1, 27.7, 21.4, 17.8, 27.0, 27.7, 27.0, 26.4, 23.3, 23.0, 19.4, 23.8, 20.9, 23.2, 24.8, 24.4, 25.9, 25.1, 25.0, 23.2, 23.7, 18.6, 21.9, 24.4, 24.8, 25.2, 23.6, 20.4, 21.4, 22.3, 23.4, 24.2, 25.3, 26.3, 25.5, 24.3, 21.9, 11.7, 16.0, 17.3, 19.8, 21.8, 21.0, 22.5, 22.3, 20.9, 21.3, 14.2, 22.2, 21.1, 23.5, 22.7, 17.3, 13.7, 17.9, 22.4, 22.3, 21.6, 11.5, 3.3, -3.9, 1.3, 8.5, 10.5, 6.6, 2.4, 6.0, 10.4, 6.6, 6.1, 0.7, 5.2, 9.6, 6.4, 7.2, 6.4, 1.7, 3.5, 5.6, 7.9, 8.6, 6.8, 11.0, 6.6, 9.4, 9.4, 6.5, 3.1, 6.4, 3.6, 5.2, 8.6, 4.6, 7.9, 7.5, 9.7, 11.7, 8.7, 4.6, 4.0, -1.8, -3.3, -3.4, 1.2, -1.3, 2.3, 1.0, 6.7, 6.3, 6.6, 5.9, 6.2, -0.5, -1.0, 4.0, -4.7, -1.3, 2.1, -2.2, -3.5, -1.2, 0.1, -1.5, -0.5, -2.8, -8.0, -4.6, -0.2, -1.6, -3.6, -3.4, 5.4, 2.4, 2.8, 8.4, 8.1, 8.9, 5.7, -0.7, -8.5, -4.9, -2.0, -2.1, -6.2, -6.1, -8.1, -6.6, -6.3, -2.6, 0.2, 3.5, -0.8, -2.0, -1.3, 0.5, 1.5, 4.4, 3.2, 6.3, 7.2, 5.3, 4.8, 8.0, 6.0, 12.0, 10.5, 6.2, 8.2, 12.0, 7.7, 9.0, 10.3, 12.0, 11.0, 11.4, 11.3, 16.2, 11.1, 8.7, 7.3, 8.0, 9.9, 8.3, 7.9, 10.2, 10.6, 11.3, 10.5, 10.6, 12.9, 7.9, 4.9, 7.7, 9.4, 9.8, 14.8, 15.3, 18.1, 18.0, 11.4, 11.7, 12.9, 18.4, 21.0, 18.2, 12.5, 13.3, 15.2, 16.1, 17.3, 18.0, 14.8, 12.9, 10.0, 11.3, 9.9, 12.4, 19.2, 19.6, 12.7, 14.2, 15.3, 13.5, 14.0, 16.9, 20.2, 14.2, 14.8, 19.4, 19.5, 21.2, 22.3, 19.2, 18.8, 18.3, 19.9, 21.1, 20.1, 20.8, 20.9, 26.3, 17.7, 17.7, 17.1, 22.2, 18.0, 19.5, 22.6, 18.8, 23.8, 26.4, 25.8, 27.4, 27.5, 21.7, 17.6, 21.6, 25.0, 24.7, 29.2, 31.7, 27.7, 20.2, 22.1, 27.0, 26.7, 30.6, 28.7, 22.0, 21.6, 25.5, 26.4, 27.1, 29.1, 31.6, 29.2, 24.9, 28.4, 28.3, 28.2, 26.1, 27.2, 27.8, 28.4, 30.7, 23.7, 20.5, 24.3, 28.1, 29.8, 24.2, 20.9, 23.2, 27.3, 22.9, 23.4, 28.2, 27.2, 26.9, 30.3, 28.4, 29.0, 29.6, 28.3, 21.8, 26.8, 29.6, 28.2, 22.9, 29.5, 24.0, 25.1, 24.5, 29.0, 29.8, 24.3, 28.8, 27.6, 24.8, 26.2, 28.9, 28.9, 30.6, 29.9, 27.8, 28.9, 28.2, 27.3, 23.8, 21.8, 27.4, 28.5, 27.6, 27.8, 23.7, 24.8, 29.2, 27.5, 20.5, 26.8, 28.1, 26.8, 29.2, 29.7, 27.8, 27.2, 24.2, 23.8, 24.2, 26.4, 23.0, 27.4, 27.4, 29.0, 25.8, 27.0, 25.8, 27.0, 26.1, 27.0, 26.7, 25.0, 19.2, 23.8, 24.8, 26.5, 27.3, 28.1, 24.1, 24.6, 24.7, 26.9, 26.8, 21.4, 19.5, 20.5, 22.9, 24.4, 25.8, 24.7, 24.8, 22.7, 22.7, 23.0, 24.1, 25.5, 25.6, 17.5, 21.0, 23.7, 20.5, 22.6, 17.9, 24.6, 24.9, 22.3, 21.0, 20.4, 19.4, 21.9, 18.6, 23.2, 21.6, 12.6, 13.4, 17.4, 18.6, 13.5, 6.0, 10.4, 11.1, 13.5, 12.8, 9.7, 12.6, 11.9, 14.6, 15.4, 18.1, 17.2, 16.2, 6.8, 11.5, 14.7, 16.8, 15.9, 3.7, 11.1, 10.4, 15.1, 15.1, 16.1, 19.8, 16.6, 15.6, 16.1, 11.6, 10.3, 9.6, 13.0, 11.6, 13.5, 10.8, 12.5, 12.0, 7.7, 2.6, -3.7, 1.6, 4.7, 5.0, 1.4, 0.2, 6.2, 5.3, -1.0, -6.0, -3.1, -1.2, 0.5, 3.2, 2.9, -0.4, -2.7, 0.4, 2.1, 0.5, 2.4, 2.2, -4.0, -7.2, -8.4, -8.7, -4.2, -1.2, -0.2, -6.3, -8.8, -7.1, -8.2, -4.8, -0.5, -0.8, 0.8, -4.2, -3.4, -1.6, -5.5, -4.2, -2.7, -2.2, -1.5, 0.6, -1.6, -2.3, -2.6, -3.7, -1.5, -0.7, -3.3, -5.0, -2.7, 0.4, 0.6, -0.3, 1.3, 2.5, 2.1, -1.8, -1.4, 1.4, 3.0, 0.8, 0.6, 3.0, 3.6, 4.6, 4.3, 7.1, 11.7, 7.4, 6.4, 7.8, 5.3, 3.8, 0.4, 1.9, 7.4, 6.7, 2.9, -6.0, -7.9, -2.7, 1.8, 5.9, 7.8, 9.0, 7.7, 6.8, 3.2, 10.0, 6.6, 3.4, 7.2, 11.2, 17.2, 21.7, 12.8, 6.7, 9.0, 14.2, 14.8, 19.0, 18.6, 19.4, 15.2, 19.4, 10.8, 7.0, 3.0, 8.0, 13.4, 14.0, 15.7, 18.2, 9.1, 12.9, 10.4, 16.8, 10.4, 17.4, 23.2, 23.9, 23.4, 17.9, 15.5, 17.2, 16.4, 18.6, 20.0, 12.9, 18.0, 19.0, 11.9, 15.2, 19.1, 21.7, 22.3, 15.1, 19.4, 22.4, 22.3, 25.3, 17.3, 18.3, 26.4, 17.0, 14.0, 17.5, 20.7, 23.3, 22.9, 22.6, 21.2, 17.6, 15.2, 16.0, 18.4, 20.0, 22.0, 16.4, 13.8, 14.0, 17.7, 18.8, 22.8, 23.8, 25.8, 25.8, 24.8, 28.3, 28.5, 20.3, 26.7, 23.9, 21.4, 22.7, 24.4, 22.8, 24.3, 26.7, 25.6, 27.8, 27.9, 25.5, 21.3, 23.6, 27.6, 28.0, 27.8, 28.8, 30.7, 30.3, 29.0, 27.2, 28.8, 26.3, 28.8, 27.4, 25.6, 25.8, 30.0, 23.4, 27.6, 29.2, 30.5, 24.1, 23.8, 23.3, 26.6, 25.4, 25.8, 27.1, 27.3, 25.2, 28.8, 28.8, 24.3, 29.3, 29.8, 30.6, 31.6, 30.5, 31.6, 31.8, 31.8, 29.4, 32.1, 31.9, 32.5, 33.2, 33.9, 28.5, 30.9, 29.6, 33.3, 35.2, 29.7, 30.2, 28.8, 31.6, 28.2, 27.6, 24.2, 27.0, 30.6, 27.3, 31.0, 30.2, 30.0, 33.0, 31.6, 31.4, 26.0, 28.1, 30.3, 27.2, 28.3, 29.4, 29.8, 28.4, 23.2, 26.2, 30.2, 30.1, 30.1, 25.8, 22.7, 19.2, 26.7, 23.0, 25.4, 27.3, 28.2, 28.0, 26.3, 23.5, 25.5, 24.7, 20.8, 22.4, 22.6, 23.4, 23.7, 24.9, 25.8, 26.0, 28.6, 28.8, 29.0, 29.0, 22.4, 25.2, 27.5, 25.4, 21.7, 21.7, 22.0, 23.3, 21.4, 22.8, 17.6, 21.6, 21.2, 21.8, 21.8, 16.0, 20.8, 21.2, 21.4, 19.2, 16.7, 18.4, 20.4, 23.2, 19.9, 18.2, 18.9, 21.4, 15.8, 6.1, 10.5, 12.6, 15.2, 14.7, 11.7, 14.8, 18.2, 13.9, 13.6, 10.8, 10.8, 7.1, 5.8, 8.8, 1.0, 1.8, 3.8, 6.8, 8.2, 12.6, 13.0, 11.2, 9.5, 10.0, 7.0, 6.5, 8.2, 10.5, 6.6, 8.2, 9.0, 5.1, 4.7, 10.5, 3.8, 1.8, 2.8, 4.9, 0.4, -2.2, 4.3, 4.1, 4.0, 3.4, 4.2, 6.2, 7.6, 7.0, 7.3, 4.7, 1.2, -1.3, -1.0, 3.0, 4.2, 4.5, -0.3, 2.8, 4.4, 6.2, 5.2, 4.0, 5.9, 10.2, 8.9, 9.5, 6.7, -0.6, 1.2, 0.2, 3.4, 4.2, 6.7, 2.6, 3.1, 0.1, 1.1, 3.7, 4.9, 6.8, -2.3, -5.8, -4.5, -2.6, -3.6, -1.4, -2.4, -5.0, 0.5, 6.6, 4.9, 3.3, 5.1, 4.8, 4.5, -2.2, -7.0, -4.8, -1.1, -0.5, -0.2, 2.0, 3.6, 5.3, -0.9, -2.8, -3.8, -0.3, 4.2, 1.3, 2.3, 6.3, 6.7, 6.8, 5.6, 6.7, 9.8, 9.2, 7.1, 10.9, 9.6, 6.1, 12.3, 11.4, 8.3, 8.2, 8.5, 10.9, 9.1, 8.2, 8.5, 6.0, 9.5, 2.8, 2.8, 5.8, 9.9, 10.5, 15.6, 16.6, 17.0, 14.6, 14.1, 8.0, 3.9, 10.8, 13.6, 15.8, 13.8, 16.5, 15.1, 8.6, 7.9, 10.0, 11.6, 15.0, 14.9, 6.8, 15.2, 18.0, 11.2, 15.2, 15.8, 17.7, 18.1, 19.7, 13.0, 12.0, 15.0, 17.8, 16.1, 17.5, 20.8, 15.7, 12.9, 14.0, 15.3, 17.6, 15.7, 21.9, 21.1, 20.7, 23.6, 27.5, 26.9, 20.5, 19.5, 20.2, 22.8, 20.8, 24.2, 20.7, 15.5, 24.4, 17.5, 22.5, 22.9, 18.4, 27.4, 24.7, 28.3, 20.5, 21.3, 21.4, 21.1, 23.8, 24.5, 18.2, 19.3, 22.6, 26.3, 22.3, 25.6, 23.8, 22.5, 25.6, 24.2, 28.8, 28.9, 20.8, 16.4, 19.1, 25.2, 25.9, 30.6, 27.3, 27.5, 28.4, 30.1, 27.4, 28.5, 28.0, 23.0, 27.6, 26.7, 27.3, 29.0, 28.9, 24.9, 27.8, 29.9, 29.1, 29.8, 27.5, 28.0, 28.9, 28.2, 28.3, 29.8, 29.0, 29.2, 30.5, 30.1, 29.2, 31.5, 31.7, 32.3, 32.8, 33.0, 32.0, 28.8, 28.1, 28.3, 33.7, 30.9, 29.7, 29.4, 29.9, 29.5, 30.8, 32.2, 31.7, 29.0, 29.4, 25.0, 30.7, 27.0, 27.3, 27.5, 29.6, 32.4, 31.6, 28.1, 29.4, 32.5, 30.4, 29.2, 31.1, 33.4, 33.5, 32.7, 35.5, 33.7, 27.8, 26.4, 25.2, 27.0, 31.3, 30.8, 30.4, 27.8, 26.1, 27.6, 27.8, 29.7, 23.4, 28.6, 24.9, 23.5, 28.1, 28.7, 29.4, 30.9, 28.4, 28.1, 23.1, 23.2, 26.6, 25.9, 27.5, 27.5, 26.7, 25.2, 26.6, 27.9, 27.3, 28.2, 28.6, 29.0, 26.5, 28.2, 27.0, 22.4, 25.9, 26.4, 28.2, 27.8, 25.3, 20.2, 23.0, 23.9, 23.7, 26.3, 24.3, 25.9, 24.6, 25.9, 26.4, 25.9, 28.2, 25.8, 26.2, 24.8, 24.8, 26.2, 24.3, 24.4, 22.1, 18.0, 22.4, 19.0, 17.8, 20.6, 20.5, 11.1, 6.6, 11.4, 18.1, 19.2, 20.9, 23.2, 23.8, 17.0, 13.4, 13.6, 15.6, 16.6, 20.8, 21.3, 21.4, 19.5, 16.4, 14.0, 10.4, 13.6, 15.3, 15.6, 14.4, 8.7, 12.0, 13.8, 11.7, 9.7, 9.2, 8.8, 7.9, 3.8, 2.7, 5.7, 9.5, 11.1, 9.9, 9.5, 9.0, 5.6, 6.6, 7.9, 3.8, -1.9, 3.5, 4.8, 5.0, 4.1, 3.6, -3.9, -2.0, 0.9, 3.4, 1.7, 0.4, -1.9, 3.2, 6.5, 10.6, 7.6, 4.3, 5.2, 0.4, 3.3, 2.6, 6.9, 6.0, 4.6, 2.8, 5.9, 4.6, 5.0, 4.4, 6.4, 9.2, 8.1, -2.5, -5.4, -5.7, -3.8, -1.8, 0.5, 3.4, 2.2, 6.9, 2.9, 3.4, -2.7, -5.0, -4.8, -4.2, 1.7, 6.2, 6.9, 6.2, 6.4, 6.3, 4.7, 6.5, 7.4, 5.7, 5.6, 5.3, 4.8, 7.0, 6.3, 1.4, 0.5, 0.3, 0.3, -2.2, -6.2, -2.9, 1.2, 3.0, 3.5, 3.7, -4.4, -3.3, -4.8, -0.7, 3.3, 5.4, 5.6, 5.0, 5.8, 8.6, 10.3, 10.1, 4.9, 7.9, 4.9, 6.1, 7.9, 5.1, 6.6, 8.5, 10.0, 12.5, 13.4, 4.1, 6.1, 9.6, 13.2, 4.0, 9.7, 13.6, 12.6, 18.3, 18.5, 12.6, 14.4, 14.8, 15.4, 14.2, 17.3, 18.9, 18.9, 17.3, 15.8, 9.3, 5.5, 11.0, 17.0, 22.0, 21.6, 23.5, 24.0, 26.7, 23.3, 22.1, 24.9, 18.3, 12.9, 15.5, 20.0, 23.2, 21.0, 20.4, 17.5, 14.4, 20.4, 22.6, 23.3, 24.5, 21.7, 19.0, 14.1, 15.6, 16.3, 19.1, 22.9, 26.4, 28.3, 19.1, 16.9, 19.4, 24.6, 25.7, 27.5, 26.4, 22.9, 24.5, 24.1, 24.2, 21.2, 20.8, 18.4, 24.9, 25.3, 25.5, 23.5, 29.4, 27.2, 24.2, 17.3, 25.8, 27.6, 29.9, 26.8, 28.8, 28.8, 29.5, 29.3, 26.1, 24.8, 26.2, 26.4, 27.9, 27.6, 28.9, 19.4, 24.3, 29.6, 29.6, 29.7, 31.0, 31.2, 32.6, 24.6, 30.3, 28.6, 27.0, 29.5, 29.5, 28.1, 26.9, 27.3, 24.1, 28.5, 29.8, 26.2, 23.6, 27.9, 22.2, 24.2, 26.9, 23.0, 26.9, 26.9, 29.3, 28.4, 29.5, 22.5, 27.8, 26.5, 27.0, 26.5, 24.9, 22.0, 27.8, 29.9, 27.9, 26.8, 26.5, 29.4, 26.9, 28.8, 27.1, 27.1, 30.9, 29.7, 31.6, 32.7, 33.7, 34.3, 33.6, 32.6, 30.8, 27.0, 31.2, 30.9, 32.5, 32.7, 32.5, 32.6, 33.1, 33.6, 32.9, 29.6, 24.7, 25.3, 28.3, 21.7, 22.0, 26.9, 28.6, 30.7, 26.6, 28.4, 29.6, 30.9, 31.5, 26.0, 26.8, 25.9, 22.6, 28.2, 26.9, 27.7, 21.6, 23.6, 21.6, 28.0, 27.7, 24.9, 26.9, 27.2, 28.3, 28.9, 28.4, 29.3, 26.7, 28.7, 21.8, 27.6, 27.3, 25.6, 24.8, 23.1, 21.2, 23.3, 23.7, 22.8, 20.6, 22.6, 19.6, 19.8, 17.4, 15.2, 22.2, 22.8, 21.6, 21.3, 15.4, 20.1, 21.0, 21.8, 21.5, 20.4, 18.5, 19.8, 19.5, 17.4, 12.2, 12.2, 12.2, 13.4, 16.3, 17.3, 18.9, 17.0, 15.0, 16.2, 18.5, 15.7, 18.2, 17.7, 17.2, 17.3, 17.4, 15.5, 13.4, 10.9, 6.2, 6.7, 10.5, 9.4, 7.6, -1.8, 8.8, 11.4, 13.5, 9.3, 15.2, 11.4, 8.0, 5.6, 1.6, 6.3, 9.3, 10.8, 8.4, 6.9, 11.1, 7.3, 6.0, 8.7, 6.5, 7.0, 8.9, 10.1, 11.7, 3.4, 7.2, 10.5, 1.9, 2.2, 0.1, -2.5, 1.4, 2.9, 5.0, 4.0, 1.8, -4.0, -5.7, -5.1, -1.0, -2.8, -3.7, -4.4, -4.3, -2.1, -0.2, 0.1, 0.1, -5.2, -4.7, -2.3, -1.6, -0.7, 4.1, 3.3, -0.2, -1.4, 0.9, 2.9, 0.3, -5.6, -5.2, -5.0, -2.3, -3.1, 0.9, -4.1, -0.6, -2.2, -5.3, -5.9, -5.9, -5.3, -3.0, -0.8, 3.8, 1.9, -5.7, -3.4, -0.2, -1.2, -8.4, -6.3, -3.5, -3.2, -0.1, 5.0, 5.1, 2.8, 2.0, 1.4, 0.3, 2.0, 4.3, 3.7, 6.6, 8.0, 5.1, 4.1, 7.8, 6.7, 2.6, -0.9, -0.1, 0.6, 4.6, 3.3, 1.7, 3.0, 4.0, 5.3, 5.9, 7.5, 7.8, 3.0, 6.7, 6.3, 7.7, 12.0, 7.5, 7.6, 7.3, 8.8, 11.6, 6.1, 6.5, 7.5, 7.9, 7.6, 8.3, 7.1, 8.2, 9.1, 14.2, 12.7, 8.4, 15.0, 12.9, 20.3, 20.2, 13.6, 8.4, 13.5, 16.9, 15.3, 18.5, 18.8, 20.0, 19.1, 19.3, 18.4, 21.6, 18.2, 13.2, 17.8, 19.2, 17.8, 18.9, 20.9, 23.0, 21.4, 15.5, 20.6, 18.4, 20.9, 19.6, 15.9, 20.6, 21.3, 21.6, 24.1, 23.1, 23.9, 23.9, 25.6, 24.9, 25.3, 19.5, 20.5, 24.8, 22.5, 25.1, 24.4, 23.9, 26.2, 28.1, 26.3, 26.3, 26.1, 26.9, 24.0, 20.3, 25.3, 25.8, 25.4, 25.8, 26.8, 28.0, 32.4, 30.5, 28.3, 28.2, 26.9, 24.6, 27.4, 21.8, 24.6, 29.2, 32.4, 34.2, 31.9, 30.5, 25.5, 22.6, 23.5, 27.3, 27.6, 28.9, 23.0, 28.7, 29.0, 23.5, 28.0, 27.9, 24.9, 28.7, 30.2, 32.3, 29.4, 25.5, 23.5, 29.8, 29.5, 24.6, 25.7, 27.0, 29.7, 29.4, 23.9, 26.7, 30.1, 32.7, 29.2, 29.3, 29.9, 31.0, 31.5, 31.0, 25.0, 30.0, 30.7, 30.0, 32.3, 33.2, 32.2, 31.1, 33.3, 34.7, 32.1, 29.7, 31.5, 30.9, 31.9, 31.9, 31.3, 31.7, 33.1, 35.2, 32.5, 32.9, 32.7, 31.3, 26.1, 29.2, 31.9, 34.7, 34.6, 31.3, 31.2, 29.5, 27.3, 23.9, 29.5, 30.2, 28.5, 26.6, 29.4, 29.7, 24.2, 24.8, 21.3, 24.0, 23.9, 27.1, 26.0, 28.7, 26.1, 27.5, 24.7, 24.4, 24.7, 25.3, 26.7, 27.7, 26.9, 24.6, 27.2, 25.7, 24.3, 26.4, 27.8, 25.5, 21.9, 22.5, 25.1, 22.2, 19.3, 23.8, 25.2, 25.1, 20.7, 19.3, 17.3, 18.4, 21.0, 21.4, 22.4, 22.8, 23.8, 25.7, 21.1, 22.6, 22.0, 23.3, 19.8, 21.7, 21.8, 21.5, 12.8, 10.7, 19.1, 21.5, 19.8, 20.7, 22.2, 17.1, 11.1, 12.2, 11.9, 15.2, 16.1, 11.9, 15.4, 18.6, 20.1, 21.2, 20.0, 18.1, 16.3, 11.4, 16.1, 11.6, 8.5, 13.3, 13.2, 16.5, 12.9, 16.0, 9.4, 9.6, 9.6, 12.8, 11.5, 9.3, 11.6, 8.9, 2.7, 4.2, 9.1, 12.0, 8.3, 7.3, 10.2, 9.5, 1.5, 4.1, 6.6, 8.5, 14.5, 9.9, 13.1, 9.8, 9.2, 7.0, 6.1, 4.1, 3.8, 0.5, 1.6, 3.3, -0.1, -3.5, -5.6, -7.0, -3.3, -0.6, -2.3, -5.0, -4.8, 0.3, 1.4, 3.0, 3.4, 3.5, -0.6, -1.0, -0.5, -3.0, -1.2, 2.0, -2.4, -0.6, -0.8, -7.5, -7.6, 3.0, -7.5, -2.6, 2.8, 0.7, -1.2, -0.5, 2.0, -1.3, -1.0, 0.0, 2.9, 1.8, -7.0, -9.7, -8.3, 1.8, 4.7, 6.2, 4.3, 3.5, 10.4, 9.5, 8.2, 9.4, 6.8, 5.8, 3.8, 3.4, 0.8, 1.9, 6.8, 3.7, 5.3, 2.5, 10.2, -0.2, -4.7, -3.5, -4.1, -1.6, 1.0, 2.9, 8.9, 10.8, 5.0, 7.5, 7.7, 6.3, 2.8, 1.9, 8.2, 6.9, 1.9, 4.1, 5.7, 7.6, 8.2, 9.2, 12.9, 10.0, 13.5, 12.4, 16.5, 15.7, 13.6, 13.3, 15.4, 19.0, 12.9, 13.7, 7.9, 9.1, 6.7, 8.8, 10.3, 12.8, 14.5, 9.3, 7.4, 14.8, 15.2, 19.3, 20.1, 23.0, 21.0, 15.9, 20.4, 24.3, 20.6, 19.8, 20.1, 10.5, 17.6, 15.8, 20.0, 22.1, 14.6, 14.1, 20.5, 22.9, 15.8, 17.0, 17.5, 22.4, 24.8, 22.9, 25.0, 24.7, 24.9, 18.1, 15.8, 19.0, 20.9, 27.3, 27.5, 27.3, 25.8, 19.0, 25.7, 26.8, 29.6, 27.9, 17.8, 17.5, 17.3, 20.3, 24.9, 25.2, 23.2, 20.5, 26.9, 27.2, 29.1, 26.5, 25.2, 22.1, 23.8, 26.8, 24.8, 28.1, 30.0, 29.1, 20.3, 26.5, 24.5, 26.6, 25.7, 28.2, 25.6, 24.7, 25.8, 28.1, 24.6, 28.4, 29.8, 29.7, 27.0, 26.6, 27.7, 27.0, 29.8, 31.9, 27.1, 30.3, 30.6, 29.9, 26.3, 30.9, 23.1, 27.2, 28.0, 27.5, 25.6, 25.4, 29.4, 26.5, 28.1, 23.5, 27.3, 29.3, 30.7, 27.8, 24.9, 28.2, 25.6, 30.5, 31.2, 32.7, 30.1, 31.8, 32.0, 33.5, 32.1, 33.6, 35.4, 34.7, 33.4, 32.1, 27.3, 28.4, 30.0, 25.9, 31.9, 31.9, 34.3, 27.4, 24.4, 30.2, 32.7, 31.7, 29.1, 28.3, 30.2, 29.1, 32.8, 33.6, 33.2, 32.4, 33.4, 34.1, 33.5, 32.1, 31.0, 26.5, 28.4, 29.6, 32.3, 25.7, 30.1, 24.3, 30.0, 25.6, 29.7, 26.0, 28.5, 28.2, 29.4, 22.2, 24.7, 26.5, 23.8, 22.4, 17.8, 23.7, 19.7, 22.4, 20.1, 19.7, 21.2, 23.7, 21.4, 24.5, 21.5, 23.4, 22.6, 22.1, 21.4, 19.7, 17.5, 20.4, 23.4, 23.2, 18.2, 17.6, 20.4, 23.7, 24.9, 19.1, 25.7, 20.6, 20.3, 19.3, 23.0, 18.5, 15.7, 15.2, 13.1, 15.4, 17.1, 18.6, 18.7, 18.8, 19.0, 18.8, 20.4, 21.7, 20.9, 20.9, 17.7, 13.5, 14.5, 15.8, 16.3, 16.7, 16.1, 18.8, 17.7, 11.9, 6.7, 4.5, 5.2, 4.1, 6.3, 6.7, 5.9, 5.6, 4.4, 7.1, 10.7, 11.9, 12.2, 10.7, 4.7, 7.5, 10.5, 11.1, 8.1, 1.0, 0.2, 2.4, 1.1, 7.2, 7.0, 8.1, -0.3, 0.7, -3.3, -6.1, -7.2, -3.9, -1.9, 2.2, -2.6, -7.5, -6.7, -5.0, -1.8, -1.1, -1.1, 2.0, 3.7, -0.2, 0.4, 4.4, 2.0, 5.5, 8.2, 3.8, 3.7, -1.1, -6.1, -5.6, 0.2, -3.2, -13.6, -5.9, -1.0, -4.4, -6.8, -7.4, -6.5, -3.2, -3.5, 1.0, 2.6, 1.3, 3.8, 7.1, 5.7, 3.9, 0.4, -2.9, 2.8, -1.9, -3.8, -5.4, -3.3, 3.9, 5.2, 5.5, -1.8, -2.3, 0.1, -5.8, -3.8, -4.4, -4.0, -3.5, -1.1, -0.9, -0.6, 1.7, 4.6, 1.5, 3.4, 3.6, 5.2, 4.8, 5.1, 3.1, 2.1, 3.4, 4.4, 0.7, 1.2, 4.0, -0.8, -4.7, 1.2, 1.4, 3.9, 9.0, 8.7, 10.5, 12.2, 13.6, 12.9, 8.7, 4.0, 6.2, 6.3, 10.3, 15.1, 8.0, 7.5, 10.2, 7.7, 3.4, 7.3, 11.7, 10.7, 11.4, 11.5, 12.5, 13.6, 16.2, 18.6, 15.9, 13.3, 13.3, 14.1, 17.8, 17.4, 17.6, 14.4, 11.4, 13.6, 17.9, 22.0, 17.4, 12.1, 13.7, 18.3, 21.8, 17.2, 13.6, 17.5, 21.7, 24.3, 16.1, 17.4, 19.0, 19.9, 20.1, 18.0, 15.7, 17.0, 20.9, 23.3, 24.2, 15.4, 20.7, 25.0, 26.5, 26.5, 24.9, 24.3, 25.9, 17.5, 17.0, 19.0, 24.1, 16.8, 16.0, 15.4, 18.3, 25.6, 23.8, 22.5, 22.6, 22.0, 23.0, 25.3, 21.5, 27.2, 21.2, 25.6, 25.5, 27.3, 27.5, 24.0, 24.9, 26.5, 27.1, 24.0, 24.8, 22.5, 28.0, 28.0, 25.8, 28.8, 32.4, 30.9, 26.0, 25.2, 21.1, 20.6, 19.8, 24.0, 25.8, 26.5, 29.6, 28.5, 27.9, 24.8, 28.0, 27.7, 29.7, 25.7, 26.0, 26.9, 24.8, 25.7, 24.7, 23.8, 23.7, 27.8, 29.9, 31.5, 27.9, 28.7, 23.3, 27.1, 25.3, 28.5, 29.3, 25.5, 25.1, 26.0, 24.7, 27.1, 25.4, 28.0, 27.0, 23.3, 26.9, 28.6, 27.2, 30.0, 28.2, 31.2, 31.7, 32.8, 31.3, 32.1, 28.8, 29.8, 29.7, 29.0, 30.4, 30.6, 29.9, 25.2, 27.1, 27.2, 30.1, 31.6, 26.4, 25.4, 24.7, 29.5, 26.4, 27.8, 27.8, 26.9, 29.4, 30.5, 30.5, 23.6, 23.2, 24.7, 27.6, 28.2, 31.0, 21.4, 28.2, 26.6, 28.0, 27.0, 27.0, 26.6, 26.8, 27.2, 26.1, 25.5, 23.5, 25.6, 25.8, 25.5, 20.6, 20.9, 24.5, 19.6, 17.6, 24.1, 24.5, 22.9, 25.2, 24.9, 23.6, 24.6, 22.9, 22.7, 19.0, 19.1, 22.8, 23.8, 22.0, 23.5, 23.9, 21.8, 17.4, 20.0, 18.8, 19.6, 19.4, 20.4, 17.8, 17.6, 14.6, 17.3, 17.5, 13.8, 12.2, 16.5, 15.5, 16.2, 17.4, 14.1, 13.6, 10.4, 8.0, 8.4, 12.3, 14.2, 14.4, 13.2, 11.1, 13.0, 13.7, 13.7, 9.8, 9.0, 10.4, 9.5, 13.0, 12.3, 12.5, 4.8, 6.1, 7.6, 11.1, 10.3, 9.7, 9.8, 8.7, 16.2, 11.7, 5.0, 0.3, 2.9, 4.8, 0.6, 5.0, 8.9, 8.8, 5.7, 4.6, 5.4, 7.8, 3.5, 6.4, 7.2, 8.2, 9.1, 10.3, 13.2, 10.5, 8.3, 8.6, 8.9, 5.4, 2.1, 3.0, 5.4, 0.4, 3.7, 8.9, 3.3, -2.8, -3.0, -2.5, -0.8, 3.2, 4.5, -0.2, 2.8, 0.4, -1.8, 0.8, 4.6, 2.4, 5.6, 3.7, -5.7, -0.5, -2.9, -8.5, -2.6, 5.6, 6.0, 1.7, -0.8, -0.7, 0.5, 4.0, 8.9, 3.1, -4.2, -3.6, 0.4, 5.0, 6.0, 6.7, -2.1, -3.4, -0.9, -3.2, -0.2, -1.0, 4.1, 5.8, 6.2, 8.4, 12.8, 10.8, 10.1, 5.8, 4.0, 2.5, 0.1, 1.9, 6.3, 6.5, 6.5, 4.4, 3.6, 5.8, 9.4, 3.6, -1.3, -1.0, -2.7, 3.4, 0.6, 2.2, 5.7, 7.7, 7.9, 4.6, 9.0, 7.4, 8.4, 7.1, 7.6, 14.5, 13.2, 6.2, 6.3, 8.3, 14.5, 11.6, 7.3, 13.8, 12.0, 9.8, 17.5, 10.9, 0.9, 5.6, 7.2, 8.8, 14.1, 8.1, 8.5, 9.0, 10.5, 6.8, 18.0, 24.7, 16.4, 15.8, 22.0, 17.0, 10.9, 10.8, 8.8, 10.3, 12.8, 17.7, 19.6, 18.2, 21.0, 19.8, 23.0, 20.8, 10.5, 15.9, 18.4, 14.2, 18.5, 17.4, 19.8, 21.2, 18.1, 23.9, 19.6, 16.8, 17.9, 17.8, 19.7, 21.0, 22.5, 23.5, 20.5, 21.4, 24.3, 20.4, 23.5, 24.2, 21.2, 15.4, 22.3, 22.4, 26.5, 28.9, 21.6, 20.4, 24.2, 21.2, 26.0, 24.7, 25.0, 23.6, 24.4, 29.0, 28.2, 21.2, 23.6, 28.3, 28.7, 28.3, 22.3, 26.8, 27.1, 28.6, 29.0, 27.3, 26.5, 26.1, 26.2, 25.5, 28.4, 28.3, 24.9, 22.7, 28.4, 29.3, 28.6, 26.5, 31.6, 31.2, 30.9, 24.8, 27.6, 27.2, 30.6, 29.5, 28.7, 29.1, 27.5, 28.3, 29.0, 26.2, 30.6, 25.6, 24.5, 25.3, 26.8, 25.3, 23.1, 23.3, 26.6, 28.6, 30.4, 31.2, 25.7, 24.6, 25.6, 25.8, 29.4, 24.4, 26.8, 30.0, 25.6, 25.6, 26.1, 31.5, 27.8, 29.2, 24.7, 30.2, 27.8, 23.6, 25.6, 28.0, 27.7, 28.5, 29.0, 29.8, 31.6, 28.4, 25.9, 29.3, 30.3, 29.6, 25.2, 27.8, 30.3, 29.9, 31.1, 28.6, 30.4, 27.5, 30.5, 25.0, 22.4, 24.6, 27.4, 28.6, 28.6, 26.7, 21.1, 23.6, 24.8, 25.6, 27.0, 27.4, 27.2, 28.3, 27.3, 27.2, 27.8, 23.7, 23.8, 24.3, 25.4, 27.9, 23.0, 26.7, 25.6, 26.8, 19.6, 15.9, 19.9, 23.7, 23.6, 26.0, 26.3, 21.9, 24.7, 26.5, 27.2, 24.0, 24.1, 23.6, 25.8, 27.3, 25.8, 23.6, 19.6, 21.5, 19.4, 24.1, 21.6, 17.5, 13.6, 10.9, 11.2, 14.2, 15.6, 19.3, 15.5, 19.3, 17.6, 20.9, 17.2, 19.9, 17.7, 15.3, 12.0, 13.4, 13.4, 8.5, 11.7, 10.6, 10.4, 15.0, 15.9, 19.0, 17.2, 15.7, 15.3, 14.4, 13.9, 12.2, 11.6, 7.7, 11.7, 15.0, 15.7, 15.1, 9.4, 15.1, 14.4, 10.9, 4.2, -2.4, -0.9, -5.0, -1.5, -0.3, 1.0, 4.2, 5.1, 4.2, 7.8, 9.0, 9.3, -0.9, 1.8, 1.7, 4.9, 5.2, 4.4, 5.2, 7.0, 7.8, 4.0, 6.0, 6.3, 6.7, 8.8, 10.2, 7.9, 10.3, 11.8, 10.0, 0.0, 0.0, -0.8, 1.6, 1.3, 3.2, 1.9, 2.6, 1.0, 4.8, -2.9, -3.2, 0.6, 4.1, 6.3, 10.1, 5.7, 0.0, 1.7, 1.7, 2.8, 5.1, 4.5, 5.1, -4.6, -4.2, -1.8, -0.5, 5.1, 3.8, 4.3, -0.7, -0.1, 3.4, 1.6, -3.9, 1.3, 6.2, -2.6, -4.1, -0.9, -0.3, -1.3, 0.5, 2.2, 5.3, 2.9, -1.5, -2.8, -1.2, -0.7, 4.4, 6.4, 8.6, 7.7, 9.2, 7.9, 8.7, 10.8, 12.2, 7.0, 6.2, 7.1, 1.6, 1.2, 1.4, 4.0, 2.5, 0.1, 1.6, 7.0, 10.8, 5.1, 9.4, 14.6, 11.9, 8.5, 7.7, 11.6, 5.8, 8.5, 11.0, 14.1, 13.2, 7.8, 10.5, 13.2, 11.8, 13.4, 12.2, 14.8, 16.1, 15.2, 14.9, 18.6, 16.3, 19.6, 9.9, 14.3, 15.3, 12.5, 14.0, 15.4, 17.4, 15.6, 15.3, 13.1, 18.6, 19.7, 23.8, 12.2, 12.7, 17.4, 14.7, 13.6, 13.8, 15.0, 17.0, 20.5, 20.1, 23.0, 22.5, 20.3, 22.2, 22.1, 22.5, 23.6, 22.1, 23.6, 21.7, 22.2, 18.0, 21.3, 18.4, 21.8, 24.6, 21.7, 21.3, 23.0, 23.4, 25.6, 28.4, 31.7, 28.1, 16.2, 21.2, 23.5, 25.5, 26.3, 23.3, 24.0, 26.8, 28.4, 23.1, 16.9, 23.4, 22.4, 20.0, 26.2, 24.9, 28.6, 23.5, 26.5, 26.7, 28.0, 31.1, 28.8, 28.6, 29.0, 28.2, 25.8, 28.0, 26.3, 26.5, 31.1, 30.6, 27.8, 28.9, 31.4, 32.8, 32.0, 29.0, 26.9, 29.9, 31.6, 26.0, 30.8, 28.7, 24.9, 29.9, 29.4, 25.0, 23.6, 27.4, 27.5, 26.2, 28.8, 25.4, 30.0, 27.0, 28.9, 28.3, 27.6, 25.2, 30.0, 24.4, 27.2, 27.7, 25.1, 25.8, 27.4, 30.2, 30.8, 31.1, 31.3, 34.2, 32.5, 32.9, 33.2, 33.2, 33.1, 36.0, 33.4, 33.8, 36.6, 34.4, 33.1, 33.9, 34.7, 33.2, 32.8, 31.4, 31.2, 30.8, 29.8, 27.9, 27.6, 29.4, 28.8, 28.5, 29.0, 23.7, 24.6, 23.6, 26.6, 28.4, 28.0, 27.6, 27.8, 29.4, 27.4, 30.0, 30.8, 30.2, 29.5, 24.3, 20.2, 26.4, 27.0, 25.8, 25.6, 27.4, 28.4, 28.8, 21.8, 26.1, 27.4, 27.0, 25.6, 27.8, 24.9, 21.2, 24.0, 25.3, 25.0, 23.9, 24.3, 24.6, 24.5, 25.6, 19.7, 21.5, 23.7, 21.9, 23.6, 25.1, 23.0, 18.4, 14.4, 19.6, 21.6, 21.3, 21.7, 20.7, 22.6, 17.3, 20.4, 21.1, 22.0, 16.5, 20.4, 23.0, 17.9, 15.7, 15.6, 14.1, 15.4, 15.9, 12.1, 14.2, 14.2, 14.0, 15.2, 17.0, 17.9, 14.2, 6.6, 12.6, 16.5, 15.5, 8.3, 11.5, 8.4, 8.4, 9.5, 7.7, 12.1, 13.1, 13.9, 11.9, 1.0, 1.0, 0.9, 2.9, 8.4, 6.8, 7.2, 7.6, 8.6, 8.6, 4.8, 1.0, 8.1, 13.9, 13.2, 1.4, 1.2, 4.4, 10.6, 10.1, 2.8, -5.3, -3.7, 1.5, 5.6, 4.3, 5.3, 2.5, 3.7, 4.2, 4.3, 0.0, 1.4, 2.2, 1.2, 2.7, 4.7, 2.1, 3.5, 2.9, 2.9, 1.5, 6.3, 7.1, 11.2, 9.8, 6.8, 8.2, 6.6, 2.3, 1.1, 0.2, 0.6, 4.3, 4.6, 3.0, 6.2, 6.1, 5.4, 8.2, 5.0, 2.7, 3.9, 3.3, -4.8, -1.3, 0.5, 1.1, 2.9, 1.4, -1.4, 1.4, 4.8, 6.2, 7.0, 9.3, 6.4, 5.0, 3.2, 4.2, 7.7, 8.9, 10.6, 8.7, 15.4, 10.0, 10.0, 11.0, 8.1, 4.9, 6.3, 6.5, 7.8, 4.3, 9.2, 11.8, 9.0, 11.8, 7.6, 7.4, 7.4, 4.3, 2.3, 1.6, 3.8, 7.9, 11.0, 10.1, 12.7, 14.2, 10.7, 11.3, 7.0, 11.1, 12.3, 16.1, 14.1, 13.0, 14.9, 13.3, 8.5, 12.3, 14.1, 13.0, 13.2, 15.6, 15.7, 13.4, 15.5, 17.4, 17.9, 19.5, 19.6, 22.6, 18.7, 20.1, 19.7, 12.4, 16.8, 21.3, 25.1, 18.7, 25.3, 14.2, 15.4, 20.8, 26.0, 29.1, 29.4, 20.4, 22.7, 23.3, 20.3, 18.8, 19.5, 21.2, 22.2, 21.1, 24.9, 25.3, 24.8, 25.5, 28.5, 29.6, 24.9, 15.9, 20.5, 24.2, 22.1, 22.3, 17.2, 14.0, 20.8, 20.6, 25.8, 28.3, 25.8, 21.1, 20.9, 21.8, 24.1, 22.5, 19.4, 23.7, 28.3, 25.5, 26.7, 23.7, 26.0, 27.2, 27.6, 28.7, 27.3, 25.3, 26.2, 31.1, 24.8, 18.5, 24.6, 26.2, 26.4, 30.1, 23.9, 21.6, 23.6, 23.8, 22.5, 22.1, 25.2, 26.1, 27.5, 31.9, 28.2, 28.6, 26.5, 25.1, 26.9, 30.1, 28.2, 28.3, 26.3, 25.8, 27.5, 29.8, 30.8, 30.7, 24.0, 28.1, 28.7, 23.6, 28.6, 29.6, 31.0, 25.8, 27.0, 29.5, 31.3, 31.5, 27.9, 29.0, 31.3, 31.1, 30.5, 27.7, 29.9, 23.7, 25.2, 26.1, 31.4, 33.3, 31.1, 30.1, 31.6, 33.4, 35.3, 34.6, 30.9, 30.7, 30.4, 30.2, 26.6, 27.5, 31.4, 32.5, 31.1, 30.2, 30.5, 30.9, 29.7, 27.0, 24.1, 26.3, 30.0, 30.2, 29.2, 29.8, 29.6, 29.0, 24.2, 25.4, 27.9, 25.1, 26.4, 25.6, 25.8, 26.7, 28.7, 29.5, 28.6, 24.9, 28.6, 25.8, 27.7, 27.9, 22.3, 24.4, 27.1, 22.0, 26.4, 23.9, 23.6, 24.1, 25.7, 26.2, 24.0, 22.7, 23.5, 18.7, 22.9, 22.6, 22.4, 23.7, 23.4, 23.0, 22.8, 19.2, 19.7, 16.2, 16.8, 18.6, 17.1, 18.8, 16.9, 20.9, 23.3, 18.2, 16.1, 10.4, 14.9, 14.4, 16.2, 18.7, 18.7, 18.8, 21.5, 19.8, 19.6, 20.6, 20.2, 20.2, 18.2, 15.0, 17.2, 17.4, 17.2, 13.7, 17.4, 12.8, 17.0, 13.9, 16.7, 12.0, 11.8, 9.1, 8.1, 9.5, 12.4, 11.1, 12.6, 7.3, 4.8, 10.5, 11.4, 12.5, 12.2, 11.2, 11.2, 12.3, 9.8, 2.4, 0.1, 1.6, 5.5, 11.5, 14.7, 11.6, 7.2, 7.4, 2.5, 2.0, 6.6, 4.6, 7.4, 5.6, 3.6, 1.1, 4.7, 6.4, 8.3, 8.3, 9.9, 4.9, 3.0, 3.1, 2.9, 3.2, 4.7, 2.5, -2.2, -0.4, 2.1, -1.4, 0.1, 1.8, -0.9, -1.7, 2.1, 2.1, 0.2, 2.5, 4.2, 7.8, 6.4, 3.8, 3.1, -1.7, 1.3, -1.9, 1.4, 5.7, 5.2, -2.4, -3.6, -0.8, -1.3, -7.0, -10.5, -10.6, -5.4, -2.0, 2.3, 4.6, 1.6, 0.1, 0.2, 0.3, 1.2, 1.6, 1.8, 2.7, 2.7, 5.3, 7.4, 3.9, 4.2, 2.7, 4.7, 8.6, 6.4, 9.2, 10.5, 7.3, 7.5, 5.0, 11.2, 9.5, 8.2, 8.2, 4.0, 5.2, 9.0, 12.9, 12.5, 12.3, 12.0, 9.7, 9.3, 10.1, 8.0, 9.2, 10.7, 15.5, 9.2, 10.1, 11.5, 7.8, 7.7, 11.1, 4.9, 10.1, 11.8, 10.1, 18.8, 18.4, 17.4, 13.3, 14.5, 16.3, 13.6, 9.0, 10.0, 10.8, 12.1, 15.2, 18.4, 11.0, 9.6, 12.5, 15.0, 9.8, 13.1, 19.5, 22.2, 26.3, 19.5, 12.2, 7.1, 12.8, 14.0, 15.5, 16.8, 19.5, 17.6, 20.8, 15.4, 11.4, 15.0, 15.5, 15.7, 20.5, 16.3, 23.5, 26.1, 18.9, 14.8, 12.8, 12.8, 18.4, 21.7, 22.7, 18.0, 27.1, 25.8, 18.3, 24.6, 18.9, 24.1, 24.9, 23.4, 22.7, 16.0, 22.4, 19.5, 18.2, 19.1, 23.1, 21.4, 22.3, 24.9, 25.0, 24.9, 24.2, 22.2, 18.2, 17.1, 23.5, 26.2, 28.4, 26.4, 28.8, 29.0, 22.1, 18.8, 23.7, 23.1, 25.5, 29.1, 25.4, 26.4, 26.4, 29.4, 24.2, 22.8, 23.0, 21.2, 22.5, 25.1, 24.6, 24.3, 21.6, 23.1, 24.0, 24.9, 26.8, 27.4, 21.2, 22.3, 26.3, 28.6, 27.8, 29.6, 31.3, 32.3, 31.3, 26.2, 31.4, 27.3, 24.0, 27.7, 28.2, 26.4, 25.3, 29.4, 28.3, 25.7, 28.7, 26.7, 26.6, 29.0, 28.9, 29.3, 32.0, 34.2, 33.5, 33.2, 33.0, 33.9, 33.4, 32.9, 33.7, 34.3, 35.5, 33.7, 32.0, 31.1, 31.1, 32.8, 33.3, 27.8, 31.4, 27.7, 30.6, 30.2, 26.0, 25.3, 24.6, 31.6, 29.1, 30.3, 30.0, 30.4, 31.7, 31.8, 31.0, 31.9, 25.1, 21.4, 31.1, 27.0, 27.1, 28.2, 25.9, 30.8, 28.3, 27.0, 23.8, 18.8, 27.0, 27.2, 23.2, 25.6, 26.3, 23.6, 21.8, 25.9, 25.7, 26.5, 26.3, 23.9, 24.0, 25.5, 26.3, 23.8, 25.7, 27.1, 25.3, 23.4, 23.1, 23.2, 24.0, 25.3, 27.1, 26.1, 22.0, 18.1, 19.7, 18.9, 21.4, 22.4, 22.7, 22.4, 22.0, 16.4, 18.2, 20.7, 21.8, 23.5, 23.5, 22.6, 19.5, 18.1, 17.1, 18.6, 19.1, 19.7, 20.6, 19.6, 19.1, 19.5, 17.7, 21.9, 17.8, 12.7, 14.1, 13.2, 10.9, 1.3, 11.7, 17.5, 16.2, 18.5, 19.5, 16.9, 19.1, 18.0, 15.2, 13.4, 2.9, 9.2, 11.7, 11.8, 12.7, 10.2, 16.1, 17.8, 16.4, 14.4, 9.0, -1.8, 2.3, 7.4, 11.1, 12.8, 13.7, 13.8, 13.6, 11.7, 5.8, 3.6, 3.8, 4.5, 0.9, 3.5, 1.9, 3.0, 4.1, 6.1, 9.0, 5.3, -0.8, 1.4, 2.6, -5.8, -4.8, -1.2, 0.4, 3.7, 8.8, 3.2, -3.4, -0.4, -5.3, -7.0, -2.6, -0.7, -3.9, -0.2, 1.7, 0.2, 0.3, -2.7, -2.3, 2.2, 6.5, 3.3, 2.6, 6.4, 9.7, 8.1, 4.6, 7.2, 2.1, 0.3, 1.7, 1.4, 4.8, 5.6, 3.9, 3.6, 1.1, 2.5, 3.6, 1.1, 1.6, 4.4, 3.8, 4.1, 8.4, 8.5, 5.8, 7.1, 10.0, 12.0, 6.0, 7.6, 4.9, 2.8, -1.0, -0.8, -3.5, -8.4, -6.8, -2.8, 2.4, 4.4, 5.2, 3.8, 5.2, 6.4, 8.4, 10.0, 13.0, 11.1, 9.0, 2.0, 3.1, 4.1, 7.6, 8.6, 7.0, 4.5, 5.9, 5.8, 8.4, 11.4, 16.4, 14.8, 10.7, 13.9, 14.0, 17.0, 18.9, 15.8, 5.6, 11.8, 11.1, 9.9, 6.4, 8.4, 11.2, 13.9, 15.0, 15.8, 19.5, 24.1, 22.7, 23.6, 22.4, 25.6, 23.1, 14.7, 16.6, 15.6, 21.9, 19.7, 17.1, 17.7, 17.3, 18.8, 20.1, 23.6, 22.3, 19.8, 18.9, 21.4, 21.5, 20.4, 19.2, 14.9, 16.0, 19.6, 20.1, 24.7, 17.2, 19.5, 18.1, 22.9, 23.4, 23.0, 23.0, 23.5, 26.8, 24.6, 17.2, 22.2, 23.9, 27.6, 30.2, 29.6, 29.5, 31.1, 23.6, 20.1, 13.4, 21.8, 24.1, 25.2, 24.3, 27.2, 24.1, 27.9, 22.7, 25.7, 26.1, 29.2, 30.4, 30.9, 25.0, 25.8, 24.9, 24.5, 26.9, 30.0, 30.9, 30.9, 26.9, 28.3, 28.9, 25.0, 28.3, 28.6, 29.8, 27.4, 29.1, 26.3, 27.9, 31.8, 25.8, 29.0, 24.6, 29.5, 30.8, 31.2, 29.9, 29.6, 25.6, 25.7, 24.5, 27.6, 25.2, 29.4, 29.1, 29.1, 24.5, 26.7, 28.6, 30.3, 27.4, 25.9, 25.9, 27.3, 27.9, 25.7, 24.4, 27.0, 29.5, 32.0, 30.3, 27.7, 29.5, 30.3, 24.4, 28.3, 25.9, 30.0, 28.2, 28.7, 30.8, 25.4, 29.5, 30.9, 31.5, 31.8, 33.2, 34.2, 31.4, 31.5, 31.6, 31.5, 34.7, 33.2, 29.3, 24.4, 29.9, 30.1, 30.0, 29.1, 29.7, 31.8, 29.1, 29.2, 30.5, 30.2, 25.1, 23.4, 23.2, 25.9, 29.6, 31.0, 29.8, 28.0, 24.2, 26.2, 28.7, 28.0, 27.2, 27.0, 25.8, 28.1, 25.2, 22.6, 24.0, 26.2, 23.1, 23.6, 24.2, 21.4, 19.0, 21.4, 22.5, 21.0, 25.8, 23.6, 21.7, 20.8, 21.3, 22.2, 18.8, 23.5, 24.6, 24.1, 25.2, 24.2, 24.2, 17.7, 17.9, 17.4, 17.2, 20.6, 13.0, 14.1, 17.0, 14.8, 17.1, 16.3, 18.3, 22.3, 14.9, 15.3, 16.4, 17.0, 18.1, 16.2, 15.7, 14.2, 9.3, 14.7, 17.6, 11.0, 10.6, 9.6, 7.7, 5.8, 10.4, 12.3, 8.4, 9.4, 11.2, 10.6, 11.3, 9.9, 8.8, 12.3, 12.6, 12.7, 4.6, 7.7, 9.1, 9.7, 10.9, 11.5, 11.0, 7.8, 8.8, 7.3, 8.4, 12.3, 12.8, 10.9, 6.4, 1.8, 2.0, 1.1, -4.7, 2.9, 9.6, 12.5, 12.9, 8.8, 4.6, 6.3, 7.4, 6.0, 10.7, 8.0, 5.6, 4.5, 5.2, 3.7, -2.2, -3.9, -0.2, 4.1, 6.0, 5.1, 1.8, 2.3, 2.4, 5.6, 4.2, 3.8, 3.5, 5.7, 4.3, 5.7, 3.7, 4.1, 2.8, 1.6, -2.4, -2.0, -0.6, 2.4, 5.0, 1.9, 1.4, 3.3, 5.4, 5.6, 4.9, 7.6, 5.0, 4.1, 2.1, 3.3, 1.3, 4.1, 1.8, 3.8, 3.1, 1.2, 0.6, 3.8, 4.8, 4.1, 2.9, 2.5, 4.9, 8.2, 0.4, 2.6, 4.4, 0.2, 2.8, 2.5, 5.4, 4.8, 5.5, 8.5, 12.6, 15.8, 15.9, 13.2, 14.3, 11.7, 11.0, 8.7, 6.3, 6.9, 6.5, 10.0, 10.9, 10.3, 12.0, 12.1, 13.5, 14.8, 16.4, 8.0, 7.8, 10.3, 11.3, 11.3, 11.2, 13.4, 8.9, 8.7, 10.7, 16.9, 20.2, 19.3, 17.7, 18.2, 19.8, 17.5, 18.3, 20.4, 22.0, 21.5, 21.6, 20.2, 16.7, 24.3, 13.8, 12.8, 10.0, 13.5, 13.9, 8.9, 13.1, 18.0, 15.4, 15.9, 19.9, 17.9, 18.4, 21.0, 17.9, 18.9, 20.4, 22.3, 15.2, 21.0, 15.7, 18.1, 21.0, 20.7, 26.3, 27.3, 19.4, 18.0, 19.9, 20.1, 21.7, 24.0, 23.2, 15.4, 22.5, 22.1, 17.8, 19.5, 21.1, 23.6, 24.5, 24.8, 24.7, 21.3, 19.8, 14.5, 19.0, 22.0, 22.1, 25.8, 29.9, 28.1, 29.2, 29.6, 27.0, 21.0, 25.9, 25.7, 21.0, 23.0, 23.5, 20.7, 20.8, 24.3, 24.0, 26.6, 29.4, 29.2, 24.9, 25.7, 25.5, 27.3, 24.4, 27.0, 26.4, 26.1, 27.0, 27.4, 29.8, 29.0, 29.7, 28.2, 27.5, 25.4, 22.5, 28.3, 31.3, 32.4, 30.6, 31.5, 30.3, 25.9, 22.7, 27.4, 28.2, 28.6, 28.1, 28.8, 24.4, 28.9, 31.5, 28.8, 28.1, 26.3, 30.3, 30.0, 29.0, 30.1, 26.1, 30.3, 30.6, 26.5, 29.4, 32.2, 31.4, 31.1, 30.5, 30.4, 26.0, 22.5, 30.0, 30.2, 29.6, 29.4, 26.9, 30.0, 25.4, 24.0, 27.2, 24.0, 30.4, 30.4, 31.2, 30.0, 30.4, 28.3, 27.7, 30.1, 30.3, 23.2, 25.6, 32.8, 32.7, 30.9, 26.9, 26.8, 27.8, 29.4, 30.9, 30.1, 23.9, 25.9, 25.3, 26.3, 26.5, 22.8, 23.3, 26.5, 27.7, 24.6, 24.4, 26.3, 25.4, 24.6, 26.1, 25.6, 26.2, 22.2, 23.5, 21.7, 21.9, 17.7, 20.7, 22.2, 25.1, 24.9, 19.6, 20.6, 18.9, 19.4, 19.7, 19.0, 20.6, 19.4, 21.3, 20.3, 21.7, 21.6, 21.6, 21.5, 21.6, 19.6, 20.3, 20.4, 20.0, 18.5, 14.9, 12.9, 11.5, 14.1, 16.5, 16.3, 16.3, 13.3, 13.8, 13.3, 13.8, 15.3, 15.3, 13.6, 17.1, 17.2, 11.3, 8.9, 5.5, 10.3, 13.0, 14.4, 13.3, 11.0, 7.1, 11.1, 15.3, 14.6, 5.5, 7.8, 10.3, 9.8, 13.6, 4.0, -2.4, 2.0, 7.1, 11.7, 13.8, 8.5, 10.3, 7.0, 10.6, 13.3, 10.3, 10.9, 9.2, 6.7, 5.2, 0.2, 2.5, 4.4, -1.3, 0.3, 4.1, 3.7, 4.0, 5.4, 13.0, 8.8, 2.2, -3.7, -2.0, 0.8, 4.3, 4.5, 4.1, 2.9, 5.4, 2.6, 4.8, 5.1, 4.8, 0.9, 3.0, 3.3, 2.9, 4.7, 6.2, 3.5, 0.6, 2.8, 2.3, 1.6, -0.2, -1.5, -1.0, -4.6, -4.2, -3.4, -1.3, 2.4, 3.7, 8.4, 5.5, 4.3, -3.2, -2.2, 0.4, 3.9, 4.9, 2.6, 5.4, 5.3, 7.9, 11.5, 14.2, 4.8, -0.7, 2.2, 5.5, 6.0, 7.1, 5.1, 7.8, 7.2, 4.6, 6.8, 6.6, 8.2, 9.4, 5.9, 4.1, -2.5, -1.2, 3.0, 4.5, 5.6, 1.9, -1.0, 4.5, 7.2, 9.6, 11.9, 8.3, 7.6, 9.8, 7.4, 8.8, 10.6, 12.2, 12.1, 11.3, 14.8, 8.6, 9.6, 9.9, 9.1, 11.2, 11.9, 15.0, 14.5, 8.9, 10.6, 14.4, 16.6, 14.5, 13.5, 11.3, 9.4, 15.1, 17.4, 15.8, 12.1, 14.3, 12.7, 6.7, 6.2, 10.1, 6.4, 10.5, 13.3, 14.1, 16.6, 18.3, 17.8, 17.8, 21.7, 23.2, 23.5, 23.5, 20.4, 21.8, 17.8, 16.3, 16.6, 19.7, 13.1, 14.3, 18.0, 19.9, 18.3, 19.8, 23.6, 21.2, 24.3, 26.0, 22.2, 21.4, 24.3, 22.9, 22.3, 18.1, 22.7, 25.4, 21.2, 18.9, 23.4, 25.6, 29.8, 21.9, 25.7, 24.5, 24.3, 17.6, 24.9, 27.3, 28.7, 31.9, 28.9, 30.4, 28.3, 19.3, 18.6, 24.8, 27.6, 26.5, 29.1, 28.2, 24.2, 23.8, 28.0, 24.0, 24.3, 23.4, 28.1, 29.1, 28.4, 27.6, 26.8, 25.7, 28.1, 28.4, 27.9, 27.1, 26.3, 29.2, 27.8, 22.8, 21.5, 19.3, 27.3, 30.1, 29.1, 30.8, 31.1, 29.6, 31.1, 25.0, 27.0, 29.5, 25.0, 24.9, 23.9, 30.1, 29.9, 26.6, 20.6, 27.6, 27.8, 27.7, 28.3, 28.6, 28.0, 24.7, 25.2, 25.6, 27.9, 30.2, 25.3, 27.2, 29.5, 29.7, 25.1, 26.7, 28.4, 27.8, 28.0, 27.4, 24.8, 30.5, 26.4, 30.3, 30.6, 24.0, 29.0, 25.5, 22.3, 27.0, 27.3, 29.0, 26.3, 21.6, 28.1, 29.6, 25.0, 28.1, 29.6, 29.0, 28.5, 28.2, 29.5, 28.7, 30.5, 29.7, 27.2, 27.6, 28.9, 30.3, 28.2, 28.0, 28.3, 27.6, 28.3, 23.2, 25.0, 28.1, 28.2, 27.8, 22.2, 26.3, 27.3, 28.1, 28.0, 26.8, 23.4, 24.3, 24.1, 25.4, 23.6, 22.4, 21.5, 19.8, 21.1, 20.0, 23.5, 23.5, 24.6, 22.5, 23.8, 25.0, 24.2, 20.2, 22.5, 21.2, 21.0, 20.3, 20.9, 20.9, 21.6, 18.9, 19.7, 20.7, 18.3, 14.7, 12.2, 16.4, 15.3, 16.7, 19.3, 18.8, 13.0, 8.2, 7.9, 18.6, 18.6, 18.4, 16.9, 20.3, 16.9, 14.7, 18.5, 17.8, 14.2, 20.9, 19.2, 16.7, 16.9, 15.0, 19.2, 17.3, 11.1, 11.3, 9.4, 2.6, 1.9, -0.9, 1.9, 6.5, 8.4, 8.7, 5.0, 4.6, 5.0, 8.2, 6.9, 1.6, 0.5, 3.0, 4.0, 5.3, 8.1, 8.1, 5.1, 3.4, 5.3, 4.0, -2.4, -2.8, 1.2, -4.4, 4.4, 6.5, 8.5, -1.0, -2.2, 1.2, 4.7, 10.0, 7.6, 4.0, 5.1, 7.8, 5.5, 1.3, 2.5, 6.3, 8.1, 2.2, 5.2, 5.1, 2.0, 7.3, 10.0, 8.9, 4.9, 3.6, 3.6, 2.4, 7.6, 6.3, 4.9, -4.0, -3.5, -3.2, -1.6, -0.1, -4.2, -1.3, 4.8, 4.1, 0.8, 2.8, 1.3, 1.6, 7.1, 3.7, 0.4, 3.2, 2.7, 7.3, 6.5, 8.2, 4.2, 2.7, -2.4, 1.5, 4.1, 3.4, 6.0, 7.1, 7.1, 9.6, 11.3, 11.4, 10.4, 4.3, 1.8, 3.5, 8.5, 8.1, 9.3, 11.0, 6.9, 4.4, 7.9, 6.3, 7.1, 10.3, 13.4, 13.6, 13.0, 2.8, 3.2, 5.1, 6.9, 3.7, 5.4, 6.9, 8.6, 9.7, 10.9, 13.3, 13.2, 12.1, 8.6, 8.6, 4.1, 4.8, 6.8, 11.0, 9.5, 13.1, 13.3, 18.6, 17.4, 14.6, 21.4, 21.3, 27.4, 28.9, 26.4, 13.4, 15.4, 17.5, 21.5, 17.4, 14.6, 15.4, 19.8, 19.8, 21.8, 21.8, 26.6, 24.3, 28.7, 23.1, 23.1, 22.0, 24.7, 26.0, 19.9, 21.4, 23.8, 24.0, 23.8, 27.2, 23.8, 14.2, 14.0, 21.5, 24.1, 24.5, 27.2, 23.8, 26.8, 27.3, 25.4, 18.3, 16.2, 19.6, 21.3, 20.6, 22.3, 26.8, 21.3, 25.0, 28.0, 25.2, 22.7, 25.8, 21.8, 24.3, 23.3, 24.6, 25.2, 27.6, 27.6, 26.7, 25.8, 30.0, 28.4, 27.9, 27.0, 26.8, 28.1, 29.7, 29.5, 31.2, 32.7, 31.6, 33.3, 34.7, 26.9, 26.3, 29.3, 27.9, 26.5, 22.0, 26.9, 25.1, 26.4, 29.4, 30.0, 27.2, 23.4, 23.6, 29.8, 28.4, 28.1, 26.2, 29.0, 25.6, 31.6, 32.4, 27.0, 31.7, 34.6, 34.6, 30.1, 32.7, 33.3, 33.4, 36.0, 34.2, 34.3, 35.5, 35.5, 38.2, 38.4, 36.8, 37.1, 36.0, 35.9, 35.6, 32.5, 33.7, 29.3, 33.9, 32.5, 32.4, 35.6, 35.9, 33.6, 33.8, 37.0, 29.3, 32.6, 35.5, 36.2, 34.8, 33.5, 32.6, 29.9, 29.1, 32.7, 32.4, 31.6, 31.7, 31.6, 31.5, 26.0, 31.4, 30.1, 25.9, 26.4, 28.2, 30.6, 31.7, 28.3, 31.7, 32.0, 27.0, 29.0, 29.8, 28.9, 28.2, 23.8, 24.0, 25.5, 25.5, 26.6, 26.8, 26.8, 23.7, 24.9, 26.6, 26.0, 25.2, 22.8, 22.9, 22.9, 23.2, 22.0, 24.2, 25.5, 24.8, 23.5, 24.0, 24.4, 21.5, 18.9, 19.9, 23.8, 22.1, 25.0, 25.9, 20.4, 21.9, 20.5, 23.9, 22.0, 16.6, 21.8, 22.1, 21.2, 20.2, 19.5, 10.4, 17.5, 20.9, 20.3, 18.5, 19.3, 21.4, 17.9, 15.8, 15.5, 16.6, 17.9, 17.6, 15.7, 16.0, 16.4, 19.8, 14.2, 18.7, 16.3, 16.8, 15.5, 15.2, 16.2, 10.0, 9.0, 15.8, 16.6, 12.8, 13.8, 12.9, 10.8, 10.5, 12.9, 11.0, 8.5, 6.5, 8.7, 11.0, 8.3, 12.2, 12.4, 7.9, -0.6, 1.0, 2.6, 9.1, 10.8, 11.7, 9.7, 12.3, 9.8, 5.9, 0.7, -0.4, -3.5, -4.2, -1.9, -0.7, -0.2, 1.6, 3.6, 5.2, 10.0, 10.5, 10.4, 7.6, 4.1, 3.1, 4.0, 3.4, 1.3, 1.1, 3.6, 1.6, 2.2, 1.3, 0.3, 9.3, 10.3, 7.3, -1.8, -1.3, 1.6, -1.5, -1.7, 1.9, 3.4, 3.0, 3.0, -0.5, 3.6, 2.8, 4.5, 3.3, 0.6, 3.0, 0.5, 1.0, -2.2, -3.2, -2.3, 0.5, 1.4, 3.9, 3.0, 1.6, 1.7, 3.4, 7.3, 8.0, 7.0, 9.3, 9.9, 6.3, 5.3, 4.2, 3.1, 3.4, 5.9, 9.8, 9.4, 7.2, 6.2, 6.8, 8.3, 8.7, 6.7, 5.4, 8.0, 6.7, 6.9, 6.9, 4.8, 6.0, 8.8, 11.6, 13.6, 16.4, 14.3, 7.1, 7.2, 7.8, 10.0, 11.7, 17.1, 12.6, 4.3, 6.7, 9.9, 13.8, 14.1, 13.9, 9.2, 6.5, 8.9, 9.2, 11.6, 11.4, 10.7, 16.5, 8.8, 10.2, 8.0, 10.6, 13.1, 13.6, 12.2, 16.5, 18.8, 13.7, 13.1, 9.8, 11.6, 18.1, 22.6, 23.1, 14.3, 21.8, 19.6, 15.9, 16.5, 16.3, 13.1, 17.7, 17.5, 19.3, 19.4, 20.8, 23.2, 23.9, 25.2, 26.4, 22.2, 17.2, 17.3, 18.5, 22.6, 22.0, 25.1, 25.1, 20.2, 18.5, 24.9, 17.4, 12.9, 20.6, 25.4, 25.1, 29.0, 26.2, 21.6, 20.2, 22.4, 25.6, 24.7, 19.7, 22.5, 23.7, 21.0, 22.7, 21.1, 23.0, 28.1, 19.8, 18.3, 22.2, 24.2, 26.9, 27.8, 28.5, 28.8, 28.3, 28.7, 27.2, 29.1, 27.0, 27.4, 28.5, 29.4, 21.9, 23.7, 27.6, 29.6, 25.1, 26.3, 27.2, 25.8, 25.1, 26.4, 27.5, 28.9, 24.6, 26.3, 24.9, 27.4, 27.1, 28.3, 27.3, 31.2, 24.4, 24.5, 23.7, 26.1, 27.0, 25.8, 26.0, 27.1, 26.4, 28.8, 27.3, 22.6, 21.4, 27.2, 30.8, 33.6, 29.4, 30.4, 32.1, 30.6, 32.1, 30.3, 31.3, 30.9, 30.7, 29.1, 30.5, 31.0, 28.4, 32.2, 29.2, 27.6, 28.4, 30.2, 30.6, 30.7, 30.4, 33.5, 33.7, 32.3, 31.8, 31.5, 27.4, 28.1, 29.9, 29.8, 25.6, 25.5, 23.8, 22.9, 28.6, 29.0, 29.0, 25.1, 30.1, 28.4, 27.4, 24.8, 27.3, 25.9, 21.0, 21.9, 27.8, 21.2, 24.5, 23.3, 25.5, 25.2, 25.3, 24.7, 26.1, 24.1, 25.0, 25.1, 24.9, 24.8, 26.3, 24.7, 25.1, 22.0, 21.2, 20.2, 22.0, 23.7, 26.2, 23.4, 25.1, 19.5, 21.7, 18.6, 17.5, 20.2, 21.8, 21.7, 22.9, 23.5, 24.8, 25.6, 24.3, 20.1, 16.5, 20.8, 18.3, 22.9, 21.6, 20.1, 21.8, 20.5, 16.8, 18.4, 20.4, 21.1, 20.1, 20.3, 16.7, 10.4, 6.4, 11.9, 17.8, 16.9, 18.4, 18.6, 14.1, 5.3, 10.1, 10.2, 12.5, 17.0, 17.5, 14.3, 10.2, 13.1, 14.4, 14.5, 11.4, 6.4, 8.5, 9.2, 6.8, 5.9, 7.8, 10.2, 6.2, 9.3, 10.3, 8.3, 5.9, 6.9, 5.5, 3.1, -1.2, 1.5, 1.9, 1.2, 4.1, 6.6, 6.9, 6.9, 5.9, 6.5, 2.4, 3.1, 1.9, 3.2, 4.8, 5.0, 3.2, 6.1, 4.5, 1.9, -3.8, -1.2, 2.3, 2.8, -2.7, -2.5, 1.8, 2.5, 3.9, 5.5, -0.1, 2.0, 9.0, 5.0, 1.8, -1.6, -0.2, 2.9, 9.4, 9.8, 5.1, 3.4, 0.6, -1.3, 0.1, 1.7, 3.2, 2.9, 3.2, 0.2, -0.4, -2.6, -0.3, 2.5, 6.1, 3.2, -3.0, -2.3, -4.7, -4.7, 0.9, 2.7, -0.1, -2.1, 0.0, 1.3, -2.5, 0.2, 4.4, 11.2, 14.0, 10.8, 5.8, 2.8, 3.2, 3.1, 1.5, 0.3, 1.1, 3.2, 5.0, 6.8, 5.9, 7.5, 3.4, 5.2, 6.1, 5.0, 7.3, 7.6, 8.4, 9.2, 10.1, 8.1, 6.9, 5.9, 7.7, 4.4, 5.9, 6.8, 12.6, 14.8, 10.4, 6.6, 6.0, 6.6, 13.2, 8.9, 11.2, 12.4, 6.4, 9.9, 15.7, 14.5, 14.3, 17.5, 10.5, 8.2, 8.8, 7.7, 8.6, 10.9, 15.0, 11.1, 12.1, 15.8, 15.2, 12.2, 10.9, 13.0, 14.1, 15.8, 16.1, 14.1, 11.9, 14.0, 15.5, 15.5, 15.4, 17.5, 19.4, 20.0, 20.6, 22.4, 23.3, 22.9, 18.7, 15.8, 17.1, 21.8, 25.4, 19.3, 20.4, 22.3, 23.7, 19.2, 19.1, 22.3, 19.5, 20.6, 21.8, 22.1, 27.3, 28.2, 29.5, 28.4, 24.2, 21.3, 21.5, 24.5, 26.8, 27.1, 27.1, 27.5, 28.7, 28.3, 28.6, 25.1, 31.4, 32.7, 28.1, 24.1, 28.5, 30.3, 29.8, 24.6, 31.4, 30.3, 21.7, 25.9, 28.7, 29.2, 26.4, 28.6, 28.4, 24.0, 26.0, 28.0, 23.6, 26.1, 26.6, 27.1, 22.2, 25.7, 27.4, 21.0, 22.0, 24.4, 22.4, 28.3, 25.2, 29.2, 24.3, 29.3, 24.4, 28.1, 28.0, 29.2, 28.9, 28.4, 29.5, 26.6, 26.0, 25.9, 25.0, 27.3, 33.5, 31.5, 25.6, 27.8, 26.0, 30.4, 29.1, 30.4, 27.0, 26.3, 29.0, 31.5, 31.5, 34.6, 35.4, 33.6, 33.9, 31.2, 32.6, 32.0, 30.3, 30.8, 33.1, 30.8, 32.8, 31.6, 31.2, 33.0, 29.5, 29.9, 31.3, 32.5, 32.9, 32.3, 32.8, 29.8, 26.6, 28.9, 22.4, 20.0, 20.9, 23.0, 27.4, 23.8, 28.1, 29.5, 30.9, 28.5, 25.9, 24.3, 27.3, 29.3, 28.7, 27.2, 28.3, 29.0, 28.4, 27.9, 28.6, 30.1, 27.9, 26.4, 27.2, 25.6, 25.1, 25.6, 26.4, 27.0, 27.1, 28.6, 25.7, 27.4, 20.8, 26.7, 27.8, 22.7, 17.6, 21.5, 23.8, 23.6, 17.9, 18.1, 18.9, 19.2, 21.3, 23.0, 23.3, 21.9, 21.7, 17.4, 17.1, 15.1, 18.3, 19.4, 19.6, 20.5, 22.6, 22.8, 16.5, 16.4, 11.0, 14.2, 16.4, 21.7, 19.9, 18.5, 14.0, 15.6, 16.3, 14.9, 15.9, 12.6, 10.2, 12.9, 13.5, 16.2, 18.8, 11.2, 11.3, 7.3, 6.2, 6.1, 4.7, 8.8, 10.4, 11.0, 9.7, 7.3, 5.5, 8.4, 12.8, 10.9, 8.2, 4.5, 2.4, 0.8, -4.2, 1.5, 5.4, 4.2, 3.7, -2.1, -0.5, 8.3, 8.1, 8.1, 8.4, 8.1, 10.3, 11.5, 12.7, 12.6, 8.0, -2.5, 1.0, 4.4, 8.3, 6.8, 2.2, 8.7, 7.8, 7.8, 8.7, 6.5, 7.6, 7.3, 7.0, 8.0, -5.1, -2.9, 1.0, 1.6, -5.0, -3.3, 0.7, 1.6, 3.3, 4.2, 4.2, 5.8, 3.0, -0.7, 2.8, 3.7, -0.2, 2.2, 5.1, -3.9, -3.2, -1.3, -1.3, 1.9, 5.9, 6.1, 2.2, -0.2, 0.6, -0.9, 2.8, 1.6, 1.7, 4.2, 4.3, 0.9, 3.7, 6.9, 8.8, 4.7, 1.8, 1.2, 4.0, 6.7, 8.2, 2.0, 1.7, 2.1, 6.0, 9.0, 3.4, 6.3, 9.5, 12.5, 7.6, 12.3, 15.1, 8.7, 7.7, 4.6, 5.5, 10.1, 12.2, 8.0, 11.4, 9.8, 13.6, 11.5, 13.8, 18.0, 20.2, 11.8, 6.2, 9.8, 12.7, 11.6, 15.7, 16.4, 12.6, 13.6, 8.7, 11.0, 12.9, 14.9, 15.7, 17.2, 14.1, 6.9, 9.1, 17.6, 12.6, 17.6, 13.1, 14.4, 10.8, 18.4, 16.9, 14.3, 15.5, 17.4, 18.6, 21.3, 20.8, 20.6, 16.9, 13.1, 17.9, 19.8, 22.3, 21.9, 20.0, 20.7, 19.6, 19.8, 20.1, 21.7, 20.3, 18.2, 21.2, 21.5, 23.5, 26.4, 19.5, 27.9, 18.9, 21.5, 16.3, 20.4, 21.5, 25.3, 21.0, 17.3, 16.8, 24.0, 22.4, 22.0, 24.0, 20.4, 19.3, 20.3, 22.8, 19.0, 19.2, 22.1, 24.4, 24.9, 21.6, 18.8, 18.4, 25.1, 27.2, 21.3, 23.8, 25.3, 20.7, 27.6, 28.8, 26.3, 27.3, 28.8, 28.8, 27.5, 30.6, 32.1, 35.0, 32.1, 33.6, 34.5, 30.9, 26.3, 28.8, 26.3, 31.0, 31.6, 24.0, 26.0, 23.6, 32.4, 32.0, 31.1, 23.4, 28.9, 26.5, 25.2, 23.9, 23.4, 27.2, 29.3, 29.5, 31.9, 32.3, 25.2, 30.6, 30.0, 24.4, 28.7, 30.6, 30.5, 32.0, 31.5, 31.3, 33.7, 34.4, 33.0, 32.8, 36.1, 33.9, 34.1, 33.6, 32.1, 32.0, 33.7, 31.8, 28.4, 23.8, 31.0, 32.6, 32.6, 34.1, 33.0, 31.7, 31.3, 32.4, 33.2, 32.3, 32.7, 32.1, 32.4, 33.8, 29.1, 33.1, 29.6, 29.4, 30.6, 32.0, 30.8, 29.7, 31.2, 30.0, 31.2, 30.7, 30.1, 31.6, 26.7, 28.0, 29.6, 30.0, 31.9, 31.6, 31.6, 29.7, 26.7, 27.5, 22.4, 22.9, 25.4, 24.5, 22.2, 25.8, 23.7, 24.5, 22.7, 22.3, 25.1, 25.0, 24.0, 17.5, 17.0, 21.5, 21.8, 24.3, 25.3, 26.1, 26.3, 24.8, 19.7, 22.4, 21.8, 20.1, 16.5, 18.8, 22.0, 16.7, 15.3, 19.5, 19.0, 20.1, 21.7, 21.2, 20.8, 22.6, 24.9, 23.4, 23.1, 23.6, 17.9, 12.3, 12.4, 12.2, 13.2, 14.5, 7.9, 9.5, 12.7, 15.9, 16.7, 16.8, 15.6, 16.6, 17.2, 17.4, 17.2, 18.7, 20.2, 14.6, 16.1, 12.3, 13.7, 15.5, 7.5, 3.6, 7.4, 13.3, 10.6, 16.9, 12.5, 15.3, 12.9, 13.0, 8.3, 12.3, 9.3, 9.7, 3.1, -2.9, -3.5, 5.2, 9.5, 7.6, 8.0, 5.4, -1.6, -3.8, -2.4, 0.5, 3.1, 5.3, 6.8, 6.0, 7.5, 9.2, 12.8, 9.7, 11.0, 10.3, 11.7, 9.8, 10.6, 10.6, 7.9, 5.1, 2.8, 6.1, 5.7, 4.5, 6.5, 8.2, 4.5, 4.0, 1.5, 4.1, 4.3, 6.1, 7.0, 7.3, 3.7, 5.3, 7.0, 4.9, 6.3, 6.9, 1.0, -6.2, 0.4, -2.1, 3.1, -3.5, -7.9, -1.6, 0.3, 1.1, -0.3, 2.9, 5.8, 2.3, 3.4, 5.4, 5.0, 4.3, 5.1, 7.3, 5.8, -0.4, -2.0, 2.1, 7.8, 10.6, 5.4, 5.9, 6.8, 7.4, 11.2, 11.7, 15.0, 13.1, 7.9, 12.5, 14.2, 10.2, 15.0, 12.0, 6.2, 8.7, 11.3, 10.9, 12.6, 14.8, 14.8, 14.0, 15.8, 14.3, 17.1, 12.1, 7.1, 11.2, 14.6, 9.0, 7.7, 10.9, 13.6, 16.6, 13.8, 2.5, 5.3, 6.1, 9.2, 12.7, 14.7, 13.3, 13.1, 16.2, 19.1, 15.0, 17.0, 13.1, 11.8, 13.6, 17.0, 13.1, 25.1, 21.3, 20.6, 20.3, 19.6, 26.3, 20.4, 20.7, 19.8, 17.8, 21.3, 20.2, 21.0, 23.0, 25.2, 25.7, 24.7, 24.9, 20.9, 19.6, 19.3, 25.0, 25.3, 25.2, 26.2, 21.6, 21.6, 24.3, 24.7, 26.5, 26.9, 23.0, 23.5, 23.2, 21.3, 16.6, 16.1, 23.7, 27.2, 28.1, 21.3, 19.1, 22.0, 26.6, 28.2, 31.4, 28.6, 29.4, 23.0, 24.7, 25.1, 27.6, 27.3, 22.7, 24.8, 23.9, 23.8, 18.4, 16.8, 19.1, 18.6, 22.0, 25.0, 24.2, 28.3, 29.8, 29.3, 29.5, 24.1, 26.9, 26.5, 26.9, 30.3, 27.2, 26.1, 29.7, 30.9, 31.8, 31.0, 30.9, 24.2, 22.8, 27.7, 28.9, 31.0, 28.8, 23.4, 22.8, 26.6, 29.8, 30.6, 29.8, 29.4, 26.0, 24.7, 24.6, 28.1, 30.2, 29.4, 29.8, 26.4, 26.5, 30.7, 29.0, 23.2, 29.4, 30.0, 30.5, 30.8, 29.5, 30.4, 29.8, 30.6, 32.2, 31.9, 32.0, 27.0, 28.0, 32.0, 28.8, 29.1, 29.3, 27.2, 31.1, 25.5, 29.8, 25.5, 29.9, 28.7, 29.8, 30.4, 25.8, 30.7, 28.2, 29.2, 29.0, 30.3, 30.5, 30.7, 27.9, 26.0, 28.5, 29.0, 26.1, 28.6, 29.5, 28.9, 29.3, 27.0, 28.1, 29.2, 28.5, 25.7, 28.7, 30.3, 30.5, 31.7, 32.6, 31.8, 32.8, 31.9, 28.9, 26.2, 27.0, 28.2, 29.0, 30.6, 31.8, 23.7, 26.5, 23.5, 24.6, 25.6, 26.6, 27.3, 25.6, 20.7, 18.3, 26.2, 26.5, 24.0, 25.2, 25.0, 24.1, 25.5, 25.2, 25.1, 25.3, 26.1, 23.4, 24.7, 20.9, 21.0, 20.1, 21.3, 19.3, 15.8, 19.5, 20.9, 19.6, 23.0, 21.4, 19.7, 20.7, 18.8, 16.5, 19.5, 16.7, 19.8, 13.8, 14.1, 17.9, 18.0, 18.5, 18.9, 17.6, 16.9, 15.0, 10.3, 16.7, 16.1, 18.1, 20.5, 19.2, 17.3, 9.7, 0.7, 4.0, 2.1, 3.6, 5.3, 3.5, 5.5, 7.8, 12.1, 9.3, 8.3, 10.0, 14.4, 8.0, 4.6, 3.5, 5.4, 5.0, 8.2, 6.7, 0.6, 0.0, 3.9, 3.1, 4.8, 9.8, 9.5, 8.0, 11.0, 11.8, 12.9, 11.2, 6.8, 10.6, 9.2, 7.0, 7.8, 6.9, 6.7, 8.0, 9.0, 5.7, -1.0, 1.3, 3.5, 6.6, 8.6, 9.2, 8.1, 5.9, -0.5, -5.6, -5.4, -2.3, -2.1, -1.5, 0.7, -0.2, 1.5, 3.2, 3.8, 7.3, 6.7, 1.5, 4.6, 7.3, 8.4, 12.4, 7.1, 8.3, 7.7, 0.8, -1.1, -0.5, 3.3, 6.5, -0.2, -3.2, 0.4, 3.7, 4.9, 8.1, 9.4, 6.5, 5.4, 4.6, -2.1, 0.7, 0.4, 7.5, 10.2, 8.8, 7.8, 2.2, 1.1, 3.9, 7.6, 9.5, 8.5, 9.6, 9.4, 4.1, 4.8, 8.4, 12.3, 13.4, 18.8, 11.7, 10.5, 10.8, 6.5, 7.4, 8.6, 7.2, 12.0, 16.2, 14.7, 14.3, 16.9, 16.3, 13.5, 9.9, 11.6, 6.5, 4.1, 9.7, 11.4, 16.4, 12.0, 14.1, 8.1, 7.6, 15.8, 16.4, 13.8, 13.6, 11.2, 13.8, 17.2, 12.6, 13.6, 17.4, 14.6, 18.9, 22.1, 13.8, 9.3, 15.3, 18.7, 15.3, 21.9, 26.5, 25.1, 24.6, 24.2, 24.7, 26.4, 27.3, 28.2, 26.3, 19.3, 19.8, 21.3, 23.0, 19.9, 22.1, 17.2, 23.9, 22.2, 21.1, 21.0, 24.6, 23.7, 24.1, 23.5, 23.7, 25.1, 25.1, 16.9, 26.3, 27.9, 22.3, 14.5, 21.7, 26.6, 26.7, 27.1, 20.3, 19.3, 17.5, 18.9, 21.5, 23.4, 27.6, 28.1, 21.1, 21.4, 27.1, 29.8, 31.6, 25.5, 27.9, 29.3, 30.6, 28.3, 28.9, 29.6, 29.9, 32.0, 29.0, 21.5, 24.4, 27.0, 26.8, 26.8, 30.0, 30.6, 23.6, 26.0, 28.7, 31.0, 30.9, 33.3, 33.6, 31.7, 30.2, 30.0, 31.2, 30.7, 31.5, 31.9, 32.1, 29.8, 26.2, 24.2, 30.2, 28.9, 30.9, 32.8, 27.4, 28.5, 29.2, 30.3, 31.9, 34.9, 32.8, 28.5, 28.8, 29.1, 30.6, 34.2, 30.6, 27.8, 27.1, 31.1, 27.0, 25.0, 23.4, 24.8, 28.4, 32.1, 33.0, 33.3, 33.1, 30.8, 34.4, 32.8, 33.4, 33.3, 33.6, 34.3, 34.2, 35.4, 31.3, 29.8, 28.6, 27.6, 26.7, 30.5, 29.7, 28.2, 29.6, 25.4, 28.4, 27.6, 28.9, 27.8, 30.1, 31.7, 31.8, 31.3, 25.0, 29.3, 28.5, 29.1, 29.4, 29.2, 29.1, 30.5, 32.0, 29.6, 29.4, 29.5, 29.0, 22.9, 25.1, 18.6, 18.5, 20.0, 21.1, 23.8, 24.6, 26.5, 27.3, 28.4, 24.3, 24.7, 20.8, 18.6, 19.0, 20.4, 21.7, 18.3, 21.5, 23.3, 23.7, 19.4, 22.4, 24.0, 20.4, 22.5, 20.5, 9.3, 11.0, 17.0, 18.6, 19.8, 19.7, 19.5, 20.7, 21.3, 21.2, 18.6, 21.6, 18.0, 14.3, 14.6, 11.4, 10.1, 11.4, 12.0, 14.9, 18.3, 18.3, 17.6, 18.6, 18.6, 14.9, 11.3, 15.4, 15.7, 17.9, 13.5, 11.6, 8.0, 9.6, 13.2, 13.0, 14.5, 15.4, 18.3, 15.7, 11.3, -0.3, 2.9, 1.4, 5.7, 9.1, 5.9, 11.0, 10.5, 10.1, 7.3, 3.6, 6.1, 8.5, 8.7, 12.0, 3.4, 5.7, 3.5, 4.3, 4.8, 8.2, -0.8, -1.9, -3.8, -5.2, -2.9, -0.5, 2.0, 2.3, -0.1, 1.8, 5.9, 6.6, 5.2, 7.7, 7.3, 9.9, 6.9, 0.1, 4.3, 4.6, 5.7, -4.2, -0.1, 1.0, 2.3, 4.9, 5.1, 4.0, 1.1, 3.3, 4.5, 3.8, 2.3, -1.2, -5.4, -2.6, 1.6, 7.4, 0.2, -2.9, -4.5, -0.8, 2.5, 2.7, 1.0, -4.7, -2.0, 0.8, 2.0, 3.7, 4.1, 2.3, 1.7, -4.4, -0.8, 3.1, 5.3, 6.1, 6.5, 3.5, -2.0, -0.2, 0.4, 3.1, 7.5, 4.2, 3.1, 4.6, 4.4, 1.0, 2.0, 3.7, 6.2, 1.1, 4.4, 7.7, 11.2, 17.2, 12.9, 10.5, 6.8, 2.2, 3.9, 5.7, 9.2, 7.0, 10.4, 10.4, 11.7, 13.8, 9.3, 13.4, 14.9, 10.0, 13.2, 12.5, 16.9, 10.1, 8.3, 11.3, 14.5, 18.9, 15.8, 11.9, 14.2, 16.5, 16.1, 16.9, 19.0, 20.4, 13.3, 14.0, 12.6, 17.0, 19.2, 9.7, 14.9, 17.0, 18.7, 17.8, 18.1, 16.4, 19.9, 17.7, 20.0, 23.5, 14.9, 11.9, 15.4, 17.8, 20.9, 14.4, 10.4, 19.2, 22.3, 18.6, 19.2, 20.3, 22.3, 24.1, 22.2, 19.6, 19.8, 23.7, 26.4, 18.9, 14.2, 18.6, 24.5, 24.4, 22.0, 20.1, 22.6, 23.8, 20.1, 20.7, 23.0, 25.5, 25.1, 27.4, 30.5, 27.7, 19.1, 23.7, 27.0, 22.5, 25.7, 26.3, 28.3, 31.6, 32.5, 31.1, 28.3, 27.0, 23.2, 27.1, 25.5, 27.7, 29.5, 29.7, 29.7, 32.0, 30.0, 30.5, 33.9, 33.3, 32.4, 32.5, 28.4, 26.8, 28.3, 28.1, 26.6, 29.3, 33.4, 25.7, 26.8, 31.0, 33.0, 33.2, 33.8, 33.9, 34.2, 33.4, 33.0, 30.5, 34.0, 27.8, 28.7, 31.0, 30.6, 30.7, 28.6, 30.5, 32.0, 28.9, 31.8, 30.6, 26.2, 29.5, 31.0, 29.7, 31.9, 33.1, 31.7, 29.7, 26.6, 30.4, 31.2, 35.1, 32.7, 29.4, 28.4, 25.5, 28.2, 31.7, 31.6, 32.2, 32.9, 33.1, 33.3, 32.2, 32.6, 32.3, 35.0, 34.5, 26.9, 24.6, 26.2, 28.8, 30.2, 25.4, 23.5, 23.0, 27.1, 29.0, 32.5, 33.6, 27.5, 26.0, 30.6, 31.0, 29.9, 28.5, 25.9, 22.8, 23.2, 22.8, 28.0, 25.7, 24.2, 19.6, 18.1, 18.2, 18.1, 23.8, 23.6, 25.7, 27.5, 25.7, 26.1, 25.9, 24.3, 24.8, 26.0, 25.9, 19.4, 26.7, 25.3, 25.5, 21.8, 21.9, 21.0, 23.4, 24.6, 26.5, 25.8, 25.3, 21.0, 16.6, 14.6, 13.9, 16.3, 20.2, 17.6, 15.1, 19.8, 19.2, 20.9, 20.8, 17.0, 22.0, 15.8, 17.8, 15.0, 19.0, 14.5, 12.4, 14.5, 16.3, 15.3, 19.4, 19.4, 17.3, 17.2, 20.3, 15.3, 6.4, 8.9, 7.2, 6.5, 8.7, 11.5, 13.6, 13.1, 9.4, 7.5, 7.5, 11.7, 6.9, 3.1, 7.3, 10.1, 13.0, 15.4, 10.4, 6.9, 6.2, 7.6, 10.1, 11.0, 11.6, 7.4, 5.9, 6.1, 4.5, 7.0, 11.3, 11.9, 9.9, -3.7, -0.5, 4.4, 7.4, 10.0, 5.9, 4.1, 5.3, 4.8, 2.4, 4.6, 8.3, 7.5, 1.9, -1.3, -6.4, 0.0, 0.7, 1.9, 7.0, 2.3, -0.8, -0.2, -5.2, -6.7, -2.2, 0.9, 1.1, 4.9, 3.0, -1.5, -2.2, -7.6, -6.7, -11.3, -12.4, -10.0, -4.0, 2.5, 3.8, 3.5, 1.0, 2.5, 1.7, 3.9, 6.8, 2.8, 1.8, 0.5, 1.8, 2.6, 1.9, 0.6, -0.9, 3.7, 5.2, 5.7, 6.3, 1.7, -0.8, 4.0, 1.7, 0.1, 0.0, -0.1, -0.1, 0.1, -3.6, 0.7, 5.6, 7.1, 9.8, 9.2, 12.2, 6.2, 2.3, 3.8, 6.9, 8.1, 8.5, 8.5, 8.4, 9.3, 0.2, 5.5, 8.1, 1.7, -0.9, 3.6, 4.9, 5.4, 6.4, 11.5, 12.5, 9.2, 12.0, 10.3, 12.5, 12.9, 15.7, 19.4, 15.2, 17.1, 21.0, 14.3, 7.9, 7.5, 9.5, 8.1, 9.4, 11.3, 11.7, 8.8, 15.0, 16.6, 14.2, 17.5, 16.7, 21.5, 28.2, 23.8, 13.4, 14.3, 16.3, 13.7, 19.7, 21.0, 24.0, 24.1, 20.0, 20.6, 21.3, 20.5, 18.2, 20.0, 18.9, 20.2, 22.7, 20.6, 26.7, 27.2, 19.4, 20.3, 22.0, 19.1, 23.9, 25.9, 22.5, 27.9, 18.0, 21.1, 21.8, 24.4, 26.6, 27.1, 19.0, 23.1, 27.7, 20.1, 27.3, 28.2, 31.5, 24.8, 29.4, 27.7, 26.9, 25.4, 27.0, 29.0, 30.7, 21.5, 26.4, 22.5, 28.8, 31.2, 30.1, 25.3, 30.8, 32.6, 31.3, 31.7, 32.7, 29.6, 27.1, 22.5, 27.4, 28.3, 25.1, 29.6, 21.4, 26.8, 29.3, 24.8, 25.4, 23.9, 22.5, 27.2, 26.6, 22.8, 26.9, 24.1, 23.5, 29.6, 30.9, 26.5, 30.9, 25.4, 31.8, 31.5, 30.9, 30.3, 24.8, 30.3, 31.8, 31.4, 28.9, 27.3, 30.1, 32.4, 31.4, 31.7, 30.5, 27.5, 27.8, 30.9, 29.0, 32.3, 32.8, 31.3, 31.6, 28.1, 26.8, 30.3, 31.0, 34.0, 32.6, 33.8, 31.0, 32.6, 31.3, 30.2, 30.6, 30.9, 29.0, 26.3, 23.6, 29.6, 29.8, 34.2, 35.3, 32.7, 31.7, 31.8, 31.3, 31.2, 30.4, 31.8, 28.5, 30.7, 31.2, 30.3, 27.8, 29.3, 30.0, 31.4, 31.5, 31.7, 29.4, 28.6, 28.2, 29.6, 29.2, 27.3, 28.9, 27.9, 27.2, 28.0, 26.0, 30.4, 30.7, 27.8, 28.3, 26.8, 25.8, 24.4, 23.9, 24.4, 24.8, 26.9, 26.2, 26.5, 27.8, 24.1, 20.2, 18.1, 24.6, 21.7, 18.4, 20.0, 23.2, 22.1, 24.6, 17.4, 15.3, 20.5, 20.4, 23.2, 25.3, 19.1, 21.1, 17.8, 19.6, 20.6, 21.0, 23.7, 23.5, 22.3, 22.4, 22.9, 22.6, 20.4, 23.0, 19.8, 19.4, 17.0, 15.9, 13.4, 15.6, 13.9, 10.3, 8.9, 12.3, 15.3, 16.0, 14.4, 14.0, 11.6, 8.9, 9.6, 9.9, 10.5, 11.5, 12.7, 14.3, 13.9, 14.2, 12.6, 13.0, 12.7, 9.3, 3.4, 4.4, 9.6, 8.2, 4.9, 8.0, 4.8, 3.6, 8.4, 4.6, 3.2, 3.8, 6.3, 5.4, 8.1, 10.9, 8.0, 4.2, -2.3, -2.6, 1.0, 1.3, -1.0, 0.9, 2.6, 1.1, 0.8, 2.6, 3.3, 6.8, 3.1, 2.7, 3.0, 3.3, -0.6, 1.3, 1.3, -7.3, -2.0, 5.7, 1.9, 5.2, 3.7, -3.9, 1.0, 5.7, 8.1, 9.6, 11.1, 13.4, 13.5, 12.3, 4.7, 6.2, 10.0, 5.2, 1.9, -2.2, -0.6, 1.0, 3.3, 3.8, 2.2, 0.1, 2.9, 2.3, 2.0, 5.6, 8.1, 10.3, 9.0, 9.0, 9.4, 9.1, 4.8, 1.3, 2.8, 2.7, 2.9, 4.3, 5.8, 6.9, 6.3, 6.4, 2.5, 4.1, 8.2, 6.1, 9.6, 10.2, 12.6, 8.4, 10.8, 10.6, 11.3, 13.1, 11.5, 9.4, 8.3, 6.2, 4.6, 5.8, 8.7, 14.9, 13.3, 12.6, 15.5, 19.4, 14.5, 12.0, 13.6, 14.0, 11.8, 14.2, 18.2, 13.9, 9.7, 8.7, 9.1, 12.1, 12.5, 15.8, 17.2, 17.4, 11.4, 14.5, 19.3, 22.6, 20.8, 21.8, 25.2, 13.6, 10.9, 12.4, 11.5, 12.9, 13.6, 15.4, 16.0, 23.5, 23.9, 18.1, 12.3, 16.3, 18.4, 21.7, 23.8, 27.7, 22.2, 13.4, 16.6, 20.6, 22.2, 25.3, 19.1, 15.9, 25.7, 25.3, 19.6, 25.9, 25.2, 19.7, 12.0, 23.1, 23.4, 23.1, 23.5, 22.3, 24.9, 25.6, 22.0, 17.3, 15.3, 23.6, 22.1, 25.9, 25.7, 26.0, 27.7, 25.3, 26.6, 24.3, 25.3, 25.3, 27.0, 24.5, 25.7, 24.8, 30.0, 29.1, 27.6, 31.4, 31.2, 30.6, 27.1, 28.0, 26.6, 26.8, 22.9, 24.4, 25.0, 24.8, 28.6, 28.4, 28.9, 26.2, 26.1, 28.4, 29.2, 21.3, 17.7, 25.0, 27.7, 27.5, 30.0, 32.0, 31.5, 27.9, 28.8, 30.6, 32.3, 27.1, 23.1, 25.3, 29.1, 29.7, 31.6, 29.7, 29.1, 29.3, 24.2, 29.4, 28.5, 28.4, 29.2, 24.7, 27.9, 29.1, 27.0, 23.2, 27.6, 33.8, 31.5, 33.6, 34.8, 30.0, 29.8, 28.0, 28.5, 29.8, 30.0, 28.1, 28.3, 26.1, 22.0, 30.1, 29.4, 24.1, 23.9, 24.0, 26.0, 26.7, 28.9, 26.7, 24.1, 28.9, 26.2, 29.1, 28.6, 23.8, 27.0, 29.6, 30.5, 30.2, 26.5, 31.0, 32.2, 27.3, 26.1, 27.1, 29.1, 30.6, 30.2, 25.5, 26.0, 28.7, 28.9, 27.9, 29.4, 29.3, 22.9, 23.0, 24.6, 19.8, 22.4, 26.3, 27.2, 26.6, 25.3, 24.6, 24.7, 25.6, 26.4, 26.8, 26.3, 24.8, 26.0, 22.8, 23.3, 24.4, 19.9, 22.3, 22.1, 21.8, 20.2, 18.3, 16.8, 19.5, 21.2, 22.2, 22.7, 24.0, 21.5, 18.1, 20.3, 24.9, 21.0, 19.8, 15.5, 14.7, 9.0, 12.3, 16.6, 13.0, 10.5, 7.8, 8.1, 10.2, 12.3, 16.5, 9.0, 8.5, 6.8, 4.7, 8.9, 15.7, 16.7, 6.3, 6.3, 12.8, 16.3, 8.4, 4.7, 9.6, 3.4, 7.6, 4.4, 1.3, 5.8, 5.7, 4.6, 10.9, 13.6, 8.8, 6.5, 2.7, 3.3, 6.1, 10.1, 9.0, 9.9, 12.1, 11.0, 15.9, 10.5, 10.0, 8.2, 4.3, -2.7, -4.0, -2.9, -1.3, 1.3, 4.2, 8.3, 8.7, 6.0, 7.1, 7.7, 10.5, 11.7, 9.6, 7.1, 5.1, 1.2, -2.7, -0.1, 3.2, 1.7, 1.6, 1.9, -1.0, 0.0, -0.3, -6.8, -9.1, -4.3, -0.5, 1.2, 4.3, 4.4, 4.9, 8.0, 8.7, 2.7, 0.6, 3.2, 4.2, 3.8, 2.6, 3.0, 1.8, -0.8, 3.1, 2.5, 4.7, 4.2, 2.8, -4.1, -8.5, -1.9, 0.8, 4.5, 4.1, 4.2, 3.9, 3.9, 4.9, 6.7, 6.0, 8.8, 10.3, 4.1, -0.4, 5.6, 7.5, 9.7, 9.5, 9.6, 7.1, 4.0, 8.5, 6.4, 4.9, 3.7, 7.6, 9.1, 8.5, 11.4, 11.9, 10.2, 7.2, 4.4, 2.9, 6.9, 4.1, 3.8, 4.8, 7.0, 9.0, 11.0, 11.7, 10.7, 10.1, 13.4, 8.5, 10.1, 11.9, 12.4, 14.2, 14.0, 14.9, 12.4, 11.6, 10.6, 16.3, 11.2, 11.3, 13.0, 17.1, 20.9, 22.4, 21.0, 19.8, 19.3, 17.7, 18.3, 17.1, 14.4, 11.6, 18.1, 12.7, 13.4, 17.8, 19.3, 19.9, 23.5, 23.4, 21.4, 12.1, 10.6, 19.5, 15.3, 14.8, 19.6, 14.8, 19.8, 19.6, 24.6, 15.6, 18.8, 21.9, 23.0, 24.3, 27.7, 28.9, 22.3, 18.4, 19.4, 19.5, 22.5, 23.2, 24.4, 28.1, 29.1, 26.6, 26.2, 25.1, 23.5, 24.5, 22.9, 26.0, 27.6, 26.4, 25.6, 19.8, 27.7, 29.5, 30.4, 24.4, 25.2, 30.3, 28.5, 28.4, 27.5, 28.2, 29.7, 23.1, 27.2, 30.9, 31.1, 25.1, 23.8, 21.2, 22.4, 22.7, 19.3, 25.5, 27.1, 27.3, 26.8, 25.5, 27.9, 30.4, 23.9, 18.9, 23.6, 27.5, 22.5, 28.1, 20.7, 28.3, 27.8, 30.7, 24.3, 24.9, 30.5, 27.3, 28.9, 28.7, 25.2, 26.4, 30.8, 25.4, 29.9, 27.8, 29.6, 29.0, 27.8, 22.4, 21.6, 28.9, 29.3, 25.0, 25.8, 29.2, 30.4, 29.1, 24.7, 24.6, 29.3, 31.4, 30.5, 28.9, 29.0, 26.7, 29.5, 32.2, 27.5, 25.2, 30.2, 31.6, 27.2, 28.3, 30.0, 30.0, 29.7, 30.2, 26.5, 25.1, 23.0, 22.8, 27.7, 29.6, 30.0, 25.6, 24.8, 30.2, 26.9, 23.3, 29.1, 25.1, 24.0, 26.0, 25.4, 21.9, 24.0, 26.1, 24.7, 25.7, 22.6, 28.7, 22.6, 25.0, 24.6, 22.4, 25.0, 25.8, 27.7, 27.2, 27.2, 22.7, 24.9, 25.3, 24.3, 24.7, 24.1, 23.0, 25.6, 25.9, 25.9, 25.1, 25.5, 23.8, 19.4, 19.5, 20.0, 20.6, 19.3, 21.2, 22.5, 24.3, 24.7, 26.0, 25.3, 22.7, 17.7, 16.7, 16.2, 18.5, 19.1, 19.3, 18.2, 17.5, 15.1, 15.8, 12.6, 16.0, 16.2, 16.8, 20.8, 15.8, 12.8, 17.0, 20.5, 20.7, 21.3, 17.0, 17.2, 19.8, 19.7, 14.1, 11.3, 14.1, 13.5, 11.6, 9.8, 13.0, 12.8, 15.6, 8.3, 12.5, 15.6, 17.2, 14.6, 9.1, 3.4, 8.1, 8.3, 11.8, 12.1, 13.0, 15.3, 11.1, 11.8, 12.0, 8.6, 6.9, 6.5, 9.1, 8.8, -1.8, 3.2, -0.3, 4.0, 5.9, 2.2, 4.5, 5.9, 2.7, 4.5, 3.7, -1.2, -2.2, -0.8, 3.0, 9.1, 9.0, 5.6, 3.7, -0.8, 1.1, 6.3, 7.5, 3.0, 5.8, 5.9, 5.5, 7.1, 6.8, 8.1, 6.8, 5.1, 5.6, 5.0, 3.2, 4.5, 1.8, -3.9, -1.3, 3.2, 5.5, 3.2, 1.5, 1.7, 0.0, -9.5, -9.1, -4.9, -3.7, -3.7, -2.2, 0.3, 4.9, 5.8, 6.0, 7.4, 9.1, 2.5, -0.5, 2.5, -0.8, -0.6, -0.4, 5.5, 3.0, 4.5, 5.9, 6.5, 7.0, 6.8, 8.6, 9.6, 7.9, 11.3, 15.6, 18.7, 14.6, 13.3, 6.0, 6.3, 10.6, 4.8, 6.1, 10.5, 6.5, 6.0, 1.5, 2.2, 2.5, 3.5, -0.8, 2.2, 6.9, 13.5, 14.0, 9.1, 11.6, 12.6, 12.0, 15.8, 18.7, 16.3, 7.0, 9.6, 12.3, 15.5, 16.0, 14.0, 13.1, 14.3, 16.2, 16.2, 18.2, 18.0, 13.6, 12.3, 16.7, 7.5, 9.6, 13.0, 14.6, 10.8, 15.1, 15.8, 19.7, 21.3, 22.2, 21.7, 22.7, 23.3, 21.7, 20.2, 23.0, 27.3, 16.1, 21.3, 25.2, 19.1, 16.8, 17.2, 17.6, 14.3, 11.8, 18.1, 21.7, 22.6, 25.7, 20.2, 17.1, 20.3, 21.8, 21.8, 24.6, 21.5, 17.8, 16.2, 22.6, 18.7, 19.2, 26.0, 18.7, 21.5, 17.7, 21.7, 24.2, 22.3, 21.8, 23.2, 22.0, 25.0, 26.0, 24.3, 27.6, 21.1, 24.7, 26.7, 25.7, 28.2, 30.6, 32.5, 32.4, 31.2, 25.1, 24.7, 22.3, 25.2, 29.0, 30.1, 30.7, 28.6, 29.0, 31.5, 31.0, 24.5, 23.8, 22.7, 23.5, 26.7, 25.0, 27.0, 30.2, 29.6, 28.5, 28.7, 25.8, 24.7, 29.1, 26.7, 24.2, 26.8, 22.7, 26.2, 26.3, 22.2, 23.3, 27.3, 28.8, 27.7, 23.2, 22.8, 27.6, 23.7, 24.6, 23.2, 28.2, 28.3, 26.8, 31.8, 32.0, 33.2, 30.8, 28.0, 29.2, 30.2, 32.7, 33.2, 33.4, 34.5, 34.2, 33.2, 32.7, 32.9, 32.7, 32.9, 32.4, 32.0, 33.0, 36.2, 35.7, 34.7, 32.7, 29.2, 31.0, 29.1, 26.2, 25.0, 25.3, 26.8, 25.5, 25.2, 26.0, 29.2, 27.5, 28.5, 28.3, 26.6, 30.1, 31.5, 29.3, 29.3, 29.2, 28.0, 30.0, 31.3, 29.7, 24.2, 27.2, 28.8, 26.7, 20.6, 23.5, 24.3, 28.7, 28.2, 27.2, 28.7, 23.7, 26.2, 20.5, 20.2, 24.5, 25.2, 26.7, 26.3, 23.6, 26.8, 25.2, 27.1, 27.0, 21.5, 17.7, 19.7, 21.1, 23.7, 24.5, 23.7, 25.6, 25.1, 25.3, 23.8, 19.0, 18.3, 15.8, 19.8, 23.2, 21.0, 21.6, 23.0, 23.2, 20.7, 17.0, 17.7, 18.6, 20.2, 15.1, 17.1, 17.6, 17.8, 22.1, 23.2, 20.5, 12.3, 14.6, 16.3, 15.8, 12.6, 17.6, 17.3, 21.5, 16.3, 15.6, 9.6, 7.9, 12.1, 9.5, 12.1, 15.1, 15.1, 13.6, 11.5, 11.3, 12.1, 12.8, 14.3, 15.1, 11.8, 10.1, 10.6, 9.1, 8.3, 9.0, 14.3, 16.2, 10.5, 6.0, 7.1, 7.0, 9.8, 12.6, 10.3, 9.1, 9.8, 6.6, 9.3, 7.5, 7.3, 7.5, 6.5, 9.8, 4.3, 1.2, -0.2, 1.0, 3.4, 1.2, 0.4, -0.4, -2.5, -2.2, -0.8, -1.2, -1.0, 4.5, 4.9, -1.2, 0.6, 2.4, 2.2, 0.8, -4.0, -1.5, -2.7, -2.0, -1.2, 0.6, 1.6, 5.1, 4.8, 3.0, -0.2, -2.7, -0.6, 2.5, 7.0, 5.0, 4.4, 6.1, 5.6, 7.3, 2.7, -3.7, -2.5, -6.8, -2.5, 0.0, 2.4, 2.0, 5.5, 5.5, 5.8, 0.8, -2.0, -1.6, 0.1, 3.5, 5.5, 10.0, 5.0, 10.5, 6.0, 3.2, -3.4, -1.7, 4.5, -0.1, 3.2, -1.5, -1.0, 2.7, 5.0, 4.5, 4.5, 2.0, 4.0, 3.0, 5.1, 7.9, 8.6, 14.6, 13.1, 5.0, -0.8, 3.0, 7.8, 8.8, 12.5, 9.8, 8.3, 10.3, 9.8, 12.0, 14.3, 13.6, 7.5, 7.0, 10.8, 17.6, 11.8, 10.3, 12.1, 15.5, 16.1, 15.8, 14.5, 14.3, 19.0, 17.7, 16.1, 22.5, 15.8, 17.1, 18.2, 14.6, 15.8, 14.3, 15.3, 15.8, 19.2, 18.8, 22.0, 13.0, 13.3, 16.8, 19.6, 20.2, 19.3, 20.3, 20.6, 22.8, 25.3, 29.8, 25.6, 24.7, 26.5, 27.7, 26.7, 13.3, 19.7, 15.6, 17.6, 19.3, 16.1, 19.6, 23.3, 20.7, 25.7, 25.3, 23.6, 19.6, 23.0, 24.5, 22.8, 18.5, 20.1, 23.5, 24.0, 25.0, 27.7, 28.2, 30.2, 26.7, 26.6, 24.2, 22.2, 22.6, 23.6, 29.1, 27.1, 25.1, 27.7, 28.0, 23.1, 26.8, 27.5, 31.3, 31.8, 24.3, 25.2, 26.3, 27.2, 29.3, 29.5, 29.1, 29.2, 30.8, 32.0, 29.2, 29.1, 24.2, 28.0, 24.3, 31.1, 26.5, 26.1, 23.5, 28.8, 26.3, 29.0, 28.5, 29.1, 23.7, 26.2, 23.3, 27.0, 26.1, 29.6, 30.1, 29.1, 26.3, 31.2, 30.7, 31.7, 32.5, 34.2, 33.9, 33.5, 30.8, 32.2, 29.6, 26.0, 28.5, 29.5, 30.2, 27.0, 29.1, 27.7, 32.5, 34.2, 35.0, 30.1, 30.2, 29.5, 28.2, 27.5, 26.8, 30.1, 31.1, 31.3, 33.0, 32.4, 30.0, 22.7, 28.2, 28.2, 26.0, 29.2, 23.6, 18.6, 25.3, 27.8, 27.3, 29.0, 28.0, 31.2, 30.2, 27.7, 27.3, 26.0, 27.3, 25.7, 27.8, 28.7, 23.7, 28.2, 30.8, 29.0, 24.6, 25.0, 26.7, 26.6, 23.7, 27.2, 22.2, 23.5, 20.7, 19.0, 23.2, 25.7, 24.7, 25.6, 26.1, 26.5, 25.2, 21.2, 21.6, 24.2, 19.2, 21.7, 22.3, 24.9, 17.1, 20.6, 21.8, 23.1, 23.2, 23.2, 21.7, 17.8, 19.0, 20.2, 21.7, 20.0, 21.2, 21.7, 14.8, 12.3, 15.5, 18.5, 19.5, 19.8, 20.0, 16.2, 12.5, 11.8, 15.3, 17.5, 17.3, 20.7, 21.8, 20.7, 18.1, 15.3, 12.1, 15.3, 17.7, 17.2, 13.8, 12.1, 10.0, 6.9, 7.9, 8.1, 7.5, 7.3, 8.3, 10.0, 9.3, 13.3, 12.6, 13.1, 12.5, 12.1, 12.1, 7.5, 8.8, 11.1, 4.0, 2.7, -1.7, -1.8, 0.1, 2.0, 0.8, 1.7, 0.4, -2.7, -5.5, -5.0, -2.0, -0.4, 0.4, -5.8, -3.7, 0.3, 1.3, -1.7, -3.2, 0.2, -0.5, 2.0, -4.0, -3.2, -0.4, 1.2, 4.3, 5.5, 1.8, 3.9, 1.2, -4.4, -2.5, -3.9, -1.8, 0.4, 3.0, 2.4, 3.5, 4.5, 6.0, 9.3, 7.5, 3.9, 4.8, 5.5, 6.9, 6.5, 5.1, -0.6, -0.4, 1.7, 3.2, 3.9, 5.5, 6.0, 8.1, 8.1, 6.3, 5.4, 1.0, -8.6, -4.6, -1.6, 4.9, 1.2, -3.9, -1.2, 4.0, 5.1, 2.5, 10.6, 7.5, 6.5, 6.9, -1.3, 5.3, 8.0, 9.1, 8.6, 7.3, 6.1, 11.5, 10.8, 7.5, 4.4, 4.8, 2.5, 2.0, 5.1, 10.0, 12.6, 12.1, 11.1, 10.3, 15.6, 14.6, 9.8, 1.0, 3.0, 4.9, 11.0, 6.9, 15.1, 13.1, 8.8, 8.5, 16.2, 17.2, 10.8, 12.0, 14.8, 11.8, 12.1, 4.9, 7.1, 9.3, 14.1, 11.6, 11.1, 18.7, 14.5, 17.5, 13.0, 13.3, 14.1, 21.7, 18.6, 22.2, 21.2, 12.0, 18.8, 16.2, 12.6, 14.3, 17.7, 16.6, 9.3, 16.7, 17.2, 13.1, 15.3, 16.5, 16.7, 18.7, 18.5, 17.7, 20.1, 23.8, 23.7, 21.2, 24.7, 23.6, 18.8, 26.5, 26.7, 27.6, 20.2, 24.2, 18.8, 19.0, 21.5, 25.0, 24.7, 24.6, 24.8, 20.2, 24.7, 28.3, 22.5, 20.1, 23.8, 21.3, 27.0, 21.2, 22.2, 22.7, 25.5, 26.7, 28.1, 32.4, 29.8, 26.2, 26.1, 27.3, 26.5, 24.0, 26.2, 20.6, 17.8, 28.3, 28.8, 22.1, 22.7, 27.3, 26.3, 27.2, 28.7, 26.2, 20.1, 28.8, 29.3, 28.5, 29.2, 22.8, 24.2, 27.7, 29.3, 26.8, 24.7, 26.7, 28.6, 24.0, 24.7, 23.5, 26.8, 29.0, 28.8, 26.1, 28.7, 25.1, 27.2, 29.2, 27.2, 21.2, 20.3, 20.7, 24.2, 24.7, 26.7, 27.5, 28.1, 26.6, 28.3, 24.6, 22.0, 23.2, 27.2, 29.7, 30.1, 32.0, 32.0, 33.2, 34.7, 32.9, 32.4, 31.7, 34.2, 34.2, 33.2, 30.1, 32.7, 33.2, 33.5, 32.4, 31.7, 30.8, 30.7, 29.7, 26.5, 30.5, 31.6, 30.6, 30.7, 29.0, 31.3, 25.7, 29.6, 25.8, 29.5, 29.5, 28.8, 30.3, 30.2, 25.1, 26.3, 25.2, 28.1, 25.7, 22.1, 20.1, 21.3, 25.2, 27.2, 27.0, 24.5, 24.7, 22.8, 20.0, 26.1, 26.7, 28.6, 27.7, 26.6, 26.8, 26.7, 27.1, 27.2, 23.1, 25.6, 25.5, 25.3, 26.3, 26.3, 27.5, 27.2, 26.7, 25.7, 23.7, 23.6, 25.7, 23.6, 22.5, 24.2, 24.2, 24.1, 25.6, 21.7, 23.2, 21.8, 23.5, 24.0, 18.7, 15.6, 18.3, 17.2, 18.8, 17.8, 19.5, 19.5, 19.8, 19.7, 19.8, 18.3, 20.2, 19.3, 17.7, 8.8, 8.1, 17.1, 17.2, 12.6, 9.3, 11.3, 13.6, 8.6, 10.5, 7.0, 10.1, 13.1, 13.6, 13.1, 11.1, 10.1, 11.3, 12.6, 16.2, 13.8, 12.0, 7.0, 5.0, 3.5, 5.9, 3.0, -0.8, 2.5, 6.6, 6.9, 7.4, 9.1, 5.9, 3.7, 6.0, 9.5, 9.8, 6.1, 6.4, 4.8, 1.6, 1.1, 5.0, 8.1, 8.1, 7.3, 7.0, 7.3, 12.6, 12.6, 5.6, -4.3, -3.7, -0.1, 6.1, 6.0, 4.5, 9.3, 11.8, 9.0, 4.6, -0.8, 0.2, 2.5, 2.9, 1.5, -0.8, -2.2, 2.5, 4.0, 5.3, 4.5, 4.3, 4.4, 6.1, 7.1, 5.5, 6.0, 5.5, 4.6, 4.3, 3.5, 4.4, 4.9, 2.7, -0.3, -1.5, -0.5, 6.4, 9.3, 8.1, 13.3, 13.8, 6.5, 6.1, 6.0, 5.8, 8.3, 7.4, 4.0, 4.4, 9.5, 10.1, 12.1, 10.3, 12.0, 8.5, 13.1, 7.4, 9.3, 11.5, 14.0, 12.5, 14.8, 15.3, 12.0, 12.0, 14.1, 5.5, -1.6, 1.2, 3.9, 9.3, 6.5, 3.5, 7.5, 10.1, 11.6, 14.5, 12.8, 11.6, 11.6, 12.3, 10.1, 8.3, 12.6, 16.2, 13.0, 12.3, 13.5, 13.8, 9.5, 10.6, 15.6, 11.1, 13.3, 8.8, 9.1, 11.1, 13.6, 14.6, 13.8, 14.6, 16.0, 14.3, 17.0, 15.6, 14.3, 15.8, 17.6, 13.6, 15.6, 16.6, 17.5, 14.5, 20.0, 16.2, 19.6, 16.7, 17.7, 21.1, 21.0, 20.7, 22.5, 18.7, 16.8, 21.2, 19.5, 21.7, 26.1, 25.2, 26.1, 25.6, 22.2, 22.8, 24.7, 18.6, 22.8, 20.7, 25.2, 22.0, 24.0, 18.8, 20.0, 23.1, 24.1, 26.0, 25.6, 22.2, 23.1, 25.7, 30.1, 27.5, 20.8, 24.7, 27.2, 22.2, 28.6, 29.6, 25.8, 21.5, 24.8, 21.7, 23.8, 25.7, 30.7, 30.0, 29.6, 29.3, 28.5, 28.5, 32.2, 30.7, 33.2, 32.2, 28.6, 23.2, 31.7, 29.5, 24.5, 25.2, 30.6, 30.6, 27.2, 23.7, 28.7, 23.2, 22.8, 27.3, 25.3, 25.1, 31.1, 30.7, 30.2, 30.3, 25.1, 21.1, 28.0, 30.7, 27.8, 29.0, 25.2, 27.7, 31.0, 26.8, 30.0, 26.2, 29.7, 29.3, 26.7, 26.7, 31.2, 29.7, 26.2, 27.2, 31.2, 29.8, 30.1, 30.2, 32.2, 26.1, 27.7, 29.3, 25.2, 27.7, 29.2, 31.0, 33.0, 28.1, 30.3, 28.6, 29.5, 30.8, 32.2, 31.2, 31.0, 31.0, 29.7, 31.8, 33.2, 31.7, 33.0, 32.2, 30.0, 30.8, 26.3, 25.6, 27.1, 23.2, 22.7, 27.6, 25.0, 24.2, 20.0, 26.5, 26.0, 27.3, 28.3, 28.1, 28.6, 27.8, 27.0, 23.2, 24.2, 27.7, 21.8, 26.7, 31.1, 24.0, 22.1, 25.0, 27.0, 27.7, 26.2, 23.5, 19.7, 21.2, 18.7, 20.7, 22.2, 19.3, 25.0, 26.2, 25.3, 25.2, 17.2, 21.7, 19.7, 20.0, 21.2, 19.5, 21.3, 20.7, 19.1, 17.7, 20.2, 13.8, 9.6, 17.6, 19.3, 20.2, 21.7, 20.6, 20.7, 21.3, 17.6, 12.8, 15.5, 15.5, 13.1, 12.8, 16.0, 15.6, 14.0, 19.0, 18.2, 19.3, 18.6, 11.8, 11.8, 13.8, 14.0, 14.3, 11.3, 9.8, 10.3, 3.0, 3.9, 3.5, 5.4, 7.6, 9.8, 10.0, 12.0, 8.3, 5.5, 10.6, 13.6, 6.0, 8.1, 6.4, 6.0, 2.4, 1.7, 3.2, 3.7, 3.0, 5.5, 5.0, 9.1, 7.0, 3.5, 4.0, 4.6, 3.7, 5.9, 4.4, 5.0, 7.6, 7.4, 10.6, 7.4, 8.3, 10.1, 13.8, 9.1, 6.8, 3.0, -4.8, -2.9, -3.2, 0.8, 6.6, 3.7, 6.1, 7.3, 6.4, 5.6, 3.7, 4.3, 2.0, 4.4, -1.1, 1.5, -0.4, -3.0, -3.9, -0.7, 1.5, 5.3, 3.8, 1.5, 0.8, -3.7, -1.6, 1.8, 4.4, 2.3, 3.5, 0.0, -0.5, 1.6, 3.1, 2.5, 1.2, 0.7, 1.3, 0.8, 1.5, 0.7, 3.4, 4.0, -3.3, -1.1, 2.7, 0.2, 1.2, 2.2, 4.0, 5.2, 7.6, 9.6, 10.5, 1.2, 4.4, 2.5, 1.2, 6.1, 8.4, 9.8, 7.8, 5.3, 8.0, 3.9, 8.0, 7.8, 9.6, 10.8, 11.8, 11.3, 16.3, 19.2, 12.0, 14.1, 13.5, 12.0, 15.1, 19.1, 17.3, 17.9, 19.8, 16.9, 8.9, 11.8, 6.0, 10.3, 9.6, 12.5, 8.1, 10.3, 12.4, 13.7, 10.2, 13.2, 16.5, 19.1, 22.6, 18.6, 23.9, 16.7, 21.8, 19.3, 18.4, 16.8, 20.2, 22.1, 25.7, 24.6, 24.8, 28.0, 26.1, 23.5, 19.5, 13.3, 14.3, 18.7, 12.5, 14.6, 20.0, 21.4, 23.7, 25.0, 26.5, 28.2, 21.8, 21.1, 23.4, 19.0, 25.1, 23.2, 20.9, 22.4, 20.3, 15.7, 18.0, 19.2, 22.3, 24.4, 16.1, 18.3, 21.1, 20.8, 25.8, 24.9, 28.5, 27.0, 23.3, 27.8, 20.6, 28.5, 21.3, 22.8, 26.6, 22.5, 24.1, 19.4, 17.0, 19.9, 24.3, 25.1, 27.0, 28.1, 29.4, 29.0, 27.6, 28.9, 27.4, 28.6, 25.7, 22.0, 24.1, 29.6, 28.2, 27.4, 27.1, 27.6, 28.6, 28.8, 28.7, 25.4, 27.4, 27.3, 29.3, 24.5, 25.1, 27.2, 28.0, 28.4, 27.5, 32.8, 32.9, 30.5, 30.0, 27.7, 29.7, 31.7, 31.2, 27.2, 30.3, 30.1, 25.7, 28.4, 24.1, 28.4, 26.5, 25.0, 25.9, 23.8, 28.3, 31.2, 32.3, 28.3, 29.5, 31.2, 28.4, 29.8, 31.4, 30.7, 32.9, 33.4, 35.4, 32.6, 34.5, 32.4, 28.9, 31.5, 31.5, 29.6, 23.5, 27.4, 25.0, 27.6, 27.4, 28.6, 22.2, 25.3, 28.2, 28.4, 28.4, 28.2, 29.4, 30.6, 30.9, 29.0, 23.5, 26.9, 28.5, 28.4, 24.7, 30.2, 30.6, 31.1, 29.7, 29.7, 23.8, 29.2, 29.5, 30.2, 29.9, 30.8, 32.0, 31.9, 31.4, 24.7, 29.7, 25.0, 24.9, 23.8, 20.5, 18.4, 20.1, 20.2, 23.8, 23.2, 25.8, 26.0, 24.4, 24.3, 25.7, 23.1, 21.4, 22.2, 24.6, 22.2, 20.0, 20.6, 21.3, 22.3, 20.9, 23.3, 25.1, 28.3, 23.1, 25.5, 22.9, 20.5, 20.1, 14.1, 14.3, 15.0, 14.3, 15.8, 16.2, 15.7, 13.5, 15.0, 15.2, 15.4, 14.1, 16.1, 18.4, 15.9, 18.0, 12.0, 14.9, 15.6, 15.6, 16.0, 15.2, 12.6, 11.5, 8.1, 0.4, -0.7, 7.2, 7.2, 9.5, 11.8, 12.6, 9.2, 10.6, 8.8, 9.3, 7.3, 7.8, 10.5, 12.0, 12.8, 8.9, -0.7, -4.9, 1.2, 9.4, 12.1, 13.3, 8.2, 8.5, 4.6, 3.3, 6.5, 7.7, 9.3, 3.7, 5.2, 5.2, 4.3, -2.7, 3.2, 5.9, 3.6, -2.4, 1.1, 4.6, 2.4, 0.3, -2.9, -2.5, 1.2, 4.0, 4.5, 1.2, 1.4, 4.2, 2.5, -0.5, -4.3, -4.2, -3.2, -1.5, -3.2, -2.0, 0.4, 3.1, 6.1, 4.7, 7.2, 5.9, 9.3, -2.0, -5.1, 1.0, -0.2, 3.9, 7.8, 8.3, 12.2, 11.7, 10.5, 8.0, 11.1, 8.9, 6.0, 6.8, 5.0, 8.2, 8.1, 6.5, 9.2, 10.6, 16.1, 5.3, 2.4, -2.3, -0.5, 1.4, 3.9, -0.1, 2.7, 7.0, 11.9, 10.2, 6.4, 7.3, 8.6, 10.2, 8.6, 8.6, 5.1, 8.9, 7.6, 4.0, 6.4, 11.1, 11.1, 8.6, 9.9, 13.5, 6.3, 4.3, 8.8, 13.1, 18.8, 18.8, 17.3, 19.3, 22.2, 13.5, 9.6, 5.5, 5.5, 9.2, 8.4, 10.1, 12.1, 11.2, 9.9, 10.0, 14.2, 12.8, 12.7, 15.8, 17.0, 21.3, 23.9, 24.9, 23.6, 25.3, 21.2, 20.6, 21.1, 14.1, 15.4, 17.9, 20.6, 25.8, 17.2, 11.4, 13.0, 17.9, 17.4, 11.8, 12.2, 17.0, 20.2, 22.5, 20.8, 22.4, 18.0, 22.8, 21.5, 26.3, 29.2, 27.5, 27.4, 27.0, 25.9, 20.0, 23.9, 22.4, 25.2, 22.1, 15.5, 17.4, 22.6, 24.5, 27.3, 19.4, 22.5, 19.6, 25.0, 29.6, 29.0, 29.7, 31.0, 27.9, 25.4, 24.7, 28.1, 26.2, 22.2, 25.9, 28.2, 27.6, 21.8, 25.7, 21.8, 22.2, 25.7, 24.4, 24.6, 23.5, 26.3, 26.6, 23.1, 31.5, 28.5, 24.7, 30.2, 26.5, 27.9, 30.0, 29.8, 29.4, 32.4, 29.6, 31.1, 26.6, 27.4, 22.3, 27.0, 26.9, 30.0, 29.0, 28.1, 30.3, 25.8, 29.7, 29.2, 24.0, 27.7, 25.6, 25.9, 32.4, 26.6, 27.3, 29.9, 28.5, 29.1, 30.0, 29.9, 30.1, 26.0, 29.1, 27.7, 26.4, 30.4, 30.6, 30.4, 28.9, 29.6, 27.5, 31.2, 32.3, 30.7, 28.5, 28.9, 33.6, 32.0, 27.1, 25.9, 30.9, 33.4, 33.0, 34.4, 30.9, 30.9, 31.8, 29.4, 29.6, 28.2, 30.9, 29.4, 27.6, 26.3, 25.7, 28.6, 26.7, 23.3, 28.3, 28.6, 28.6, 28.6, 29.3, 29.9, 29.9, 24.9, 28.4, 27.2, 27.4, 25.3, 23.9, 25.9, 22.8, 25.1, 25.8, 26.1, 28.5, 26.4, 25.5, 21.6, 25.2, 26.1, 25.5, 23.6, 26.8, 22.5, 25.3, 27.1, 28.1, 26.4, 24.1, 22.8, 21.9, 23.3, 24.7, 23.7, 21.5, 20.6, 21.3, 21.7, 19.8, 19.2, 20.1, 21.6, 21.5, 17.5, 18.7, 14.9, 15.6, 18.5, 18.8, 19.9, 20.7, 20.6, 21.2, 20.1, 20.0, 22.8, 24.0, 19.1, 13.4, 5.2, 6.1, 16.3, 17.9, 19.7, 20.0, 19.8, 21.8, 14.7, 13.9, 12.4, 10.3, 8.8, 1.9, 1.0, 1.9, 3.1, 5.9, 4.8, 3.8, 6.8, 12.3, 13.5, 7.5, 13.2, 8.5, 9.1, 7.5, 9.6, 10.1, 8.0, 5.9, 8.1, 5.6, -0.3, 5.1, 3.8, 8.6, 8.5, 8.8, 7.8, 6.2, 3.6, -1.5, -3.0, -3.2, -5.7, -4.3, -0.9, 0.5, 7.8, 7.7, 6.7, 4.0, -4.6, -5.5, -5.4, 1.6, 1.8, -8.3, -3.6, 0.2, -3.2, -3.4, -7.0, -8.1, -5.5, -3.3, -1.9, -0.3, -1.3, -7.3, -10.7, -4.1, -0.6, -2.1, 1.4, 1.9, 6.8, 8.4, 2.4, -3.4, -0.9, 3.8, 2.6, 1.1, 3.1, 2.7, 1.4, 5.0, 4.3, 5.1, -2.6, -5.0, -0.6, -1.9, 0.9, 5.6, 5.7, 4.4, 5.0, 3.5, 1.1, -0.3, 1.2, -0.3, -0.4, 0.3, -1.0, 2.5, 8.1, 9.6, 11.0, 16.2, 17.9, 14.8, 17.2, 11.0, 9.1, 6.3, 4.8, 10.2, 6.3, 9.5, 10.7, 7.8, 7.7, 5.7, 0.5, 6.0, 10.0, 7.9, 12.6, 11.1, 3.9, 3.1, 4.6, 8.9, 11.3, 7.1, 5.0, 10.3, 13.8, 9.5, 4.7, 7.2, 9.2, 11.3, 14.2, 8.7, 9.9, 10.3, 9.5, 14.5, 14.8, 11.7, 12.6, 15.5, 17.4, 13.5, 19.9, 18.5, 9.6, 6.4, 12.6, 13.6, 12.0, 17.0, 17.4, 20.7, 18.5, 12.7, 14.3, 16.8, 19.4, 17.8, 10.9, 7.8, 12.4, 13.2, 17.5, 23.3, 19.5, 25.3, 25.2, 19.8, 20.6, 23.0, 25.2, 20.9, 17.0, 19.6, 21.9, 23.7, 21.9, 25.1, 27.0, 19.4, 20.9, 25.4, 28.6, 25.5, 18.1, 15.8, 18.8, 21.7, 24.0, 20.4, 23.3, 23.4, 20.0, 26.2, 26.6, 26.5, 27.9, 28.4, 30.9, 31.4, 31.8, 30.6, 32.7, 31.2, 22.0, 27.2, 26.4, 29.7, 25.6, 27.6, 31.1, 25.8, 27.0, 27.8, 25.2, 28.6, 30.8, 32.5, 27.2, 23.3, 30.5, 27.2, 24.8, 30.7, 25.9, 25.7, 29.9, 30.8, 31.6, 29.6, 29.6, 29.8, 29.2, 26.5, 28.6, 31.3, 27.7, 30.0, 27.7, 24.2, 29.1, 30.1, 32.3, 29.7, 29.6, 25.9, 29.3, 30.0, 28.6, 30.8, 31.2, 30.6, 30.8, 30.1, 31.0, 31.8, 32.1, 31.9, 33.8, 31.0, 28.2, 31.6, 33.3, 29.8, 32.7, 26.7, 29.6, 29.1, 30.2, 26.7, 31.8, 31.2, 32.9, 32.2, 32.1, 32.5, 29.1, 25.9, 22.5, 26.7, 31.8, 27.2, 26.0, 29.9, 27.2, 31.4, 26.2, 30.0, 31.2, 30.7, 30.0, 30.8, 24.3, 22.5, 25.8, 26.1, 26.1, 27.9, 28.6, 30.5, 30.0, 28.9, 30.3, 23.8, 26.0, 24.9, 18.8, 22.8, 23.2, 24.1, 24.2, 23.9, 18.6, 16.8, 20.7, 21.4, 18.6, 21.4, 16.7, 19.7, 22.1, 23.8, 23.2, 24.2, 22.8, 21.2, 19.2, 19.6, 20.4, 16.9, 21.6, 19.9, 19.3, 21.7, 19.5, 21.9, 22.4, 20.2, 23.4, 15.1, 8.2, 10.1, 12.3, 16.7, 17.8, 17.0, 16.7, 9.2, 12.6, 16.0, 15.1, 14.8, 14.3, 11.4, 6.5, 9.1, 15.1, 12.6, 17.4, 12.4, 5.1, 8.8, 11.3, 12.0, 10.9, 13.4, 15.6, 13.1, 12.8, 10.7, 6.1, 4.7, 9.1, 2.0, 7.8, 12.5, 10.4, 13.5, 7.8, 5.0, 10.7, 10.2, 4.6, 2.2, 2.3, 10.1, 6.7, 3.7, 6.1, 1.8, -7.3, -4.1, 2.6, 5.0, 8.3, 8.8, 10.8, 8.3, 4.5, -9.0, -6.7, -5.1, -2.1, -0.1, -2.1, -3.6, -6.2, -2.9, -1.2, -0.3, -1.7, -1.8, -4.6, -2.9, 0.1, -0.3, -4.6, -2.7, -4.9, -0.6, 0.3, -6.9, -10.7, -4.8, -2.7, -3.2, -4.7, -3.2, -0.8, -2.1, -5.8, -4.4, -5.2, -5.7, -4.3, -5.5, -5.7, -1.8, 5.0, 7.0, 4.9, 3.5, 5.5, 2.7, 4.2, 8.5, 2.1, 2.7, 1.8, -1.8, -0.2, -0.2, 2.9, 4.3, 4.7, 7.3, 7.0, 12.8, 12.3, 13.0, 12.0, 10.5, 6.3, 13.2, 7.4, 4.8, 3.7, 1.6, 2.5, 6.0, 6.8, 7.4, 5.8, 6.2, 4.4, 4.9, 9.8, 13.4, 16.2, 10.3, 5.7, 3.2, 6.1, 12.5, 13.7, 11.4, 13.0, 6.1, 7.3, 8.0, 6.5, 8.6, 9.7, 8.4, 9.1, 13.6, 16.8, 14.9, 12.8, 15.5, 16.7, 17.1, 16.6, 10.7, 17.3, 15.0, 14.5, 15.4, 15.5, 17.4, 18.8, 19.0, 18.4, 18.4, 10.7, 16.2, 16.8, 18.0, 14.5, 14.2, 13.9, 15.7, 11.4, 14.2, 15.3, 18.4, 14.6, 15.7, 20.7, 20.6, 21.8, 23.7, 17.9, 21.8, 24.1, 22.0, 18.5, 21.1, 20.2, 20.6, 22.9, 22.9, 22.2, 22.8, 25.4, 23.6, 20.5, 17.7, 23.3, 25.9, 28.0, 28.2, 24.0, 24.5, 28.9, 31.2, 28.1, 23.7, 21.6, 24.7, 24.8, 24.6, 27.1, 26.9, 26.6, 27.5, 22.0, 24.3, 29.2, 30.2, 26.9, 29.5, 31.9, 32.0, 31.3, 28.9, 32.9, 32.0, 29.6, 24.9, 23.3, 21.6, 20.0, 21.6, 20.5, 29.7, 23.3, 27.9, 28.6, 26.8, 24.8, 28.0, 30.7, 31.2, 25.3, 24.6, 27.8, 28.4, 22.1, 25.6, 26.2, 24.6, 26.0, 25.3, 29.1, 34.1, 32.7, 32.6, 32.2, 26.6, 29.7, 27.9, 27.9, 29.3, 26.2, 26.3, 30.2, 30.5, 26.6, 29.2, 30.1, 28.1, 28.0, 34.1, 32.7, 33.0, 27.7, 28.7, 28.9, 29.9, 26.3, 26.6, 26.8, 26.9, 26.2, 24.6, 30.2, 29.2, 27.0, 31.0, 29.6, 30.5, 28.6, 30.5, 30.3, 31.2, 32.0, 29.9, 32.4, 32.8, 31.1, 32.4, 30.7, 30.2, 28.5, 28.7, 27.3, 25.8, 20.7, 26.4, 22.5, 27.0, 30.9, 28.1, 31.3, 31.2, 31.0, 26.4, 18.2, 23.2, 24.0, 24.6, 26.0, 25.9, 26.6, 27.7, 29.2, 23.5, 19.5, 18.6, 17.6, 18.1, 20.8, 21.2, 22.0, 20.2, 21.2, 22.5, 22.5, 21.8, 22.4, 18.7, 23.4, 15.7, 16.9, 20.1, 14.8, 15.4, 20.4, 20.9, 21.0, 21.7, 22.1, 15.3, 12.1, 15.3, 19.5, 19.8, 13.5, 20.8, 22.1, 22.6, 21.5, 24.3, 22.5, 25.9, 19.3, 18.8, 19.6, 18.4, 17.0, 14.7, 15.8, 15.8, 11.0, 11.6, 15.7, 16.3, 16.1, 15.5, 3.7, 6.3, 7.9, 7.4, 2.0, 7.2, 8.8, 15.3, 17.0, 13.6, 9.2, 9.0, 7.5, 9.1, 6.3, 5.9, 7.7, 5.7, 3.7, 0.1, 1.4, 6.3, 6.4, 7.4, 7.2, -0.9, -3.5, -1.6, 1.4, 1.9, 3.8, 5.2, 1.1, -1.1, -3.0, -3.5, -3.5, 1.2, 2.2, 1.7, 1.9, 1.4, 0.4, -1.2, -0.2, -4.3, -1.3, 1.3, 2.0, 0.4, 2.7, 1.5, -3.3, -0.4, 2.6, 2.7, 0.3, 7.8, 8.2, 5.4, 8.4, 8.3, 5.7, -2.4, -5.3, -3.1, -5.0, 1.8, 4.9, 3.1, 1.6, -0.8, -0.3, -8.1, -9.5, -3.9, 1.0, 4.8, 7.0, -0.1, -3.8, -0.5, 1.7, 0.8, 4.8, 8.4, 8.3, 3.0, 2.7, -2.9, -2.2, 1.3, 5.3, 5.5, 12.1, 8.2, 9.7, 5.0, 3.2, 5.2, 7.3, 11.8, 14.6, 9.5, 12.9, 9.7, 8.5, 4.6, 7.7, 5.2, 9.1, 8.9, 1.3, 3.2, 6.6, 5.9, 11.8, 12.9, 16.1, 11.5, 7.2, 8.3, 10.4, 11.4, 9.7, 6.9, 7.7, 8.7, 10.9, 15.8, 16.2, 11.9, 10.1, 9.4, 14.1, 9.4, 12.8, 12.2, 9.6, 12.4, 17.6, 22.4, 16.9, 17.4, 12.4, 15.1, 16.4, 21.7, 17.9, 19.7, 21.3, 24.3, 23.8, 16.3, 12.0, 17.3, 26.6, 20.7, 16.8, 22.3, 22.1, 26.3, 29.4, 28.3, 29.1, 25.4, 25.7, 24.9, 24.1, 24.9, 28.0, 27.4, 26.6, 19.2, 21.1, 25.2, 17.2, 22.7, 22.0, 20.5, 24.5, 25.8, 28.7, 28.9, 29.3, 27.8, 24.0, 26.6, 26.1, 23.4, 26.0, 25.4, 23.6, 27.2, 26.7, 28.8, 29.1, 29.1, 27.5, 28.9, 29.4, 27.9, 29.9, 28.7, 27.8, 28.9, 28.9, 31.7, 28.0, 29.9, 29.8, 30.2, 33.5, 31.3, 32.4, 29.3, 31.7, 32.8, 33.2, 30.8, 31.0, 29.6, 31.0, 23.7, 25.4, 29.8, 25.7, 27.4, 24.6, 21.8, 31.0, 30.7, 32.3, 29.1, 26.5, 28.5, 29.3, 26.2, 20.5, 25.0, 29.0, 28.4, 26.5, 29.7, 31.4, 30.4, 30.5, 32.1, 32.1, 32.6, 32.3, 33.2, 33.2, 31.6, 33.0, 35.3, 35.5, 35.4, 36.2, 36.7, 35.8, 35.0, 34.3, 34.6, 29.0, 31.8, 27.9, 32.1, 31.2, 27.1, 28.9, 32.2, 28.6, 30.8, 27.1, 28.7, 24.6, 25.7, 26.1, 28.9, 32.4, 32.9, 29.4, 29.1, 24.7, 28.4, 29.4, 29.5, 28.5, 24.4, 26.1, 27.1, 27.2, 23.7, 25.0, 28.3, 27.5, 24.8, 21.1, 21.8, 25.5, 22.1, 18.4, 24.6, 25.2, 24.7, 24.3, 26.4, 26.6, 27.5, 27.8, 25.4, 23.6, 22.0, 19.8, 21.0, 24.6, 24.9, 26.0, 24.2, 22.8, 24.5, 24.4, 23.4, 22.4, 20.3, 19.0, 21.4, 23.1, 21.8, 21.8, 23.4, 17.6, 17.0, 20.1, 21.0, 23.7, 17.1, 14.5, 18.4, 20.0, 22.3, 16.4, 18.8, 16.7, 12.4, 11.6, 10.0, 12.4, 15.7, 15.3, 10.7, 8.6, 12.5, 12.6, 15.0, 14.7, 12.0, 9.1, 9.1, 6.7, 9.8, 8.2, 8.0, 8.4, 7.6, 6.4, 8.4, 10.5, 6.9, 6.7, 7.5, 5.1, 6.5, 10.2, 4.7, 6.2, 4.0, 7.1, 5.0, -0.1, -0.8, -2.9, -2.4, -5.3, -7.0, -4.6, -0.8, 0.0, 3.4, 4.7, 8.3, 4.3, 3.2, -4.0, -2.8, 0.3, 0.8, -0.8, -5.9, -4.5, -4.6, -7.0, -0.8, 1.5, 0.6, 0.0, -5.0, 0.0, -4.8, -9.3, -5.8, -1.2, -2.0, 0.1, -0.7, -6.4, -3.6, 1.4, 4.2, 3.3, 1.8, 2.0, 0.4, -2.5, 0.2, 4.6, 4.1, 4.0, 6.0, 3.8, 2.4, -6.5, -5.1, -3.9, 0.2, 3.7, 8.5, 11.5, 9.3, 3.7, -1.1, 2.5, 2.7, 0.2, -2.6, -6.1, -2.6, -0.5, -0.9, -1.9, 2.9, 5.2, 1.5, 2.6, 5.8, 3.1, 0.6, 0.0, 2.5, 4.3, 2.4, 5.3, 8.6, 7.5, 8.8, 13.9, 7.7, 3.1, 4.8, 8.9, 9.1, 14.3, 11.7, 14.1, 23.8, 7.9, 12.1, 11.7, 8.4, 9.8, 10.5, 12.7, 15.9, 14.2, 11.4, 8.5, 7.2, 6.9, 12.1, 10.2, 7.8, 10.4, 14.9, 12.0, 10.4, 10.2, 13.2, 13.4, 9.5, 14.1, 19.8, 19.9, 13.0, 9.6, 13.8, 10.7, 8.1, 9.6, 11.9, 17.5, 12.2, 12.5, 19.1, 20.6, 16.3, 15.0, 10.1, 15.3, 17.2, 14.8, 18.0, 13.8, 16.3, 18.5, 21.6, 17.7, 19.5, 18.6, 17.1, 18.2, 19.6, 20.6, 21.3, 26.7, 26.2, 23.0, 16.1, 24.8, 22.5, 26.8, 25.3, 24.4, 28.3, 26.6, 22.3, 21.5, 18.5, 24.6, 25.9, 30.2, 27.5, 31.8, 28.4, 22.6, 20.9, 18.1, 25.0, 27.8, 27.9, 30.8, 26.7, 28.4, 30.4, 30.0, 31.1, 31.2, 32.4, 32.2, 26.7, 22.5, 27.5, 29.7, 29.1, 27.5, 25.8, 23.1, 29.6, 31.1, 31.8, 29.6, 26.2, 29.4, 29.8, 29.7, 31.8, 30.6, 32.6, 31.9, 31.3, 27.9, 30.7, 27.6, 30.2, 30.6, 29.5, 26.3, 26.2, 26.1, 25.1, 24.3, 25.6, 25.4, 29.1, 28.8, 25.7, 27.7, 30.5, 30.3, 28.4, 29.4, 26.4, 27.6, 30.2, 31.1, 31.2, 26.7, 29.6, 29.9, 29.0, 32.1, 29.3, 32.6, 31.3, 30.1, 27.6, 32.1, 32.8, 30.8, 29.4, 33.2, 32.6, 32.9, 32.0, 32.4, 31.7, 31.6, 31.5, 32.3, 32.3, 33.9, 32.3, 28.7, 31.5, 32.1, 31.6, 29.3, 30.8, 26.7, 28.3, 27.9, 28.2, 26.9, 26.8, 27.5, 24.1, 23.1, 26.9, 27.9, 26.5, 25.2, 20.9, 26.3, 25.2, 25.3, 28.2, 27.0, 29.3, 31.1, 30.2, 28.0, 27.8, 27.2, 29.0, 23.9, 24.2, 22.5, 24.0, 19.9, 19.7, 25.5, 27.2, 22.8, 21.3, 25.1, 28.1, 25.7, 26.9, 21.8, 26.4, 26.4, 20.7, 21.5, 23.4, 24.4, 17.4, 16.8, 18.9, 20.2, 19.5, 22.9, 22.2, 21.7, 22.1, 18.5, 14.5, 15.7, 18.0, 16.7, 16.5, 16.2, 18.8, 20.7, 14.9, 16.7, 17.6, 18.5, 15.9, 15.8, 14.5, 15.5, 10.4, 7.5, 8.5, 11.4, 9.9, 12.4, 12.0, 7.6, 4.2, 3.8, 5.9, 7.3, 10.5, 12.5, 10.6, 10.2, 5.8, 4.7, -0.9, 4.8, 10.6, 8.6, 6.6, 9.9, 9.6, 9.0, 7.0, 11.0, 6.5, 5.2, 3.5, 0.2, 0.3, -4.3, -1.4, 0.7, 0.5, 4.7, 6.5, -0.9, -0.1, 0.9, 3.1, 2.3, 4.0, 3.7, 2.7, -3.7, -2.7, 1.6, 6.3, 8.0, 7.9, 6.2, 7.3, 5.6, 3.8, 6.4, 5.5, 4.0, -4.3, -0.9, 2.4, 2.5, -1.6, 1.1, 2.2, 3.6, 3.8, 0.8, 2.4, 1.9, -3.1, 1.6, 4.1, 5.7, 6.3, 2.3, 6.0, 4.6, 8.2, 6.5, 7.0, 6.0, 6.5, 2.8, -3.7, 0.3, 4.5, 7.6, 2.5, 0.7, 4.4, 5.2, 5.1, 6.5, 7.6, 8.5, 8.1, 8.5, 5.4, 6.7, 5.5, 6.9, 7.4, 8.5, 9.3, 12.3, 16.4, 13.1, 12.3, 9.4, 10.1, 11.9, 12.3, 5.3, 5.0, 4.3, 7.0, 4.8, 7.7, 9.4, 9.5, 8.3, 8.5, 13.4, 18.5, 19.4, 16.0, 12.3, 10.3, 12.0, 15.5, 15.5, 15.3, 18.2, 21.9, 20.4, 23.8, 18.0, 20.6, 20.2, 23.0, 21.9, 13.6, 11.7, 11.0, 12.8, 16.7, 19.7, 15.3, 20.0, 18.7, 17.2, 24.3, 22.4, 16.8, 19.4, 20.9, 23.0, 18.4, 21.6, 21.4, 23.3, 24.9, 26.2, 25.9, 25.4, 18.3, 15.0, 18.9, 21.4, 22.1, 24.8, 19.3, 20.5, 15.5, 19.0, 22.3, 19.5, 23.8, 28.3, 23.8, 20.4, 25.6, 25.9, 23.7, 26.2, 26.2, 27.1, 26.2, 28.4, 26.5, 28.3, 27.8, 27.9, 24.9, 24.7, 28.3, 29.8, 30.9, 31.8, 33.3, 29.9, 24.6, 21.0, 27.8, 26.1, 31.1, 27.1, 24.5, 28.7, 29.3, 26.9, 27.1, 25.8, 27.7, 28.5, 29.0, 30.7, 29.1, 25.6, 28.6, 28.2, 29.0, 23.2, 27.2, 29.0, 29.5, 29.5, 28.4, 29.8, 30.2, 31.2, 31.1, 24.7, 32.3, 29.7, 29.5, 33.8, 29.3, 33.0, 33.6, 32.8, 29.6, 29.4, 30.7, 32.3, 32.2, 29.6, 30.6, 30.7, 33.2, 31.6, 28.2, 25.2, 24.5, 33.7, 27.3, 30.6, 31.3, 30.1, 33.5, 34.4, 34.7, 35.8, 30.5, 29.6, 29.2, 26.2, 27.1, 30.6, 31.6, 27.7, 28.6, 30.4, 26.7, 24.2, 29.6, 31.8, 25.0, 24.4, 25.3, 28.0, 24.6, 28.2, 29.7, 30.7, 28.6, 29.6, 28.6, 30.7, 30.1, 30.7, 29.0, 29.7, 27.7, 20.6, 27.6, 29.0, 30.8, 31.3, 30.2, 28.2, 28.9, 29.2, 26.6, 28.3, 28.4, 27.5, 27.0, 22.6, 27.0, 28.4, 28.1, 25.6, 27.9, 29.0, 23.8, 27.7, 24.2, 25.1, 24.7, 20.7, 23.7, 24.4, 20.1, 20.8, 23.0, 23.2, 22.6, 22.5, 23.6, 25.4, 26.3, 25.6, 29.0, 21.7, 20.0, 20.0, 18.0, 21.2, 22.5, 22.7, 17.1, 15.7, 18.7, 20.6, 21.0, 22.2, 19.9, 16.9, 19.4, 20.8, 20.8, 18.2, 22.9, 15.4, 14.8, 18.5, 18.4, 17.7, 16.5, 15.1, 15.5, 16.5, 14.5, 10.0, 4.3, 10.0, 9.5, 12.4, 9.0, 10.4, 12.6, 14.6, 16.5, 12.7, 12.3, 13.2, 15.1, 16.3, 14.9, 10.1, 12.8, 11.1, 7.9, -2.7, -0.5, -0.2, -2.5, -0.5, 0.2, 2.7, 4.1, 4.2, 3.2, 0.5, -2.0, 0.6, 2.0, 1.7, -5.2, -2.2, 0.0, 2.1, -1.3, 0.8, 1.8, 6.4, 1.8, 2.5, 5.0, 1.6, 6.4, 6.3, 1.7, -4.3, -1.9, 3.1, 8.5, 7.9, 4.0, -0.6, -0.2, 3.5, 4.8, 2.5, 3.7, 5.8, 6.1, 9.0, 3.4, 0.0, 2.1, 3.1, 4.4, 6.5, 7.1, 4.9, 8.4, 5.0, 6.5, 0.5, 2.7, 3.0, 0.8, 0.8, 3.6, 6.4, 7.2, 5.8, 4.8, 6.5, 5.7, -2.8, -0.1, 5.8, 8.0, 1.6, 4.0, 6.6, 13.0, 7.9, 4.1, 3.3, 8.6, 11.4, 6.7, 7.0, 5.9, 7.5, 12.5, 4.7, 4.8, 6.4, 5.9, 9.7, 6.7, 1.4, 5.5, 10.4, 11.0, 15.1, 8.2, 1.0, 7.5, 6.7, 11.0, 11.6, 12.5, 18.6, 16.1, 14.4, 21.0, 21.9, 17.8, 14.9, 10.1, 12.4, 14.2, 14.8, 16.2, 17.0, 16.5, 20.8, 14.9, 17.6, 21.8, 15.1, 18.5, 12.2, 15.4, 12.2, 13.7, 16.3, 19.2, 20.7, 20.4, 17.6, 8.0, 17.0, 14.8, 16.1, 23.7, 17.3, 16.8, 20.9, 20.7, 20.1, 22.8, 23.0, 24.4, 24.9, 26.9, 18.4, 28.3, 27.2, 26.0, 19.6, 20.1, 19.9, 22.0, 24.0, 22.7, 24.0, 25.9, 24.1, 17.5, 21.4, 26.6, 23.7, 25.2, 25.2, 22.2, 16.2, 21.9, 26.0, 27.2, 28.3, 28.5, 28.7, 30.3, 31.5, 32.2, 29.8, 23.2, 30.4, 28.5, 29.8, 29.4, 31.5, 22.0, 28.9, 31.5, 27.8, 28.1, 34.9, 30.2, 29.9, 30.9, 27.7, 30.6, 30.9, 30.8, 31.3, 29.9, 22.6, 29.6, 29.1, 31.0, 30.6, 29.1, 25.3, 31.1, 31.1, 30.6, 29.2, 27.9, 29.3, 28.3, 29.9, 29.6, 32.5, 29.7, 26.3, 31.8, 34.3, 36.0, 28.0, 24.9, 31.4, 33.9, 28.9, 28.6, 27.8, 29.8, 31.2, 29.6, 31.7, 32.1, 25.4, 26.4, 30.0, 30.0, 31.2, 28.8, 33.1, 32.4, 31.6, 29.2, 31.5, 30.8, 32.7, 34.4, 34.4, 33.0, 31.0, 32.0, 30.6, 32.9, 31.1, 32.5, 30.8, 31.2, 32.9, 32.2, 29.7, 28.1, 29.3, 29.6, 31.7, 30.3, 24.5, 25.3, 30.0, 28.1, 30.8, 31.0, 31.2, 30.7, 27.7, 28.2, 30.7, 23.6, 26.2, 28.7, 28.9, 30.1, 28.4, 24.4, 24.0, 26.0, 27.8, 28.7, 26.7, 27.6, 29.2, 29.0, 28.3, 29.4, 31.0, 26.1, 30.6, 29.8, 28.0, 29.8, 28.3, 28.2, 26.2, 19.7, 21.5, 24.5, 22.4, 25.6, 26.3, 25.7, 26.4, 20.5, 17.2, 14.4, 17.9, 21.3, 24.5, 26.1, 24.2, 26.6, 24.2, 23.9, 25.1, 22.7, 23.1, 21.4, 22.0, 22.8, 18.7, 15.9, 15.8, 14.7, 10.4, 12.3, 12.6, 15.2, 18.7, 19.8, 19.2, 19.2, 11.7, 11.8, 12.1, 13.5, 17.7, 21.0, 13.1, 14.2, 17.2, 14.0, 19.3, 12.6, 10.8, 14.4, 15.4, 15.7, 11.0, 8.8, 5.3, 0.9, 2.0, 2.6, 3.9, 8.5, 10.4, 8.5, 3.3, 3.1, 7.2, 7.8, 6.7, 9.6, 10.9, 9.2, 12.2, 11.0, 12.2, 6.4, 8.2, 2.8, -0.4, -1.0, 6.8, 6.0, 5.0, 7.7, 10.6, 5.3, 3.7, 4.7, -1.0, -1.0, 2.9, 4.3, 2.8, 4.0, 9.5, 9.4, 5.3, 1.5, 1.7, 1.4, 1.0, 2.4, 3.8, 0.9, 0.7, 0.1, 1.3, 5.3, 2.8, 5.4, 0.4, -8.9, -5.2, -2.3, -3.8, -8.3, -10.5, -3.4, 1.7, 4.3, 3.5, 5.4, 5.2, 0.3, -1.0, 0.9, 4.0, 3.9, 3.4, 2.0, 3.5, 5.5, 5.5, 10.7, 13.5, 10.0, 14.4, 5.8, -2.3, 1.1, 5.4, 7.8, 4.4, 6.3, 4.4, 4.2, 4.5, 2.2, 5.7, 7.5, 8.1, 6.9, -1.1, 2.1, 8.1, 13.9, 20.3, 13.5, 12.9, 12.2, 7.0, 5.3, 3.1, 4.6, 6.4, 6.5, 9.6, 12.4, 13.8, 14.7, 20.1, 18.1, 17.5, 16.1, 13.8, 13.8, 12.7, 12.6, 12.6, 13.1, 17.4, 17.1, 18.3, 21.4, 23.8, 21.7, 12.7, 19.8, 18.1, 22.9, 20.6, 18.7, 14.1, 20.7, 19.4, 19.4, 21.4, 18.6, 23.1, 20.7, 14.5, 18.6, 19.2, 20.9, 16.9, 18.6, 19.8, 23.7, 25.3, 29.6, 20.7, 23.0, 22.6, 20.4, 26.0, 28.4, 17.6, 20.6, 26.9, 18.6, 22.6, 26.8, 25.4, 18.1, 23.5, 24.0, 25.4, 26.9, 24.2, 21.9, 26.6, 29.5, 31.9, 31.6, 30.4, 31.7, 29.4, 21.8, 24.4, 22.9, 27.1, 28.0, 27.6, 28.9, 27.6, 29.9, 29.1, 27.7, 26.3, 32.2, 28.4, 25.9, 27.7, 31.3, 31.3, 26.5, 26.7, 29.6, 29.5, 24.5, 24.9, 29.1, 29.9, 29.3, 30.7, 31.3, 30.2, 29.4, 25.7, 26.7, 30.3, 29.5, 29.7, 30.2, 26.9, 26.6, 27.7, 26.8, 24.1, 24.8, 26.9, 28.5, 32.4, 32.7, 33.1, 33.4, 30.9, 29.5, 32.4, 29.2, 23.8, 23.1, 28.4, 32.4, 32.9, 32.2, 34.1, 31.6, 30.1, 31.4, 31.9, 28.9, 30.5, 28.4, 33.0, 32.8, 32.4, 31.1, 34.2, 35.7, 36.0, 34.0, 35.0, 35.5, 33.6, 34.8, 36.4, 35.9, 35.1, 31.8, 34.0, 34.9, 34.7, 34.3, 33.2, 34.9, 36.6, 36.3, 33.0, 32.9, 32.2, 28.2, 29.7, 24.5, 27.1, 24.5, 19.2, 28.6, 29.0, 28.6, 29.6, 31.1, 29.0, 28.6, 26.5, 29.3, 29.1, 28.2, 27.5, 30.8, 28.9, 29.5, 29.5, 28.2, 28.3, 27.8, 26.8, 25.3, 27.2, 27.9, 28.9, 29.7, 28.9, 23.8, 21.8, 24.8, 23.5, 25.6, 22.4, 27.9, 29.0, 27.2, 23.5, 24.8, 21.8, 16.6, 21.4, 21.1, 20.7, 21.9, 23.5, 27.1, 19.5, 21.7, 24.0, 24.3, 25.8, 22.0, 22.8, 17.8, 20.6, 17.5, 16.3, 20.9, 18.4, 11.2, 15.1, 8.2, 6.6, 10.5, 14.1, 15.7, 18.1, 18.3, 17.8, 8.4, 8.6, 9.8, 14.2, 16.7, 18.1, 15.8, 10.2, 12.0, 16.5, 14.6, 18.6, 15.3, 14.6, 8.4, 3.6, 2.4, 6.0, 2.7, 6.6, 5.6, 8.6, 9.8, 7.0, 7.9, 11.3, 9.5, 10.3, 4.3, 7.5, 6.1, 4.2, 3.6, 6.4, 6.3, 8.8, -0.1, -1.5, 0.0, 8.0, 8.1, 12.0, 13.6, 12.6, 11.0, 1.5, 1.1, 6.4, 4.4, 1.3, 2.6, -1.1, 1.0, 5.7, 6.9, 9.2, 7.7, 8.9, 7.3, 11.4, 10.5, 10.9, 4.3, 1.1, 1.5, 1.0, -1.4, -5.4, -0.9, 4.0, 3.4, 2.8, 4.7, -1.4, -0.9, -3.3, -4.1, -1.3, 0.9, 3.4, 3.1, 4.3, 2.5, -0.9, 0.2, 0.7, 3.3, 6.7, 3.2, 2.3, 2.6, 3.0, 0.6, -2.1, -2.5, 0.8, 4.2, 6.1, 6.5, 8.0, 10.3, 9.0, 2.9, 5.7, 5.4, 6.9, 2.9, 2.1, 4.4, 8.4, 10.1, 10.7, 12.3, 11.4, 6.6, 10.4, 12.7, 10.4, 4.0, 2.9, 5.0, 10.7, 12.2, 16.7, 14.0, 12.2, 10.9, 13.3, 13.4, 15.7, 16.1, 18.9, 15.5, 12.6, 14.1, 15.0, 15.2, 12.6, 11.6, 10.9, 12.7, 14.4, 17.1, 12.4, 15.1, 15.8, 19.2, 21.8, 14.2, 12.4, 23.5, 19.9, 20.5, 23.3, 20.2, 16.4, 19.6, 17.7, 24.3, 24.4, 18.0, 17.4, 18.4, 18.2, 19.3, 22.5, 21.7, 21.3, 20.4, 20.2, 19.8, 21.5, 23.7, 27.8, 28.3, 28.0, 30.2, 27.5, 27.0, 19.3, 22.8, 23.5, 22.6, 20.8, 24.8, 21.1, 22.6, 20.7, 20.1, 22.3, 25.9, 26.9, 27.9, 27.3, 27.6, 28.0, 24.4, 27.8, 24.4, 23.2, 26.4, 27.9, 29.3, 30.3, 29.6, 27.0, 25.6, 26.5, 28.1, 30.3, 23.9, 19.2, 25.9, 25.7, 27.5, 29.6, 28.0, 25.9, 26.8, 29.6, 32.7, 29.9, 31.8, 30.2, 32.7, 31.6, 30.4, 34.1, 27.8, 28.4, 29.9, 30.5, 30.5, 31.5, 30.9, 30.7, 26.8, 27.4, 31.6, 32.6, 34.6, 28.4, 27.6, 30.3, 25.4, 30.9, 31.1, 32.1, 33.0, 27.3, 28.8, 29.0, 30.7, 34.1, 34.9, 32.4, 32.5, 28.1, 27.3, 35.4, 32.8, 29.7, 26.9, 30.1, 32.6, 27.1, 33.0, 33.0, 33.9, 35.3, 34.8, 34.0, 34.4, 31.0, 32.0, 26.3, 32.4, 32.6, 28.4, 27.1, 24.0, 26.8, 27.7, 30.6, 28.7, 25.8, 29.2, 31.5, 30.2, 28.1, 30.6, 29.2, 26.7, 26.5, 24.0, 23.9, 27.6, 29.7, 29.6, 29.2, 30.1, 23.7, 24.0, 27.5, 29.9, 28.2, 26.1, 24.6, 27.9, 27.5, 29.5, 27.9, 27.6, 29.2, 27.6, 25.8, 24.9, 27.0, 26.8, 27.3, 27.9, 30.1, 31.4, 27.3, 25.3, 23.5, 25.9, 21.2, 29.4, 23.6, 24.3, 23.4, 23.3, 28.8, 28.7, 27.6, 24.8, 21.7, 18.9, 20.5, 23.0, 22.0, 23.9, 19.1, 23.2, 24.2, 25.2, 23.5, 20.6, 20.9, 20.6, 18.1, 24.2, 24.8, 17.2, 13.2, 16.0, 18.1, 18.0, 16.6, 13.7, 15.4, 16.5, 18.4, 17.2, 16.8, 15.9, 10.7, 11.4, 11.8, 11.4, 6.5, 6.4, 5.8, 2.6, 3.5, 4.2, 8.1, 10.8, 4.7, 2.9, 7.3, 7.6, 9.5, 11.2, 8.1, 2.7, 3.1, 8.1, 8.1, 4.5, -0.4, 6.0, 4.6, -0.5, 5.4, 6.7, -2.5, -5.2, -4.4, -1.9, 0.9, -2.6, -2.3, 3.3, -1.0, -0.1, 4.6, 6.6, 8.7, 5.7, 0.6, -1.1, -2.6, 0.8, 6.0, 4.5, 3.3, 3.8, 1.8, -0.4, -0.7, 1.6, 2.9, 2.8, 4.0, -1.2, -4.8, -7.4, -5.4, -1.2, 5.4, 7.7, 6.8, 8.7, 4.5, 5.5, 6.9, 5.5, 4.0, -5.3, -10.7, -9.5, -10.7, -3.5, -1.2, -4.7, -0.8, 0.0, 1.2, 3.8, -2.1, -5.2, -5.1, -5.8, -1.6, 2.0, 6.1, 3.2, -2.2, -1.8, 4.3, 8.7, 4.0, 4.9, 1.4, 5.2, 6.8, 5.5, 4.4, 5.4, 8.6, 7.2, 7.9, 10.4, 6.9, 7.8, 3.0, 5.4, 16.2, 11.9, 11.4, 10.9, 10.7, 9.7, 9.6, 9.7, 12.2, 15.5, 18.8, 22.1, 16.6, 12.2, 14.0, 12.5, 10.4, 9.1, 5.3, 11.6, 12.5, 13.1, 16.9, 18.1, 20.0, 19.0, 21.1, 21.9, 20.1, 18.5, 23.7, 21.2, 18.2, 9.5, 8.6, 8.6, 7.9, 15.4, 21.9, 17.3, 19.6, 19.3, 14.8, 14.2, 18.8, 20.1, 19.3, 20.5, 26.3, 25.6, 21.0, 10.7, 16.1, 23.3, 22.1, 23.3, 21.7, 22.9, 25.0, 23.3, 19.7, 14.7, 20.0, 24.6, 20.7, 25.5, 22.9, 21.8, 21.4, 21.3, 16.1, 20.0, 24.5, 29.3, 24.4, 23.5, 19.3, 24.7, 22.6, 23.7, 23.2, 23.3, 23.7, 26.2, 29.6, 24.7, 29.1, 25.9, 24.7, 27.6, 30.2, 30.1, 30.8, 27.5, 29.2, 27.9, 29.4, 27.0, 30.1, 24.9, 23.9, 27.1, 27.0, 25.1, 27.0, 28.7, 27.5, 30.8, 27.2, 28.4, 28.7, 32.0, 28.9, 32.1, 32.9, 26.9, 25.5, 27.3, 29.1, 27.9, 22.8, 25.3, 32.6, 31.8, 29.0, 27.1, 29.2, 28.1, 24.2, 26.5, 29.5, 28.2, 30.9, 31.9, 33.2, 34.0, 32.1, 33.2, 34.1, 34.7, 36.9, 38.0, 35.7, 36.8, 34.1, 33.7, 35.4, 35.2, 36.7, 36.9, 38.3, 39.6, 37.9, 37.9, 34.9, 33.9, 35.3, 35.9, 35.3, 32.5, 36.8, 36.0, 35.3, 34.4, 37.2, 38.0, 35.6, 33.8, 32.1, 34.4, 33.3, 31.0, 37.6, 32.2, 26.3, 29.3, 29.0, 24.9, 26.1, 27.4, 28.2, 30.3, 30.9, 29.6, 25.8, 27.8, 28.5, 28.2, 25.5, 27.7, 28.9, 28.4, 26.1, 28.2, 28.3, 26.8, 26.0, 23.9, 27.7, 26.5, 26.6, 20.1, 21.9, 25.5, 25.3, 22.1, 24.3, 24.8, 25.0, 22.2, 27.0, 21.6, 19.7, 22.0, 24.2, 25.6, 19.0, 21.7, 21.1, 20.9, 19.8, 16.7, 13.9, 17.4, 19.8, 20.3, 21.0, 20.3, 18.6, 19.0, 20.4, 21.4, 21.1, 20.6, 16.9, 18.7, 21.2, 14.7, 11.6, 13.5, 11.7, 11.6, 12.6, 15.2, 19.0, 19.1, 19.4, 18.3, 17.5, 15.7, 14.7, 15.4, 17.1, 10.9, 15.1, 15.4, 16.6, 16.2, 14.5, 11.4, 10.7, 11.3, 12.7, 8.2, 7.1, 7.6, 3.8, 9.8, 13.6, 12.5, 11.1, 6.7, 8.0, 12.4, 11.8, 13.5, 11.8, 3.4, 6.8, -1.1, -4.4, -2.1, 4.6, 2.9, 2.4, 2.1, 0.6, 3.2, 2.1, 5.9, 7.4, 9.5, 10.4, 9.8, 12.4, 7.5, 3.1, 5.2, 3.0, -6.5, -6.6, -3.0, -0.9, -0.5, -0.6, 0.2, 3.2, 4.1, 1.1, 2.7, 3.1, 0.5, 1.3, 3.0, 7.2, 8.0, 7.6, 5.3, 2.6, -1.1, 4.0, 6.7, 8.5, 4.0, 4.2, 7.1, 7.0, 6.5, 2.6, 2.4, 5.1, 4.5, 7.0, 6.6, 2.3, 2.8, 6.1, 4.9, 3.0, 10.1, 9.3, 6.3, -1.3, -1.9, -1.9, 2.0, 3.7, 2.5, 6.3, 0.9, 1.5, 4.6, 5.9, 3.0, 4.5, 9.0, 10.8, 14.5, 13.7, 10.2, 12.0, 14.0, 12.8, 13.0, 14.7, 16.1, 16.3, 12.9, 12.4, 12.7, 13.4, 14.9, 15.3, 10.0, 7.9, 8.5, 10.0, 11.3, 9.2, 12.4, 14.4, 16.7, 14.6, 11.1, 8.3, 8.2, 9.7, 11.5, 17.6, 16.2, 14.6, 15.1, 8.4, 8.4, 11.3, 13.0, 13.6, 15.7, 17.2, 12.2, 20.3, 17.2, 13.9, 10.2, 15.7, 18.4, 17.9, 13.6, 18.1, 22.6, 21.8, 16.2, 19.7, 19.1, 20.2, 28.2, 25.5, 25.9, 17.2, 9.9, 18.2, 16.6, 17.3, 22.5, 22.2, 25.3, 26.1, 27.4, 26.5, 19.8, 21.9, 21.3, 22.9, 26.8, 28.3, 28.9, 22.8, 26.9, 28.0, 30.0, 28.3, 25.9, 21.6, 20.2, 23.8, 26.5, 29.2, 33.4, 28.6, 31.1, 22.3, 24.6, 26.5, 24.5, 23.3, 23.7, 27.8, 29.5, 29.0, 29.6, 25.1, 24.7, 27.6, 26.5, 21.9, 26.1, 26.4, 28.8, 28.4, 27.4, 27.2, 26.2, 24.8, 25.4, 27.8, 26.1, 30.6, 31.0, 30.9, 32.8, 29.5, 31.2, 29.0, 27.7, 28.5, 28.9, 30.1, 27.4, 32.8, 35.0, 36.1, 32.5, 31.0, 30.0, 27.3, 25.9, 28.7, 29.7, 31.6, 27.4, 28.8, 29.2, 32.1, 35.0, 31.9, 27.0, 31.0, 32.9, 27.2, 27.4, 25.9, 33.4, 28.2, 30.0, 30.8, 27.5, 30.1, 33.1, 36.0, 34.4, 35.9, 36.8, 30.3, 32.7, 34.6, 36.5, 35.7, 28.5, 35.3, 35.7, 28.6, 29.5, 28.8, 30.7, 31.3, 32.8, 30.4, 31.4, 30.5, 27.3, 29.9, 32.1, 29.3, 30.2, 26.4, 27.0, 28.9, 27.8, 29.7, 28.0, 25.5, 27.6, 29.1, 29.5, 27.3, 28.0, 26.5, 28.7, 22.9, 29.3, 24.1, 30.0, 30.5, 29.0, 25.4, 26.0, 24.2, 22.1, 19.6, 24.6, 26.5, 27.4, 29.0, 27.0, 29.2, 28.6, 29.9, 28.2, 24.2, 27.3, 27.8, 21.9, 22.7, 17.9, 19.8, 20.4, 19.8, 26.1, 23.3, 23.8, 19.6, 20.4, 20.8, 21.6, 22.7, 23.1, 22.9, 24.6, 24.4, 20.7, 23.8, 22.0, 14.9, 17.4, 17.7, 17.6, 17.7, 19.7, 20.5, 18.7, 22.1, 20.3, 18.4, 16.5, 13.6, 13.0, 17.2, 15.3, 15.1, 14.5, 11.3, 5.0, 7.6, 12.7, 10.5, 12.7, 4.0, 6.3, 9.0, 17.3, 17.7, 15.6, 6.0, 13.7, 6.8, 10.4, 6.9, 9.3, 6.2, 2.8, 4.2, 7.2, -0.2, -1.0, 1.2, 4.9, 8.0, 10.8, 9.8, 3.4, 5.9, 6.4, 11.0, 12.9, 10.2, 5.2, 3.1, 2.0, 1.5, 8.4, 5.2, 6.5, 6.6, 4.1, 2.6, 6.1, 6.2, 6.8, -4.5, 0.3, 3.8, 4.6, 6.1, 6.6, 4.6, 7.7, 8.9, 2.0, 4.2, 3.9, 2.8, 0.2, 2.6, 2.2, 3.2, 4.9, 5.9, 5.3, 5.5, 5.5, 7.8, 9.9, 7.4, 8.8, 11.9, 7.5, 9.9, 9.6, 10.4, 8.9, 7.6, 5.3, 3.0, 3.9, -4.9, 0.4, 2.2, 3.7, 4.1, 9.6, 14.6, 8.2, 8.7, 14.7, 15.6, 7.7, -3.9, 1.3, 6.4, 10.8, 10.9, 7.9, 8.0, 12.2, 9.4, 10.4, 12.5, 5.9, 13.0, 10.1, 7.6, 10.5, 4.6, 6.3, 10.1, 14.2, 16.9, 17.6, 10.8, 8.3, 13.3, 8.7, 8.6, 8.5, 9.1, 12.3, 17.0, 12.1, 14.0, 19.5, 16.5, 17.0, 17.9, 19.2, 20.6, 15.8, 12.8, 16.1, 16.9, 18.6, 17.4, 15.5, 16.3, 13.3, 13.7, 16.1, 16.8, 14.2, 14.7, 16.8, 16.0, 15.6, 20.4, 19.6, 20.2, 23.8, 15.4, 19.6, 15.5, 13.1, 10.4, 8.3, 12.8, 14.3, 17.1, 19.0, 18.3, 19.9, 21.0, 23.4, 26.2, 23.9, 27.4, 25.3, 19.3, 27.6, 26.5, 27.3, 16.8, 16.6, 22.0, 18.9, 21.8, 25.4, 20.2, 20.3, 24.9, 26.8, 17.1, 20.1, 22.9, 22.7, 25.0, 20.2, 21.3, 22.9, 23.9, 23.4, 27.6, 30.0, 28.0, 24.5, 21.8, 28.4, 26.5, 28.7, 30.9, 29.2, 32.0, 32.8, 32.1, 31.6, 27.6, 33.5, 28.8, 28.6, 30.7, 30.3, 27.3, 30.0, 29.7, 32.7, 35.4, 31.0, 26.3, 23.4, 25.7, 29.6, 30.1, 26.5, 23.1, 24.3, 29.8, 30.6, 29.5, 27.6, 30.9, 28.1, 30.4, 32.9, 27.7, 30.2, 26.0, 21.7, 24.3, 28.7, 29.7, 31.6, 31.0, 26.6, 26.6, 30.5, 25.7, 22.6, 26.8, 29.0, 29.6, 25.5, 26.4, 24.9, 28.4, 29.6, 26.9, 26.4, 26.3, 29.4, 29.1, 26.0, 26.1, 26.1, 25.8, 29.5, 27.3, 31.3, 30.3, 28.0, 27.0, 30.8, 32.2, 31.9, 31.4, 31.7, 29.2, 27.6, 29.9, 32.0, 34.5, 34.5, 28.6, 29.7, 29.0, 30.6, 30.0, 29.5, 26.4, 25.6, 27.5, 27.3, 24.4, 20.6, 26.5, 25.3, 27.0, 27.1, 23.2, 26.6, 24.9, 27.7, 24.9, 23.6, 25.8, 26.2, 24.9, 25.3, 25.6, 23.8, 25.4, 25.4, 24.8, 25.8, 26.5, 23.9, 25.7, 23.6, 21.9, 23.2, 21.8, 18.4, 19.7, 22.0, 23.1, 23.3, 21.5, 20.8, 21.3, 18.4, 18.0, 18.5, 15.4, 18.6, 20.2, 21.3, 21.7, 17.3, 18.2, 13.3, 14.0, 18.2, 19.0, 19.4, 18.2, 16.1, 19.6, 18.2, 15.0, 15.6, 8.6, 10.8, 15.9, 17.2, 18.1, 12.4, 8.9, 12.9, 16.5, 17.7, 17.6, 19.3, 14.9, 18.3, 20.0, 18.7, 19.1, 7.0, 12.8, 9.1, 5.9, 6.4, 9.5, 10.9, 7.7, 2.8, 2.6, 4.3, 6.7, 6.1, 4.2, 4.4, 6.6, 9.1, 6.3, 4.1, 6.2, 9.3, 9.4, 6.1, 2.0, -5.0, -4.6, -3.9, 0.8, 1.8, -1.2, 1.1, 4.7, 7.2, 8.5, 6.1, 3.5, 8.0, 10.0, 11.4, 4.3, -6.2, -5.0, 1.6, -1.4, -2.0, 0.3, -2.1, -1.9, -8.4, -10.7, -7.5, -2.7, -4.0, -0.5, 8.3, 7.0, 9.9, -0.7, -1.3, 0.2, -0.2, 7.1, 7.0, 6.6, 12.2, 13.9, 13.9, 7.4, 6.5, 1.4, -4.9, 5.2, 8.7, 9.5, -2.4, 1.4, 0.7, 6.7, 9.5, 7.7, 0.2, 4.7, 7.2, 10.9, 14.0, 15.9, 13.8, 8.2, -1.3, -5.2, -0.4, 8.9, 14.9, 17.4, 12.6, 4.3, 10.1, 8.2, 15.8, 16.2, 10.8, 9.0, 6.9, 9.9, 13.0, 16.2, 11.6, 12.2, 13.9, 12.2, 17.1, 17.1, 14.9, 14.2, 14.7, 15.7, 13.1, 17.5, 18.4, 20.2, 14.7, 8.6, 11.1, 16.4, 16.9, 19.0, 20.6, 15.0, 13.0, 14.6, 18.2, 22.9, 24.0, 23.0, 18.0, 15.8, 19.3, 19.2, 20.4, 18.0, 19.6, 18.8, 21.8, 17.8, 13.5, 13.3, 18.3, 14.8, 14.6, 15.3, 19.4, 22.0, 28.2, 27.5, 21.7, 22.2, 24.0, 20.6, 20.0, 18.2, 20.1, 14.6, 15.3, 18.7, 20.3, 15.8, 18.4, 23.1, 17.2, 21.0, 21.8, 14.6, 25.7, 27.7, 29.6, 30.8, 26.2, 20.8, 16.7, 24.5, 26.6, 22.9, 18.2, 23.8, 25.1, 24.5, 19.3, 23.0, 18.7, 19.7, 19.1, 26.3, 23.8, 23.9, 29.7, 22.7, 23.6, 25.7, 28.2, 24.0, 29.5, 31.6, 29.8, 24.4, 30.2, 29.7, 30.2, 25.3, 28.9, 25.0, 21.4, 27.4, 29.0, 28.5, 28.6, 27.9, 28.0, 29.5, 26.7, 30.8, 29.2, 28.4, 28.8, 31.0, 31.8, 25.7, 23.1, 26.9, 30.1, 29.1, 29.8, 29.2, 29.2, 27.5, 32.5, 31.5, 33.5, 34.5, 35.2, 32.8, 34.1, 30.5, 31.8, 35.3, 35.9, 35.8, 36.5, 35.9, 35.4, 35.7, 34.7, 33.3, 35.4, 34.3, 28.8, 28.6, 31.4, 33.2, 33.7, 32.2, 32.3, 32.1, 33.6, 32.2, 31.6, 31.7, 30.1, 30.5, 32.4, 32.8, 31.3, 31.0, 31.5, 30.7, 25.5, 27.0, 24.0, 26.4, 27.3, 27.9, 25.5, 28.2, 26.3, 27.7, 23.1, 23.9, 26.7, 29.2, 28.6, 27.3, 26.4, 20.9, 26.9, 29.1, 28.9, 29.4, 29.8, 30.3, 29.5, 28.9, 27.3, 28.2, 29.8, 27.8, 28.4, 26.2, 24.3, 25.9, 26.9, 23.1, 27.3, 25.0, 24.4, 21.4, 25.9, 27.5, 26.6, 28.8, 25.6, 26.5, 21.7, 21.9, 20.0, 24.1, 24.3, 17.8, 21.3, 25.2, 23.9, 21.4, 18.1, 10.8, 16.1, 15.0, 15.8, 16.2, 17.2, 18.4, 18.1, 17.6, 19.0, 18.1, 20.0, 20.6, 18.0, 20.3, 16.9, 16.9, 17.1, 16.3, 20.2, 21.3, 21.3, 15.5, 6.5, 7.7, 9.7, 8.6, 13.4, 16.4, 15.7, 13.6, 12.5, 16.2, 16.7, 15.6, 13.1, 7.5, 2.3, 9.1, 9.9, 7.2, 10.1, 12.4, 13.7, 8.9, 1.5, 5.0, 4.6, 7.0, 9.6, 12.1, 13.3, 13.3, 9.7, 8.2, 9.8, 5.1, 1.9, 8.2, 10.0, 9.8, 3.2, -1.8, 4.2, 11.1, 8.9, 8.2, 8.3, 3.2, -7.3, -7.3, -3.9, -0.9, 5.9, 0.2, -3.9, 2.3, 3.0, 2.5, 1.0, 1.9, 3.3, 4.5, 3.7, 5.6, 4.4, 0.3, -3.4, -3.1, 1.3, 1.8, 2.4, 0.1, -0.7, -2.7, 0.9, 4.6, 7.1, 6.7, 8.4, 4.5, 6.8, 4.0, 2.1, 0.9, 2.4, 4.8, 0.9, 0.0, 0.4, -0.7, -2.0, 1.7, 1.9, 5.6, 7.2, 6.7, 8.8, 10.4, 9.5, 8.1, -1.3, -4.1, -0.5, 5.7, 3.7, -0.5, 3.6, 0.5, -0.6, 3.7, 8.4, 9.3, 9.1, 11.5, 9.7, 8.8, 12.4, 14.6, 6.7, 6.8, 8.7, 12.3, 14.8, 15.8, 18.4, 19.5, 12.6, 13.2, 13.3, 16.8, 15.1, 9.6, 6.1, 9.3, 10.9, 13.6, 8.2, 12.4, 17.2, 14.7, 12.6, 15.1, 15.6, 15.7, 14.7, 14.9, 14.2, 17.0, 16.4, 15.8, 17.0, 15.7, 20.0, 24.2, 25.1, 26.6, 26.4, 15.9, 15.3, 19.3, 20.2, 21.9, 21.6, 22.1, 22.1, 22.7, 16.8, 25.3, 24.5, 23.6, 28.7, 23.9, 25.9, 16.5, 17.8, 19.2, 19.4, 20.8, 25.2, 25.8, 25.6, 23.1, 18.2, 25.3, 26.3, 25.2, 28.1, 25.2, 20.0, 22.4, 23.7, 27.4, 25.4, 24.2, 25.8, 26.0, 25.8, 30.7, 30.2, 26.7, 23.5, 25.6, 29.3, 29.7, 24.7, 27.2, 28.6, 26.9, 32.6, 29.7, 27.0, 24.5, 25.1, 25.8, 24.5, 26.6, 32.7, 31.5, 29.2, 27.1, 20.1, 24.8, 28.1, 25.1, 25.1, 29.0, 32.6, 31.0, 26.4, 24.9, 30.5, 28.1, 28.1, 27.9, 26.1, 24.5, 30.9, 33.8, 34.2, 32.6, 33.1, 33.3, 31.0, 27.9, 30.9, 35.1, 30.6, 29.4, 27.1, 29.9, 30.3, 28.2, 29.7, 30.1, 31.1, 30.4, 25.2, 27.5, 28.0, 28.4, 32.0, 33.1, 33.4, 34.4, 34.3, 36.1, 29.0, 32.4, 28.5, 30.0, 32.9, 32.7, 30.3, 31.7, 28.4, 26.5, 28.8, 27.5, 32.4, 27.5, 31.5, 29.8, 30.0, 30.5, 29.8, 27.5, 32.0, 32.0, 30.2, 30.2, 27.9, 24.0, 28.4, 25.5, 28.4, 22.5, 20.3, 24.9, 30.4, 29.8, 29.2, 24.0, 22.7, 26.3, 28.1, 29.5, 30.8, 28.4, 26.4, 27.5, 26.4, 27.9, 28.3, 29.9, 29.4, 32.5, 29.6, 24.6, 25.6, 24.7, 22.2, 24.2, 25.2, 25.4, 28.0, 26.1, 26.5, 27.7, 27.6, 21.6, 23.4, 23.0, 21.6, 19.1, 18.6, 21.6, 14.5, 11.9, 16.4, 20.6, 22.7, 23.0, 24.4, 20.5, 15.1, 14.2, 16.8, 19.7, 20.9, 20.8, 18.6, 14.8, 17.6, 17.8, 18.9, 20.6, 21.3, 21.3, 21.1, 17.8, 17.9, 13.4, 9.8, 13.6, 16.4, 16.6, 17.9, 16.0]\n"
          ]
        }
      ]
    },
    {
      "cell_type": "code",
      "source": [
        "print(len(result))"
      ],
      "metadata": {
        "colab": {
          "base_uri": "https://localhost:8080/"
        },
        "id": "7w9MT5X-OY4R",
        "outputId": "e3c9bce3-1bd0-46b3-dc8d-e53aed8fa603"
      },
      "execution_count": null,
      "outputs": [
        {
          "output_type": "stream",
          "name": "stdout",
          "text": [
            "40854\n"
          ]
        }
      ]
    },
    {
      "cell_type": "code",
      "source": [
        "import csv\n",
        "import matplotlib.pyplot as plt\n",
        "\n",
        "plt.plot(result, 'red')   # result 리스트에 저장된 값을 빨간색 그래프로 그리기\n",
        "plt.figure(figsize = (10,2)) # 가로로 10인치, 세로로 2인치로 설정\n",
        "plt.show()   "
      ],
      "metadata": {
        "colab": {
          "base_uri": "https://localhost:8080/",
          "height": 283
        },
        "id": "KHRtcUu6K-QO",
        "outputId": "b952b149-85a4-44e1-ef66-6ba8ca95331b"
      },
      "execution_count": null,
      "outputs": [
        {
          "output_type": "display_data",
          "data": {
            "text/plain": [
              "<Figure size 432x288 with 1 Axes>"
            ],
            "image/png": "[encoded data removed]"
          },
          "metadata": {
            "needs_background": "light"
          }
        },
        {
          "output_type": "display_data",
          "data": {
            "text/plain": [
              "<Figure size 720x144 with 0 Axes>"
            ]
          },
          "metadata": {}
        }
      ]
    },
    {
      "cell_type": "code",
      "source": [
        "s = 'hello python'\n",
        "print(s.split())"
      ],
      "metadata": {
        "colab": {
          "base_uri": "https://localhost:8080/"
        },
        "id": "_llbjzEGOj14",
        "outputId": "f0ae662d-b234-4695-c6e3-f5d6a743acd3"
      },
      "execution_count": null,
      "outputs": [
        {
          "output_type": "stream",
          "name": "stdout",
          "text": [
            "['hello', 'python']\n"
          ]
        }
      ]
    },
    {
      "cell_type": "code",
      "source": [
        "date ='2000-11-20'\n",
        "print(date.split('-'))"
      ],
      "metadata": {
        "colab": {
          "base_uri": "https://localhost:8080/"
        },
        "id": "zRljouQQOm_I",
        "outputId": "34991bb9-e1be-4482-e5ac-6d63c20d0846"
      },
      "execution_count": null,
      "outputs": [
        {
          "output_type": "stream",
          "name": "stdout",
          "text": [
            "['2000', '11', '20']\n"
          ]
        }
      ]
    },
    {
      "cell_type": "code",
      "source": [
        "print(date.split('-')[0])\n",
        "print(date.split('-')[1])\n",
        "print(date.split('-')[2])"
      ],
      "metadata": {
        "colab": {
          "base_uri": "https://localhost:8080/"
        },
        "id": "wz2WY1rZOuWo",
        "outputId": "aede6b0e-64bd-4cab-fd51-fba597eb43a6"
      },
      "execution_count": null,
      "outputs": [
        {
          "output_type": "stream",
          "name": "stdout",
          "text": [
            "2000\n",
            "11\n",
            "20\n"
          ]
        }
      ]
    },
    {
      "cell_type": "code",
      "source": [
        "for row in data :\n",
        "    if row[-1] != '':                      # 최고 기온 값이 존재한다면\n",
        "        if row[0].split('-')[1] == '08':   # 8월에 해당하는 값이라면\n",
        "            result.append(float(row[-1]))   # result 리스트에 최고 기온 값 추가\n",
        "plt.plot(result, 'hotpink')    # result 리스트에 저장된 값을 hotpink 색으로 그리기\n",
        "plt.show()                     # 그래프 나타내기"
      ],
      "metadata": {
        "colab": {
          "base_uri": "https://localhost:8080/",
          "height": 265
        },
        "id": "OlKqLAGZOz_H",
        "outputId": "a182574c-773d-4536-84fb-f369b714ddae"
      },
      "execution_count": null,
      "outputs": [
        {
          "output_type": "display_data",
          "data": {
            "text/plain": [
              "<Figure size 432x288 with 1 Axes>"
            ],
            "image/png": "[encoded data removed]"
          },
          "metadata": {
            "needs_background": "light"
          }
        }
      ]
    },
    {
      "cell_type": "code",
      "source": [
        "for row in data :\n",
        "    if row[-1] != '' :\n",
        "        if row[0].split('-')[0] == '11' and row[0].split('-')[1] == '20' :\n",
        "            result.append(float(row[-1]))\n",
        "print(result)\n",
        "len(result)"
      ],
      "metadata": {
        "colab": {
          "base_uri": "https://localhost:8080/"
        },
        "id": "HWE7ZJrRO9HH",
        "outputId": "b7366d2c-108b-4742-8a16-5596e22318dc"
      },
      "execution_count": null,
      "outputs": [
        {
          "output_type": "stream",
          "name": "stdout",
          "text": [
            "[20.7, 22.0, 21.3, 22.0, 25.4, 21.3, 16.1, 14.9, 21.1, 24.1, 20.4, 17.4, 21.3, 20.6, 20.9, 20.2, 21.6, 20.9, 21.3, 22.7, 19.9, 19.6, 16.3, 17.1, 18.7, 18.2, 20.7, 19.6, 20.0, 20.1, 20.3, 21.3, 21.1, 11.1, 13.6, 17.0, 18.1, 12.4, 9.4, 11.9, 13.2, 13.4, 14.9, 16.4, 15.2, 17.6, 12.6, 11.7, 6.7, 4.3, 7.1, 6.2, 11.2, 9.9, 5.9, -0.7, 1.5, 1.9, 2.0, 2.9, -2.4, 1.4, 3.4, 6.1, 1.3, 2.6, 5.8, 1.9, 6.6, 8.1, 4.3, 0.6, 3.8, 9.0, 6.4, -5.1, -2.4, -2.1, -0.4, -0.2, 1.9, -8.1, -10.2, -9.4, 0.9, 6.8, 6.4, -0.7, -1.9, -4.4, -6.1, -2.1, -1.3, -3.0, -2.9, -1.7, -0.1, 2.9, -1.2, -0.9, 2.0, 3.3, 4.8, 4.5, 4.7, 0.1, 0.9, -4.5, -3.6, 2.8, 2.8, 2.3, -6.1, -5.1, -2.7, 0.1, 0.3, -0.6, 0.0, -1.3, 0.8, 0.8, 6.2, 1.6, -0.2, -5.4, -4.1, -5.5, -5.7, -3.7, 1.3, -4.1, -2.5, -2.8, -1.2, 1.3, 2.3, 2.0, -1.4, -1.6, 0.3, 5.5, 7.3, 5.1, 5.4, 2.7, 1.7, 0.8, 4.1, 8.4, 6.3, 5.6, 4.0, 0.1, 4.9, 4.0, 7.9, 7.9, 2.2, 1.9, 1.5, 1.5, 1.8, 2.6, 3.8, 6.7, 11.8, 13.5, 15.7, 10.7, 7.9, 4.3, 6.0, 12.5, 17.0, 14.7, 11.4, 7.4, 8.0, 15.5, 18.2, 11.4, 13.2, 14.8, 14.9, 11.1, 15.0, 9.9, 10.6, 13.6, 17.2, 16.9, 17.1, 13.6, 9.4, 14.1, 14.8, 18.6, 14.4, 18.8, 20.4, 22.7, 22.9, 17.4, 21.1, 21.6, 20.9, 13.3, 16.4, 14.2, 17.1, 19.6, 22.2, 24.2, 16.1, 19.0, 20.1, 20.5, 22.9, 24.6, 24.3, 23.5, 24.9, 17.9, 14.3, 17.3, 20.1, 24.0, 18.5, 18.0, 23.2, 24.2, 21.0, 24.1, 18.0, 19.2, 19.5, 25.2, 22.1, 18.5, 20.8, 21.4, 24.5, 23.5, 26.2, 28.0, 28.3, 29.1, 24.9, 24.8, 24.8, 27.5, 28.9, 27.5, 28.9, 24.5, 26.1, 27.6, 29.5, 26.5, 27.0, 23.5, 21.2, 25.8, 28.0, 29.1, 32.4, 31.0, 22.1, 29.4, 29.6, 23.0, 26.4, 23.5, 23.7, 25.9, 28.5, 23.0, 26.5, 27.2, 30.3, 27.6, 23.2, 22.3, 29.2, 30.4, 29.6, 31.2, 26.5, 29.7, 30.3, 31.5, 29.4, 26.0, 22.2, 25.3, 28.3, 32.9, 27.8, 27.0, 27.5, 29.7, 29.8, 26.7, 27.8, 29.6, 30.7, 32.0, 31.5, 32.4, 33.6, 30.9, 29.5, 26.7, 26.8, 30.5, 30.5, 29.0, 28.9, 30.4, 31.7, 32.0, 33.3, 32.5, 33.5, 31.1, 26.7, 26.1, 27.5, 23.9, 21.3, 23.3, 26.0, 27.7, 27.9, 27.2, 27.1, 26.8, 26.8, 27.5, 28.7, 27.0, 28.0, 25.5, 26.7, 26.1, 23.4, 23.2, 23.7, 23.1, 24.4, 26.8, 25.6, 26.2, 22.2, 21.4, 24.2, 21.8, 20.5, 22.0, 25.0, 27.4, 27.4, 25.7, 23.8, 21.8, 19.0, 20.8, 22.0, 23.4, 23.0, 17.7, 21.4, 17.0, 19.9, 18.6, 19.2, 20.5, 22.5, 18.4, 23.2, 23.2, 20.7, 22.3, 23.2, 21.5, 24.4, 25.3, 22.3, 23.9, 17.2, 18.1, 17.3, 11.8, 12.9, 13.6, 13.7, 16.4, 17.3, 18.9, 18.6, 18.9, 13.8, 8.0, 6.0, 3.3, 6.6, 5.7, 3.3, 7.5, 3.4, 5.3, 6.8, 9.7, 11.2, 15.2, 15.1, 6.7, 5.1, 2.8, 7.8, 12.6, 6.7, -1.5, 4.8, 4.7, 4.9, 3.5, 9.3, 2.7, 7.8, 9.6, 6.8, 3.2, 3.6, 6.4, 6.5, 8.8, 8.4, 9.9, 11.7, 1.8, 5.4, 6.3, -3.1, 1.5, 0.4, 4.5, 2.1, -2.0, 1.4, 6.3, 7.9, 8.5, 4.5, 4.8, -1.0, -3.0, -3.5, 2.5, 5.0, 7.6, 4.7, 1.5, 1.4, -0.1, 0.3, 1.5, 3.3, 1.9, 0.2, 3.0, 2.1, 1.7, 5.5, 5.2, 2.8, 0.2, -2.2, -2.3, 0.7, 4.5, 2.9, 2.2, 0.0, 2.0, 1.5, 1.4, 4.7, 5.8, 6.2, 4.6, -1.3, 2.0, -4.7, -2.7, 2.2, 4.4, 5.2, 2.6, -1.6, 3.6, 8.8, 3.8, 1.0, 0.9, 8.2, 5.9, -4.9, -5.5, -3.3, -1.2, 3.6, 1.7, 0.7, 4.9, 7.3, 8.4, 4.4, 4.5, 8.0, 8.8, 3.4, 6.4, 8.8, 9.1, 13.9, 15.2, 7.6, 5.5, -0.2, 2.6, 4.0, 3.0, 4.1, 9.3, 11.3, 6.1, 12.1, 7.4, 3.0, 1.8, 3.0, 6.0, 8.5, 11.8, 13.5, 15.0, 12.5, 18.9, 19.8, 21.3, 20.4, 10.0, 9.3, 15.2, 17.8, 9.0, 9.3, 20.2, 22.5, 17.5, 11.8, 14.6, 20.5, 14.3, 12.3, 16.7, 17.2, 16.2, 19.1, 19.0, 23.3, 21.8, 17.8, 17.2, 15.2, 16.9, 19.3, 19.9, 15.4, 21.8, 21.6, 14.3, 17.9, 21.6, 25.7, 23.4, 14.5, 20.2, 21.2, 19.8, 21.1, 22.0, 23.4, 23.1, 21.5, 21.1, 23.4, 25.2, 24.3, 24.8, 21.4, 19.7, 18.7, 21.2, 29.4, 29.8, 29.6, 31.7, 31.4, 31.4, 20.0, 19.3, 24.0, 24.1, 23.8, 23.8, 26.0, 25.8, 25.6, 26.1, 26.0, 27.4, 24.9, 27.2, 28.0, 30.1, 27.0, 29.8, 29.1, 30.0, 26.6, 27.9, 28.0, 27.0, 25.9, 27.0, 25.5, 27.5, 26.5, 28.3, 29.1, 31.0, 20.8, 23.4, 28.2, 28.8, 28.4, 25.0, 23.5, 30.3, 29.8, 30.4, 30.1, 30.8, 25.8, 30.0, 28.9, 27.8, 29.9, 31.8, 30.0, 29.9, 30.4, 30.7, 30.9, 31.6, 31.2, 30.7, 32.3, 27.5, 31.7, 33.2, 34.5, 31.7, 30.2, 35.6, 34.8, 33.0, 30.8, 27.8, 24.8, 23.9, 23.8, 25.3, 27.3, 28.3, 30.3, 30.3, 30.0, 30.0, 27.7, 30.9, 25.3, 26.8, 29.1, 30.5, 30.6, 29.5, 26.5, 26.9, 24.5, 25.5, 26.5, 25.1, 29.0, 28.8, 25.0, 25.3, 25.6, 25.7, 26.7, 28.4, 27.9, 22.5, 22.4, 25.3, 24.7, 29.5, 27.8, 26.8, 26.8, 25.0, 23.9, 25.7, 22.8, 24.8, 26.2, 25.4, 23.5, 24.4, 24.8, 26.5, 21.0, 17.9, 18.2, 20.5, 22.4, 19.7, 21.5, 21.5, 22.4, 17.7, 16.1, 18.3, 23.2, 22.8, 21.3, 16.4, 16.0, 15.9, 15.2, 14.7, 17.7, 16.9, 13.0, 15.7, 12.0, 9.2, 14.3, 12.9, 15.4, 19.1, 20.3, 8.9, 6.6, 8.9, 8.6, 11.7, 12.0, 10.1, 8.3, 13.2, 15.3, 13.7, 14.3, 12.1, 14.8, 8.7, 10.5, 10.6, 13.4, 18.1, 18.5, 7.2, 0.8, 9.3, 11.0, 12.4, 12.2, -2.8, -0.3, -0.6, -1.0, 3.3, 6.2, 4.4, 6.2, 4.4, -0.3, -1.4, -4.0, -0.1, -2.8, -6.4, -3.3, -2.2, -0.8, 2.5, 4.5, 2.8, 2.7, 3.3, 2.7, -5.7, -6.0, -3.0, 0.5, 3.3, 5.7, 4.8, 11.0, 0.6, -4.3, 3.4, 8.0, 7.5, 7.7, 6.8, 5.7, 1.9, 4.5, 7.4, 5.4, 6.9, 6.6, -0.3, -5.2, -6.0, -3.0, -0.1, 4.6, 2.8, 1.3, 0.6, -1.2, -0.6, 2.8, 3.3, 3.2, 0.1, -1.6, -11.0, -11.5, -7.4, 0.6, -3.4, 1.2, 3.2, 5.0, 4.0, 1.3, -3.7, -2.0, 0.2, 0.9, 2.8, 6.0, 4.3, 5.4, 5.3, 2.6, -1.0, 1.5, 2.5, 4.4, 7.8, 8.3, 5.4, 4.3, 7.3, 7.1, 3.5, 2.7, 1.0, 0.9, 2.0, 5.4, 5.5, 6.1, 8.0, 3.8, 5.7, 7.8, 14.7, 10.6, 5.5, 8.6, 7.3, 11.6, 12.3, 11.0, 10.8, 8.4, 9.1, 15.0, 11.2, 13.0, 11.0, 11.4, 5.8, 7.0, 7.8, 10.4, 11.5, 11.0, 13.2, 16.9, 17.3, 16.5, 17.0, 14.2, 16.7, 16.0, 15.3, 7.3, 17.3, 23.0, 22.3, 17.9, 22.2, 22.1, 14.5, 19.8, 22.7, 14.1, 17.0, 17.7, 20.7, 18.7, 15.3, 19.1, 19.1, 19.9, 21.7, 16.3, 21.6, 25.4, 20.6, 22.0, 26.0, 27.4, 28.0, 24.1, 22.8, 21.2, 26.2, 21.0, 22.0, 22.0, 22.7, 24.3, 25.3, 26.7, 26.5, 20.2, 25.0, 27.5, 29.1, 31.0, 28.9, 27.2, 30.6, 23.5, 24.3, 20.5, 23.4, 20.2, 22.3, 23.1, 26.3, 27.6, 26.7, 31.2, 23.9, 24.2, 26.1, 26.5, 26.0, 26.5, 31.5, 22.8, 22.5, 24.5, 20.4, 27.2, 29.3, 28.3, 23.7, 24.8, 25.3, 25.1, 31.5, 28.8, 20.0, 25.9, 27.4, 27.5, 22.9, 26.3, 26.2, 24.8, 24.4, 27.0, 29.7, 28.3, 24.3, 27.8, 22.8, 24.3, 23.8, 30.6, 25.6, 28.0, 26.3, 28.9, 28.5, 30.3, 25.8, 28.0, 32.6, 32.4, 33.3, 32.1, 32.0, 31.6, 31.4, 31.2, 32.0, 29.9, 29.0, 30.3, 30.6, 30.6, 31.5, 31.0, 30.6, 29.5, 27.4, 28.1, 27.4, 28.4, 25.2, 29.5, 26.5, 29.0, 28.9, 29.0, 31.5, 31.2, 26.0, 23.9, 27.8, 29.0, 25.4, 24.8, 25.3, 24.7, 23.0, 24.0, 26.4, 25.6, 27.0, 26.3, 26.3, 25.0, 22.4, 23.9, 24.4, 25.5, 25.5, 26.8, 26.8, 24.6, 24.2, 24.4, 25.7, 25.6, 23.2, 17.4, 20.5, 24.0, 23.7, 23.5, 22.2, 22.9, 23.5, 24.1, 22.5, 23.2, 22.7, 22.4, 20.5, 13.4, 15.3, 19.1, 21.9, 20.3, 21.8, 23.8, 21.5, 24.0, 22.6, 20.4, 22.5, 22.0, 23.4, 23.5, 19.0, 20.0, 20.6, 20.8, 21.0, 20.1, 23.0, 19.6, 20.2, 18.4, 10.0, 12.0, 14.3, 15.9, 18.2, 17.7, 15.7, 10.5, 12.7, 13.0, 8.0, 11.0, 9.0, 6.7, 0.8, 1.3, 2.5, 6.9, 11.3, 12.0, 9.8, 11.0, 11.3, 11.1, 10.5, 7.6, 10.7, 8.2, 5.1, -3.8, -0.6, 1.7, 1.6, 3.6, 2.5, 0.2, -4.7, -8.2, -9.7, -5.7, -0.2, 1.3, 3.1, 0.6, 1.1, 2.2, 5.5, 1.5, -2.9, -0.2, 1.6, 3.6, 0.6, 0.8, 5.8, -1.2, 2.5, 1.5, -2.3, -6.5, -5.9, -1.4, 2.2, 1.7, -5.6, -3.8, 2.0, 0.7, 5.5, -1.2, -11.6, -9.2, -0.3, -1.3, 0.3, 0.0, 0.5, 1.7, 2.4, 1.1, -1.0, -6.9, -3.0, -1.6, 3.7, 4.7, 7.5, 8.8, 8.2, 7.1, 4.1, -0.1, -0.2, 1.8, 3.5, 1.2, 3.5, 3.8, 4.3, 5.2, 4.6, 5.4, 6.0, 3.5, 0.9, -2.2, -3.0, -0.2, 3.9, 4.1, 4.5, 5.9, 7.0, 8.2, 7.4, 7.0, 8.8, 12.5, 2.8, 1.1, 2.4, 6.9, 9.4, 7.4, 9.5, 8.9, 4.6, 2.5, 9.5, 10.3, 7.9, 9.4, 10.0, 9.3, 11.4, 7.7, 7.0, 5.2, 7.9, 13.0, 15.3, 7.8, 9.8, 9.5, 9.0, 11.5, 19.1, 8.6, 9.0, 9.9, 11.5, 11.8, 14.5, 17.7, 19.3, 16.3, 11.8, 10.1, 8.6, 14.2, 18.2, 24.1, 19.6, 11.5, 15.7, 11.7, 12.8, 16.8, 11.0, 15.0, 17.5, 21.7, 17.5, 23.0, 14.3, 14.1, 18.7, 18.0, 19.4, 22.8, 23.2, 14.6, 18.6, 15.3, 15.5, 18.0, 19.8, 23.9, 27.7, 24.0, 21.5, 21.0, 19.5, 21.0, 21.1, 22.7, 23.5, 23.8, 23.8, 24.0, 23.5, 24.0, 25.5, 26.8, 28.3, 18.8, 24.3, 25.5, 28.4, 30.0, 25.5, 28.0, 22.4, 19.5, 25.3, 24.4, 25.6, 26.2, 28.5, 27.8, 26.8, 25.8, 28.7, 29.3, 24.0, 25.6, 24.7, 18.6, 26.5, 27.5, 30.6, 30.4, 29.5, 28.8, 21.1, 25.1, 26.8, 25.3, 26.3, 29.0, 28.0, 29.4, 29.0, 29.3, 29.0, 24.6, 23.3, 24.1, 25.9, 26.8, 27.8, 25.7, 28.5, 28.4, 25.3, 26.8, 28.2, 31.0, 30.7, 27.0, 29.0, 29.4, 29.0, 27.3, 25.9, 28.5, 30.8, 30.0, 28.5, 29.9, 30.8, 31.0, 29.0, 30.5, 29.5, 28.8, 27.5, 31.4, 32.0, 33.0, 33.8, 32.9, 34.5, 33.8, 31.7, 32.5, 32.4, 33.5, 32.4, 28.0, 32.2, 30.1, 30.5, 30.1, 22.8, 24.0, 28.4, 28.5, 29.5, 31.1, 31.5, 31.0, 32.8, 32.0, 32.0, 30.8, 28.3, 27.7, 28.7, 27.2, 25.5, 26.4, 25.3, 22.7, 21.7, 24.3, 23.4, 22.3, 19.8, 25.6, 27.9, 26.5, 27.0, 26.0, 25.4, 26.7, 22.7, 20.1, 21.2, 24.7, 25.3, 23.9, 22.9, 19.3, 20.8, 22.6, 20.7, 20.4, 21.5, 20.3, 13.2, 14.6, 15.4, 14.5, 17.4, 14.3, 14.7, 15.5, 17.0, 19.2, 19.7, 20.3, 19.9, 19.0, 20.1, 19.0, 16.2, 18.8, 16.3, 15.9, 15.0, 16.8, 16.8, 9.6, 15.0, 13.1, 14.2, 10.2, 12.7, 12.4, 11.7, 14.4, 11.7, 15.3, 14.0, 10.5, 13.9, 11.1, 13.7, 10.5, 9.6, 11.2, 10.5, 13.5, 15.7, 14.7, 10.3, 8.4, 4.7, 3.5, 2.3, 2.0, 4.9, 6.0, 9.5, 6.1, 8.7, 7.5, -2.2, 5.0, 5.1, 1.2, 0.5, 0.9, -1.5, 0.0, -1.7, -0.6, -0.6, 2.8, 5.8, 5.8, -3.1, -6.5, -2.0, 1.0, 2.7, 0.7, 0.8, -5.1, -4.2, -2.6, -0.6, 3.9, 4.2, -5.4, -2.5, 0.3, 5.1, 4.7, 2.8, 2.5, 2.7, -0.4, -3.3, -3.2, -4.6, -2.2, -4.3, -4.3, -0.5, 1.3, -0.5, 1.2, 0.2, 0.1, 0.6, 3.5, 3.4, 5.4, 4.0, 1.8, -1.5, -0.2, 2.2, 4.0, 5.0, 4.5, 5.7, 5.7, -0.6, 6.6, 8.3, 7.8, 3.6, 5.6, 5.6, 7.2, 11.2, 8.2, 4.8, -4.1, -2.5, 2.3, 5.5, 3.1, 5.3, 6.0, 9.4, 12.8, 14.7, 14.0, 10.3, 4.7, 6.5, 9.8, 10.1, 12.3, 12.0, 10.0, 9.9, 7.3, 8.2, 10.9, 9.4, 0.7, 3.4, 4.3, 8.2, 7.8, 4.3, 6.6, 9.4, 15.6, 10.2, 7.3, 9.1, 12.8, 11.2, 16.3, 12.7, 15.7, 12.5, 10.6, 10.5, 14.3, 15.5, 11.0, 10.6, 13.6, 12.3, 18.0, 21.7, 13.4, 11.5, 10.7, 14.6, 17.2, 12.9, 13.9, 13.5, 17.2, 17.7, 16.6, 20.8, 17.3, 20.0, 23.1, 18.7, 17.5, 17.4, 16.0, 19.5, 18.2, 16.4, 20.3, 21.2, 23.0, 15.9, 18.5, 17.6, 21.1, 19.1, 19.3, 20.4, 14.8, 14.7, 17.7, 21.0, 25.5, 25.2, 29.7, 22.5, 18.2, 15.2, 16.5, 20.3, 23.3, 23.7, 23.8, 23.5, 20.6, 21.8, 23.8, 22.2, 20.5, 27.4, 21.5, 26.0, 27.8, 30.0, 28.8, 26.1, 23.7, 22.8, 23.3, 25.0, 26.5, 26.9, 29.0, 23.8, 22.7, 27.8, 29.8, 29.9, 24.0, 24.8, 26.6, 28.7, 25.3, 29.3, 29.5, 28.2, 28.8, 29.8, 29.2, 31.2, 29.3, 29.6, 28.5, 30.4, 31.4, 28.7, 30.0, 29.6, 27.5, 29.8, 26.8, 27.8, 24.7, 23.3, 25.9, 28.8, 26.0, 28.1, 29.9, 27.2, 28.0, 25.0, 26.4, 28.3, 27.9, 29.4, 29.5, 32.2, 29.0, 30.8, 31.5, 32.0, 32.2, 32.7, 34.0, 31.0, 30.9, 31.0, 32.2, 33.2, 33.0, 31.3, 30.6, 31.5, 30.3, 24.9, 24.9, 21.5, 20.3, 23.4, 27.2, 26.9, 29.0, 29.5, 28.5, 27.5, 28.5, 28.2, 29.2, 29.3, 29.4, 32.2, 32.1, 29.3, 26.4, 22.7, 23.5, 26.7, 25.9, 21.3, 22.4, 20.8, 23.3, 24.7, 25.5, 24.7, 27.0, 23.3, 24.6, 24.3, 23.5, 23.2, 23.6, 23.3, 21.7, 22.3, 23.0, 23.5, 23.5, 24.0, 24.6, 23.8, 24.5, 25.3, 25.7, 25.4, 20.2, 14.8, 15.3, 15.9, 11.2, 16.3, 17.1, 18.6, 15.6, 14.5, 13.4, 16.5, 17.9, 19.2, 18.7, 16.9, 8.6, 11.8, 17.8, 18.5, 17.1, 19.3, 18.2, 15.0, 16.3, 12.7, 11.7, 14.7, 15.5, 16.5, 13.5, 4.4, 2.0, -0.4, 0.6, 6.7, 10.9, 10.2, 11.8, 7.0, -1.7, 2.2, 11.0, 9.7, 2.8, -0.1, 3.5, 7.7, 8.8, 9.3, 4.6, 4.5, 6.2, 6.2, 2.5, 2.5, 4.8, 3.7, 5.4, 5.8, 8.8, 8.4, 6.7, -4.8, -1.6, -2.5, 2.8, 3.9, 3.8, 2.4, 4.0, 3.2, 4.6, 2.3, 2.3, 1.7, 0.8, -1.1, -9.3, -7.2, -2.1, -0.7, 1.0, 1.8, 3.3, 0.2, -4.4, -4.2, 1.0, 6.3, -1.3, -7.3, -4.6, -0.6, 3.1, 3.5, -1.3, -2.6, -6.3, -5.1, -4.2, 1.3, 5.1, 2.7, 0.8, -0.6, 3.6, 4.5, 4.6, -0.4, -3.5, -4.0, -2.3, -0.5, 2.4, -0.7, -3.5, 3.4, 3.0, 2.7, 4.4, 5.2, 4.1, 0.3, -4.9, -8.8, -12.1, -9.5, -1.6, 0.3, 4.6, 3.7, 4.4, 1.8, 3.0, 6.8, 4.6, 8.7, 11.5, 4.4, -1.4, 3.4, 3.2, -1.3, -0.7, 1.6, -0.6, 0.9, 4.3, 1.2, 6.8, 3.6, -2.1, 0.8, 3.3, 4.5, 5.3, 5.8, 6.1, 7.9, 11.8, 15.3, 18.4, 16.0, 15.7, 8.4, 9.7, 6.2, 7.6, 9.8, 4.9, 8.0, 10.9, 13.2, 14.2, 15.1, 16.8, 18.1, 23.0, 23.5, 22.8, 12.0, 14.5, 19.5, 14.3, 14.8, 16.0, 15.4, 14.2, 16.1, 18.4, 16.7, 15.5, 15.2, 16.6, 17.3, 19.0, 25.6, 18.2, 14.3, 15.3, 17.7, 16.8, 17.0, 15.7, 17.6, 20.6, 19.5, 15.3, 19.0, 21.5, 20.4, 20.8, 18.5, 19.5, 14.5, 19.4, 20.1, 17.2, 20.6, 19.5, 16.8, 17.5, 17.9, 14.7, 20.0, 16.9, 20.2, 21.6, 23.3, 30.0, 27.5, 21.9, 23.1, 25.1, 19.9, 27.1, 27.0, 27.4, 27.4, 24.2, 26.4, 27.7, 27.8, 25.0, 29.2, 23.8, 26.8, 27.1, 25.7, 28.0, 30.8, 23.7, 21.0, 22.8, 26.1, 23.0, 27.1, 23.5, 25.6, 26.9, 25.1, 23.6, 23.8, 20.8, 19.7, 23.6, 24.6, 27.1, 26.7, 21.8, 24.0, 25.1, 27.7, 24.5, 25.2, 26.1, 27.9, 29.5, 23.7, 22.2, 28.4, 29.1, 22.4, 22.3, 23.5, 22.8, 28.1, 27.0, 23.2, 25.3, 29.1, 30.3, 30.0, 30.3, 30.0, 26.0, 30.7, 29.0, 31.7, 31.5, 28.9, 29.3, 29.0, 29.8, 31.5, 31.7, 30.1, 28.9, 27.8, 25.7, 27.1, 29.2, 31.4, 29.5, 28.0, 29.9, 27.9, 26.1, 31.4, 30.0, 29.3, 29.2, 28.4, 28.5, 28.8, 28.1, 27.3, 24.9, 26.9, 26.5, 26.6, 26.8, 27.4, 25.1, 27.1, 28.3, 29.0, 28.9, 29.5, 30.0, 28.4, 25.3, 24.6, 26.2, 24.8, 26.5, 26.8, 21.5, 21.3, 24.6, 24.4, 23.6, 24.6, 24.8, 21.2, 23.5, 25.5, 25.1, 27.6, 27.0, 27.6, 30.1, 18.7, 22.9, 22.4, 25.9, 24.8, 21.9, 23.7, 23.3, 22.5, 20.5, 24.3, 25.3, 18.3, 16.0, 18.5, 18.9, 13.4, 12.4, 13.2, 12.6, 16.9, 16.1, 15.0, 13.4, 15.8, 16.3, 13.9, 13.9, 12.0, 12.0, 13.8, 15.5, 17.3, 15.9, 10.3, 10.0, 13.9, 9.1, 14.4, 17.6, 10.5, 3.2, 11.2, 13.6, 13.4, 14.0, 12.6, 11.4, 10.9, 11.7, 13.8, 9.9, 10.4, 5.8, 7.1, 0.4, 3.6, 11.5, 10.9, 5.5, -2.2, -0.6, 3.0, 6.4, 6.1, 6.6, 9.5, 5.9, 6.4, 9.9, 2.2, -3.1, 2.4, 0.4, -3.6, -6.9, -4.2, 1.4, 3.6, 0.1, -1.8, 1.4, 7.1, 6.3, 4.6, 1.6, 4.6, 0.0, -2.1, 7.0, 4.2, -4.4, 1.3, 6.8, 4.5, -1.3, -7.5, -0.8, 5.0, 1.9, 6.0, 9.2, 8.2, 3.3, -0.3, 2.0, 4.0, 3.2, 1.3, 2.5, 4.3, 3.2, 2.0, -2.6, -1.7, -2.6, 1.3, 2.9, 0.3, -0.3, -0.6, -1.0, 0.5, 4.2, 2.4, 0.6, 2.2, 4.9, 0.1, -1.0, 1.7, 2.9, 4.3, 6.5, 9.9, 12.3, 11.5, 7.3, 6.6, 8.9, 11.0, 7.0, 7.1, 5.6, 6.9, 5.3, 3.7, 8.0, 13.3, 14.7, 9.6, 12.8, 8.8, 14.1, 4.8, 1.4, 9.9, 11.1, 10.2, 13.9, 8.0, 4.4, 2.3, 5.6, 9.9, 10.4, 13.9, 12.6, 16.0, 16.4, 17.1, 15.8, 5.8, 4.1, 5.8, 9.8, 14.4, 9.9, 4.9, 11.7, 7.2, 8.4, 6.3, 10.1, 6.3, 10.3, 12.9, 14.5, 15.7, 21.3, 16.0, 10.2, 17.0, 11.6, 14.1, 16.0, 15.4, 19.5, 22.9, 20.9, 20.1, 21.4, 22.2, 21.0, 19.2, 24.8, 21.8, 20.7, 19.8, 17.5, 20.9, 21.3, 20.3, 19.5, 23.6, 21.7, 23.9, 24.1, 28.5, 29.1, 26.0, 17.6, 23.0, 24.2, 25.0, 27.1, 28.2, 22.0, 26.1, 24.9, 24.6, 22.1, 24.7, 26.9, 26.7, 21.3, 21.7, 25.5, 23.8, 25.1, 23.8, 24.8, 20.8, 25.6, 24.2, 26.6, 20.1, 21.1, 23.1, 26.0, 25.2, 28.1, 26.4, 27.8, 21.1, 28.8, 27.5, 27.0, 26.7, 32.7, 32.3, 32.8, 32.7, 35.0, 24.1, 26.8, 28.0, 30.1, 26.0, 26.0, 29.8, 26.7, 29.9, 24.7, 27.2, 28.1, 30.4, 30.6, 25.0, 28.6, 31.3, 29.5, 32.2, 32.4, 31.0, 32.6, 30.9, 30.6, 30.1, 33.5, 31.7, 30.1, 31.6, 33.9, 35.5, 35.6, 35.5, 29.0, 30.5, 27.4, 27.8, 26.3, 30.0, 25.1, 26.6, 25.9, 27.3, 26.5, 28.6, 29.4, 29.4, 32.5, 33.3, 31.1, 31.3, 31.5, 32.0, 33.2, 33.2, 32.9, 32.1, 34.4, 33.5, 32.7, 30.0, 26.9, 27.1, 23.4, 27.8, 30.9, 30.3, 31.8, 30.5, 32.4, 31.0, 31.7, 31.1, 31.8, 27.4, 28.5, 29.4, 27.5, 25.5, 24.5, 25.5, 26.4, 27.6, 25.9, 26.2, 27.6, 24.8, 18.5, 19.7, 21.8, 21.6, 23.6, 23.1, 22.6, 24.3, 22.1, 24.1, 24.5, 23.1, 24.0, 21.8, 20.3, 22.6, 24.1, 20.0, 20.3, 19.0, 20.1, 17.6, 20.5, 21.2, 22.6, 20.8, 22.8, 22.2, 22.4, 20.6, 15.2, 12.9, 14.7, 17.4, 12.5, 19.5, 18.6, 21.1, 17.6, 18.8, 18.5, 17.8, 19.5, 20.5, 21.1, 14.8, 10.2, 13.8, 5.2, 9.0, 12.8, 10.4, 15.8, 15.6, 20.3, 16.2, 11.2, 10.1, 11.3, 12.5, 13.5, 7.9, 1.3, 4.5, 8.2, 7.5, 13.3, 10.3, 0.4, 1.2, 7.3, 11.6, 14.1, 11.5, 3.9, 6.3, 7.0, 5.1, -1.9, 0.2, 2.5, 1.7, 1.5, -0.6, -1.4, 6.9, 6.1, 3.3, 8.4, -0.2, 3.1, 8.2, 7.2, 1.3, -3.4, -1.2, 1.4, -1.6, 0.2, -1.4, 2.2, 6.2, 0.2, -1.5, 2.1, 1.9, 0.3, 3.9, 1.8, 6.4, 0.6, 1.0, 3.3, 4.0, -0.7, -16.3, -13.8, -7.8, 1.2, -0.1, 3.5, 1.5, 2.7, 3.3, 0.6, -3.4, -1.8, 7.1, 11.3, 12.0, 1.0, -6.6, -2.8, 1.4, 4.0, 7.0, 3.8, 0.4, -9.3, -6.0, -6.3, -1.2, -1.4, 1.3, 1.5, 2.4, 4.3, -2.9, -0.3, -2.2, 2.7, 5.3, 6.5, 6.8, 4.7, 11.0, 9.5, 2.2, 5.9, 5.4, 2.5, -11.6, -1.9, 2.4, 11.3, 16.7, 5.3, 6.0, 6.5, 3.2, 2.4, 4.3, -0.3, 1.4, -2.0, -0.3, 3.0, 5.0, 4.3, 9.8, 6.4, 4.6, 11.5, 6.7, 6.4, 9.7, 4.0, 5.0, 5.0, 2.9, 5.1, 6.9, 9.6, 15.7, 13.4, 16.5, 10.0, 10.8, 8.9, 6.2, 13.9, 15.8, 22.3, 11.4, 10.6, 13.0, 13.6, 18.9, 18.9, 18.6, 16.2, 17.9, 19.2, 15.1, 10.2, 11.5, 14.1, 16.3, 19.2, 20.8, 15.8, 15.8, 17.3, 17.9, 17.9, 17.4, 18.5, 24.0, 25.8, 24.8, 23.4, 19.0, 17.5, 19.5, 14.0, 17.9, 20.4, 21.5, 16.9, 21.1, 18.7, 20.4, 23.6, 21.0, 20.5, 21.1, 23.0, 23.5, 24.2, 24.1, 22.8, 28.3, 24.8, 21.2, 22.2, 24.0, 26.3, 20.3, 22.8, 26.7, 25.6, 26.3, 22.5, 27.5, 26.3, 22.3, 25.8, 27.8, 30.5, 27.5, 24.2, 20.7, 24.5, 23.7, 27.8, 28.1, 27.2, 26.2, 26.4, 27.5, 29.0, 29.7, 27.6, 27.6, 31.4, 28.6, 26.4, 24.6, 26.2, 27.5, 28.2, 26.8, 29.6, 30.2, 27.0, 27.2, 28.6, 30.6, 28.3, 29.9, 28.6, 28.5, 30.6, 31.8, 31.3, 31.8, 32.3, 25.3, 28.1, 33.4, 33.9, 33.5, 33.8, 27.7, 31.6, 33.1, 34.1, 34.8, 34.3, 33.5, 30.0, 31.7, 33.2, 30.3, 28.9, 29.6, 22.4, 27.8, 30.3, 29.6, 27.8, 31.7, 31.0, 30.5, 31.8, 26.7, 22.1, 25.3, 25.1, 24.0, 28.9, 26.8, 28.6, 27.6, 23.5, 26.3, 27.1, 26.4, 27.2, 27.2, 26.6, 24.7, 25.3, 20.7, 19.7, 23.6, 21.7, 22.2, 22.1, 24.2, 23.5, 24.4, 25.5, 26.2, 27.9, 27.7, 27.4, 27.7, 26.4, 19.6, 19.4, 19.8, 22.7, 24.3, 25.4, 24.8, 26.8, 25.6, 26.5, 24.1, 24.3, 22.7, 23.1, 18.1, 24.3, 24.6, 21.8, 18.4, 18.8, 20.0, 22.7, 23.3, 24.9, 25.6, 20.3, 17.2, 15.7, 18.2, 19.1, 19.4, 18.0, 19.3, 13.0, 11.4, 16.6, 16.1, 12.2, 13.6, 17.8, 17.8, 14.5, 17.5, 16.3, 17.2, 16.6, 16.0, 16.3, 13.0, 8.3, 10.0, 14.8, 17.3, 12.2, 6.6, 5.1, 3.5, 5.4, 9.5, 10.1, 14.2, 11.8, 13.3, 13.3, 10.5, 2.9, 2.0, 4.3, 8.7, 7.9, 10.5, 4.0, 10.6, 13.5, 2.4, 3.2, 1.9, 2.7, 7.0, 7.2, 10.0, 0.5, 8.2, 6.8, -0.5, -6.0, -1.6, 0.3, 1.9, -0.9, 3.5, 7.5, 9.8, 6.0, 8.1, 8.8, 10.8, 11.8, 11.2, 7.1, 10.8, 9.0, 5.9, 5.0, 2.0, 5.5, 12.2, 9.8, -1.7, -1.0, 3.1, 3.5, 5.4, 3.9, 2.4, 2.9, 6.5, 4.9, 7.0, 7.3, 7.1, -5.8, -3.8, 5.2, 4.8, 3.5, 2.6, 2.8, 6.4, 6.8, 3.9, 5.0, 8.0, 10.4, 7.0, 9.5, 5.2, 1.8, -0.5, 0.7, 2.7, -0.3, -0.5, -1.3, 3.2, 1.0, 2.8, 4.2, 2.2, 6.8, 7.3, 8.2, 6.7, 12.0, 3.7, 3.0, 7.0, 4.8, 3.8, -0.3, -1.7, 4.8, 6.0, 4.5, 2.5, 2.6, 3.6, 0.8, 6.0, 7.4, 6.0, 4.3, 3.9, 2.6, 3.0, 2.9, 5.4, 8.7, 10.1, 12.5, 8.3, 5.9, 5.7, 6.0, 14.2, 9.0, 8.3, 13.8, 12.5, 12.7, 9.0, 11.9, 10.0, 8.8, 7.4, 13.0, 10.9, 12.6, 15.5, 10.2, 15.1, 16.2, 16.2, 18.5, 18.6, 17.6, 13.5, 18.5, 18.8, 21.3, 20.0, 22.2, 15.4, 16.3, 21.7, 21.9, 24.2, 22.7, 21.1, 23.0, 17.8, 19.7, 17.5, 22.1, 24.4, 18.3, 16.0, 18.3, 20.4, 20.9, 27.5, 26.6, 29.7, 19.9, 27.8, 21.2, 20.4, 13.5, 21.3, 17.5, 23.4, 21.6, 26.7, 20.8, 22.5, 26.9, 23.6, 23.9, 17.0, 22.8, 23.3, 27.7, 28.6, 27.1, 32.2, 27.7, 25.1, 25.3, 26.2, 22.5, 21.2, 25.8, 25.2, 27.2, 23.6, 23.3, 24.7, 28.5, 30.7, 31.7, 26.0, 29.9, 27.1, 28.5, 28.3, 27.7, 29.1, 23.7, 23.5, 28.2, 27.7, 24.1, 27.8, 28.0, 25.3, 26.1, 29.2, 30.3, 25.1, 28.0, 29.9, 30.3, 25.0, 28.2, 25.7, 25.3, 28.2, 28.6, 30.8, 26.2, 26.3, 27.3, 28.1, 26.9, 27.0, 31.7, 31.7, 32.6, 31.4, 32.8, 33.2, 30.3, 32.1, 31.7, 32.4, 30.7, 27.3, 31.5, 27.5, 29.3, 30.2, 28.4, 27.5, 30.7, 30.7, 28.5, 31.9, 31.8, 32.5, 32.8, 29.5, 29.3, 30.3, 32.3, 32.8, 30.8, 32.4, 32.1, 33.0, 31.8, 30.0, 24.7, 28.9, 27.7, 28.0, 25.4, 23.4, 25.8, 22.1, 24.3, 25.8, 22.4, 24.6, 21.5, 23.2, 25.7, 25.0, 26.9, 25.4, 25.4, 27.1, 27.8, 27.0, 28.2, 23.4, 19.7, 18.1, 20.9, 23.5, 21.0, 19.9, 22.4, 19.9, 21.8, 21.5, 18.9, 20.1, 21.6, 22.4, 20.9, 18.6, 21.8, 22.9, 22.9, 19.7, 22.6, 21.1, 14.4, 16.8, 18.7, 18.5, 18.9, 18.9, 21.0, 20.3, 20.0, 15.6, 13.3, 14.3, 12.0, 13.6, 18.0, 18.6, 17.2, 17.9, 17.6, 19.7, 19.4, 19.5, 23.3, 16.7, 15.8, 14.2, 9.4, 9.5, 11.5, 9.3, 7.7, 12.9, 11.5, 13.2, 11.4, 8.7, 11.4, 6.9, 12.1, 15.0, 16.5, 17.0, 12.3, 2.8, 0.6, 2.1, 3.9, 6.8, 8.0, 10.9, 11.6, 10.0, 10.9, 11.5, 4.0, 5.1, 7.4, 7.8, 8.0, 7.0, 4.0, 0.4, 3.1, 4.2, 1.4, 2.5, 3.7, 1.1, 1.3, 6.0, 5.4, 0.5, -12.5, -7.4, -2.1, -1.0, 1.2, -0.8, -1.9, -2.3, -9.2, -10.5, -5.7, -5.0, -7.0, -11.2, -5.6, -8.6, -5.3, -0.6, 2.9, 2.7, -2.2, 2.8, 1.3, 0.9, 0.1, 0.4, -10.8, -6.3, -7.4, -4.6, -0.5, 1.5, -4.2, -4.0, -1.6, -5.4, -6.9, -4.6, -4.1, -3.4, -2.2, -0.8, 1.0, -0.7, -1.5, -2.3, 0.5, 1.5, -0.7, -2.0, 1.2, 6.1, 7.0, 7.5, 0.2, -0.5, 0.1, 2.6, 5.3, 8.2, 9.7, 9.8, 10.8, 5.3, -0.1, 1.8, 5.4, 6.3, 4.7, 1.5, 3.3, 6.7, 10.8, 12.8, 5.8, 6.6, 15.3, 18.9, 10.0, 4.0, 6.3, 12.3, 7.5, 13.2, 12.4, 12.9, 11.5, 11.9, 7.9, 7.3, 5.5, 7.5, 8.3, 10.6, 10.6, 12.1, 15.7, 15.9, 17.4, 20.2, 21.4, 15.5, 12.9, 12.9, 10.8, 15.1, 16.5, 19.1, 19.8, 18.3, 19.5, 16.2, 17.4, 18.3, 16.0, 17.4, 19.7, 19.2, 17.8, 22.2, 21.7, 19.3, 15.1, 10.4, 12.3, 18.4, 17.5, 16.3, 18.5, 14.5, 9.9, 12.4, 17.8, 15.9, 15.4, 19.1, 19.3, 15.9, 18.8, 18.6, 20.2, 22.5, 24.9, 24.6, 26.5, 24.4, 21.3, 21.8, 22.4, 23.2, 23.1, 23.0, 23.3, 24.0, 26.4, 21.9, 24.2, 24.5, 21.4, 26.9, 24.5, 27.8, 28.3, 27.8, 28.5, 31.4, 27.3, 27.3, 21.7, 25.3, 28.8, 34.5, 36.7, 33.5, 28.2, 27.3, 28.1, 31.8, 33.5, 31.3, 31.0, 25.1, 25.8, 27.2, 26.9, 28.6, 31.1, 34.1, 28.4, 26.5, 25.4, 26.3, 27.1, 29.3, 29.6, 30.5, 26.8, 25.6, 29.7, 29.8, 28.3, 31.0, 33.5, 33.5, 32.3, 31.3, 31.9, 32.7, 32.3, 33.0, 33.3, 32.1, 33.3, 35.1, 34.2, 33.6, 34.1, 36.6, 35.7, 36.6, 35.3, 29.6, 29.7, 31.0, 32.2, 25.4, 30.7, 26.8, 31.6, 31.3, 29.5, 28.0, 28.8, 30.8, 31.3, 30.0, 30.4, 29.5, 23.9, 27.3, 29.7, 30.2, 28.2, 29.3, 30.7, 30.5, 30.1, 27.2, 30.0, 27.3, 27.6, 28.3, 26.0, 29.6, 27.6, 25.3, 26.2, 23.2, 20.8, 23.9, 22.8, 25.6, 25.0, 27.5, 26.0, 27.1, 23.6, 23.6, 26.0, 25.8, 26.2, 20.3, 24.7, 23.7, 23.7, 24.4, 22.7, 24.6, 23.3, 24.5, 21.6, 22.5, 21.3, 23.0, 22.3, 21.7, 20.6, 21.9, 22.1, 21.7, 20.6, 17.2, 19.5, 18.3, 23.3, 20.9, 21.3, 21.2, 19.9, 21.1, 20.5, 21.9, 22.8, 22.3, 21.1, 15.4, 16.7, 10.3, 11.9, 15.7, 11.9, 15.1, 18.1, 13.7, 3.0, 3.9, 4.3, 5.0, 6.7, 3.4, 3.1, 6.2, 9.8, 12.4, 9.8, 4.5, 3.7, 10.6, 12.0, 7.4, 10.0, 13.8, 12.3, 13.2, 12.4, 6.5, 4.7, 1.4, 6.7, 7.5, 10.1, 10.9, 3.9, -0.3, 1.5, 3.8, 2.5, 2.3, 8.2, 1.5, 0.7, 1.8, 4.0, 2.9, -5.9, -4.9, -3.4, -3.6, -2.6, -1.9, -5.1, -4.9, -3.8, -4.5, -8.0, -12.3, -8.7, -5.1, -6.8, -4.6, -6.4, -2.8, -7.2, -7.7, -5.7, -5.7, -4.3, -9.1, -7.1, -2.1, 0.0, 3.0, 2.4, 1.7, 1.7, 2.8, -4.5, -5.3, -3.1, -5.6, -3.1, 0.3, 2.4, -1.7, -4.3, -2.6, 2.5, 2.0, 1.0, 5.6, -0.8, 0.9, 8.0, 6.0, 6.0, 4.7, 5.3, 7.8, 6.4, 7.1, 3.4, -0.3, 1.1, 5.0, 4.4, 5.5, 4.6, 4.1, -0.6, -0.1, 6.9, 3.4, 5.7, 4.1, 7.5, 10.2, 14.4, 10.1, 2.6, 6.2, 3.2, 4.5, 8.0, 8.9, 5.0, 9.6, 12.2, 13.9, 10.4, 6.2, 5.9, 5.4, 8.5, 11.4, 12.7, 13.8, 14.9, 18.9, 13.2, 9.5, 11.9, 14.9, 18.8, 12.4, 7.5, 8.2, 10.6, 11.2, 10.3, 10.5, 8.1, 13.4, 11.0, 15.8, 16.3, 11.5, 15.8, 9.4, 16.8, 14.9, 10.3, 16.4, 14.4, 16.9, 14.6, 15.3, 18.2, 20.2, 22.3, 19.6, 21.6, 26.3, 18.8, 19.8, 19.2, 17.9, 17.8, 19.8, 21.5, 26.3, 19.5, 19.6, 19.4, 20.0, 18.9, 15.9, 15.1, 20.3, 22.6, 21.0, 17.7, 18.3, 14.8, 14.6, 18.4, 21.8, 21.2, 23.6, 25.4, 18.9, 18.4, 21.0, 23.3, 22.6, 26.8, 19.6, 20.8, 20.3, 25.1, 22.2, 23.2, 22.7, 19.1, 22.3, 21.0, 23.1, 22.3, 23.7, 27.2, 24.7, 25.7, 19.7, 24.3, 27.5, 27.8, 27.3, 26.8, 28.8, 26.4, 25.4, 30.0, 31.5, 30.1, 24.9, 21.3, 27.2, 26.9, 26.3, 29.0, 24.1, 27.0, 24.9, 21.9, 24.7, 25.7, 28.0, 26.8, 28.3, 31.0, 25.4, 22.4, 29.1, 27.3, 21.9, 25.9, 26.2, 23.9, 27.7, 27.5, 31.0, 25.3, 28.2, 27.3, 30.3, 31.6, 33.1, 36.1, 29.8, 28.8, 28.5, 29.4, 30.8, 31.4, 30.5, 31.1, 32.3, 33.3, 32.3, 34.2, 35.2, 31.5, 29.1, 26.3, 27.3, 31.5, 27.3, 28.6, 25.1, 27.1, 27.9, 27.1, 25.7, 28.4, 29.2, 29.6, 31.0, 31.7, 31.0, 32.0, 30.2, 29.3, 31.2, 29.8, 28.0, 29.9, 25.3, 29.1, 22.8, 29.2, 28.3, 29.2, 29.1, 27.5, 26.1, 26.5, 24.4, 26.4, 24.9, 23.7, 22.5, 25.8, 20.3, 21.2, 23.9, 26.0, 26.5, 26.5, 24.2, 24.4, 24.9, 23.2, 22.4, 20.3, 20.2, 18.9, 20.4, 21.4, 20.5, 24.6, 21.0, 23.0, 25.0, 24.2, 22.8, 18.4, 18.8, 20.9, 22.1, 23.4, 23.6, 24.6, 17.3, 16.5, 17.0, 22.8, 19.5, 15.3, 12.0, 13.5, 17.0, 18.9, 19.4, 17.4, 19.0, 20.6, 20.4, 18.0, 14.3, 15.8, 14.0, 13.3, 6.0, 7.2, 6.6, 2.0, 5.3, 9.4, 12.1, 9.4, 5.6, 9.1, 10.8, 8.5, 10.8, 12.3, 11.8, 12.4, 5.0, 1.0, 3.1, 12.6, 7.0, 5.4, 9.2, 10.2, 5.9, 3.4, 7.5, 7.2, 9.7, 9.7, 4.4, 0.4, -2.4, 2.5, 6.0, -2.0, 4.0, 1.7, 3.7, 5.0, 8.3, 7.0, 9.1, 7.6, 4.7, 2.8, -1.1, 1.4, 0.8, 1.5, -0.4, 1.1, -6.0, 1.2, 4.3, 5.4, -8.3, -7.6, -6.4, -8.0, -4.1, 3.8, 7.0, 7.2, 4.9, 5.5, 3.7, -6.5, -4.5, 0.8, -0.5, 3.9, 1.5, -3.1, -10.2, -7.5, -2.3, 0.4, 4.2, 3.1, -0.5, -1.0, -3.1, -0.9, 0.5, -1.3, 0.9, 1.6, -2.0, -7.4, -4.1, -2.0, 0.5, 2.6, 1.4, -0.6, 3.4, 0.0, 4.7, 6.4, 8.7, 11.7, 11.5, 5.6, 4.8, 5.5, 8.6, 9.5, 8.9, 6.1, 6.5, 8.0, 13.3, 11.0, 12.6, 12.6, 13.0, 14.9, 17.9, 10.0, 15.4, 11.5, 10.5, 5.3, 6.0, 6.2, 5.9, 7.3, 6.3, 8.7, 13.7, 16.6, 10.8, 11.9, 10.2, 19.1, 21.0, 15.3, 8.8, 6.5, 6.6, 7.9, 7.5, 6.7, 5.3, 11.9, 13.2, 17.8, 14.0, 17.8, 14.4, 11.1, 15.5, 21.5, 12.4, 15.2, 19.2, 20.9, 15.3, 18.4, 16.4, 17.5, 19.1, 18.2, 19.6, 12.9, 13.4, 15.3, 16.7, 19.7, 18.4, 19.2, 21.3, 22.5, 22.9, 24.2, 13.1, 14.0, 21.6, 24.3, 23.4, 23.9, 26.7, 28.3, 22.6, 19.5, 24.1, 21.7, 20.7, 20.4, 21.9, 23.3, 22.3, 24.9, 19.0, 16.0, 18.2, 21.7, 22.9, 22.6, 27.2, 26.3, 27.1, 26.2, 25.4, 23.6, 27.2, 21.6, 28.1, 25.3, 21.2, 21.7, 29.8, 30.0, 24.9, 25.0, 26.1, 20.6, 24.8, 24.9, 27.9, 22.7, 23.7, 28.0, 27.3, 28.2, 26.0, 25.1, 28.2, 28.5, 30.0, 26.2, 29.5, 29.5, 28.5, 28.6, 30.8, 29.8, 28.5, 28.8, 24.6, 23.3, 28.1, 27.4, 29.1, 29.8, 30.8, 28.1, 31.2, 32.0, 31.3, 32.3, 33.3, 35.3, 34.3, 30.3, 31.3, 32.1, 31.3, 32.0, 32.8, 34.2, 35.0, 33.3, 34.2, 34.6, 35.9, 37.5, 35.3, 32.5, 31.9, 34.6, 34.5, 35.5, 34.2, 33.2, 33.9, 35.3, 36.2, 37.3, 34.8, 30.8, 29.7, 31.3, 34.1, 34.6, 35.7, 33.8, 26.5, 30.0, 32.3, 31.6, 25.1, 24.6, 30.0, 26.8, 25.4, 28.3, 26.9, 28.8, 24.5, 26.7, 27.2, 27.0, 26.4, 24.6, 25.9, 27.8, 27.3, 26.6, 25.4, 23.7, 20.8, 22.0, 23.9, 26.0, 26.6, 23.6, 24.8, 24.9, 23.9, 24.9, 25.6, 24.9, 26.1, 24.2, 25.0, 24.4, 25.4, 26.3, 24.2, 23.1, 19.9, 17.6, 19.5, 22.1, 22.4, 23.4, 22.8, 17.3, 19.3, 15.3, 14.9, 17.3, 19.6, 20.9, 18.8, 13.5, 12.0, 14.1, 14.9, 17.6, 17.0, 20.4, 21.4, 17.4, 20.1, 17.8, 10.0, 14.6, 18.3, 18.3, 19.9, 14.1, 18.5, 18.9, 10.9, 12.7, 15.1, 15.5, 15.9, 16.6, 13.5, 15.7, 13.6, 17.1, 10.5, 0.9, 5.2, 6.5, 10.4, 12.2, 2.8, 4.1, 8.5, 6.0, 5.0, 5.8, 7.0, 7.2, 8.0, 8.5, 8.5, 8.0, 7.3, 6.8, 4.8, -0.3, 2.7, 4.8, 4.0, 4.8, 1.5, -1.0, -3.0, 0.3, -0.5, -3.1, -2.0, -1.3, -1.6, -0.4, 5.5, 4.3, 2.3, 4.2, 0.7, -3.0, -8.2, -2.7, -2.3, -4.2, -4.8, -8.5, -5.0, -3.3, 0.4, -4.6, -4.6, 2.4, 2.9, 5.1, -0.2, -11.1, -10.1, -8.7, -6.6, -2.3, 2.4, 1.0, -2.9, -8.0, -5.6, -2.3, -4.5, 0.0, 4.2, 5.8, 5.3, 4.5, 7.5, 8.5, 3.5, -4.5, 0.2, 3.1, -3.8, -1.6, -3.4, -4.3, -11.6, -5.4, -0.6, 3.0, 1.3, 4.5, 5.0, 1.5, 3.7, 2.7, -0.5, -0.4, 4.5, 2.1, -0.7, 2.0, 4.5, 2.7, 4.0, 7.6, 5.5, 4.5, 0.5, 3.7, 1.8, 4.0, 8.5, 12.0, 14.4, 11.5, 12.0, 7.2, 9.5, 11.2, 7.5, 12.8, 12.4, 15.4, 19.2, 12.4, 22.2, 16.5, 9.5, 7.1, 11.1, 12.1, 15.5, 12.0, 12.9, 11.3, 9.0, 9.0, 7.6, 8.1, 11.5, 12.9, 14.0, 15.9, 19.2, 20.7, 21.6, 20.9, 18.3, 16.5, 14.8, 14.4, 16.5, 17.1, 18.8, 19.0, 19.9, 17.2, 18.3, 17.9, 15.5, 20.6, 18.9, 20.9, 19.1, 22.3, 20.9, 25.2, 27.1, 25.9, 27.3, 27.1, 15.1, 17.4, 14.6, 22.3, 22.6, 23.2, 23.9, 25.4, 25.4, 26.1, 23.3, 23.9, 25.4, 24.2, 24.4, 28.8, 29.3, 26.9, 25.5, 24.9, 25.6, 24.9, 23.1, 25.3, 25.5, 26.4, 27.3, 27.8, 29.5, 26.4, 24.0, 27.3, 25.6, 30.7, 33.4, 32.0, 29.8, 23.6, 26.4, 24.0, 21.9, 26.4, 24.4, 23.6, 27.8, 26.1, 26.9, 26.6, 26.4, 27.4, 28.4, 30.3, 28.8, 31.2, 33.8, 35.6, 32.7, 30.4, 27.3, 30.0, 25.7, 27.8, 24.1, 24.6, 25.4, 25.3, 30.4, 28.8, 29.3, 32.8, 33.4, 34.3, 32.3, 32.0, 24.8, 22.9, 30.3, 33.2, 33.8, 32.9, 32.9, 31.3, 31.6, 30.3, 31.9, 33.5, 32.2, 26.4, 25.5, 31.4, 29.3, 29.8, 31.0, 30.7, 31.3, 33.3, 33.6, 30.4, 25.5, 28.8, 30.0, 32.0, 31.8, 32.5, 28.6, 32.2, 31.0, 33.3, 30.8, 29.9, 30.8, 31.0, 27.5, 28.3, 29.3, 28.9, 29.7, 26.5, 31.8, 31.7, 32.3, 32.7, 33.0, 31.6, 25.2, 29.3, 26.3, 26.2, 26.7, 25.9, 22.2, 23.4, 26.0, 24.9, 24.1, 23.4, 26.8, 23.1, 20.0, 26.4, 24.4, 25.7, 23.9, 24.1, 22.9, 24.7, 25.6, 26.5, 25.9, 25.8, 22.9, 21.9, 22.1, 20.4, 20.6, 20.2, 22.6, 23.8, 24.2, 21.8, 22.3, 22.4, 20.8, 20.6, 19.5, 19.6, 21.7, 22.4, 22.8, 20.1, 18.4, 19.6, 22.4, 22.1, 21.4, 22.1, 20.4, 19.8, 16.9, 21.4, 21.9, 21.2, 19.4, 7.9, 13.7, 18.9, 19.6, 20.2, 12.1, 11.5, 9.5, 9.1, 11.6, 13.3, 13.2, 10.0, 10.7, 12.9, 10.6, 5.7, 7.9, 12.9, 8.7, 13.4, 11.9, 9.7, 9.0, 10.0, 11.0, 12.9, 11.1, 9.0, 4.0, 4.4, 8.5, 5.8, -2.6, -1.9, -0.9, 6.4, 7.1, 1.3, 0.6, 7.5, 9.1, 5.9, 9.0, 6.0, 0.4, 2.7, -3.1, -1.8, -1.3, -2.7, 1.0, -3.4, -6.1, -1.4, 3.9, 7.0, 5.2, 1.5, -2.7, -3.4, -1.1, 0.7, 0.2, -3.0, -1.5, -2.4, -1.1, -4.1, -2.3, -1.5, 1.0, 4.7, 5.2, 6.6, 2.1, 6.0, 0.7, 2.4, 4.8, 8.5, 7.6, 4.5, 3.5, 1.2, 2.5, 2.2, 7.5, 5.3, -0.5, 2.0, 0.0, -0.8, 1.5, 3.7, 4.2, 6.4, 8.6, 7.6, 9.3, 3.3, 5.1, 6.3, 2.4, -1.8, -0.9, 3.3, 2.1, -0.5, 0.8, 6.3, 3.5, 7.0, 9.5, 8.6, 5.7, 9.2, 7.5, 3.9, 3.6, 7.5, 8.5, 7.3, 10.5, 12.7, 12.2, 12.5, 8.2, 2.4, -0.8, 3.5, 5.0, 9.1, 10.2, 11.9, 12.7, 7.1, 7.2, 9.0, 9.2, 10.0, 12.0, 9.6, 9.2, 9.2, 13.2, 17.0, 20.5, 13.4, 14.5, 11.9, 11.0, 11.9, 10.7, 10.3, 13.5, 15.0, 15.5, 19.7, 16.9, 12.0, 15.7, 15.5, 16.2, 20.1, 20.1, 17.7, 21.1, 20.5, 23.5, 21.2, 26.9, 28.3, 18.7, 19.5, 20.6, 23.8, 26.5, 22.7, 24.4, 24.3, 20.6, 23.8, 23.3, 19.2, 24.9, 25.9, 21.2, 20.4, 19.5, 22.3, 24.2, 24.2, 19.0, 19.1, 16.7, 20.8, 22.2, 19.1, 23.1, 24.3, 22.9, 21.1, 22.4, 26.7, 25.9, 26.5, 24.4, 19.7, 21.4, 24.0, 24.9, 26.7, 29.5, 29.9, 28.7, 23.0, 22.6, 23.1, 24.2, 27.1, 26.4, 27.6, 32.7, 24.3, 20.2, 25.5, 27.1, 30.0, 28.8, 26.8, 24.5, 28.0, 26.8, 26.2, 23.8, 26.4, 27.2, 27.2, 26.4, 27.3, 27.1, 24.9, 22.0, 27.1, 26.9, 25.5, 28.1, 29.2, 32.0, 32.1, 31.2, 31.3, 26.9, 30.0, 28.4, 28.6, 26.8, 24.3, 27.3, 31.6, 31.5, 31.7, 30.4, 32.3, 28.6, 27.5, 30.6, 31.1, 29.4, 30.0, 28.1, 26.0, 28.4, 29.3, 30.5, 33.4, 32.0, 32.2, 32.2, 33.0, 34.3, 35.9, 36.0, 35.2, 34.5, 33.1, 34.3, 34.9, 34.9, 34.2, 32.6, 30.2, 29.8, 25.8, 27.7, 24.0, 21.1, 23.5, 26.9, 28.8, 29.0, 29.6, 29.8, 29.5, 28.0, 30.1, 30.5, 30.6, 29.2, 30.6, 30.4, 26.5, 28.0, 30.0, 30.8, 30.5, 24.8, 21.3, 22.4, 22.0, 20.0, 22.4, 18.4, 20.1, 16.7, 14.3, 18.6, 20.1, 20.0, 21.0, 21.0, 22.6, 23.6, 23.4, 21.8, 24.0, 22.6, 22.4, 23.5, 16.2, 15.9, 20.2, 19.5, 20.6, 21.5, 18.7, 18.5, 19.8, 15.1, 16.4, 16.3, 18.6, 17.9, 19.4, 12.5, 14.7, 10.5, 11.2, 13.7, 14.0, 14.3, 11.2, 5.8, 8.1, 11.7, 14.7, 8.0, 3.7, 5.6, 10.5, 10.2, 12.6, 16.7, 17.2, 16.1, 16.4, 14.9, 10.0, 4.6, 4.5, 5.4, 2.6, 3.0, 3.7, 0.3, 3.2, 8.2, 7.2, 7.2, 5.7, 3.8, -2.9, 0.2, 5.7, 6.0, 8.4, 9.4, 10.6, 11.7, 6.0, 9.1, 5.9, 5.7, 7.5, 11.0, 9.3, 11.0, 1.3, 0.0, -0.1, 0.1, -5.0, -4.6, -4.0, -0.8, 2.4, 2.1, 7.2, 4.1, 5.4, 2.8, -0.1, -2.0, -3.8, -4.0, -0.6, -1.1, -1.7, 0.7, 2.3, -4.5, 0.2, 1.0, -1.0, 4.0, 2.2, -0.5, -5.5, -9.3, -10.0, -8.6, -6.1, -2.6, -5.4, -5.8, -5.8, -2.9, -4.9, -4.6, -6.3, -6.3, -4.0, -1.2, 5.1, 3.0, 2.4, 3.6, 5.6, 7.8, 7.9, 4.0, 10.2, 9.1, 3.2, 4.2, 7.0, 8.9, 8.1, 9.7, 10.6, 8.0, 12.4, 12.0, 8.0, 7.3, 6.0, 3.4, 1.0, -1.6, 3.2, 0.7, 5.7, 6.1, 10.6, 8.0, 8.3, 7.9, 8.7, 9.3, 10.1, 11.2, 13.6, 12.3, 14.4, 12.1, 12.7, 10.7, 9.0, 9.5, 7.2, 1.4, 5.2, 2.0, 1.2, 4.0, 7.8, 6.0, 9.9, 11.5, 14.5, 12.6, 13.0, 18.1, 20.2, 15.0, 16.0, 18.3, 9.9, 13.5, 14.8, 16.1, 17.4, 19.4, 21.6, 19.2, 19.8, 18.0, 16.9, 18.9, 22.2, 23.5, 26.6, 25.2, 21.5, 13.4, 19.0, 24.3, 24.4, 25.4, 28.4, 25.3, 24.1, 19.1, 22.4, 21.1, 25.5, 17.6, 21.5, 22.9, 17.7, 17.9, 23.4, 19.7, 16.0, 19.0, 15.0, 23.0, 26.3, 20.5, 19.6, 23.0, 20.3, 17.9, 24.4, 24.6, 28.0, 28.4, 28.0, 32.0, 29.4, 20.5, 22.1, 28.4, 26.8, 26.6, 26.3, 28.8, 25.8, 25.8, 23.3, 22.4, 22.3, 25.9, 31.0, 29.5, 32.6, 31.0, 24.3, 27.9, 29.4, 32.7, 34.5, 31.6, 32.0, 32.5, 30.6, 27.9, 28.3, 25.7, 26.4, 29.8, 31.4, 24.5, 25.2, 24.5, 26.6, 26.4, 22.0, 19.9, 26.1, 26.5, 27.3, 30.7, 29.9, 30.6, 27.7, 26.9, 24.9, 28.6, 30.5, 28.9, 32.5, 34.5, 33.2, 34.0, 33.9, 27.6, 24.9, 29.4, 26.0, 27.6, 28.6, 30.3, 26.4, 26.4, 29.0, 31.2, 31.6, 32.3, 30.7, 26.9, 30.2, 31.7, 32.1, 32.0, 27.0, 33.2, 34.1, 36.3, 34.0, 31.4, 31.0, 29.6, 29.9, 24.5, 26.4, 27.8, 27.5, 26.4, 28.3, 31.0, 32.0, 33.6, 34.5, 31.5, 32.0, 30.5, 27.3, 28.0, 29.2, 30.3, 30.5, 32.5, 31.2, 28.4, 23.4, 27.3, 28.0, 26.9, 27.0, 28.8, 23.6, 22.1, 22.8, 23.3, 22.4, 23.9, 20.2, 20.1, 24.7, 25.6, 24.9, 17.8, 19.0, 16.8, 20.6, 22.0, 22.6, 23.1, 24.4, 25.2, 21.5, 19.5, 12.5, 14.0, 20.5, 18.8, 22.8, 22.0, 23.4, 23.6, 19.5, 20.9, 19.9, 22.1, 23.0, 22.4, 16.0, 17.7, 17.0, 14.5, 14.9, 20.5, 21.5, 19.4, 10.5, 12.0, 17.0, 18.5, 19.1, 19.0, 18.4, 11.1, 3.0, 4.5, 10.6, 14.6, 14.1, 11.5, 11.5, 11.0, 9.5, 5.9, 2.5, -0.6, 7.5, 8.3, 5.0, 4.9, 1.1, -4.3, 2.4, 10.2, 5.9, 1.2, 1.1, 0.9, 2.4, 0.1, -2.2, -0.2, 4.1, 7.0, 8.5, 3.1, 0.6, -0.3, 0.0, -1.6, -3.8, -4.6, -1.4, -2.1, -4.3, -2.0, 0.4, 2.0, 0.5, -1.2, 0.7, 2.0, 1.9, 3.4, 1.9, 6.5, 0.5, -10.9, -12.0, -7.1, -3.0, 2.1, 2.3, -1.7, 1.4, -3.5, -7.3, -0.5, 1.2, -3.4, -2.6, -0.7, -8.1, -7.0, -1.2, -1.7, 4.3, 3.9, 2.6, 1.1, 4.0, 0.1, -1.3, 0.2, -2.4, -1.6, 0.0, 0.9, 1.4, 3.5, -0.2, -2.8, -4.1, -2.1, 0.3, 1.4, 3.0, 0.3, -0.7, 3.6, 7.1, 9.4, 5.7, 4.0, 6.7, 9.5, 6.8, 2.9, 1.4, -0.2, -0.3, -2.5, -6.0, -5.3, -5.4, -0.3, 3.9, 5.7, 1.0, 5.2, 7.2, 6.5, 5.8, 5.2, 4.4, 7.1, 9.7, 5.4, 1.3, 8.5, 14.0, 13.9, 12.8, 10.0, 10.0, 9.5, 9.9, 10.9, 15.7, 11.2, 19.5, 19.3, 16.6, 12.9, 14.5, 14.9, 15.7, 8.7, 13.2, 13.2, 10.5, 12.4, 12.3, 13.8, 13.1, 14.2, 17.6, 19.2, 12.9, 13.1, 14.2, 18.2, 17.6, 13.6, 12.0, 9.4, 13.1, 11.7, 17.5, 17.0, 16.9, 20.5, 21.8, 23.0, 16.7, 17.9, 19.0, 22.0, 21.2, 22.5, 23.0, 23.2, 21.6, 22.5, 20.8, 18.4, 16.6, 20.1, 24.1, 20.5, 22.9, 27.5, 25.5, 25.4, 23.0, 23.0, 19.8, 26.1, 22.7, 24.7, 27.7, 23.3, 23.0, 23.2, 22.0, 24.8, 22.9, 24.9, 24.3, 24.5, 24.0, 25.1, 28.0, 25.3, 26.3, 28.0, 28.5, 23.7, 27.5, 23.0, 27.8, 30.6, 28.2, 27.2, 30.1, 27.3, 29.2, 31.4, 25.5, 28.7, 26.6, 27.0, 31.8, 32.1, 33.0, 32.4, 22.5, 26.3, 27.7, 27.6, 31.9, 29.4, 30.5, 30.3, 28.4, 26.0, 27.4, 29.7, 28.5, 30.0, 30.8, 29.6, 31.4, 32.3, 31.0, 26.3, 23.3, 24.1, 27.9, 26.2, 29.5, 29.0, 26.0, 29.5, 30.7, 26.9, 26.4, 29.9, 27.7, 26.4, 28.5, 28.7, 29.5, 33.0, 35.9, 34.9, 33.5, 34.6, 32.9, 34.0, 32.4, 28.7, 27.2, 29.8, 31.2, 31.7, 30.6, 28.1, 32.5, 33.5, 34.6, 34.4, 28.9, 26.5, 30.4, 29.0, 30.9, 24.6, 30.5, 31.2, 30.4, 27.9, 29.4, 28.0, 27.9, 29.2, 25.4, 28.0, 24.6, 20.4, 20.9, 23.8, 28.4, 29.0, 25.0, 24.7, 27.5, 28.1, 21.5, 23.0, 22.7, 21.0, 21.1, 25.1, 24.8, 23.9, 21.3, 20.7, 22.6, 22.5, 20.5, 16.9, 18.6, 19.0, 16.3, 19.5, 21.9, 18.8, 20.0, 19.5, 18.4, 19.1, 18.1, 17.1, 16.3, 20.2, 20.6, 21.5, 22.1, 17.0, 16.9, 20.2, 17.5, 9.6, 13.1, 16.6, 19.8, 21.2, 17.5, 20.0, 19.2, 14.6, 13.9, 12.1, 15.6, 15.5, 16.7, 13.8, 8.2, 9.9, 11.1, 12.7, 9.4, 8.7, 8.2, 7.4, 4.5, 13.1, 11.7, 11.6, 6.5, 10.9, 13.7, 12.8, 14.1, -0.1, 6.6, 12.8, 10.9, -0.7, -3.9, -3.1, -0.6, -0.6, 4.3, 7.0, 8.9, 5.7, 8.0, 5.9, 6.9, 1.7, 7.5, 5.4, -1.9, -2.0, 0.9, 4.0, 5.7, 3.6, 3.0, 6.8, 1.3, -2.5, 0.0, 8.0, 2.7, 3.4, -1.6, -9.0, -5.0, -0.6, 5.5, 0.6, 6.0, 5.0, 3.8, 9.2, 4.9, -2.0, 1.3, 2.5, 7.6, 9.0, 7.9, 7.0, 7.0, 7.0, 4.1, 4.4, 1.5, 0.8, 0.2, -0.2, -3.4, 0.1, 2.0, -4.9, -6.9, -1.1, -0.3, 2.0, 5.5, 1.3, 0.6, 1.3, 6.1, 7.1, 9.4, 12.1, 6.6, 7.2, 5.4, 6.6, 0.4, -3.7, 3.5, -1.1, -2.1, 2.5, 6.9, 5.0, -0.4, 1.1, -1.5, -4.2, -2.5, -0.1, 5.5, 3.5, 1.0, 4.5, 1.3, 1.9, 5.1, 4.3, 1.1, 1.6, 2.9, 3.9, 7.2, 7.1, 6.2, 6.0, 2.3, 2.0, 5.5, 5.2, 6.9, 6.7, 7.0, 8.3, 11.6, 5.7, 7.7, 5.7, 5.9, 9.6, 7.5, 8.2, 11.4, 14.2, 20.2, 20.2, 15.6, 8.5, 5.4, 12.7, 16.5, 16.6, 16.5, 16.5, 18.4, 22.9, 22.6, 22.1, 17.6, 19.5, 18.5, 15.0, 16.8, 18.3, 14.6, 21.4, 24.5, 21.6, 19.6, 16.2, 13.6, 17.6, 21.0, 19.4, 23.9, 23.0, 19.2, 24.6, 25.5, 25.4, 26.5, 17.5, 21.0, 23.8, 20.7, 20.7, 24.1, 26.2, 18.3, 18.0, 22.3, 25.3, 23.4, 23.5, 25.0, 23.2, 25.9, 17.5, 17.5, 16.5, 22.2, 20.8, 21.2, 23.0, 25.7, 26.4, 29.2, 29.9, 26.6, 28.0, 28.5, 28.9, 27.1, 25.1, 20.0, 24.0, 23.0, 21.5, 24.6, 24.4, 24.2, 30.3, 22.6, 28.4, 29.5, 32.0, 33.3, 26.2, 29.4, 27.6, 32.4, 32.0, 33.4, 31.6, 31.4, 32.2, 28.1, 30.0, 25.9, 28.6, 25.0, 31.2, 31.0, 31.4, 29.3, 30.6, 34.6, 32.4, 29.2, 33.6, 34.8, 35.4, 33.4, 31.9, 27.4, 26.8, 25.5, 26.4, 25.6, 25.3, 27.4, 26.1, 28.5, 32.0, 32.6, 32.8, 32.7, 32.6, 33.6, 35.5, 33.7, 33.9, 34.0, 31.5, 35.9, 37.4, 37.0, 37.0, 35.2, 35.3, 35.6, 32.0, 31.9, 32.5, 34.8, 33.4, 33.8, 32.5, 30.6, 32.5, 34.9, 32.3, 32.1, 29.7, 29.4, 23.0, 26.6, 26.8, 26.8, 29.8, 32.4, 30.7, 29.4, 31.4, 27.4, 22.6, 28.0, 28.5, 28.1, 28.3, 29.2, 29.9, 26.6, 26.4, 26.3, 25.6, 24.6, 22.5, 24.0, 23.2, 25.0, 22.5, 22.5, 23.8, 24.3, 24.0, 24.0, 25.1, 26.2, 24.6, 22.2, 21.8, 23.7, 25.3, 24.5, 21.4, 18.6, 23.6, 22.0, 22.7, 23.4, 23.8, 18.8, 16.1, 17.5, 17.6, 19.5, 13.0, 17.6, 15.3, 12.1, 11.5, 12.9, 17.0, 19.3, 14.5, 12.6, 17.1, 19.7, 15.8, 14.5, 10.9, 10.5, 11.0, 15.5, 14.5, 4.2, -0.8, 6.9, 8.4, 8.0, 6.1, 6.4, 7.0, 8.9, 12.1, 16.1, 15.3, 11.4, 4.9, 0.1, 1.6, -1.1, 2.8, 3.1, 3.4, 6.9, 16.5, 14.9, 2.5, 6.7, 10.7, 6.7, 3.6, 2.3, 2.9, 4.1, 4.0, -3.4, -5.5, -3.3, -2.2, 0.1, -0.1, -0.2, 0.4, 6.9, 4.2, 1.1, 2.9, 3.1, 2.5, 3.2, 2.1, 6.0, 7.6, 3.2, 6.9, 5.0, -0.1, -1.4, -0.8, -1.1, -4.1, -1.7, -2.5, -2.5, -2.0, -0.3, 0.4, 0.6, -1.9, 2.3, 6.0, 4.0, 3.8, 4.0, 3.4, 2.8, 2.0, 2.0, 3.8, 2.9, 3.8, 3.6, -0.4, 3.0, -0.1, -3.5, -2.6, -3.0, -1.9, 1.7, 2.9, 4.7, 7.7, 6.1, 3.2, 6.5, 4.0, -2.6, 0.9, 3.0, 4.4, 6.0, 6.4, 6.4, 6.2, -0.5, -0.3, 1.4, -1.0, -1.1, -4.0, -5.0, -1.3, 1.3, -0.2, 0.3, 2.9, 0.9, 7.8, 7.0, 0.4, -1.6, -1.2, 3.6, 7.4, 8.5, 8.2, 5.1, 3.0, 6.0, 6.1, 6.4, 5.6, 7.9, 8.3, 10.0, 11.8, 9.2, 11.7, 7.0, 5.6, 5.8, 8.6, 12.1, 7.5, 9.1, 10.9, 19.3, 16.9, 9.0, 12.4, 10.0, 9.9, 7.9, 11.2, 11.7, 15.0, 15.1, 18.7, 14.1, 16.5, 18.1, 18.9, 20.9, 20.1, 21.6, 23.0, 15.7, 17.7, 19.9, 19.8, 17.4, 14.6, 19.1, 21.1, 22.2, 20.4, 21.9, 15.4, 24.8, 27.2, 29.6, 28.2, 20.6, 18.5, 18.2, 19.9, 17.2, 26.4, 27.4, 16.6, 21.0, 20.9, 21.1, 19.9, 19.7, 17.4, 19.1, 16.5, 25.0, 26.8, 25.4, 26.5, 19.2, 23.8, 19.2, 20.7, 24.3, 26.5, 25.0, 25.3, 23.7, 27.3, 26.1, 24.9, 26.3, 27.2, 25.6, 25.5, 26.7, 27.0, 21.7, 23.4, 25.0, 27.2, 22.9, 22.2, 26.4, 30.3, 29.5, 23.5, 25.4, 28.7, 29.3, 27.8, 28.4, 29.7, 29.9, 29.8, 25.2, 29.4, 26.0, 27.9, 26.1, 22.5, 28.5, 23.4, 19.6, 21.0, 25.7, 24.9, 25.8, 25.9, 27.4, 22.5, 26.4, 25.0, 29.8, 28.7, 31.6, 33.0, 31.5, 33.6, 32.7, 33.7, 32.3, 30.1, 29.6, 29.5, 30.2, 31.4, 30.4, 29.8, 28.3, 27.8, 26.5, 25.9, 29.8, 30.5, 30.1, 31.7, 29.2, 31.4, 30.4, 30.7, 32.2, 29.8, 25.6, 31.7, 32.6, 33.1, 32.8, 32.2, 32.7, 32.6, 33.6, 31.0, 26.0, 26.1, 26.5, 28.0, 30.0, 26.7, 28.5, 28.4, 26.5, 22.6, 26.4, 28.8, 27.9, 28.2, 23.2, 21.9, 22.4, 22.5, 25.4, 23.8, 24.7, 20.2, 21.6, 22.8, 20.8, 23.7, 24.7, 25.4, 24.1, 24.8, 26.7, 26.9, 26.7, 23.8, 19.9, 21.7, 18.2, 22.6, 22.6, 22.2, 21.6, 15.4, 16.2, 19.5, 22.1, 22.9, 22.9, 22.5, 22.5, 22.3, 21.3, 15.3, 17.8, 14.6, 13.3, 15.1, 17.5, 21.2, 20.5, 19.0, 18.9, 18.8, 19.5, 18.4, 18.6, 18.2, 16.8, 13.6, 13.4, 10.6, 12.8, 14.5, 14.9, 10.5, 15.4, 11.6, 11.9, 14.3, 13.0, 11.9, 11.4, 15.0, 14.4, 11.8, 14.5, 8.7, 10.7, 11.4, 13.4, 13.1, 11.5, 8.3, 2.1, 4.1, 5.2, 0.0, -0.9, 0.4, 0.6, 4.4, 5.8, 7.5, 14.1, 10.5, 5.5, 3.0, 9.0, 12.2, 10.5, 0.3, -4.7, -5.2, 3.0, 0.9, 0.2, -2.1, -2.7, -0.1, 2.1, 3.6, 5.6, 4.8, -8.3, -9.2, -4.1, 0.2, -1.4, -9.5, -2.8, -2.6, -2.8, -1.8, -0.1, -2.4, -1.1, 3.8, 0.8, 1.6, 1.1, -2.1, -0.4, 3.1, 6.2, 1.7, -5.4, -5.7, -4.9, -5.7, -5.2, -0.9, 4.1, 6.2, 0.6, 2.8, -0.2, -1.2, -1.0, 1.3, -0.2, 3.9, -0.4, 1.6, 2.5, 3.0, 7.1, 5.4, -3.8, -0.3, 2.5, 5.5, 1.6, -1.7, -0.8, 3.4, 1.1, 3.1, 7.7, 3.7, -2.7, -0.6, 2.0, 4.0, 7.0, 7.2, 11.5, 7.5, 8.3, 7.5, 11.2, 9.8, 9.5, 9.8, 7.9, 7.2, 7.0, 12.4, 6.4, 8.2, 4.4, 4.0, 8.0, 8.7, 8.7, 7.2, 4.3, 7.5, 8.8, 12.2, 3.3, 5.0, 7.4, 15.8, 14.6, 15.0, 19.4, 18.8, 11.7, 9.4, 11.6, 15.2, 13.7, 16.6, 19.9, 14.5, 12.2, 13.0, 13.7, 14.1, 16.6, 15.2, 19.2, 14.5, 14.8, 19.5, 13.4, 14.8, 18.0, 20.3, 15.5, 13.7, 15.2, 13.9, 16.4, 18.0, 19.3, 21.0, 23.7, 20.3, 23.6, 24.4, 22.0, 20.6, 23.2, 25.8, 19.2, 18.9, 20.4, 22.2, 21.7, 18.7, 18.1, 18.5, 24.0, 23.1, 19.5, 19.5, 25.2, 24.0, 22.8, 25.8, 23.6, 22.5, 21.9, 25.7, 22.7, 20.9, 23.7, 26.7, 26.7, 26.2, 28.7, 27.4, 26.2, 28.4, 28.4, 26.8, 28.0, 24.2, 24.4, 23.4, 21.0, 25.0, 27.0, 27.3, 30.0, 30.6, 31.6, 31.2, 30.7, 28.7, 28.9, 25.7, 27.7, 26.7, 27.1, 27.4, 28.2, 32.0, 24.1, 20.9, 25.2, 27.3, 32.2, 31.2, 31.3, 31.3, 32.2, 28.7, 29.0, 30.8, 33.0, 26.7, 25.4, 24.6, 28.4, 27.9, 24.9, 26.7, 29.7, 29.5, 31.7, 27.7, 27.5, 26.9, 27.5, 30.0, 27.1, 25.2, 29.3, 28.3, 26.3, 25.2, 28.6, 29.5, 29.2, 27.7, 31.1, 32.7, 30.4, 30.1, 31.0, 33.0, 28.6, 29.3, 29.6, 31.4, 32.0, 30.3, 25.9, 31.4, 25.8, 29.9, 31.6, 30.4, 29.0, 29.0, 29.6, 28.5, 28.3, 23.0, 26.2, 27.4, 28.7, 29.4, 30.0, 25.4, 27.2, 29.1, 21.4, 24.7, 27.0, 27.2, 27.4, 27.2, 26.1, 22.1, 23.4, 23.5, 22.1, 24.3, 26.5, 23.0, 23.8, 24.6, 23.5, 24.8, 23.5, 19.0, 19.7, 22.8, 23.6, 21.6, 17.5, 16.1, 17.5, 20.7, 19.5, 19.5, 20.6, 19.7, 21.0, 17.5, 15.6, 19.0, 12.9, 9.7, 11.8, 18.7, 19.8, 19.2, 14.8, 15.3, 19.0, 15.9, 17.1, 13.3, 9.0, 8.9, 12.3, 14.8, 14.0, 14.3, 15.8, 17.5, 17.5, 16.9, 16.7, 17.3, 17.5, 16.1, 16.6, 11.0, 7.2, 4.5, 8.5, 8.6, 8.3, 8.6, 9.8, 11.4, 11.6, 10.0, 9.8, 11.4, 5.5, 8.0, 7.5, 14.1, 9.4, 12.5, 6.4, -1.1, 0.8, 1.9, 5.7, 3.2, -9.0, -3.7, 0.2, -1.0, -0.6, 5.1, 4.0, 4.7, 2.1, 0.8, -5.4, -3.9, 4.0, 1.1, -6.1, -6.0, -7.0, -6.5, -3.0, 0.2, 1.4, 2.0, 3.4, 2.6, 1.6, 2.1, 5.4, 7.0, 7.4, 11.7, 7.3, 3.1, 0.6, 1.2, 2.2, 0.4, 3.0, 3.0, 3.5, 1.7, -0.5, -1.5, -7.7, -1.6, -10.4, -10.1, -6.4, -2.4, -4.9, -4.1, -3.7, -5.5, -4.7, 2.0, 2.8, 3.5, 1.2, 0.4, 1.9, 1.0, -2.1, -3.8, -6.0, -3.8, -3.6, -0.5, 2.4, 1.7, 2.6, 7.0, 3.9, 5.5, 6.7, 9.7, 6.2, 4.6, 1.4, 1.4, 1.3, 3.7, -0.2, -3.9, 1.4, 5.2, 7.6, 9.6, 9.8, 5.6, 7.7, 10.6, 8.5, 2.9, 3.1, 1.4, 5.5, 10.5, 4.9, 3.5, 5.1, 7.9, 10.8, 9.3, 10.0, 5.5, 9.4, 12.0, 14.2, 9.4, 13.8, 12.0, 13.4, 7.4, 10.6, 19.3, 21.0, 11.8, 14.1, 12.5, 12.5, 13.5, 16.8, 18.6, 16.8, 18.5, 19.6, 20.6, 17.8, 10.1, 16.7, 13.7, 19.6, 21.1, 21.8, 15.6, 13.0, 15.4, 18.8, 21.1, 19.9, 21.1, 24.8, 21.4, 24.5, 20.9, 16.0, 12.6, 14.5, 19.2, 14.9, 15.9, 15.9, 18.3, 17.9, 21.4, 20.9, 17.0, 16.7, 15.7, 19.6, 20.8, 18.6, 21.3, 17.4, 21.1, 18.4, 22.0, 20.1, 18.5, 22.5, 19.2, 26.3, 26.9, 26.2, 23.6, 19.3, 25.1, 26.1, 23.7, 27.9, 26.7, 24.0, 23.5, 23.0, 24.5, 28.2, 29.4, 28.4, 29.0, 31.2, 28.9, 25.2, 28.1, 25.7, 28.7, 29.6, 32.9, 33.5, 25.0, 27.8, 27.8, 27.4, 28.8, 30.6, 30.9, 30.1, 23.7, 29.4, 31.4, 31.8, 33.6, 34.9, 32.3, 26.3, 25.2, 29.8, 28.4, 25.5, 25.3, 24.8, 28.9, 31.3, 29.6, 30.1, 29.9, 29.8, 27.6, 29.2, 31.7, 32.7, 32.2, 32.4, 34.9, 35.0, 31.9, 29.4, 31.7, 28.3, 31.4, 32.5, 28.7, 32.7, 32.8, 33.3, 33.2, 27.8, 29.4, 30.9, 31.4, 31.6, 31.2, 32.3, 28.1, 28.0, 28.8, 30.0, 30.5, 26.5, 29.0, 25.9, 29.2, 29.8, 30.0, 29.0, 31.6, 26.6, 29.7, 25.6, 28.4, 27.0, 26.7, 27.2, 28.7, 28.4, 28.5, 26.9, 27.7, 27.9, 29.5, 22.7, 25.5, 25.4, 23.1, 23.1, 24.1, 22.6, 22.5, 24.8, 24.9, 24.3, 24.2, 25.1, 25.7, 25.8, 26.9, 25.9, 26.5, 27.0, 22.2, 17.7, 21.9, 20.5, 25.4, 26.4, 26.2, 26.6, 20.3, 16.4, 15.4, 12.5, 12.1, 12.9, 13.5, 16.0, 17.8, 18.9, 19.4, 20.2, 19.3, 18.2, 18.5, 17.3, 18.0, 19.5, 20.9, 22.5, 9.5, 16.7, 18.0, 15.6, 17.3, 19.9, 18.7, 18.0, 17.4, 16.6, 16.5, 15.6, 16.8, 12.4, 12.4, 16.9, 16.9, 15.5, 13.0, 5.0, 9.6, 13.7, 13.8, 9.8, 9.5, 10.0, 12.7, 13.6, 14.9, 13.0, 8.5, 9.6, 7.4, 7.4, 5.7, -1.6, 3.7, 5.2, 6.2, 6.8, 4.4, 6.2, 5.7, 9.8, 8.7, 10.2, 9.8, 7.0, 1.8, 0.0, -0.1, -6.1, 4.6, 2.5, 4.9, 4.2, -7.2, -1.3, -1.3, -4.0, -4.0, -9.4, -9.9, -6.4, -4.8, -5.4, -9.4, -10.1, -10.6, -9.3, -7.0, -0.4, 5.0, 3.0, 0.2, -9.4, -7.8, -2.4, 0.9, 2.0, 6.8, 3.6, 0.4, 0.5, 2.2, 7.9, 4.2, 6.9, 2.1, 7.1, 4.6, 1.3, -6.2, -3.5, -3.5, -3.8, -0.7, 3.0, 0.4, -1.0, 4.1, -2.6, -5.0, 0.1, 1.3, 5.4, 3.3, 3.2, 4.7, 2.7, -1.6, -2.6, -0.3, 0.8, 1.1, 3.5, 5.6, 3.2, 2.7, 2.1, 7.2, 5.1, 7.4, 9.3, 13.0, 9.6, 2.7, 3.4, 6.1, 6.6, 9.2, 8.3, 7.9, 5.3, 1.1, 2.3, 4.5, 6.5, 9.8, 9.6, 10.8, 12.7, 14.2, 14.1, 8.3, 7.4, 11.9, 8.6, 10.0, 8.7, 9.7, 12.9, 12.5, 17.9, 16.2, 18.4, 11.0, 16.4, 17.6, 18.2, 17.1, 15.7, 15.7, 17.1, 19.9, 17.8, 22.8, 21.9, 18.6, 24.3, 22.9, 21.7, 16.6, 13.8, 18.6, 19.5, 17.0, 16.7, 17.5, 20.5, 18.2, 22.4, 21.1, 22.0, 19.1, 24.4, 21.7, 22.9, 24.2, 24.9, 23.3, 24.8, 25.1, 22.6, 20.7, 21.1, 23.5, 21.8, 20.1, 21.3, 17.8, 20.0, 21.4, 22.6, 22.4, 19.8, 26.8, 19.2, 25.6, 18.9, 24.8, 27.0, 29.0, 26.0, 27.9, 28.2, 27.7, 20.2, 24.4, 27.0, 24.7, 27.4, 28.7, 28.4, 32.0, 31.8, 32.2, 24.5, 27.2, 28.9, 30.2, 28.0, 29.2, 22.0, 19.4, 27.9, 29.9, 25.7, 27.2, 31.0, 30.0, 31.7, 30.3, 29.2, 30.8, 26.0, 26.1, 30.8, 29.6, 31.6, 31.0, 29.5, 24.4, 25.2, 29.8, 30.3, 31.6, 29.7, 30.3, 30.5, 28.0, 25.6, 31.5, 33.7, 32.8, 30.7, 24.4, 28.7, 30.7, 33.7, 29.3, 26.4, 29.3, 29.7, 32.0, 32.7, 33.2, 31.9, 30.8, 31.7, 32.6, 29.8, 30.7, 33.2, 34.9, 33.6, 31.9, 32.0, 31.6, 34.0, 35.2, 33.5, 34.2, 30.5, 32.7, 33.4, 32.0, 31.8, 32.4, 32.2, 32.3, 33.4, 33.6, 30.7, 23.7, 22.1, 30.9, 29.0, 29.4, 31.7, 25.5, 22.4, 28.8, 30.0, 29.4, 27.0, 26.3, 27.0, 28.6, 29.0, 27.0, 29.7, 22.8, 24.4, 22.6, 23.9, 27.2, 29.2, 29.2, 22.7, 26.5, 24.4, 15.6, 21.2, 24.3, 17.0, 21.0, 20.9, 22.8, 21.5, 25.1, 25.5, 21.9, 21.3, 18.5, 14.7, 16.4, 17.8, 18.8, 19.4, 20.5, 20.1, 19.5, 18.0, 14.5, 16.7, 17.0, 17.5, 19.5, 20.6, 21.5, 22.4, 22.5, 25.7, 23.4, 21.3, 17.1, 10.5, 11.4, 15.0, 14.0, 10.6, 15.5, 17.8, 18.0, 15.1, 14.5, 8.3, 5.2, 8.7, 7.9, 7.8, 10.9, 10.9, 2.1, 4.4, 8.4, 7.3, 12.3, 8.3, 7.5, 12.2, 13.8, 13.5, 14.4, 6.0, 7.9, 11.4, 14.5, 13.3, 8.2, 6.1, -1.8, 2.1, 4.5, 6.5, 7.9, 5.2, 2.4, 1.7, 4.7, 4.1, 3.7, 3.0, -1.4, -0.4, -0.5, -6.8, -3.3, 0.1, 5.4, 3.6, 3.5, 1.3, 3.0, 0.0, 3.1, -0.1, 2.2, 0.3, -6.3, -6.5, -3.8, -0.8, 1.7, 1.2, -5.6, -1.0, 0.7, 1.6, 7.4, 6.8, 6.4, 5.4, -1.2, -4.1, 1.2, 2.9, 0.2, -2.4, -0.1, -2.9, -3.7, -4.9, -1.5, 2.1, 1.1, 0.2, -1.5, 0.5, 0.0, -7.6, -5.0, -0.2, 1.2, -1.0, 1.1, -0.4, -2.0, -5.0, -4.1, -2.5, -3.8, -4.3, -1.3, 4.7, 7.4, 8.4, 4.4, 5.0, 8.4, 11.7, 9.8, 6.0, 3.7, 5.0, 10.4, 11.9, 16.0, 7.6, 1.0, 1.7, 4.5, 7.6, 9.4, 8.1, 8.7, 10.5, 8.4, 2.8, 7.4, 5.0, 4.7, 10.4, 14.0, 14.6, 10.1, 7.4, 7.4, 10.4, 14.0, 20.6, 18.8, 16.6, 15.9, 14.0, 17.5, 14.7, 15.2, 15.0, 17.4, 14.0, 12.5, 16.0, 17.0, 16.4, 19.2, 10.5, 13.9, 14.5, 14.9, 18.0, 9.1, 11.6, 20.0, 21.0, 20.2, 22.3, 20.0, 15.5, 14.3, 16.3, 20.3, 17.7, 18.9, 13.2, 22.5, 19.9, 21.8, 20.5, 22.4, 22.3, 17.2, 17.8, 17.5, 19.5, 24.3, 23.0, 17.5, 19.8, 21.7, 22.1, 20.9, 20.2, 17.8, 23.4, 26.2, 29.1, 27.8, 26.9, 25.7, 27.7, 20.5, 26.5, 22.3, 26.8, 29.3, 29.0, 26.0, 28.8, 29.9, 30.0, 27.7, 28.7, 26.8, 27.5, 25.9, 29.1, 29.9, 33.3, 31.0, 23.9, 31.0, 31.7, 29.7, 28.0, 32.2, 28.4, 29.2, 31.7, 29.8, 31.0, 31.2, 33.7, 33.7, 35.5, 32.0, 27.6, 22.6, 28.4, 31.4, 24.6, 27.0, 29.9, 28.0, 29.9, 30.2, 28.5, 30.8, 32.0, 32.7, 27.2, 29.0, 27.5, 28.4, 27.6, 31.3, 31.8, 33.2, 33.5, 32.2, 33.3, 32.2, 32.8, 29.7, 32.3, 32.8, 31.8, 32.8, 33.6, 33.4, 34.2, 33.7, 36.0, 34.9, 35.4, 36.7, 36.5, 31.8, 31.0, 33.5, 35.1, 35.1, 36.7, 36.0, 35.9, 32.4, 26.7, 28.4, 31.5, 31.8, 30.7, 29.8, 30.7, 30.2, 26.7, 31.0, 25.6, 27.9, 29.5, 29.8, 25.1, 28.8, 28.5, 26.6, 27.5, 25.4, 26.5, 27.3, 28.5, 26.0, 27.5, 26.1, 24.4, 25.0, 25.6, 26.2, 23.5, 23.0, 25.5, 19.0, 24.0, 25.8, 28.4, 28.2, 28.0, 28.5, 23.0, 24.5, 26.5, 24.6, 26.0, 22.3, 21.9, 24.1, 26.5, 28.4, 26.2, 25.0, 19.9, 20.0, 22.0, 21.2, 21.2, 21.7, 22.7, 21.6, 17.9, 16.9, 16.6, 17.2, 18.2, 15.6, 15.6, 17.9, 19.5, 21.9, 21.9, 21.6, 17.5, 13.3, 18.7, 19.0, 14.8, 13.3, 13.1, 12.4, 15.6, 17.1, 15.8, 17.5, 12.7, 13.5, 11.2, 5.3, 11.2, 14.1, 14.5, 13.9, 11.1, 6.0, 6.7, 8.7, 14.3, 5.4, 0.9, 3.4, 4.4, 8.0, 11.4, 11.7, 13.3, 8.1, 13.5, 14.4, 8.9, 7.8, 2.1, 2.9, 5.5, 4.0, 4.0, 6.5, 12.1, 12.6, 10.4, 13.4, 11.0, 7.5, 8.3, 8.9, 1.6, 2.8, 4.1, 1.2, -4.5, -2.7, -2.9, -2.4, 1.6, 4.3, 4.9, 4.8, 6.1, 3.4, 2.9, 3.3, 1.6, -5.8, -6.9, -7.8, -5.3, -5.5, -5.2, 0.9, 0.7, -0.7, 0.2, 2.5, 1.4, 2.4, 1.6, 0.1, -1.9, 0.7, 3.1, 3.6, 1.4, 0.8, 2.1, 1.3, 8.6, 2.0, 5.1, 5.2, 4.4, 1.2, 1.4, 4.2, 8.4, 7.4, 3.7, 4.2, 8.1, 4.9, 2.6, -0.1, 2.9, 5.5, 7.7, 7.6, 3.3, 6.1, 9.5, 9.3, 11.2, 8.1, 15.8, 11.0, 9.3, 7.3, 4.9, 6.2, 9.9, 6.9, 6.1, 7.8, 11.1, 8.8, 8.5, 6.1, 8.5, 9.4, 12.4, 12.9, 8.6, 7.1, 12.7, 7.4, 14.5, 12.7, 9.3, 12.6, 14.1, 14.1, 14.0, 17.1, 16.6, 17.2, 21.1, 20.2, 14.0, 10.3, 10.2, 11.7, 10.3, 14.1, 15.3, 18.3, 21.0, 20.0, 19.9, 17.9, 23.4, 15.6, 14.2, 19.1, 18.3, 18.8, 21.2, 21.6, 19.5, 24.3, 23.4, 19.5, 19.3, 20.7, 18.4, 18.0, 20.9, 20.7, 23.9, 17.8, 16.3, 16.2, 21.0, 17.6, 21.3, 15.2, 13.5, 18.8, 21.3, 22.9, 25.2, 18.0, 21.5, 25.5, 27.1, 29.2, 29.5, 23.1, 27.3, 27.8, 19.0, 24.7, 24.0, 19.0, 23.6, 24.5, 25.4, 28.3, 26.3, 24.9, 26.6, 27.1, 26.8, 22.4, 26.2, 27.9, 27.6, 25.1, 22.2, 23.6, 25.3, 28.5, 30.2, 29.9, 32.4, 34.2, 26.5, 26.2, 28.4, 29.2, 26.7, 27.9, 27.2, 25.0, 28.0, 32.1, 30.0, 27.4, 31.1, 34.0, 30.3, 33.1, 23.5, 26.4, 31.0, 33.9, 26.1, 23.9, 31.9, 27.6, 22.1, 24.6, 24.5, 32.0, 25.2, 25.9, 25.6, 31.2, 28.6, 31.8, 29.1, 26.5, 32.6, 32.8, 31.8, 27.5, 27.9, 33.1, 35.2, 33.5, 32.7, 33.4, 33.2, 34.8, 36.1, 36.7, 35.2, 33.7, 33.5, 35.4, 36.0, 36.0, 36.5, 37.1, 37.4, 36.9, 36.5, 35.0, 27.4, 31.2, 32.0, 30.2, 30.5, 31.7, 26.0, 28.7, 30.7, 28.0, 31.1, 31.2, 28.5, 28.4, 24.2, 27.6, 27.4, 26.7, 27.6, 24.0, 22.6, 28.3, 28.7, 29.1, 28.8, 26.1, 27.6, 27.0, 25.6, 25.7, 26.9, 23.5, 26.7, 27.1, 25.4, 26.0, 27.1, 26.0, 23.3, 21.2, 23.8, 25.7, 26.5, 20.6, 23.7, 24.4, 25.1, 17.3, 16.8, 16.0, 19.5, 22.9, 25.0, 25.1, 25.3, 25.5, 24.0, 18.0, 20.6, 20.2, 22.5, 20.7, 22.5, 20.9, 23.6, 15.3, 18.1, 21.0, 21.4, 20.2, 22.1, 24.4, 23.0, 21.5, 17.1, 20.0, 20.5, 17.9, 14.4, 8.3, 4.9, 6.2, 11.1, 11.8, 16.8, 14.9, 16.8, 9.3, 4.5, 0.3, 4.4, 8.5, 4.4, 5.7, 2.6, 8.9, 14.9, 8.9, 7.8, 3.5, 2.9, 2.0, 5.1, 4.5, 6.5, 4.3, 6.3, 7.7, -2.0, 1.4, 0.6, 2.9, 7.5, 8.9, 8.4, 10.0, 9.5, 5.9, 6.5, 3.0, 0.9, 1.8, 2.5, 3.5, 2.7, 8.2, 11.0, 6.0, 1.3, -3.3, -2.4, -0.1, -0.1, 3.2, 10.5, 7.4, 1.4, -2.0, -0.5, 0.5, 1.7, 4.9, 5.4, 7.4, 3.8, 3.5, 2.8, -0.9, -13.0, -14.7, -6.8, -5.0, 1.2, -1.4, 2.3, -1.2, 3.7, 5.0, 0.1, -1.7, -1.4, 2.0, 1.6, 1.3, -0.2, -3.2, 0.9, 3.4, 1.6, 6.8, 8.3, 8.4, 10.7, 4.6, 3.0, 0.5, -9.4, -6.8, -3.8, -1.0, -1.8, 3.5, 4.5, 2.1, -0.2, 0.7, -1.2, 2.6, 2.5, 5.4, 5.5, 6.0, 3.5, -1.0, 4.3, 1.1, 3.2, 2.9, 1.6, 5.9, 5.4, 11.2, 11.9, 7.6, 6.1, 5.7, 8.5, 9.6, 9.3, 6.6, 14.3, 17.5, 19.4, 15.2, 11.2, 7.7, 13.6, 11.6, 15.5, 12.0, 9.6, 10.0, 14.7, 10.4, 10.3, 14.0, 14.0, 18.7, 11.6, 13.6, 16.4, 16.6, 16.9, 9.2, 3.7, 7.0, 11.9, 14.0, 13.2, 7.6, 12.2, 11.9, 16.5, 19.1, 12.8, 11.3, 14.5, 14.3, 20.1, 15.0, 18.2, 20.1, 16.1, 20.5, 19.6, 14.3, 21.2, 19.3, 20.3, 20.8, 23.8, 24.7, 27.4, 25.6, 20.0, 22.5, 24.0, 23.7, 21.3, 24.6, 25.0, 25.2, 24.7, 22.0, 17.0, 18.5, 20.9, 22.1, 24.5, 25.0, 25.0, 26.0, 28.6, 26.3, 23.0, 21.1, 21.7, 24.5, 27.5, 24.6, 25.2, 26.2, 25.3, 26.2, 23.2, 27.5, 29.1, 28.2, 26.1, 25.5, 23.5, 24.6, 26.7, 28.3, 26.0, 26.1, 24.1, 29.4, 30.5, 32.0, 30.5, 30.5, 31.0, 30.6, 30.4, 31.0, 28.4, 29.0, 29.7, 32.3, 25.5, 25.5, 26.9, 25.9, 29.0, 26.7, 24.5, 26.7, 28.1, 26.0, 26.8, 24.5, 25.8, 27.2, 28.5, 29.2, 29.5, 24.0, 26.5, 24.9, 28.5, 29.2, 27.5, 27.7, 29.0, 29.3, 29.0, 28.8, 31.0, 27.0, 29.4, 30.1, 26.0, 26.4, 24.2, 30.3, 27.5, 29.5, 34.3, 36.0, 30.9, 25.3, 30.4, 32.0, 32.9, 33.7, 35.0, 28.7, 28.5, 30.7, 25.4, 28.0, 31.1, 31.5, 24.8, 31.7, 31.7, 25.7, 29.0, 27.1, 28.6, 28.5, 27.8, 21.2, 24.2, 26.2, 26.2, 28.4, 27.7, 30.1, 29.0, 26.8, 23.5, 25.6, 26.4, 28.2, 23.3, 25.0, 29.5, 29.5, 25.0, 26.6, 28.7, 29.6, 31.4, 30.1, 27.2, 27.8, 27.1, 21.5, 16.5, 20.2, 22.1, 25.2, 24.2, 27.7, 24.6, 27.6, 26.5, 20.2, 17.2, 19.0, 19.6, 22.5, 23.2, 23.5, 23.9, 19.5, 15.2, 13.2, 18.2, 18.6, 20.9, 21.5, 21.0, 21.0, 15.5, 9.6, 9.4, 11.4, 14.4, 16.5, 18.2, 18.4, 19.5, 19.8, 19.7, 16.5, 11.4, 17.5, 19.2, 18.5, 16.0, 15.7, 18.5, 19.9, 20.2, 13.1, 14.5, 11.6, 4.8, 1.3, 8.2, 7.8, 13.5, 12.7, 13.7, 11.1, 9.2, 11.1, 9.7, 5.0, 10.0, 8.5, 5.9, 3.6, 7.8, 9.1, 7.6, 12.7, 8.3, 9.8, 6.1, 3.7, 1.9, -5.3, 0.8, 3.8, 0.6, -0.5, -1.7, -1.9, 0.6, 2.7, 4.0, 4.5, 0.0, 1.9, 0.7, 5.0, 3.9, 2.3, 2.6, 1.0, 1.8, 4.2, 7.5, 9.3, 12.4, 14.4, 4.5, -3.0, -0.3, 0.5, 3.3, 7.4, 1.1, 7.1, 3.0, 2.3, 0.7, -0.1, 2.6, 4.9, 3.6, 5.3, 6.1, 6.8, 8.2, 7.5, 6.6, 6.9, 6.4, 7.4, 8.7, 4.3, 4.5, 5.5, 3.9, 4.2, 3.4, 4.9, 9.3, 3.7, 4.3, 7.0, 6.0, 7.1, 7.2, 6.6, -1.4, -4.7, -2.6, 0.9, -1.6, 1.1, 4.6, 5.3, 3.7, -0.3, -1.5, -0.5, 0.9, 4.8, 9.7, 11.6, 11.4, 11.6, 15.1, 12.6, 9.3, 8.5, 10.2, 6.0, 8.7, 8.7, 4.0, 1.9, 1.9, 1.0, 4.6, 8.6, 5.5, 7.8, 9.2, 10.2, 11.4, 12.1, 11.5, 16.5, 11.2, 5.4, 6.7, 7.1, 8.9, 13.2, 17.1, 20.1, 17.0, 8.9, 12.8, 14.1, 13.3, 8.7, 15.0, 14.4, 16.3, 17.4, 15.6, 15.7, 17.0, 22.2, 13.3, 14.5, 16.7, 19.0, 14.2, 20.5, 16.6, 16.8, 17.3, 16.6, 21.0, 20.4, 18.2, 24.6, 30.2, 29.3, 23.4, 18.5, 18.5, 19.2, 16.8, 21.0, 22.6, 20.7, 22.6, 23.5, 27.9, 29.5, 32.0, 33.5, 23.0, 21.7, 23.2, 25.0, 21.7, 24.2, 30.0, 23.9, 19.7, 22.6, 24.7, 26.1, 27.3, 25.4, 26.7, 27.0, 29.8, 29.2, 25.6, 27.9, 26.0, 27.1, 24.9, 28.9, 31.1, 25.9, 21.7, 28.6, 22.7, 26.7, 30.4, 29.6, 28.1, 26.6, 24.0, 25.0, 26.2, 29.9, 29.0, 29.3, 31.0, 28.5, 29.7, 32.1, 32.1, 31.6, 30.5, 32.1, 26.5, 25.7, 30.6, 28.5, 30.5, 26.2, 26.7, 31.0, 31.6, 33.0, 33.8, 30.7, 29.3, 28.5, 30.2, 30.5, 33.4, 33.4, 32.1, 28.5, 33.2, 33.7, 34.1, 33.8, 35.4, 35.6, 36.3, 37.2, 37.2, 30.5, 28.7, 29.0, 30.0, 30.1, 31.2, 33.7, 36.0, 32.5, 34.2, 34.5, 31.0, 35.0, 32.1, 26.4, 30.3, 27.3, 30.2, 30.4, 26.7, 28.3, 26.7, 31.3, 26.0, 29.9, 32.5, 31.8, 25.3, 24.3, 25.5, 26.5, 26.3, 25.5, 26.6, 26.1, 27.9, 23.4, 28.1, 29.0, 29.5, 28.2, 29.0, 29.5, 27.9, 26.9, 27.1, 27.4, 27.4, 26.7, 25.0, 28.0, 25.4, 25.7, 26.8, 23.8, 22.7, 24.5, 24.5, 24.9, 26.5, 22.5, 21.1, 20.1, 19.6, 22.0, 23.5, 18.7, 19.0, 18.7, 19.0, 20.7, 21.7, 22.6, 22.7, 22.2, 15.5, 15.4, 18.1, 16.7, 15.1, 18.3, 16.7, 14.1, 16.3, 18.2, 19.7, 19.9, 20.1, 19.5, 18.3, 13.3, 18.0, 19.7, 19.7, 22.5, 17.2, 0.0, 12.5, 17.2, 14.5, 12.1, 12.0, 14.7, 14.8, 6.1, 7.8, 10.0, 12.0, 12.9, 13.4, 11.0, 14.3, 13.5, 11.3, 14.4, 7.5, 7.5, 3.2, 6.2, 9.4, 12.5, 10.0, 10.1, 8.8, 7.2, 3.6, 3.6, 1.8, 4.8, 5.1, 4.9, 3.1, -2.0, 1.0, 2.0, 4.6, 8.9, 7.8, 5.5, 5.5, -0.7, 0.2, 0.5, 3.6, 4.8, 8.5, 8.7, 5.8, 5.0, 7.2, 1.2, -1.5, 1.7, 0.2, -0.7, 1.6, 0.4, 3.4, 3.4, 3.1, 6.1, 3.7, -9.5, -10.7, -7.3, -4.5, -3.8, -0.8, -3.6, -4.0, -2.1, -2.8, -3.5, -3.0, -6.2, -7.8, -10.3, -7.7, -4.9, -3.0, -2.0, 0.2, -0.9, -1.4, -2.9, 0.2, 2.6, 6.6, 0.1, 2.5, 0.0, -0.4, 0.6, -2.7, 0.9, 0.7, 2.0, 4.0, 3.7, -1.7, -0.5, 3.6, 1.8, -2.7, 3.8, 2.0, -5.8, -4.3, 2.3, 4.5, 2.5, -0.1, 1.2, 1.9, -4.0, -4.0, -3.7, -1.1, 4.7, 1.6, 4.3, 1.9, 3.2, 3.7, 6.0, 4.4, 6.1, 9.3, 11.6, 12.5, 11.9, 6.2, 7.0, 12.5, 10.0, 6.5, 3.6, 6.9, 9.0, 10.7, 11.5, 15.0, 15.1, 14.8, 15.3, 18.1, 16.2, 13.2, 15.4, 15.2, 15.9, 14.0, 12.5, 13.3, 12.9, 13.7, 12.4, 14.6, 16.6, 21.5, 18.7, 14.4, 14.9, 17.3, 20.5, 21.4, 20.3, 16.8, 16.7, 22.6, 25.5, 28.5, 18.5, 14.7, 15.8, 16.7, 20.3, 20.5, 22.8, 20.6, 26.4, 21.2, 22.5, 24.5, 20.5, 22.6, 23.1, 25.5, 25.7, 18.4, 18.2, 17.5, 20.6, 21.8, 25.1, 29.0, 27.9, 28.3, 21.7, 24.1, 26.2, 22.4, 22.8, 28.0, 23.1, 30.7, 31.3, 24.8, 22.3, 24.3, 25.5, 28.4, 30.2, 27.5, 22.7, 23.0, 25.8, 25.0, 25.0, 24.3, 28.9, 30.4, 31.1, 31.3, 25.3, 26.7, 27.9, 24.8, 22.8, 24.1, 20.9, 26.3, 25.6, 21.4, 27.9, 27.5, 30.9, 31.6, 33.0, 32.7, 31.7, 32.2, 30.1, 29.2, 27.7, 29.5, 32.1, 32.4, 34.8, 32.2, 32.0, 34.6, 35.9, 31.8, 29.2, 31.4, 30.8, 32.6, 30.7, 27.3, 26.0, 24.4, 30.7, 30.8, 32.5, 26.9, 27.1, 26.2, 29.4, 30.7, 27.8, 30.6, 30.9, 25.9, 28.1, 29.0, 28.0, 29.3, 30.3, 27.0, 26.3, 26.2, 22.5, 26.3, 27.5, 28.3, 29.1, 28.7, 28.5, 27.7, 28.7, 30.7, 29.7, 27.2, 30.2, 28.4, 25.0, 26.0, 27.0, 27.7, 26.2, 26.2, 26.7, 27.6, 29.9, 23.8, 22.3, 25.2, 26.0, 29.1, 29.0, 27.1, 21.7, 27.4, 25.3, 24.4, 24.9, 25.2, 25.7, 24.7, 19.1, 19.4, 21.4, 23.1, 23.8, 22.7, 21.3, 25.8, 21.1, 22.8, 19.9, 19.7, 15.9, 18.6, 18.7, 20.8, 21.0, 21.1, 20.2, 20.8, 19.3, 15.8, 20.4, 20.7, 20.2, 15.0, 11.6, 12.8, 12.5, 15.7, 17.0, 16.1, 13.4, 13.6, 14.7, 9.8, 8.9, 8.3, 9.3, 16.1, 12.7, 8.4, 13.3, 13.2, 16.3, 10.5, 9.6, 10.7, 11.3, 9.0, 6.9, 6.3, 9.8, 11.8, 10.9, 11.5, 10.7, 14.3, 12.8, 15.8, 15.5, 9.1, 5.6, 5.6, 5.7, 9.5, 9.2, 6.7, 9.6, 7.3, 11.4, 12.7, 12.0, 8.7, 8.6, 4.7, 3.7, 4.2, 4.3, 3.0, 2.4, -0.5, 3.9, 0.0, -2.5, -3.1, -2.8, -2.7, -2.3, 4.2, 5.6, 6.1, 6.1, 3.9, 0.9, -4.5, -4.4, -2.8, -6.1, -4.9, -5.5, -2.8, -2.4, -3.6, -2.0, -1.3, -8.2, -6.6, -6.4, -5.0, -1.1, -2.5, -2.2, 0.2, 0.9, -4.2, -7.4, -6.6, -8.2, -10.4, -8.9, -6.5, -0.9, 2.4, 2.8, 2.3, 1.7, 4.6, 1.3, -0.6, -0.1, -2.5, 0.1, 2.6, -0.8, 2.5, 3.9, 4.3, 2.6, 1.6, -0.9, 0.0, 3.6, 5.7, 3.6, 0.4, 4.3, 3.9, 3.1, 0.6, 3.1, 2.7, 2.5, 4.2, 2.4, -0.1, 2.2, 1.5, -0.8, 0.8, 4.1, 8.6, 2.3, 3.4, 7.9, 7.1, 7.1, 3.3, -0.5, 1.2, 2.8, 10.7, 8.6, 13.0, 12.1, 5.5, 7.4, 14.8, 14.7, 16.3, 14.0, 12.1, 9.6, 6.4, 7.7, 11.4, 8.5, 12.4, 12.7, 13.9, 12.4, 13.2, 14.5, 21.2, 17.4, 8.8, 14.5, 8.8, 9.1, 11.1, 12.4, 14.7, 13.9, 16.6, 17.2, 18.0, 17.7, 19.6, 22.3, 13.9, 16.4, 21.8, 24.8, 22.3, 16.3, 13.4, 11.6, 18.2, 21.2, 23.8, 25.9, 25.2, 24.9, 20.5, 14.4, 23.0, 26.3, 24.0, 24.4, 24.4, 26.2, 28.6, 22.4, 24.9, 25.5, 20.6, 19.7, 21.1, 21.3, 23.8, 23.2, 25.3, 25.9, 27.3, 26.4, 25.9, 25.1, 25.3, 21.4, 18.7, 21.8, 22.2, 21.9, 22.5, 23.2, 29.3, 29.6, 25.9, 22.5, 22.6, 24.8, 26.0, 25.2, 27.0, 27.8, 27.8, 30.7, 29.4, 31.9, 26.6, 24.6, 22.2, 22.8, 27.5, 24.9, 26.0, 25.2, 25.3, 28.3, 26.0, 27.8, 27.0, 28.7, 31.7, 30.6, 25.9, 29.0, 25.9, 26.9, 30.2, 28.5, 24.6, 28.5, 28.9, 24.1, 27.2, 24.3, 27.3, 26.3, 26.9, 29.5, 25.9, 23.5, 27.1, 27.4, 29.3, 24.5, 26.3, 28.5, 29.3, 27.1, 25.9, 28.9, 31.6, 33.4, 32.8, 28.2, 28.5, 25.6, 27.8, 24.1, 21.1, 29.1, 30.7, 30.7, 28.3, 31.7, 28.7, 28.3, 29.5, 25.6, 29.4, 28.3, 28.7, 28.2, 21.6, 23.3, 25.5, 27.1, 29.0, 28.4, 28.8, 23.6, 23.9, 26.2, 26.9, 25.7, 24.5, 25.4, 26.1, 27.1, 19.7, 25.9, 25.7, 24.0, 26.1, 25.5, 21.9, 22.6, 22.3, 21.8, 20.4, 22.5, 24.8, 25.6, 26.0, 27.5, 21.4, 18.4, 17.0, 15.7, 18.2, 19.5, 19.5, 19.3, 21.1, 21.1, 18.3, 21.2, 21.9, 23.2, 23.3, 17.2, 16.1, 10.7, 13.0, 15.8, 17.6, 19.1, 19.7, 19.5, 21.7, 17.0, 8.8, 13.7, 17.4, 16.7, 15.8, 18.4, 19.1, 11.3, 10.6, 10.7, 14.5, 13.1, 14.0, 9.5, 5.1, 10.9, 13.2, 8.8, 8.6, 7.1, 10.4, 11.2, 12.7, 14.0, 10.9, 3.6, 6.1, 9.4, 7.6, 11.6, 13.7, 13.2, 13.5, 5.2, -2.5, -0.9, 0.7, -0.7, 2.7, 1.5, 1.5, 4.6, 6.3, 7.2, 8.0, 7.6, 9.5, 6.5, 5.8, 7.1, 8.3, 4.2, 5.0, 4.3, 3.5, 3.2, 4.8, 4.9, 5.6, 6.3, 3.3, 2.8, 2.5, 6.1, 5.1, 8.4, 8.5, 5.9, 4.9, 4.9, 2.0, 0.9, -1.1, -0.8, 1.6, 6.9, 7.2, 2.9, 8.2, 9.0, 6.9, 3.3, 1.2, -6.8, -6.0, -4.7, -2.3, -0.8, 0.7, -0.4, -2.9, -0.5, 0.6, -2.6, -2.0, 0.9, -0.5, -0.9, 0.5, 2.9, 6.5, 4.4, 4.5, -1.6, -6.2, -1.6, 5.0, 4.6, 4.1, -2.2, 1.6, 3.2, 5.4, 6.6, 4.3, 4.7, 4.4, 7.9, 6.8, 8.6, 8.3, 10.5, 10.7, 12.8, 16.0, 13.4, 8.1, 7.8, 7.9, 6.4, 4.3, 4.2, 8.4, 6.6, 8.4, 13.6, 10.0, 8.6, 7.6, 9.4, 10.4, 14.9, 11.4, 11.7, 19.1, 10.7, 8.4, 9.1, 9.1, 13.8, 14.3, 11.3, 12.8, 15.4, 12.3, 10.0, 11.4, 12.9, 12.4, 13.7, 15.6, 15.5, 15.3, 16.5, 20.1, 24.7, 15.0, 16.7, 12.9, 13.5, 18.6, 9.2, 10.7, 15.9, 16.1, 18.3, 17.3, 18.3, 17.7, 14.6, 22.0, 20.7, 24.0, 23.6, 16.5, 17.7, 20.2, 11.5, 14.9, 18.4, 18.6, 17.5, 18.7, 19.2, 22.3, 19.2, 24.6, 26.6, 24.7, 16.9, 21.2, 16.5, 19.5, 18.0, 18.4, 21.6, 24.5, 22.5, 23.1, 25.2, 27.5, 30.1, 29.5, 20.5, 23.2, 26.8, 24.4, 27.4, 26.8, 29.0, 29.8, 22.1, 16.2, 23.5, 23.1, 22.1, 27.4, 25.2, 24.0, 27.9, 29.5, 28.2, 29.0, 27.8, 21.8, 22.9, 26.6, 27.3, 26.0, 26.3, 25.0, 24.0, 28.3, 27.2, 28.4, 28.5, 25.6, 23.1, 25.4, 28.3, 29.5, 27.2, 27.5, 27.8, 29.8, 32.3, 31.8, 30.9, 26.6, 25.3, 25.5, 28.0, 27.8, 27.8, 28.7, 30.5, 28.6, 26.2, 26.8, 20.5, 25.9, 25.0, 31.7, 32.6, 29.3, 27.8, 30.0, 30.5, 31.3, 32.1, 30.1, 32.6, 33.5, 30.6, 26.2, 30.1, 29.8, 29.6, 31.0, 31.3, 31.7, 26.6, 28.3, 31.5, 32.5, 31.6, 33.1, 32.2, 28.9, 29.9, 30.8, 28.7, 25.2, 26.7, 31.2, 29.4, 28.5, 31.5, 30.5, 29.7, 29.1, 30.4, 31.0, 30.7, 31.7, 31.2, 25.5, 32.3, 33.0, 31.5, 28.5, 28.0, 25.7, 19.1, 22.3, 25.7, 24.8, 27.5, 27.4, 26.9, 26.9, 25.8, 28.6, 26.5, 27.0, 22.9, 21.4, 23.1, 24.9, 25.4, 25.2, 21.5, 16.9, 22.3, 19.9, 22.5, 18.8, 15.9, 20.1, 23.8, 25.4, 25.3, 22.6, 20.2, 22.6, 22.4, 22.6, 15.5, 17.6, 18.8, 20.1, 21.4, 20.5, 22.9, 24.1, 19.0, 18.0, 17.9, 20.6, 20.8, 18.3, 20.6, 20.2, 16.5, 14.5, 18.2, 11.6, 15.4, 13.5, 15.0, 15.7, 12.0, 6.4, 9.4, 13.0, 9.3, 9.7, 3.2, 4.6, 7.6, 11.1, 11.7, 13.4, 16.0, 15.0, 11.3, 8.7, 7.6, 8.0, 10.1, 10.9, 9.2, 9.3, 4.2, 3.0, 4.7, 8.6, 11.8, 12.5, 8.5, -4.3, -6.2, -8.2, -6.6, -5.3, -2.6, -4.2, -1.2, 2.2, -6.0, -1.1, 0.7, -3.0, -5.4, -3.0, 0.5, 1.0, 5.8, 7.4, 6.4, 2.7, -9.4, -1.7, -1.6, -0.9, -3.5, -2.0, -5.4, -3.9, -2.9, -1.0, -2.4, -1.1, 0.7, -0.1, -4.8, -3.0, -5.0, -10.3, -12.0, -7.5, -4.8, -4.4, -5.8, -5.9, -4.2, -0.9, -3.4, -6.4, -1.3, 3.1, -5.5, -10.3, -8.9, -5.9, -4.5, -0.9, -4.7, -0.5, 3.5, 2.4, 0.7, -0.6, -2.1, -2.4, 0.5, 4.4, 2.6, 4.7, 9.2, 3.7, -1.7, -2.9, -0.9, -1.1, 0.4, 4.9, 1.5, -0.1, 1.8, -2.3, -1.9, -3.5, -4.8, -3.4, -1.4, 0.4, 2.2, 2.0, 3.9, 0.4, 1.0, 3.6, 8.4, 6.2, 5.9, 4.1, 3.4, 9.4, 6.9, 3.3, 9.1, 4.5, 5.3, 5.0, 9.6, 4.0, 7.1, 8.8, 8.9, 10.5, 7.4, 10.6, 12.0, 15.7, 10.2, 4.5, 10.9, 15.8, 10.4, 19.4, 13.2, 9.0, 13.6, 15.3, 15.8, 13.2, 13.0, 14.9, 15.7, 22.5, 15.6, 14.3, 16.3, 18.2, 19.4, 20.8, 18.0, 15.2, 18.2, 15.7, 17.0, 16.6, 18.0, 19.6, 21.1, 24.2, 16.9, 24.4, 20.9, 20.7, 19.9, 17.0, 21.4, 24.7, 26.7, 27.3, 25.7, 25.0, 21.1, 24.1, 27.4, 19.6, 21.1, 18.9, 21.4, 22.2, 24.3, 16.8, 20.5, 22.9, 23.0, 26.5, 26.0, 26.1, 24.4, 23.7, 21.4, 22.9, 25.3, 28.1, 26.4, 21.3, 22.6, 25.0, 27.1, 30.5, 30.2, 26.9, 29.8, 32.1, 27.0, 28.6, 25.2, 22.4, 27.2, 28.5, 28.0, 29.1, 28.8, 29.2, 28.7, 21.4, 24.3, 28.1, 25.7, 22.0, 24.6, 28.1, 29.2, 26.2, 30.1, 30.6, 23.8, 29.9, 27.1, 31.9, 31.6, 29.0, 28.8, 29.2, 26.1, 29.2, 30.9, 30.4, 32.0, 32.9, 34.3, 27.2, 25.8, 27.4, 30.1, 26.4, 26.7, 28.1, 26.6, 27.8, 27.6, 27.6, 24.2, 27.8, 29.0, 29.1, 27.5, 29.8, 25.0, 24.5, 26.7, 29.8, 24.6, 26.9, 28.8, 30.7, 29.4, 28.1, 24.0, 28.8, 27.4, 25.4, 28.1, 24.2, 23.2, 22.2, 25.6, 26.5, 27.0, 27.9, 29.7, 22.3, 25.2, 27.8, 24.8, 27.6, 26.2, 29.3, 25.9, 24.7, 27.4, 28.1, 25.6, 29.3, 22.8, 23.1, 20.4, 24.0, 24.8, 24.3, 25.0, 25.9, 27.2, 26.0, 21.1, 23.4, 22.8, 25.2, 24.8, 24.4, 24.6, 23.9, 20.2, 21.7, 24.4, 18.8, 19.5, 23.4, 24.2, 24.7, 24.3, 22.4, 22.5, 20.9, 22.6, 23.7, 17.5, 19.4, 18.2, 21.0, 17.6, 14.3, 17.9, 20.0, 21.1, 17.1, 13.5, 17.4, 17.4, 15.9, 13.7, 12.6, 11.8, 17.4, 15.1, 15.4, 14.1, 11.4, 9.3, 15.6, 15.6, 11.2, 9.6, 9.4, 13.6, 9.5, 9.6, 13.6, 11.0, 8.9, 11.8, 13.3, 5.5, 4.8, 8.4, 11.5, 12.2, 12.0, 0.0, 5.3, 9.4, 10.4, 2.4, 0.3, 0.9, -3.2, -1.6, 0.0, 1.7, 1.6, 5.6, 5.3, 3.7, 1.1, 3.3, 6.9, 10.3, 14.6, 4.7, 5.1, 2.8, -0.6, -0.9, 1.1, 3.5, 6.3, 4.7, 2.3, 5.4, 5.6, 3.9, 5.7, 3.7, 3.0, 7.8, 9.8, 6.3, 2.4, -1.8, 0.3, -0.2, -5.9, -7.5, -5.1, -1.2, 1.7, -0.4, 1.1, 3.7, 4.3, 3.0, 1.5, 1.9, 3.1, 1.4, 1.5, -5.3, -3.7, -0.3, -1.3, -2.3, -0.9, 0.6, 0.9, -0.4, -0.7, 7.2, 10.0, 5.3, 4.7, 5.6, 7.8, 2.9, 6.5, 3.0, 1.1, -2.1, -2.1, 0.9, -0.2, 1.7, 3.4, 7.8, 9.8, 11.0, 7.6, 7.7, 7.0, 8.6, 3.3, 4.9, 10.1, 15.2, 11.2, 8.0, 7.1, 6.2, 6.8, 4.3, 9.4, 8.3, 5.3, 5.1, 8.3, 11.9, 11.9, 8.1, 2.3, 7.1, 8.2, 12.7, 14.4, 14.6, 18.8, 4.1, 2.1, 4.6, 9.2, 8.4, 6.0, 9.3, 12.0, 10.3, 11.8, 11.3, 8.4, 9.7, 15.4, 13.2, 16.5, 14.3, 18.7, 19.3, 14.8, 15.9, 16.1, 16.0, 13.9, 10.1, 15.1, 22.8, 26.4, 19.5, 17.9, 18.9, 18.4, 16.7, 17.7, 20.5, 19.9, 26.4, 22.0, 20.5, 20.3, 19.1, 20.7, 21.8, 20.7, 18.4, 18.2, 19.2, 24.6, 23.2, 25.2, 23.9, 24.6, 17.8, 21.0, 22.0, 24.1, 24.0, 23.4, 23.6, 22.0, 26.2, 25.1, 24.2, 23.3, 20.6, 20.3, 22.6, 24.2, 24.8, 22.6, 24.7, 28.9, 32.2, 25.2, 28.2, 26.4, 23.3, 25.4, 27.1, 28.9, 29.6, 30.2, 30.4, 26.4, 26.7, 28.4, 30.4, 30.3, 31.3, 32.2, 32.1, 32.1, 32.5, 32.0, 25.6, 24.5, 25.7, 22.6, 24.2, 26.3, 30.5, 32.5, 27.0, 28.3, 27.1, 24.1, 25.6, 27.9, 25.6, 28.2, 29.8, 31.5, 31.3, 32.0, 32.0, 29.5, 25.3, 26.6, 29.6, 29.5, 31.6, 32.3, 33.1, 34.4, 33.0, 27.7, 31.1, 34.1, 32.8, 33.6, 33.5, 34.6, 34.6, 34.0, 34.1, 32.7, 31.5, 29.7, 31.6, 29.5, 28.5, 31.2, 32.3, 34.2, 32.6, 33.4, 35.1, 33.2, 33.6, 33.1, 33.1, 34.3, 34.1, 30.6, 31.4, 30.0, 25.6, 29.6, 29.4, 30.6, 30.3, 29.8, 28.4, 27.8, 28.0, 23.9, 28.8, 22.2, 28.0, 27.9, 24.2, 25.8, 28.4, 28.7, 27.8, 29.4, 26.5, 27.0, 27.3, 22.8, 27.1, 27.2, 26.4, 28.0, 27.9, 28.4, 25.9, 20.9, 21.4, 24.6, 21.5, 26.3, 26.9, 24.5, 25.1, 23.3, 18.0, 17.6, 22.9, 23.8, 23.8, 25.8, 18.1, 17.0, 17.0, 13.5, 10.2, 9.7, 15.2, 21.1, 21.8, 22.3, 21.4, 21.6, 23.3, 23.4, 22.8, 20.8, 17.7, 16.3, 17.6, 15.1, 16.7, 18.6, 19.2, 18.2, 22.1, 17.8, 9.9, 13.0, 14.3, 15.2, 17.4, 15.0, 16.6, 16.7, 15.9, 16.9, 17.8, 13.0, 9.2, 12.2, 7.8, 1.3, 3.2, 1.3, 3.3, 4.3, 8.8, 7.8, 6.1, 7.6, 9.2, 3.5, -4.5, -3.5, -2.9, 0.6, 0.4, 2.6, 3.7, 7.4, 2.9, -1.7, -2.8, 4.9, 2.8, 4.2, 11.1, 6.9, -4.1, -4.9, -2.9, 4.1, 4.7, 4.6, -4.0, -7.3, -7.3, -4.4, -2.9, -1.9, 3.5, 1.6, -0.9, -8.7, -6.0, -4.2, -5.9, -9.8, -9.5, -4.7, 3.5, 4.6, -5.0, -3.4, 1.6, 0.6, 2.1, 6.3, 5.7, 1.9, 4.9, -0.2, -5.7, -4.3, -2.1, 1.8, -10.0, -5.1, -2.7, 2.6, 2.9, 1.5, -4.1, -5.1, -1.5, -0.2, 0.6, -2.7, -1.6, -4.0, -4.0, -2.0, 5.1, 4.3, 6.6, 4.9, 5.1, 4.5, -3.8, -2.4, -1.1, -0.7, 0.3, 1.5, 2.9, 4.3, 5.6, 6.5, 5.3, 14.7, 15.9, 10.4, 11.6, 13.2, 10.3, 10.0, 0.3, 3.4, 4.6, 1.1, 3.0, 4.6, 5.9, 6.1, 7.4, 7.7, 9.4, 10.2, 12.5, 19.0, 11.6, 8.2, 8.0, 6.5, 12.7, 12.1, 15.8, 14.2, 13.1, 9.4, 13.2, 16.8, 15.6, 14.9, 11.9, 17.8, 16.7, 10.9, 12.3, 15.5, 16.8, 13.9, 13.7, 15.5, 12.8, 13.6, 16.7, 18.7, 22.1, 23.4, 23.4, 27.3, 22.7, 19.4, 16.7, 18.2, 18.1, 17.5, 18.9, 23.2, 23.9, 18.2, 23.9, 19.5, 18.8, 22.0, 19.8, 23.4, 17.7, 16.3, 19.9, 19.4, 20.3, 27.2, 28.1, 21.0, 18.3, 20.2, 25.0, 18.8, 19.0, 20.3, 16.3, 21.1, 22.5, 25.6, 28.4, 30.4, 25.9, 22.9, 25.5, 24.4, 21.9, 25.6, 25.8, 23.4, 21.4, 20.5, 26.3, 26.3, 27.6, 26.9, 20.9, 20.5, 26.2, 25.6, 21.1, 26.2, 24.3, 21.1, 18.6, 25.7, 25.2, 26.6, 32.2, 26.3, 30.9, 29.1, 27.8, 26.5, 29.8, 30.8, 28.5, 28.2, 30.0, 31.0, 31.0, 25.8, 23.8, 25.1, 25.0, 28.0, 29.2, 24.2, 29.3, 28.2, 28.5, 29.6, 31.1, 30.6, 30.4, 32.7, 32.7, 34.2, 34.2, 33.8, 34.7, 34.7, 33.7, 32.4, 31.6, 33.7, 33.2, 34.2, 32.7, 30.8, 34.8, 34.0, 34.9, 35.6, 33.7, 33.7, 35.1, 34.0, 34.9, 33.2, 33.3, 33.2, 30.7, 26.0, 28.3, 28.8, 31.0, 31.0, 31.1, 32.6, 31.2, 31.1, 28.1, 31.8, 26.2, 30.2, 31.2, 31.5, 32.1, 30.6, 24.6, 27.0, 29.4, 29.0, 26.2, 28.1, 25.8, 24.1, 24.2, 26.3, 24.2, 25.1, 24.2, 26.9, 26.5, 21.3, 24.0, 24.0, 23.7, 24.6, 23.4, 21.9, 25.0, 24.6, 27.0, 24.9, 27.9, 28.6, 21.3, 21.0, 27.8, 27.1, 26.8, 24.3, 21.8, 23.0, 25.8, 22.5, 26.7, 26.2, 19.9, 21.8, 18.0, 18.5, 19.8, 18.7, 21.9, 21.4, 18.8, 17.9, 17.5, 15.5, 17.1, 17.9, 18.9, 21.3, 17.3, 18.2, 14.1, 16.7, 18.3, 18.9, 19.5, 19.2, 19.0, 15.4, 7.8, 9.8, 8.9, 3.5, 1.8, 5.5, 6.4, 10.3, 11.6, 10.8, 11.2, 11.7, 14.6, 9.2, 8.8, 9.4, 5.4, 2.7, 5.7, 6.0, 9.7, 8.6, 5.3, 7.6, 9.0, 11.8, 8.4, 5.9, 1.8, 0.3, 3.9, 1.3, 0.2, 4.4, 2.1, 1.8, 0.3, 3.2, 3.8, 6.7, -0.1, -3.0, 1.0, 3.1, 5.5, 1.4, -1.9, -2.7, -3.6, -6.5, -8.0, -4.6, -3.7, 4.0, 2.0, -2.9, -1.6, -0.9, -10.9, -7.7, -2.3, -7.8, -3.0, 0.2, -0.9, -3.2, 0.0, 2.0, 3.3, 3.2, 3.7, 2.5, -5.4, -4.1, -1.7, -1.4, -1.5, 0.9, 0.9, 0.8, -0.3, 1.0, 1.9, 5.4, 2.9, 2.2, -2.3, 0.1, 1.7, -4.1, -6.9, -7.2, -4.0, 2.7, 3.6, 3.2, 3.9, 4.9, 5.3, 3.3, 3.9, 2.6, 3.8, 5.1, 8.3, 6.3, 6.5, 8.2, 9.1, 8.0, 6.6, 10.1, 9.9, 10.4, 11.4, 9.4, 11.5, 8.2, 6.7, 8.6, 11.7, 17.9, 13.1, 10.2, 6.1, 3.4, 5.3, 6.1, 7.6, 2.9, 5.0, 4.3, 7.4, 10.6, 8.8, 9.5, 7.2, 7.6, 6.9, 12.8, 12.0, 11.8, 10.6, 17.0, 15.4, 12.3, 10.6, 7.9, 11.1, 12.5, 14.5, 14.2, 21.4, 24.1, 20.1, 14.8, 15.8, 24.9, 25.2, 24.3, 23.9, 24.6, 25.7, 22.6, 18.9, 14.7, 21.5, 17.0, 19.8, 18.7, 16.5, 19.9, 23.4, 23.0, 16.0, 17.3, 22.2, 24.8, 18.0, 15.5, 24.4, 19.2, 23.8, 20.2, 14.9, 21.4, 22.2, 13.8, 20.7, 20.0, 23.8, 22.9, 18.3, 24.8, 23.2, 24.1, 23.0, 20.4, 21.6, 26.5, 26.8, 29.6, 27.6, 26.7, 27.2, 25.6, 22.6, 22.8, 25.0, 26.7, 29.8, 21.8, 24.8, 28.6, 29.1, 25.0, 25.9, 29.2, 25.4, 29.1, 33.3, 32.6, 29.7, 31.2, 29.6, 25.2, 30.4, 31.9, 26.2, 22.4, 28.3, 25.8, 21.8, 27.2, 28.7, 29.8, 30.7, 33.5, 28.9, 29.0, 31.5, 33.5, 34.0, 36.8, 32.4, 26.1, 32.4, 33.9, 32.9, 33.6, 33.2, 34.5, 36.1, 36.7, 36.2, 37.7, 37.1, 32.4, 30.7, 29.8, 35.3, 37.3, 37.0, 37.6, 37.7, 36.7, 31.8, 33.3, 34.1, 30.7, 33.6, 35.1, 37.4, 36.2, 36.4, 38.2, 35.7, 35.9, 35.9, 32.5, 33.6, 33.7, 35.0, 35.5, 35.6, 36.2, 37.3, 37.7, 36.8, 34.8, 30.1, 35.3, 35.3, 32.6, 27.4, 29.4, 31.8, 34.0, 35.1, 33.1, 32.8, 34.0, 32.8, 32.9, 25.1, 28.6, 28.7, 28.8, 30.1, 31.7, 25.6, 20.3, 27.4, 28.9, 28.0, 29.1, 29.5, 25.3, 23.2, 23.6, 24.3, 24.2, 24.8, 27.1, 21.6, 25.5, 17.3, 23.1, 25.4, 28.2, 28.4, 20.6, 22.5, 23.9, 26.9, 27.1, 26.9, 28.3, 28.4, 28.8, 29.3, 23.9, 22.5, 18.4, 16.3, 14.9, 9.3, 11.6, 13.3, 16.8, 15.5, 19.7, 19.1, 21.4, 21.3, 18.9, 12.3, 13.3, 12.5, 16.7, 13.0, 16.2, 18.4, 20.2, 19.2, 13.1, 13.1, 8.1, 12.3, 8.9, 8.7, 6.5, 12.1, 12.4, 14.4, 17.2, 17.6, 16.5, 13.2, 9.4, 10.7, 11.7, 6.2, -3.3, 2.0, 5.4, 0.2, 1.3, 1.0, 1.2, 0.8, 6.6, 8.6, 5.2, 6.0, 7.1, 7.2, 2.1, -3.6, -0.8, 2.8, 0.6, -0.1, 2.8, 2.6, -1.2, -0.1, 5.7, 5.4, 4.7, 5.2, 5.0, 4.8, 6.7, 5.4, 5.6, 3.3, 7.9, 7.4, 2.9, 2.9, -1.6, 7.0, 4.3, 3.8, -2.2, -4.3, -10.5, -5.7, -1.0, 2.7, 6.4, -1.3, -3.0, -1.1, -4.5, -5.7, -8.5, -6.6, -3.3, -5.6, -9.2, -7.2, -7.2, -8.2, -7.1, -5.8, -5.7, -6.7, -7.3, -4.0, -5.5, -4.0, -3.4, -0.8, -1.8, -6.0, 0.3, 4.1, 7.0, 9.0, 9.1, 4.0, 2.2, 4.6, 5.9, 2.7, 4.3, 7.4, 1.1, 1.6, 0.3, 3.8, 9.2, 4.8, 3.3, 5.1, 0.0, 2.5, 5.7, 5.5, 7.3, 9.4, 7.3, 9.9, 15.2, 12.1, 10.5, 10.9, 6.9, 8.0, 5.1, -0.2, 0.0, 2.4, 5.8, 8.8, 9.7, 10.5, 5.0, 7.0, 12.9, 13.4, 12.8, 14.9, 16.2, 17.7, 15.1, 16.5, 18.2, 19.8, 13.7, 8.5, 10.7, 9.7, 9.8, 9.7, 10.9, 10.7, 15.6, 20.3, 19.9, 16.6, 9.2, 15.1, 14.2, 20.3, 21.6, 18.6, 14.9, 16.2, 21.0, 19.4, 17.6, 14.2, 18.2, 17.2, 16.3, 18.7, 24.1, 25.5, 17.8, 15.8, 16.2, 16.2, 23.6, 22.2, 23.8, 29.5, 30.0, 27.9, 20.9, 26.0, 25.5, 20.5, 18.3, 22.0, 20.6, 22.2, 25.0, 28.3, 27.6, 28.2, 25.8, 25.0, 25.3, 25.5, 26.4, 22.4, 19.1, 16.9, 24.6, 21.4, 18.0, 24.3, 22.8, 22.6, 24.4, 23.4, 25.5, 28.1, 27.4, 28.4, 27.3, 27.6, 30.2, 26.4, 25.8, 26.5, 27.7, 32.4, 32.5, 32.3, 28.5, 23.9, 21.5, 26.9, 26.0, 29.2, 30.5, 30.4, 26.1, 29.5, 25.6, 23.6, 24.6, 23.6, 26.2, 25.6, 31.6, 24.1, 24.2, 27.0, 33.3, 28.3, 29.9, 29.4, 26.5, 30.7, 23.6, 21.3, 21.9, 23.6, 23.3, 27.9, 26.4, 26.9, 24.3, 28.5, 32.0, 32.2, 33.9, 32.9, 32.7, 29.6, 30.4, 31.3, 27.5, 26.1, 23.5, 26.5, 23.9, 30.4, 31.9, 28.3, 29.7, 26.1, 32.4, 31.7, 31.6, 30.9, 31.4, 34.3, 33.8, 33.3, 26.8, 28.9, 26.7, 28.4, 26.7, 24.8, 22.8, 28.1, 25.7, 22.6, 19.2, 25.0, 25.9, 26.8, 28.0, 28.1, 28.8, 30.2, 26.9, 27.1, 27.9, 27.6, 28.4, 24.8, 18.7, 25.4, 27.6, 25.7, 26.4, 27.2, 27.6, 28.3, 28.0, 27.7, 28.3, 25.9, 19.6, 25.7, 27.8, 19.8, 28.0, 28.5, 26.3, 23.7, 21.7, 25.0, 23.3, 25.6, 24.2, 26.0, 22.8, 25.7, 19.6, 17.2, 21.1, 21.9, 24.7, 26.2, 22.6, 22.0, 21.5, 15.4, 10.0, 17.4, 20.6, 20.1, 16.3, 22.0, 20.2, 20.8, 23.6, 17.3, 25.2, 23.7, 20.1, 10.0, 4.0, 5.8, 14.6, 13.3, 11.8, 10.5, 8.5, 12.0, 12.8, 10.1, 11.4, 15.6, 17.6, 11.8, 7.0, 9.0, 9.4, 4.4, 3.9, 9.0, 10.8, 6.4, 1.7, 3.1, 3.1, 5.0, 10.0, 10.9, 11.8, 6.6, -1.4, 2.4, 4.2, 3.5, 1.7, 7.6, 8.1, 6.4, 3.5, -0.1, -1.4, 1.3, 4.0, 5.2, 6.8, 7.3, 0.3, -1.7, 1.3, 2.8, 0.3, 1.9, 7.9, 4.1, 4.6, 3.7, 6.6, 8.9, 2.5, 5.3, 12.3, 7.6, 4.9, 1.9, 2.2, -5.6, -6.8, -3.3, 3.1, -0.5, 4.8, 3.4, 1.0, -4.9, -0.9, 0.3, 1.6, -1.2, -7.7, 0.2, 5.5, 3.9, -0.2, -4.1, -12.4, -6.4, -2.5, 1.2, 2.3, 6.1, 0.4, -3.3, -1.9, -1.3, -1.0, 1.4, -0.1, -0.1, -0.1, 3.2, 5.4, 6.2, 6.3, 7.8, 10.9, 7.1, -1.2, 1.6, 8.3, 10.4, 10.7, 7.4, 2.8, 4.3, 9.4, -0.5, -3.8, 3.5, 2.5, 4.8, 8.6, 12.9, 16.3, 13.9, 5.2, 10.3, 11.8, 8.3, 10.6, 15.9, 15.6, 17.0, 19.3, 17.3, 10.6, 13.5, 7.3, 7.7, 10.4, 6.7, 8.1, 9.8, 8.1, 11.0, 12.5, 14.6, 15.2, 21.1, 12.0, 8.7, 10.0, 15.8, 10.3, 8.6, 15.8, 13.8, 11.4, 13.1, 20.0, 22.1, 22.4, 17.6, 20.1, 23.2, 17.0, 12.7, 14.3, 16.6, 18.0, 19.3, 22.2, 19.9, 19.0, 22.5, 25.7, 18.6, 21.8, 19.9, 17.5, 22.0, 25.3, 29.2, 21.8, 24.9, 23.1, 19.7, 20.9, 21.8, 24.8, 24.4, 25.9, 23.6, 26.4, 23.6, 25.4, 20.3, 22.9, 17.1, 21.6, 23.8, 22.9, 25.4, 21.4, 25.1, 26.7, 24.0, 25.0, 26.9, 27.4, 27.7, 26.7, 18.9, 26.1, 28.2, 23.9, 23.4, 23.4, 27.7, 29.3, 28.8, 28.1, 28.6, 21.7, 25.6, 24.6, 26.7, 27.0, 29.4, 30.5, 26.2, 31.4, 32.7, 32.6, 30.4, 23.5, 31.6, 25.3, 24.7, 28.1, 31.1, 29.9, 30.4, 31.3, 28.3, 29.8, 30.4, 26.7, 26.0, 27.3, 28.5, 29.4, 29.9, 31.3, 33.1, 34.3, 33.2, 31.3, 29.7, 28.5, 29.2, 31.7, 29.7, 27.1, 28.2, 26.2, 29.9, 30.8, 30.3, 32.0, 31.6, 26.3, 32.0, 33.6, 27.7, 30.0, 25.4, 22.7, 27.8, 29.5, 31.9, 32.4, 30.6, 30.0, 31.8, 28.9, 31.1, 25.9, 21.6, 27.4, 22.2, 25.3, 28.0, 30.2, 26.5, 29.9, 25.7, 29.8, 31.1, 31.1, 27.8, 29.8, 28.3, 27.4, 24.0, 27.8, 23.7, 22.6, 27.1, 26.5, 25.7, 26.8, 27.2, 26.4, 26.9, 27.2, 28.0, 26.9, 25.7, 27.1, 24.5, 19.3, 25.7, 28.7, 25.2, 20.5, 25.6, 27.4, 21.6, 26.6, 24.5, 25.6, 25.8, 26.9, 20.3, 19.5, 22.2, 20.8, 17.2, 19.3, 14.2, 12.5, 15.3, 19.5, 20.3, 15.0, 16.1, 20.5, 19.8, 21.4, 24.4, 26.8, 19.8, 7.8, 13.1, 17.0, 15.7, 17.0, 14.5, 18.3, 14.2, 10.5, 13.7, 16.4, 14.2, 15.8, 17.3, 19.0, 18.8, 18.1, 17.2, 15.6, 14.8, 17.2, 17.3, 19.6, 15.0, 14.4, 8.3, 7.7, 12.7, 10.5, 10.1, 8.0, 9.3, 8.6, -0.6, 2.2, 3.9, 8.5, 8.7, 7.8, 4.7, 4.7, 7.2, 5.3, 11.3, 7.2, 1.2, -2.2, -2.8, -2.8, -4.2, 1.8, 5.6, 3.8, 5.7, 10.0, 11.4, 7.4, 6.0, 5.2, 6.1, 8.7, 8.0, 2.5, 1.8, -0.4, -1.2, 3.2, -1.9, -5.7, -1.8, -2.6, -1.6, 1.7, 1.5, -4.0, -2.1, -6.1, -6.7, -4.5, -3.0, -7.2, -7.8, -8.7, -10.8, -7.5, -3.8, -1.1, 0.1, 0.6, 4.4, 3.1, 4.4, 3.0, 4.5, 3.2, 4.1, -0.8, 3.1, 8.5, 4.9, 1.7, -0.4, 1.2, 1.5, -1.4, -3.4, -4.0, -4.7, -6.9, -8.2, -5.9, -6.9, -0.7, 0.9, 5.1, 6.0, -0.9, -1.9, 4.3, 9.8, 11.3, 4.2, 6.1, 5.7, 1.8, 6.7, 10.7, 8.9, 7.8, 8.4, 11.7, 8.2, 5.1, 8.0, 5.2, 13.4, 16.3, 17.5, 13.8, 10.3, 9.5, 12.1, 11.0, 13.7, 13.4, 14.8, 18.7, 17.8, 14.5, 13.5, 13.3, 7.1, 9.0, 16.7, 11.0, 4.9, 9.0, 11.2, 13.6, 20.6, 18.3, 10.7, 10.2, 12.5, 18.2, 16.7, 15.4, 13.5, 12.2, 11.2, 15.1, 16.2, 12.6, 13.6, 15.2, 24.3, 12.5, 11.6, 13.5, 19.7, 13.7, 26.2, 25.5, 18.0, 18.4, 20.5, 19.6, 23.2, 20.4, 17.0, 12.5, 19.6, 20.2, 15.5, 20.6, 19.0, 22.0, 20.7, 18.4, 15.0, 18.6, 13.7, 17.2, 23.0, 18.0, 20.4, 20.3, 22.2, 24.0, 24.0, 26.2, 27.7, 27.0, 29.4, 30.5, 28.4, 28.3, 28.1, 26.5, 26.3, 26.3, 27.1, 30.5, 33.6, 27.8, 27.4, 26.9, 32.0, 32.2, 34.7, 27.2, 25.7, 25.7, 28.7, 32.7, 23.0, 32.6, 34.6, 32.4, 32.1, 32.2, 27.2, 28.4, 27.2, 23.1, 30.7, 31.5, 32.4, 32.3, 31.9, 29.6, 29.9, 27.7, 25.9, 32.2, 31.2, 32.7, 30.1, 33.4, 34.0, 34.0, 32.4, 33.3, 34.0, 33.0, 31.1, 27.5, 32.3, 31.0, 32.3, 34.5, 36.0, 35.7, 29.7, 31.4, 30.7, 28.5, 31.5, 31.6, 28.7, 31.4, 31.5, 29.7, 26.7, 32.7, 31.3, 29.2, 28.2, 31.7, 34.2, 33.7, 33.2, 33.5, 34.5, 28.7, 27.1, 31.7, 32.0, 31.0, 29.6, 31.7, 32.8, 31.0, 25.7, 23.6, 26.3, 28.2, 30.4, 31.0, 31.9, 32.6, 31.2, 32.7, 32.5, 32.0, 30.9, 27.5, 29.7, 31.0, 26.0, 23.8, 30.6, 22.7, 23.0, 27.8, 25.6, 22.5, 24.0, 26.9, 25.6, 21.5, 23.0, 23.2, 22.9, 22.7, 21.7, 22.8, 24.4, 15.2, 24.8, 27.0, 27.5, 27.5, 19.8, 25.0, 25.8, 22.1, 15.6, 19.5, 18.3, 17.5, 20.0, 21.8, 23.5, 24.1, 22.2, 17.0, 18.3, 16.2, 23.4, 18.7, 12.0, 4.5, 6.0, 12.5, 17.5, 17.7, 19.2, 15.5, 16.5, 17.2, 12.7, 15.0, 19.5, 21.3, 20.7, 19.0, 8.9, 4.2, 7.1, 12.0, 16.6, 19.8, 18.2, 14.2, 6.4, 8.0, 11.4, 5.3, 6.1, 8.0, 8.5, 12.7, 14.8, 10.1, 3.3, 2.7, -1.5, 1.6, 5.2, 8.5, 8.2, 6.0, 0.8, 1.8, -0.1, 2.4, 4.6, 0.4, 1.3, 7.1, 4.7, 3.9, 2.8, 5.5, 9.4, 9.8, 11.0, 3.4, 3.1, 4.4, 7.3, 6.4, 3.4, 3.7, 0.4, -5.2, -5.6, -4.6, 7.1, 3.1, -1.5, 0.0, -3.5, -3.8, -7.4, -4.1, -3.6, -4.5, -3.9, -0.7, 1.6, -7.8, -9.5, -5.0, 3.1, 1.8, 2.4, 0.1, 3.4, 6.9, 10.2, 11.5, 2.0, -3.2, -3.2, -1.4, -1.9, -2.0, -1.4, 0.0, -5.0, -3.5, 0.8, 3.0, 8.8, 2.9, 6.9, 0.8, -6.3, 1.8, -0.7, 1.0, 2.5, 1.0, 2.8, 5.3, 3.4, 5.6, 1.5, 1.5, 0.3, -0.7, 2.9, 4.6, 3.9, 1.5, 5.6, 8.5, 10.8, 9.6, 11.6, 10.3, 10.7, 11.1, 9.5, 9.6, 8.8, 5.9, 5.5, 8.3, 10.0, 10.6, 10.5, 9.6, 13.5, 11.7, 15.2, 12.8, 9.4, 9.5, 12.9, 11.4, 13.0, 13.4, 14.5, 17.5, 11.2, 13.9, 10.9, 14.0, 12.5, 12.7, 20.1, 14.0, 19.7, 19.7, 13.4, 9.3, 5.6, 11.7, 16.5, 13.6, 6.4, 9.2, 11.7, 12.3, 14.9, 17.8, 13.0, 16.3, 15.0, 20.0, 20.2, 22.0, 23.4, 24.7, 24.9, 28.0, 26.9, 26.5, 27.9, 23.7, 21.7, 18.2, 22.2, 21.1, 21.4, 25.8, 24.8, 25.4, 26.8, 24.8, 26.5, 17.4, 22.6, 24.0, 18.9, 21.7, 22.1, 23.6, 23.3, 23.3, 26.0, 24.5, 24.1, 23.2, 23.4, 25.1, 20.7, 25.0, 27.3, 26.7, 29.7, 27.0, 19.5, 21.8, 26.4, 25.7, 28.7, 31.0, 31.7, 33.0, 32.8, 34.2, 24.3, 28.2, 28.2, 29.9, 21.6, 27.4, 26.7, 27.8, 28.4, 29.2, 28.7, 29.6, 29.6, 30.7, 32.1, 31.4, 26.0, 31.4, 33.8, 31.7, 32.3, 33.4, 34.3, 34.0, 33.0, 31.7, 32.7, 34.9, 29.4, 28.2, 27.5, 29.6, 32.0, 28.2, 32.1, 33.4, 35.7, 35.0, 33.7, 32.7, 32.5, 30.5, 24.0, 31.8, 33.7, 34.0, 35.2, 35.8, 34.2, 31.2, 30.2, 31.8, 34.5, 33.9, 33.3, 34.5, 33.8, 34.2, 33.3, 35.9, 35.5, 34.7, 35.0, 35.6, 34.3, 34.7, 35.4, 35.7, 36.5, 36.7, 36.0, 37.0, 38.2, 37.2, 36.5, 35.2, 37.9, 32.0, 30.0, 31.3, 33.4, 28.0, 29.0, 30.0, 29.5, 30.7, 26.5, 26.0, 29.7, 30.9, 28.8, 31.7, 29.5, 31.2, 32.3, 30.4, 28.6, 23.3, 28.0, 25.2, 26.8, 26.0, 25.3, 24.8, 20.0, 20.2, 19.8, 21.1, 21.9, 22.8, 20.8, 22.1, 15.1, 23.8, 22.5, 25.3, 23.5, 22.5, 24.0, 22.7, 23.4, 22.7, 24.4, 24.8, 16.9, 18.3, 22.4, 21.3, 21.8, 19.8, 17.7, 15.9, 19.7, 22.0, 21.0, 14.2, 15.7, 15.7, 17.4, 17.3, 16.4, 19.1, 20.0, 22.7, 22.2, 19.3, 14.8, 16.2, 19.1, 13.0, 14.1, 9.3, 9.7, 14.8, 11.1, 14.0, 17.5, 10.8, -2.6, 3.7, 3.6, 4.5, 6.6, 11.3, 11.4, 10.7, 10.2, 4.6, 6.7, 5.9, 9.8, 14.2, 12.2, 5.6, -1.9, 9.0, 6.9, 6.4, -2.6, 0.0, -0.9, 5.6, 6.8, 8.6, 6.4, 6.3, 3.6, 8.6, 3.9, 6.5, 10.2, 7.4, 9.8, 8.6, 1.3, -1.2, 2.6, 1.8, -0.9, 0.1, 6.6, 0.1, -5.0, -4.0, 0.5, -1.4, -2.2, -4.6, -2.9, -1.2, 2.1, 0.2, -1.6, 3.9, 4.5, 3.2, -2.5, -2.7, -1.6, -1.9, -0.4, 0.7, 2.5, 4.5, 7.1, 8.0, 3.3, 1.3, 1.8, 3.6, 4.4, 6.0, -0.7, -0.2, 1.3, 6.6, 4.8, -0.9, 0.2, 2.9, -0.5, 5.1, 5.8, 5.8, 5.9, 2.6, -2.5, -3.6, -2.1, 0.2, 1.5, 1.3, -1.0, -0.6, 3.4, 7.9, 0.4, 3.1, 7.4, 7.2, 7.2, 9.7, 10.4, 13.4, 12.9, 16.0, 10.5, 1.8, 1.6, 3.8, 4.4, 3.5, 7.8, 7.6, 8.9, 11.1, 6.4, 9.8, 8.6, 14.0, 10.0, 5.4, 7.3, 8.0, 9.2, 8.7, 12.5, 16.3, 18.2, 7.7, 5.2, 11.0, 4.4, 9.2, 10.0, 8.9, 11.5, 18.6, 22.6, 14.2, 16.0, 17.9, 15.3, 10.4, 19.7, 15.3, 10.8, 13.4, 18.2, 20.7, 20.8, 17.7, 13.4, 16.4, 18.3, 21.7, 14.6, 19.0, 19.5, 12.8, 14.1, 18.8, 23.4, 27.2, 19.0, 19.2, 23.3, 11.9, 18.4, 18.9, 27.4, 22.4, 19.4, 21.7, 18.4, 28.2, 26.3, 25.6, 23.0, 14.4, 16.1, 20.6, 18.7, 21.0, 24.0, 27.9, 23.0, 21.5, 26.0, 24.3, 25.3, 29.3, 25.7, 25.7, 25.7, 27.5, 24.5, 23.7, 28.4, 28.6, 27.5, 27.4, 28.2, 25.7, 29.4, 21.7, 26.7, 24.4, 29.2, 31.0, 30.1, 30.7, 32.1, 34.3, 32.0, 32.4, 33.8, 26.3, 22.2, 24.0, 24.8, 29.9, 25.4, 25.0, 27.6, 28.7, 26.5, 22.4, 30.4, 32.6, 32.7, 31.9, 28.8, 26.9, 25.2, 30.6, 28.0, 29.8, 29.0, 31.7, 31.0, 28.2, 25.8, 26.6, 31.7, 32.4, 29.5, 31.8, 32.2, 28.8, 31.9, 33.8, 34.3, 34.7, 36.0, 35.8, 35.8, 30.4, 31.1, 34.4, 35.7, 35.5, 34.4, 33.5, 31.7, 27.3, 26.0, 33.3, 33.5, 33.7, 32.3, 31.5, 28.5, 29.3, 28.0, 28.8, 27.5, 26.3, 29.6, 31.3, 31.2, 30.7, 30.6, 32.0, 33.1, 28.3, 29.3, 25.7, 24.0, 27.7, 23.6, 27.9, 27.0, 28.0, 30.5, 29.5, 24.5, 29.1, 25.2, 25.8, 26.6, 25.4, 26.9, 26.5, 27.7, 28.9, 29.3, 30.1, 30.0, 25.7, 21.0, 26.4, 26.5, 26.9, 20.5, 19.0, 19.0, 22.4, 22.9, 23.4, 25.8, 24.7, 23.8, 21.7, 17.1, 19.7, 17.9, 15.6, 16.5, 19.5, 20.8, 22.0, 25.0, 24.4, 24.9, 20.7, 20.6, 18.9, 20.1, 20.4, 22.1, 19.8, 20.3, 15.5, 17.6, 19.4, 14.6, 23.4, 22.3, 20.3, 15.1, 13.1, 13.2, 16.9, 14.3, 9.2, 14.1, 9.0, 4.4, 9.0, 7.2, 8.3, 9.7, 11.7, 10.7, 11.9, 13.5, 7.6, 9.3, 17.7, 20.8, 20.0, 17.1, 11.5, 11.0, 9.4, 9.2, 7.2, -4.5, -2.3, 2.4, 2.4, 0.7, -5.0, -3.9, -6.1, 0.1, 5.3, 2.4, -2.4, -4.7, -5.5, -6.5, -5.2, -3.0, -2.5, -0.5, 3.0, 4.9, 7.1, 1.0, -1.7, -4.7, -3.0, -2.0, -1.0, 2.2, -1.5, -1.9, -2.8, 0.5, -0.2, -5.9, -7.6, -5.5, -7.5, -2.0, 0.0, -1.0, -1.2, -2.9, -2.5, -5.3, -6.6, -6.5, -6.7, -3.0, -2.8, 0.5, -1.0, -6.2, -5.1, -5.6, -5.5, -7.6, -3.7, 3.6, 5.7, 6.2, 0.3, -4.6, -6.8, -5.2, -2.4, -2.6, -2.3, -6.1, -2.5, -1.7, 0.4, 1.5, 3.9, 5.5, 4.5, 1.4, 2.9, 2.9, 0.2, 0.9, 1.1, 0.5, -2.3, -0.1, 3.1, 1.2, 8.5, 11.2, 5.7, 5.1, 11.7, 4.6, 1.2, -2.0, -1.0, 2.7, 1.3, 3.9, 4.6, 13.9, 5.8, 6.6, 2.9, 0.7, 3.2, 7.1, 4.1, 12.4, 6.9, 6.9, 5.6, 6.9, 8.1, 12.7, 13.4, 14.7, 10.3, 14.2, 9.8, 16.6, 18.3, 13.3, 10.8, 9.7, 10.9, 11.7, 13.2, 16.2, 11.2, 16.8, 17.7, 17.2, 16.8, 20.4, 20.7, 21.8, 15.6, 14.4, 15.2, 16.4, 21.5, 22.0, 26.0, 25.2, 22.8, 23.7, 22.5, 28.9, 17.6, 19.0, 17.7, 15.5, 14.6, 13.7, 16.3, 19.2, 18.3, 21.4, 15.0, 11.0, 14.7, 20.3, 22.8, 16.5, 14.5, 20.0, 21.7, 20.0, 20.7, 25.1, 18.9, 17.8, 22.7, 26.4, 23.2, 23.2, 24.4, 21.7, 24.5, 29.2, 21.9, 17.9, 22.2, 27.6, 23.7, 20.9, 23.5, 24.7, 25.6, 26.9, 19.0, 24.8, 27.7, 28.5, 26.1, 26.6, 27.5, 29.5, 31.3, 31.4, 30.2, 24.8, 26.0, 26.3, 28.0, 27.6, 28.8, 31.5, 24.9, 22.3, 27.8, 28.6, 29.3, 28.5, 29.4, 28.3, 29.8, 29.7, 31.4, 24.2, 26.6, 29.0, 29.5, 25.2, 27.7, 23.2, 29.2, 27.8, 22.3, 29.3, 26.4, 29.7, 30.8, 28.7, 27.9, 27.2, 32.3, 29.5, 27.2, 26.3, 30.2, 25.6, 22.3, 28.3, 29.5, 26.9, 28.8, 29.3, 27.1, 29.7, 26.4, 28.7, 30.7, 31.8, 32.2, 33.9, 32.0, 34.3, 32.5, 35.1, 35.0, 36.0, 35.5, 37.0, 36.7, 34.7, 33.2, 35.3, 33.0, 30.6, 23.9, 27.5, 27.0, 29.2, 29.6, 30.0, 22.9, 27.4, 27.0, 27.2, 28.2, 28.0, 29.4, 25.7, 20.0, 28.4, 28.8, 28.0, 25.4, 27.5, 24.1, 27.4, 27.3, 27.2, 26.7, 27.2, 27.3, 26.5, 26.2, 27.4, 29.0, 22.5, 17.7, 16.0, 18.5, 23.0, 24.5, 23.8, 25.3, 20.5, 21.2, 16.8, 16.1, 19.7, 21.3, 22.4, 23.0, 24.8, 21.7, 20.5, 21.8, 20.0, 22.6, 19.7, 20.5, 15.6, 18.1, 17.1, 21.3, 21.8, 20.9, 22.9, 19.0, 16.4, 13.4, 16.2, 20.0, 21.8, 14.7, 14.5, 15.5, 14.3, 16.0, 13.9, 16.0, 18.0, 13.8, 12.5, 13.2, 15.4, 15.0, 14.0, 16.6, 16.3, 11.5, 13.6, 13.4, 14.5, 16.6, 13.0, 11.6, 8.1, 2.8, 3.3, 4.2, 10.5, 2.6, 9.9, 12.7, 11.6, 3.4, 0.3, 4.3, 4.5, 4.4, 5.9, 4.9, 9.5, 4.8, 0.7, -5.3, 6.9, 3.9, 4.0, 3.0, -0.2, 1.7, 2.2, 7.8, 1.3, -6.3, -1.7, -5.2, -4.7, -1.9, -1.0, 1.4, -6.2, -6.7, -2.4, -0.9, 3.8, 7.7, -6.2, -1.4, -0.9, -0.7, 2.7, 1.5, -5.8, -7.5, -1.4, 8.4, 8.6, 2.4, 3.3, 10.5, 7.4, 5.3, 7.2, 5.8, 4.2, 8.4, 5.2, 6.1, 4.8, -3.8, -2.6, 0.3, 3.0, 4.7, 6.8, 0.1, -3.2, 1.3, 1.6, 4.3, 5.5, 4.4, 5.4, 0.4, 5.9, 5.9, 5.9, 7.3, 3.9, 4.5, 10.3, 5.2, 8.1, 6.9, 7.4, 10.5, 10.5, 10.5, 8.0, 3.2, 7.3, 3.4, -3.5, -0.2, 1.2, 2.6, 4.6, 10.7, 3.7, 5.0, 7.6, 9.4, 10.2, 6.1, 5.0, 4.6, 8.0, 9.4, 13.4, 7.7, 12.8, 18.6, 12.9, 10.3, 10.6, 9.8, 13.5, 18.6, 11.8, 15.8, 19.5, 15.0, 10.3, 13.4, 13.8, 9.5, 16.0, 12.4, 20.3, 14.1, 13.0, 15.3, 16.9, 16.9, 10.8, 13.6, 16.5, 20.4, 20.3, 27.3, 23.1, 20.0, 20.5, 21.5, 23.8, 25.4, 18.8, 16.0, 20.7, 25.0, 23.9, 22.1, 27.7, 17.6, 22.7, 25.0, 22.8, 22.2, 18.7, 17.5, 18.8, 18.1, 23.4, 22.0, 19.8, 21.4, 21.8, 22.7, 25.5, 28.1, 21.1, 24.7, 18.9, 21.4, 29.4, 28.1, 29.8, 28.0, 18.3, 25.0, 25.3, 21.4, 24.7, 28.9, 31.5, 24.3, 21.0, 25.5, 27.0, 26.1, 27.9, 30.5, 28.3, 22.2, 24.6, 29.2, 29.9, 23.0, 20.4, 27.5, 24.8, 24.6, 29.1, 23.2, 23.3, 26.1, 29.4, 32.4, 29.5, 23.8, 26.4, 28.2, 28.3, 28.5, 30.5, 31.6, 31.7, 25.5, 26.5, 29.2, 31.6, 27.4, 29.0, 31.2, 29.2, 34.5, 33.5, 29.9, 30.0, 30.8, 33.7, 36.4, 33.7, 33.0, 35.2, 36.7, 35.0, 33.2, 31.3, 33.2, 35.4, 31.8, 25.5, 32.3, 32.7, 26.8, 30.2, 33.2, 34.2, 34.0, 30.8, 32.6, 33.3, 33.6, 34.1, 34.1, 34.0, 35.5, 30.6, 27.7, 27.0, 31.6, 28.2, 30.5, 26.2, 28.7, 28.6, 28.2, 26.7, 30.4, 30.5, 26.4, 23.7, 30.0, 28.4, 29.3, 28.5, 30.7, 22.8, 28.0, 27.5, 19.8, 27.1, 29.9, 27.7, 30.4, 20.5, 20.0, 22.5, 23.7, 23.6, 27.2, 28.4, 28.3, 29.5, 21.6, 21.1, 26.5, 27.3, 30.2, 29.9, 25.4, 22.7, 17.9, 16.7, 21.2, 21.2, 19.0, 22.0, 24.9, 18.0, 22.3, 23.9, 17.7, 17.4, 18.6, 20.6, 22.6, 22.3, 22.5, 20.6, 23.2, 21.3, 22.1, 24.0, 21.0, 12.8, 13.7, 17.3, 18.6, 15.4, 15.2, 19.6, 20.1, 20.8, 22.1, 21.0, 17.0, 18.5, 20.6, 17.2, 17.3, 16.4, 9.0, 8.7, 13.2, 12.8, 13.7, 11.7, 15.8, 14.3, 19.5, 14.5, 12.1, 16.5, 18.3, 15.2, 15.0, 2.5, 1.3, 5.7, 5.5, 8.7, 5.5, 5.9, 2.1, 0.5, 3.5, 5.3, -9.3, -4.9, -4.9, -1.0, 5.0, -1.3, -2.0, -3.7, -2.9, -5.1, -4.7, -1.9, -1.2, -1.4, -3.5, -2.5, 3.6, 1.8, -2.5, -6.8, -3.9, 4.9, 5.9, 1.0, -4.3, -2.3, 0.9, 7.1, 2.1, -2.5, -4.9, -1.1, 0.9, 5.9, 5.1, 2.0, 1.5, 4.1, 3.9, 5.7, 5.9, 0.4, -3.7, -1.5, 3.3, 0.2, 0.7, -1.2, -8.1, -5.2, -6.7, 1.7, -0.6, -3.4, -4.9, -8.8, -9.1, -3.9, -1.1, -0.4, 1.4, 0.2, -0.9, -0.9, 1.4, 0.0, 4.2, -0.1, -6.4, -8.2, -6.6, -3.9, -3.2, -2.2, -1.2, 5.6, 7.3, 7.8, 8.4, 4.9, 1.5, 5.4, 11.3, 10.8, -3.6, 0.9, 6.0, 2.7, 3.1, 0.3, 0.3, 3.2, 8.1, 7.7, 7.2, 5.3, 4.5, 3.5, 6.2, 10.9, 16.0, 8.7, 0.5, 4.2, 8.4, 6.9, 6.1, 8.5, 10.1, 5.1, 8.5, 14.4, 9.7, 11.8, 6.2, 11.0, 8.6, 11.1, 17.2, 14.2, 11.5, 14.2, 12.8, 14.6, 16.3, 19.0, 22.6, 21.8, 21.8, 22.0, 19.9, 21.0, 16.3, 12.3, 14.8, 15.7, 18.2, 16.9, 21.3, 23.8, 24.2, 19.3, 18.5, 22.5, 18.0, 17.1, 16.5, 17.0, 22.5, 24.1, 21.2, 22.7, 24.8, 22.2, 20.6, 26.7, 25.5, 26.6, 25.3, 17.7, 18.0, 19.9, 25.8, 19.8, 24.5, 24.5, 25.7, 25.4, 25.2, 25.2, 28.2, 26.7, 23.0, 24.3, 25.3, 21.9, 23.5, 25.5, 20.4, 27.0, 24.5, 25.7, 27.4, 18.6, 16.4, 23.9, 25.8, 27.5, 24.7, 26.0, 25.2, 26.8, 25.5, 24.0, 26.6, 27.2, 21.9, 24.7, 22.9, 27.2, 23.2, 23.3, 24.0, 24.3, 25.9, 28.7, 28.0, 23.9, 28.5, 27.3, 25.6, 24.9, 21.6, 24.5, 27.2, 20.6, 27.2, 25.0, 29.4, 30.3, 24.4, 25.0, 30.3, 29.5, 26.6, 27.0, 24.5, 32.4, 26.0, 30.0, 26.5, 30.2, 23.7, 29.7, 33.1, 31.0, 33.5, 30.7, 26.8, 22.3, 23.7, 28.6, 27.5, 26.2, 28.8, 27.5, 30.7, 31.3, 31.7, 29.5, 30.8, 30.5, 31.5, 32.0, 31.0, 29.9, 32.2, 33.4, 30.5, 29.5, 30.8, 31.9, 32.2, 33.0, 32.1, 29.9, 22.5, 27.8, 26.5, 25.6, 29.9, 26.0, 22.7, 22.7, 25.7, 26.6, 23.7, 27.6, 27.7, 27.9, 28.5, 28.0, 27.9, 23.5, 25.3, 27.2, 25.8, 25.5, 25.1, 24.3, 23.9, 24.5, 25.0, 17.7, 20.3, 20.4, 20.0, 22.2, 24.7, 19.9, 21.4, 20.7, 21.8, 18.1, 19.7, 16.7, 13.3, 14.4, 16.5, 19.8, 19.3, 21.1, 21.1, 19.2, 20.4, 22.0, 20.1, 17.5, 12.3, 13.6, 18.8, 14.0, 14.6, 15.1, 13.0, 16.2, 18.5, 16.8, 15.6, 17.2, 17.7, 16.0, 17.8, 17.9, 17.8, 14.8, 12.1, 5.7, 9.6, 9.5, 1.8, 7.4, 8.2, 10.2, 2.3, 3.5, 3.5, 5.5, 4.1, 3.6, 7.3, 3.7, -2.0, -0.4, 5.0, 8.4, 1.8, 1.4, -0.1, -3.0, -5.2, 3.2, 3.2, 7.1, 6.9, 6.7, 1.0, -7.2, -6.5, -8.3, -4.0, -5.6, -6.9, -6.6, -11.0, -9.8, -7.2, -1.1, -1.2, -1.2, 5.0, 3.0, 4.1, 6.1, 0.8, -6.3, -4.7, -0.5, -6.1, -5.0, -2.2, 3.7, 4.8, -3.1, -3.7, -2.7, 6.7, 3.3, 1.5, 1.0, 1.8, 1.6, -6.2, -5.1, -2.2, 1.3, 5.2, 10.5, 9.7, 3.1, 2.6, 0.9, -3.8, -7.5, -3.5, -9.1, -2.0, 3.9, 4.3, 0.7, -3.4, -4.5, -3.0, -2.2, -3.9, -2.6, -2.2, -0.6, 0.6, 4.0, 6.6, 4.8, 8.5, 8.5, 5.3, 4.3, 8.0, 11.5, 11.5, 3.2, -1.0, -2.3, 3.1, 7.7, 8.2, 13.7, 12.0, 5.6, 5.7, 4.8, 5.4, 3.4, 0.8, 0.5, 3.2, 7.3, 14.5, 9.4, 10.7, 8.3, 13.5, 14.4, 12.1, 11.5, 16.0, 14.3, 9.2, 12.0, 16.1, 14.2, 11.9, 7.8, 6.1, 7.4, 6.5, 14.3, 14.6, 15.5, 16.8, 17.2, 14.4, 20.6, 21.8, 21.7, 21.4, 21.3, 23.5, 20.3, 16.0, 16.0, 17.2, 16.7, 21.8, 14.6, 22.6, 20.8, 18.1, 17.8, 17.8, 18.8, 16.7, 18.3, 20.3, 21.9, 17.1, 18.2, 19.3, 20.6, 25.0, 21.5, 19.8, 17.8, 19.2, 23.5, 23.6, 28.2, 18.3, 17.5, 21.2, 17.2, 19.2, 19.7, 23.4, 25.8, 27.8, 27.5, 22.0, 22.9, 23.0, 22.0, 22.2, 26.3, 20.9, 23.0, 21.2, 26.7, 22.0, 24.8, 28.0, 28.9, 20.5, 20.2, 20.9, 25.3, 27.1, 27.0, 31.1, 27.1, 22.6, 21.5, 23.4, 21.5, 23.1, 25.2, 29.5, 26.4, 25.2, 27.0, 29.3, 29.3, 29.6, 30.6, 30.3, 30.5, 29.8, 25.8, 28.2, 29.5, 30.3, 29.5, 27.8, 30.9, 28.0, 23.5, 27.1, 24.6, 25.0, 26.6, 27.2, 31.3, 32.9, 32.5, 29.5, 31.0, 31.0, 27.1, 30.9, 29.9, 31.6, 31.6, 31.4, 31.7, 30.0, 27.6, 28.8, 27.2, 24.3, 30.6, 25.1, 29.9, 30.5, 24.9, 26.7, 31.1, 28.1, 30.7, 31.9, 27.8, 29.7, 29.6, 32.6, 30.2, 28.1, 31.7, 31.0, 31.7, 32.7, 31.2, 33.0, 33.4, 33.6, 33.7, 31.4, 32.5, 33.1, 33.0, 32.1, 32.7, 33.1, 33.4, 33.3, 34.4, 33.6, 27.1, 28.9, 24.8, 28.3, 28.5, 22.4, 20.8, 28.2, 29.5, 30.3, 28.1, 27.0, 27.8, 28.0, 27.4, 28.3, 27.8, 19.5, 23.9, 27.8, 24.0, 24.4, 26.9, 25.1, 24.5, 25.7, 22.3, 25.2, 27.2, 26.5, 26.5, 20.5, 21.9, 21.0, 23.8, 22.5, 24.0, 25.5, 25.7, 25.8, 17.3, 18.8, 19.0, 21.2, 21.0, 16.2, 16.8, 14.7, 21.8, 24.7, 23.0, 23.5, 20.6, 19.8, 14.5, 12.2, 13.7, 13.7, 13.6, 16.1, 15.4, 15.2, 16.7, 18.0, 18.2, 14.7, 10.6, 9.5, 9.4, 5.0, 7.7, 11.4, 10.5, 11.7, 12.4, 11.3, 13.0, 17.7, 16.6, 14.7, 13.5, 15.5, 14.6, 12.1, 3.3, 2.4, 2.1, -1.3, 0.7, 9.2, 5.0, 10.2, 12.0, 9.5, 11.0, 11.6, 12.1, 12.2, 7.4, 5.4, 4.2, 5.1, 11.5, 6.2, 2.4, 5.1, 9.1, 12.9, 9.5, 10.5, 8.8, 9.3, 7.7, 8.5, 5.8, 5.2, 6.4, 2.0, 3.2, 4.8, 5.6, 5.1, 2.7, 1.9, -8.1, -8.8, -6.6, -5.1, -5.6, -0.6, 2.2, 2.9, 0.1, 3.9, 1.1, -5.6, -6.8, -0.8, -0.3, -1.5, 2.5, 0.7, 5.6, 6.4, 4.8, 3.8, 0.3, 6.2, 9.0, 3.3, 6.3, 9.4, 13.1, 10.2, 12.1, 4.5, -0.4, -0.2, 1.1, 5.7, 5.4, 7.7, 5.7, 2.5, 2.0, 0.4, -2.5, 2.8, 7.4, 4.7, 7.9, 6.4, 8.5, 15.5, 12.5, 10.6, 12.0, 10.2, 5.5, 3.1, 6.3, 4.8, 7.9, 10.2, 6.3, 8.2, 4.5, 6.2, 11.7, 8.3, 6.6, 11.5, 5.3, 11.4, 11.9, 11.1, 7.0, 4.4, 6.2, 6.1, 6.5, 7.9, 5.1, 8.8, 9.6, 12.2, 10.5, 12.8, 14.4, 13.7, 14.1, 17.2, 18.6, 9.5, 12.5, 7.5, 9.1, 11.1, 16.2, 11.1, 11.5, 15.4, 15.2, 9.5, 13.4, 16.9, 18.2, 17.0, 18.4, 18.4, 16.8, 14.2, 17.4, 21.1, 17.1, 23.2, 21.6, 21.9, 20.8, 23.8, 16.4, 13.8, 12.7, 17.4, 14.7, 14.0, 19.1, 16.3, 23.8, 25.0, 25.5, 30.6, 27.4, 12.3, 17.0, 20.6, 23.6, 14.9, 25.0, 23.4, 28.7, 27.1, 24.5, 27.4, 23.8, 24.0, 23.0, 26.9, 28.7, 27.4, 30.5, 28.6, 30.5, 29.4, 28.1, 25.7, 22.9, 21.2, 18.0, 20.3, 21.1, 21.4, 24.2, 26.4, 28.9, 29.4, 25.9, 25.3, 30.8, 33.4, 30.8, 36.0, 25.6, 26.3, 30.5, 26.8, 29.8, 26.7, 30.9, 30.4, 26.5, 20.2, 27.8, 32.0, 32.5, 33.4, 31.5, 32.0, 32.3, 33.4, 32.4, 20.6, 26.8, 29.5, 29.3, 24.2, 27.6, 30.5, 33.7, 34.0, 31.1, 32.5, 30.1, 29.1, 31.6, 34.1, 34.0, 31.6, 28.0, 25.5, 31.7, 32.2, 28.9, 28.0, 30.0, 30.3, 31.3, 32.6, 32.7, 34.4, 35.4, 36.2, 36.7, 34.5, 33.8, 35.0, 35.6, 37.7, 37.4, 35.8, 30.5, 35.2, 31.2, 29.9, 30.9, 32.3, 31.9, 31.9, 28.6, 29.6, 32.1, 24.5, 27.5, 27.9, 28.6, 28.5, 30.7, 30.5, 31.3, 30.3, 27.1, 27.6, 20.5, 26.5, 29.0, 26.9, 29.3, 31.2, 28.4, 25.1, 25.9, 20.4, 25.3, 25.9, 25.1, 24.8, 25.5, 26.3, 21.9, 20.4, 24.7, 25.5, 26.5, 25.5, 25.0, 25.1, 23.4, 24.9, 24.6, 24.1, 24.6, 20.9, 21.8, 21.6, 23.3, 18.3, 19.2, 21.5, 21.9, 22.4, 21.6, 16.7, 16.8, 19.3, 19.5, 21.9, 22.6, 18.8, 19.3, 19.5, 18.6, 18.1, 8.9, 7.9, 15.0, 18.7, 17.3, 12.3, 13.4, 15.1, 16.5, 13.8, 18.9, 15.9, 14.5, 15.9, 15.9, 12.7, 6.6, 11.1, 10.7, -0.9, 6.0, 8.7, 13.5, 15.6, 12.0, 13.0, 9.8, 11.8, 11.2, 11.0, 12.4, 12.2, 13.8, 16.4, 13.6, 14.5, 12.0, 2.3, -3.9, -1.9, -0.8, 1.4, 1.0, 5.4, 2.4, 3.6, 3.5, 7.2, 1.6, 6.0, 6.5, 3.7, 3.6, 3.9, 2.7, 5.3, -0.2, -1.5, 2.6, -0.2, -5.5, -5.9, 2.2, 4.3, 4.5, 2.4, -0.7, -4.2, -3.1, -10.8, -5.5, -1.4, -1.3, -3.9, -0.1, 6.4, 6.0, 7.6, 7.2, 7.3, 10.1, 7.7, 4.6, 4.4, 4.1, -0.1, -3.8, -0.5, 4.3, 7.2, 9.2, 6.7, 7.4, 4.0, 1.0, -2.0, 0.6, -2.4, -4.3, 0.7, 3.9, 8.0, 5.7, 6.3, 6.5, 3.6, 4.6, 4.9, 3.3, 5.1, 0.9, 0.3, 3.5, 2.9, 2.9, 5.7, 7.6, 7.8, 8.5, 9.3, 3.9, -1.0, 2.4, 9.0, 10.6, 9.3, 9.2, 16.5, 11.2, 6.4, 1.0, 6.4, 6.8, -5.2, 1.0, 3.7, 7.4, 8.3, 9.9, 11.4, 15.3, 7.4, 3.6, 6.6, 9.9, 16.3, 19.9, 15.3, 14.4, 17.6, 19.7, 19.7, 21.9, 20.0, 20.7, 19.2, 16.3, 21.6, 10.7, 9.8, 10.2, 11.8, 16.5, 16.9, 19.9, 23.8, 23.0, 23.9, 27.4, 24.7, 18.9, 18.9, 16.8, 14.5, 19.1, 23.4, 25.3, 23.1, 21.6, 23.4, 24.3, 26.1, 27.8, 26.6, 28.3, 21.4, 27.9, 17.1, 18.1, 17.4, 21.5, 24.7, 16.2, 21.5, 24.5, 26.9, 28.2, 28.8, 26.1, 27.3, 26.9, 19.3, 18.5, 11.3, 19.6, 23.0, 25.2, 25.9, 28.8, 29.4, 30.3, 30.5, 33.7, 34.4, 27.9, 27.5, 21.4, 23.2, 26.7, 28.4, 30.0, 28.5, 17.9, 25.5, 26.8, 27.1, 27.8, 30.7, 31.4, 32.5, 30.3, 24.7, 30.1, 30.6, 19.9, 27.2, 21.8, 23.9, 27.1, 26.2, 27.1, 23.3, 27.7, 28.9, 28.7, 23.2, 28.0, 29.5, 29.8, 22.9, 24.6, 28.9, 25.3, 29.5, 30.8, 32.4, 31.6, 30.2, 29.0, 29.3, 30.0, 31.3, 33.8, 34.3, 35.2, 31.1, 28.6, 28.6, 32.9, 34.7, 34.7, 36.1, 30.9, 33.4, 33.7, 30.9, 34.2, 33.9, 34.6, 33.0, 32.9, 32.6, 31.9, 31.4, 33.2, 35.1, 36.0, 35.2, 36.0, 32.5, 34.6, 33.1, 35.0, 35.2, 36.9, 35.2, 32.9, 32.5, 28.9, 29.6, 28.7, 28.6, 26.4, 28.4, 30.4, 32.6, 32.5, 16.2, 9.0, 4.6, -0.5, 1.0, 3.7, 6.8, 9.2, 6.5, 1.6, -1.9, -0.1, 8.2, 7.3, 4.5, 8.5, 6.8, 8.2, 5.8, 6.4, 2.7, 3.2, 1.8, 5.0, 4.2, 0.4, 0.1, 4.4, 5.4, -0.2, 2.3, 4.0, 2.0, 3.9, 6.6, 3.9, 1.3, 3.4, 2.9, 3.8, 1.4, -1.5, 4.8, 4.6, 2.2, 2.8, 2.4, 6.9, 4.8, 5.8, 10.7, 5.5, 1.6, -2.6, -3.4, -5.0, -0.3, 3.4, -2.1, -0.4, 3.6, -0.2, -0.6, -3.2, -1.5, 0.0, -0.2, -0.5, 3.0, 6.2, 8.1, 9.9, 8.6, 5.7, 6.3, 10.5, 6.1, 11.0, 6.6, -0.4, 3.8, 5.6, -0.4, 2.9, 7.0, 12.2, 10.8, 10.0, 7.8, 6.4, 7.2, 9.4, 4.0, 4.6, 4.4, 1.2, 1.9, 5.8, 6.8, 10.4, 11.5, 0.2, 2.0, 6.0, 5.8, 8.0, 11.3, 13.9, 8.8, 3.1, 6.7, 8.2, 10.9, 12.8, 17.0, 18.2, 13.2, 12.0, 11.3, 12.2, 16.3, 20.2, 19.5, 19.9, 22.3, 22.4, 21.6, 11.8, 15.7, 19.0, 20.2, 15.6, 13.6, 17.9, 20.2, 20.6, 26.8, 17.8, 15.4, 11.9, 13.3, 15.1, 17.0, 21.2, 19.4, 20.2, 17.8, 18.6, 18.0, 21.2, 18.0, 14.2, 14.0, 17.6, 19.4, 20.8, 25.3, 26.1, 27.9, 19.6, 20.1, 21.4, 25.5, 24.0, 19.9, 20.7, 22.4, 22.2, 23.2, 26.6, 28.6, 26.7, 25.6, 22.5, 22.0, 24.1, 26.4, 24.8, 25.4, 25.8, 26.8, 25.0, 19.5, 17.3, 20.4, 24.7, 22.4, 20.5, 24.3, 21.0, 22.4, 20.0, 19.0, 26.7, 25.3, 26.5, 26.6, 27.6, 29.9, 28.4, 26.6, 26.7, 27.2, 29.2, 29.7, 28.3, 27.6, 23.6, 30.4, 23.2, 20.1, 23.8, 25.4, 23.0, 28.7, 25.8, 21.0, 25.9, 20.7, 20.8, 25.1, 29.1, 26.5, 26.9, 27.6, 30.3, 28.1, 31.9, 22.8, 24.2, 24.5, 31.4, 24.2, 23.6, 23.9, 26.9, 27.5, 27.1, 29.5, 28.3, 27.5, 27.4, 27.5, 26.8, 21.2, 25.2, 28.1, 32.5, 31.7, 32.8, 31.0, 32.2, 34.3, 29.0, 32.0, 33.0, 32.9, 31.4, 33.6, 33.8, 31.8, 30.7, 27.3, 30.1, 32.4, 29.7, 33.2, 31.1, 29.1, 26.0, 29.4, 27.9, 28.8, 29.7, 27.9, 28.4, 29.3, 30.0, 24.0, 26.0, 29.1, 27.0, 25.9, 29.2, 28.1, 28.1, 22.4, 20.3, 20.5, 27.7, 26.4, 26.4, 26.6, 24.3, 25.3, 27.3, 24.9, 22.8, 17.5, 21.0, 20.7, 23.1, 23.6, 24.0, 25.0, 20.5, 16.5, 19.5, 17.0, 15.2, 19.8, 17.7, 16.0, 16.3, 13.4, 13.7, 16.7, 19.4, 19.7, 20.3, 17.8, 20.6, 22.0, 20.6, 19.6, 15.4, 17.6, 22.5, 23.7, 22.4, 22.0, 14.5, 17.2, 11.2, 16.4, 14.1, 12.2, 17.2, 17.9, 16.8, 17.8, 13.8, 17.8, 18.9, 18.6, 12.4, 14.9, 17.4, 15.2, 11.6, 9.2, 8.7, 9.2, 11.3, 14.3, 15.8, 18.0, 19.1, 17.0, 10.4, 16.9, 15.2, 18.1, 13.2, 11.1, 10.4, -1.1, 0.7, 2.9, 4.7, 9.3, 10.9, 8.7, 2.1, -0.5, 0.0, 0.0, -0.2, -2.6, -0.7, 3.2, 2.8, 2.6, 5.6, 3.9, 6.3, 0.8, -0.9, -2.0, -4.4, -4.4, -2.9, 0.3, -3.2, -4.9, -2.3, -5.6, -6.3, -4.3, -2.9, -4.4, -6.3, -3.3, 0.0, -2.9, -9.1, -4.6, 4.0, 2.4, 3.4, -1.6, -7.4, -5.1, -1.7, 2.6, -3.7, 1.2, 3.0, 5.4, 5.3, 3.8, -0.8, 2.1, 3.9, 2.5, 2.0, -2.0, 4.1, 7.0, 3.0, 5.0, 1.6, 4.0, 4.8, 8.7, 6.2, 1.5, -6.6, -2.0, 3.7, 6.4, 6.5, 9.7, 11.1, 11.3, 5.8, -5.0, -4.5, 5.6, 7.6, 7.2, 10.6, 15.1, 12.8, 4.0, 8.2, 5.5, 7.6, 7.7, 8.6, 3.1, 5.4, 6.6, 5.9, 8.2, 13.7, 10.8, 0.3, 3.9, 8.6, 13.8, 14.6, 3.8, 8.5, 13.9, 12.2, 16.2, 10.8, 11.5, 8.1, 11.9, 13.3, 14.4, 12.7, 10.9, 14.3, 14.7, 13.9, 11.1, 9.0, 14.8, 17.9, 21.2, 22.2, 14.4, 13.2, 22.0, 25.0, 18.9, 16.4, 11.6, 12.1, 11.1, 10.7, 8.9, 13.5, 15.5, 19.8, 15.0, 13.8, 15.4, 19.0, 19.4, 20.4, 23.8, 23.8, 24.3, 26.0, 18.0, 18.2, 19.8, 22.7, 25.1, 25.2, 24.1, 29.0, 15.3, 18.1, 21.6, 24.5, 26.5, 19.3, 20.6, 19.9, 20.6, 21.1, 24.0, 22.5, 26.6, 24.7, 24.8, 26.3, 22.9, 16.1, 20.3, 23.0, 24.5, 22.4, 24.4, 23.9, 25.7, 28.3, 28.4, 28.1, 27.2, 29.9, 29.2, 29.7, 32.8, 33.7, 30.9, 30.9, 33.2, 22.8, 24.3, 26.3, 26.1, 27.7, 33.8, 31.9, 23.2, 22.0, 21.3, 20.5, 26.8, 26.7, 25.6, 29.9, 25.5, 23.8, 21.9, 21.2, 25.5, 28.6, 30.6, 31.0, 27.6, 26.0, 25.3, 23.5, 25.9, 32.4, 31.7, 31.5, 28.9, 27.1, 30.3, 28.5, 29.0, 31.5, 29.8, 29.5, 32.8, 32.3, 31.5, 29.3, 30.2, 28.8, 27.2, 29.4, 31.1, 30.7, 30.6, 30.9, 32.3, 32.1, 32.0, 33.3, 33.3, 32.6, 32.3, 31.8, 32.8, 33.9, 33.3, 33.8, 32.3, 31.8, 32.8, 33.0, 33.1, 33.5, 34.2, 34.0, 35.0, 29.8, 27.9, 30.6, 28.5, 27.1, 27.8, 28.1, 25.3, 29.4, 32.3, 31.3, 23.8, 28.2, 27.3, 22.8, 22.9, 25.1, 26.2, 26.5, 27.4, 24.0, 24.9, 25.9, 26.5, 27.4, 20.1, 23.4, 25.3, 26.0, 24.2, 26.9, 26.2, 27.2, 27.6, 27.3, 27.2, 23.9, 25.2, 24.2, 16.1, 13.6, 15.2, 18.9, 19.4, 20.2, 21.3, 14.3, 15.9, 17.9, 19.4, 17.2, 16.1, 17.8, 15.1, 13.8, 15.2, 16.7, 19.7, 19.2, 21.0, 19.9, 16.1, 17.7, 10.3, 14.7, 17.3, 11.9, 12.2, 12.7, 10.1, 5.1, 5.8, 6.6, 4.9, 8.9, 11.9, 14.1, 16.8, 18.3, 13.6, 3.7, 8.9, 10.9, 10.7, 10.9, 8.5, 9.5, 8.3, 11.4, 14.0, 12.6, 13.5, 9.2, 9.4, 9.0, 7.8, 6.9, 9.8, 10.6, 12.9, 2.7, 1.3, 2.8, 4.9, 5.4, 12.6, 10.7, 10.1, 8.7, 8.6, 0.3, -3.1, 2.1, 8.0, 2.6, 0.6, -1.3, 5.4, 1.4, 7.6, 7.8, 9.1, 2.9, -2.2, -3.5, -2.9, -0.8, 1.0, 5.7, 8.7, 1.8, -2.8, -8.3, -7.5, -6.9, -0.5, -1.8, 3.5, 2.9, 0.3, 0.9, 1.3, 6.4, 4.6, 0.7, 1.2, -0.1, -0.9, -4.9, -3.2, -4.3, -1.1, 3.9, 1.4, 3.5, 6.7, 1.9, -1.3, 2.1, 4.3, 5.1, 1.3, 6.0, 3.9, 0.3, -3.9, -2.9, -2.3, 1.3, 4.0, 5.3, 3.4, -5.3, -5.9, -2.2, -0.4, 0.0, -2.0, 0.7, 4.1, 2.9, 6.5, 7.2, 6.0, 1.1, 0.1, 1.5, 2.8, 1.1, 4.8, 8.4, 4.1, 0.9, 0.3, 2.1, 2.7, -0.3, -0.3, 8.8, 11.2, 14.9, 14.5, 8.5, 8.1, 9.8, 10.5, 9.7, 15.6, 12.1, 11.9, 7.5, 7.1, 12.7, 12.5, 15.7, 11.7, 15.8, 8.9, 5.5, 8.8, 11.3, 13.3, 10.4, 9.5, 11.1, 14.1, 12.9, 14.0, 13.9, 19.4, 18.2, 21.4, 15.3, 14.3, 13.5, 13.4, 16.3, 21.4, 21.4, 17.7, 16.7, 17.6, 14.1, 14.0, 14.5, 16.1, 18.4, 20.7, 15.3, 21.5, 26.7, 22.5, 17.8, 17.0, 22.5, 22.1, 14.6, 16.5, 18.7, 20.1, 21.7, 22.3, 22.9, 20.1, 25.0, 20.0, 26.2, 24.4, 25.6, 22.3, 24.8, 16.4, 19.5, 22.7, 26.4, 24.1, 21.5, 24.6, 27.8, 31.3, 30.6, 25.5, 24.4, 25.1, 25.7, 22.3, 28.8, 28.3, 20.9, 23.4, 21.5, 24.9, 29.4, 27.9, 17.9, 23.7, 24.7, 21.8, 25.3, 20.7, 21.0, 24.9, 21.3, 17.4, 19.5, 26.5, 28.3, 27.9, 29.7, 26.5, 27.9, 24.1, 22.4, 28.1, 27.4, 28.1, 26.1, 28.2, 29.7, 31.0, 25.3, 23.8, 24.5, 23.7, 30.0, 23.3, 26.7, 30.3, 30.7, 29.3, 26.7, 27.7, 30.8, 26.7, 31.7, 28.0, 33.0, 33.9, 34.7, 34.9, 35.0, 34.4, 32.7, 31.2, 28.9, 28.4, 30.6, 32.2, 33.7, 32.7, 32.6, 30.3, 32.1, 30.5, 29.5, 27.3, 27.6, 29.6, 28.7, 29.1, 29.2, 22.7, 25.5, 27.3, 27.9, 26.8, 26.8, 29.3, 30.3, 25.3, 24.2, 30.2, 30.3, 27.5, 29.5, 26.1, 27.3, 28.6, 18.7, 24.9, 24.6, 26.5, 26.6, 28.6, 22.8, 27.0, 27.7, 27.7, 20.7, 26.9, 20.7, 28.6, 29.6, 26.1, 20.9, 19.5, 20.3, 23.4, 24.5, 24.5, 24.9, 22.8, 18.8, 19.5, 22.8, 22.1, 23.9, 17.3, 22.7, 19.2, 12.2, 18.6, 20.2, 20.4, 20.7, 21.1, 20.4, 21.7, 14.9, 13.4, 16.3, 20.4, 18.1, 15.7, 15.2, 16.7, 21.2, 22.8, 21.9, 16.7, 14.1, 17.7, 20.6, 19.5, 12.4, 13.8, 8.9, 9.9, 17.2, 19.1, 14.3, 10.5, 5.3, 12.0, 10.5, 1.9, -0.2, 3.5, 10.7, 9.2, 6.8, 5.1, 3.4, 2.0, 1.5, 4.8, 8.9, 0.5, 3.3, 0.3, -0.8, -0.7, 7.5, 8.9, 7.4, -3.7, -1.3, 1.3, -4.8, -8.0, -8.3, -4.1, -1.3, -2.7, -6.9, -6.2, -0.9, -2.8, -2.1, -2.9, -0.5, -4.2, -8.3, -6.6, -5.5, -3.9, 1.0, 1.0, 4.0, 7.8, 6.3, 6.2, 6.6, 6.3, 5.1, 3.2, 1.4, -3.3, -2.3, 0.5, 1.2, 1.6, 0.7, -6.9, -0.7, 1.5, -0.1, -0.7, -0.7, -1.3, -1.8, -3.1, -4.7, -0.5, 0.5, 4.6, 5.8, 2.8, 0.7, 3.3, 3.4, -1.5, -6.4, -4.5, 1.6, 5.4, 5.5, 6.2, 2.9, 3.4, 4.1, -3.6, -10.3, -7.2, -4.4, -2.5, 0.9, -0.1, -4.2, -2.8, -2.3, -3.8, 0.0, 1.4, 3.7, 0.0, 0.1, 1.2, 1.7, 0.8, 2.3, 4.9, 10.6, 5.1, 1.8, 0.8, 1.4, 4.5, 2.9, -1.8, -1.1, 1.0, -1.2, -0.6, 0.6, 4.4, 4.9, 6.5, 7.9, 9.8, 9.0, 7.5, 5.7, 5.8, 4.2, 3.5, 3.5, 6.4, 7.9, 13.8, 9.5, 6.4, 6.9, 8.6, 10.6, 13.0, 15.0, 17.7, 20.5, 22.2, 19.8, 6.5, 5.8, 10.9, 14.9, 10.9, 13.1, 15.5, 19.5, 20.4, 15.1, 17.8, 23.3, 21.2, 19.2, 23.9, 17.6, 18.0, 21.7, 22.7, 26.3, 18.7, 22.1, 23.3, 20.3, 20.9, 20.5, 19.6, 22.6, 21.5, 24.1, 26.8, 23.0, 18.2, 16.6, 24.3, 27.6, 27.6, 23.9, 22.5, 25.5, 20.4, 26.1, 29.2, 29.8, 20.1, 25.2, 26.7, 26.9, 24.2, 24.7, 26.8, 21.8, 26.1, 22.9, 25.3, 25.9, 20.3, 18.8, 25.8, 25.5, 27.7, 26.6, 25.7, 26.0, 26.4, 27.8, 28.3, 26.1, 28.5, 26.5, 20.4, 22.8, 24.3, 24.6, 25.2, 27.5, 27.5, 23.1, 29.8, 31.4, 29.5, 32.5, 30.7, 26.3, 22.4, 25.6, 25.9, 30.7, 22.3, 23.1, 21.6, 25.4, 25.7, 23.9, 24.5, 26.4, 24.7, 25.2, 25.9, 28.7, 23.0, 22.6, 25.7, 28.6, 28.1, 31.0, 28.0, 29.7, 25.9, 29.2, 28.7, 28.8, 26.0, 29.1, 24.5, 24.9, 25.5, 28.1, 29.7, 30.1, 29.3, 30.9, 33.5, 33.5, 25.7, 30.3, 31.7, 30.2, 31.8, 30.7, 32.1, 31.3, 25.4, 28.9, 28.5, 28.3, 30.0, 32.1, 30.1, 26.2, 25.9, 29.3, 22.9, 25.3, 26.1, 27.8, 29.0, 28.5, 28.8, 28.6, 28.4, 26.1, 25.3, 27.3, 27.1, 21.1, 26.5, 27.7, 27.7, 28.8, 25.3, 25.6, 24.2, 24.6, 25.1, 28.5, 27.5, 22.5, 22.8, 20.3, 23.3, 27.0, 23.0, 17.8, 17.8, 22.2, 23.4, 26.4, 27.2, 17.5, 21.5, 23.0, 17.2, 17.9, 21.6, 22.1, 22.1, 21.6, 22.8, 23.3, 11.4, 11.8, 12.4, 17.1, 17.3, 17.5, 15.2, 15.2, 21.1, 20.4, 20.8, 13.7, 12.2, 11.4, 12.6, 16.1, 16.7, 16.6, 15.3, 15.6, 16.7, 12.0, 15.3, 17.5, 14.2, 14.9, 12.8, 15.6, 15.7, 13.3, 15.6, 16.5, 15.5, 13.8, 13.9, 13.0, 13.8, 17.4, 16.1, 13.7, 16.3, 8.7, 0.7, 1.9, 4.4, 4.3, 3.5, 4.7, 9.2, 5.4, 4.6, 5.1, 4.7, 1.4, 2.8, 9.6, 7.4, 7.0, 1.2, 4.1, 6.4, 8.9, -3.7, -3.1, -1.3, 0.3, 3.5, 2.7, 2.1, 3.4, 6.9, 6.1, 5.2, -1.9, -3.7, -2.5, -0.4, -1.8, -8.8, -4.2, -1.3, 3.4, 5.8, 8.6, 7.2, 1.5, 4.0, 4.8, 3.8, 2.5, -4.6, -12.6, -10.4, -8.1, -4.2, -2.5, 0.1, -8.6, -11.7, -5.8, -1.5, 0.4, -3.7, -1.4, -3.1, -4.4, -2.5, -0.3, 4.2, 2.7, 0.6, 4.3, 3.1, 4.6, 4.2, 5.1, 5.1, 0.9, -0.2, -1.9, 2.0, 5.2, 4.8, 2.0, 4.3, 1.7, 3.5, 6.6, 14.1, 4.5, 7.1, 11.4, 4.1, -1.4, -0.6, 3.9, -4.1, -1.7, 7.6, 9.3, 7.7, 2.4, 7.9, 11.3, 14.4, 15.1, 16.7, 14.5, 6.4, 14.2, 15.0, 8.3, 4.1, 9.9, 11.3, 15.2, 18.7, 15.3, 21.5, 14.0, 7.7, 1.7, 0.2, 2.2, 3.7, 6.5, 14.1, 15.3, 21.0, 20.2, 22.3, 19.1, 14.1, 9.9, 11.6, 13.2, 15.7, 13.7, 11.6, 12.5, 16.6, 9.7, 11.2, 16.3, 19.1, 14.2, 14.1, 23.4, 27.3, 26.3, 12.7, 12.9, 16.1, 16.7, 18.5, 16.0, 17.4, 18.4, 21.5, 19.6, 21.5, 25.5, 24.4, 28.2, 27.2, 27.2, 16.5, 19.5, 19.5, 16.2, 17.3, 18.4, 21.5, 25.9, 28.6, 27.3, 27.3, 22.7, 14.6, 15.1, 21.7, 27.5, 26.3, 27.8, 29.9, 27.8, 27.0, 32.1, 31.6, 25.3, 28.2, 27.6, 24.1, 21.1, 31.0, 29.2, 27.3, 24.4, 25.1, 28.6, 26.6, 26.1, 25.7, 25.2, 29.2, 33.0, 29.2, 31.6, 35.2, 34.4, 37.2, 35.6, 33.2, 23.4, 26.2, 29.6, 32.9, 24.6, 29.0, 23.7, 31.3, 23.5, 29.7, 32.0, 29.4, 31.5, 33.8, 32.8, 33.3, 33.9, 34.1, 33.1, 32.9, 32.2, 32.1, 30.9, 31.0, 33.5, 34.4, 31.4, 30.5, 27.0, 27.5, 28.4, 29.0, 30.3, 28.5, 30.1, 28.7, 31.1, 31.0, 31.2, 32.8, 32.6, 33.1, 33.2, 31.7, 32.2, 26.6, 28.7, 27.6, 26.1, 27.7, 29.3, 26.3, 26.7, 27.7, 27.6, 26.3, 29.3, 29.8, 29.6, 23.8, 21.3, 26.7, 25.3, 25.1, 27.8, 24.1, 28.8, 26.6, 25.2, 25.4, 20.3, 25.5, 27.4, 25.2, 20.4, 23.2, 26.2, 27.9, 27.9, 27.9, 26.2, 25.2, 26.4, 24.2, 24.7, 20.6, 23.3, 26.8, 27.4, 27.5, 26.3, 25.7, 24.0, 21.4, 18.6, 22.7, 17.5, 15.9, 19.2, 21.5, 22.7, 23.8, 22.3, 23.1, 23.8, 22.6, 18.7, 25.0, 22.8, 20.0, 17.4, 17.8, 15.4, 19.1, 20.6, 18.7, 18.3, 12.0, 15.9, 16.6, 17.9, 7.8, 10.6, 16.8, 18.0, 12.3, 16.7, 17.5, 18.9, 18.1, 15.1, 15.4, 13.7, 11.2, 14.0, 15.0, 14.2, 11.4, 13.0, 9.1, 9.0, 7.8, 9.7, 8.6, 7.7, 4.6, 7.9, 7.0, 10.4, 10.2, 9.7, 11.3, 11.4, 10.6, 9.7, 7.1, 9.4, 10.7, 9.1, 11.6, 7.9, 8.2, 8.1, 9.9, 9.9, 6.7, 5.7, 10.1, 9.5, 10.6, 10.1, 8.3, 8.9, 7.4, 11.6, 6.9, 4.3, 8.1, 10.4, 12.1, 12.0, 9.3, 7.2, 3.9, 4.0, 2.9, 5.2, 5.3, -0.1, -0.4, -0.8, -9.4, -13.1, -8.3, -3.8, -1.6, 1.0, -6.7, -3.1, 1.7, -2.0, -0.4, 2.8, -8.5, -11.7, -7.6, -3.7, 2.1, 5.1, 1.7, 6.9, 9.8, 5.2, 5.6, 6.8, 7.7, 5.0, -1.6, 0.9, 3.2, 6.6, 7.3, 12.2, 13.7, 13.4, 7.2, 3.4, 5.3, 0.1, 1.8, 7.8, 5.2, 3.8, 3.0, 5.1, 4.4, 8.4, 7.1, 4.6, 5.3, 5.4, 4.8, 6.5, 9.8, 11.3, 10.0, 10.4, 4.2, 5.1, 6.5, 9.4, 8.0, 9.0, 5.9, 11.5, 13.7, 8.6, 5.0, 2.7, 5.2, 10.2, 10.7, 11.6, 14.3, 15.2, 15.2, 17.5, 10.5, 10.0, 12.6, 14.0, 12.4, 17.2, 18.2, 12.2, 12.8, 12.6, 13.5, 15.8, 17.8, 15.1, 13.6, 11.3, 14.3, 14.8, 19.2, 10.0, 11.6, 16.1, 14.1, 13.2, 15.1, 13.3, 11.7, 8.4, 15.4, 21.3, 24.2, 22.9, 13.6, 13.5, 12.7, 20.7, 14.5, 17.1, 18.4, 21.0, 23.4, 18.6, 22.1, 24.2, 18.5, 22.5, 24.0, 26.3, 24.2, 27.1, 27.2, 19.5, 20.4, 21.3, 23.3, 22.6, 25.2, 24.6, 26.8, 26.0, 26.0, 18.5, 24.2, 27.0, 25.1, 25.1, 26.6, 27.6, 26.2, 23.6, 23.0, 24.0, 24.6, 24.6, 25.2, 24.6, 17.8, 18.8, 19.8, 23.5, 25.2, 22.4, 25.9, 24.2, 27.3, 22.8, 28.8, 28.3, 31.8, 27.8, 24.4, 25.4, 27.9, 25.3, 25.4, 26.8, 28.6, 29.2, 29.2, 25.6, 30.0, 27.7, 22.0, 23.5, 30.4, 26.2, 26.6, 25.8, 24.4, 28.0, 25.2, 26.9, 28.3, 28.9, 29.6, 30.1, 30.6, 27.2, 30.0, 27.4, 31.3, 29.8, 28.8, 29.8, 26.0, 30.5, 31.8, 29.4, 31.0, 33.6, 32.4, 32.4, 33.3, 33.2, 34.0, 36.2, 35.0, 35.5, 35.0, 34.1, 32.4, 32.0, 27.0, 27.8, 30.5, 30.0, 31.3, 30.2, 31.8, 32.7, 33.4, 33.1, 28.8, 25.9, 31.2, 28.2, 32.2, 30.6, 24.9, 27.8, 30.6, 32.2, 33.3, 23.6, 20.7, 29.8, 29.8, 28.7, 26.4, 23.8, 25.8, 26.3, 27.5, 27.9, 26.4, 26.0, 29.0, 30.2, 27.4, 25.0, 24.2, 26.7, 23.0, 25.0, 23.9, 21.6, 22.6, 20.2, 26.7, 24.5, 24.9, 24.3, 24.4, 24.8, 19.8, 24.8, 23.3, 23.2, 24.8, 27.3, 26.9, 26.6, 25.4, 25.0, 20.8, 15.8, 15.1, 16.9, 20.9, 21.4, 23.1, 23.0, 24.0, 22.5, 21.2, 24.7, 21.6, 16.3, 14.5, 15.0, 17.3, 20.4, 13.4, 14.1, 18.4, 16.9, 19.3, 16.6, 19.5, 18.4, 12.3, 15.3, 9.9, 6.0, 7.2, 11.6, 7.3, 4.5, 11.0, 14.0, 11.3, 11.8, 15.0, 11.4, 12.3, 5.8, 2.0, 6.3, 6.4, 1.9, 5.5, 7.1, 7.8, 11.3, 12.1, 12.7, 10.2, 10.6, 6.6, 1.9, 3.4, 7.4, 11.6, 13.5, 14.3, 13.3, 13.5, 11.4, 11.5, 5.6, -4.6, -5.8, -4.0, -0.1, 0.9, -2.2, -3.0, -0.9, -3.4, 1.0, 5.0, 6.4, 3.4, 3.2, 2.9, 1.6, 2.2, 1.2, 8.7, 10.8, 1.3, -1.2, 6.0, 3.6, 4.8, 4.2, 2.6, 1.2, 1.6, 2.4, -2.2, -1.2, -1.1, 0.5, 6.7, 1.7, -3.4, -4.9, -9.6, -8.0, -0.4, -3.8, -7.6, -7.0, -2.0, 5.2, 6.2, 6.2, 6.6, 5.8, 2.6, 6.5, 12.0, 13.1, 13.7, 6.9, 0.4, -0.5, 0.3, 4.7, 3.0, 5.0, 5.2, 7.0, 2.8, 8.5, 6.6, 4.5, 5.9, 8.4, 8.4, 6.7, 6.8, 7.1, 9.3, 10.8, 14.2, 11.7, 9.1, 9.8, 13.7, 11.1, 17.8, 16.0, 18.1, 16.8, 10.8, 7.8, 3.2, 6.0, 9.6, 13.4, 12.7, 16.7, 16.4, 11.2, 9.4, 11.7, 9.8, 13.9, 8.1, 8.4, 9.4, 16.3, 14.4, 14.5, 9.4, 7.7, 10.4, 12.9, 12.2, 10.6, 15.8, 10.8, 15.0, 20.4, 16.9, 17.1, 22.1, 12.2, 14.3, 14.6, 12.7, 13.4, 15.1, 15.7, 17.1, 15.8, 18.1, 25.3, 21.7, 22.8, 23.5, 20.0, 22.1, 21.0, 24.0, 19.6, 26.0, 24.9, 23.4, 20.6, 21.0, 21.0, 21.9, 16.2, 22.0, 22.3, 20.5, 16.8, 20.8, 16.4, 20.2, 19.7, 19.6, 22.4, 20.7, 21.4, 21.7, 24.6, 28.5, 30.2, 25.6, 22.2, 18.6, 23.4, 22.3, 24.3, 24.4, 23.3, 17.8, 22.4, 23.7, 26.8, 25.2, 29.9, 27.6, 24.8, 26.6, 19.5, 19.5, 27.8, 28.5, 27.0, 21.3, 22.6, 26.8, 26.4, 31.4, 26.2, 27.8, 31.7, 31.2, 25.2, 24.4, 24.0, 22.6, 26.2, 24.2, 29.8, 24.4, 26.4, 30.6, 30.4, 22.3, 22.3, 27.0, 30.2, 30.0, 29.1, 29.0, 24.4, 29.2, 31.9, 31.5, 31.4, 31.4, 31.2, 31.5, 32.4, 31.6, 28.0, 24.8, 27.0, 30.5, 28.6, 32.3, 30.6, 30.5, 29.8, 29.8, 34.3, 34.3, 34.4, 34.1, 33.6, 34.1, 33.7, 33.8, 32.9, 32.2, 30.6, 32.0, 30.6, 28.7, 33.9, 31.1, 33.3, 34.1, 33.5, 32.4, 27.1, 29.6, 29.2, 31.0, 30.4, 25.0, 21.7, 26.6, 29.4, 31.3, 31.1, 25.7, 23.6, 29.1, 25.1, 26.4, 24.3, 26.1, 28.6, 29.2, 30.2, 30.7, 21.5, 23.8, 25.7, 20.8, 20.8, 27.8, 27.9, 27.2, 25.3, 24.9, 25.1, 27.2, 20.7, 22.5, 23.5, 18.3, 18.6, 21.8, 21.1, 21.1, 23.8, 23.1, 21.4, 23.8, 22.2, 23.0, 22.8, 24.2, 25.7, 24.4, 25.2, 24.9, 17.8, 17.4, 20.3, 22.7, 23.1, 22.9, 22.4, 22.4, 21.2, 14.7, 12.0, 17.5, 17.2, 17.6, 17.6, 19.2, 17.1, 12.2, 13.3, 13.7, 14.4, 17.1, 17.0, 18.0, 14.8, 9.8, 11.6, 13.5, 11.8, 10.2, 14.1, 14.1, 14.9, 13.0, 14.5, 12.3, 14.9, 14.7, 11.3, 10.2, 8.8, 1.1, 0.1, 3.8, 2.2, 7.9, -0.8, 8.2, 9.9, 7.6, 4.0, -1.0, 1.8, 5.6, 8.0, 9.4, 11.6, 8.4, 3.6, 4.4, 2.9, 4.2, 0.6, -6.2, -1.8, 2.3, 1.9, 4.8, 4.7, 5.8, 2.0, -1.7, -0.7, -4.3, -7.9, -9.7, -7.2, -4.9, 0.2, 0.3, -4.7, -6.2, -5.7, -0.5, 2.3, 2.9, 1.8, -9.5, -5.2, 2.4, -2.0, -0.8, -4.7, -4.2, -6.4, -2.3, 1.5, 5.2, -1.0, 3.9, 1.1, 1.1, -0.6, 3.2, 2.5, 1.4, -2.2, -5.7, -3.8, -5.4, -0.5, 5.1, 4.7, 7.3, 3.4, 1.2, 2.4, -0.4, 2.1, 0.1, 4.6, -4.4, -1.2, 2.4, 2.5, 3.0, 9.5, 9.8, 6.8, 6.4, 7.4, 9.4, 6.6, 6.5, 8.4, 12.7, 11.9, 9.7, 9.6, 8.6, 7.9, 9.0, 3.5, 4.5, 4.6, 5.8, 8.2, 11.8, 14.8, 11.8, 11.5, 12.0, 14.9, 12.7, 12.9, 12.9, 13.5, 13.0, 12.7, 13.1, 17.0, 10.4, 8.9, 10.8, 12.7, 14.8, 14.3, 17.3, 15.8, 19.6, 17.8, 11.8, 9.6, 18.4, 12.8, 10.7, 14.3, 10.6, 19.4, 21.5, 18.3, 13.4, 12.8, 14.8, 18.7, 21.4, 25.0, 16.9, 22.3, 22.4, 20.2, 17.8, 18.2, 17.8, 24.3, 21.8, 14.9, 17.6, 21.2, 24.8, 17.3, 14.8, 21.2, 20.5, 22.8, 24.7, 23.7, 21.0, 20.5, 22.8, 26.3, 23.6, 24.6, 26.8, 21.8, 25.8, 21.8, 22.8, 24.6, 22.3, 22.3, 25.9, 30.1, 26.4, 20.8, 20.6, 27.1, 23.4, 26.2, 29.0, 29.0, 20.8, 25.4, 26.0, 29.9, 27.0, 24.0, 24.3, 23.8, 22.4, 23.2, 26.6, 26.7, 19.4, 26.8, 31.2, 23.6, 20.6, 29.9, 29.5, 26.2, 29.5, 30.4, 29.4, 30.6, 28.2, 29.8, 31.2, 32.3, 28.0, 26.6, 31.1, 31.5, 25.0, 24.6, 25.8, 27.5, 28.3, 29.0, 25.6, 27.4, 26.7, 29.8, 30.6, 31.8, 33.5, 33.4, 31.3, 29.7, 31.5, 32.7, 32.7, 33.0, 33.3, 30.5, 27.4, 33.5, 33.9, 34.4, 35.3, 34.2, 35.1, 30.0, 33.1, 32.8, 33.5, 30.3, 31.4, 30.3, 30.5, 28.0, 30.7, 32.0, 29.6, 26.1, 31.2, 33.4, 33.5, 30.3, 31.3, 31.3, 31.1, 30.0, 29.7, 32.2, 31.3, 31.4, 29.5, 24.9, 26.3, 22.8, 30.0, 28.9, 31.7, 25.6, 27.8, 30.0, 24.2, 28.0, 28.8, 27.9, 29.1, 22.3, 20.3, 27.5, 25.5, 22.3, 23.4, 24.2, 24.7, 27.2, 26.2, 25.1, 26.1, 19.4, 27.2, 27.9, 29.4, 26.0, 25.2, 23.9, 25.1, 25.8, 22.0, 20.7, 23.0, 21.9, 22.2, 25.2, 22.6, 21.1, 20.9, 18.4, 17.9, 22.7, 16.9, 23.7, 22.6, 19.5, 21.2, 21.6, 21.5, 16.0, 20.0, 20.4, 16.7, 21.4, 19.5, 17.2, 16.7, 17.3, 20.4, 16.8, 16.6, 13.8, 13.7, 16.4, 18.9, 15.3, 6.9, 14.6, 12.0, 12.3, 15.7, 15.1, 18.3, 16.6, 14.6, 16.9, 16.5, 14.4, 13.5, 8.3, 3.4, 6.4, 11.9, 13.8, 10.6, 12.1, 10.1, 11.0, 10.1, 10.6, 8.6, 11.0, 4.9, 1.6, 3.5, 2.6, 5.0, 7.6, 11.4, 13.0, 1.2, -5.1, -1.8, 1.7, 5.6, 7.0, 0.8, 2.5, -2.8, 0.4, 5.4, 4.2, -0.9, -0.1, -1.6, -3.2, 1.1, 2.0, 3.6, 0.4, -2.9, 2.6, 4.9, -3.2, -0.2, 3.6, 4.5, 7.9, 5.5, 3.5, 4.7, 4.0, 0.1, -0.8, -0.4, 2.2, 0.4, 0.6, 0.3, 0.6, -0.8, -2.4, -2.2, -0.4, -1.8, -3.0, 0.1, 1.1, 0.7, -0.8, 1.6, 3.6, 4.9, 6.0, 6.4, 5.5, 7.9, 4.5, 9.4, 12.5, 5.1, 1.6, -3.1, 0.5, -2.6, 2.3, 3.9, 2.1, 0.6, 6.3, 5.6, 10.6, 6.0, 6.9, 1.4, 0.0, 2.4, 5.0, 5.1, 3.3, 7.0, 8.4, 11.7, 6.2, 5.4, 7.6, 10.2, 5.7, 6.5, 14.2, 18.2, 18.2, 7.0, -0.8, 4.0, 6.8, 13.0, 9.2, 7.4, 8.1, 5.4, 7.0, 5.9, 2.2, 8.4, 6.2, 6.4, 8.9, 12.6, 17.8, 13.0, 1.5, 6.3, 13.8, 13.9, 15.3, 14.9, 14.7, 13.9, 12.9, 17.5, 13.1, 14.3, 16.7, 19.8, 11.2, 10.8, 17.3, 17.8, 19.2, 23.8, 21.1, 19.2, 12.3, 16.9, 10.1, 16.5, 17.5, 21.3, 21.9, 22.0, 19.6, 21.3, 20.9, 20.9, 24.7, 22.6, 19.8, 21.2, 22.4, 17.8, 20.5, 20.9, 25.5, 19.5, 19.2, 21.6, 22.0, 25.5, 24.6, 28.3, 30.2, 28.2, 26.5, 28.0, 29.4, 27.8, 28.2, 25.8, 30.7, 25.5, 18.3, 27.3, 24.4, 22.4, 25.8, 20.5, 23.6, 27.2, 21.1, 25.5, 27.4, 25.4, 24.2, 29.1, 30.5, 32.4, 30.8, 30.8, 25.7, 20.9, 26.8, 26.7, 27.6, 26.6, 24.3, 27.8, 30.6, 31.4, 30.7, 32.9, 35.0, 31.5, 30.6, 34.5, 34.1, 30.4, 32.3, 24.4, 30.6, 26.3, 29.8, 29.6, 33.2, 30.7, 34.0, 27.8, 29.3, 28.0, 24.3, 30.6, 26.8, 26.6, 34.2, 35.0, 34.7, 32.9, 27.2, 25.8, 30.4, 32.2, 30.4, 28.0, 28.0, 30.4, 28.4, 28.8, 31.1, 26.9, 28.7, 30.4, 32.5, 33.1, 32.4, 29.0, 27.4, 26.6, 27.5, 29.9, 30.0, 30.9, 32.1, 31.2, 30.8, 26.4, 28.3, 29.2, 22.8, 28.1, 29.0, 27.8, 27.8, 27.0, 22.7, 28.0, 27.9, 28.7, 22.0, 29.8, 26.3, 25.2, 27.1, 27.0, 23.0, 22.8, 27.5, 28.6, 23.2, 21.2, 25.1, 24.4, 26.5, 27.6, 26.0, 24.3, 21.1, 21.7, 22.7, 18.4, 20.9, 21.0, 21.8, 22.0, 22.0, 22.8, 20.8, 21.0, 22.1, 21.2, 22.9, 25.6, 20.4, 24.2, 22.4, 16.4, 9.4, 14.1, 18.6, 19.3, 19.6, 18.9, 17.4, 12.6, 17.2, 16.8, 16.9, 16.1, 16.7, 17.7, 18.1, 17.3, 17.2, 19.7, 20.8, 17.5, 16.4, 10.0, 7.7, 11.4, 12.9, 12.9, 11.6, 12.3, 16.9, 18.8, 18.9, 19.8, 20.6, 15.8, 12.0, 12.0, 9.6, 5.6, 5.6, 3.2, 0.5, 1.0, 1.2, 7.3, 7.0, 3.3, 0.5, 2.0, 2.7, 5.7, 5.0, 0.3, 0.6, 3.9, 4.9, 3.6, 9.9, 9.9, 4.6, 5.2, 8.4, 4.9, 3.6, 3.8, 4.3, 5.8, 6.3, 4.2, 2.0, 5.1, 8.6, 7.8, 10.3, 9.7, 12.5, 12.4, 10.6, -1.2, -5.5, 0.5, -0.9, 0.8, 0.8, -1.0, -7.1, -3.6, -2.8, -0.3, -3.3, -7.6, -8.8, -6.8, -1.9, -11.0, -8.1, 1.6, -3.4, -8.1, -8.9, -9.8, -6.7, -12.1, -10.6, -8.6, -5.3, -1.8, -2.0, -1.6, -4.8, -5.9, -4.2, -2.6, -3.8, -3.2, -0.4, 1.2, 2.5, 0.6, 1.3, 3.8, 4.7, 0.6, 2.0, 4.7, 3.9, 5.8, 4.7, 4.1, 3.3, 3.5, 4.9, 4.6, 8.2, 4.0, 6.3, 0.8, 2.2, 4.3, 10.6, 12.2, 9.2, 6.4, 7.0, 7.4, 8.2, 8.4, 4.4, 7.0, 10.4, 10.7, 13.1, 12.4, 12.5, 14.6, 13.4, 11.1, 13.7, 17.1, 15.0, 16.4, 7.0, 9.8, 13.2, 14.4, 16.1, 10.2, 9.2, 12.9, 19.2, 13.5, 14.8, 9.4, 19.5, 16.4, 9.9, 12.3, 5.9, 9.2, 13.3, 16.4, 16.3, 13.2, 17.6, 15.4, 18.4, 14.5, 15.5, 21.4, 22.8, 22.7, 17.3, 12.0, 16.6, 16.7, 19.5, 16.4, 15.6, 21.1, 18.4, 19.8, 20.2, 20.5, 12.9, 18.3, 20.9, 23.6, 25.9, 29.4, 26.9, 27.6, 25.5, 20.9, 15.6, 24.7, 22.5, 18.6, 26.3, 26.7, 20.8, 19.2, 23.0, 24.2, 18.2, 20.8, 16.8, 19.3, 22.9, 18.0, 19.7, 24.7, 28.7, 27.0, 24.3, 21.3, 27.0, 29.8, 27.3, 22.8, 20.0, 25.8, 26.8, 29.5, 30.1, 26.6, 26.4, 29.4, 23.6, 22.8, 24.9, 27.2, 28.8, 22.4, 26.7, 27.1, 25.5, 27.0, 29.7, 23.4, 23.3, 25.8, 28.2, 28.5, 29.4, 24.8, 29.4, 29.5, 23.0, 27.7, 26.9, 24.5, 29.7, 26.4, 26.2, 29.6, 28.3, 27.2, 25.0, 30.5, 33.1, 32.0, 27.0, 29.0, 26.2, 25.6, 25.6, 27.5, 28.2, 29.4, 27.2, 30.7, 30.8, 31.2, 32.0, 32.8, 31.8, 32.4, 32.9, 33.4, 33.2, 33.7, 31.5, 30.3, 31.5, 27.6, 29.8, 29.1, 26.8, 26.7, 28.8, 30.2, 26.2, 29.2, 24.3, 25.2, 29.6, 30.8, 33.2, 33.0, 28.2, 30.7, 24.7, 31.6, 25.8, 27.8, 27.5, 28.0, 29.4, 28.6, 25.1, 26.8, 29.6, 30.2, 30.1, 29.6, 30.0, 28.6, 24.1, 24.4, 25.6, 24.4, 25.8, 24.9, 23.3, 23.0, 25.5, 17.8, 21.4, 20.4, 21.8, 23.6, 22.2, 19.1, 22.2, 23.8, 24.4, 17.6, 19.8, 19.6, 18.1, 20.8, 21.5, 22.5, 23.1, 23.2, 15.5, 22.0, 22.8, 19.7, 13.0, 14.4, 17.0, 17.1, 14.8, 16.9, 18.4, 20.6, 19.6, 15.6, 20.4, 21.8, 20.2, 20.0, 18.8, 17.4, 17.3, 17.7, 17.6, 20.5, 12.1, 12.7, 9.0, 6.4, 6.2, 12.9, 14.7, 16.3, 16.5, 10.7, 12.7, 11.6, 14.9, 14.5, 13.3, 12.8, 10.8, 8.6, 9.8, 7.8, 2.0, 5.3, 1.7, 1.0, 3.8, 5.4, 7.5, 9.2, 8.0, 5.2, 6.8, 6.5, 2.4, 2.6, 3.2, 3.7, 7.8, 10.6, 9.9, 10.9, 8.3, 4.8, -0.6, 1.9, 6.3, 1.7, 9.6, 12.2, 9.1, -1.6, -6.2, -4.8, 2.3, 7.2, 1.9, 5.3, -1.2, 2.7, 1.0, 0.9, 2.8, 4.6, 2.4, 2.8, 6.8, 6.1, 7.2, 10.0, 5.1, 4.4, 8.0, 5.4, 4.3, -0.9, -1.9, 1.5, 1.8, 3.7, 5.3, 5.1, 5.4, 5.8, 7.6, 7.1, 4.1, 1.7, -2.8, -4.0, -2.5, -1.8, 0.6, 4.0, 1.4, 3.2, 1.4, 1.6, 1.2, -3.5, -9.2, -6.4, -2.6, -3.2, 0.0, -2.2, -0.7, 0.2, -0.7, -2.9, 0.6, 2.4, 5.3, 5.2, 5.8, 5.0, 5.7, 6.5, 7.7, 9.6, 10.2, 9.8, 10.0, 9.6, 9.4, 10.0, 9.8, 9.6, 9.4, 12.4, 7.3, 6.4, 0.0, 2.8, 5.4, 8.8, 5.2, 5.2, 6.2, 7.3, 8.4, 5.5, 6.4, 8.4, 6.8, 7.8, 13.8, 17.7, 17.0, 17.3, 19.3, 18.0, 22.7, 18.2, 12.4, 8.1, 9.8, 17.2, 16.8, 18.9, 20.5, 21.4, 19.6, 16.8, 15.7, 20.8, 17.1, 17.0, 22.7, 20.6, 18.6, 22.8, 25.4, 14.8, 16.7, 19.9, 23.8, 23.3, 23.0, 13.6, 12.9, 18.5, 21.9, 23.0, 25.0, 26.0, 27.8, 27.5, 21.0, 21.3, 22.8, 23.7, 25.9, 28.5, 29.2, 23.3, 23.3, 27.9, 28.1, 27.0, 21.4, 21.6, 25.0, 25.3, 27.4, 25.0, 24.9, 25.4, 26.6, 28.9, 24.8, 19.9, 17.8, 24.2, 24.4, 26.4, 26.2, 22.9, 27.7, 22.4, 27.2, 27.8, 26.3, 20.8, 22.6, 24.6, 28.8, 29.4, 24.2, 23.3, 26.2, 26.6, 29.1, 30.0, 29.5, 31.2, 32.4, 33.4, 32.8, 33.0, 24.4, 24.0, 25.6, 29.8, 26.2, 26.2, 26.1, 25.5, 24.6, 28.8, 30.1, 30.4, 27.3, 25.9, 29.0, 27.9, 24.2, 29.0, 28.6, 28.9, 28.7, 29.0, 25.0, 29.8, 32.1, 32.4, 33.2, 33.6, 30.8, 28.6, 30.8, 34.5, 34.4, 30.8, 31.8, 32.2, 29.5, 26.8, 27.6, 28.2, 29.6, 26.2, 31.0, 33.0, 31.2, 30.0, 27.4, 34.4, 33.7, 34.2, 30.9, 32.0, 32.9, 31.0, 24.4, 29.3, 29.8, 29.2, 29.3, 30.3, 30.5, 24.8, 24.8, 23.9, 26.8, 24.8, 29.3, 28.0, 30.0, 22.1, 26.6, 28.1, 28.8, 27.3, 26.2, 21.7, 22.0, 25.1, 24.4, 18.2, 22.4, 23.3, 24.0, 23.6, 25.0, 24.4, 24.7, 23.3, 18.6, 22.2, 23.0, 24.4, 25.9, 20.8, 22.2, 21.4, 20.6, 19.9, 20.4, 18.7, 17.9, 19.2, 22.0, 22.7, 19.9, 25.2, 25.1, 24.2, 20.1, 19.8, 17.5, 13.7, 16.9, 17.4, 13.2, 13.7, 14.0, 18.5, 19.7, 19.4, 17.1, 15.3, 14.2, 13.4, 13.6, 14.5, 14.4, 14.8, 12.2, 13.2, 14.8, 15.0, 15.6, 8.6, 6.6, 5.1, 6.3, 9.7, 10.8, 11.6, 11.3, 8.1, 13.3, 10.6, 8.6, 11.9, 6.9, 4.2, 11.8, 13.2, 15.4, 10.5, 5.3, -3.4, -0.5, 1.2, 4.2, 6.6, 6.1, 2.2, 8.2, 6.2, 2.2, -1.7, -2.6, 0.1, 4.8, 3.6, 7.3, 6.8, 2.4, 2.4, 8.5, 11.0, 12.2, 9.4, 6.4, 5.4, 5.3, 8.7, 8.7, 6.1, 5.3, 2.2, 0.7, -3.0, 0.9, -5.6, 0.8, 0.0, 3.8, 0.2, 0.2, 1.2, -9.2, -11.2, -6.8, -2.5, 0.4, -3.5, 0.2, 1.4, 2.9, 1.4, 0.6, 2.1, -1.4, -2.8, 0.8, 3.0, 2.3, 2.1, 4.8, 7.4, 3.9, -3.1, -5.2, -5.6, -1.7, -3.6, 1.6, 7.0, 6.6, 7.2, 5.3, 6.4, 7.0, 5.4, 0.8, 3.1, 6.4, 7.8, 9.7, 10.4, 7.5, 3.1, 3.8, 2.9, -1.5, -0.2, 1.0, 3.3, 4.2, 5.6, 7.3, 5.3, 1.6, 1.4, 0.2, 3.4, 8.6, 3.2, 3.8, 6.6, 7.0, 10.0, 14.5, 11.4, 3.4, 15.3, 11.6, 5.6, 8.1, 10.7, 11.8, 10.4, 14.8, 5.6, 5.9, 6.6, 6.6, 10.4, 13.2, 11.7, 9.2, 9.4, 11.8, 11.6, 11.2, 13.1, 15.6, 12.6, 10.8, 7.3, 11.5, 14.5, 18.0, 18.6, 18.8, 21.3, 23.8, 19.2, 10.0, 14.6, 17.4, 15.0, 20.0, 23.8, 27.0, 25.6, 20.2, 12.5, 12.8, 17.4, 17.6, 13.0, 17.2, 21.3, 16.8, 16.2, 21.8, 23.6, 22.3, 24.0, 24.8, 26.1, 24.6, 26.2, 24.8, 23.0, 22.2, 23.1, 28.3, 24.8, 21.6, 26.0, 26.2, 20.4, 25.0, 26.4, 21.8, 29.0, 31.0, 27.9, 27.2, 27.8, 26.6, 19.8, 23.0, 26.0, 27.4, 29.2, 27.8, 29.8, 28.2, 31.0, 28.4, 31.3, 30.4, 31.4, 21.6, 24.8, 26.0, 26.6, 30.9, 29.1, 29.9, 31.0, 33.4, 34.6, 31.3, 33.6, 29.3, 29.9, 30.0, 31.4, 35.2, 34.6, 24.1, 29.2, 29.2, 28.5, 28.9, 25.0, 24.2, 24.8, 28.4, 29.2, 25.2, 25.6, 25.0, 26.3, 31.4, 30.0, 24.8, 26.2, 26.0, 29.0, 28.2, 30.9, 29.3, 29.0, 31.1, 27.3, 29.4, 30.3, 31.0, 30.6, 25.4, 24.6, 29.6, 25.5, 24.7, 27.5, 29.8, 28.4, 24.4, 30.2, 30.4, 27.4, 30.5, 30.0, 28.8, 29.0, 29.4, 27.5, 27.8, 30.4, 28.5, 26.0, 30.5, 30.4, 30.6, 30.0, 28.1, 24.8, 28.0, 26.8, 27.6, 27.0, 26.8, 26.6, 23.4, 25.5, 26.6, 24.5, 25.6, 26.8, 27.8, 27.6, 27.0, 26.6, 26.7, 27.3, 26.8, 27.2, 28.2, 31.0, 28.8, 29.6, 30.2, 28.2, 26.4, 20.6, 21.2, 24.1, 27.1, 27.2, 29.2, 27.3, 26.7, 24.2, 22.5, 19.8, 19.3, 21.4, 21.4, 25.2, 23.4, 15.9, 14.8, 12.8, 14.7, 16.8, 17.8, 19.4, 21.3, 21.2, 19.8, 19.2, 18.8, 20.5, 22.5, 21.8, 19.8, 22.8, 20.0, 20.2, 17.3, 15.5, 16.6, 10.7, 17.3, 20.8, 15.5, 14.4, 11.4, 7.2, 9.3, 15.6, 14.8, 8.6, 7.4, 10.6, 9.6, 12.1, 12.0, 11.6, 6.6, 12.7, 15.0, 12.2, 7.4, 0.4, 4.6, 12.8, 9.6, 0.3, -0.1, 3.4, 9.6, 7.0, -2.8, -2.7, 5.4, 9.1, 8.6, 12.1, 12.6, 6.7, 3.2, 5.8, -2.2, -11.3, -8.6, -2.2, 4.0, 8.2, 9.2, 6.5, 4.0, -9.2, -4.8, 2.0, 3.0, 4.2, 2.6, -4.2, -4.2, -1.0, 2.0, 2.0, 2.1, 2.7, 3.9, 1.0, -2.2, 4.9, 5.6, 1.1, 4.7, 2.3, -0.2, 5.7, 8.8, -0.1, -6.6, -7.8, -8.6, -6.3, -3.2, -5.2, -6.2, 0.6, -1.6, -4.8, -0.9, 1.0, 0.8, 8.6, 7.8, 11.8, 5.6, -3.6, -2.4, -4.0, 0.6, 4.4, 10.6, 9.2, -1.4, -2.4, 4.7, 7.5, 7.5, 7.6, 6.7, 4.0, 7.6, 11.1, 10.2, 1.0, -5.6, 1.6, 4.2, 9.6, 10.5, 10.3, 10.1, 12.0, 13.6, 11.6, 10.0, 5.1, 3.1, 5.6, 5.8, 10.3, 11.7, 14.0, 11.8, 11.4, 10.3, 8.2, 12.4, 6.8, 3.0, 3.8, 11.4, 11.0, 6.7, 5.4, 6.4, 7.2, 11.4, 11.7, 11.1, 11.0, 10.0, 13.3, 14.8, 15.8, 12.8, 12.8, 15.8, 16.8, 14.8, 17.1, 16.4, 12.0, 16.2, 19.7, 24.6, 15.3, 7.8, 12.8, 15.1, 16.3, 19.0, 18.8, 26.4, 25.8, 26.4, 25.3, 18.9, 21.8, 16.6, 18.4, 19.6, 19.3, 11.8, 14.3, 21.4, 22.6, 25.2, 17.0, 19.5, 24.0, 20.2, 25.7, 26.7, 26.9, 21.0, 23.7, 26.5, 24.2, 26.7, 28.6, 24.4, 27.5, 27.0, 25.6, 29.3, 31.6, 30.4, 21.9, 22.2, 27.3, 27.6, 28.2, 28.8, 26.5, 23.4, 18.4, 17.4, 22.4, 24.1, 26.1, 25.6, 26.1, 24.0, 25.3, 25.3, 25.5, 27.0, 29.8, 29.6, 27.8, 20.9, 27.1, 29.4, 28.4, 27.6, 25.4, 23.4, 23.1, 23.3, 28.1, 28.6, 24.9, 20.5, 26.0, 27.5, 27.5, 30.6, 27.8, 22.5, 25.7, 27.7, 27.3, 26.6, 29.3, 30.5, 26.8, 23.8, 24.6, 24.4, 27.0, 24.7, 27.1, 25.2, 27.1, 24.4, 25.0, 25.8, 26.7, 31.4, 30.0, 31.3, 28.7, 29.4, 31.6, 27.9, 31.4, 32.8, 32.8, 33.8, 30.3, 34.7, 32.8, 32.9, 29.8, 32.0, 32.1, 32.2, 34.0, 33.7, 27.3, 29.2, 26.4, 21.3, 30.6, 31.8, 31.8, 30.7, 29.4, 31.2, 32.6, 31.8, 33.0, 33.3, 32.2, 28.4, 19.0, 24.2, 26.6, 19.8, 22.1, 23.7, 27.8, 28.2, 26.4, 23.6, 26.4, 24.6, 22.0, 22.7, 25.7, 27.2, 25.8, 25.4, 25.3, 25.8, 22.3, 25.6, 24.2, 22.2, 22.0, 24.8, 25.5, 25.9, 27.0, 24.2, 25.2, 24.6, 21.2, 21.1, 20.7, 22.4, 23.8, 20.1, 26.0, 22.8, 22.1, 22.8, 21.2, 17.9, 14.4, 16.0, 17.2, 18.2, 15.0, 16.3, 18.1, 20.0, 20.4, 14.3, 22.2, 18.4, 5.6, 14.3, 18.2, 18.8, 17.0, 15.4, 15.4, 17.1, 19.0, 14.0, 14.7, 16.6, 16.9, 15.2, 15.8, 20.6, 14.1, 7.3, 6.2, 6.0, 12.2, 11.6, 9.2, 2.2, -3.0, 1.6, 7.8, 12.2, 11.4, 2.8, 3.6, 7.4, 10.4, 1.3, -4.8, -1.0, 5.8, 10.6, 6.4, -0.5, 4.3, 6.9, -1.0, 4.0, 5.4, 3.0, -4.5, -0.9, 3.1, 5.2, 6.5, 9.4, 10.4, 3.6, 1.4, -0.7, 0.2, -2.4, -7.7, -8.8, -6.4, -5.1, -2.1, -1.6, 0.1, 1.5, -5.0, -6.1, -4.2, 0.8, 4.3, -0.4, -5.0, -3.8, -2.9, 0.6, 2.6, -0.1, -8.0, -11.8, -7.3, -4.0, 1.3, 6.2, 4.2, 6.9, 2.7, 3.5, 6.9, 7.0, 8.6, 10.1, 3.2, 2.6, -1.8, -2.9, -2.4, 0.1, -0.3, 4.8, 2.3, 1.0, 1.4, 3.4, 3.6, -3.5, -4.7, -5.4, -5.0, -2.7, -2.6, 4.1, -1.5, 0.7, 5.8, 6.8, 13.3, 2.8, 3.2, 4.2, 2.1, 2.7, 3.8, 8.2, 12.5, 10.4, 5.3, 1.1, 1.7, 1.2, 4.0, 7.4, 6.8, 9.6, 11.1, 12.1, 15.2, 13.6, 12.9, 10.6, 15.0, 13.1, 13.7, 10.8, 5.5, 4.2, 7.8, 12.6, 11.0, 11.4, 12.8, 15.9, 12.1, 10.6, 16.8, 21.2, 17.1, 8.4, 11.4, 13.0, 19.5, 11.8, 16.4, 14.8, 15.0, 16.4, 15.8, 21.2, 14.9, 15.5, 15.6, 18.1, 12.4, 10.8, 15.8, 22.1, 20.3, 21.9, 22.5, 24.0, 17.3, 22.5, 25.2, 21.4, 21.5, 24.5, 22.2, 21.8, 24.5, 26.0, 28.1, 22.6, 22.0, 21.6, 25.6, 28.5, 28.5, 27.3, 25.8, 24.6, 26.5, 26.5, 28.8, 29.1, 28.4, 27.6, 24.4, 28.4, 21.8, 24.4, 27.0, 26.8, 29.0, 26.2, 26.3, 23.6, 25.4, 22.2, 24.6, 28.0, 28.0, 28.6, 23.0, 18.0, 24.6, 24.2, 25.2, 26.3, 28.0, 29.7, 29.7, 24.7, 29.2, 26.7, 25.5, 27.4, 28.4, 27.4, 27.2, 28.4, 29.0, 23.6, 27.3, 27.6, 27.9, 22.1, 21.4, 24.1, 24.4, 27.6, 26.8, 27.2, 30.1, 31.6, 31.3, 28.2, 24.5, 28.2, 29.4, 29.0, 30.4, 32.4, 34.7, 30.5, 28.2, 32.8, 30.0, 27.0, 33.9, 35.0, 35.0, 32.6, 32.7, 32.2, 31.0, 32.8, 31.2, 31.6, 27.0, 32.2, 32.6, 31.1, 31.8, 32.8, 33.6, 31.2, 30.1, 29.2, 30.5, 32.5, 27.4, 26.0, 30.9, 29.4, 29.1, 31.4, 32.4, 32.4, 29.8, 31.6, 32.2, 29.4, 30.5, 27.5, 28.2, 28.7, 29.8, 31.4, 25.2, 25.4, 22.4, 26.6, 27.6, 30.3, 27.5, 29.1, 25.7, 24.0, 24.9, 25.7, 25.5, 26.2, 25.4, 26.0, 26.2, 25.7, 26.7, 26.4, 24.2, 21.0, 24.2, 25.4, 26.4, 27.9, 25.4, 26.8, 25.4, 18.2, 21.0, 22.6, 23.6, 22.7, 22.2, 22.9, 23.7, 23.2, 22.8, 22.3, 15.2, 21.6, 15.2, 17.1, 15.4, 18.4, 20.0, 22.6, 18.9, 19.7, 20.7, 22.2, 22.0, 21.8, 21.5, 22.0, 19.6, 18.0, 20.2, 14.9, 13.0, 16.4, 13.8, 16.7, 15.6, 17.4, 19.2, 18.7, 5.1, 10.4, 12.2, 6.2, 8.4, 8.5, 6.2, 9.2, 13.2, 15.2, 13.8, 11.9, 5.6, 7.2, 9.4, 11.0, 10.2, 14.4, 8.8, 9.6, 9.2, 5.0, 2.0, 4.9, 4.4, 4.3, 2.4, 0.0, -2.4, -6.6, -5.4, -4.8, -0.6, -1.2, 3.2, 2.5, -0.6, 4.2, 3.9, 6.4, 5.6, 2.3, -4.8, -4.8, -5.8, -3.4, -3.8, -2.4, -4.8, -9.0, -10.6, -7.0, -1.2, 0.5, 5.1, 0.8, 6.8, 8.0, 8.2, 1.2, -2.6, 1.1, 4.2, 3.0, 3.2, 1.6, -5.9, -9.0, 1.9, 4.1, -4.0, -5.0, -2.8, -1.8, -1.4, -1.4, -1.4, -1.8, -1.2, -1.4, 2.2, 1.0, -3.1, -6.2, -5.5, -3.6, -1.3, -3.8, -3.1, -2.4, -1.4, -2.2, -2.3, 0.4, -2.1, 0.9, 4.6, 4.0, 5.7, 5.6, 5.8, 5.0, -4.4, -5.2, -4.0, -1.8, 0.7, 0.7, 2.0, 4.6, 8.7, 12.0, 3.2, 0.8, 4.6, 5.6, 11.9, 9.2, 6.4, 3.2, 3.6, 4.1, 6.3, 7.7, 6.8, 8.2, 9.3, 7.0, 6.5, 7.4, 10.2, 14.3, 16.8, 14.9, 13.9, 13.4, 12.2, 11.4, 11.6, 12.0, 16.4, 15.7, 11.9, 14.9, 14.8, 17.2, 15.6, 20.2, 12.6, 19.6, 22.6, 13.4, 13.1, 15.7, 14.6, 14.4, 15.0, 17.2, 20.1, 20.3, 20.1, 21.5, 20.9, 21.7, 22.0, 21.3, 22.2, 23.9, 14.4, 20.4, 20.6, 21.9, 22.2, 23.9, 26.5, 19.3, 18.0, 23.0, 24.2, 22.5, 23.2, 24.8, 25.2, 24.2, 23.0, 17.0, 21.8, 26.4, 28.2, 28.0, 23.3, 17.7, 24.8, 26.5, 24.4, 24.2, 24.8, 26.2, 22.3, 17.5, 16.9, 20.6, 19.0, 16.9, 25.8, 23.2, 21.4, 24.9, 26.2, 28.0, 28.4, 27.0, 25.7, 21.1, 15.6, 23.4, 27.0, 28.6, 30.8, 25.9, 25.7, 25.2, 24.2, 25.2, 24.3, 28.2, 27.3, 28.0, 31.7, 31.9, 31.4, 30.0, 29.0, 31.0, 31.4, 31.3, 31.8, 24.6, 22.0, 23.6, 28.5, 24.8, 26.9, 28.8, 29.5, 29.6, 30.1, 31.8, 26.6, 26.6, 24.4, 26.4, 25.3, 25.1, 26.2, 29.8, 29.6, 30.4, 29.7, 31.2, 30.6, 34.2, 33.0, 32.4, 30.2, 29.8, 32.1, 33.7, 34.0, 33.6, 32.2, 29.1, 28.8, 29.3, 30.0, 30.9, 31.3, 30.0, 30.9, 31.2, 25.8, 27.4, 29.0, 30.4, 28.1, 25.9, 30.5, 24.6, 27.4, 29.2, 29.5, 29.7, 29.1, 32.2, 27.6, 25.8, 26.3, 27.9, 28.6, 28.8, 28.2, 20.0, 25.8, 27.8, 30.2, 29.3, 28.0, 29.0, 23.0, 28.4, 29.4, 29.6, 30.5, 30.8, 31.4, 26.2, 21.6, 22.6, 22.0, 23.0, 25.8, 25.9, 26.8, 26.6, 24.6, 19.1, 22.2, 23.1, 23.6, 19.7, 27.4, 26.0, 24.5, 16.6, 20.1, 16.7, 19.2, 19.2, 21.0, 18.8, 20.2, 17.9, 12.4, 12.4, 17.3, 16.2, 19.0, 21.0, 21.0, 21.6, 14.2, 12.4, 16.1, 15.1, 13.6, 15.6, 15.9, 16.3, 16.8, 19.6, 20.6, 18.2, 13.9, 17.2, 18.0, 17.3, 6.6, -0.1, 2.8, 8.2, 11.3, 8.0, 9.4, 9.8, 7.2, 12.3, 15.3, 13.2, 14.0, 15.6, 13.8, 18.1, 15.7, 17.2, 14.5, 4.2, 8.4, 13.4, 13.6, 12.0, 11.6, 13.4, 14.6, 15.8, 15.0, 16.6, 17.7, 12.0, 14.5, 11.4, 7.2, 6.8, -3.6, -1.9, 5.4, 6.2, 9.4, 7.0, 0.5, -4.4, 0.4, 4.3, 5.8, 5.3, 1.5, 4.0, 0.5, 2.0, -2.6, -6.8, -8.0, -5.2, -2.2, -2.0, -3.8, -4.6, -1.4, 0.9, 4.3, -0.8, -4.0, -1.2, -3.5, -3.4, 1.0, 1.6, 6.5, 10.7, 7.8, 5.6, 7.8, 4.9, 2.4, 3.2, 4.1, 0.6, 0.6, -1.2, -1.4, 1.1, -0.5, -5.0, -0.7, -3.0, -8.4, -3.4, -0.4, 4.2, 4.6, 8.4, 10.4, 10.7, 7.2, 4.6, 0.9, 2.6, 4.4, 2.8, 4.6, 0.7, -1.2, -3.0, -1.9, -5.1, -5.2, -0.8, 0.0, -2.5, 0.2, 2.7, 3.2, 1.6, 0.8, 5.0, 6.7, 6.6, 7.9, 5.6, 6.2, 2.0, 4.2, 6.0, 5.1, 4.5, 6.2, 5.6, 11.7, 8.0, 3.8, 6.5, 10.1, 14.7, 15.4, 16.1, 20.4, 15.2, 10.2, 11.6, 15.0, 12.7, 13.7, 18.0, 9.4, 9.2, 10.2, 14.2, 8.8, 11.2, 13.0, 19.4, 21.6, 19.7, 17.6, 16.0, 10.2, 13.2, 14.2, 21.2, 17.0, 17.0, 23.3, 22.2, 20.6, 13.4, 19.8, 20.0, 22.2, 16.8, 13.6, 21.6, 24.6, 26.0, 20.0, 17.6, 17.7, 19.4, 21.9, 26.0, 23.7, 22.8, 23.6, 25.3, 26.4, 21.2, 19.0, 22.0, 19.6, 18.3, 22.2, 22.0, 21.2, 24.6, 22.4, 22.0, 21.1, 17.8, 19.0, 17.2, 20.7, 24.8, 27.5, 22.0, 22.6, 25.1, 17.1, 21.2, 22.8, 25.1, 24.9, 24.3, 20.8, 22.7, 25.4, 27.7, 25.2, 25.1, 26.0, 24.5, 25.0, 27.5, 26.3, 23.4, 27.9, 27.9, 32.3, 26.0, 27.1, 27.9, 31.2, 31.4, 28.4, 29.2, 31.5, 32.3, 25.2, 31.4, 26.0, 19.1, 29.4, 25.6, 24.7, 27.0, 27.4, 28.0, 24.0, 23.4, 30.1, 25.9, 25.4, 27.8, 28.5, 28.0, 30.7, 29.3, 28.0, 27.5, 30.2, 29.0, 28.4, 27.7, 30.0, 26.1, 24.7, 24.8, 29.6, 30.2, 26.7, 29.2, 29.3, 30.7, 29.7, 30.7, 28.0, 27.4, 30.0, 30.5, 32.2, 32.9, 31.3, 27.8, 30.6, 31.6, 29.3, 28.2, 28.2, 28.0, 28.2, 27.4, 28.2, 30.6, 28.2, 25.9, 27.2, 30.0, 26.8, 26.1, 20.8, 23.6, 29.2, 25.6, 24.7, 27.5, 28.6, 28.2, 27.7, 26.7, 21.8, 26.2, 28.1, 27.5, 23.8, 26.9, 21.2, 24.6, 22.3, 24.5, 26.7, 26.6, 22.9, 23.4, 20.1, 15.4, 20.5, 17.5, 19.0, 19.2, 19.8, 19.5, 22.6, 19.2, 10.5, 14.2, 17.7, 19.5, 19.4, 20.4, 23.5, 21.1, 18.3, 20.8, 24.4, 23.6, 24.4, 23.8, 21.4, 19.0, 20.0, 16.4, 16.8, 17.9, 20.3, 19.7, 15.4, 12.4, 10.6, 8.2, 7.4, 8.2, 13.4, 15.2, 16.3, 16.9, 6.4, 12.8, 14.8, 17.8, 14.1, 14.1, 6.9, 2.2, 3.4, 8.4, 8.9, 6.1, 7.9, 6.2, 2.4, 3.0, 7.6, 10.8, 7.7, 4.4, 7.2, 7.0, 5.9, -2.8, 5.1, 7.4, 13.6, 8.3, -3.3, 0.4, 3.5, 6.8, 4.6, -5.4, -1.3, 0.1, -0.1, 0.5, -0.5, 1.5, 1.9, 7.6, 5.6, 0.9, 3.5, 3.0, 0.3, -6.0, 0.2, 1.4, -0.5, 0.5, 3.0, 2.6, 0.0, -9.4, -9.2, 2.2, 0.4, 0.6, -3.0, -2.0, 0.9, 5.2, -5.3, -6.1, -9.2, -7.0, -7.1, -3.3, -2.1, -0.3, 3.3, 5.4, -0.3, -0.5, 2.6, 4.9, 6.2, 8.9, 7.8, 6.5, 2.5, 3.7, 2.4, 3.3, -2.0, -0.1, 2.6, 4.8, 3.7, -5.5, -0.6, 6.8, 9.4, 7.6, 5.1, 4.8, 6.6, 10.0, 11.5, 12.0, 7.1, 1.8, 1.8, 8.0, 3.8, 7.8, 9.8, 4.2, 1.8, 0.8, 1.1, 4.8, 0.4, 2.0, 1.6, 2.8, 2.9, 2.2, 2.6, 1.3, 1.8, 2.2, 3.6, 5.8, 3.0, 2.0, 1.0, 0.8, 3.4, 4.4, 3.2, 2.4, 6.3, 6.8, 11.0, 12.0, 15.2, 16.0, 14.1, 11.4, 15.6, 16.4, 17.0, 15.2, 13.4, 14.6, 11.6, 15.2, 18.3, 19.2, 17.2, 12.4, 12.5, 14.8, 17.1, 20.0, 21.8, 17.0, 19.0, 16.7, 22.2, 21.6, 24.0, 16.8, 21.8, 22.0, 23.8, 23.0, 22.8, 26.0, 25.0, 18.6, 25.4, 27.2, 26.6, 27.0, 28.2, 25.2, 25.9, 20.5, 18.8, 21.7, 22.6, 26.5, 28.0, 27.3, 25.4, 25.7, 23.2, 20.8, 24.2, 25.3, 27.5, 29.8, 21.4, 16.8, 21.8, 25.7, 29.4, 29.4, 22.4, 25.5, 24.4, 26.2, 25.2, 25.6, 27.4, 30.0, 26.2, 22.2, 27.0, 29.0, 28.6, 29.6, 28.4, 27.0, 19.2, 23.0, 18.0, 19.2, 21.4, 21.7, 24.5, 25.8, 26.7, 20.6, 25.6, 27.6, 29.2, 25.4, 22.8, 25.0, 29.4, 26.0, 21.4, 22.4, 19.2, 27.4, 26.8, 20.2, 25.0, 27.9, 26.8, 29.0, 30.0, 29.2, 22.7, 23.7, 22.2, 28.0, 26.1, 32.2, 28.7, 31.8, 28.8, 28.2, 29.6, 29.3, 26.9, 25.3, 27.0, 25.8, 30.2, 29.0, 27.4, 30.5, 26.7, 23.4, 31.1, 32.4, 32.2, 33.0, 33.8, 35.0, 33.9, 33.4, 32.0, 31.0, 27.2, 28.8, 30.2, 32.0, 33.8, 31.8, 31.9, 27.4, 27.0, 28.3, 24.3, 25.5, 30.8, 27.4, 25.6, 28.3, 29.4, 29.0, 24.3, 30.4, 31.2, 31.2, 30.6, 25.6, 26.0, 25.0, 23.8, 25.8, 26.4, 26.0, 27.9, 22.1, 24.5, 27.2, 29.0, 27.4, 26.9, 26.0, 26.0, 23.4, 25.0, 25.2, 21.4, 16.2, 18.2, 22.6, 22.8, 23.3, 23.3, 24.9, 25.4, 25.6, 24.8, 21.7, 21.4, 21.0, 21.2, 23.7, 24.0, 24.0, 24.5, 23.8, 23.0, 22.1, 21.3, 22.0, 21.5, 20.4, 18.1, 19.5, 9.6, 10.5, 12.7, 9.6, 9.8, 15.7, 16.4, 17.4, 15.9, 15.0, 14.8, 12.8, 13.0, 15.2, 18.2, 13.6, 8.2, 12.8, 16.0, 7.2, 1.8, 8.6, 12.4, 9.7, 14.4, 15.2, 11.8, 4.9, 4.2, 6.7, 6.5, 11.9, 10.4, 2.4, -4.2, -1.9, 1.8, 3.6, 2.0, 2.8, 3.5, 6.8, 1.7, -1.2, 0.9, 5.3, 4.8, 7.2, 0.4, 0.7, 7.8, 10.2, 11.6, 3.0, 2.4, 3.2, 3.5, 5.6, 5.0, -1.3, -3.6, -4.4, -2.2, 0.6, 1.8, 3.1, 4.4, 3.2, 1.8, -0.6, -3.6, -9.2, -3.2, 0.8, 2.8, 3.0, 3.4, 3.2, 5.1, 2.2, 0.2, 5.8, 8.0, 8.4, 9.2, 7.8, 6.2, 6.3, 4.4, 3.4, 3.0, -0.6, -1.1, -4.4, -5.1, -4.1, -1.6, -3.4, -4.1, -1.4, -2.5, -2.9, 0.4, 1.3, -1.4, 0.1, -1.0, -1.6, 2.9, 5.0, 6.0, 5.2, 5.0, 11.6, 2.3, 1.4, 3.9, 8.3, 5.8, 13.2, 6.2, -0.2, 7.6, 12.2, 9.2, 6.5, 8.0, 5.2, 2.4, 3.2, 0.4, -4.0, -1.8, 0.7, 1.0, -0.6, 2.6, 1.6, 1.7, 4.0, 4.6, 6.2, 8.0, 6.2, 11.6, 14.2, 12.0, 9.2, 9.8, 3.2, 9.8, 8.6, 12.0, 20.2, 12.0, 15.0, 17.8, 9.6, 11.4, 10.5, 13.6, 11.0, 20.0, 21.6, 12.0, 11.6, 10.6, 17.2, 18.8, 13.2, 17.2, 19.2, 16.2, 17.4, 18.2, 16.5, 20.2, 21.2, 20.1, 22.3, 17.2, 21.8, 22.0, 24.1, 15.0, 19.0, 21.2, 20.6, 20.2, 14.6, 16.9, 17.7, 15.6, 19.2, 19.6, 21.2, 22.0, 24.2, 24.3, 23.7, 25.4, 23.2, 18.7, 22.7, 21.2, 24.7, 24.5, 24.6, 28.7, 31.2, 19.1, 23.4, 26.6, 20.2, 20.8, 19.0, 26.5, 25.6, 19.0, 26.0, 20.0, 22.0, 22.6, 25.2, 28.0, 30.4, 27.4, 23.4, 24.2, 24.6, 27.4, 25.6, 27.0, 27.0, 27.8, 29.5, 27.0, 28.3, 27.9, 26.5, 28.7, 28.6, 29.6, 24.8, 24.9, 26.8, 27.8, 22.8, 26.4, 25.3, 26.5, 28.8, 28.7, 29.2, 26.2, 25.0, 27.8, 24.6, 25.3, 27.3, 30.0, 27.2, 28.1, 28.0, 28.3, 28.8, 25.5, 25.5, 23.3, 29.4, 28.8, 28.9, 25.2, 26.0, 30.8, 28.0, 25.9, 26.9, 32.0, 31.2, 33.2, 33.2, 31.7, 26.1, 28.9, 30.2, 30.9, 32.2, 26.8, 27.3, 28.5, 30.0, 28.5, 27.7, 28.6, 27.2, 23.6, 20.3, 24.9, 27.8, 23.1, 27.2, 29.2, 26.8, 27.3, 28.2, 32.1, 32.4, 31.8, 28.4, 28.0, 28.1, 25.2, 24.0, 27.9, 29.6, 29.2, 27.9, 23.2, 24.9, 25.9, 26.0, 25.1, 26.7, 27.5, 28.8, 28.0, 27.0, 21.0, 24.3, 26.8, 28.0, 21.4, 22.4, 22.2, 22.2, 20.2, 20.8, 23.1, 21.2, 22.7, 19.6, 21.6, 21.9, 20.2, 19.5, 21.3, 22.6, 24.1, 22.8, 13.6, 13.8, 17.7, 20.0, 17.7, 20.6, 18.8, 20.9, 22.4, 22.7, 19.8, 15.6, 13.9, 12.4, 10.5, 13.1, 17.5, 16.6, 17.3, 18.2, 18.8, 18.4, 21.3, 20.6, 17.8, 16.2, 15.8, 13.0, 14.0, 11.2, 14.2, 15.3, 17.3, 15.4, 12.5, 13.8, 13.6, 13.1, 13.0, 15.3, 15.4, 12.6, 9.2, 10.0, 12.2, 13.8, 14.4, 12.7, 7.8, -1.0, 3.2, 8.9, 11.5, 6.4, 10.2, 8.7, -1.8, -0.8, -1.3, -0.2, 3.6, 4.0, -0.5, 1.7, 1.4, -2.4, 4.0, 10.4, 7.5, -3.6, -2.9, -3.2, -2.9, 0.1, 1.4, 2.6, 4.4, 1.2, 0.4, 3.7, 8.3, 5.6, 2.0, 0.4, 1.8, 2.7, 2.0, 7.3, 6.3, 6.9, 11.5, 9.6, 13.0, 7.2, 9.0, 6.4, 7.2, 3.8, 5.8, 7.6, 6.9, 5.0, 3.2, -0.9, 2.4, 5.1, 3.8, -2.0, -2.8, 0.1, -1.4, 3.9, 5.0, 3.2, 0.4, 1.3, 1.0, 2.9, 1.3, 5.2, 6.0, 7.6, 8.4, 6.9, 2.7, 1.0, 1.4, 3.5, 3.4, 7.1, 7.0, 1.2, -0.5, 1.4, 2.2, 1.6, 2.5, 5.0, 4.9, 1.0, -1.5, -2.0, -0.7, 3.4, 6.5, 6.5, 6.9, 8.5, 10.5, 8.6, 9.0, 10.0, 8.7, 8.4, 8.2, 9.1, 12.6, 7.5, 12.4, 15.2, 12.2, 14.2, 11.8, 13.6, 9.6, 14.0, 14.6, 16.2, 15.7, 18.0, 12.2, 11.4, 4.7, 5.5, 9.0, 10.8, 15.3, 18.0, 20.1, 13.7, 14.4, 13.1, 13.0, 12.0, 16.0, 18.7, 16.2, 10.8, 15.0, 16.6, 23.4, 19.5, 19.8, 20.4, 20.3, 19.6, 23.5, 15.0, 18.8, 15.8, 22.6, 23.4, 21.4, 17.6, 15.8, 22.5, 18.0, 23.2, 22.9, 23.8, 18.0, 25.6, 25.6, 23.6, 24.2, 24.6, 18.8, 19.3, 16.9, 19.6, 22.2, 16.2, 21.4, 23.4, 23.9, 26.2, 25.0, 21.0, 20.4, 18.0, 24.2, 15.4, 20.5, 21.7, 26.7, 27.4, 28.7, 28.4, 29.3, 30.7, 26.2, 28.2, 29.0, 29.1, 27.5, 23.9, 25.8, 28.8, 23.4, 27.0, 28.5, 29.0, 28.2, 21.4, 27.9, 28.3, 28.4, 28.6, 29.0, 23.6, 26.4, 23.0, 29.8, 30.2, 28.4, 32.8, 24.8, 22.8, 30.7, 31.6, 25.2, 24.6, 25.8, 24.8, 28.2, 30.6, 30.6, 31.2, 32.2, 23.4, 30.6, 33.3, 32.8, 35.6, 35.2, 34.6, 34.2, 30.0, 26.4, 30.2, 29.8, 33.8, 32.9, 32.4, 31.8, 29.9, 29.2, 27.1, 26.3, 29.0, 27.6, 26.3, 27.6, 23.6, 25.9, 28.4, 28.8, 28.2, 30.6, 30.3, 30.4, 32.1, 24.2, 20.0, 28.3, 29.1, 29.3, 29.3, 28.4, 22.9, 28.9, 24.0, 25.0, 22.6, 23.2, 23.0, 25.6, 21.9, 23.8, 23.4, 24.4, 24.9, 23.8, 27.0, 24.5, 26.4, 26.2, 27.2, 24.2, 24.3, 26.1, 26.5, 25.2, 24.8, 24.8, 24.6, 24.9, 23.2, 22.0, 21.6, 19.8, 22.8, 24.4, 20.9, 19.7, 22.4, 20.6, 22.2, 17.1, 17.7, 21.6, 23.4, 23.5, 24.8, 26.0, 19.2, 14.8, 18.2, 20.3, 21.3, 20.8, 18.2, 20.0, 22.9, 24.3, 25.7, 19.0, 12.0, 15.0, 17.3, 18.4, 20.3, 12.9, 17.0, 16.0, 13.8, 11.8, 14.3, 18.4, 17.5, 18.7, 13.7, 11.1, 11.6, 14.5, 14.0, 15.5, 16.4, 13.2, 17.6, 15.2, 14.7, 9.0, 8.5, 5.5, 10.4, 11.0, -1.6, 1.2, 0.6, 0.1, -0.2, 0.6, -2.6, -0.7, 5.4, 5.6, -1.4, 2.1, 4.3, 7.6, 12.0, 9.6, 4.7, 3.4, 4.1, 9.9, 8.3, 5.8, -4.1, 0.8, 5.2, 9.2, 2.6, -2.0, 1.1, 4.3, 5.2, 6.5, 8.5, 11.9, 8.9, 8.2, 5.0, 3.3, -2.8, -0.2, 4.4, 7.0, -1.1, -2.8, 3.0, 5.6, 4.5, 2.0, 4.4, 5.3, 0.8, 0.6, 3.9, 3.1, 4.4, 6.7, 8.2, 5.4, 6.9, 5.6, 6.2, 6.4, 11.3, 8.4, 5.0, 3.6, 1.4, 1.8, 2.1, 3.2, 2.4, 4.9, 6.4, 5.1, 4.8, 11.4, 7.2, 1.8, -2.8, -2.6, 0.8, 1.7, 3.8, 4.5, 4.8, 6.4, 9.3, 14.4, 11.0, 9.5, 11.2, 1.8, 6.9, 7.4, 1.8, -3.7, 1.0, 4.5, 7.6, 8.6, 3.2, 5.5, 8.8, 6.7, 4.4, 2.8, 5.8, 6.2, 6.9, 11.4, 13.2, 10.3, 10.4, 9.8, 9.2, 5.4, 8.9, 9.9, 11.7, 10.7, 11.6, 12.6, 11.2, 5.7, 6.2, 10.2, 14.6, 17.7, 19.4, 20.8, 18.3, 14.9, 13.4, 11.4, 11.9, 13.2, 18.5, 13.0, 16.6, 23.1, 20.0, 14.0, 16.3, 16.3, 18.8, 15.9, 11.8, 13.0, 16.7, 18.6, 19.6, 20.7, 22.4, 23.3, 16.2, 17.0, 19.7, 19.0, 21.5, 23.1, 27.7, 17.8, 22.6, 21.3, 23.6, 22.0, 24.7, 19.4, 23.2, 21.0, 20.5, 20.8, 22.6, 22.7, 27.8, 26.4, 21.8, 23.4, 18.1, 21.1, 22.8, 23.0, 21.8, 24.9, 25.2, 23.7, 25.2, 27.1, 23.6, 23.4, 23.2, 26.1, 25.6, 21.9, 24.4, 23.8, 26.2, 24.2, 26.8, 26.8, 28.2, 30.8, 30.3, 27.2, 28.6, 23.5, 25.2, 23.0, 27.2, 25.3, 25.8, 27.8, 26.3, 23.4, 28.7, 29.7, 29.8, 25.5, 21.6, 24.2, 26.8, 24.9, 28.0, 29.4, 31.8, 28.6, 32.1, 30.2, 30.6, 31.8, 32.2, 31.6, 31.1, 32.3, 29.2, 27.0, 31.2, 31.7, 34.4, 34.5, 29.4, 33.3, 29.8, 32.2, 33.4, 32.9, 32.9, 32.6, 30.3, 31.9, 30.4, 30.2, 31.3, 26.7, 26.2, 30.4, 26.1, 27.6, 30.8, 31.1, 31.8, 31.7, 31.8, 31.6, 31.9, 32.4, 34.3, 34.5, 35.2, 29.4, 29.7, 30.8, 28.0, 28.9, 26.8, 25.1, 28.7, 29.3, 30.4, 30.0, 27.8, 28.8, 30.1, 26.2, 24.3, 24.6, 27.2, 25.4, 28.4, 28.1, 28.6, 26.9, 22.6, 23.1, 25.3, 25.4, 26.4, 26.2, 27.4, 27.2, 28.1, 26.4, 24.7, 25.3, 26.2, 26.1, 26.4, 26.9, 23.6, 17.2, 20.6, 21.8, 17.7, 22.7, 23.9, 18.7, 23.5, 20.8, 16.9, 18.0, 18.8, 21.1, 21.3, 19.4, 24.9, 21.9, 16.8, 13.9, 18.0, 16.0, 17.0, 20.2, 16.6, 21.7, 14.8, 14.0, 11.8, 12.4, 12.2, 19.6, 18.0, 18.1, 19.4, 14.6, 16.9, 15.6, 15.0, 15.6, 11.9, 13.2, 16.0, 12.4, 14.8, 7.9, 6.7, 9.5, 13.8, 15.4, 13.4, 13.3, 3.6, 4.2, -0.6, 0.1, 2.3, 3.4, 10.2, 10.8, 3.5, 7.4, 8.7, 4.3, 4.5, 5.8, 6.6, 10.8, -0.8, -4.5, 3.2, -1.7, -2.9, 1.7, 3.4, 3.3, 4.0, 4.2, 4.9, 7.8, 7.5, 1.2, 1.7, 2.5, 3.2, 4.4, 5.0, -2.9, -3.6, -8.7, -4.7, 0.3, 2.6, 1.3, -0.9, 0.2, 2.2, 7.6, 9.3, 8.7, 5.6, 2.1, 4.4, 5.3, 6.2, 6.6, 6.4, 5.7, 4.3, 3.8, 6.9, 1.0, -1.2, 1.0, 1.3, 3.8, 3.2, 1.7, 3.7, -8.0, -5.7, -4.3, -1.8, -4.0, -3.9, 1.8, 2.9, 2.6, 0.7, 3.8, 6.2, 5.7, 5.3, 2.7, 0.1, -2.2, -3.8, -1.1, -4.8, -0.3, 4.3, 7.1, 3.3, 4.2, 9.7, 9.9, 7.0, 2.6, 6.3, 5.4, -2.6, -5.5, -8.1, -3.5, 0.2, 1.0, 5.4, 9.5, 8.4, 9.3, 13.7, 13.4, 10.6, 12.5, 7.2, 4.4, -2.6, -0.1, 3.1, 6.4, 6.2, 8.0, 9.6, 4.1, 7.7, 8.4, 6.5, 5.2, 6.9, 8.5, 13.8, 13.8, 13.0, 15.1, 16.0, 19.5, 12.7, 8.7, 10.2, 14.6, 13.3, 16.8, 23.1, 12.2, 17.5, 17.3, 16.4, 13.4, 22.2, 14.7, 17.8, 16.6, 13.5, 14.6, 17.4, 20.8, 18.3, 14.8, 10.6, 20.2, 17.7, 13.9, 10.3, 19.3, 15.0, 17.7, 15.2, 19.6, 21.1, 20.9, 18.1, 19.8, 23.2, 22.9, 14.4, 21.8, 20.4, 25.1, 27.0, 20.0, 17.0, 17.8, 24.5, 29.3, 22.3, 20.8, 17.4, 27.1, 22.0, 21.4, 23.7, 15.8, 23.8, 26.7, 24.3, 25.1, 29.0, 21.8, 20.1, 24.1, 20.3, 20.5, 21.7, 22.2, 23.4, 24.8, 29.2, 21.7, 24.9, 25.9, 26.3, 28.6, 27.5, 28.3, 28.0, 24.1, 25.7, 20.3, 22.7, 26.1, 24.2, 25.0, 28.0, 31.1, 26.7, 26.3, 27.9, 28.6, 30.3, 30.4, 26.8, 22.9, 25.8, 25.1, 28.6, 23.4, 23.2, 26.7, 28.0, 22.9, 25.2, 22.6, 25.1, 30.1, 27.8, 29.8, 27.8, 28.7, 29.2, 30.7, 30.0, 29.9, 28.3, 24.4, 28.5, 26.6, 25.5, 28.9, 29.1, 29.3, 29.8, 25.8, 30.1, 28.2, 24.9, 30.3, 30.5, 30.2, 31.4, 32.6, 32.2, 32.9, 29.4, 27.6, 31.5, 31.6, 30.7, 33.9, 33.7, 32.4, 30.8, 25.4, 24.6, 28.3, 29.9, 30.1, 27.0, 25.7, 25.7, 24.6, 29.9, 22.0, 26.7, 28.4, 27.9, 27.0, 26.5, 27.7, 27.2, 28.3, 27.8, 29.4, 28.0, 23.5, 24.2, 25.0, 25.8, 21.6, 22.5, 23.4, 25.1, 26.0, 26.7, 25.6, 26.1, 27.7, 27.4, 24.2, 22.5, 20.3, 18.8, 23.2, 21.6, 19.9, 21.9, 23.2, 16.9, 18.6, 16.6, 18.5, 19.7, 21.5, 22.2, 19.4, 19.1, 19.7, 20.7, 15.9, 18.7, 14.8, 17.9, 12.8, 13.0, 16.7, 16.0, 15.4, 17.7, 11.1, 14.7, 16.8, 12.7, 6.8, 11.6, 15.0, 16.2, 19.7, 20.3, 18.8, 15.8, 15.6, 11.7, 7.2, 2.8, 3.9, 6.2, 9.5, 9.8, 7.1, 6.3, 11.8, 14.9, 8.0, 6.0, 2.6, 8.0, 7.9, 11.5, 11.4, 10.5, 10.1, 9.0, 10.3, 9.0, 5.0, -4.0, -0.2, 1.1, 1.2, 3.7, 5.2, 3.1, 6.8, 7.7, 4.6, -1.5, 0.3, 3.1, 4.3, 1.8, -2.4, 2.0, 2.9, 3.6, 6.7, 3.1, 1.6, 6.6, 5.6, 7.3, 8.1, 6.0, 2.0, 6.0, 5.1, 3.5, 5.2, 4.3, 4.5, 7.0, 6.6, 0.3, -3.0, -3.9, 0.6, 1.4, 3.5, 3.2, -1.8, -3.6, -4.3, -2.0, 1.9, 1.3, 2.0, 5.7, 2.9, 3.3, 2.0, 3.4, -2.2, 0.0, -0.1, 2.2, 3.4, 9.8, 10.6, 7.2, 6.4, 8.5, 2.4, -1.2, 1.2, -0.6, 1.6, 3.8, 6.8, 7.9, 1.3, 3.0, 3.7, 3.4, 4.4, 0.1, -0.8, 0.3, 3.0, 7.8, 6.2, 5.4, 4.4, 2.0, 7.1, 5.3, 8.3, 12.6, 8.1, 5.8, 8.8, 9.8, 7.1, 8.4, 8.0, 9.0, 8.7, 11.5, 12.8, 6.6, 12.2, 15.8, 13.0, 8.8, 11.2, 13.5, 9.5, 7.4, 7.5, 10.4, 13.8, 13.4, 6.5, 11.9, 9.0, 9.0, 11.3, 13.7, 15.9, 9.5, 14.8, 15.2, 12.9, 16.6, 15.0, 18.0, 22.4, 21.6, 20.2, 25.8, 25.5, 25.8, 24.1, 25.3, 19.4, 18.8, 20.8, 18.9, 23.3, 25.3, 18.7, 21.8, 16.0, 25.4, 29.0, 27.7, 18.9, 14.4, 13.5, 14.3, 19.4, 19.6, 18.4, 26.3, 27.3, 26.5, 24.6, 15.9, 22.9, 21.0, 24.2, 25.5, 17.6, 18.9, 21.8, 23.3, 23.2, 23.8, 25.3, 25.1, 26.8, 26.6, 24.4, 26.2, 24.4, 20.3, 23.2, 23.5, 26.0, 21.9, 25.2, 26.3, 25.2, 20.7, 25.8, 26.2, 27.8, 28.3, 27.8, 29.0, 31.3, 31.4, 23.4, 25.4, 28.0, 32.4, 32.1, 31.2, 26.1, 22.2, 24.5, 25.6, 26.3, 27.8, 27.4, 29.2, 28.8, 31.0, 29.2, 30.0, 30.2, 24.2, 28.2, 28.0, 28.5, 24.4, 23.7, 28.7, 29.7, 29.0, 25.7, 28.0, 30.9, 30.4, 31.2, 31.5, 30.5, 31.8, 30.9, 29.4, 24.2, 30.0, 25.2, 23.6, 32.0, 33.4, 30.4, 29.4, 29.0, 33.0, 32.6, 30.4, 29.4, 31.6, 30.8, 30.1, 30.1, 31.0, 32.4, 32.2, 30.8, 31.2, 32.2, 33.9, 35.3, 34.1, 32.0, 34.4, 34.6, 32.2, 32.5, 32.8, 33.3, 32.1, 33.2, 28.6, 29.5, 32.8, 30.4, 29.2, 28.4, 27.8, 31.5, 31.0, 29.8, 30.3, 29.2, 29.6, 26.4, 29.2, 27.6, 22.5, 20.2, 23.6, 22.9, 28.0, 28.2, 24.2, 26.0, 28.1, 26.7, 28.0, 26.2, 25.8, 27.2, 22.0, 26.0, 25.5, 25.1, 21.2, 24.4, 20.6, 23.8, 25.6, 21.8, 21.4, 21.5, 17.4, 14.8, 21.4, 22.2, 20.1, 19.4, 20.6, 21.8, 22.6, 23.4, 23.1, 23.1, 19.8, 21.6, 18.1, 20.6, 17.8, 18.4, 18.8, 14.3, 15.4, 17.6, 17.7, 19.8, 20.2, 19.7, 20.7, 14.9, 17.7, 17.3, 17.2, 16.1, 16.9, 18.0, 15.2, 13.2, 15.0, 16.2, 17.7, 16.3, 12.6, 11.9, 9.8, 6.6, -0.1, 5.4, 12.3, 10.1, 10.0, 13.2, 7.8, 5.6, 9.6, 13.5, 14.4, 14.8, 10.7, 9.2, 1.2, 2.1, 4.0, 0.6, -2.1, -1.8, -1.8, -1.5, 2.0, -2.6, -0.3, 2.1, 0.0, 0.4, 1.6, -3.7, -3.9, 0.9, -0.1, -0.9, -1.2, 1.6, 2.9, 6.2, 7.6, 8.5, 7.2, 8.4, 7.8, 0.3, -0.8, 7.4, 3.4, -3.8, -4.8, -3.6, -0.2, 6.2, -2.8, 0.4, -0.8, 0.4, -2.2, -7.3, -8.3, -5.4, -7.4, -4.2, 1.7, 5.1, 0.4, 1.6, 3.2, 0.6, 1.8, 7.6, 7.9, 9.2, 9.0, 8.5, 4.4, 2.4, 1.2, 3.6, 6.2, 9.0, 8.2, 10.6, 6.8, 14.5, 10.1, 2.0, 8.6, 4.7, 5.0, 8.6, 7.9, 4.2, 4.9, 7.0, 8.4, 11.8, 10.7, 6.8, 4.9, 7.7, 4.7, 9.0, 9.1, 9.7, 10.2, 7.9, 11.4, 9.1, 13.6, 11.8, 7.8, 10.9, 14.5, 14.6, 15.0, 11.6, 8.0, 0.9, 3.7, 6.4, 7.4, 4.4, 9.0, 13.7, 12.8, 15.2, 14.2, 14.6, 12.1, 11.8, 10.6, 8.5, 11.8, 14.4, 14.8, 7.4, 14.2, 13.5, 18.0, 18.9, 19.1, 22.5, 15.6, 18.2, 19.5, 12.8, 16.7, 19.7, 18.0, 15.3, 25.0, 24.1, 15.5, 16.7, 18.2, 22.2, 20.8, 23.1, 21.2, 14.8, 18.0, 21.1, 19.2, 14.4, 13.6, 18.1, 21.4, 22.4, 25.4, 23.5, 17.1, 18.5, 19.8, 22.5, 21.3, 16.6, 23.8, 15.5, 28.4, 21.6, 23.0, 24.0, 25.7, 29.0, 26.8, 30.5, 32.2, 28.4, 25.6, 31.0, 24.2, 23.7, 25.8, 27.2, 28.8, 28.4, 27.8, 27.8, 22.3, 23.1, 23.0, 26.3, 23.3, 23.8, 24.7, 28.4, 27.9, 25.6, 26.2, 29.0, 27.4, 26.2, 29.0, 29.0, 28.9, 25.8, 28.8, 29.4, 34.8, 30.6, 22.6, 23.1, 19.0, 15.4, 23.4, 28.4, 28.3, 29.2, 29.7, 23.3, 27.2, 28.4, 28.1, 27.1, 28.5, 28.9, 23.8, 26.5, 30.1, 29.0, 32.3, 32.0, 27.1, 30.8, 31.2, 33.5, 29.7, 29.2, 25.0, 30.8, 30.3, 29.8, 30.6, 26.3, 30.3, 27.4, 29.8, 30.1, 31.8, 28.0, 27.9, 30.6, 29.8, 27.0, 25.5, 21.6, 25.4, 29.0, 31.3, 32.0, 29.2, 29.0, 31.2, 28.8, 27.2, 22.6, 22.8, 26.3, 22.1, 25.8, 21.0, 26.5, 28.3, 27.9, 28.2, 30.2, 29.8, 29.2, 26.3, 27.0, 23.3, 27.4, 26.8, 26.4, 23.0, 22.6, 23.5, 23.8, 25.0, 25.8, 24.6, 22.0, 25.0, 22.2, 23.2, 24.4, 25.0, 25.5, 25.2, 25.4, 24.1, 22.7, 22.1, 23.7, 25.0, 20.4, 20.2, 20.7, 21.8, 21.3, 22.8, 25.1, 22.7, 21.2, 15.8, 19.2, 20.9, 21.2, 21.8, 21.5, 22.2, 22.1, 21.9, 17.1, 23.4, 19.4, 16.8, 13.6, 16.2, 15.9, 13.8, 6.4, 5.6, 8.0, 13.9, 15.8, 16.5, 15.8, 8.0, 12.2, 15.5, 13.5, 19.4, 15.6, 9.5, 12.2, 8.8, 1.3, 2.4, 4.0, 3.2, 7.7, 6.6, 6.2, 4.4, 4.0, 1.8, 2.4, 5.4, 2.7, 1.0, 4.4, 0.4, 5.4, 7.6, 11.3, 12.2, 8.9, 9.6, 11.4, 7.6, 0.4, -2.7, 5.5, 8.5, 9.8, 5.2, 7.0, 10.0, 7.2, 4.1, 6.8, 6.0, 6.2, 7.6, 10.6, 9.4, 9.4, 4.7, -10.4, -9.6, -8.3, -4.5, -4.0, -5.9, -6.5, -8.2, -8.8, -5.7, -4.8, -0.5, 4.1, 1.1, -0.8, 0.5, 0.6, -2.6, -6.7, -5.5, -0.8, -1.0, -0.8, -1.7, 0.1, -0.4, -1.6, -1.4, 0.6, 1.7, 4.2, 2.1, -6.0, -7.0, -8.2, -7.8, -5.4, -2.0, -2.4, -3.1, -2.8, -2.0, -2.5, -0.7, 2.9, 2.9, 2.4, 2.1, 7.8, 5.1, -2.2, -8.5, -8.4, -3.9, 0.2, 3.8, 6.6, -1.0, 2.8, 8.6, 12.4, 15.0, 10.3, 14.0, 14.2, 13.4, 9.4, 0.8, -5.2, -3.5, 11.1, 16.2, 16.6, 5.8, 8.2, 10.1, 11.9, 12.6, 8.5, 13.4, 13.0, 22.0, 15.2, 14.3, 16.2, 16.2, 15.5, 11.5, 5.0, 6.0, 11.4, 11.2, 11.9, 13.2, 16.2, 14.8, 13.4, 12.2, 15.5, 20.2, 21.5, 12.6, 16.9, 13.8, 9.8, 16.2, 21.6, 22.4, 21.6, 24.3, 19.1, 19.0, 13.2, 9.2, 16.2, 21.4, 24.8, 21.4, 26.7, 17.8, 18.6, 19.8, 22.0, 14.4, 19.6, 22.2, 13.7, 11.6, 19.4, 22.4, 21.3, 14.4, 19.9, 25.9, 25.6, 25.6, 27.2, 26.5, 26.6, 18.2, 20.7, 21.4, 22.5, 24.7, 27.6, 29.3, 21.9, 25.3, 24.5, 19.7, 24.9, 25.4, 24.6, 25.4, 22.7, 27.5, 26.8, 20.4, 22.7, 21.4, 27.5, 25.3, 28.8, 27.6, 29.6, 30.3, 26.2, 25.3, 27.4, 26.3, 27.9, 28.2, 30.3, 28.9, 26.6, 27.7, 27.3, 27.9, 29.6, 28.8, 32.1, 30.4, 30.8, 34.6, 33.0, 27.6, 27.6, 25.8, 28.7, 30.0, 26.6, 31.1, 26.4, 26.6, 24.3, 24.4, 28.8, 28.9, 22.4, 27.2, 30.6, 31.2, 29.2, 30.5, 30.4, 32.5, 28.5, 32.6, 32.1, 33.2, 33.0, 30.5, 33.7, 34.1, 34.7, 35.0, 34.4, 34.3, 33.3, 29.5, 32.6, 27.3, 30.1, 23.7, 25.2, 31.6, 31.2, 30.4, 29.5, 28.8, 27.8, 29.9, 27.4, 22.8, 29.3, 29.2, 29.9, 31.6, 31.6, 30.7, 28.4, 27.4, 29.3, 30.3, 31.6, 32.1, 30.2, 30.9, 25.4, 26.9, 28.0, 29.8, 31.1, 29.0, 29.2, 29.9, 29.0, 27.2, 26.4, 28.0, 21.6, 27.1, 26.6, 28.2, 25.8, 25.2, 26.4, 26.8, 21.6, 20.3, 24.9, 25.2, 26.4, 27.3, 25.9, 26.4, 24.6, 27.4, 28.1, 28.6, 28.5, 28.0, 28.8, 26.8, 20.2, 17.8, 22.0, 23.0, 17.8, 20.0, 20.9, 23.1, 23.4, 21.9, 18.4, 21.4, 21.6, 24.6, 23.5, 23.2, 23.0, 22.4, 21.8, 23.0, 21.2, 22.0, 25.1, 23.9, 22.0, 15.3, 16.3, 16.4, 16.9, 20.2, 19.7, 14.3, 13.7, 11.4, 9.8, 7.8, 10.1, 14.8, 14.9, 14.1, 14.1, 12.6, 16.2, 12.2, 6.2, 11.3, 9.8, 4.2, 5.6, 11.2, 12.3, 16.8, 10.2, 4.0, 4.4, 3.9, 2.0, 1.6, 9.0, 12.4, 11.0, 9.8, 9.0, 7.8, 6.4, 9.0, 10.6, 10.5, 11.0, 11.7, 13.7, 10.4, 6.2, 6.2, 0.9, 1.6, 0.1, 1.4, 1.1, 7.2, -4.1, -0.6, 3.3, 8.2, 4.2, 6.8, 5.4, 2.6, 2.3, -1.4, -1.2, 2.3, 7.4, 4.9, 5.6, -0.4, -3.2, 4.2, 7.3, 4.4, 6.3, 4.2, -3.8, 0.2, 0.2, 0.3, 1.2, -3.8, 0.7, 6.4, 6.6, 5.4, 3.9, -0.8, 0.4, 0.0, -4.4, -4.8, -8.4, -3.7, -3.6, 2.7, 3.1, 5.8, 2.5, 3.5, 3.6, 2.3, 0.7, 0.8, 0.7, -4.1, -5.5, -2.5, -2.8, -0.8, 0.4, 4.4, 5.8, 4.1, 8.0, 8.5, 7.0, 7.0, 11.0, 6.8, 3.3, 5.6, 4.2, 6.6, 8.3, 13.6, 17.4, 17.3, 7.3, 2.1, 1.0, -0.4, 3.3, 5.6, 5.9, 8.1, 8.5, 9.7, 10.7, 12.3, 12.3, 6.4, 10.1, 11.8, 10.9, 15.8, 17.3, 13.9, 11.4, 12.2, 12.8, 14.8, 10.8, 11.9, 14.3, 15.2, 11.5, 14.6, 17.4, 18.8, 24.0, 14.7, 12.4, 16.8, 25.0, 19.4, 12.0, 16.0, 18.2, 12.3, 14.7, 17.7, 20.1, 20.2, 17.7, 22.4, 19.6, 20.4, 20.0, 23.8, 18.2, 19.6, 20.4, 20.6, 23.6, 24.7, 25.9, 25.5, 24.7, 21.6, 19.1, 22.1, 27.6, 28.0, 28.9, 29.2, 29.7, 29.7, 20.7, 20.6, 17.6, 25.7, 29.1, 28.2, 27.6, 27.8, 28.4, 28.0, 29.8, 26.8, 23.1, 24.8, 26.0, 25.6, 24.8, 25.8, 21.9, 25.3, 28.6, 28.9, 29.6, 28.8, 26.4, 28.2, 29.4, 22.8, 26.3, 30.2, 30.1, 25.2, 29.6, 28.6, 25.6, 29.4, 30.6, 30.7, 23.5, 24.4, 24.8, 26.6, 24.5, 24.9, 29.4, 26.3, 28.4, 30.4, 28.6, 26.8, 28.6, 29.6, 26.3, 27.6, 25.0, 27.2, 28.6, 28.6, 27.3, 27.6, 27.6, 29.2, 27.8, 30.6, 31.5, 33.8, 32.8, 33.4, 34.8, 35.0, 34.8, 36.1, 36.0, 29.4, 34.8, 34.4, 32.6, 31.8, 32.4, 34.2, 33.9, 33.3, 30.1, 31.1, 29.9, 30.1, 32.4, 25.8, 27.1, 28.1, 26.8, 29.6, 25.8, 23.3, 21.8, 29.0, 31.6, 31.7, 32.1, 30.1, 30.7, 33.2, 31.6, 28.4, 22.8, 28.4, 26.5, 23.7, 24.8, 26.0, 29.2, 30.6, 23.8, 23.9, 23.6, 22.4, 26.6, 26.6, 24.8, 25.2, 29.7, 28.1, 26.7, 22.3, 22.5, 25.8, 24.6, 24.8, 26.4, 27.3, 26.7, 27.8, 27.8, 22.4, 26.6, 28.0, 29.2, 27.2, 24.2, 26.6, 25.0, 23.0, 21.9, 21.3, 21.0, 17.4, 18.0, 17.1, 21.0, 19.6, 19.4, 21.7, 20.5, 19.7, 21.8, 16.6, 18.1, 14.8, 20.0, 21.5, 21.8, 22.2, 16.3, 9.2, 12.6, 16.4, 17.1, 14.6, 14.4, 16.3, 16.8, 16.2, 15.6, 18.2, 17.2, 18.0, 16.0, 13.6, 14.4, 15.1, 15.2, 12.2, 12.3, 14.6, 11.8, 8.6, 6.4, 8.6, 10.8, 11.6, 14.6, 14.2, 11.7, 6.6, 0.0, 5.5, 10.0, 9.6, 3.9, 7.4, 8.4, 3.2, 6.8, 12.8, 14.6, 13.6, 9.1, 6.2, 8.8, 11.8, 7.5, 7.5, 6.6, 6.8, 0.1, -2.0, 2.4, 0.9, 2.8, 3.2, 5.0, 3.6, 9.0, 4.6, 4.8, -1.1, -2.9, -0.5, 1.4, 1.4, 2.0, 6.2, 7.0, 6.5, 7.0, 12.1, 13.4, 10.4, 6.6, 4.8, -3.1, -4.3, -2.2, 2.0, 5.5, 2.2, -1.5, 4.6, -0.3, 3.8, 8.5, 9.3, 7.8, 10.9, 10.8, 7.6, 5.4, 8.5, 4.2, -7.6, -5.0, -1.0, -2.2, 1.3, 0.8, 1.0, 6.8, 7.5, 6.7, 3.4, 8.6, 13.6, 1.4, 1.4, 4.4, 6.5, 5.0, 11.7, 12.2, 17.4, 11.4, 6.0, 6.8, 6.1, 8.6, 3.6, 2.2, 3.6, 6.1, 7.3, 9.1, 7.8, 7.5, 10.0, 12.8, 11.4, 13.2, 11.9, 8.4, 10.9, 10.8, 12.7, 13.3, 6.2, 9.7, 12.5, 15.5, 15.7, 13.0, 12.6, 6.0, 11.2, 13.4, 17.2, 18.4, 15.2, 12.1, 14.1, 13.6, 8.6, 8.3, 12.2, 16.4, 19.8, 14.2, 12.9, 11.3, 16.3, 17.4, 23.8, 15.8, 11.6, 15.0, 11.8, 13.6, 16.4, 19.7, 20.4, 20.2, 20.4, 20.4, 21.1, 22.8, 17.2, 17.6, 14.2, 18.2, 15.9, 17.8, 18.6, 22.2, 25.3, 26.0, 19.5, 17.3, 23.1, 20.0, 21.4, 20.7, 22.0, 17.1, 23.7, 18.6, 18.3, 18.0, 19.2, 23.3, 24.3, 27.0, 25.8, 25.2, 21.1, 14.2, 21.8, 25.4, 27.8, 28.3, 29.1, 26.0, 28.0, 25.5, 23.4, 26.7, 23.6, 20.2, 22.4, 24.2, 24.2, 20.0, 23.4, 25.5, 27.2, 27.6, 28.2, 28.3, 27.0, 26.2, 27.8, 20.1, 23.7, 23.6, 28.2, 24.9, 27.1, 27.3, 24.9, 27.1, 27.9, 28.9, 28.8, 27.7, 28.2, 29.2, 29.9, 29.1, 29.0, 30.8, 31.9, 25.2, 25.6, 29.1, 24.6, 24.6, 29.2, 28.7, 27.1, 28.7, 29.6, 28.6, 30.0, 25.3, 24.6, 30.2, 31.0, 32.1, 32.2, 27.2, 28.4, 28.5, 29.8, 28.5, 25.7, 28.2, 25.7, 29.7, 27.0, 30.4, 31.6, 30.7, 31.8, 31.7, 31.9, 32.6, 31.8, 32.3, 27.2, 26.5, 26.1, 28.8, 29.3, 30.7, 32.2, 30.0, 30.6, 32.3, 31.6, 26.7, 27.6, 27.1, 29.2, 29.5, 22.4, 24.8, 24.5, 27.5, 29.7, 25.9, 26.5, 26.3, 25.8, 27.1, 27.2, 26.3, 24.4, 28.1, 27.7, 21.4, 17.8, 27.0, 27.7, 27.0, 26.4, 23.3, 23.0, 19.4, 23.8, 20.9, 23.2, 24.8, 24.4, 25.9, 25.1, 25.0, 23.2, 23.7, 18.6, 21.9, 24.4, 24.8, 25.2, 23.6, 20.4, 21.4, 22.3, 23.4, 24.2, 25.3, 26.3, 25.5, 24.3, 21.9, 11.7, 16.0, 17.3, 19.8, 21.8, 21.0, 22.5, 22.3, 20.9, 21.3, 14.2, 22.2, 21.1, 23.5, 22.7, 17.3, 13.7, 17.9, 22.4, 22.3, 21.6, 11.5, 3.3, -3.9, 1.3, 8.5, 10.5, 6.6, 2.4, 6.0, 10.4, 6.6, 6.1, 0.7, 5.2, 9.6, 6.4, 7.2, 6.4, 1.7, 3.5, 5.6, 7.9, 8.6, 6.8, 11.0, 6.6, 9.4, 9.4, 6.5, 3.1, 6.4, 3.6, 5.2, 8.6, 4.6, 7.9, 7.5, 9.7, 11.7, 8.7, 4.6, 4.0, -1.8, -3.3, -3.4, 1.2, -1.3, 2.3, 1.0, 6.7, 6.3, 6.6, 5.9, 6.2, -0.5, -1.0, 4.0, -4.7, -1.3, 2.1, -2.2, -3.5, -1.2, 0.1, -1.5, -0.5, -2.8, -8.0, -4.6, -0.2, -1.6, -3.6, -3.4, 5.4, 2.4, 2.8, 8.4, 8.1, 8.9, 5.7, -0.7, -8.5, -4.9, -2.0, -2.1, -6.2, -6.1, -8.1, -6.6, -6.3, -2.6, 0.2, 3.5, -0.8, -2.0, -1.3, 0.5, 1.5, 4.4, 3.2, 6.3, 7.2, 5.3, 4.8, 8.0, 6.0, 12.0, 10.5, 6.2, 8.2, 12.0, 7.7, 9.0, 10.3, 12.0, 11.0, 11.4, 11.3, 16.2, 11.1, 8.7, 7.3, 8.0, 9.9, 8.3, 7.9, 10.2, 10.6, 11.3, 10.5, 10.6, 12.9, 7.9, 4.9, 7.7, 9.4, 9.8, 14.8, 15.3, 18.1, 18.0, 11.4, 11.7, 12.9, 18.4, 21.0, 18.2, 12.5, 13.3, 15.2, 16.1, 17.3, 18.0, 14.8, 12.9, 10.0, 11.3, 9.9, 12.4, 19.2, 19.6, 12.7, 14.2, 15.3, 13.5, 14.0, 16.9, 20.2, 14.2, 14.8, 19.4, 19.5, 21.2, 22.3, 19.2, 18.8, 18.3, 19.9, 21.1, 20.1, 20.8, 20.9, 26.3, 17.7, 17.7, 17.1, 22.2, 18.0, 19.5, 22.6, 18.8, 23.8, 26.4, 25.8, 27.4, 27.5, 21.7, 17.6, 21.6, 25.0, 24.7, 29.2, 31.7, 27.7, 20.2, 22.1, 27.0, 26.7, 30.6, 28.7, 22.0, 21.6, 25.5, 26.4, 27.1, 29.1, 31.6, 29.2, 24.9, 28.4, 28.3, 28.2, 26.1, 27.2, 27.8, 28.4, 30.7, 23.7, 20.5, 24.3, 28.1, 29.8, 24.2, 20.9, 23.2, 27.3, 22.9, 23.4, 28.2, 27.2, 26.9, 30.3, 28.4, 29.0, 29.6, 28.3, 21.8, 26.8, 29.6, 28.2, 22.9, 29.5, 24.0, 25.1, 24.5, 29.0, 29.8, 24.3, 28.8, 27.6, 24.8, 26.2, 28.9, 28.9, 30.6, 29.9, 27.8, 28.9, 28.2, 27.3, 23.8, 21.8, 27.4, 28.5, 27.6, 27.8, 23.7, 24.8, 29.2, 27.5, 20.5, 26.8, 28.1, 26.8, 29.2, 29.7, 27.8, 27.2, 24.2, 23.8, 24.2, 26.4, 23.0, 27.4, 27.4, 29.0, 25.8, 27.0, 25.8, 27.0, 26.1, 27.0, 26.7, 25.0, 19.2, 23.8, 24.8, 26.5, 27.3, 28.1, 24.1, 24.6, 24.7, 26.9, 26.8, 21.4, 19.5, 20.5, 22.9, 24.4, 25.8, 24.7, 24.8, 22.7, 22.7, 23.0, 24.1, 25.5, 25.6, 17.5, 21.0, 23.7, 20.5, 22.6, 17.9, 24.6, 24.9, 22.3, 21.0, 20.4, 19.4, 21.9, 18.6, 23.2, 21.6, 12.6, 13.4, 17.4, 18.6, 13.5, 6.0, 10.4, 11.1, 13.5, 12.8, 9.7, 12.6, 11.9, 14.6, 15.4, 18.1, 17.2, 16.2, 6.8, 11.5, 14.7, 16.8, 15.9, 3.7, 11.1, 10.4, 15.1, 15.1, 16.1, 19.8, 16.6, 15.6, 16.1, 11.6, 10.3, 9.6, 13.0, 11.6, 13.5, 10.8, 12.5, 12.0, 7.7, 2.6, -3.7, 1.6, 4.7, 5.0, 1.4, 0.2, 6.2, 5.3, -1.0, -6.0, -3.1, -1.2, 0.5, 3.2, 2.9, -0.4, -2.7, 0.4, 2.1, 0.5, 2.4, 2.2, -4.0, -7.2, -8.4, -8.7, -4.2, -1.2, -0.2, -6.3, -8.8, -7.1, -8.2, -4.8, -0.5, -0.8, 0.8, -4.2, -3.4, -1.6, -5.5, -4.2, -2.7, -2.2, -1.5, 0.6, -1.6, -2.3, -2.6, -3.7, -1.5, -0.7, -3.3, -5.0, -2.7, 0.4, 0.6, -0.3, 1.3, 2.5, 2.1, -1.8, -1.4, 1.4, 3.0, 0.8, 0.6, 3.0, 3.6, 4.6, 4.3, 7.1, 11.7, 7.4, 6.4, 7.8, 5.3, 3.8, 0.4, 1.9, 7.4, 6.7, 2.9, -6.0, -7.9, -2.7, 1.8, 5.9, 7.8, 9.0, 7.7, 6.8, 3.2, 10.0, 6.6, 3.4, 7.2, 11.2, 17.2, 21.7, 12.8, 6.7, 9.0, 14.2, 14.8, 19.0, 18.6, 19.4, 15.2, 19.4, 10.8, 7.0, 3.0, 8.0, 13.4, 14.0, 15.7, 18.2, 9.1, 12.9, 10.4, 16.8, 10.4, 17.4, 23.2, 23.9, 23.4, 17.9, 15.5, 17.2, 16.4, 18.6, 20.0, 12.9, 18.0, 19.0, 11.9, 15.2, 19.1, 21.7, 22.3, 15.1, 19.4, 22.4, 22.3, 25.3, 17.3, 18.3, 26.4, 17.0, 14.0, 17.5, 20.7, 23.3, 22.9, 22.6, 21.2, 17.6, 15.2, 16.0, 18.4, 20.0, 22.0, 16.4, 13.8, 14.0, 17.7, 18.8, 22.8, 23.8, 25.8, 25.8, 24.8, 28.3, 28.5, 20.3, 26.7, 23.9, 21.4, 22.7, 24.4, 22.8, 24.3, 26.7, 25.6, 27.8, 27.9, 25.5, 21.3, 23.6, 27.6, 28.0, 27.8, 28.8, 30.7, 30.3, 29.0, 27.2, 28.8, 26.3, 28.8, 27.4, 25.6, 25.8, 30.0, 23.4, 27.6, 29.2, 30.5, 24.1, 23.8, 23.3, 26.6, 25.4, 25.8, 27.1, 27.3, 25.2, 28.8, 28.8, 24.3, 29.3, 29.8, 30.6, 31.6, 30.5, 31.6, 31.8, 31.8, 29.4, 32.1, 31.9, 32.5, 33.2, 33.9, 28.5, 30.9, 29.6, 33.3, 35.2, 29.7, 30.2, 28.8, 31.6, 28.2, 27.6, 24.2, 27.0, 30.6, 27.3, 31.0, 30.2, 30.0, 33.0, 31.6, 31.4, 26.0, 28.1, 30.3, 27.2, 28.3, 29.4, 29.8, 28.4, 23.2, 26.2, 30.2, 30.1, 30.1, 25.8, 22.7, 19.2, 26.7, 23.0, 25.4, 27.3, 28.2, 28.0, 26.3, 23.5, 25.5, 24.7, 20.8, 22.4, 22.6, 23.4, 23.7, 24.9, 25.8, 26.0, 28.6, 28.8, 29.0, 29.0, 22.4, 25.2, 27.5, 25.4, 21.7, 21.7, 22.0, 23.3, 21.4, 22.8, 17.6, 21.6, 21.2, 21.8, 21.8, 16.0, 20.8, 21.2, 21.4, 19.2, 16.7, 18.4, 20.4, 23.2, 19.9, 18.2, 18.9, 21.4, 15.8, 6.1, 10.5, 12.6, 15.2, 14.7, 11.7, 14.8, 18.2, 13.9, 13.6, 10.8, 10.8, 7.1, 5.8, 8.8, 1.0, 1.8, 3.8, 6.8, 8.2, 12.6, 13.0, 11.2, 9.5, 10.0, 7.0, 6.5, 8.2, 10.5, 6.6, 8.2, 9.0, 5.1, 4.7, 10.5, 3.8, 1.8, 2.8, 4.9, 0.4, -2.2, 4.3, 4.1, 4.0, 3.4, 4.2, 6.2, 7.6, 7.0, 7.3, 4.7, 1.2, -1.3, -1.0, 3.0, 4.2, 4.5, -0.3, 2.8, 4.4, 6.2, 5.2, 4.0, 5.9, 10.2, 8.9, 9.5, 6.7, -0.6, 1.2, 0.2, 3.4, 4.2, 6.7, 2.6, 3.1, 0.1, 1.1, 3.7, 4.9, 6.8, -2.3, -5.8, -4.5, -2.6, -3.6, -1.4, -2.4, -5.0, 0.5, 6.6, 4.9, 3.3, 5.1, 4.8, 4.5, -2.2, -7.0, -4.8, -1.1, -0.5, -0.2, 2.0, 3.6, 5.3, -0.9, -2.8, -3.8, -0.3, 4.2, 1.3, 2.3, 6.3, 6.7, 6.8, 5.6, 6.7, 9.8, 9.2, 7.1, 10.9, 9.6, 6.1, 12.3, 11.4, 8.3, 8.2, 8.5, 10.9, 9.1, 8.2, 8.5, 6.0, 9.5, 2.8, 2.8, 5.8, 9.9, 10.5, 15.6, 16.6, 17.0, 14.6, 14.1, 8.0, 3.9, 10.8, 13.6, 15.8, 13.8, 16.5, 15.1, 8.6, 7.9, 10.0, 11.6, 15.0, 14.9, 6.8, 15.2, 18.0, 11.2, 15.2, 15.8, 17.7, 18.1, 19.7, 13.0, 12.0, 15.0, 17.8, 16.1, 17.5, 20.8, 15.7, 12.9, 14.0, 15.3, 17.6, 15.7, 21.9, 21.1, 20.7, 23.6, 27.5, 26.9, 20.5, 19.5, 20.2, 22.8, 20.8, 24.2, 20.7, 15.5, 24.4, 17.5, 22.5, 22.9, 18.4, 27.4, 24.7, 28.3, 20.5, 21.3, 21.4, 21.1, 23.8, 24.5, 18.2, 19.3, 22.6, 26.3, 22.3, 25.6, 23.8, 22.5, 25.6, 24.2, 28.8, 28.9, 20.8, 16.4, 19.1, 25.2, 25.9, 30.6, 27.3, 27.5, 28.4, 30.1, 27.4, 28.5, 28.0, 23.0, 27.6, 26.7, 27.3, 29.0, 28.9, 24.9, 27.8, 29.9, 29.1, 29.8, 27.5, 28.0, 28.9, 28.2, 28.3, 29.8, 29.0, 29.2, 30.5, 30.1, 29.2, 31.5, 31.7, 32.3, 32.8, 33.0, 32.0, 28.8, 28.1, 28.3, 33.7, 30.9, 29.7, 29.4, 29.9, 29.5, 30.8, 32.2, 31.7, 29.0, 29.4, 25.0, 30.7, 27.0, 27.3, 27.5, 29.6, 32.4, 31.6, 28.1, 29.4, 32.5, 30.4, 29.2, 31.1, 33.4, 33.5, 32.7, 35.5, 33.7, 27.8, 26.4, 25.2, 27.0, 31.3, 30.8, 30.4, 27.8, 26.1, 27.6, 27.8, 29.7, 23.4, 28.6, 24.9, 23.5, 28.1, 28.7, 29.4, 30.9, 28.4, 28.1, 23.1, 23.2, 26.6, 25.9, 27.5, 27.5, 26.7, 25.2, 26.6, 27.9, 27.3, 28.2, 28.6, 29.0, 26.5, 28.2, 27.0, 22.4, 25.9, 26.4, 28.2, 27.8, 25.3, 20.2, 23.0, 23.9, 23.7, 26.3, 24.3, 25.9, 24.6, 25.9, 26.4, 25.9, 28.2, 25.8, 26.2, 24.8, 24.8, 26.2, 24.3, 24.4, 22.1, 18.0, 22.4, 19.0, 17.8, 20.6, 20.5, 11.1, 6.6, 11.4, 18.1, 19.2, 20.9, 23.2, 23.8, 17.0, 13.4, 13.6, 15.6, 16.6, 20.8, 21.3, 21.4, 19.5, 16.4, 14.0, 10.4, 13.6, 15.3, 15.6, 14.4, 8.7, 12.0, 13.8, 11.7, 9.7, 9.2, 8.8, 7.9, 3.8, 2.7, 5.7, 9.5, 11.1, 9.9, 9.5, 9.0, 5.6, 6.6, 7.9, 3.8, -1.9, 3.5, 4.8, 5.0, 4.1, 3.6, -3.9, -2.0, 0.9, 3.4, 1.7, 0.4, -1.9, 3.2, 6.5, 10.6, 7.6, 4.3, 5.2, 0.4, 3.3, 2.6, 6.9, 6.0, 4.6, 2.8, 5.9, 4.6, 5.0, 4.4, 6.4, 9.2, 8.1, -2.5, -5.4, -5.7, -3.8, -1.8, 0.5, 3.4, 2.2, 6.9, 2.9, 3.4, -2.7, -5.0, -4.8, -4.2, 1.7, 6.2, 6.9, 6.2, 6.4, 6.3, 4.7, 6.5, 7.4, 5.7, 5.6, 5.3, 4.8, 7.0, 6.3, 1.4, 0.5, 0.3, 0.3, -2.2, -6.2, -2.9, 1.2, 3.0, 3.5, 3.7, -4.4, -3.3, -4.8, -0.7, 3.3, 5.4, 5.6, 5.0, 5.8, 8.6, 10.3, 10.1, 4.9, 7.9, 4.9, 6.1, 7.9, 5.1, 6.6, 8.5, 10.0, 12.5, 13.4, 4.1, 6.1, 9.6, 13.2, 4.0, 9.7, 13.6, 12.6, 18.3, 18.5, 12.6, 14.4, 14.8, 15.4, 14.2, 17.3, 18.9, 18.9, 17.3, 15.8, 9.3, 5.5, 11.0, 17.0, 22.0, 21.6, 23.5, 24.0, 26.7, 23.3, 22.1, 24.9, 18.3, 12.9, 15.5, 20.0, 23.2, 21.0, 20.4, 17.5, 14.4, 20.4, 22.6, 23.3, 24.5, 21.7, 19.0, 14.1, 15.6, 16.3, 19.1, 22.9, 26.4, 28.3, 19.1, 16.9, 19.4, 24.6, 25.7, 27.5, 26.4, 22.9, 24.5, 24.1, 24.2, 21.2, 20.8, 18.4, 24.9, 25.3, 25.5, 23.5, 29.4, 27.2, 24.2, 17.3, 25.8, 27.6, 29.9, 26.8, 28.8, 28.8, 29.5, 29.3, 26.1, 24.8, 26.2, 26.4, 27.9, 27.6, 28.9, 19.4, 24.3, 29.6, 29.6, 29.7, 31.0, 31.2, 32.6, 24.6, 30.3, 28.6, 27.0, 29.5, 29.5, 28.1, 26.9, 27.3, 24.1, 28.5, 29.8, 26.2, 23.6, 27.9, 22.2, 24.2, 26.9, 23.0, 26.9, 26.9, 29.3, 28.4, 29.5, 22.5, 27.8, 26.5, 27.0, 26.5, 24.9, 22.0, 27.8, 29.9, 27.9, 26.8, 26.5, 29.4, 26.9, 28.8, 27.1, 27.1, 30.9, 29.7, 31.6, 32.7, 33.7, 34.3, 33.6, 32.6, 30.8, 27.0, 31.2, 30.9, 32.5, 32.7, 32.5, 32.6, 33.1, 33.6, 32.9, 29.6, 24.7, 25.3, 28.3, 21.7, 22.0, 26.9, 28.6, 30.7, 26.6, 28.4, 29.6, 30.9, 31.5, 26.0, 26.8, 25.9, 22.6, 28.2, 26.9, 27.7, 21.6, 23.6, 21.6, 28.0, 27.7, 24.9, 26.9, 27.2, 28.3, 28.9, 28.4, 29.3, 26.7, 28.7, 21.8, 27.6, 27.3, 25.6, 24.8, 23.1, 21.2, 23.3, 23.7, 22.8, 20.6, 22.6, 19.6, 19.8, 17.4, 15.2, 22.2, 22.8, 21.6, 21.3, 15.4, 20.1, 21.0, 21.8, 21.5, 20.4, 18.5, 19.8, 19.5, 17.4, 12.2, 12.2, 12.2, 13.4, 16.3, 17.3, 18.9, 17.0, 15.0, 16.2, 18.5, 15.7, 18.2, 17.7, 17.2, 17.3, 17.4, 15.5, 13.4, 10.9, 6.2, 6.7, 10.5, 9.4, 7.6, -1.8, 8.8, 11.4, 13.5, 9.3, 15.2, 11.4, 8.0, 5.6, 1.6, 6.3, 9.3, 10.8, 8.4, 6.9, 11.1, 7.3, 6.0, 8.7, 6.5, 7.0, 8.9, 10.1, 11.7, 3.4, 7.2, 10.5, 1.9, 2.2, 0.1, -2.5, 1.4, 2.9, 5.0, 4.0, 1.8, -4.0, -5.7, -5.1, -1.0, -2.8, -3.7, -4.4, -4.3, -2.1, -0.2, 0.1, 0.1, -5.2, -4.7, -2.3, -1.6, -0.7, 4.1, 3.3, -0.2, -1.4, 0.9, 2.9, 0.3, -5.6, -5.2, -5.0, -2.3, -3.1, 0.9, -4.1, -0.6, -2.2, -5.3, -5.9, -5.9, -5.3, -3.0, -0.8, 3.8, 1.9, -5.7, -3.4, -0.2, -1.2, -8.4, -6.3, -3.5, -3.2, -0.1, 5.0, 5.1, 2.8, 2.0, 1.4, 0.3, 2.0, 4.3, 3.7, 6.6, 8.0, 5.1, 4.1, 7.8, 6.7, 2.6, -0.9, -0.1, 0.6, 4.6, 3.3, 1.7, 3.0, 4.0, 5.3, 5.9, 7.5, 7.8, 3.0, 6.7, 6.3, 7.7, 12.0, 7.5, 7.6, 7.3, 8.8, 11.6, 6.1, 6.5, 7.5, 7.9, 7.6, 8.3, 7.1, 8.2, 9.1, 14.2, 12.7, 8.4, 15.0, 12.9, 20.3, 20.2, 13.6, 8.4, 13.5, 16.9, 15.3, 18.5, 18.8, 20.0, 19.1, 19.3, 18.4, 21.6, 18.2, 13.2, 17.8, 19.2, 17.8, 18.9, 20.9, 23.0, 21.4, 15.5, 20.6, 18.4, 20.9, 19.6, 15.9, 20.6, 21.3, 21.6, 24.1, 23.1, 23.9, 23.9, 25.6, 24.9, 25.3, 19.5, 20.5, 24.8, 22.5, 25.1, 24.4, 23.9, 26.2, 28.1, 26.3, 26.3, 26.1, 26.9, 24.0, 20.3, 25.3, 25.8, 25.4, 25.8, 26.8, 28.0, 32.4, 30.5, 28.3, 28.2, 26.9, 24.6, 27.4, 21.8, 24.6, 29.2, 32.4, 34.2, 31.9, 30.5, 25.5, 22.6, 23.5, 27.3, 27.6, 28.9, 23.0, 28.7, 29.0, 23.5, 28.0, 27.9, 24.9, 28.7, 30.2, 32.3, 29.4, 25.5, 23.5, 29.8, 29.5, 24.6, 25.7, 27.0, 29.7, 29.4, 23.9, 26.7, 30.1, 32.7, 29.2, 29.3, 29.9, 31.0, 31.5, 31.0, 25.0, 30.0, 30.7, 30.0, 32.3, 33.2, 32.2, 31.1, 33.3, 34.7, 32.1, 29.7, 31.5, 30.9, 31.9, 31.9, 31.3, 31.7, 33.1, 35.2, 32.5, 32.9, 32.7, 31.3, 26.1, 29.2, 31.9, 34.7, 34.6, 31.3, 31.2, 29.5, 27.3, 23.9, 29.5, 30.2, 28.5, 26.6, 29.4, 29.7, 24.2, 24.8, 21.3, 24.0, 23.9, 27.1, 26.0, 28.7, 26.1, 27.5, 24.7, 24.4, 24.7, 25.3, 26.7, 27.7, 26.9, 24.6, 27.2, 25.7, 24.3, 26.4, 27.8, 25.5, 21.9, 22.5, 25.1, 22.2, 19.3, 23.8, 25.2, 25.1, 20.7, 19.3, 17.3, 18.4, 21.0, 21.4, 22.4, 22.8, 23.8, 25.7, 21.1, 22.6, 22.0, 23.3, 19.8, 21.7, 21.8, 21.5, 12.8, 10.7, 19.1, 21.5, 19.8, 20.7, 22.2, 17.1, 11.1, 12.2, 11.9, 15.2, 16.1, 11.9, 15.4, 18.6, 20.1, 21.2, 20.0, 18.1, 16.3, 11.4, 16.1, 11.6, 8.5, 13.3, 13.2, 16.5, 12.9, 16.0, 9.4, 9.6, 9.6, 12.8, 11.5, 9.3, 11.6, 8.9, 2.7, 4.2, 9.1, 12.0, 8.3, 7.3, 10.2, 9.5, 1.5, 4.1, 6.6, 8.5, 14.5, 9.9, 13.1, 9.8, 9.2, 7.0, 6.1, 4.1, 3.8, 0.5, 1.6, 3.3, -0.1, -3.5, -5.6, -7.0, -3.3, -0.6, -2.3, -5.0, -4.8, 0.3, 1.4, 3.0, 3.4, 3.5, -0.6, -1.0, -0.5, -3.0, -1.2, 2.0, -2.4, -0.6, -0.8, -7.5, -7.6, 3.0, -7.5, -2.6, 2.8, 0.7, -1.2, -0.5, 2.0, -1.3, -1.0, 0.0, 2.9, 1.8, -7.0, -9.7, -8.3, 1.8, 4.7, 6.2, 4.3, 3.5, 10.4, 9.5, 8.2, 9.4, 6.8, 5.8, 3.8, 3.4, 0.8, 1.9, 6.8, 3.7, 5.3, 2.5, 10.2, -0.2, -4.7, -3.5, -4.1, -1.6, 1.0, 2.9, 8.9, 10.8, 5.0, 7.5, 7.7, 6.3, 2.8, 1.9, 8.2, 6.9, 1.9, 4.1, 5.7, 7.6, 8.2, 9.2, 12.9, 10.0, 13.5, 12.4, 16.5, 15.7, 13.6, 13.3, 15.4, 19.0, 12.9, 13.7, 7.9, 9.1, 6.7, 8.8, 10.3, 12.8, 14.5, 9.3, 7.4, 14.8, 15.2, 19.3, 20.1, 23.0, 21.0, 15.9, 20.4, 24.3, 20.6, 19.8, 20.1, 10.5, 17.6, 15.8, 20.0, 22.1, 14.6, 14.1, 20.5, 22.9, 15.8, 17.0, 17.5, 22.4, 24.8, 22.9, 25.0, 24.7, 24.9, 18.1, 15.8, 19.0, 20.9, 27.3, 27.5, 27.3, 25.8, 19.0, 25.7, 26.8, 29.6, 27.9, 17.8, 17.5, 17.3, 20.3, 24.9, 25.2, 23.2, 20.5, 26.9, 27.2, 29.1, 26.5, 25.2, 22.1, 23.8, 26.8, 24.8, 28.1, 30.0, 29.1, 20.3, 26.5, 24.5, 26.6, 25.7, 28.2, 25.6, 24.7, 25.8, 28.1, 24.6, 28.4, 29.8, 29.7, 27.0, 26.6, 27.7, 27.0, 29.8, 31.9, 27.1, 30.3, 30.6, 29.9, 26.3, 30.9, 23.1, 27.2, 28.0, 27.5, 25.6, 25.4, 29.4, 26.5, 28.1, 23.5, 27.3, 29.3, 30.7, 27.8, 24.9, 28.2, 25.6, 30.5, 31.2, 32.7, 30.1, 31.8, 32.0, 33.5, 32.1, 33.6, 35.4, 34.7, 33.4, 32.1, 27.3, 28.4, 30.0, 25.9, 31.9, 31.9, 34.3, 27.4, 24.4, 30.2, 32.7, 31.7, 29.1, 28.3, 30.2, 29.1, 32.8, 33.6, 33.2, 32.4, 33.4, 34.1, 33.5, 32.1, 31.0, 26.5, 28.4, 29.6, 32.3, 25.7, 30.1, 24.3, 30.0, 25.6, 29.7, 26.0, 28.5, 28.2, 29.4, 22.2, 24.7, 26.5, 23.8, 22.4, 17.8, 23.7, 19.7, 22.4, 20.1, 19.7, 21.2, 23.7, 21.4, 24.5, 21.5, 23.4, 22.6, 22.1, 21.4, 19.7, 17.5, 20.4, 23.4, 23.2, 18.2, 17.6, 20.4, 23.7, 24.9, 19.1, 25.7, 20.6, 20.3, 19.3, 23.0, 18.5, 15.7, 15.2, 13.1, 15.4, 17.1, 18.6, 18.7, 18.8, 19.0, 18.8, 20.4, 21.7, 20.9, 20.9, 17.7, 13.5, 14.5, 15.8, 16.3, 16.7, 16.1, 18.8, 17.7, 11.9, 6.7, 4.5, 5.2, 4.1, 6.3, 6.7, 5.9, 5.6, 4.4, 7.1, 10.7, 11.9, 12.2, 10.7, 4.7, 7.5, 10.5, 11.1, 8.1, 1.0, 0.2, 2.4, 1.1, 7.2, 7.0, 8.1, -0.3, 0.7, -3.3, -6.1, -7.2, -3.9, -1.9, 2.2, -2.6, -7.5, -6.7, -5.0, -1.8, -1.1, -1.1, 2.0, 3.7, -0.2, 0.4, 4.4, 2.0, 5.5, 8.2, 3.8, 3.7, -1.1, -6.1, -5.6, 0.2, -3.2, -13.6, -5.9, -1.0, -4.4, -6.8, -7.4, -6.5, -3.2, -3.5, 1.0, 2.6, 1.3, 3.8, 7.1, 5.7, 3.9, 0.4, -2.9, 2.8, -1.9, -3.8, -5.4, -3.3, 3.9, 5.2, 5.5, -1.8, -2.3, 0.1, -5.8, -3.8, -4.4, -4.0, -3.5, -1.1, -0.9, -0.6, 1.7, 4.6, 1.5, 3.4, 3.6, 5.2, 4.8, 5.1, 3.1, 2.1, 3.4, 4.4, 0.7, 1.2, 4.0, -0.8, -4.7, 1.2, 1.4, 3.9, 9.0, 8.7, 10.5, 12.2, 13.6, 12.9, 8.7, 4.0, 6.2, 6.3, 10.3, 15.1, 8.0, 7.5, 10.2, 7.7, 3.4, 7.3, 11.7, 10.7, 11.4, 11.5, 12.5, 13.6, 16.2, 18.6, 15.9, 13.3, 13.3, 14.1, 17.8, 17.4, 17.6, 14.4, 11.4, 13.6, 17.9, 22.0, 17.4, 12.1, 13.7, 18.3, 21.8, 17.2, 13.6, 17.5, 21.7, 24.3, 16.1, 17.4, 19.0, 19.9, 20.1, 18.0, 15.7, 17.0, 20.9, 23.3, 24.2, 15.4, 20.7, 25.0, 26.5, 26.5, 24.9, 24.3, 25.9, 17.5, 17.0, 19.0, 24.1, 16.8, 16.0, 15.4, 18.3, 25.6, 23.8, 22.5, 22.6, 22.0, 23.0, 25.3, 21.5, 27.2, 21.2, 25.6, 25.5, 27.3, 27.5, 24.0, 24.9, 26.5, 27.1, 24.0, 24.8, 22.5, 28.0, 28.0, 25.8, 28.8, 32.4, 30.9, 26.0, 25.2, 21.1, 20.6, 19.8, 24.0, 25.8, 26.5, 29.6, 28.5, 27.9, 24.8, 28.0, 27.7, 29.7, 25.7, 26.0, 26.9, 24.8, 25.7, 24.7, 23.8, 23.7, 27.8, 29.9, 31.5, 27.9, 28.7, 23.3, 27.1, 25.3, 28.5, 29.3, 25.5, 25.1, 26.0, 24.7, 27.1, 25.4, 28.0, 27.0, 23.3, 26.9, 28.6, 27.2, 30.0, 28.2, 31.2, 31.7, 32.8, 31.3, 32.1, 28.8, 29.8, 29.7, 29.0, 30.4, 30.6, 29.9, 25.2, 27.1, 27.2, 30.1, 31.6, 26.4, 25.4, 24.7, 29.5, 26.4, 27.8, 27.8, 26.9, 29.4, 30.5, 30.5, 23.6, 23.2, 24.7, 27.6, 28.2, 31.0, 21.4, 28.2, 26.6, 28.0, 27.0, 27.0, 26.6, 26.8, 27.2, 26.1, 25.5, 23.5, 25.6, 25.8, 25.5, 20.6, 20.9, 24.5, 19.6, 17.6, 24.1, 24.5, 22.9, 25.2, 24.9, 23.6, 24.6, 22.9, 22.7, 19.0, 19.1, 22.8, 23.8, 22.0, 23.5, 23.9, 21.8, 17.4, 20.0, 18.8, 19.6, 19.4, 20.4, 17.8, 17.6, 14.6, 17.3, 17.5, 13.8, 12.2, 16.5, 15.5, 16.2, 17.4, 14.1, 13.6, 10.4, 8.0, 8.4, 12.3, 14.2, 14.4, 13.2, 11.1, 13.0, 13.7, 13.7, 9.8, 9.0, 10.4, 9.5, 13.0, 12.3, 12.5, 4.8, 6.1, 7.6, 11.1, 10.3, 9.7, 9.8, 8.7, 16.2, 11.7, 5.0, 0.3, 2.9, 4.8, 0.6, 5.0, 8.9, 8.8, 5.7, 4.6, 5.4, 7.8, 3.5, 6.4, 7.2, 8.2, 9.1, 10.3, 13.2, 10.5, 8.3, 8.6, 8.9, 5.4, 2.1, 3.0, 5.4, 0.4, 3.7, 8.9, 3.3, -2.8, -3.0, -2.5, -0.8, 3.2, 4.5, -0.2, 2.8, 0.4, -1.8, 0.8, 4.6, 2.4, 5.6, 3.7, -5.7, -0.5, -2.9, -8.5, -2.6, 5.6, 6.0, 1.7, -0.8, -0.7, 0.5, 4.0, 8.9, 3.1, -4.2, -3.6, 0.4, 5.0, 6.0, 6.7, -2.1, -3.4, -0.9, -3.2, -0.2, -1.0, 4.1, 5.8, 6.2, 8.4, 12.8, 10.8, 10.1, 5.8, 4.0, 2.5, 0.1, 1.9, 6.3, 6.5, 6.5, 4.4, 3.6, 5.8, 9.4, 3.6, -1.3, -1.0, -2.7, 3.4, 0.6, 2.2, 5.7, 7.7, 7.9, 4.6, 9.0, 7.4, 8.4, 7.1, 7.6, 14.5, 13.2, 6.2, 6.3, 8.3, 14.5, 11.6, 7.3, 13.8, 12.0, 9.8, 17.5, 10.9, 0.9, 5.6, 7.2, 8.8, 14.1, 8.1, 8.5, 9.0, 10.5, 6.8, 18.0, 24.7, 16.4, 15.8, 22.0, 17.0, 10.9, 10.8, 8.8, 10.3, 12.8, 17.7, 19.6, 18.2, 21.0, 19.8, 23.0, 20.8, 10.5, 15.9, 18.4, 14.2, 18.5, 17.4, 19.8, 21.2, 18.1, 23.9, 19.6, 16.8, 17.9, 17.8, 19.7, 21.0, 22.5, 23.5, 20.5, 21.4, 24.3, 20.4, 23.5, 24.2, 21.2, 15.4, 22.3, 22.4, 26.5, 28.9, 21.6, 20.4, 24.2, 21.2, 26.0, 24.7, 25.0, 23.6, 24.4, 29.0, 28.2, 21.2, 23.6, 28.3, 28.7, 28.3, 22.3, 26.8, 27.1, 28.6, 29.0, 27.3, 26.5, 26.1, 26.2, 25.5, 28.4, 28.3, 24.9, 22.7, 28.4, 29.3, 28.6, 26.5, 31.6, 31.2, 30.9, 24.8, 27.6, 27.2, 30.6, 29.5, 28.7, 29.1, 27.5, 28.3, 29.0, 26.2, 30.6, 25.6, 24.5, 25.3, 26.8, 25.3, 23.1, 23.3, 26.6, 28.6, 30.4, 31.2, 25.7, 24.6, 25.6, 25.8, 29.4, 24.4, 26.8, 30.0, 25.6, 25.6, 26.1, 31.5, 27.8, 29.2, 24.7, 30.2, 27.8, 23.6, 25.6, 28.0, 27.7, 28.5, 29.0, 29.8, 31.6, 28.4, 25.9, 29.3, 30.3, 29.6, 25.2, 27.8, 30.3, 29.9, 31.1, 28.6, 30.4, 27.5, 30.5, 25.0, 22.4, 24.6, 27.4, 28.6, 28.6, 26.7, 21.1, 23.6, 24.8, 25.6, 27.0, 27.4, 27.2, 28.3, 27.3, 27.2, 27.8, 23.7, 23.8, 24.3, 25.4, 27.9, 23.0, 26.7, 25.6, 26.8, 19.6, 15.9, 19.9, 23.7, 23.6, 26.0, 26.3, 21.9, 24.7, 26.5, 27.2, 24.0, 24.1, 23.6, 25.8, 27.3, 25.8, 23.6, 19.6, 21.5, 19.4, 24.1, 21.6, 17.5, 13.6, 10.9, 11.2, 14.2, 15.6, 19.3, 15.5, 19.3, 17.6, 20.9, 17.2, 19.9, 17.7, 15.3, 12.0, 13.4, 13.4, 8.5, 11.7, 10.6, 10.4, 15.0, 15.9, 19.0, 17.2, 15.7, 15.3, 14.4, 13.9, 12.2, 11.6, 7.7, 11.7, 15.0, 15.7, 15.1, 9.4, 15.1, 14.4, 10.9, 4.2, -2.4, -0.9, -5.0, -1.5, -0.3, 1.0, 4.2, 5.1, 4.2, 7.8, 9.0, 9.3, -0.9, 1.8, 1.7, 4.9, 5.2, 4.4, 5.2, 7.0, 7.8, 4.0, 6.0, 6.3, 6.7, 8.8, 10.2, 7.9, 10.3, 11.8, 10.0, 0.0, 0.0, -0.8, 1.6, 1.3, 3.2, 1.9, 2.6, 1.0, 4.8, -2.9, -3.2, 0.6, 4.1, 6.3, 10.1, 5.7, 0.0, 1.7, 1.7, 2.8, 5.1, 4.5, 5.1, -4.6, -4.2, -1.8, -0.5, 5.1, 3.8, 4.3, -0.7, -0.1, 3.4, 1.6, -3.9, 1.3, 6.2, -2.6, -4.1, -0.9, -0.3, -1.3, 0.5, 2.2, 5.3, 2.9, -1.5, -2.8, -1.2, -0.7, 4.4, 6.4, 8.6, 7.7, 9.2, 7.9, 8.7, 10.8, 12.2, 7.0, 6.2, 7.1, 1.6, 1.2, 1.4, 4.0, 2.5, 0.1, 1.6, 7.0, 10.8, 5.1, 9.4, 14.6, 11.9, 8.5, 7.7, 11.6, 5.8, 8.5, 11.0, 14.1, 13.2, 7.8, 10.5, 13.2, 11.8, 13.4, 12.2, 14.8, 16.1, 15.2, 14.9, 18.6, 16.3, 19.6, 9.9, 14.3, 15.3, 12.5, 14.0, 15.4, 17.4, 15.6, 15.3, 13.1, 18.6, 19.7, 23.8, 12.2, 12.7, 17.4, 14.7, 13.6, 13.8, 15.0, 17.0, 20.5, 20.1, 23.0, 22.5, 20.3, 22.2, 22.1, 22.5, 23.6, 22.1, 23.6, 21.7, 22.2, 18.0, 21.3, 18.4, 21.8, 24.6, 21.7, 21.3, 23.0, 23.4, 25.6, 28.4, 31.7, 28.1, 16.2, 21.2, 23.5, 25.5, 26.3, 23.3, 24.0, 26.8, 28.4, 23.1, 16.9, 23.4, 22.4, 20.0, 26.2, 24.9, 28.6, 23.5, 26.5, 26.7, 28.0, 31.1, 28.8, 28.6, 29.0, 28.2, 25.8, 28.0, 26.3, 26.5, 31.1, 30.6, 27.8, 28.9, 31.4, 32.8, 32.0, 29.0, 26.9, 29.9, 31.6, 26.0, 30.8, 28.7, 24.9, 29.9, 29.4, 25.0, 23.6, 27.4, 27.5, 26.2, 28.8, 25.4, 30.0, 27.0, 28.9, 28.3, 27.6, 25.2, 30.0, 24.4, 27.2, 27.7, 25.1, 25.8, 27.4, 30.2, 30.8, 31.1, 31.3, 34.2, 32.5, 32.9, 33.2, 33.2, 33.1, 36.0, 33.4, 33.8, 36.6, 34.4, 33.1, 33.9, 34.7, 33.2, 32.8, 31.4, 31.2, 30.8, 29.8, 27.9, 27.6, 29.4, 28.8, 28.5, 29.0, 23.7, 24.6, 23.6, 26.6, 28.4, 28.0, 27.6, 27.8, 29.4, 27.4, 30.0, 30.8, 30.2, 29.5, 24.3, 20.2, 26.4, 27.0, 25.8, 25.6, 27.4, 28.4, 28.8, 21.8, 26.1, 27.4, 27.0, 25.6, 27.8, 24.9, 21.2, 24.0, 25.3, 25.0, 23.9, 24.3, 24.6, 24.5, 25.6, 19.7, 21.5, 23.7, 21.9, 23.6, 25.1, 23.0, 18.4, 14.4, 19.6, 21.6, 21.3, 21.7, 20.7, 22.6, 17.3, 20.4, 21.1, 22.0, 16.5, 20.4, 23.0, 17.9, 15.7, 15.6, 14.1, 15.4, 15.9, 12.1, 14.2, 14.2, 14.0, 15.2, 17.0, 17.9, 14.2, 6.6, 12.6, 16.5, 15.5, 8.3, 11.5, 8.4, 8.4, 9.5, 7.7, 12.1, 13.1, 13.9, 11.9, 1.0, 1.0, 0.9, 2.9, 8.4, 6.8, 7.2, 7.6, 8.6, 8.6, 4.8, 1.0, 8.1, 13.9, 13.2, 1.4, 1.2, 4.4, 10.6, 10.1, 2.8, -5.3, -3.7, 1.5, 5.6, 4.3, 5.3, 2.5, 3.7, 4.2, 4.3, 0.0, 1.4, 2.2, 1.2, 2.7, 4.7, 2.1, 3.5, 2.9, 2.9, 1.5, 6.3, 7.1, 11.2, 9.8, 6.8, 8.2, 6.6, 2.3, 1.1, 0.2, 0.6, 4.3, 4.6, 3.0, 6.2, 6.1, 5.4, 8.2, 5.0, 2.7, 3.9, 3.3, -4.8, -1.3, 0.5, 1.1, 2.9, 1.4, -1.4, 1.4, 4.8, 6.2, 7.0, 9.3, 6.4, 5.0, 3.2, 4.2, 7.7, 8.9, 10.6, 8.7, 15.4, 10.0, 10.0, 11.0, 8.1, 4.9, 6.3, 6.5, 7.8, 4.3, 9.2, 11.8, 9.0, 11.8, 7.6, 7.4, 7.4, 4.3, 2.3, 1.6, 3.8, 7.9, 11.0, 10.1, 12.7, 14.2, 10.7, 11.3, 7.0, 11.1, 12.3, 16.1, 14.1, 13.0, 14.9, 13.3, 8.5, 12.3, 14.1, 13.0, 13.2, 15.6, 15.7, 13.4, 15.5, 17.4, 17.9, 19.5, 19.6, 22.6, 18.7, 20.1, 19.7, 12.4, 16.8, 21.3, 25.1, 18.7, 25.3, 14.2, 15.4, 20.8, 26.0, 29.1, 29.4, 20.4, 22.7, 23.3, 20.3, 18.8, 19.5, 21.2, 22.2, 21.1, 24.9, 25.3, 24.8, 25.5, 28.5, 29.6, 24.9, 15.9, 20.5, 24.2, 22.1, 22.3, 17.2, 14.0, 20.8, 20.6, 25.8, 28.3, 25.8, 21.1, 20.9, 21.8, 24.1, 22.5, 19.4, 23.7, 28.3, 25.5, 26.7, 23.7, 26.0, 27.2, 27.6, 28.7, 27.3, 25.3, 26.2, 31.1, 24.8, 18.5, 24.6, 26.2, 26.4, 30.1, 23.9, 21.6, 23.6, 23.8, 22.5, 22.1, 25.2, 26.1, 27.5, 31.9, 28.2, 28.6, 26.5, 25.1, 26.9, 30.1, 28.2, 28.3, 26.3, 25.8, 27.5, 29.8, 30.8, 30.7, 24.0, 28.1, 28.7, 23.6, 28.6, 29.6, 31.0, 25.8, 27.0, 29.5, 31.3, 31.5, 27.9, 29.0, 31.3, 31.1, 30.5, 27.7, 29.9, 23.7, 25.2, 26.1, 31.4, 33.3, 31.1, 30.1, 31.6, 33.4, 35.3, 34.6, 30.9, 30.7, 30.4, 30.2, 26.6, 27.5, 31.4, 32.5, 31.1, 30.2, 30.5, 30.9, 29.7, 27.0, 24.1, 26.3, 30.0, 30.2, 29.2, 29.8, 29.6, 29.0, 24.2, 25.4, 27.9, 25.1, 26.4, 25.6, 25.8, 26.7, 28.7, 29.5, 28.6, 24.9, 28.6, 25.8, 27.7, 27.9, 22.3, 24.4, 27.1, 22.0, 26.4, 23.9, 23.6, 24.1, 25.7, 26.2, 24.0, 22.7, 23.5, 18.7, 22.9, 22.6, 22.4, 23.7, 23.4, 23.0, 22.8, 19.2, 19.7, 16.2, 16.8, 18.6, 17.1, 18.8, 16.9, 20.9, 23.3, 18.2, 16.1, 10.4, 14.9, 14.4, 16.2, 18.7, 18.7, 18.8, 21.5, 19.8, 19.6, 20.6, 20.2, 20.2, 18.2, 15.0, 17.2, 17.4, 17.2, 13.7, 17.4, 12.8, 17.0, 13.9, 16.7, 12.0, 11.8, 9.1, 8.1, 9.5, 12.4, 11.1, 12.6, 7.3, 4.8, 10.5, 11.4, 12.5, 12.2, 11.2, 11.2, 12.3, 9.8, 2.4, 0.1, 1.6, 5.5, 11.5, 14.7, 11.6, 7.2, 7.4, 2.5, 2.0, 6.6, 4.6, 7.4, 5.6, 3.6, 1.1, 4.7, 6.4, 8.3, 8.3, 9.9, 4.9, 3.0, 3.1, 2.9, 3.2, 4.7, 2.5, -2.2, -0.4, 2.1, -1.4, 0.1, 1.8, -0.9, -1.7, 2.1, 2.1, 0.2, 2.5, 4.2, 7.8, 6.4, 3.8, 3.1, -1.7, 1.3, -1.9, 1.4, 5.7, 5.2, -2.4, -3.6, -0.8, -1.3, -7.0, -10.5, -10.6, -5.4, -2.0, 2.3, 4.6, 1.6, 0.1, 0.2, 0.3, 1.2, 1.6, 1.8, 2.7, 2.7, 5.3, 7.4, 3.9, 4.2, 2.7, 4.7, 8.6, 6.4, 9.2, 10.5, 7.3, 7.5, 5.0, 11.2, 9.5, 8.2, 8.2, 4.0, 5.2, 9.0, 12.9, 12.5, 12.3, 12.0, 9.7, 9.3, 10.1, 8.0, 9.2, 10.7, 15.5, 9.2, 10.1, 11.5, 7.8, 7.7, 11.1, 4.9, 10.1, 11.8, 10.1, 18.8, 18.4, 17.4, 13.3, 14.5, 16.3, 13.6, 9.0, 10.0, 10.8, 12.1, 15.2, 18.4, 11.0, 9.6, 12.5, 15.0, 9.8, 13.1, 19.5, 22.2, 26.3, 19.5, 12.2, 7.1, 12.8, 14.0, 15.5, 16.8, 19.5, 17.6, 20.8, 15.4, 11.4, 15.0, 15.5, 15.7, 20.5, 16.3, 23.5, 26.1, 18.9, 14.8, 12.8, 12.8, 18.4, 21.7, 22.7, 18.0, 27.1, 25.8, 18.3, 24.6, 18.9, 24.1, 24.9, 23.4, 22.7, 16.0, 22.4, 19.5, 18.2, 19.1, 23.1, 21.4, 22.3, 24.9, 25.0, 24.9, 24.2, 22.2, 18.2, 17.1, 23.5, 26.2, 28.4, 26.4, 28.8, 29.0, 22.1, 18.8, 23.7, 23.1, 25.5, 29.1, 25.4, 26.4, 26.4, 29.4, 24.2, 22.8, 23.0, 21.2, 22.5, 25.1, 24.6, 24.3, 21.6, 23.1, 24.0, 24.9, 26.8, 27.4, 21.2, 22.3, 26.3, 28.6, 27.8, 29.6, 31.3, 32.3, 31.3, 26.2, 31.4, 27.3, 24.0, 27.7, 28.2, 26.4, 25.3, 29.4, 28.3, 25.7, 28.7, 26.7, 26.6, 29.0, 28.9, 29.3, 32.0, 34.2, 33.5, 33.2, 33.0, 33.9, 33.4, 32.9, 33.7, 34.3, 35.5, 33.7, 32.0, 31.1, 31.1, 32.8, 33.3, 27.8, 31.4, 27.7, 30.6, 30.2, 26.0, 25.3, 24.6, 31.6, 29.1, 30.3, 30.0, 30.4, 31.7, 31.8, 31.0, 31.9, 25.1, 21.4, 31.1, 27.0, 27.1, 28.2, 25.9, 30.8, 28.3, 27.0, 23.8, 18.8, 27.0, 27.2, 23.2, 25.6, 26.3, 23.6, 21.8, 25.9, 25.7, 26.5, 26.3, 23.9, 24.0, 25.5, 26.3, 23.8, 25.7, 27.1, 25.3, 23.4, 23.1, 23.2, 24.0, 25.3, 27.1, 26.1, 22.0, 18.1, 19.7, 18.9, 21.4, 22.4, 22.7, 22.4, 22.0, 16.4, 18.2, 20.7, 21.8, 23.5, 23.5, 22.6, 19.5, 18.1, 17.1, 18.6, 19.1, 19.7, 20.6, 19.6, 19.1, 19.5, 17.7, 21.9, 17.8, 12.7, 14.1, 13.2, 10.9, 1.3, 11.7, 17.5, 16.2, 18.5, 19.5, 16.9, 19.1, 18.0, 15.2, 13.4, 2.9, 9.2, 11.7, 11.8, 12.7, 10.2, 16.1, 17.8, 16.4, 14.4, 9.0, -1.8, 2.3, 7.4, 11.1, 12.8, 13.7, 13.8, 13.6, 11.7, 5.8, 3.6, 3.8, 4.5, 0.9, 3.5, 1.9, 3.0, 4.1, 6.1, 9.0, 5.3, -0.8, 1.4, 2.6, -5.8, -4.8, -1.2, 0.4, 3.7, 8.8, 3.2, -3.4, -0.4, -5.3, -7.0, -2.6, -0.7, -3.9, -0.2, 1.7, 0.2, 0.3, -2.7, -2.3, 2.2, 6.5, 3.3, 2.6, 6.4, 9.7, 8.1, 4.6, 7.2, 2.1, 0.3, 1.7, 1.4, 4.8, 5.6, 3.9, 3.6, 1.1, 2.5, 3.6, 1.1, 1.6, 4.4, 3.8, 4.1, 8.4, 8.5, 5.8, 7.1, 10.0, 12.0, 6.0, 7.6, 4.9, 2.8, -1.0, -0.8, -3.5, -8.4, -6.8, -2.8, 2.4, 4.4, 5.2, 3.8, 5.2, 6.4, 8.4, 10.0, 13.0, 11.1, 9.0, 2.0, 3.1, 4.1, 7.6, 8.6, 7.0, 4.5, 5.9, 5.8, 8.4, 11.4, 16.4, 14.8, 10.7, 13.9, 14.0, 17.0, 18.9, 15.8, 5.6, 11.8, 11.1, 9.9, 6.4, 8.4, 11.2, 13.9, 15.0, 15.8, 19.5, 24.1, 22.7, 23.6, 22.4, 25.6, 23.1, 14.7, 16.6, 15.6, 21.9, 19.7, 17.1, 17.7, 17.3, 18.8, 20.1, 23.6, 22.3, 19.8, 18.9, 21.4, 21.5, 20.4, 19.2, 14.9, 16.0, 19.6, 20.1, 24.7, 17.2, 19.5, 18.1, 22.9, 23.4, 23.0, 23.0, 23.5, 26.8, 24.6, 17.2, 22.2, 23.9, 27.6, 30.2, 29.6, 29.5, 31.1, 23.6, 20.1, 13.4, 21.8, 24.1, 25.2, 24.3, 27.2, 24.1, 27.9, 22.7, 25.7, 26.1, 29.2, 30.4, 30.9, 25.0, 25.8, 24.9, 24.5, 26.9, 30.0, 30.9, 30.9, 26.9, 28.3, 28.9, 25.0, 28.3, 28.6, 29.8, 27.4, 29.1, 26.3, 27.9, 31.8, 25.8, 29.0, 24.6, 29.5, 30.8, 31.2, 29.9, 29.6, 25.6, 25.7, 24.5, 27.6, 25.2, 29.4, 29.1, 29.1, 24.5, 26.7, 28.6, 30.3, 27.4, 25.9, 25.9, 27.3, 27.9, 25.7, 24.4, 27.0, 29.5, 32.0, 30.3, 27.7, 29.5, 30.3, 24.4, 28.3, 25.9, 30.0, 28.2, 28.7, 30.8, 25.4, 29.5, 30.9, 31.5, 31.8, 33.2, 34.2, 31.4, 31.5, 31.6, 31.5, 34.7, 33.2, 29.3, 24.4, 29.9, 30.1, 30.0, 29.1, 29.7, 31.8, 29.1, 29.2, 30.5, 30.2, 25.1, 23.4, 23.2, 25.9, 29.6, 31.0, 29.8, 28.0, 24.2, 26.2, 28.7, 28.0, 27.2, 27.0, 25.8, 28.1, 25.2, 22.6, 24.0, 26.2, 23.1, 23.6, 24.2, 21.4, 19.0, 21.4, 22.5, 21.0, 25.8, 23.6, 21.7, 20.8, 21.3, 22.2, 18.8, 23.5, 24.6, 24.1, 25.2, 24.2, 24.2, 17.7, 17.9, 17.4, 17.2, 20.6, 13.0, 14.1, 17.0, 14.8, 17.1, 16.3, 18.3, 22.3, 14.9, 15.3, 16.4, 17.0, 18.1, 16.2, 15.7, 14.2, 9.3, 14.7, 17.6, 11.0, 10.6, 9.6, 7.7, 5.8, 10.4, 12.3, 8.4, 9.4, 11.2, 10.6, 11.3, 9.9, 8.8, 12.3, 12.6, 12.7, 4.6, 7.7, 9.1, 9.7, 10.9, 11.5, 11.0, 7.8, 8.8, 7.3, 8.4, 12.3, 12.8, 10.9, 6.4, 1.8, 2.0, 1.1, -4.7, 2.9, 9.6, 12.5, 12.9, 8.8, 4.6, 6.3, 7.4, 6.0, 10.7, 8.0, 5.6, 4.5, 5.2, 3.7, -2.2, -3.9, -0.2, 4.1, 6.0, 5.1, 1.8, 2.3, 2.4, 5.6, 4.2, 3.8, 3.5, 5.7, 4.3, 5.7, 3.7, 4.1, 2.8, 1.6, -2.4, -2.0, -0.6, 2.4, 5.0, 1.9, 1.4, 3.3, 5.4, 5.6, 4.9, 7.6, 5.0, 4.1, 2.1, 3.3, 1.3, 4.1, 1.8, 3.8, 3.1, 1.2, 0.6, 3.8, 4.8, 4.1, 2.9, 2.5, 4.9, 8.2, 0.4, 2.6, 4.4, 0.2, 2.8, 2.5, 5.4, 4.8, 5.5, 8.5, 12.6, 15.8, 15.9, 13.2, 14.3, 11.7, 11.0, 8.7, 6.3, 6.9, 6.5, 10.0, 10.9, 10.3, 12.0, 12.1, 13.5, 14.8, 16.4, 8.0, 7.8, 10.3, 11.3, 11.3, 11.2, 13.4, 8.9, 8.7, 10.7, 16.9, 20.2, 19.3, 17.7, 18.2, 19.8, 17.5, 18.3, 20.4, 22.0, 21.5, 21.6, 20.2, 16.7, 24.3, 13.8, 12.8, 10.0, 13.5, 13.9, 8.9, 13.1, 18.0, 15.4, 15.9, 19.9, 17.9, 18.4, 21.0, 17.9, 18.9, 20.4, 22.3, 15.2, 21.0, 15.7, 18.1, 21.0, 20.7, 26.3, 27.3, 19.4, 18.0, 19.9, 20.1, 21.7, 24.0, 23.2, 15.4, 22.5, 22.1, 17.8, 19.5, 21.1, 23.6, 24.5, 24.8, 24.7, 21.3, 19.8, 14.5, 19.0, 22.0, 22.1, 25.8, 29.9, 28.1, 29.2, 29.6, 27.0, 21.0, 25.9, 25.7, 21.0, 23.0, 23.5, 20.7, 20.8, 24.3, 24.0, 26.6, 29.4, 29.2, 24.9, 25.7, 25.5, 27.3, 24.4, 27.0, 26.4, 26.1, 27.0, 27.4, 29.8, 29.0, 29.7, 28.2, 27.5, 25.4, 22.5, 28.3, 31.3, 32.4, 30.6, 31.5, 30.3, 25.9, 22.7, 27.4, 28.2, 28.6, 28.1, 28.8, 24.4, 28.9, 31.5, 28.8, 28.1, 26.3, 30.3, 30.0, 29.0, 30.1, 26.1, 30.3, 30.6, 26.5, 29.4, 32.2, 31.4, 31.1, 30.5, 30.4, 26.0, 22.5, 30.0, 30.2, 29.6, 29.4, 26.9, 30.0, 25.4, 24.0, 27.2, 24.0, 30.4, 30.4, 31.2, 30.0, 30.4, 28.3, 27.7, 30.1, 30.3, 23.2, 25.6, 32.8, 32.7, 30.9, 26.9, 26.8, 27.8, 29.4, 30.9, 30.1, 23.9, 25.9, 25.3, 26.3, 26.5, 22.8, 23.3, 26.5, 27.7, 24.6, 24.4, 26.3, 25.4, 24.6, 26.1, 25.6, 26.2, 22.2, 23.5, 21.7, 21.9, 17.7, 20.7, 22.2, 25.1, 24.9, 19.6, 20.6, 18.9, 19.4, 19.7, 19.0, 20.6, 19.4, 21.3, 20.3, 21.7, 21.6, 21.6, 21.5, 21.6, 19.6, 20.3, 20.4, 20.0, 18.5, 14.9, 12.9, 11.5, 14.1, 16.5, 16.3, 16.3, 13.3, 13.8, 13.3, 13.8, 15.3, 15.3, 13.6, 17.1, 17.2, 11.3, 8.9, 5.5, 10.3, 13.0, 14.4, 13.3, 11.0, 7.1, 11.1, 15.3, 14.6, 5.5, 7.8, 10.3, 9.8, 13.6, 4.0, -2.4, 2.0, 7.1, 11.7, 13.8, 8.5, 10.3, 7.0, 10.6, 13.3, 10.3, 10.9, 9.2, 6.7, 5.2, 0.2, 2.5, 4.4, -1.3, 0.3, 4.1, 3.7, 4.0, 5.4, 13.0, 8.8, 2.2, -3.7, -2.0, 0.8, 4.3, 4.5, 4.1, 2.9, 5.4, 2.6, 4.8, 5.1, 4.8, 0.9, 3.0, 3.3, 2.9, 4.7, 6.2, 3.5, 0.6, 2.8, 2.3, 1.6, -0.2, -1.5, -1.0, -4.6, -4.2, -3.4, -1.3, 2.4, 3.7, 8.4, 5.5, 4.3, -3.2, -2.2, 0.4, 3.9, 4.9, 2.6, 5.4, 5.3, 7.9, 11.5, 14.2, 4.8, -0.7, 2.2, 5.5, 6.0, 7.1, 5.1, 7.8, 7.2, 4.6, 6.8, 6.6, 8.2, 9.4, 5.9, 4.1, -2.5, -1.2, 3.0, 4.5, 5.6, 1.9, -1.0, 4.5, 7.2, 9.6, 11.9, 8.3, 7.6, 9.8, 7.4, 8.8, 10.6, 12.2, 12.1, 11.3, 14.8, 8.6, 9.6, 9.9, 9.1, 11.2, 11.9, 15.0, 14.5, 8.9, 10.6, 14.4, 16.6, 14.5, 13.5, 11.3, 9.4, 15.1, 17.4, 15.8, 12.1, 14.3, 12.7, 6.7, 6.2, 10.1, 6.4, 10.5, 13.3, 14.1, 16.6, 18.3, 17.8, 17.8, 21.7, 23.2, 23.5, 23.5, 20.4, 21.8, 17.8, 16.3, 16.6, 19.7, 13.1, 14.3, 18.0, 19.9, 18.3, 19.8, 23.6, 21.2, 24.3, 26.0, 22.2, 21.4, 24.3, 22.9, 22.3, 18.1, 22.7, 25.4, 21.2, 18.9, 23.4, 25.6, 29.8, 21.9, 25.7, 24.5, 24.3, 17.6, 24.9, 27.3, 28.7, 31.9, 28.9, 30.4, 28.3, 19.3, 18.6, 24.8, 27.6, 26.5, 29.1, 28.2, 24.2, 23.8, 28.0, 24.0, 24.3, 23.4, 28.1, 29.1, 28.4, 27.6, 26.8, 25.7, 28.1, 28.4, 27.9, 27.1, 26.3, 29.2, 27.8, 22.8, 21.5, 19.3, 27.3, 30.1, 29.1, 30.8, 31.1, 29.6, 31.1, 25.0, 27.0, 29.5, 25.0, 24.9, 23.9, 30.1, 29.9, 26.6, 20.6, 27.6, 27.8, 27.7, 28.3, 28.6, 28.0, 24.7, 25.2, 25.6, 27.9, 30.2, 25.3, 27.2, 29.5, 29.7, 25.1, 26.7, 28.4, 27.8, 28.0, 27.4, 24.8, 30.5, 26.4, 30.3, 30.6, 24.0, 29.0, 25.5, 22.3, 27.0, 27.3, 29.0, 26.3, 21.6, 28.1, 29.6, 25.0, 28.1, 29.6, 29.0, 28.5, 28.2, 29.5, 28.7, 30.5, 29.7, 27.2, 27.6, 28.9, 30.3, 28.2, 28.0, 28.3, 27.6, 28.3, 23.2, 25.0, 28.1, 28.2, 27.8, 22.2, 26.3, 27.3, 28.1, 28.0, 26.8, 23.4, 24.3, 24.1, 25.4, 23.6, 22.4, 21.5, 19.8, 21.1, 20.0, 23.5, 23.5, 24.6, 22.5, 23.8, 25.0, 24.2, 20.2, 22.5, 21.2, 21.0, 20.3, 20.9, 20.9, 21.6, 18.9, 19.7, 20.7, 18.3, 14.7, 12.2, 16.4, 15.3, 16.7, 19.3, 18.8, 13.0, 8.2, 7.9, 18.6, 18.6, 18.4, 16.9, 20.3, 16.9, 14.7, 18.5, 17.8, 14.2, 20.9, 19.2, 16.7, 16.9, 15.0, 19.2, 17.3, 11.1, 11.3, 9.4, 2.6, 1.9, -0.9, 1.9, 6.5, 8.4, 8.7, 5.0, 4.6, 5.0, 8.2, 6.9, 1.6, 0.5, 3.0, 4.0, 5.3, 8.1, 8.1, 5.1, 3.4, 5.3, 4.0, -2.4, -2.8, 1.2, -4.4, 4.4, 6.5, 8.5, -1.0, -2.2, 1.2, 4.7, 10.0, 7.6, 4.0, 5.1, 7.8, 5.5, 1.3, 2.5, 6.3, 8.1, 2.2, 5.2, 5.1, 2.0, 7.3, 10.0, 8.9, 4.9, 3.6, 3.6, 2.4, 7.6, 6.3, 4.9, -4.0, -3.5, -3.2, -1.6, -0.1, -4.2, -1.3, 4.8, 4.1, 0.8, 2.8, 1.3, 1.6, 7.1, 3.7, 0.4, 3.2, 2.7, 7.3, 6.5, 8.2, 4.2, 2.7, -2.4, 1.5, 4.1, 3.4, 6.0, 7.1, 7.1, 9.6, 11.3, 11.4, 10.4, 4.3, 1.8, 3.5, 8.5, 8.1, 9.3, 11.0, 6.9, 4.4, 7.9, 6.3, 7.1, 10.3, 13.4, 13.6, 13.0, 2.8, 3.2, 5.1, 6.9, 3.7, 5.4, 6.9, 8.6, 9.7, 10.9, 13.3, 13.2, 12.1, 8.6, 8.6, 4.1, 4.8, 6.8, 11.0, 9.5, 13.1, 13.3, 18.6, 17.4, 14.6, 21.4, 21.3, 27.4, 28.9, 26.4, 13.4, 15.4, 17.5, 21.5, 17.4, 14.6, 15.4, 19.8, 19.8, 21.8, 21.8, 26.6, 24.3, 28.7, 23.1, 23.1, 22.0, 24.7, 26.0, 19.9, 21.4, 23.8, 24.0, 23.8, 27.2, 23.8, 14.2, 14.0, 21.5, 24.1, 24.5, 27.2, 23.8, 26.8, 27.3, 25.4, 18.3, 16.2, 19.6, 21.3, 20.6, 22.3, 26.8, 21.3, 25.0, 28.0, 25.2, 22.7, 25.8, 21.8, 24.3, 23.3, 24.6, 25.2, 27.6, 27.6, 26.7, 25.8, 30.0, 28.4, 27.9, 27.0, 26.8, 28.1, 29.7, 29.5, 31.2, 32.7, 31.6, 33.3, 34.7, 26.9, 26.3, 29.3, 27.9, 26.5, 22.0, 26.9, 25.1, 26.4, 29.4, 30.0, 27.2, 23.4, 23.6, 29.8, 28.4, 28.1, 26.2, 29.0, 25.6, 31.6, 32.4, 27.0, 31.7, 34.6, 34.6, 30.1, 32.7, 33.3, 33.4, 36.0, 34.2, 34.3, 35.5, 35.5, 38.2, 38.4, 36.8, 37.1, 36.0, 35.9, 35.6, 32.5, 33.7, 29.3, 33.9, 32.5, 32.4, 35.6, 35.9, 33.6, 33.8, 37.0, 29.3, 32.6, 35.5, 36.2, 34.8, 33.5, 32.6, 29.9, 29.1, 32.7, 32.4, 31.6, 31.7, 31.6, 31.5, 26.0, 31.4, 30.1, 25.9, 26.4, 28.2, 30.6, 31.7, 28.3, 31.7, 32.0, 27.0, 29.0, 29.8, 28.9, 28.2, 23.8, 24.0, 25.5, 25.5, 26.6, 26.8, 26.8, 23.7, 24.9, 26.6, 26.0, 25.2, 22.8, 22.9, 22.9, 23.2, 22.0, 24.2, 25.5, 24.8, 23.5, 24.0, 24.4, 21.5, 18.9, 19.9, 23.8, 22.1, 25.0, 25.9, 20.4, 21.9, 20.5, 23.9, 22.0, 16.6, 21.8, 22.1, 21.2, 20.2, 19.5, 10.4, 17.5, 20.9, 20.3, 18.5, 19.3, 21.4, 17.9, 15.8, 15.5, 16.6, 17.9, 17.6, 15.7, 16.0, 16.4, 19.8, 14.2, 18.7, 16.3, 16.8, 15.5, 15.2, 16.2, 10.0, 9.0, 15.8, 16.6, 12.8, 13.8, 12.9, 10.8, 10.5, 12.9, 11.0, 8.5, 6.5, 8.7, 11.0, 8.3, 12.2, 12.4, 7.9, -0.6, 1.0, 2.6, 9.1, 10.8, 11.7, 9.7, 12.3, 9.8, 5.9, 0.7, -0.4, -3.5, -4.2, -1.9, -0.7, -0.2, 1.6, 3.6, 5.2, 10.0, 10.5, 10.4, 7.6, 4.1, 3.1, 4.0, 3.4, 1.3, 1.1, 3.6, 1.6, 2.2, 1.3, 0.3, 9.3, 10.3, 7.3, -1.8, -1.3, 1.6, -1.5, -1.7, 1.9, 3.4, 3.0, 3.0, -0.5, 3.6, 2.8, 4.5, 3.3, 0.6, 3.0, 0.5, 1.0, -2.2, -3.2, -2.3, 0.5, 1.4, 3.9, 3.0, 1.6, 1.7, 3.4, 7.3, 8.0, 7.0, 9.3, 9.9, 6.3, 5.3, 4.2, 3.1, 3.4, 5.9, 9.8, 9.4, 7.2, 6.2, 6.8, 8.3, 8.7, 6.7, 5.4, 8.0, 6.7, 6.9, 6.9, 4.8, 6.0, 8.8, 11.6, 13.6, 16.4, 14.3, 7.1, 7.2, 7.8, 10.0, 11.7, 17.1, 12.6, 4.3, 6.7, 9.9, 13.8, 14.1, 13.9, 9.2, 6.5, 8.9, 9.2, 11.6, 11.4, 10.7, 16.5, 8.8, 10.2, 8.0, 10.6, 13.1, 13.6, 12.2, 16.5, 18.8, 13.7, 13.1, 9.8, 11.6, 18.1, 22.6, 23.1, 14.3, 21.8, 19.6, 15.9, 16.5, 16.3, 13.1, 17.7, 17.5, 19.3, 19.4, 20.8, 23.2, 23.9, 25.2, 26.4, 22.2, 17.2, 17.3, 18.5, 22.6, 22.0, 25.1, 25.1, 20.2, 18.5, 24.9, 17.4, 12.9, 20.6, 25.4, 25.1, 29.0, 26.2, 21.6, 20.2, 22.4, 25.6, 24.7, 19.7, 22.5, 23.7, 21.0, 22.7, 21.1, 23.0, 28.1, 19.8, 18.3, 22.2, 24.2, 26.9, 27.8, 28.5, 28.8, 28.3, 28.7, 27.2, 29.1, 27.0, 27.4, 28.5, 29.4, 21.9, 23.7, 27.6, 29.6, 25.1, 26.3, 27.2, 25.8, 25.1, 26.4, 27.5, 28.9, 24.6, 26.3, 24.9, 27.4, 27.1, 28.3, 27.3, 31.2, 24.4, 24.5, 23.7, 26.1, 27.0, 25.8, 26.0, 27.1, 26.4, 28.8, 27.3, 22.6, 21.4, 27.2, 30.8, 33.6, 29.4, 30.4, 32.1, 30.6, 32.1, 30.3, 31.3, 30.9, 30.7, 29.1, 30.5, 31.0, 28.4, 32.2, 29.2, 27.6, 28.4, 30.2, 30.6, 30.7, 30.4, 33.5, 33.7, 32.3, 31.8, 31.5, 27.4, 28.1, 29.9, 29.8, 25.6, 25.5, 23.8, 22.9, 28.6, 29.0, 29.0, 25.1, 30.1, 28.4, 27.4, 24.8, 27.3, 25.9, 21.0, 21.9, 27.8, 21.2, 24.5, 23.3, 25.5, 25.2, 25.3, 24.7, 26.1, 24.1, 25.0, 25.1, 24.9, 24.8, 26.3, 24.7, 25.1, 22.0, 21.2, 20.2, 22.0, 23.7, 26.2, 23.4, 25.1, 19.5, 21.7, 18.6, 17.5, 20.2, 21.8, 21.7, 22.9, 23.5, 24.8, 25.6, 24.3, 20.1, 16.5, 20.8, 18.3, 22.9, 21.6, 20.1, 21.8, 20.5, 16.8, 18.4, 20.4, 21.1, 20.1, 20.3, 16.7, 10.4, 6.4, 11.9, 17.8, 16.9, 18.4, 18.6, 14.1, 5.3, 10.1, 10.2, 12.5, 17.0, 17.5, 14.3, 10.2, 13.1, 14.4, 14.5, 11.4, 6.4, 8.5, 9.2, 6.8, 5.9, 7.8, 10.2, 6.2, 9.3, 10.3, 8.3, 5.9, 6.9, 5.5, 3.1, -1.2, 1.5, 1.9, 1.2, 4.1, 6.6, 6.9, 6.9, 5.9, 6.5, 2.4, 3.1, 1.9, 3.2, 4.8, 5.0, 3.2, 6.1, 4.5, 1.9, -3.8, -1.2, 2.3, 2.8, -2.7, -2.5, 1.8, 2.5, 3.9, 5.5, -0.1, 2.0, 9.0, 5.0, 1.8, -1.6, -0.2, 2.9, 9.4, 9.8, 5.1, 3.4, 0.6, -1.3, 0.1, 1.7, 3.2, 2.9, 3.2, 0.2, -0.4, -2.6, -0.3, 2.5, 6.1, 3.2, -3.0, -2.3, -4.7, -4.7, 0.9, 2.7, -0.1, -2.1, 0.0, 1.3, -2.5, 0.2, 4.4, 11.2, 14.0, 10.8, 5.8, 2.8, 3.2, 3.1, 1.5, 0.3, 1.1, 3.2, 5.0, 6.8, 5.9, 7.5, 3.4, 5.2, 6.1, 5.0, 7.3, 7.6, 8.4, 9.2, 10.1, 8.1, 6.9, 5.9, 7.7, 4.4, 5.9, 6.8, 12.6, 14.8, 10.4, 6.6, 6.0, 6.6, 13.2, 8.9, 11.2, 12.4, 6.4, 9.9, 15.7, 14.5, 14.3, 17.5, 10.5, 8.2, 8.8, 7.7, 8.6, 10.9, 15.0, 11.1, 12.1, 15.8, 15.2, 12.2, 10.9, 13.0, 14.1, 15.8, 16.1, 14.1, 11.9, 14.0, 15.5, 15.5, 15.4, 17.5, 19.4, 20.0, 20.6, 22.4, 23.3, 22.9, 18.7, 15.8, 17.1, 21.8, 25.4, 19.3, 20.4, 22.3, 23.7, 19.2, 19.1, 22.3, 19.5, 20.6, 21.8, 22.1, 27.3, 28.2, 29.5, 28.4, 24.2, 21.3, 21.5, 24.5, 26.8, 27.1, 27.1, 27.5, 28.7, 28.3, 28.6, 25.1, 31.4, 32.7, 28.1, 24.1, 28.5, 30.3, 29.8, 24.6, 31.4, 30.3, 21.7, 25.9, 28.7, 29.2, 26.4, 28.6, 28.4, 24.0, 26.0, 28.0, 23.6, 26.1, 26.6, 27.1, 22.2, 25.7, 27.4, 21.0, 22.0, 24.4, 22.4, 28.3, 25.2, 29.2, 24.3, 29.3, 24.4, 28.1, 28.0, 29.2, 28.9, 28.4, 29.5, 26.6, 26.0, 25.9, 25.0, 27.3, 33.5, 31.5, 25.6, 27.8, 26.0, 30.4, 29.1, 30.4, 27.0, 26.3, 29.0, 31.5, 31.5, 34.6, 35.4, 33.6, 33.9, 31.2, 32.6, 32.0, 30.3, 30.8, 33.1, 30.8, 32.8, 31.6, 31.2, 33.0, 29.5, 29.9, 31.3, 32.5, 32.9, 32.3, 32.8, 29.8, 26.6, 28.9, 22.4, 20.0, 20.9, 23.0, 27.4, 23.8, 28.1, 29.5, 30.9, 28.5, 25.9, 24.3, 27.3, 29.3, 28.7, 27.2, 28.3, 29.0, 28.4, 27.9, 28.6, 30.1, 27.9, 26.4, 27.2, 25.6, 25.1, 25.6, 26.4, 27.0, 27.1, 28.6, 25.7, 27.4, 20.8, 26.7, 27.8, 22.7, 17.6, 21.5, 23.8, 23.6, 17.9, 18.1, 18.9, 19.2, 21.3, 23.0, 23.3, 21.9, 21.7, 17.4, 17.1, 15.1, 18.3, 19.4, 19.6, 20.5, 22.6, 22.8, 16.5, 16.4, 11.0, 14.2, 16.4, 21.7, 19.9, 18.5, 14.0, 15.6, 16.3, 14.9, 15.9, 12.6, 10.2, 12.9, 13.5, 16.2, 18.8, 11.2, 11.3, 7.3, 6.2, 6.1, 4.7, 8.8, 10.4, 11.0, 9.7, 7.3, 5.5, 8.4, 12.8, 10.9, 8.2, 4.5, 2.4, 0.8, -4.2, 1.5, 5.4, 4.2, 3.7, -2.1, -0.5, 8.3, 8.1, 8.1, 8.4, 8.1, 10.3, 11.5, 12.7, 12.6, 8.0, -2.5, 1.0, 4.4, 8.3, 6.8, 2.2, 8.7, 7.8, 7.8, 8.7, 6.5, 7.6, 7.3, 7.0, 8.0, -5.1, -2.9, 1.0, 1.6, -5.0, -3.3, 0.7, 1.6, 3.3, 4.2, 4.2, 5.8, 3.0, -0.7, 2.8, 3.7, -0.2, 2.2, 5.1, -3.9, -3.2, -1.3, -1.3, 1.9, 5.9, 6.1, 2.2, -0.2, 0.6, -0.9, 2.8, 1.6, 1.7, 4.2, 4.3, 0.9, 3.7, 6.9, 8.8, 4.7, 1.8, 1.2, 4.0, 6.7, 8.2, 2.0, 1.7, 2.1, 6.0, 9.0, 3.4, 6.3, 9.5, 12.5, 7.6, 12.3, 15.1, 8.7, 7.7, 4.6, 5.5, 10.1, 12.2, 8.0, 11.4, 9.8, 13.6, 11.5, 13.8, 18.0, 20.2, 11.8, 6.2, 9.8, 12.7, 11.6, 15.7, 16.4, 12.6, 13.6, 8.7, 11.0, 12.9, 14.9, 15.7, 17.2, 14.1, 6.9, 9.1, 17.6, 12.6, 17.6, 13.1, 14.4, 10.8, 18.4, 16.9, 14.3, 15.5, 17.4, 18.6, 21.3, 20.8, 20.6, 16.9, 13.1, 17.9, 19.8, 22.3, 21.9, 20.0, 20.7, 19.6, 19.8, 20.1, 21.7, 20.3, 18.2, 21.2, 21.5, 23.5, 26.4, 19.5, 27.9, 18.9, 21.5, 16.3, 20.4, 21.5, 25.3, 21.0, 17.3, 16.8, 24.0, 22.4, 22.0, 24.0, 20.4, 19.3, 20.3, 22.8, 19.0, 19.2, 22.1, 24.4, 24.9, 21.6, 18.8, 18.4, 25.1, 27.2, 21.3, 23.8, 25.3, 20.7, 27.6, 28.8, 26.3, 27.3, 28.8, 28.8, 27.5, 30.6, 32.1, 35.0, 32.1, 33.6, 34.5, 30.9, 26.3, 28.8, 26.3, 31.0, 31.6, 24.0, 26.0, 23.6, 32.4, 32.0, 31.1, 23.4, 28.9, 26.5, 25.2, 23.9, 23.4, 27.2, 29.3, 29.5, 31.9, 32.3, 25.2, 30.6, 30.0, 24.4, 28.7, 30.6, 30.5, 32.0, 31.5, 31.3, 33.7, 34.4, 33.0, 32.8, 36.1, 33.9, 34.1, 33.6, 32.1, 32.0, 33.7, 31.8, 28.4, 23.8, 31.0, 32.6, 32.6, 34.1, 33.0, 31.7, 31.3, 32.4, 33.2, 32.3, 32.7, 32.1, 32.4, 33.8, 29.1, 33.1, 29.6, 29.4, 30.6, 32.0, 30.8, 29.7, 31.2, 30.0, 31.2, 30.7, 30.1, 31.6, 26.7, 28.0, 29.6, 30.0, 31.9, 31.6, 31.6, 29.7, 26.7, 27.5, 22.4, 22.9, 25.4, 24.5, 22.2, 25.8, 23.7, 24.5, 22.7, 22.3, 25.1, 25.0, 24.0, 17.5, 17.0, 21.5, 21.8, 24.3, 25.3, 26.1, 26.3, 24.8, 19.7, 22.4, 21.8, 20.1, 16.5, 18.8, 22.0, 16.7, 15.3, 19.5, 19.0, 20.1, 21.7, 21.2, 20.8, 22.6, 24.9, 23.4, 23.1, 23.6, 17.9, 12.3, 12.4, 12.2, 13.2, 14.5, 7.9, 9.5, 12.7, 15.9, 16.7, 16.8, 15.6, 16.6, 17.2, 17.4, 17.2, 18.7, 20.2, 14.6, 16.1, 12.3, 13.7, 15.5, 7.5, 3.6, 7.4, 13.3, 10.6, 16.9, 12.5, 15.3, 12.9, 13.0, 8.3, 12.3, 9.3, 9.7, 3.1, -2.9, -3.5, 5.2, 9.5, 7.6, 8.0, 5.4, -1.6, -3.8, -2.4, 0.5, 3.1, 5.3, 6.8, 6.0, 7.5, 9.2, 12.8, 9.7, 11.0, 10.3, 11.7, 9.8, 10.6, 10.6, 7.9, 5.1, 2.8, 6.1, 5.7, 4.5, 6.5, 8.2, 4.5, 4.0, 1.5, 4.1, 4.3, 6.1, 7.0, 7.3, 3.7, 5.3, 7.0, 4.9, 6.3, 6.9, 1.0, -6.2, 0.4, -2.1, 3.1, -3.5, -7.9, -1.6, 0.3, 1.1, -0.3, 2.9, 5.8, 2.3, 3.4, 5.4, 5.0, 4.3, 5.1, 7.3, 5.8, -0.4, -2.0, 2.1, 7.8, 10.6, 5.4, 5.9, 6.8, 7.4, 11.2, 11.7, 15.0, 13.1, 7.9, 12.5, 14.2, 10.2, 15.0, 12.0, 6.2, 8.7, 11.3, 10.9, 12.6, 14.8, 14.8, 14.0, 15.8, 14.3, 17.1, 12.1, 7.1, 11.2, 14.6, 9.0, 7.7, 10.9, 13.6, 16.6, 13.8, 2.5, 5.3, 6.1, 9.2, 12.7, 14.7, 13.3, 13.1, 16.2, 19.1, 15.0, 17.0, 13.1, 11.8, 13.6, 17.0, 13.1, 25.1, 21.3, 20.6, 20.3, 19.6, 26.3, 20.4, 20.7, 19.8, 17.8, 21.3, 20.2, 21.0, 23.0, 25.2, 25.7, 24.7, 24.9, 20.9, 19.6, 19.3, 25.0, 25.3, 25.2, 26.2, 21.6, 21.6, 24.3, 24.7, 26.5, 26.9, 23.0, 23.5, 23.2, 21.3, 16.6, 16.1, 23.7, 27.2, 28.1, 21.3, 19.1, 22.0, 26.6, 28.2, 31.4, 28.6, 29.4, 23.0, 24.7, 25.1, 27.6, 27.3, 22.7, 24.8, 23.9, 23.8, 18.4, 16.8, 19.1, 18.6, 22.0, 25.0, 24.2, 28.3, 29.8, 29.3, 29.5, 24.1, 26.9, 26.5, 26.9, 30.3, 27.2, 26.1, 29.7, 30.9, 31.8, 31.0, 30.9, 24.2, 22.8, 27.7, 28.9, 31.0, 28.8, 23.4, 22.8, 26.6, 29.8, 30.6, 29.8, 29.4, 26.0, 24.7, 24.6, 28.1, 30.2, 29.4, 29.8, 26.4, 26.5, 30.7, 29.0, 23.2, 29.4, 30.0, 30.5, 30.8, 29.5, 30.4, 29.8, 30.6, 32.2, 31.9, 32.0, 27.0, 28.0, 32.0, 28.8, 29.1, 29.3, 27.2, 31.1, 25.5, 29.8, 25.5, 29.9, 28.7, 29.8, 30.4, 25.8, 30.7, 28.2, 29.2, 29.0, 30.3, 30.5, 30.7, 27.9, 26.0, 28.5, 29.0, 26.1, 28.6, 29.5, 28.9, 29.3, 27.0, 28.1, 29.2, 28.5, 25.7, 28.7, 30.3, 30.5, 31.7, 32.6, 31.8, 32.8, 31.9, 28.9, 26.2, 27.0, 28.2, 29.0, 30.6, 31.8, 23.7, 26.5, 23.5, 24.6, 25.6, 26.6, 27.3, 25.6, 20.7, 18.3, 26.2, 26.5, 24.0, 25.2, 25.0, 24.1, 25.5, 25.2, 25.1, 25.3, 26.1, 23.4, 24.7, 20.9, 21.0, 20.1, 21.3, 19.3, 15.8, 19.5, 20.9, 19.6, 23.0, 21.4, 19.7, 20.7, 18.8, 16.5, 19.5, 16.7, 19.8, 13.8, 14.1, 17.9, 18.0, 18.5, 18.9, 17.6, 16.9, 15.0, 10.3, 16.7, 16.1, 18.1, 20.5, 19.2, 17.3, 9.7, 0.7, 4.0, 2.1, 3.6, 5.3, 3.5, 5.5, 7.8, 12.1, 9.3, 8.3, 10.0, 14.4, 8.0, 4.6, 3.5, 5.4, 5.0, 8.2, 6.7, 0.6, 0.0, 3.9, 3.1, 4.8, 9.8, 9.5, 8.0, 11.0, 11.8, 12.9, 11.2, 6.8, 10.6, 9.2, 7.0, 7.8, 6.9, 6.7, 8.0, 9.0, 5.7, -1.0, 1.3, 3.5, 6.6, 8.6, 9.2, 8.1, 5.9, -0.5, -5.6, -5.4, -2.3, -2.1, -1.5, 0.7, -0.2, 1.5, 3.2, 3.8, 7.3, 6.7, 1.5, 4.6, 7.3, 8.4, 12.4, 7.1, 8.3, 7.7, 0.8, -1.1, -0.5, 3.3, 6.5, -0.2, -3.2, 0.4, 3.7, 4.9, 8.1, 9.4, 6.5, 5.4, 4.6, -2.1, 0.7, 0.4, 7.5, 10.2, 8.8, 7.8, 2.2, 1.1, 3.9, 7.6, 9.5, 8.5, 9.6, 9.4, 4.1, 4.8, 8.4, 12.3, 13.4, 18.8, 11.7, 10.5, 10.8, 6.5, 7.4, 8.6, 7.2, 12.0, 16.2, 14.7, 14.3, 16.9, 16.3, 13.5, 9.9, 11.6, 6.5, 4.1, 9.7, 11.4, 16.4, 12.0, 14.1, 8.1, 7.6, 15.8, 16.4, 13.8, 13.6, 11.2, 13.8, 17.2, 12.6, 13.6, 17.4, 14.6, 18.9, 22.1, 13.8, 9.3, 15.3, 18.7, 15.3, 21.9, 26.5, 25.1, 24.6, 24.2, 24.7, 26.4, 27.3, 28.2, 26.3, 19.3, 19.8, 21.3, 23.0, 19.9, 22.1, 17.2, 23.9, 22.2, 21.1, 21.0, 24.6, 23.7, 24.1, 23.5, 23.7, 25.1, 25.1, 16.9, 26.3, 27.9, 22.3, 14.5, 21.7, 26.6, 26.7, 27.1, 20.3, 19.3, 17.5, 18.9, 21.5, 23.4, 27.6, 28.1, 21.1, 21.4, 27.1, 29.8, 31.6, 25.5, 27.9, 29.3, 30.6, 28.3, 28.9, 29.6, 29.9, 32.0, 29.0, 21.5, 24.4, 27.0, 26.8, 26.8, 30.0, 30.6, 23.6, 26.0, 28.7, 31.0, 30.9, 33.3, 33.6, 31.7, 30.2, 30.0, 31.2, 30.7, 31.5, 31.9, 32.1, 29.8, 26.2, 24.2, 30.2, 28.9, 30.9, 32.8, 27.4, 28.5, 29.2, 30.3, 31.9, 34.9, 32.8, 28.5, 28.8, 29.1, 30.6, 34.2, 30.6, 27.8, 27.1, 31.1, 27.0, 25.0, 23.4, 24.8, 28.4, 32.1, 33.0, 33.3, 33.1, 30.8, 34.4, 32.8, 33.4, 33.3, 33.6, 34.3, 34.2, 35.4, 31.3, 29.8, 28.6, 27.6, 26.7, 30.5, 29.7, 28.2, 29.6, 25.4, 28.4, 27.6, 28.9, 27.8, 30.1, 31.7, 31.8, 31.3, 25.0, 29.3, 28.5, 29.1, 29.4, 29.2, 29.1, 30.5, 32.0, 29.6, 29.4, 29.5, 29.0, 22.9, 25.1, 18.6, 18.5, 20.0, 21.1, 23.8, 24.6, 26.5, 27.3, 28.4, 24.3, 24.7, 20.8, 18.6, 19.0, 20.4, 21.7, 18.3, 21.5, 23.3, 23.7, 19.4, 22.4, 24.0, 20.4, 22.5, 20.5, 9.3, 11.0, 17.0, 18.6, 19.8, 19.7, 19.5, 20.7, 21.3, 21.2, 18.6, 21.6, 18.0, 14.3, 14.6, 11.4, 10.1, 11.4, 12.0, 14.9, 18.3, 18.3, 17.6, 18.6, 18.6, 14.9, 11.3, 15.4, 15.7, 17.9, 13.5, 11.6, 8.0, 9.6, 13.2, 13.0, 14.5, 15.4, 18.3, 15.7, 11.3, -0.3, 2.9, 1.4, 5.7, 9.1, 5.9, 11.0, 10.5, 10.1, 7.3, 3.6, 6.1, 8.5, 8.7, 12.0, 3.4, 5.7, 3.5, 4.3, 4.8, 8.2, -0.8, -1.9, -3.8, -5.2, -2.9, -0.5, 2.0, 2.3, -0.1, 1.8, 5.9, 6.6, 5.2, 7.7, 7.3, 9.9, 6.9, 0.1, 4.3, 4.6, 5.7, -4.2, -0.1, 1.0, 2.3, 4.9, 5.1, 4.0, 1.1, 3.3, 4.5, 3.8, 2.3, -1.2, -5.4, -2.6, 1.6, 7.4, 0.2, -2.9, -4.5, -0.8, 2.5, 2.7, 1.0, -4.7, -2.0, 0.8, 2.0, 3.7, 4.1, 2.3, 1.7, -4.4, -0.8, 3.1, 5.3, 6.1, 6.5, 3.5, -2.0, -0.2, 0.4, 3.1, 7.5, 4.2, 3.1, 4.6, 4.4, 1.0, 2.0, 3.7, 6.2, 1.1, 4.4, 7.7, 11.2, 17.2, 12.9, 10.5, 6.8, 2.2, 3.9, 5.7, 9.2, 7.0, 10.4, 10.4, 11.7, 13.8, 9.3, 13.4, 14.9, 10.0, 13.2, 12.5, 16.9, 10.1, 8.3, 11.3, 14.5, 18.9, 15.8, 11.9, 14.2, 16.5, 16.1, 16.9, 19.0, 20.4, 13.3, 14.0, 12.6, 17.0, 19.2, 9.7, 14.9, 17.0, 18.7, 17.8, 18.1, 16.4, 19.9, 17.7, 20.0, 23.5, 14.9, 11.9, 15.4, 17.8, 20.9, 14.4, 10.4, 19.2, 22.3, 18.6, 19.2, 20.3, 22.3, 24.1, 22.2, 19.6, 19.8, 23.7, 26.4, 18.9, 14.2, 18.6, 24.5, 24.4, 22.0, 20.1, 22.6, 23.8, 20.1, 20.7, 23.0, 25.5, 25.1, 27.4, 30.5, 27.7, 19.1, 23.7, 27.0, 22.5, 25.7, 26.3, 28.3, 31.6, 32.5, 31.1, 28.3, 27.0, 23.2, 27.1, 25.5, 27.7, 29.5, 29.7, 29.7, 32.0, 30.0, 30.5, 33.9, 33.3, 32.4, 32.5, 28.4, 26.8, 28.3, 28.1, 26.6, 29.3, 33.4, 25.7, 26.8, 31.0, 33.0, 33.2, 33.8, 33.9, 34.2, 33.4, 33.0, 30.5, 34.0, 27.8, 28.7, 31.0, 30.6, 30.7, 28.6, 30.5, 32.0, 28.9, 31.8, 30.6, 26.2, 29.5, 31.0, 29.7, 31.9, 33.1, 31.7, 29.7, 26.6, 30.4, 31.2, 35.1, 32.7, 29.4, 28.4, 25.5, 28.2, 31.7, 31.6, 32.2, 32.9, 33.1, 33.3, 32.2, 32.6, 32.3, 35.0, 34.5, 26.9, 24.6, 26.2, 28.8, 30.2, 25.4, 23.5, 23.0, 27.1, 29.0, 32.5, 33.6, 27.5, 26.0, 30.6, 31.0, 29.9, 28.5, 25.9, 22.8, 23.2, 22.8, 28.0, 25.7, 24.2, 19.6, 18.1, 18.2, 18.1, 23.8, 23.6, 25.7, 27.5, 25.7, 26.1, 25.9, 24.3, 24.8, 26.0, 25.9, 19.4, 26.7, 25.3, 25.5, 21.8, 21.9, 21.0, 23.4, 24.6, 26.5, 25.8, 25.3, 21.0, 16.6, 14.6, 13.9, 16.3, 20.2, 17.6, 15.1, 19.8, 19.2, 20.9, 20.8, 17.0, 22.0, 15.8, 17.8, 15.0, 19.0, 14.5, 12.4, 14.5, 16.3, 15.3, 19.4, 19.4, 17.3, 17.2, 20.3, 15.3, 6.4, 8.9, 7.2, 6.5, 8.7, 11.5, 13.6, 13.1, 9.4, 7.5, 7.5, 11.7, 6.9, 3.1, 7.3, 10.1, 13.0, 15.4, 10.4, 6.9, 6.2, 7.6, 10.1, 11.0, 11.6, 7.4, 5.9, 6.1, 4.5, 7.0, 11.3, 11.9, 9.9, -3.7, -0.5, 4.4, 7.4, 10.0, 5.9, 4.1, 5.3, 4.8, 2.4, 4.6, 8.3, 7.5, 1.9, -1.3, -6.4, 0.0, 0.7, 1.9, 7.0, 2.3, -0.8, -0.2, -5.2, -6.7, -2.2, 0.9, 1.1, 4.9, 3.0, -1.5, -2.2, -7.6, -6.7, -11.3, -12.4, -10.0, -4.0, 2.5, 3.8, 3.5, 1.0, 2.5, 1.7, 3.9, 6.8, 2.8, 1.8, 0.5, 1.8, 2.6, 1.9, 0.6, -0.9, 3.7, 5.2, 5.7, 6.3, 1.7, -0.8, 4.0, 1.7, 0.1, 0.0, -0.1, -0.1, 0.1, -3.6, 0.7, 5.6, 7.1, 9.8, 9.2, 12.2, 6.2, 2.3, 3.8, 6.9, 8.1, 8.5, 8.5, 8.4, 9.3, 0.2, 5.5, 8.1, 1.7, -0.9, 3.6, 4.9, 5.4, 6.4, 11.5, 12.5, 9.2, 12.0, 10.3, 12.5, 12.9, 15.7, 19.4, 15.2, 17.1, 21.0, 14.3, 7.9, 7.5, 9.5, 8.1, 9.4, 11.3, 11.7, 8.8, 15.0, 16.6, 14.2, 17.5, 16.7, 21.5, 28.2, 23.8, 13.4, 14.3, 16.3, 13.7, 19.7, 21.0, 24.0, 24.1, 20.0, 20.6, 21.3, 20.5, 18.2, 20.0, 18.9, 20.2, 22.7, 20.6, 26.7, 27.2, 19.4, 20.3, 22.0, 19.1, 23.9, 25.9, 22.5, 27.9, 18.0, 21.1, 21.8, 24.4, 26.6, 27.1, 19.0, 23.1, 27.7, 20.1, 27.3, 28.2, 31.5, 24.8, 29.4, 27.7, 26.9, 25.4, 27.0, 29.0, 30.7, 21.5, 26.4, 22.5, 28.8, 31.2, 30.1, 25.3, 30.8, 32.6, 31.3, 31.7, 32.7, 29.6, 27.1, 22.5, 27.4, 28.3, 25.1, 29.6, 21.4, 26.8, 29.3, 24.8, 25.4, 23.9, 22.5, 27.2, 26.6, 22.8, 26.9, 24.1, 23.5, 29.6, 30.9, 26.5, 30.9, 25.4, 31.8, 31.5, 30.9, 30.3, 24.8, 30.3, 31.8, 31.4, 28.9, 27.3, 30.1, 32.4, 31.4, 31.7, 30.5, 27.5, 27.8, 30.9, 29.0, 32.3, 32.8, 31.3, 31.6, 28.1, 26.8, 30.3, 31.0, 34.0, 32.6, 33.8, 31.0, 32.6, 31.3, 30.2, 30.6, 30.9, 29.0, 26.3, 23.6, 29.6, 29.8, 34.2, 35.3, 32.7, 31.7, 31.8, 31.3, 31.2, 30.4, 31.8, 28.5, 30.7, 31.2, 30.3, 27.8, 29.3, 30.0, 31.4, 31.5, 31.7, 29.4, 28.6, 28.2, 29.6, 29.2, 27.3, 28.9, 27.9, 27.2, 28.0, 26.0, 30.4, 30.7, 27.8, 28.3, 26.8, 25.8, 24.4, 23.9, 24.4, 24.8, 26.9, 26.2, 26.5, 27.8, 24.1, 20.2, 18.1, 24.6, 21.7, 18.4, 20.0, 23.2, 22.1, 24.6, 17.4, 15.3, 20.5, 20.4, 23.2, 25.3, 19.1, 21.1, 17.8, 19.6, 20.6, 21.0, 23.7, 23.5, 22.3, 22.4, 22.9, 22.6, 20.4, 23.0, 19.8, 19.4, 17.0, 15.9, 13.4, 15.6, 13.9, 10.3, 8.9, 12.3, 15.3, 16.0, 14.4, 14.0, 11.6, 8.9, 9.6, 9.9, 10.5, 11.5, 12.7, 14.3, 13.9, 14.2, 12.6, 13.0, 12.7, 9.3, 3.4, 4.4, 9.6, 8.2, 4.9, 8.0, 4.8, 3.6, 8.4, 4.6, 3.2, 3.8, 6.3, 5.4, 8.1, 10.9, 8.0, 4.2, -2.3, -2.6, 1.0, 1.3, -1.0, 0.9, 2.6, 1.1, 0.8, 2.6, 3.3, 6.8, 3.1, 2.7, 3.0, 3.3, -0.6, 1.3, 1.3, -7.3, -2.0, 5.7, 1.9, 5.2, 3.7, -3.9, 1.0, 5.7, 8.1, 9.6, 11.1, 13.4, 13.5, 12.3, 4.7, 6.2, 10.0, 5.2, 1.9, -2.2, -0.6, 1.0, 3.3, 3.8, 2.2, 0.1, 2.9, 2.3, 2.0, 5.6, 8.1, 10.3, 9.0, 9.0, 9.4, 9.1, 4.8, 1.3, 2.8, 2.7, 2.9, 4.3, 5.8, 6.9, 6.3, 6.4, 2.5, 4.1, 8.2, 6.1, 9.6, 10.2, 12.6, 8.4, 10.8, 10.6, 11.3, 13.1, 11.5, 9.4, 8.3, 6.2, 4.6, 5.8, 8.7, 14.9, 13.3, 12.6, 15.5, 19.4, 14.5, 12.0, 13.6, 14.0, 11.8, 14.2, 18.2, 13.9, 9.7, 8.7, 9.1, 12.1, 12.5, 15.8, 17.2, 17.4, 11.4, 14.5, 19.3, 22.6, 20.8, 21.8, 25.2, 13.6, 10.9, 12.4, 11.5, 12.9, 13.6, 15.4, 16.0, 23.5, 23.9, 18.1, 12.3, 16.3, 18.4, 21.7, 23.8, 27.7, 22.2, 13.4, 16.6, 20.6, 22.2, 25.3, 19.1, 15.9, 25.7, 25.3, 19.6, 25.9, 25.2, 19.7, 12.0, 23.1, 23.4, 23.1, 23.5, 22.3, 24.9, 25.6, 22.0, 17.3, 15.3, 23.6, 22.1, 25.9, 25.7, 26.0, 27.7, 25.3, 26.6, 24.3, 25.3, 25.3, 27.0, 24.5, 25.7, 24.8, 30.0, 29.1, 27.6, 31.4, 31.2, 30.6, 27.1, 28.0, 26.6, 26.8, 22.9, 24.4, 25.0, 24.8, 28.6, 28.4, 28.9, 26.2, 26.1, 28.4, 29.2, 21.3, 17.7, 25.0, 27.7, 27.5, 30.0, 32.0, 31.5, 27.9, 28.8, 30.6, 32.3, 27.1, 23.1, 25.3, 29.1, 29.7, 31.6, 29.7, 29.1, 29.3, 24.2, 29.4, 28.5, 28.4, 29.2, 24.7, 27.9, 29.1, 27.0, 23.2, 27.6, 33.8, 31.5, 33.6, 34.8, 30.0, 29.8, 28.0, 28.5, 29.8, 30.0, 28.1, 28.3, 26.1, 22.0, 30.1, 29.4, 24.1, 23.9, 24.0, 26.0, 26.7, 28.9, 26.7, 24.1, 28.9, 26.2, 29.1, 28.6, 23.8, 27.0, 29.6, 30.5, 30.2, 26.5, 31.0, 32.2, 27.3, 26.1, 27.1, 29.1, 30.6, 30.2, 25.5, 26.0, 28.7, 28.9, 27.9, 29.4, 29.3, 22.9, 23.0, 24.6, 19.8, 22.4, 26.3, 27.2, 26.6, 25.3, 24.6, 24.7, 25.6, 26.4, 26.8, 26.3, 24.8, 26.0, 22.8, 23.3, 24.4, 19.9, 22.3, 22.1, 21.8, 20.2, 18.3, 16.8, 19.5, 21.2, 22.2, 22.7, 24.0, 21.5, 18.1, 20.3, 24.9, 21.0, 19.8, 15.5, 14.7, 9.0, 12.3, 16.6, 13.0, 10.5, 7.8, 8.1, 10.2, 12.3, 16.5, 9.0, 8.5, 6.8, 4.7, 8.9, 15.7, 16.7, 6.3, 6.3, 12.8, 16.3, 8.4, 4.7, 9.6, 3.4, 7.6, 4.4, 1.3, 5.8, 5.7, 4.6, 10.9, 13.6, 8.8, 6.5, 2.7, 3.3, 6.1, 10.1, 9.0, 9.9, 12.1, 11.0, 15.9, 10.5, 10.0, 8.2, 4.3, -2.7, -4.0, -2.9, -1.3, 1.3, 4.2, 8.3, 8.7, 6.0, 7.1, 7.7, 10.5, 11.7, 9.6, 7.1, 5.1, 1.2, -2.7, -0.1, 3.2, 1.7, 1.6, 1.9, -1.0, 0.0, -0.3, -6.8, -9.1, -4.3, -0.5, 1.2, 4.3, 4.4, 4.9, 8.0, 8.7, 2.7, 0.6, 3.2, 4.2, 3.8, 2.6, 3.0, 1.8, -0.8, 3.1, 2.5, 4.7, 4.2, 2.8, -4.1, -8.5, -1.9, 0.8, 4.5, 4.1, 4.2, 3.9, 3.9, 4.9, 6.7, 6.0, 8.8, 10.3, 4.1, -0.4, 5.6, 7.5, 9.7, 9.5, 9.6, 7.1, 4.0, 8.5, 6.4, 4.9, 3.7, 7.6, 9.1, 8.5, 11.4, 11.9, 10.2, 7.2, 4.4, 2.9, 6.9, 4.1, 3.8, 4.8, 7.0, 9.0, 11.0, 11.7, 10.7, 10.1, 13.4, 8.5, 10.1, 11.9, 12.4, 14.2, 14.0, 14.9, 12.4, 11.6, 10.6, 16.3, 11.2, 11.3, 13.0, 17.1, 20.9, 22.4, 21.0, 19.8, 19.3, 17.7, 18.3, 17.1, 14.4, 11.6, 18.1, 12.7, 13.4, 17.8, 19.3, 19.9, 23.5, 23.4, 21.4, 12.1, 10.6, 19.5, 15.3, 14.8, 19.6, 14.8, 19.8, 19.6, 24.6, 15.6, 18.8, 21.9, 23.0, 24.3, 27.7, 28.9, 22.3, 18.4, 19.4, 19.5, 22.5, 23.2, 24.4, 28.1, 29.1, 26.6, 26.2, 25.1, 23.5, 24.5, 22.9, 26.0, 27.6, 26.4, 25.6, 19.8, 27.7, 29.5, 30.4, 24.4, 25.2, 30.3, 28.5, 28.4, 27.5, 28.2, 29.7, 23.1, 27.2, 30.9, 31.1, 25.1, 23.8, 21.2, 22.4, 22.7, 19.3, 25.5, 27.1, 27.3, 26.8, 25.5, 27.9, 30.4, 23.9, 18.9, 23.6, 27.5, 22.5, 28.1, 20.7, 28.3, 27.8, 30.7, 24.3, 24.9, 30.5, 27.3, 28.9, 28.7, 25.2, 26.4, 30.8, 25.4, 29.9, 27.8, 29.6, 29.0, 27.8, 22.4, 21.6, 28.9, 29.3, 25.0, 25.8, 29.2, 30.4, 29.1, 24.7, 24.6, 29.3, 31.4, 30.5, 28.9, 29.0, 26.7, 29.5, 32.2, 27.5, 25.2, 30.2, 31.6, 27.2, 28.3, 30.0, 30.0, 29.7, 30.2, 26.5, 25.1, 23.0, 22.8, 27.7, 29.6, 30.0, 25.6, 24.8, 30.2, 26.9, 23.3, 29.1, 25.1, 24.0, 26.0, 25.4, 21.9, 24.0, 26.1, 24.7, 25.7, 22.6, 28.7, 22.6, 25.0, 24.6, 22.4, 25.0, 25.8, 27.7, 27.2, 27.2, 22.7, 24.9, 25.3, 24.3, 24.7, 24.1, 23.0, 25.6, 25.9, 25.9, 25.1, 25.5, 23.8, 19.4, 19.5, 20.0, 20.6, 19.3, 21.2, 22.5, 24.3, 24.7, 26.0, 25.3, 22.7, 17.7, 16.7, 16.2, 18.5, 19.1, 19.3, 18.2, 17.5, 15.1, 15.8, 12.6, 16.0, 16.2, 16.8, 20.8, 15.8, 12.8, 17.0, 20.5, 20.7, 21.3, 17.0, 17.2, 19.8, 19.7, 14.1, 11.3, 14.1, 13.5, 11.6, 9.8, 13.0, 12.8, 15.6, 8.3, 12.5, 15.6, 17.2, 14.6, 9.1, 3.4, 8.1, 8.3, 11.8, 12.1, 13.0, 15.3, 11.1, 11.8, 12.0, 8.6, 6.9, 6.5, 9.1, 8.8, -1.8, 3.2, -0.3, 4.0, 5.9, 2.2, 4.5, 5.9, 2.7, 4.5, 3.7, -1.2, -2.2, -0.8, 3.0, 9.1, 9.0, 5.6, 3.7, -0.8, 1.1, 6.3, 7.5, 3.0, 5.8, 5.9, 5.5, 7.1, 6.8, 8.1, 6.8, 5.1, 5.6, 5.0, 3.2, 4.5, 1.8, -3.9, -1.3, 3.2, 5.5, 3.2, 1.5, 1.7, 0.0, -9.5, -9.1, -4.9, -3.7, -3.7, -2.2, 0.3, 4.9, 5.8, 6.0, 7.4, 9.1, 2.5, -0.5, 2.5, -0.8, -0.6, -0.4, 5.5, 3.0, 4.5, 5.9, 6.5, 7.0, 6.8, 8.6, 9.6, 7.9, 11.3, 15.6, 18.7, 14.6, 13.3, 6.0, 6.3, 10.6, 4.8, 6.1, 10.5, 6.5, 6.0, 1.5, 2.2, 2.5, 3.5, -0.8, 2.2, 6.9, 13.5, 14.0, 9.1, 11.6, 12.6, 12.0, 15.8, 18.7, 16.3, 7.0, 9.6, 12.3, 15.5, 16.0, 14.0, 13.1, 14.3, 16.2, 16.2, 18.2, 18.0, 13.6, 12.3, 16.7, 7.5, 9.6, 13.0, 14.6, 10.8, 15.1, 15.8, 19.7, 21.3, 22.2, 21.7, 22.7, 23.3, 21.7, 20.2, 23.0, 27.3, 16.1, 21.3, 25.2, 19.1, 16.8, 17.2, 17.6, 14.3, 11.8, 18.1, 21.7, 22.6, 25.7, 20.2, 17.1, 20.3, 21.8, 21.8, 24.6, 21.5, 17.8, 16.2, 22.6, 18.7, 19.2, 26.0, 18.7, 21.5, 17.7, 21.7, 24.2, 22.3, 21.8, 23.2, 22.0, 25.0, 26.0, 24.3, 27.6, 21.1, 24.7, 26.7, 25.7, 28.2, 30.6, 32.5, 32.4, 31.2, 25.1, 24.7, 22.3, 25.2, 29.0, 30.1, 30.7, 28.6, 29.0, 31.5, 31.0, 24.5, 23.8, 22.7, 23.5, 26.7, 25.0, 27.0, 30.2, 29.6, 28.5, 28.7, 25.8, 24.7, 29.1, 26.7, 24.2, 26.8, 22.7, 26.2, 26.3, 22.2, 23.3, 27.3, 28.8, 27.7, 23.2, 22.8, 27.6, 23.7, 24.6, 23.2, 28.2, 28.3, 26.8, 31.8, 32.0, 33.2, 30.8, 28.0, 29.2, 30.2, 32.7, 33.2, 33.4, 34.5, 34.2, 33.2, 32.7, 32.9, 32.7, 32.9, 32.4, 32.0, 33.0, 36.2, 35.7, 34.7, 32.7, 29.2, 31.0, 29.1, 26.2, 25.0, 25.3, 26.8, 25.5, 25.2, 26.0, 29.2, 27.5, 28.5, 28.3, 26.6, 30.1, 31.5, 29.3, 29.3, 29.2, 28.0, 30.0, 31.3, 29.7, 24.2, 27.2, 28.8, 26.7, 20.6, 23.5, 24.3, 28.7, 28.2, 27.2, 28.7, 23.7, 26.2, 20.5, 20.2, 24.5, 25.2, 26.7, 26.3, 23.6, 26.8, 25.2, 27.1, 27.0, 21.5, 17.7, 19.7, 21.1, 23.7, 24.5, 23.7, 25.6, 25.1, 25.3, 23.8, 19.0, 18.3, 15.8, 19.8, 23.2, 21.0, 21.6, 23.0, 23.2, 20.7, 17.0, 17.7, 18.6, 20.2, 15.1, 17.1, 17.6, 17.8, 22.1, 23.2, 20.5, 12.3, 14.6, 16.3, 15.8, 12.6, 17.6, 17.3, 21.5, 16.3, 15.6, 9.6, 7.9, 12.1, 9.5, 12.1, 15.1, 15.1, 13.6, 11.5, 11.3, 12.1, 12.8, 14.3, 15.1, 11.8, 10.1, 10.6, 9.1, 8.3, 9.0, 14.3, 16.2, 10.5, 6.0, 7.1, 7.0, 9.8, 12.6, 10.3, 9.1, 9.8, 6.6, 9.3, 7.5, 7.3, 7.5, 6.5, 9.8, 4.3, 1.2, -0.2, 1.0, 3.4, 1.2, 0.4, -0.4, -2.5, -2.2, -0.8, -1.2, -1.0, 4.5, 4.9, -1.2, 0.6, 2.4, 2.2, 0.8, -4.0, -1.5, -2.7, -2.0, -1.2, 0.6, 1.6, 5.1, 4.8, 3.0, -0.2, -2.7, -0.6, 2.5, 7.0, 5.0, 4.4, 6.1, 5.6, 7.3, 2.7, -3.7, -2.5, -6.8, -2.5, 0.0, 2.4, 2.0, 5.5, 5.5, 5.8, 0.8, -2.0, -1.6, 0.1, 3.5, 5.5, 10.0, 5.0, 10.5, 6.0, 3.2, -3.4, -1.7, 4.5, -0.1, 3.2, -1.5, -1.0, 2.7, 5.0, 4.5, 4.5, 2.0, 4.0, 3.0, 5.1, 7.9, 8.6, 14.6, 13.1, 5.0, -0.8, 3.0, 7.8, 8.8, 12.5, 9.8, 8.3, 10.3, 9.8, 12.0, 14.3, 13.6, 7.5, 7.0, 10.8, 17.6, 11.8, 10.3, 12.1, 15.5, 16.1, 15.8, 14.5, 14.3, 19.0, 17.7, 16.1, 22.5, 15.8, 17.1, 18.2, 14.6, 15.8, 14.3, 15.3, 15.8, 19.2, 18.8, 22.0, 13.0, 13.3, 16.8, 19.6, 20.2, 19.3, 20.3, 20.6, 22.8, 25.3, 29.8, 25.6, 24.7, 26.5, 27.7, 26.7, 13.3, 19.7, 15.6, 17.6, 19.3, 16.1, 19.6, 23.3, 20.7, 25.7, 25.3, 23.6, 19.6, 23.0, 24.5, 22.8, 18.5, 20.1, 23.5, 24.0, 25.0, 27.7, 28.2, 30.2, 26.7, 26.6, 24.2, 22.2, 22.6, 23.6, 29.1, 27.1, 25.1, 27.7, 28.0, 23.1, 26.8, 27.5, 31.3, 31.8, 24.3, 25.2, 26.3, 27.2, 29.3, 29.5, 29.1, 29.2, 30.8, 32.0, 29.2, 29.1, 24.2, 28.0, 24.3, 31.1, 26.5, 26.1, 23.5, 28.8, 26.3, 29.0, 28.5, 29.1, 23.7, 26.2, 23.3, 27.0, 26.1, 29.6, 30.1, 29.1, 26.3, 31.2, 30.7, 31.7, 32.5, 34.2, 33.9, 33.5, 30.8, 32.2, 29.6, 26.0, 28.5, 29.5, 30.2, 27.0, 29.1, 27.7, 32.5, 34.2, 35.0, 30.1, 30.2, 29.5, 28.2, 27.5, 26.8, 30.1, 31.1, 31.3, 33.0, 32.4, 30.0, 22.7, 28.2, 28.2, 26.0, 29.2, 23.6, 18.6, 25.3, 27.8, 27.3, 29.0, 28.0, 31.2, 30.2, 27.7, 27.3, 26.0, 27.3, 25.7, 27.8, 28.7, 23.7, 28.2, 30.8, 29.0, 24.6, 25.0, 26.7, 26.6, 23.7, 27.2, 22.2, 23.5, 20.7, 19.0, 23.2, 25.7, 24.7, 25.6, 26.1, 26.5, 25.2, 21.2, 21.6, 24.2, 19.2, 21.7, 22.3, 24.9, 17.1, 20.6, 21.8, 23.1, 23.2, 23.2, 21.7, 17.8, 19.0, 20.2, 21.7, 20.0, 21.2, 21.7, 14.8, 12.3, 15.5, 18.5, 19.5, 19.8, 20.0, 16.2, 12.5, 11.8, 15.3, 17.5, 17.3, 20.7, 21.8, 20.7, 18.1, 15.3, 12.1, 15.3, 17.7, 17.2, 13.8, 12.1, 10.0, 6.9, 7.9, 8.1, 7.5, 7.3, 8.3, 10.0, 9.3, 13.3, 12.6, 13.1, 12.5, 12.1, 12.1, 7.5, 8.8, 11.1, 4.0, 2.7, -1.7, -1.8, 0.1, 2.0, 0.8, 1.7, 0.4, -2.7, -5.5, -5.0, -2.0, -0.4, 0.4, -5.8, -3.7, 0.3, 1.3, -1.7, -3.2, 0.2, -0.5, 2.0, -4.0, -3.2, -0.4, 1.2, 4.3, 5.5, 1.8, 3.9, 1.2, -4.4, -2.5, -3.9, -1.8, 0.4, 3.0, 2.4, 3.5, 4.5, 6.0, 9.3, 7.5, 3.9, 4.8, 5.5, 6.9, 6.5, 5.1, -0.6, -0.4, 1.7, 3.2, 3.9, 5.5, 6.0, 8.1, 8.1, 6.3, 5.4, 1.0, -8.6, -4.6, -1.6, 4.9, 1.2, -3.9, -1.2, 4.0, 5.1, 2.5, 10.6, 7.5, 6.5, 6.9, -1.3, 5.3, 8.0, 9.1, 8.6, 7.3, 6.1, 11.5, 10.8, 7.5, 4.4, 4.8, 2.5, 2.0, 5.1, 10.0, 12.6, 12.1, 11.1, 10.3, 15.6, 14.6, 9.8, 1.0, 3.0, 4.9, 11.0, 6.9, 15.1, 13.1, 8.8, 8.5, 16.2, 17.2, 10.8, 12.0, 14.8, 11.8, 12.1, 4.9, 7.1, 9.3, 14.1, 11.6, 11.1, 18.7, 14.5, 17.5, 13.0, 13.3, 14.1, 21.7, 18.6, 22.2, 21.2, 12.0, 18.8, 16.2, 12.6, 14.3, 17.7, 16.6, 9.3, 16.7, 17.2, 13.1, 15.3, 16.5, 16.7, 18.7, 18.5, 17.7, 20.1, 23.8, 23.7, 21.2, 24.7, 23.6, 18.8, 26.5, 26.7, 27.6, 20.2, 24.2, 18.8, 19.0, 21.5, 25.0, 24.7, 24.6, 24.8, 20.2, 24.7, 28.3, 22.5, 20.1, 23.8, 21.3, 27.0, 21.2, 22.2, 22.7, 25.5, 26.7, 28.1, 32.4, 29.8, 26.2, 26.1, 27.3, 26.5, 24.0, 26.2, 20.6, 17.8, 28.3, 28.8, 22.1, 22.7, 27.3, 26.3, 27.2, 28.7, 26.2, 20.1, 28.8, 29.3, 28.5, 29.2, 22.8, 24.2, 27.7, 29.3, 26.8, 24.7, 26.7, 28.6, 24.0, 24.7, 23.5, 26.8, 29.0, 28.8, 26.1, 28.7, 25.1, 27.2, 29.2, 27.2, 21.2, 20.3, 20.7, 24.2, 24.7, 26.7, 27.5, 28.1, 26.6, 28.3, 24.6, 22.0, 23.2, 27.2, 29.7, 30.1, 32.0, 32.0, 33.2, 34.7, 32.9, 32.4, 31.7, 34.2, 34.2, 33.2, 30.1, 32.7, 33.2, 33.5, 32.4, 31.7, 30.8, 30.7, 29.7, 26.5, 30.5, 31.6, 30.6, 30.7, 29.0, 31.3, 25.7, 29.6, 25.8, 29.5, 29.5, 28.8, 30.3, 30.2, 25.1, 26.3, 25.2, 28.1, 25.7, 22.1, 20.1, 21.3, 25.2, 27.2, 27.0, 24.5, 24.7, 22.8, 20.0, 26.1, 26.7, 28.6, 27.7, 26.6, 26.8, 26.7, 27.1, 27.2, 23.1, 25.6, 25.5, 25.3, 26.3, 26.3, 27.5, 27.2, 26.7, 25.7, 23.7, 23.6, 25.7, 23.6, 22.5, 24.2, 24.2, 24.1, 25.6, 21.7, 23.2, 21.8, 23.5, 24.0, 18.7, 15.6, 18.3, 17.2, 18.8, 17.8, 19.5, 19.5, 19.8, 19.7, 19.8, 18.3, 20.2, 19.3, 17.7, 8.8, 8.1, 17.1, 17.2, 12.6, 9.3, 11.3, 13.6, 8.6, 10.5, 7.0, 10.1, 13.1, 13.6, 13.1, 11.1, 10.1, 11.3, 12.6, 16.2, 13.8, 12.0, 7.0, 5.0, 3.5, 5.9, 3.0, -0.8, 2.5, 6.6, 6.9, 7.4, 9.1, 5.9, 3.7, 6.0, 9.5, 9.8, 6.1, 6.4, 4.8, 1.6, 1.1, 5.0, 8.1, 8.1, 7.3, 7.0, 7.3, 12.6, 12.6, 5.6, -4.3, -3.7, -0.1, 6.1, 6.0, 4.5, 9.3, 11.8, 9.0, 4.6, -0.8, 0.2, 2.5, 2.9, 1.5, -0.8, -2.2, 2.5, 4.0, 5.3, 4.5, 4.3, 4.4, 6.1, 7.1, 5.5, 6.0, 5.5, 4.6, 4.3, 3.5, 4.4, 4.9, 2.7, -0.3, -1.5, -0.5, 6.4, 9.3, 8.1, 13.3, 13.8, 6.5, 6.1, 6.0, 5.8, 8.3, 7.4, 4.0, 4.4, 9.5, 10.1, 12.1, 10.3, 12.0, 8.5, 13.1, 7.4, 9.3, 11.5, 14.0, 12.5, 14.8, 15.3, 12.0, 12.0, 14.1, 5.5, -1.6, 1.2, 3.9, 9.3, 6.5, 3.5, 7.5, 10.1, 11.6, 14.5, 12.8, 11.6, 11.6, 12.3, 10.1, 8.3, 12.6, 16.2, 13.0, 12.3, 13.5, 13.8, 9.5, 10.6, 15.6, 11.1, 13.3, 8.8, 9.1, 11.1, 13.6, 14.6, 13.8, 14.6, 16.0, 14.3, 17.0, 15.6, 14.3, 15.8, 17.6, 13.6, 15.6, 16.6, 17.5, 14.5, 20.0, 16.2, 19.6, 16.7, 17.7, 21.1, 21.0, 20.7, 22.5, 18.7, 16.8, 21.2, 19.5, 21.7, 26.1, 25.2, 26.1, 25.6, 22.2, 22.8, 24.7, 18.6, 22.8, 20.7, 25.2, 22.0, 24.0, 18.8, 20.0, 23.1, 24.1, 26.0, 25.6, 22.2, 23.1, 25.7, 30.1, 27.5, 20.8, 24.7, 27.2, 22.2, 28.6, 29.6, 25.8, 21.5, 24.8, 21.7, 23.8, 25.7, 30.7, 30.0, 29.6, 29.3, 28.5, 28.5, 32.2, 30.7, 33.2, 32.2, 28.6, 23.2, 31.7, 29.5, 24.5, 25.2, 30.6, 30.6, 27.2, 23.7, 28.7, 23.2, 22.8, 27.3, 25.3, 25.1, 31.1, 30.7, 30.2, 30.3, 25.1, 21.1, 28.0, 30.7, 27.8, 29.0, 25.2, 27.7, 31.0, 26.8, 30.0, 26.2, 29.7, 29.3, 26.7, 26.7, 31.2, 29.7, 26.2, 27.2, 31.2, 29.8, 30.1, 30.2, 32.2, 26.1, 27.7, 29.3, 25.2, 27.7, 29.2, 31.0, 33.0, 28.1, 30.3, 28.6, 29.5, 30.8, 32.2, 31.2, 31.0, 31.0, 29.7, 31.8, 33.2, 31.7, 33.0, 32.2, 30.0, 30.8, 26.3, 25.6, 27.1, 23.2, 22.7, 27.6, 25.0, 24.2, 20.0, 26.5, 26.0, 27.3, 28.3, 28.1, 28.6, 27.8, 27.0, 23.2, 24.2, 27.7, 21.8, 26.7, 31.1, 24.0, 22.1, 25.0, 27.0, 27.7, 26.2, 23.5, 19.7, 21.2, 18.7, 20.7, 22.2, 19.3, 25.0, 26.2, 25.3, 25.2, 17.2, 21.7, 19.7, 20.0, 21.2, 19.5, 21.3, 20.7, 19.1, 17.7, 20.2, 13.8, 9.6, 17.6, 19.3, 20.2, 21.7, 20.6, 20.7, 21.3, 17.6, 12.8, 15.5, 15.5, 13.1, 12.8, 16.0, 15.6, 14.0, 19.0, 18.2, 19.3, 18.6, 11.8, 11.8, 13.8, 14.0, 14.3, 11.3, 9.8, 10.3, 3.0, 3.9, 3.5, 5.4, 7.6, 9.8, 10.0, 12.0, 8.3, 5.5, 10.6, 13.6, 6.0, 8.1, 6.4, 6.0, 2.4, 1.7, 3.2, 3.7, 3.0, 5.5, 5.0, 9.1, 7.0, 3.5, 4.0, 4.6, 3.7, 5.9, 4.4, 5.0, 7.6, 7.4, 10.6, 7.4, 8.3, 10.1, 13.8, 9.1, 6.8, 3.0, -4.8, -2.9, -3.2, 0.8, 6.6, 3.7, 6.1, 7.3, 6.4, 5.6, 3.7, 4.3, 2.0, 4.4, -1.1, 1.5, -0.4, -3.0, -3.9, -0.7, 1.5, 5.3, 3.8, 1.5, 0.8, -3.7, -1.6, 1.8, 4.4, 2.3, 3.5, 0.0, -0.5, 1.6, 3.1, 2.5, 1.2, 0.7, 1.3, 0.8, 1.5, 0.7, 3.4, 4.0, -3.3, -1.1, 2.7, 0.2, 1.2, 2.2, 4.0, 5.2, 7.6, 9.6, 10.5, 1.2, 4.4, 2.5, 1.2, 6.1, 8.4, 9.8, 7.8, 5.3, 8.0, 3.9, 8.0, 7.8, 9.6, 10.8, 11.8, 11.3, 16.3, 19.2, 12.0, 14.1, 13.5, 12.0, 15.1, 19.1, 17.3, 17.9, 19.8, 16.9, 8.9, 11.8, 6.0, 10.3, 9.6, 12.5, 8.1, 10.3, 12.4, 13.7, 10.2, 13.2, 16.5, 19.1, 22.6, 18.6, 23.9, 16.7, 21.8, 19.3, 18.4, 16.8, 20.2, 22.1, 25.7, 24.6, 24.8, 28.0, 26.1, 23.5, 19.5, 13.3, 14.3, 18.7, 12.5, 14.6, 20.0, 21.4, 23.7, 25.0, 26.5, 28.2, 21.8, 21.1, 23.4, 19.0, 25.1, 23.2, 20.9, 22.4, 20.3, 15.7, 18.0, 19.2, 22.3, 24.4, 16.1, 18.3, 21.1, 20.8, 25.8, 24.9, 28.5, 27.0, 23.3, 27.8, 20.6, 28.5, 21.3, 22.8, 26.6, 22.5, 24.1, 19.4, 17.0, 19.9, 24.3, 25.1, 27.0, 28.1, 29.4, 29.0, 27.6, 28.9, 27.4, 28.6, 25.7, 22.0, 24.1, 29.6, 28.2, 27.4, 27.1, 27.6, 28.6, 28.8, 28.7, 25.4, 27.4, 27.3, 29.3, 24.5, 25.1, 27.2, 28.0, 28.4, 27.5, 32.8, 32.9, 30.5, 30.0, 27.7, 29.7, 31.7, 31.2, 27.2, 30.3, 30.1, 25.7, 28.4, 24.1, 28.4, 26.5, 25.0, 25.9, 23.8, 28.3, 31.2, 32.3, 28.3, 29.5, 31.2, 28.4, 29.8, 31.4, 30.7, 32.9, 33.4, 35.4, 32.6, 34.5, 32.4, 28.9, 31.5, 31.5, 29.6, 23.5, 27.4, 25.0, 27.6, 27.4, 28.6, 22.2, 25.3, 28.2, 28.4, 28.4, 28.2, 29.4, 30.6, 30.9, 29.0, 23.5, 26.9, 28.5, 28.4, 24.7, 30.2, 30.6, 31.1, 29.7, 29.7, 23.8, 29.2, 29.5, 30.2, 29.9, 30.8, 32.0, 31.9, 31.4, 24.7, 29.7, 25.0, 24.9, 23.8, 20.5, 18.4, 20.1, 20.2, 23.8, 23.2, 25.8, 26.0, 24.4, 24.3, 25.7, 23.1, 21.4, 22.2, 24.6, 22.2, 20.0, 20.6, 21.3, 22.3, 20.9, 23.3, 25.1, 28.3, 23.1, 25.5, 22.9, 20.5, 20.1, 14.1, 14.3, 15.0, 14.3, 15.8, 16.2, 15.7, 13.5, 15.0, 15.2, 15.4, 14.1, 16.1, 18.4, 15.9, 18.0, 12.0, 14.9, 15.6, 15.6, 16.0, 15.2, 12.6, 11.5, 8.1, 0.4, -0.7, 7.2, 7.2, 9.5, 11.8, 12.6, 9.2, 10.6, 8.8, 9.3, 7.3, 7.8, 10.5, 12.0, 12.8, 8.9, -0.7, -4.9, 1.2, 9.4, 12.1, 13.3, 8.2, 8.5, 4.6, 3.3, 6.5, 7.7, 9.3, 3.7, 5.2, 5.2, 4.3, -2.7, 3.2, 5.9, 3.6, -2.4, 1.1, 4.6, 2.4, 0.3, -2.9, -2.5, 1.2, 4.0, 4.5, 1.2, 1.4, 4.2, 2.5, -0.5, -4.3, -4.2, -3.2, -1.5, -3.2, -2.0, 0.4, 3.1, 6.1, 4.7, 7.2, 5.9, 9.3, -2.0, -5.1, 1.0, -0.2, 3.9, 7.8, 8.3, 12.2, 11.7, 10.5, 8.0, 11.1, 8.9, 6.0, 6.8, 5.0, 8.2, 8.1, 6.5, 9.2, 10.6, 16.1, 5.3, 2.4, -2.3, -0.5, 1.4, 3.9, -0.1, 2.7, 7.0, 11.9, 10.2, 6.4, 7.3, 8.6, 10.2, 8.6, 8.6, 5.1, 8.9, 7.6, 4.0, 6.4, 11.1, 11.1, 8.6, 9.9, 13.5, 6.3, 4.3, 8.8, 13.1, 18.8, 18.8, 17.3, 19.3, 22.2, 13.5, 9.6, 5.5, 5.5, 9.2, 8.4, 10.1, 12.1, 11.2, 9.9, 10.0, 14.2, 12.8, 12.7, 15.8, 17.0, 21.3, 23.9, 24.9, 23.6, 25.3, 21.2, 20.6, 21.1, 14.1, 15.4, 17.9, 20.6, 25.8, 17.2, 11.4, 13.0, 17.9, 17.4, 11.8, 12.2, 17.0, 20.2, 22.5, 20.8, 22.4, 18.0, 22.8, 21.5, 26.3, 29.2, 27.5, 27.4, 27.0, 25.9, 20.0, 23.9, 22.4, 25.2, 22.1, 15.5, 17.4, 22.6, 24.5, 27.3, 19.4, 22.5, 19.6, 25.0, 29.6, 29.0, 29.7, 31.0, 27.9, 25.4, 24.7, 28.1, 26.2, 22.2, 25.9, 28.2, 27.6, 21.8, 25.7, 21.8, 22.2, 25.7, 24.4, 24.6, 23.5, 26.3, 26.6, 23.1, 31.5, 28.5, 24.7, 30.2, 26.5, 27.9, 30.0, 29.8, 29.4, 32.4, 29.6, 31.1, 26.6, 27.4, 22.3, 27.0, 26.9, 30.0, 29.0, 28.1, 30.3, 25.8, 29.7, 29.2, 24.0, 27.7, 25.6, 25.9, 32.4, 26.6, 27.3, 29.9, 28.5, 29.1, 30.0, 29.9, 30.1, 26.0, 29.1, 27.7, 26.4, 30.4, 30.6, 30.4, 28.9, 29.6, 27.5, 31.2, 32.3, 30.7, 28.5, 28.9, 33.6, 32.0, 27.1, 25.9, 30.9, 33.4, 33.0, 34.4, 30.9, 30.9, 31.8, 29.4, 29.6, 28.2, 30.9, 29.4, 27.6, 26.3, 25.7, 28.6, 26.7, 23.3, 28.3, 28.6, 28.6, 28.6, 29.3, 29.9, 29.9, 24.9, 28.4, 27.2, 27.4, 25.3, 23.9, 25.9, 22.8, 25.1, 25.8, 26.1, 28.5, 26.4, 25.5, 21.6, 25.2, 26.1, 25.5, 23.6, 26.8, 22.5, 25.3, 27.1, 28.1, 26.4, 24.1, 22.8, 21.9, 23.3, 24.7, 23.7, 21.5, 20.6, 21.3, 21.7, 19.8, 19.2, 20.1, 21.6, 21.5, 17.5, 18.7, 14.9, 15.6, 18.5, 18.8, 19.9, 20.7, 20.6, 21.2, 20.1, 20.0, 22.8, 24.0, 19.1, 13.4, 5.2, 6.1, 16.3, 17.9, 19.7, 20.0, 19.8, 21.8, 14.7, 13.9, 12.4, 10.3, 8.8, 1.9, 1.0, 1.9, 3.1, 5.9, 4.8, 3.8, 6.8, 12.3, 13.5, 7.5, 13.2, 8.5, 9.1, 7.5, 9.6, 10.1, 8.0, 5.9, 8.1, 5.6, -0.3, 5.1, 3.8, 8.6, 8.5, 8.8, 7.8, 6.2, 3.6, -1.5, -3.0, -3.2, -5.7, -4.3, -0.9, 0.5, 7.8, 7.7, 6.7, 4.0, -4.6, -5.5, -5.4, 1.6, 1.8, -8.3, -3.6, 0.2, -3.2, -3.4, -7.0, -8.1, -5.5, -3.3, -1.9, -0.3, -1.3, -7.3, -10.7, -4.1, -0.6, -2.1, 1.4, 1.9, 6.8, 8.4, 2.4, -3.4, -0.9, 3.8, 2.6, 1.1, 3.1, 2.7, 1.4, 5.0, 4.3, 5.1, -2.6, -5.0, -0.6, -1.9, 0.9, 5.6, 5.7, 4.4, 5.0, 3.5, 1.1, -0.3, 1.2, -0.3, -0.4, 0.3, -1.0, 2.5, 8.1, 9.6, 11.0, 16.2, 17.9, 14.8, 17.2, 11.0, 9.1, 6.3, 4.8, 10.2, 6.3, 9.5, 10.7, 7.8, 7.7, 5.7, 0.5, 6.0, 10.0, 7.9, 12.6, 11.1, 3.9, 3.1, 4.6, 8.9, 11.3, 7.1, 5.0, 10.3, 13.8, 9.5, 4.7, 7.2, 9.2, 11.3, 14.2, 8.7, 9.9, 10.3, 9.5, 14.5, 14.8, 11.7, 12.6, 15.5, 17.4, 13.5, 19.9, 18.5, 9.6, 6.4, 12.6, 13.6, 12.0, 17.0, 17.4, 20.7, 18.5, 12.7, 14.3, 16.8, 19.4, 17.8, 10.9, 7.8, 12.4, 13.2, 17.5, 23.3, 19.5, 25.3, 25.2, 19.8, 20.6, 23.0, 25.2, 20.9, 17.0, 19.6, 21.9, 23.7, 21.9, 25.1, 27.0, 19.4, 20.9, 25.4, 28.6, 25.5, 18.1, 15.8, 18.8, 21.7, 24.0, 20.4, 23.3, 23.4, 20.0, 26.2, 26.6, 26.5, 27.9, 28.4, 30.9, 31.4, 31.8, 30.6, 32.7, 31.2, 22.0, 27.2, 26.4, 29.7, 25.6, 27.6, 31.1, 25.8, 27.0, 27.8, 25.2, 28.6, 30.8, 32.5, 27.2, 23.3, 30.5, 27.2, 24.8, 30.7, 25.9, 25.7, 29.9, 30.8, 31.6, 29.6, 29.6, 29.8, 29.2, 26.5, 28.6, 31.3, 27.7, 30.0, 27.7, 24.2, 29.1, 30.1, 32.3, 29.7, 29.6, 25.9, 29.3, 30.0, 28.6, 30.8, 31.2, 30.6, 30.8, 30.1, 31.0, 31.8, 32.1, 31.9, 33.8, 31.0, 28.2, 31.6, 33.3, 29.8, 32.7, 26.7, 29.6, 29.1, 30.2, 26.7, 31.8, 31.2, 32.9, 32.2, 32.1, 32.5, 29.1, 25.9, 22.5, 26.7, 31.8, 27.2, 26.0, 29.9, 27.2, 31.4, 26.2, 30.0, 31.2, 30.7, 30.0, 30.8, 24.3, 22.5, 25.8, 26.1, 26.1, 27.9, 28.6, 30.5, 30.0, 28.9, 30.3, 23.8, 26.0, 24.9, 18.8, 22.8, 23.2, 24.1, 24.2, 23.9, 18.6, 16.8, 20.7, 21.4, 18.6, 21.4, 16.7, 19.7, 22.1, 23.8, 23.2, 24.2, 22.8, 21.2, 19.2, 19.6, 20.4, 16.9, 21.6, 19.9, 19.3, 21.7, 19.5, 21.9, 22.4, 20.2, 23.4, 15.1, 8.2, 10.1, 12.3, 16.7, 17.8, 17.0, 16.7, 9.2, 12.6, 16.0, 15.1, 14.8, 14.3, 11.4, 6.5, 9.1, 15.1, 12.6, 17.4, 12.4, 5.1, 8.8, 11.3, 12.0, 10.9, 13.4, 15.6, 13.1, 12.8, 10.7, 6.1, 4.7, 9.1, 2.0, 7.8, 12.5, 10.4, 13.5, 7.8, 5.0, 10.7, 10.2, 4.6, 2.2, 2.3, 10.1, 6.7, 3.7, 6.1, 1.8, -7.3, -4.1, 2.6, 5.0, 8.3, 8.8, 10.8, 8.3, 4.5, -9.0, -6.7, -5.1, -2.1, -0.1, -2.1, -3.6, -6.2, -2.9, -1.2, -0.3, -1.7, -1.8, -4.6, -2.9, 0.1, -0.3, -4.6, -2.7, -4.9, -0.6, 0.3, -6.9, -10.7, -4.8, -2.7, -3.2, -4.7, -3.2, -0.8, -2.1, -5.8, -4.4, -5.2, -5.7, -4.3, -5.5, -5.7, -1.8, 5.0, 7.0, 4.9, 3.5, 5.5, 2.7, 4.2, 8.5, 2.1, 2.7, 1.8, -1.8, -0.2, -0.2, 2.9, 4.3, 4.7, 7.3, 7.0, 12.8, 12.3, 13.0, 12.0, 10.5, 6.3, 13.2, 7.4, 4.8, 3.7, 1.6, 2.5, 6.0, 6.8, 7.4, 5.8, 6.2, 4.4, 4.9, 9.8, 13.4, 16.2, 10.3, 5.7, 3.2, 6.1, 12.5, 13.7, 11.4, 13.0, 6.1, 7.3, 8.0, 6.5, 8.6, 9.7, 8.4, 9.1, 13.6, 16.8, 14.9, 12.8, 15.5, 16.7, 17.1, 16.6, 10.7, 17.3, 15.0, 14.5, 15.4, 15.5, 17.4, 18.8, 19.0, 18.4, 18.4, 10.7, 16.2, 16.8, 18.0, 14.5, 14.2, 13.9, 15.7, 11.4, 14.2, 15.3, 18.4, 14.6, 15.7, 20.7, 20.6, 21.8, 23.7, 17.9, 21.8, 24.1, 22.0, 18.5, 21.1, 20.2, 20.6, 22.9, 22.9, 22.2, 22.8, 25.4, 23.6, 20.5, 17.7, 23.3, 25.9, 28.0, 28.2, 24.0, 24.5, 28.9, 31.2, 28.1, 23.7, 21.6, 24.7, 24.8, 24.6, 27.1, 26.9, 26.6, 27.5, 22.0, 24.3, 29.2, 30.2, 26.9, 29.5, 31.9, 32.0, 31.3, 28.9, 32.9, 32.0, 29.6, 24.9, 23.3, 21.6, 20.0, 21.6, 20.5, 29.7, 23.3, 27.9, 28.6, 26.8, 24.8, 28.0, 30.7, 31.2, 25.3, 24.6, 27.8, 28.4, 22.1, 25.6, 26.2, 24.6, 26.0, 25.3, 29.1, 34.1, 32.7, 32.6, 32.2, 26.6, 29.7, 27.9, 27.9, 29.3, 26.2, 26.3, 30.2, 30.5, 26.6, 29.2, 30.1, 28.1, 28.0, 34.1, 32.7, 33.0, 27.7, 28.7, 28.9, 29.9, 26.3, 26.6, 26.8, 26.9, 26.2, 24.6, 30.2, 29.2, 27.0, 31.0, 29.6, 30.5, 28.6, 30.5, 30.3, 31.2, 32.0, 29.9, 32.4, 32.8, 31.1, 32.4, 30.7, 30.2, 28.5, 28.7, 27.3, 25.8, 20.7, 26.4, 22.5, 27.0, 30.9, 28.1, 31.3, 31.2, 31.0, 26.4, 18.2, 23.2, 24.0, 24.6, 26.0, 25.9, 26.6, 27.7, 29.2, 23.5, 19.5, 18.6, 17.6, 18.1, 20.8, 21.2, 22.0, 20.2, 21.2, 22.5, 22.5, 21.8, 22.4, 18.7, 23.4, 15.7, 16.9, 20.1, 14.8, 15.4, 20.4, 20.9, 21.0, 21.7, 22.1, 15.3, 12.1, 15.3, 19.5, 19.8, 13.5, 20.8, 22.1, 22.6, 21.5, 24.3, 22.5, 25.9, 19.3, 18.8, 19.6, 18.4, 17.0, 14.7, 15.8, 15.8, 11.0, 11.6, 15.7, 16.3, 16.1, 15.5, 3.7, 6.3, 7.9, 7.4, 2.0, 7.2, 8.8, 15.3, 17.0, 13.6, 9.2, 9.0, 7.5, 9.1, 6.3, 5.9, 7.7, 5.7, 3.7, 0.1, 1.4, 6.3, 6.4, 7.4, 7.2, -0.9, -3.5, -1.6, 1.4, 1.9, 3.8, 5.2, 1.1, -1.1, -3.0, -3.5, -3.5, 1.2, 2.2, 1.7, 1.9, 1.4, 0.4, -1.2, -0.2, -4.3, -1.3, 1.3, 2.0, 0.4, 2.7, 1.5, -3.3, -0.4, 2.6, 2.7, 0.3, 7.8, 8.2, 5.4, 8.4, 8.3, 5.7, -2.4, -5.3, -3.1, -5.0, 1.8, 4.9, 3.1, 1.6, -0.8, -0.3, -8.1, -9.5, -3.9, 1.0, 4.8, 7.0, -0.1, -3.8, -0.5, 1.7, 0.8, 4.8, 8.4, 8.3, 3.0, 2.7, -2.9, -2.2, 1.3, 5.3, 5.5, 12.1, 8.2, 9.7, 5.0, 3.2, 5.2, 7.3, 11.8, 14.6, 9.5, 12.9, 9.7, 8.5, 4.6, 7.7, 5.2, 9.1, 8.9, 1.3, 3.2, 6.6, 5.9, 11.8, 12.9, 16.1, 11.5, 7.2, 8.3, 10.4, 11.4, 9.7, 6.9, 7.7, 8.7, 10.9, 15.8, 16.2, 11.9, 10.1, 9.4, 14.1, 9.4, 12.8, 12.2, 9.6, 12.4, 17.6, 22.4, 16.9, 17.4, 12.4, 15.1, 16.4, 21.7, 17.9, 19.7, 21.3, 24.3, 23.8, 16.3, 12.0, 17.3, 26.6, 20.7, 16.8, 22.3, 22.1, 26.3, 29.4, 28.3, 29.1, 25.4, 25.7, 24.9, 24.1, 24.9, 28.0, 27.4, 26.6, 19.2, 21.1, 25.2, 17.2, 22.7, 22.0, 20.5, 24.5, 25.8, 28.7, 28.9, 29.3, 27.8, 24.0, 26.6, 26.1, 23.4, 26.0, 25.4, 23.6, 27.2, 26.7, 28.8, 29.1, 29.1, 27.5, 28.9, 29.4, 27.9, 29.9, 28.7, 27.8, 28.9, 28.9, 31.7, 28.0, 29.9, 29.8, 30.2, 33.5, 31.3, 32.4, 29.3, 31.7, 32.8, 33.2, 30.8, 31.0, 29.6, 31.0, 23.7, 25.4, 29.8, 25.7, 27.4, 24.6, 21.8, 31.0, 30.7, 32.3, 29.1, 26.5, 28.5, 29.3, 26.2, 20.5, 25.0, 29.0, 28.4, 26.5, 29.7, 31.4, 30.4, 30.5, 32.1, 32.1, 32.6, 32.3, 33.2, 33.2, 31.6, 33.0, 35.3, 35.5, 35.4, 36.2, 36.7, 35.8, 35.0, 34.3, 34.6, 29.0, 31.8, 27.9, 32.1, 31.2, 27.1, 28.9, 32.2, 28.6, 30.8, 27.1, 28.7, 24.6, 25.7, 26.1, 28.9, 32.4, 32.9, 29.4, 29.1, 24.7, 28.4, 29.4, 29.5, 28.5, 24.4, 26.1, 27.1, 27.2, 23.7, 25.0, 28.3, 27.5, 24.8, 21.1, 21.8, 25.5, 22.1, 18.4, 24.6, 25.2, 24.7, 24.3, 26.4, 26.6, 27.5, 27.8, 25.4, 23.6, 22.0, 19.8, 21.0, 24.6, 24.9, 26.0, 24.2, 22.8, 24.5, 24.4, 23.4, 22.4, 20.3, 19.0, 21.4, 23.1, 21.8, 21.8, 23.4, 17.6, 17.0, 20.1, 21.0, 23.7, 17.1, 14.5, 18.4, 20.0, 22.3, 16.4, 18.8, 16.7, 12.4, 11.6, 10.0, 12.4, 15.7, 15.3, 10.7, 8.6, 12.5, 12.6, 15.0, 14.7, 12.0, 9.1, 9.1, 6.7, 9.8, 8.2, 8.0, 8.4, 7.6, 6.4, 8.4, 10.5, 6.9, 6.7, 7.5, 5.1, 6.5, 10.2, 4.7, 6.2, 4.0, 7.1, 5.0, -0.1, -0.8, -2.9, -2.4, -5.3, -7.0, -4.6, -0.8, 0.0, 3.4, 4.7, 8.3, 4.3, 3.2, -4.0, -2.8, 0.3, 0.8, -0.8, -5.9, -4.5, -4.6, -7.0, -0.8, 1.5, 0.6, 0.0, -5.0, 0.0, -4.8, -9.3, -5.8, -1.2, -2.0, 0.1, -0.7, -6.4, -3.6, 1.4, 4.2, 3.3, 1.8, 2.0, 0.4, -2.5, 0.2, 4.6, 4.1, 4.0, 6.0, 3.8, 2.4, -6.5, -5.1, -3.9, 0.2, 3.7, 8.5, 11.5, 9.3, 3.7, -1.1, 2.5, 2.7, 0.2, -2.6, -6.1, -2.6, -0.5, -0.9, -1.9, 2.9, 5.2, 1.5, 2.6, 5.8, 3.1, 0.6, 0.0, 2.5, 4.3, 2.4, 5.3, 8.6, 7.5, 8.8, 13.9, 7.7, 3.1, 4.8, 8.9, 9.1, 14.3, 11.7, 14.1, 23.8, 7.9, 12.1, 11.7, 8.4, 9.8, 10.5, 12.7, 15.9, 14.2, 11.4, 8.5, 7.2, 6.9, 12.1, 10.2, 7.8, 10.4, 14.9, 12.0, 10.4, 10.2, 13.2, 13.4, 9.5, 14.1, 19.8, 19.9, 13.0, 9.6, 13.8, 10.7, 8.1, 9.6, 11.9, 17.5, 12.2, 12.5, 19.1, 20.6, 16.3, 15.0, 10.1, 15.3, 17.2, 14.8, 18.0, 13.8, 16.3, 18.5, 21.6, 17.7, 19.5, 18.6, 17.1, 18.2, 19.6, 20.6, 21.3, 26.7, 26.2, 23.0, 16.1, 24.8, 22.5, 26.8, 25.3, 24.4, 28.3, 26.6, 22.3, 21.5, 18.5, 24.6, 25.9, 30.2, 27.5, 31.8, 28.4, 22.6, 20.9, 18.1, 25.0, 27.8, 27.9, 30.8, 26.7, 28.4, 30.4, 30.0, 31.1, 31.2, 32.4, 32.2, 26.7, 22.5, 27.5, 29.7, 29.1, 27.5, 25.8, 23.1, 29.6, 31.1, 31.8, 29.6, 26.2, 29.4, 29.8, 29.7, 31.8, 30.6, 32.6, 31.9, 31.3, 27.9, 30.7, 27.6, 30.2, 30.6, 29.5, 26.3, 26.2, 26.1, 25.1, 24.3, 25.6, 25.4, 29.1, 28.8, 25.7, 27.7, 30.5, 30.3, 28.4, 29.4, 26.4, 27.6, 30.2, 31.1, 31.2, 26.7, 29.6, 29.9, 29.0, 32.1, 29.3, 32.6, 31.3, 30.1, 27.6, 32.1, 32.8, 30.8, 29.4, 33.2, 32.6, 32.9, 32.0, 32.4, 31.7, 31.6, 31.5, 32.3, 32.3, 33.9, 32.3, 28.7, 31.5, 32.1, 31.6, 29.3, 30.8, 26.7, 28.3, 27.9, 28.2, 26.9, 26.8, 27.5, 24.1, 23.1, 26.9, 27.9, 26.5, 25.2, 20.9, 26.3, 25.2, 25.3, 28.2, 27.0, 29.3, 31.1, 30.2, 28.0, 27.8, 27.2, 29.0, 23.9, 24.2, 22.5, 24.0, 19.9, 19.7, 25.5, 27.2, 22.8, 21.3, 25.1, 28.1, 25.7, 26.9, 21.8, 26.4, 26.4, 20.7, 21.5, 23.4, 24.4, 17.4, 16.8, 18.9, 20.2, 19.5, 22.9, 22.2, 21.7, 22.1, 18.5, 14.5, 15.7, 18.0, 16.7, 16.5, 16.2, 18.8, 20.7, 14.9, 16.7, 17.6, 18.5, 15.9, 15.8, 14.5, 15.5, 10.4, 7.5, 8.5, 11.4, 9.9, 12.4, 12.0, 7.6, 4.2, 3.8, 5.9, 7.3, 10.5, 12.5, 10.6, 10.2, 5.8, 4.7, -0.9, 4.8, 10.6, 8.6, 6.6, 9.9, 9.6, 9.0, 7.0, 11.0, 6.5, 5.2, 3.5, 0.2, 0.3, -4.3, -1.4, 0.7, 0.5, 4.7, 6.5, -0.9, -0.1, 0.9, 3.1, 2.3, 4.0, 3.7, 2.7, -3.7, -2.7, 1.6, 6.3, 8.0, 7.9, 6.2, 7.3, 5.6, 3.8, 6.4, 5.5, 4.0, -4.3, -0.9, 2.4, 2.5, -1.6, 1.1, 2.2, 3.6, 3.8, 0.8, 2.4, 1.9, -3.1, 1.6, 4.1, 5.7, 6.3, 2.3, 6.0, 4.6, 8.2, 6.5, 7.0, 6.0, 6.5, 2.8, -3.7, 0.3, 4.5, 7.6, 2.5, 0.7, 4.4, 5.2, 5.1, 6.5, 7.6, 8.5, 8.1, 8.5, 5.4, 6.7, 5.5, 6.9, 7.4, 8.5, 9.3, 12.3, 16.4, 13.1, 12.3, 9.4, 10.1, 11.9, 12.3, 5.3, 5.0, 4.3, 7.0, 4.8, 7.7, 9.4, 9.5, 8.3, 8.5, 13.4, 18.5, 19.4, 16.0, 12.3, 10.3, 12.0, 15.5, 15.5, 15.3, 18.2, 21.9, 20.4, 23.8, 18.0, 20.6, 20.2, 23.0, 21.9, 13.6, 11.7, 11.0, 12.8, 16.7, 19.7, 15.3, 20.0, 18.7, 17.2, 24.3, 22.4, 16.8, 19.4, 20.9, 23.0, 18.4, 21.6, 21.4, 23.3, 24.9, 26.2, 25.9, 25.4, 18.3, 15.0, 18.9, 21.4, 22.1, 24.8, 19.3, 20.5, 15.5, 19.0, 22.3, 19.5, 23.8, 28.3, 23.8, 20.4, 25.6, 25.9, 23.7, 26.2, 26.2, 27.1, 26.2, 28.4, 26.5, 28.3, 27.8, 27.9, 24.9, 24.7, 28.3, 29.8, 30.9, 31.8, 33.3, 29.9, 24.6, 21.0, 27.8, 26.1, 31.1, 27.1, 24.5, 28.7, 29.3, 26.9, 27.1, 25.8, 27.7, 28.5, 29.0, 30.7, 29.1, 25.6, 28.6, 28.2, 29.0, 23.2, 27.2, 29.0, 29.5, 29.5, 28.4, 29.8, 30.2, 31.2, 31.1, 24.7, 32.3, 29.7, 29.5, 33.8, 29.3, 33.0, 33.6, 32.8, 29.6, 29.4, 30.7, 32.3, 32.2, 29.6, 30.6, 30.7, 33.2, 31.6, 28.2, 25.2, 24.5, 33.7, 27.3, 30.6, 31.3, 30.1, 33.5, 34.4, 34.7, 35.8, 30.5, 29.6, 29.2, 26.2, 27.1, 30.6, 31.6, 27.7, 28.6, 30.4, 26.7, 24.2, 29.6, 31.8, 25.0, 24.4, 25.3, 28.0, 24.6, 28.2, 29.7, 30.7, 28.6, 29.6, 28.6, 30.7, 30.1, 30.7, 29.0, 29.7, 27.7, 20.6, 27.6, 29.0, 30.8, 31.3, 30.2, 28.2, 28.9, 29.2, 26.6, 28.3, 28.4, 27.5, 27.0, 22.6, 27.0, 28.4, 28.1, 25.6, 27.9, 29.0, 23.8, 27.7, 24.2, 25.1, 24.7, 20.7, 23.7, 24.4, 20.1, 20.8, 23.0, 23.2, 22.6, 22.5, 23.6, 25.4, 26.3, 25.6, 29.0, 21.7, 20.0, 20.0, 18.0, 21.2, 22.5, 22.7, 17.1, 15.7, 18.7, 20.6, 21.0, 22.2, 19.9, 16.9, 19.4, 20.8, 20.8, 18.2, 22.9, 15.4, 14.8, 18.5, 18.4, 17.7, 16.5, 15.1, 15.5, 16.5, 14.5, 10.0, 4.3, 10.0, 9.5, 12.4, 9.0, 10.4, 12.6, 14.6, 16.5, 12.7, 12.3, 13.2, 15.1, 16.3, 14.9, 10.1, 12.8, 11.1, 7.9, -2.7, -0.5, -0.2, -2.5, -0.5, 0.2, 2.7, 4.1, 4.2, 3.2, 0.5, -2.0, 0.6, 2.0, 1.7, -5.2, -2.2, 0.0, 2.1, -1.3, 0.8, 1.8, 6.4, 1.8, 2.5, 5.0, 1.6, 6.4, 6.3, 1.7, -4.3, -1.9, 3.1, 8.5, 7.9, 4.0, -0.6, -0.2, 3.5, 4.8, 2.5, 3.7, 5.8, 6.1, 9.0, 3.4, 0.0, 2.1, 3.1, 4.4, 6.5, 7.1, 4.9, 8.4, 5.0, 6.5, 0.5, 2.7, 3.0, 0.8, 0.8, 3.6, 6.4, 7.2, 5.8, 4.8, 6.5, 5.7, -2.8, -0.1, 5.8, 8.0, 1.6, 4.0, 6.6, 13.0, 7.9, 4.1, 3.3, 8.6, 11.4, 6.7, 7.0, 5.9, 7.5, 12.5, 4.7, 4.8, 6.4, 5.9, 9.7, 6.7, 1.4, 5.5, 10.4, 11.0, 15.1, 8.2, 1.0, 7.5, 6.7, 11.0, 11.6, 12.5, 18.6, 16.1, 14.4, 21.0, 21.9, 17.8, 14.9, 10.1, 12.4, 14.2, 14.8, 16.2, 17.0, 16.5, 20.8, 14.9, 17.6, 21.8, 15.1, 18.5, 12.2, 15.4, 12.2, 13.7, 16.3, 19.2, 20.7, 20.4, 17.6, 8.0, 17.0, 14.8, 16.1, 23.7, 17.3, 16.8, 20.9, 20.7, 20.1, 22.8, 23.0, 24.4, 24.9, 26.9, 18.4, 28.3, 27.2, 26.0, 19.6, 20.1, 19.9, 22.0, 24.0, 22.7, 24.0, 25.9, 24.1, 17.5, 21.4, 26.6, 23.7, 25.2, 25.2, 22.2, 16.2, 21.9, 26.0, 27.2, 28.3, 28.5, 28.7, 30.3, 31.5, 32.2, 29.8, 23.2, 30.4, 28.5, 29.8, 29.4, 31.5, 22.0, 28.9, 31.5, 27.8, 28.1, 34.9, 30.2, 29.9, 30.9, 27.7, 30.6, 30.9, 30.8, 31.3, 29.9, 22.6, 29.6, 29.1, 31.0, 30.6, 29.1, 25.3, 31.1, 31.1, 30.6, 29.2, 27.9, 29.3, 28.3, 29.9, 29.6, 32.5, 29.7, 26.3, 31.8, 34.3, 36.0, 28.0, 24.9, 31.4, 33.9, 28.9, 28.6, 27.8, 29.8, 31.2, 29.6, 31.7, 32.1, 25.4, 26.4, 30.0, 30.0, 31.2, 28.8, 33.1, 32.4, 31.6, 29.2, 31.5, 30.8, 32.7, 34.4, 34.4, 33.0, 31.0, 32.0, 30.6, 32.9, 31.1, 32.5, 30.8, 31.2, 32.9, 32.2, 29.7, 28.1, 29.3, 29.6, 31.7, 30.3, 24.5, 25.3, 30.0, 28.1, 30.8, 31.0, 31.2, 30.7, 27.7, 28.2, 30.7, 23.6, 26.2, 28.7, 28.9, 30.1, 28.4, 24.4, 24.0, 26.0, 27.8, 28.7, 26.7, 27.6, 29.2, 29.0, 28.3, 29.4, 31.0, 26.1, 30.6, 29.8, 28.0, 29.8, 28.3, 28.2, 26.2, 19.7, 21.5, 24.5, 22.4, 25.6, 26.3, 25.7, 26.4, 20.5, 17.2, 14.4, 17.9, 21.3, 24.5, 26.1, 24.2, 26.6, 24.2, 23.9, 25.1, 22.7, 23.1, 21.4, 22.0, 22.8, 18.7, 15.9, 15.8, 14.7, 10.4, 12.3, 12.6, 15.2, 18.7, 19.8, 19.2, 19.2, 11.7, 11.8, 12.1, 13.5, 17.7, 21.0, 13.1, 14.2, 17.2, 14.0, 19.3, 12.6, 10.8, 14.4, 15.4, 15.7, 11.0, 8.8, 5.3, 0.9, 2.0, 2.6, 3.9, 8.5, 10.4, 8.5, 3.3, 3.1, 7.2, 7.8, 6.7, 9.6, 10.9, 9.2, 12.2, 11.0, 12.2, 6.4, 8.2, 2.8, -0.4, -1.0, 6.8, 6.0, 5.0, 7.7, 10.6, 5.3, 3.7, 4.7, -1.0, -1.0, 2.9, 4.3, 2.8, 4.0, 9.5, 9.4, 5.3, 1.5, 1.7, 1.4, 1.0, 2.4, 3.8, 0.9, 0.7, 0.1, 1.3, 5.3, 2.8, 5.4, 0.4, -8.9, -5.2, -2.3, -3.8, -8.3, -10.5, -3.4, 1.7, 4.3, 3.5, 5.4, 5.2, 0.3, -1.0, 0.9, 4.0, 3.9, 3.4, 2.0, 3.5, 5.5, 5.5, 10.7, 13.5, 10.0, 14.4, 5.8, -2.3, 1.1, 5.4, 7.8, 4.4, 6.3, 4.4, 4.2, 4.5, 2.2, 5.7, 7.5, 8.1, 6.9, -1.1, 2.1, 8.1, 13.9, 20.3, 13.5, 12.9, 12.2, 7.0, 5.3, 3.1, 4.6, 6.4, 6.5, 9.6, 12.4, 13.8, 14.7, 20.1, 18.1, 17.5, 16.1, 13.8, 13.8, 12.7, 12.6, 12.6, 13.1, 17.4, 17.1, 18.3, 21.4, 23.8, 21.7, 12.7, 19.8, 18.1, 22.9, 20.6, 18.7, 14.1, 20.7, 19.4, 19.4, 21.4, 18.6, 23.1, 20.7, 14.5, 18.6, 19.2, 20.9, 16.9, 18.6, 19.8, 23.7, 25.3, 29.6, 20.7, 23.0, 22.6, 20.4, 26.0, 28.4, 17.6, 20.6, 26.9, 18.6, 22.6, 26.8, 25.4, 18.1, 23.5, 24.0, 25.4, 26.9, 24.2, 21.9, 26.6, 29.5, 31.9, 31.6, 30.4, 31.7, 29.4, 21.8, 24.4, 22.9, 27.1, 28.0, 27.6, 28.9, 27.6, 29.9, 29.1, 27.7, 26.3, 32.2, 28.4, 25.9, 27.7, 31.3, 31.3, 26.5, 26.7, 29.6, 29.5, 24.5, 24.9, 29.1, 29.9, 29.3, 30.7, 31.3, 30.2, 29.4, 25.7, 26.7, 30.3, 29.5, 29.7, 30.2, 26.9, 26.6, 27.7, 26.8, 24.1, 24.8, 26.9, 28.5, 32.4, 32.7, 33.1, 33.4, 30.9, 29.5, 32.4, 29.2, 23.8, 23.1, 28.4, 32.4, 32.9, 32.2, 34.1, 31.6, 30.1, 31.4, 31.9, 28.9, 30.5, 28.4, 33.0, 32.8, 32.4, 31.1, 34.2, 35.7, 36.0, 34.0, 35.0, 35.5, 33.6, 34.8, 36.4, 35.9, 35.1, 31.8, 34.0, 34.9, 34.7, 34.3, 33.2, 34.9, 36.6, 36.3, 33.0, 32.9, 32.2, 28.2, 29.7, 24.5, 27.1, 24.5, 19.2, 28.6, 29.0, 28.6, 29.6, 31.1, 29.0, 28.6, 26.5, 29.3, 29.1, 28.2, 27.5, 30.8, 28.9, 29.5, 29.5, 28.2, 28.3, 27.8, 26.8, 25.3, 27.2, 27.9, 28.9, 29.7, 28.9, 23.8, 21.8, 24.8, 23.5, 25.6, 22.4, 27.9, 29.0, 27.2, 23.5, 24.8, 21.8, 16.6, 21.4, 21.1, 20.7, 21.9, 23.5, 27.1, 19.5, 21.7, 24.0, 24.3, 25.8, 22.0, 22.8, 17.8, 20.6, 17.5, 16.3, 20.9, 18.4, 11.2, 15.1, 8.2, 6.6, 10.5, 14.1, 15.7, 18.1, 18.3, 17.8, 8.4, 8.6, 9.8, 14.2, 16.7, 18.1, 15.8, 10.2, 12.0, 16.5, 14.6, 18.6, 15.3, 14.6, 8.4, 3.6, 2.4, 6.0, 2.7, 6.6, 5.6, 8.6, 9.8, 7.0, 7.9, 11.3, 9.5, 10.3, 4.3, 7.5, 6.1, 4.2, 3.6, 6.4, 6.3, 8.8, -0.1, -1.5, 0.0, 8.0, 8.1, 12.0, 13.6, 12.6, 11.0, 1.5, 1.1, 6.4, 4.4, 1.3, 2.6, -1.1, 1.0, 5.7, 6.9, 9.2, 7.7, 8.9, 7.3, 11.4, 10.5, 10.9, 4.3, 1.1, 1.5, 1.0, -1.4, -5.4, -0.9, 4.0, 3.4, 2.8, 4.7, -1.4, -0.9, -3.3, -4.1, -1.3, 0.9, 3.4, 3.1, 4.3, 2.5, -0.9, 0.2, 0.7, 3.3, 6.7, 3.2, 2.3, 2.6, 3.0, 0.6, -2.1, -2.5, 0.8, 4.2, 6.1, 6.5, 8.0, 10.3, 9.0, 2.9, 5.7, 5.4, 6.9, 2.9, 2.1, 4.4, 8.4, 10.1, 10.7, 12.3, 11.4, 6.6, 10.4, 12.7, 10.4, 4.0, 2.9, 5.0, 10.7, 12.2, 16.7, 14.0, 12.2, 10.9, 13.3, 13.4, 15.7, 16.1, 18.9, 15.5, 12.6, 14.1, 15.0, 15.2, 12.6, 11.6, 10.9, 12.7, 14.4, 17.1, 12.4, 15.1, 15.8, 19.2, 21.8, 14.2, 12.4, 23.5, 19.9, 20.5, 23.3, 20.2, 16.4, 19.6, 17.7, 24.3, 24.4, 18.0, 17.4, 18.4, 18.2, 19.3, 22.5, 21.7, 21.3, 20.4, 20.2, 19.8, 21.5, 23.7, 27.8, 28.3, 28.0, 30.2, 27.5, 27.0, 19.3, 22.8, 23.5, 22.6, 20.8, 24.8, 21.1, 22.6, 20.7, 20.1, 22.3, 25.9, 26.9, 27.9, 27.3, 27.6, 28.0, 24.4, 27.8, 24.4, 23.2, 26.4, 27.9, 29.3, 30.3, 29.6, 27.0, 25.6, 26.5, 28.1, 30.3, 23.9, 19.2, 25.9, 25.7, 27.5, 29.6, 28.0, 25.9, 26.8, 29.6, 32.7, 29.9, 31.8, 30.2, 32.7, 31.6, 30.4, 34.1, 27.8, 28.4, 29.9, 30.5, 30.5, 31.5, 30.9, 30.7, 26.8, 27.4, 31.6, 32.6, 34.6, 28.4, 27.6, 30.3, 25.4, 30.9, 31.1, 32.1, 33.0, 27.3, 28.8, 29.0, 30.7, 34.1, 34.9, 32.4, 32.5, 28.1, 27.3, 35.4, 32.8, 29.7, 26.9, 30.1, 32.6, 27.1, 33.0, 33.0, 33.9, 35.3, 34.8, 34.0, 34.4, 31.0, 32.0, 26.3, 32.4, 32.6, 28.4, 27.1, 24.0, 26.8, 27.7, 30.6, 28.7, 25.8, 29.2, 31.5, 30.2, 28.1, 30.6, 29.2, 26.7, 26.5, 24.0, 23.9, 27.6, 29.7, 29.6, 29.2, 30.1, 23.7, 24.0, 27.5, 29.9, 28.2, 26.1, 24.6, 27.9, 27.5, 29.5, 27.9, 27.6, 29.2, 27.6, 25.8, 24.9, 27.0, 26.8, 27.3, 27.9, 30.1, 31.4, 27.3, 25.3, 23.5, 25.9, 21.2, 29.4, 23.6, 24.3, 23.4, 23.3, 28.8, 28.7, 27.6, 24.8, 21.7, 18.9, 20.5, 23.0, 22.0, 23.9, 19.1, 23.2, 24.2, 25.2, 23.5, 20.6, 20.9, 20.6, 18.1, 24.2, 24.8, 17.2, 13.2, 16.0, 18.1, 18.0, 16.6, 13.7, 15.4, 16.5, 18.4, 17.2, 16.8, 15.9, 10.7, 11.4, 11.8, 11.4, 6.5, 6.4, 5.8, 2.6, 3.5, 4.2, 8.1, 10.8, 4.7, 2.9, 7.3, 7.6, 9.5, 11.2, 8.1, 2.7, 3.1, 8.1, 8.1, 4.5, -0.4, 6.0, 4.6, -0.5, 5.4, 6.7, -2.5, -5.2, -4.4, -1.9, 0.9, -2.6, -2.3, 3.3, -1.0, -0.1, 4.6, 6.6, 8.7, 5.7, 0.6, -1.1, -2.6, 0.8, 6.0, 4.5, 3.3, 3.8, 1.8, -0.4, -0.7, 1.6, 2.9, 2.8, 4.0, -1.2, -4.8, -7.4, -5.4, -1.2, 5.4, 7.7, 6.8, 8.7, 4.5, 5.5, 6.9, 5.5, 4.0, -5.3, -10.7, -9.5, -10.7, -3.5, -1.2, -4.7, -0.8, 0.0, 1.2, 3.8, -2.1, -5.2, -5.1, -5.8, -1.6, 2.0, 6.1, 3.2, -2.2, -1.8, 4.3, 8.7, 4.0, 4.9, 1.4, 5.2, 6.8, 5.5, 4.4, 5.4, 8.6, 7.2, 7.9, 10.4, 6.9, 7.8, 3.0, 5.4, 16.2, 11.9, 11.4, 10.9, 10.7, 9.7, 9.6, 9.7, 12.2, 15.5, 18.8, 22.1, 16.6, 12.2, 14.0, 12.5, 10.4, 9.1, 5.3, 11.6, 12.5, 13.1, 16.9, 18.1, 20.0, 19.0, 21.1, 21.9, 20.1, 18.5, 23.7, 21.2, 18.2, 9.5, 8.6, 8.6, 7.9, 15.4, 21.9, 17.3, 19.6, 19.3, 14.8, 14.2, 18.8, 20.1, 19.3, 20.5, 26.3, 25.6, 21.0, 10.7, 16.1, 23.3, 22.1, 23.3, 21.7, 22.9, 25.0, 23.3, 19.7, 14.7, 20.0, 24.6, 20.7, 25.5, 22.9, 21.8, 21.4, 21.3, 16.1, 20.0, 24.5, 29.3, 24.4, 23.5, 19.3, 24.7, 22.6, 23.7, 23.2, 23.3, 23.7, 26.2, 29.6, 24.7, 29.1, 25.9, 24.7, 27.6, 30.2, 30.1, 30.8, 27.5, 29.2, 27.9, 29.4, 27.0, 30.1, 24.9, 23.9, 27.1, 27.0, 25.1, 27.0, 28.7, 27.5, 30.8, 27.2, 28.4, 28.7, 32.0, 28.9, 32.1, 32.9, 26.9, 25.5, 27.3, 29.1, 27.9, 22.8, 25.3, 32.6, 31.8, 29.0, 27.1, 29.2, 28.1, 24.2, 26.5, 29.5, 28.2, 30.9, 31.9, 33.2, 34.0, 32.1, 33.2, 34.1, 34.7, 36.9, 38.0, 35.7, 36.8, 34.1, 33.7, 35.4, 35.2, 36.7, 36.9, 38.3, 39.6, 37.9, 37.9, 34.9, 33.9, 35.3, 35.9, 35.3, 32.5, 36.8, 36.0, 35.3, 34.4, 37.2, 38.0, 35.6, 33.8, 32.1, 34.4, 33.3, 31.0, 37.6, 32.2, 26.3, 29.3, 29.0, 24.9, 26.1, 27.4, 28.2, 30.3, 30.9, 29.6, 25.8, 27.8, 28.5, 28.2, 25.5, 27.7, 28.9, 28.4, 26.1, 28.2, 28.3, 26.8, 26.0, 23.9, 27.7, 26.5, 26.6, 20.1, 21.9, 25.5, 25.3, 22.1, 24.3, 24.8, 25.0, 22.2, 27.0, 21.6, 19.7, 22.0, 24.2, 25.6, 19.0, 21.7, 21.1, 20.9, 19.8, 16.7, 13.9, 17.4, 19.8, 20.3, 21.0, 20.3, 18.6, 19.0, 20.4, 21.4, 21.1, 20.6, 16.9, 18.7, 21.2, 14.7, 11.6, 13.5, 11.7, 11.6, 12.6, 15.2, 19.0, 19.1, 19.4, 18.3, 17.5, 15.7, 14.7, 15.4, 17.1, 10.9, 15.1, 15.4, 16.6, 16.2, 14.5, 11.4, 10.7, 11.3, 12.7, 8.2, 7.1, 7.6, 3.8, 9.8, 13.6, 12.5, 11.1, 6.7, 8.0, 12.4, 11.8, 13.5, 11.8, 3.4, 6.8, -1.1, -4.4, -2.1, 4.6, 2.9, 2.4, 2.1, 0.6, 3.2, 2.1, 5.9, 7.4, 9.5, 10.4, 9.8, 12.4, 7.5, 3.1, 5.2, 3.0, -6.5, -6.6, -3.0, -0.9, -0.5, -0.6, 0.2, 3.2, 4.1, 1.1, 2.7, 3.1, 0.5, 1.3, 3.0, 7.2, 8.0, 7.6, 5.3, 2.6, -1.1, 4.0, 6.7, 8.5, 4.0, 4.2, 7.1, 7.0, 6.5, 2.6, 2.4, 5.1, 4.5, 7.0, 6.6, 2.3, 2.8, 6.1, 4.9, 3.0, 10.1, 9.3, 6.3, -1.3, -1.9, -1.9, 2.0, 3.7, 2.5, 6.3, 0.9, 1.5, 4.6, 5.9, 3.0, 4.5, 9.0, 10.8, 14.5, 13.7, 10.2, 12.0, 14.0, 12.8, 13.0, 14.7, 16.1, 16.3, 12.9, 12.4, 12.7, 13.4, 14.9, 15.3, 10.0, 7.9, 8.5, 10.0, 11.3, 9.2, 12.4, 14.4, 16.7, 14.6, 11.1, 8.3, 8.2, 9.7, 11.5, 17.6, 16.2, 14.6, 15.1, 8.4, 8.4, 11.3, 13.0, 13.6, 15.7, 17.2, 12.2, 20.3, 17.2, 13.9, 10.2, 15.7, 18.4, 17.9, 13.6, 18.1, 22.6, 21.8, 16.2, 19.7, 19.1, 20.2, 28.2, 25.5, 25.9, 17.2, 9.9, 18.2, 16.6, 17.3, 22.5, 22.2, 25.3, 26.1, 27.4, 26.5, 19.8, 21.9, 21.3, 22.9, 26.8, 28.3, 28.9, 22.8, 26.9, 28.0, 30.0, 28.3, 25.9, 21.6, 20.2, 23.8, 26.5, 29.2, 33.4, 28.6, 31.1, 22.3, 24.6, 26.5, 24.5, 23.3, 23.7, 27.8, 29.5, 29.0, 29.6, 25.1, 24.7, 27.6, 26.5, 21.9, 26.1, 26.4, 28.8, 28.4, 27.4, 27.2, 26.2, 24.8, 25.4, 27.8, 26.1, 30.6, 31.0, 30.9, 32.8, 29.5, 31.2, 29.0, 27.7, 28.5, 28.9, 30.1, 27.4, 32.8, 35.0, 36.1, 32.5, 31.0, 30.0, 27.3, 25.9, 28.7, 29.7, 31.6, 27.4, 28.8, 29.2, 32.1, 35.0, 31.9, 27.0, 31.0, 32.9, 27.2, 27.4, 25.9, 33.4, 28.2, 30.0, 30.8, 27.5, 30.1, 33.1, 36.0, 34.4, 35.9, 36.8, 30.3, 32.7, 34.6, 36.5, 35.7, 28.5, 35.3, 35.7, 28.6, 29.5, 28.8, 30.7, 31.3, 32.8, 30.4, 31.4, 30.5, 27.3, 29.9, 32.1, 29.3, 30.2, 26.4, 27.0, 28.9, 27.8, 29.7, 28.0, 25.5, 27.6, 29.1, 29.5, 27.3, 28.0, 26.5, 28.7, 22.9, 29.3, 24.1, 30.0, 30.5, 29.0, 25.4, 26.0, 24.2, 22.1, 19.6, 24.6, 26.5, 27.4, 29.0, 27.0, 29.2, 28.6, 29.9, 28.2, 24.2, 27.3, 27.8, 21.9, 22.7, 17.9, 19.8, 20.4, 19.8, 26.1, 23.3, 23.8, 19.6, 20.4, 20.8, 21.6, 22.7, 23.1, 22.9, 24.6, 24.4, 20.7, 23.8, 22.0, 14.9, 17.4, 17.7, 17.6, 17.7, 19.7, 20.5, 18.7, 22.1, 20.3, 18.4, 16.5, 13.6, 13.0, 17.2, 15.3, 15.1, 14.5, 11.3, 5.0, 7.6, 12.7, 10.5, 12.7, 4.0, 6.3, 9.0, 17.3, 17.7, 15.6, 6.0, 13.7, 6.8, 10.4, 6.9, 9.3, 6.2, 2.8, 4.2, 7.2, -0.2, -1.0, 1.2, 4.9, 8.0, 10.8, 9.8, 3.4, 5.9, 6.4, 11.0, 12.9, 10.2, 5.2, 3.1, 2.0, 1.5, 8.4, 5.2, 6.5, 6.6, 4.1, 2.6, 6.1, 6.2, 6.8, -4.5, 0.3, 3.8, 4.6, 6.1, 6.6, 4.6, 7.7, 8.9, 2.0, 4.2, 3.9, 2.8, 0.2, 2.6, 2.2, 3.2, 4.9, 5.9, 5.3, 5.5, 5.5, 7.8, 9.9, 7.4, 8.8, 11.9, 7.5, 9.9, 9.6, 10.4, 8.9, 7.6, 5.3, 3.0, 3.9, -4.9, 0.4, 2.2, 3.7, 4.1, 9.6, 14.6, 8.2, 8.7, 14.7, 15.6, 7.7, -3.9, 1.3, 6.4, 10.8, 10.9, 7.9, 8.0, 12.2, 9.4, 10.4, 12.5, 5.9, 13.0, 10.1, 7.6, 10.5, 4.6, 6.3, 10.1, 14.2, 16.9, 17.6, 10.8, 8.3, 13.3, 8.7, 8.6, 8.5, 9.1, 12.3, 17.0, 12.1, 14.0, 19.5, 16.5, 17.0, 17.9, 19.2, 20.6, 15.8, 12.8, 16.1, 16.9, 18.6, 17.4, 15.5, 16.3, 13.3, 13.7, 16.1, 16.8, 14.2, 14.7, 16.8, 16.0, 15.6, 20.4, 19.6, 20.2, 23.8, 15.4, 19.6, 15.5, 13.1, 10.4, 8.3, 12.8, 14.3, 17.1, 19.0, 18.3, 19.9, 21.0, 23.4, 26.2, 23.9, 27.4, 25.3, 19.3, 27.6, 26.5, 27.3, 16.8, 16.6, 22.0, 18.9, 21.8, 25.4, 20.2, 20.3, 24.9, 26.8, 17.1, 20.1, 22.9, 22.7, 25.0, 20.2, 21.3, 22.9, 23.9, 23.4, 27.6, 30.0, 28.0, 24.5, 21.8, 28.4, 26.5, 28.7, 30.9, 29.2, 32.0, 32.8, 32.1, 31.6, 27.6, 33.5, 28.8, 28.6, 30.7, 30.3, 27.3, 30.0, 29.7, 32.7, 35.4, 31.0, 26.3, 23.4, 25.7, 29.6, 30.1, 26.5, 23.1, 24.3, 29.8, 30.6, 29.5, 27.6, 30.9, 28.1, 30.4, 32.9, 27.7, 30.2, 26.0, 21.7, 24.3, 28.7, 29.7, 31.6, 31.0, 26.6, 26.6, 30.5, 25.7, 22.6, 26.8, 29.0, 29.6, 25.5, 26.4, 24.9, 28.4, 29.6, 26.9, 26.4, 26.3, 29.4, 29.1, 26.0, 26.1, 26.1, 25.8, 29.5, 27.3, 31.3, 30.3, 28.0, 27.0, 30.8, 32.2, 31.9, 31.4, 31.7, 29.2, 27.6, 29.9, 32.0, 34.5, 34.5, 28.6, 29.7, 29.0, 30.6, 30.0, 29.5, 26.4, 25.6, 27.5, 27.3, 24.4, 20.6, 26.5, 25.3, 27.0, 27.1, 23.2, 26.6, 24.9, 27.7, 24.9, 23.6, 25.8, 26.2, 24.9, 25.3, 25.6, 23.8, 25.4, 25.4, 24.8, 25.8, 26.5, 23.9, 25.7, 23.6, 21.9, 23.2, 21.8, 18.4, 19.7, 22.0, 23.1, 23.3, 21.5, 20.8, 21.3, 18.4, 18.0, 18.5, 15.4, 18.6, 20.2, 21.3, 21.7, 17.3, 18.2, 13.3, 14.0, 18.2, 19.0, 19.4, 18.2, 16.1, 19.6, 18.2, 15.0, 15.6, 8.6, 10.8, 15.9, 17.2, 18.1, 12.4, 8.9, 12.9, 16.5, 17.7, 17.6, 19.3, 14.9, 18.3, 20.0, 18.7, 19.1, 7.0, 12.8, 9.1, 5.9, 6.4, 9.5, 10.9, 7.7, 2.8, 2.6, 4.3, 6.7, 6.1, 4.2, 4.4, 6.6, 9.1, 6.3, 4.1, 6.2, 9.3, 9.4, 6.1, 2.0, -5.0, -4.6, -3.9, 0.8, 1.8, -1.2, 1.1, 4.7, 7.2, 8.5, 6.1, 3.5, 8.0, 10.0, 11.4, 4.3, -6.2, -5.0, 1.6, -1.4, -2.0, 0.3, -2.1, -1.9, -8.4, -10.7, -7.5, -2.7, -4.0, -0.5, 8.3, 7.0, 9.9, -0.7, -1.3, 0.2, -0.2, 7.1, 7.0, 6.6, 12.2, 13.9, 13.9, 7.4, 6.5, 1.4, -4.9, 5.2, 8.7, 9.5, -2.4, 1.4, 0.7, 6.7, 9.5, 7.7, 0.2, 4.7, 7.2, 10.9, 14.0, 15.9, 13.8, 8.2, -1.3, -5.2, -0.4, 8.9, 14.9, 17.4, 12.6, 4.3, 10.1, 8.2, 15.8, 16.2, 10.8, 9.0, 6.9, 9.9, 13.0, 16.2, 11.6, 12.2, 13.9, 12.2, 17.1, 17.1, 14.9, 14.2, 14.7, 15.7, 13.1, 17.5, 18.4, 20.2, 14.7, 8.6, 11.1, 16.4, 16.9, 19.0, 20.6, 15.0, 13.0, 14.6, 18.2, 22.9, 24.0, 23.0, 18.0, 15.8, 19.3, 19.2, 20.4, 18.0, 19.6, 18.8, 21.8, 17.8, 13.5, 13.3, 18.3, 14.8, 14.6, 15.3, 19.4, 22.0, 28.2, 27.5, 21.7, 22.2, 24.0, 20.6, 20.0, 18.2, 20.1, 14.6, 15.3, 18.7, 20.3, 15.8, 18.4, 23.1, 17.2, 21.0, 21.8, 14.6, 25.7, 27.7, 29.6, 30.8, 26.2, 20.8, 16.7, 24.5, 26.6, 22.9, 18.2, 23.8, 25.1, 24.5, 19.3, 23.0, 18.7, 19.7, 19.1, 26.3, 23.8, 23.9, 29.7, 22.7, 23.6, 25.7, 28.2, 24.0, 29.5, 31.6, 29.8, 24.4, 30.2, 29.7, 30.2, 25.3, 28.9, 25.0, 21.4, 27.4, 29.0, 28.5, 28.6, 27.9, 28.0, 29.5, 26.7, 30.8, 29.2, 28.4, 28.8, 31.0, 31.8, 25.7, 23.1, 26.9, 30.1, 29.1, 29.8, 29.2, 29.2, 27.5, 32.5, 31.5, 33.5, 34.5, 35.2, 32.8, 34.1, 30.5, 31.8, 35.3, 35.9, 35.8, 36.5, 35.9, 35.4, 35.7, 34.7, 33.3, 35.4, 34.3, 28.8, 28.6, 31.4, 33.2, 33.7, 32.2, 32.3, 32.1, 33.6, 32.2, 31.6, 31.7, 30.1, 30.5, 32.4, 32.8, 31.3, 31.0, 31.5, 30.7, 25.5, 27.0, 24.0, 26.4, 27.3, 27.9, 25.5, 28.2, 26.3, 27.7, 23.1, 23.9, 26.7, 29.2, 28.6, 27.3, 26.4, 20.9, 26.9, 29.1, 28.9, 29.4, 29.8, 30.3, 29.5, 28.9, 27.3, 28.2, 29.8, 27.8, 28.4, 26.2, 24.3, 25.9, 26.9, 23.1, 27.3, 25.0, 24.4, 21.4, 25.9, 27.5, 26.6, 28.8, 25.6, 26.5, 21.7, 21.9, 20.0, 24.1, 24.3, 17.8, 21.3, 25.2, 23.9, 21.4, 18.1, 10.8, 16.1, 15.0, 15.8, 16.2, 17.2, 18.4, 18.1, 17.6, 19.0, 18.1, 20.0, 20.6, 18.0, 20.3, 16.9, 16.9, 17.1, 16.3, 20.2, 21.3, 21.3, 15.5, 6.5, 7.7, 9.7, 8.6, 13.4, 16.4, 15.7, 13.6, 12.5, 16.2, 16.7, 15.6, 13.1, 7.5, 2.3, 9.1, 9.9, 7.2, 10.1, 12.4, 13.7, 8.9, 1.5, 5.0, 4.6, 7.0, 9.6, 12.1, 13.3, 13.3, 9.7, 8.2, 9.8, 5.1, 1.9, 8.2, 10.0, 9.8, 3.2, -1.8, 4.2, 11.1, 8.9, 8.2, 8.3, 3.2, -7.3, -7.3, -3.9, -0.9, 5.9, 0.2, -3.9, 2.3, 3.0, 2.5, 1.0, 1.9, 3.3, 4.5, 3.7, 5.6, 4.4, 0.3, -3.4, -3.1, 1.3, 1.8, 2.4, 0.1, -0.7, -2.7, 0.9, 4.6, 7.1, 6.7, 8.4, 4.5, 6.8, 4.0, 2.1, 0.9, 2.4, 4.8, 0.9, 0.0, 0.4, -0.7, -2.0, 1.7, 1.9, 5.6, 7.2, 6.7, 8.8, 10.4, 9.5, 8.1, -1.3, -4.1, -0.5, 5.7, 3.7, -0.5, 3.6, 0.5, -0.6, 3.7, 8.4, 9.3, 9.1, 11.5, 9.7, 8.8, 12.4, 14.6, 6.7, 6.8, 8.7, 12.3, 14.8, 15.8, 18.4, 19.5, 12.6, 13.2, 13.3, 16.8, 15.1, 9.6, 6.1, 9.3, 10.9, 13.6, 8.2, 12.4, 17.2, 14.7, 12.6, 15.1, 15.6, 15.7, 14.7, 14.9, 14.2, 17.0, 16.4, 15.8, 17.0, 15.7, 20.0, 24.2, 25.1, 26.6, 26.4, 15.9, 15.3, 19.3, 20.2, 21.9, 21.6, 22.1, 22.1, 22.7, 16.8, 25.3, 24.5, 23.6, 28.7, 23.9, 25.9, 16.5, 17.8, 19.2, 19.4, 20.8, 25.2, 25.8, 25.6, 23.1, 18.2, 25.3, 26.3, 25.2, 28.1, 25.2, 20.0, 22.4, 23.7, 27.4, 25.4, 24.2, 25.8, 26.0, 25.8, 30.7, 30.2, 26.7, 23.5, 25.6, 29.3, 29.7, 24.7, 27.2, 28.6, 26.9, 32.6, 29.7, 27.0, 24.5, 25.1, 25.8, 24.5, 26.6, 32.7, 31.5, 29.2, 27.1, 20.1, 24.8, 28.1, 25.1, 25.1, 29.0, 32.6, 31.0, 26.4, 24.9, 30.5, 28.1, 28.1, 27.9, 26.1, 24.5, 30.9, 33.8, 34.2, 32.6, 33.1, 33.3, 31.0, 27.9, 30.9, 35.1, 30.6, 29.4, 27.1, 29.9, 30.3, 28.2, 29.7, 30.1, 31.1, 30.4, 25.2, 27.5, 28.0, 28.4, 32.0, 33.1, 33.4, 34.4, 34.3, 36.1, 29.0, 32.4, 28.5, 30.0, 32.9, 32.7, 30.3, 31.7, 28.4, 26.5, 28.8, 27.5, 32.4, 27.5, 31.5, 29.8, 30.0, 30.5, 29.8, 27.5, 32.0, 32.0, 30.2, 30.2, 27.9, 24.0, 28.4, 25.5, 28.4, 22.5, 20.3, 24.9, 30.4, 29.8, 29.2, 24.0, 22.7, 26.3, 28.1, 29.5, 30.8, 28.4, 26.4, 27.5, 26.4, 27.9, 28.3, 29.9, 29.4, 32.5, 29.6, 24.6, 25.6, 24.7, 22.2, 24.2, 25.2, 25.4, 28.0, 26.1, 26.5, 27.7, 27.6, 21.6, 23.4, 23.0, 21.6, 19.1, 18.6, 21.6, 14.5, 11.9, 16.4, 20.6, 22.7, 23.0, 24.4, 20.5, 15.1, 14.2, 16.8, 19.7, 20.9, 20.8, 18.6, 14.8, 17.6, 17.8, 18.9, 20.6, 21.3, 21.3, 21.1, 17.8, 17.9, 13.4, 9.8, 13.6, 16.4, 16.6, 17.9, 16.0]\n"
          ]
        },
        {
          "output_type": "execute_result",
          "data": {
            "text/plain": [
              "40854"
            ]
          },
          "metadata": {},
          "execution_count": 23
        }
      ]
    },
    {
      "cell_type": "code",
      "source": [
        "import csv\n",
        "import matplotlib.pyplot as plt\n",
        " \n",
        "f = open('기상데이터.csv',encoding='cp949')\n",
        "data = csv.reader(f)\n",
        "next(data)\n",
        "high = []    # 최고 기온 값을 저장할 리스트 high 생성\n",
        "low = []     # 최저 기온 값을 저장할 리스트 low 생성\n",
        " \n",
        "for row in data :\n",
        "    if row[-1] != '' and row[-2] != '' : # 최고 기온 값과 최저 기온 값이 존재한다면\n",
        "        if 2000 <= int(row[0].split('-')[0]) :  # 1983년 이후 데이터라면\n",
        "            if row[0].split('-')[1] == '02' and row[0].split('-')[2] == '14' :\n",
        "                                            # 2월 14일이라면\n",
        "                high.append(float(row[-1])) # 최고 기온 값을 high 리스트에 저장\n",
        "                low.append(float(row[-2]))  # 최저 기온 값을 low 리스트에 저장\n",
        " \n",
        "plt.plot(high, 'hotpink')  # high 리스트에 저장된 값을 hotpink 색으로 그리기\n",
        "plt.plot(low, 'skyblue')   # low 리스트에 저장된 값을 skyblue 색으로 그리기\n",
        "plt.show()                 # 그래프 나타내기"
      ],
      "metadata": {
        "colab": {
          "base_uri": "https://localhost:8080/",
          "height": 265
        },
        "id": "nHmGJxF0PA_3",
        "outputId": "f4bc593b-c67c-49ee-efd2-80dd7983ac97"
      },
      "execution_count": null,
      "outputs": [
        {
          "output_type": "display_data",
          "data": {
            "text/plain": [
              "<Figure size 432x288 with 1 Axes>"
            ],
            "image/png": "[encoded data removed]"
          },
          "metadata": {
            "needs_background": "light"
          }
        }
      ]
    },
    {
      "cell_type": "code",
      "source": [
        "plt.rc('font', family ='Malgun Gothic')\n",
        "plt.title('내 생일의 기온 변화 그래프')"
      ],
      "metadata": {
        "colab": {
          "base_uri": "https://localhost:8080/",
          "height": 1000
        },
        "id": "oDowRrzPRJ3h",
        "outputId": "5676b00b-0349-4f4f-a920-989edccb72bf"
      },
      "execution_count": null,
      "outputs": [
        {
          "output_type": "execute_result",
          "data": {
            "text/plain": [
              "Text(0.5, 1.0, '내 생일의 기온 변화 그래프')"
            ]
          },
          "metadata": {},
          "execution_count": 2
        },
        {
          "output_type": "stream",
          "name": "stderr",
          "text": [
            "/usr/local/lib/python3.7/dist-packages/matplotlib/backends/backend_agg.py:214: RuntimeWarning: Glyph 45236 missing from current font.\n",
            "  font.set_text(s, 0.0, flags=flags)\n",
            "/usr/local/lib/python3.7/dist-packages/matplotlib/backends/backend_agg.py:214: RuntimeWarning: Glyph 49373 missing from current font.\n",
            "  font.set_text(s, 0.0, flags=flags)\n",
            "/usr/local/lib/python3.7/dist-packages/matplotlib/backends/backend_agg.py:214: RuntimeWarning: Glyph 51068 missing from current font.\n",
            "  font.set_text(s, 0.0, flags=flags)\n",
            "/usr/local/lib/python3.7/dist-packages/matplotlib/backends/backend_agg.py:214: RuntimeWarning: Glyph 51032 missing from current font.\n",
            "  font.set_text(s, 0.0, flags=flags)\n",
            "/usr/local/lib/python3.7/dist-packages/matplotlib/backends/backend_agg.py:214: RuntimeWarning: Glyph 44592 missing from current font.\n",
            "  font.set_text(s, 0.0, flags=flags)\n",
            "/usr/local/lib/python3.7/dist-packages/matplotlib/backends/backend_agg.py:214: RuntimeWarning: Glyph 50728 missing from current font.\n",
            "  font.set_text(s, 0.0, flags=flags)\n",
            "/usr/local/lib/python3.7/dist-packages/matplotlib/backends/backend_agg.py:214: RuntimeWarning: Glyph 48320 missing from current font.\n",
            "  font.set_text(s, 0.0, flags=flags)\n",
            "/usr/local/lib/python3.7/dist-packages/matplotlib/backends/backend_agg.py:214: RuntimeWarning: Glyph 54868 missing from current font.\n",
            "  font.set_text(s, 0.0, flags=flags)\n",
            "/usr/local/lib/python3.7/dist-packages/matplotlib/backends/backend_agg.py:214: RuntimeWarning: Glyph 44536 missing from current font.\n",
            "  font.set_text(s, 0.0, flags=flags)\n",
            "/usr/local/lib/python3.7/dist-packages/matplotlib/backends/backend_agg.py:214: RuntimeWarning: Glyph 47000 missing from current font.\n",
            "  font.set_text(s, 0.0, flags=flags)\n",
            "/usr/local/lib/python3.7/dist-packages/matplotlib/backends/backend_agg.py:214: RuntimeWarning: Glyph 54532 missing from current font.\n",
            "  font.set_text(s, 0.0, flags=flags)\n",
            "/usr/local/lib/python3.7/dist-packages/matplotlib/backends/backend_agg.py:183: RuntimeWarning: Glyph 45236 missing from current font.\n",
            "  font.set_text(s, 0, flags=flags)\n",
            "/usr/local/lib/python3.7/dist-packages/matplotlib/backends/backend_agg.py:183: RuntimeWarning: Glyph 49373 missing from current font.\n",
            "  font.set_text(s, 0, flags=flags)\n",
            "/usr/local/lib/python3.7/dist-packages/matplotlib/backends/backend_agg.py:183: RuntimeWarning: Glyph 51068 missing from current font.\n",
            "  font.set_text(s, 0, flags=flags)\n",
            "/usr/local/lib/python3.7/dist-packages/matplotlib/backends/backend_agg.py:183: RuntimeWarning: Glyph 51032 missing from current font.\n",
            "  font.set_text(s, 0, flags=flags)\n",
            "/usr/local/lib/python3.7/dist-packages/matplotlib/backends/backend_agg.py:183: RuntimeWarning: Glyph 44592 missing from current font.\n",
            "  font.set_text(s, 0, flags=flags)\n",
            "/usr/local/lib/python3.7/dist-packages/matplotlib/backends/backend_agg.py:183: RuntimeWarning: Glyph 50728 missing from current font.\n",
            "  font.set_text(s, 0, flags=flags)\n",
            "/usr/local/lib/python3.7/dist-packages/matplotlib/backends/backend_agg.py:183: RuntimeWarning: Glyph 48320 missing from current font.\n",
            "  font.set_text(s, 0, flags=flags)\n",
            "/usr/local/lib/python3.7/dist-packages/matplotlib/backends/backend_agg.py:183: RuntimeWarning: Glyph 54868 missing from current font.\n",
            "  font.set_text(s, 0, flags=flags)\n",
            "/usr/local/lib/python3.7/dist-packages/matplotlib/backends/backend_agg.py:183: RuntimeWarning: Glyph 44536 missing from current font.\n",
            "  font.set_text(s, 0, flags=flags)\n",
            "/usr/local/lib/python3.7/dist-packages/matplotlib/backends/backend_agg.py:183: RuntimeWarning: Glyph 47000 missing from current font.\n",
            "  font.set_text(s, 0, flags=flags)\n",
            "/usr/local/lib/python3.7/dist-packages/matplotlib/backends/backend_agg.py:183: RuntimeWarning: Glyph 54532 missing from current font.\n",
            "  font.set_text(s, 0, flags=flags)\n"
          ]
        },
        {
          "output_type": "display_data",
          "data": {
            "text/plain": [
              "<Figure size 432x288 with 1 Axes>"
            ],
            "image/png": "[encoded data removed]"
          },
          "metadata": {
            "needs_background": "light"
          }
        }
      ]
    },
    {
      "cell_type": "code",
      "source": [
        "plt.rcParams['axes.unicode_minus'] = False"
      ],
      "metadata": {
        "id": "zqVjpzeZRO7y"
      },
      "execution_count": null,
      "outputs": []
    },
    {
      "cell_type": "markdown",
      "source": [
        "###**생일 기온 표시하기**"
      ],
      "metadata": {
        "id": "3nBPHSlkTXWL"
      }
    },
    {
      "cell_type": "code",
      "source": [
        "!sudo apt-get install -y fonts-nanum\n",
        "!sudo fc-cache -fv\n",
        "!rm ~/.cache/matplotlib -rf"
      ],
      "metadata": {
        "colab": {
          "base_uri": "https://localhost:8080/"
        },
        "id": "9gQnm6qpTjUc",
        "outputId": "fd53cc7b-5e84-4c8c-a9d5-dcfa8ed1d162"
      },
      "execution_count": null,
      "outputs": [
        {
          "output_type": "stream",
          "name": "stdout",
          "text": [
            "Reading package lists... Done\n",
            "Building dependency tree       \n",
            "Reading state information... Done\n",
            "fonts-nanum is already the newest version (20170925-1).\n",
            "The following package was automatically installed and is no longer required:\n",
            "  libnvidia-common-460\n",
            "Use 'sudo apt autoremove' to remove it.\n",
            "0 upgraded, 0 newly installed, 0 to remove and 5 not upgraded.\n",
            "/usr/share/fonts: caching, new cache contents: 0 fonts, 1 dirs\n",
            "/usr/share/fonts/truetype: caching, new cache contents: 0 fonts, 3 dirs\n",
            "/usr/share/fonts/truetype/humor-sans: caching, new cache contents: 1 fonts, 0 dirs\n",
            "/usr/share/fonts/truetype/liberation: caching, new cache contents: 16 fonts, 0 dirs\n",
            "/usr/share/fonts/truetype/nanum: caching, new cache contents: 10 fonts, 0 dirs\n",
            "/usr/local/share/fonts: caching, new cache contents: 0 fonts, 0 dirs\n",
            "/root/.local/share/fonts: skipping, no such directory\n",
            "/root/.fonts: skipping, no such directory\n",
            "/var/cache/fontconfig: cleaning cache directory\n",
            "/root/.cache/fontconfig: not cleaning non-existent cache directory\n",
            "/root/.fontconfig: not cleaning non-existent cache directory\n",
            "fc-cache: succeeded\n"
          ]
        }
      ]
    },
    {
      "cell_type": "code",
      "source": [
        "import matplotlib.pyplot as plt\n",
        "\n",
        "plt.rc('font', family='NanumBarunGothic')"
      ],
      "metadata": {
        "id": "pDvLDXwPTl6E"
      },
      "execution_count": null,
      "outputs": []
    },
    {
      "cell_type": "code",
      "source": [
        "plt.rc('font', family ='Malgun Gothic')\n",
        "plt.title('내 생일의 기온 변화 그래프')"
      ],
      "metadata": {
        "colab": {
          "base_uri": "https://localhost:8080/",
          "height": 1000
        },
        "id": "TVXcgtiKWaVH",
        "outputId": "991692e5-e5f7-44e8-f2a9-2ce3d6aa9252"
      },
      "execution_count": null,
      "outputs": [
        {
          "output_type": "execute_result",
          "data": {
            "text/plain": [
              "Text(0.5, 1.0, '내 생일의 기온 변화 그래프')"
            ]
          },
          "metadata": {},
          "execution_count": 2
        },
        {
          "output_type": "stream",
          "name": "stderr",
          "text": [
            "WARNING:matplotlib.font_manager:findfont: Font family ['Malgun Gothic'] not found. Falling back to DejaVu Sans.\n",
            "/usr/local/lib/python3.7/dist-packages/matplotlib/backends/backend_agg.py:214: RuntimeWarning: Glyph 45236 missing from current font.\n",
            "  font.set_text(s, 0.0, flags=flags)\n",
            "/usr/local/lib/python3.7/dist-packages/matplotlib/backends/backend_agg.py:214: RuntimeWarning: Glyph 49373 missing from current font.\n",
            "  font.set_text(s, 0.0, flags=flags)\n",
            "/usr/local/lib/python3.7/dist-packages/matplotlib/backends/backend_agg.py:214: RuntimeWarning: Glyph 51068 missing from current font.\n",
            "  font.set_text(s, 0.0, flags=flags)\n",
            "/usr/local/lib/python3.7/dist-packages/matplotlib/backends/backend_agg.py:214: RuntimeWarning: Glyph 51032 missing from current font.\n",
            "  font.set_text(s, 0.0, flags=flags)\n",
            "/usr/local/lib/python3.7/dist-packages/matplotlib/backends/backend_agg.py:214: RuntimeWarning: Glyph 44592 missing from current font.\n",
            "  font.set_text(s, 0.0, flags=flags)\n",
            "/usr/local/lib/python3.7/dist-packages/matplotlib/backends/backend_agg.py:214: RuntimeWarning: Glyph 50728 missing from current font.\n",
            "  font.set_text(s, 0.0, flags=flags)\n",
            "/usr/local/lib/python3.7/dist-packages/matplotlib/backends/backend_agg.py:214: RuntimeWarning: Glyph 48320 missing from current font.\n",
            "  font.set_text(s, 0.0, flags=flags)\n",
            "/usr/local/lib/python3.7/dist-packages/matplotlib/backends/backend_agg.py:214: RuntimeWarning: Glyph 54868 missing from current font.\n",
            "  font.set_text(s, 0.0, flags=flags)\n",
            "/usr/local/lib/python3.7/dist-packages/matplotlib/backends/backend_agg.py:214: RuntimeWarning: Glyph 44536 missing from current font.\n",
            "  font.set_text(s, 0.0, flags=flags)\n",
            "/usr/local/lib/python3.7/dist-packages/matplotlib/backends/backend_agg.py:214: RuntimeWarning: Glyph 47000 missing from current font.\n",
            "  font.set_text(s, 0.0, flags=flags)\n",
            "/usr/local/lib/python3.7/dist-packages/matplotlib/backends/backend_agg.py:214: RuntimeWarning: Glyph 54532 missing from current font.\n",
            "  font.set_text(s, 0.0, flags=flags)\n",
            "WARNING:matplotlib.font_manager:findfont: Font family ['Malgun Gothic'] not found. Falling back to DejaVu Sans.\n",
            "/usr/local/lib/python3.7/dist-packages/matplotlib/backends/backend_agg.py:183: RuntimeWarning: Glyph 45236 missing from current font.\n",
            "  font.set_text(s, 0, flags=flags)\n",
            "/usr/local/lib/python3.7/dist-packages/matplotlib/backends/backend_agg.py:183: RuntimeWarning: Glyph 49373 missing from current font.\n",
            "  font.set_text(s, 0, flags=flags)\n",
            "/usr/local/lib/python3.7/dist-packages/matplotlib/backends/backend_agg.py:183: RuntimeWarning: Glyph 51068 missing from current font.\n",
            "  font.set_text(s, 0, flags=flags)\n",
            "/usr/local/lib/python3.7/dist-packages/matplotlib/backends/backend_agg.py:183: RuntimeWarning: Glyph 51032 missing from current font.\n",
            "  font.set_text(s, 0, flags=flags)\n",
            "/usr/local/lib/python3.7/dist-packages/matplotlib/backends/backend_agg.py:183: RuntimeWarning: Glyph 44592 missing from current font.\n",
            "  font.set_text(s, 0, flags=flags)\n",
            "/usr/local/lib/python3.7/dist-packages/matplotlib/backends/backend_agg.py:183: RuntimeWarning: Glyph 50728 missing from current font.\n",
            "  font.set_text(s, 0, flags=flags)\n",
            "/usr/local/lib/python3.7/dist-packages/matplotlib/backends/backend_agg.py:183: RuntimeWarning: Glyph 48320 missing from current font.\n",
            "  font.set_text(s, 0, flags=flags)\n",
            "/usr/local/lib/python3.7/dist-packages/matplotlib/backends/backend_agg.py:183: RuntimeWarning: Glyph 54868 missing from current font.\n",
            "  font.set_text(s, 0, flags=flags)\n",
            "/usr/local/lib/python3.7/dist-packages/matplotlib/backends/backend_agg.py:183: RuntimeWarning: Glyph 44536 missing from current font.\n",
            "  font.set_text(s, 0, flags=flags)\n",
            "/usr/local/lib/python3.7/dist-packages/matplotlib/backends/backend_agg.py:183: RuntimeWarning: Glyph 47000 missing from current font.\n",
            "  font.set_text(s, 0, flags=flags)\n",
            "/usr/local/lib/python3.7/dist-packages/matplotlib/backends/backend_agg.py:183: RuntimeWarning: Glyph 54532 missing from current font.\n",
            "  font.set_text(s, 0, flags=flags)\n"
          ]
        },
        {
          "output_type": "display_data",
          "data": {
            "text/plain": [
              "<Figure size 432x288 with 1 Axes>"
            ],
            "image/png": "[encoded data removed]"
          },
          "metadata": {
            "needs_background": "light"
          }
        }
      ]
    },
    {
      "cell_type": "code",
      "source": [
        "import csv\n",
        "import matplotlib.pyplot as plt\n",
        "f = open('기상데이터.csv',encoding='cp949')\n",
        "data = csv.reader(f)\n",
        "next(data)\n",
        "high = [] \n",
        "low = []   \n",
        "for row in data :\n",
        "    if row[-1] != '' and row[-2] != '' : \n",
        "        date = row[0].split('-')  \n",
        "        if 1983 <= int(date[0]) :  \n",
        "            if date[1] == '11' and date[2] == '20' : \n",
        "                high.append(float(row[-1])) \n",
        "                low.append(float(row[-2])) \n",
        "plt.rc('font', family='Malgun Gothic')     \n",
        " plt.title('내 생일의 기온 변화 그래프')      \n",
        "plt.plot(high, 'hotpink', label='high')\n",
        "plt.plot(low, 'skyblue', label='low')\n",
        "plt.legend()          \n",
        "plt.show()         \n"
      ],
      "metadata": {
        "colab": {
          "base_uri": "https://localhost:8080/",
          "height": 281
        },
        "id": "VKRbefsARRRZ",
        "outputId": "3c860454-a4bc-4083-874e-1886304b1c55"
      },
      "execution_count": null,
      "outputs": [
        {
          "output_type": "display_data",
          "data": {
            "text/plain": [
              "<Figure size 432x288 with 1 Axes>"
            ],
            "image/png": "[encoded data removed]"
          },
          "metadata": {
            "needs_background": "light"
          }
        }
      ]
    },
    {
      "cell_type": "markdown",
      "source": [
        "# **위 내용까지가 시험 범위 **"
      ],
      "metadata": {
        "id": "Q3WlI-3aYEfs"
      }
    },
    {
      "cell_type": "code",
      "source": [],
      "metadata": {
        "id": "twoxEHbhYIqT"
      },
      "execution_count": null,
      "outputs": []
    }
  ]
}